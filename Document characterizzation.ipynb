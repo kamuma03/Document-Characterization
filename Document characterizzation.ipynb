{
 "metadata": {
  "language_info": {
   "codemirror_mode": {
    "name": "ipython",
    "version": 3
   },
   "file_extension": ".py",
   "mimetype": "text/x-python",
   "name": "python",
   "nbconvert_exporter": "python",
   "pygments_lexer": "ipython3",
   "version": "3.8.6-final"
  },
  "orig_nbformat": 2,
  "kernelspec": {
   "name": "python3",
   "display_name": "Python 3",
   "language": "python"
  }
 },
 "nbformat": 4,
 "nbformat_minor": 2,
 "cells": [
  {
   "source": [
    "# Document Chracterizzation\n"
   ],
   "cell_type": "markdown",
   "metadata": {}
  },
  {
   "source": [
    "## Import of relevant libraries "
   ],
   "cell_type": "markdown",
   "metadata": {}
  },
  {
   "cell_type": "code",
   "execution_count": 40,
   "metadata": {},
   "outputs": [],
   "source": [
    "# Import of all the libraries used for the project\n",
    "import os\n",
    "import shutil\n",
    "import numpy as np\n",
    "import pandas as pd\n",
    "import requests\n",
    "from bs4 import BeautifulSoup\n",
    "import re\n",
    "from operator import itemgetter\n",
    "import plotly.graph_objects as go\n",
    "import spacy\n",
    "import sklearn\n",
    "from nltk.corpus import stopwords\n",
    "from nltk.corpus import wordnet\n",
    "import nltk\n",
    "from nltk.stem import WordNetLemmatizer \n",
    "from sklearn.feature_extraction.text import TfidfVectorizer\n",
    "from sklearn.model_selection import train_test_split\n",
    "from sklearn.metrics import multilabel_confusion_matrix, f1_score, accuracy_score, recall_score, plot_confusion_matrix\n",
    "from ray.tune.sklearn import TuneGridSearchCV, TuneSearchCV\n",
    "from sklearn.tree import DecisionTreeClassifier\n",
    "import matplotlib.pyplot as plt\n",
    "from sklearn.ensemble import RandomForestClassifier, AdaBoostClassifier\n",
    "from sklearn.svm import SVC\n",
    "from sklearn.naive_bayes import GaussianNB\n",
    "from sklearn.neural_network import MLPClassifier\n",
    "import torch.nn.functional as F \n",
    "import torch"
   ]
  },
  {
   "source": [
    "## Dataset import"
   ],
   "cell_type": "markdown",
   "metadata": {}
  },
  {
   "cell_type": "code",
   "execution_count": 2,
   "metadata": {},
   "outputs": [],
   "source": [
    "# Defined a simple scraper  to go through all the link, visit the page and copy all the txt in the paragraph tag of the HTML file\n",
    "\n",
    "def scraper(input):\n",
    "    # create an empty array\n",
    "    content = []\n",
    "\n",
    "    # for loop on all the links in the dataframe\n",
    "    for i in range(len(input[\"URL\"])):\n",
    "        url = input[\"URL\"][i]\n",
    "        # text = url\n",
    "        text = ' '\n",
    "\n",
    "        # check if actually the url is correct orr not\n",
    "        if not (url.startswith('https://') or url.startswith('http://')):\n",
    "            text += ' Link not good'\n",
    "            content.append(text) \n",
    "            continue\n",
    "        \n",
    "        # Request the url and copy of the HTMl \n",
    "        page = requests.get(url)\n",
    "        \n",
    "        # Check if the response is positive or not, if not set that page was not found \n",
    "        if page.status_code != 200:\n",
    "            text += ' Page not able to find'\n",
    "\n",
    "        # Else take the text from all the p tag of the HTML content  \n",
    "        else:\n",
    "            soup = BeautifulSoup(page.content, 'html.parser')\n",
    "            for p in soup.find_all('p'):\n",
    "                text = text + ' ' + p.text\n",
    "        \n",
    "        content.append(text) \n",
    "    return content"
   ]
  },
  {
   "cell_type": "code",
   "execution_count": 3,
   "metadata": {},
   "outputs": [
    {
     "output_type": "execute_result",
     "data": {
      "text/plain": [
       "                                                   URL              Class  \\\n",
       "0    https://issafrica.org/iss-today/time-to-tackle...  Analytical Report   \n",
       "1    http://www.understandingwar.org/backgrounder/r...  Analytical Report   \n",
       "2    http://www.understandingwar.org/backgrounder/r...  Analytical Report   \n",
       "3    http://www.understandingwar.org/backgrounder/w...  Analytical Report   \n",
       "4    http://www.understandingwar.org/backgrounder/r...  Analytical Report   \n",
       "..                                                 ...                ...   \n",
       "232  https://www.journalism.org/2019/03/26/for-loca...  Analytical Report   \n",
       "233  https://www.journalism.org/2017/10/02/covering...  Analytical Report   \n",
       "234  https://ctc.usma.edu/afghanistans-future-emira...  Analytical Report   \n",
       "235  https://ctc.usma.edu/back-into-the-shadows-the...  Analytical Report   \n",
       "236  https://ctc.usma.edu/stepping-out-from-the-sha...  Analytical Report   \n",
       "\n",
       "                                               Content  \n",
       "0      2020-11-25 On 26 September, hundreds of Mali...  \n",
       "1      By George Barros November 16, 2020 The Kreml...  \n",
       "2      By Ezgi Yazici November 13, 2020 Key Takeawa...  \n",
       "3      By Katherine Lawlor with Brandon Wallace Key...  \n",
       "4      By Isabel Ivanescu and Ezgi Yazici Key Takea...  \n",
       "..                                                 ...  \n",
       "232    Numbers, Facts and Trends Shaping Your World...  \n",
       "233    Numbers, Facts and Trends Shaping Your World...  \n",
       "234    Main Menu Seth G. Jones \\nShare via:\\n\\n\\n\\n...  \n",
       "235    Main Menu Michael Knights \\nShare via:\\n\\n\\n...  \n",
       "236    Main Menu Daniel Milton, Muhammad al-`Ubaydi...  \n",
       "\n",
       "[237 rows x 3 columns]"
      ],
      "text/html": "<div>\n<style scoped>\n    .dataframe tbody tr th:only-of-type {\n        vertical-align: middle;\n    }\n\n    .dataframe tbody tr th {\n        vertical-align: top;\n    }\n\n    .dataframe thead th {\n        text-align: right;\n    }\n</style>\n<table border=\"1\" class=\"dataframe\">\n  <thead>\n    <tr style=\"text-align: right;\">\n      <th></th>\n      <th>URL</th>\n      <th>Class</th>\n      <th>Content</th>\n    </tr>\n  </thead>\n  <tbody>\n    <tr>\n      <th>0</th>\n      <td>https://issafrica.org/iss-today/time-to-tackle...</td>\n      <td>Analytical Report</td>\n      <td>2020-11-25 On 26 September, hundreds of Mali...</td>\n    </tr>\n    <tr>\n      <th>1</th>\n      <td>http://www.understandingwar.org/backgrounder/r...</td>\n      <td>Analytical Report</td>\n      <td>By George Barros November 16, 2020 The Kreml...</td>\n    </tr>\n    <tr>\n      <th>2</th>\n      <td>http://www.understandingwar.org/backgrounder/r...</td>\n      <td>Analytical Report</td>\n      <td>By Ezgi Yazici November 13, 2020 Key Takeawa...</td>\n    </tr>\n    <tr>\n      <th>3</th>\n      <td>http://www.understandingwar.org/backgrounder/w...</td>\n      <td>Analytical Report</td>\n      <td>By Katherine Lawlor with Brandon Wallace Key...</td>\n    </tr>\n    <tr>\n      <th>4</th>\n      <td>http://www.understandingwar.org/backgrounder/r...</td>\n      <td>Analytical Report</td>\n      <td>By Isabel Ivanescu and Ezgi Yazici Key Takea...</td>\n    </tr>\n    <tr>\n      <th>...</th>\n      <td>...</td>\n      <td>...</td>\n      <td>...</td>\n    </tr>\n    <tr>\n      <th>232</th>\n      <td>https://www.journalism.org/2019/03/26/for-loca...</td>\n      <td>Analytical Report</td>\n      <td>Numbers, Facts and Trends Shaping Your World...</td>\n    </tr>\n    <tr>\n      <th>233</th>\n      <td>https://www.journalism.org/2017/10/02/covering...</td>\n      <td>Analytical Report</td>\n      <td>Numbers, Facts and Trends Shaping Your World...</td>\n    </tr>\n    <tr>\n      <th>234</th>\n      <td>https://ctc.usma.edu/afghanistans-future-emira...</td>\n      <td>Analytical Report</td>\n      <td>Main Menu Seth G. Jones \\nShare via:\\n\\n\\n\\n...</td>\n    </tr>\n    <tr>\n      <th>235</th>\n      <td>https://ctc.usma.edu/back-into-the-shadows-the...</td>\n      <td>Analytical Report</td>\n      <td>Main Menu Michael Knights \\nShare via:\\n\\n\\n...</td>\n    </tr>\n    <tr>\n      <th>236</th>\n      <td>https://ctc.usma.edu/stepping-out-from-the-sha...</td>\n      <td>Analytical Report</td>\n      <td>Main Menu Daniel Milton, Muhammad al-`Ubaydi...</td>\n    </tr>\n  </tbody>\n</table>\n<p>237 rows × 3 columns</p>\n</div>"
     },
     "metadata": {},
     "execution_count": 3
    }
   ],
   "source": [
    "## import the CSV file with the labels\n",
    "\n",
    "data_scraper = pd.read_csv('Document Characterisation Data.csv', sep=',')\n",
    "#print(len(data_scraper[\"URL\"]))\n",
    "\n",
    "# Calling the scraper function\n",
    "data = scraper(data_scraper)\n",
    "\n",
    "# Adding the scraped data into the Dataframe  \n",
    "data_scraper['Content'] = data\n",
    "data_scraper"
   ]
  },
  {
   "cell_type": "code",
   "execution_count": 4,
   "metadata": {},
   "outputs": [],
   "source": [
    "# Function to load the files from local drive into Pandas data frame\n",
    "\n",
    "def readFiles (src, fileClass):\n",
    "    src_files = os.listdir(src)\n",
    "    fileType = []\n",
    "    content = []\n",
    "    for i in range(len(src_files)):\n",
    "        fileType.append(fileClass)\n",
    "        glove_file = open(src + src_files[i], \"r\", encoding=\"utf8\")\n",
    "        glove_vectors_list = [word_and_vector.strip() for word_and_vector in glove_file.readlines()]\n",
    "        content.append(\" \".join(glove_vectors_list))\n",
    "    \n",
    "    columns = [\"URL\", \"Class\", \"Content\"]\n",
    "    df = pd.DataFrame(columns=columns)\n",
    "\n",
    "    df[\"URL\"] = src_files\n",
    "    df[\"Class\"] = fileType\n",
    "    df[\"Content\"] = content\n",
    "\n",
    "    return df\n"
   ]
  },
  {
   "cell_type": "code",
   "execution_count": 5,
   "metadata": {},
   "outputs": [
    {
     "output_type": "stream",
     "name": "stdout",
     "text": [
      "5725\n5725\n"
     ]
    },
    {
     "output_type": "execute_result",
     "data": {
      "text/plain": [
       "                                                   URL              Class  \\\n",
       "0    https://issafrica.org/iss-today/time-to-tackle...  Analytical Report   \n",
       "1    http://www.understandingwar.org/backgrounder/r...  Analytical Report   \n",
       "2    http://www.understandingwar.org/backgrounder/r...  Analytical Report   \n",
       "3    http://www.understandingwar.org/backgrounder/w...  Analytical Report   \n",
       "4    http://www.understandingwar.org/backgrounder/r...  Analytical Report   \n",
       "..                                                 ...                ...   \n",
       "413                                 int-rep-o-18-e.txt   Situation Report   \n",
       "414                                 int-rep-o-18-f.txt   Situation Report   \n",
       "415                                 int-rep-o-18-g.txt   Situation Report   \n",
       "416                                 int-rep-o-18-h.txt   Situation Report   \n",
       "417  Summary of Russian press for Wednesday 29 July...   Situation Report   \n",
       "\n",
       "                                               Content  \n",
       "0      2020-11-25 On 26 September, hundreds of Mali...  \n",
       "1      By George Barros November 16, 2020 The Kreml...  \n",
       "2      By Ezgi Yazici November 13, 2020 Key Takeawa...  \n",
       "3      By Katherine Lawlor with Brandon Wallace Key...  \n",
       "4      By Isabel Ivanescu and Ezgi Yazici Key Takea...  \n",
       "..                                                 ...  \n",
       "413  Deputies are investigating after an explosive ...  \n",
       "414  Residents at a Springfield apartment complex w...  \n",
       "415  Several handheld explosive devices were found ...  \n",
       "416  Boulder police taped off the U.S. Bank at Broa...  \n",
       "417  By BBC Monitoring  Khabarovsk protests  Newspa...  \n",
       "\n",
       "[418 rows x 3 columns]"
      ],
      "text/html": "<div>\n<style scoped>\n    .dataframe tbody tr th:only-of-type {\n        vertical-align: middle;\n    }\n\n    .dataframe tbody tr th {\n        vertical-align: top;\n    }\n\n    .dataframe thead th {\n        text-align: right;\n    }\n</style>\n<table border=\"1\" class=\"dataframe\">\n  <thead>\n    <tr style=\"text-align: right;\">\n      <th></th>\n      <th>URL</th>\n      <th>Class</th>\n      <th>Content</th>\n    </tr>\n  </thead>\n  <tbody>\n    <tr>\n      <th>0</th>\n      <td>https://issafrica.org/iss-today/time-to-tackle...</td>\n      <td>Analytical Report</td>\n      <td>2020-11-25 On 26 September, hundreds of Mali...</td>\n    </tr>\n    <tr>\n      <th>1</th>\n      <td>http://www.understandingwar.org/backgrounder/r...</td>\n      <td>Analytical Report</td>\n      <td>By George Barros November 16, 2020 The Kreml...</td>\n    </tr>\n    <tr>\n      <th>2</th>\n      <td>http://www.understandingwar.org/backgrounder/r...</td>\n      <td>Analytical Report</td>\n      <td>By Ezgi Yazici November 13, 2020 Key Takeawa...</td>\n    </tr>\n    <tr>\n      <th>3</th>\n      <td>http://www.understandingwar.org/backgrounder/w...</td>\n      <td>Analytical Report</td>\n      <td>By Katherine Lawlor with Brandon Wallace Key...</td>\n    </tr>\n    <tr>\n      <th>4</th>\n      <td>http://www.understandingwar.org/backgrounder/r...</td>\n      <td>Analytical Report</td>\n      <td>By Isabel Ivanescu and Ezgi Yazici Key Takea...</td>\n    </tr>\n    <tr>\n      <th>...</th>\n      <td>...</td>\n      <td>...</td>\n      <td>...</td>\n    </tr>\n    <tr>\n      <th>413</th>\n      <td>int-rep-o-18-e.txt</td>\n      <td>Situation Report</td>\n      <td>Deputies are investigating after an explosive ...</td>\n    </tr>\n    <tr>\n      <th>414</th>\n      <td>int-rep-o-18-f.txt</td>\n      <td>Situation Report</td>\n      <td>Residents at a Springfield apartment complex w...</td>\n    </tr>\n    <tr>\n      <th>415</th>\n      <td>int-rep-o-18-g.txt</td>\n      <td>Situation Report</td>\n      <td>Several handheld explosive devices were found ...</td>\n    </tr>\n    <tr>\n      <th>416</th>\n      <td>int-rep-o-18-h.txt</td>\n      <td>Situation Report</td>\n      <td>Boulder police taped off the U.S. Bank at Broa...</td>\n    </tr>\n    <tr>\n      <th>417</th>\n      <td>Summary of Russian press for Wednesday 29 July...</td>\n      <td>Situation Report</td>\n      <td>By BBC Monitoring  Khabarovsk protests  Newspa...</td>\n    </tr>\n  </tbody>\n</table>\n<p>418 rows × 3 columns</p>\n</div>"
     },
     "metadata": {},
     "execution_count": 5
    }
   ],
   "source": [
    "src = \"./Data/Analytical Report/\"\n",
    "df_Analytical_Report = readFiles(src, \"Analytical Report\")\n",
    "\n",
    "print(len(df_Analytical_Report['Content'][0]))\n",
    "\n",
    "src = \"./Data/Analytical Report2/\"\n",
    "df_Analytical_Report2 = readFiles(src, \"Analytical Report\")\n",
    "\n",
    "print(len(df_Analytical_Report2['Content'][0]))\n",
    "\n",
    "src = \"./Data/Incident Report/\"\n",
    "df_Incident_Report = readFiles(src, \"Incident Report\")\n",
    "\n",
    "src = \"./Data/Situation Report/\"\n",
    "df_Situation_Report = readFiles(src, \"Situation Report\")\n",
    "\n",
    "toConcat = [data_scraper, df_Analytical_Report, df_Analytical_Report2, df_Incident_Report, df_Situation_Report]\n",
    "\n",
    "data_input = pd.concat(toConcat, ignore_index=True)\n",
    "data_input"
   ]
  },
  {
   "source": [
    "## Experimental Data Analysis "
   ],
   "cell_type": "markdown",
   "metadata": {}
  },
  {
   "source": [
    "### Data frame informations and duplicates Duplicates"
   ],
   "cell_type": "markdown",
   "metadata": {}
  },
  {
   "cell_type": "code",
   "execution_count": 6,
   "metadata": {},
   "outputs": [
    {
     "output_type": "stream",
     "name": "stdout",
     "text": [
      "<class 'pandas.core.frame.DataFrame'>\nRangeIndex: 418 entries, 0 to 417\nData columns (total 3 columns):\n #   Column   Non-Null Count  Dtype \n---  ------   --------------  ----- \n 0   URL      418 non-null    object\n 1   Class    418 non-null    object\n 2   Content  418 non-null    object\ndtypes: object(3)\nmemory usage: 9.9+ KB\n"
     ]
    }
   ],
   "source": [
    "data_input.info()"
   ]
  },
  {
   "cell_type": "code",
   "execution_count": 7,
   "metadata": {},
   "outputs": [
    {
     "output_type": "stream",
     "name": "stdout",
     "text": [
      "Number of Analytical Report  131\nNumber of Situation Report  99\nNumber of Incident Report  88\nNumber of Profile Report  100\n"
     ]
    }
   ],
   "source": [
    "# Number of items per class\n",
    "print(\"Number of Analytical Report \", len(data_input[data_input['Class'] == 'Analytical Report']))\n",
    "print(\"Number of Situation Report \", len(data_input[data_input['Class'] == 'Situation Report']))\n",
    "print(\"Number of Incident Report \", len(data_input[data_input['Class'] == 'Incident Report']))\n",
    "print(\"Number of Profile Report \", len(data_input[data_input['Class'] == 'Profile Report']))\n"
   ]
  },
  {
   "cell_type": "code",
   "execution_count": 8,
   "metadata": {},
   "outputs": [],
   "source": [
    "# Dropping the duplicate items \n",
    "\n",
    "data_input_dropped= data_input.drop_duplicates(keep=\"first\").reset_index(drop=True)"
   ]
  },
  {
   "cell_type": "code",
   "execution_count": 9,
   "metadata": {},
   "outputs": [
    {
     "output_type": "stream",
     "name": "stdout",
     "text": [
      "Number of Analytical Report  92\nNumber of Situation Report  98\nNumber of Incident Report  88\nNumber of Profile Report  98\n"
     ]
    }
   ],
   "source": [
    "# Number of items per class after dropping the duplicates\n",
    "print(\"Number of Analytical Report \", len(data_input_dropped[data_input_dropped['Class'] == 'Analytical Report']))\n",
    "print(\"Number of Situation Report \", len(data_input_dropped[data_input_dropped['Class'] == 'Situation Report']))\n",
    "print(\"Number of Incident Report \", len(data_input_dropped[data_input_dropped['Class'] == 'Incident Report']))\n",
    "print(\"Number of Profile Report \", len(data_input_dropped[data_input_dropped['Class'] == 'Profile Report']))\n"
   ]
  },
  {
   "cell_type": "code",
   "execution_count": 10,
   "metadata": {},
   "outputs": [
    {
     "output_type": "stream",
     "name": "stdout",
     "text": [
      "<class 'pandas.core.frame.DataFrame'>\nRangeIndex: 376 entries, 0 to 375\nData columns (total 3 columns):\n #   Column   Non-Null Count  Dtype \n---  ------   --------------  ----- \n 0   URL      376 non-null    object\n 1   Class    376 non-null    object\n 2   Content  376 non-null    object\ndtypes: object(3)\nmemory usage: 8.9+ KB\n"
     ]
    }
   ],
   "source": [
    "data_input_dropped.info()"
   ]
  },
  {
   "source": [
    "### Pre Processing the data"
   ],
   "cell_type": "markdown",
   "metadata": {}
  },
  {
   "cell_type": "code",
   "execution_count": 11,
   "metadata": {},
   "outputs": [],
   "source": [
    "# tockenizzation of the corpus \n",
    "def tokenize(corpus):\n",
    "\n",
    "    # The backslash is an escape character to let the interpreter know we mean to use it as a string literal (- or ') \n",
    "    re_punctuation_string = '[\\s,/.?\\-\\'`’]'  # split on spaces (\\s),  commas (,), slash (/), fullstop (.), question marks (?), hyphens (-), and apostrophe (').\n",
    "    tokenized = re.split(re_punctuation_string, corpus) # in python's regex, [...] is an alternative to writing .|.|.\n",
    "    tokenized = list(filter(None, tokenized)) # remove empty strings from list \n",
    "    tokenized = [token.lower() for token in tokenized] # Lowercasing everything\n",
    "    tokenized = ['<Number>' if token.isdigit() else token for token in tokenized ]  # converting all the numbers to <Number>\n",
    "\n",
    "\n",
    "    return tokenized    \n",
    "\n"
   ]
  },
  {
   "cell_type": "code",
   "execution_count": 12,
   "metadata": {},
   "outputs": [],
   "source": [
    "# function to count the tockenization\n",
    "def distinct_tokens_count(tokenized_corpus):\n",
    "\n",
    "    distinct_tokens_count = {}\n",
    "    for t_review in tokenized_corpus:\n",
    "\n",
    "        if t_review not in distinct_tokens_count.keys():\n",
    "            distinct_tokens_count[t_review] = 1\n",
    "        else:\n",
    "            distinct_tokens_count[t_review] += 1\n",
    "\n",
    "    # Sort the key value to greter to smaller\n",
    "    distinct_tokens_count = sorted(distinct_tokens_count.items(), key=itemgetter(1), reverse=True) \n",
    "\n",
    "    #for token, count in distinct_tokens_count:\n",
    "        #print(\"{:<14s} {:<10d}\".format(token, count))\n",
    "    return distinct_tokens_count\n",
    "\n"
   ]
  },
  {
   "cell_type": "code",
   "execution_count": 13,
   "metadata": {},
   "outputs": [],
   "source": [
    "# function to pre process the text and count the number of words\n",
    "def process(dataframe):\n",
    "\n",
    "    tokenized = []\n",
    "    tokens_count = []\n",
    "    class_type = []\n",
    "    for i in range(dataframe.shape[0]):\n",
    "        #print(dataframe['Content'][i])\n",
    "        #print(i)\n",
    "        \n",
    "        # tokenizing the corpus\n",
    "        token = tokenize(dataframe['Content'][i])\n",
    "        tokenized.append(token)\n",
    "        # counting the tokens\n",
    "        tokens_count.append(distinct_tokens_count(token))\n",
    "\n",
    "        if dataframe['Class'][i] == 'Analytical Report':\n",
    "            class_type.append(0)\n",
    "\n",
    "        elif dataframe['Class'][i] == 'Incident Report':\n",
    "            class_type.append(1)\n",
    "\n",
    "        elif dataframe['Class'][i] == 'Profile Report':\n",
    "            class_type.append(2)\n",
    "\n",
    "        elif dataframe['Class'][i] == 'Situation Report':\n",
    "            class_type.append(3)\n",
    "\n",
    "\n",
    "    dataframe['Tokenized'] = tokenized\n",
    "    dataframe['Tokens Count'] = tokens_count\n",
    "    dataframe['Class Type'] = class_type\n",
    "\n",
    "    return dataframe"
   ]
  },
  {
   "cell_type": "code",
   "execution_count": 14,
   "metadata": {},
   "outputs": [
    {
     "output_type": "execute_result",
     "data": {
      "text/plain": [
       "                                                   URL              Class  \\\n",
       "0    https://issafrica.org/iss-today/time-to-tackle...  Analytical Report   \n",
       "1    http://www.understandingwar.org/backgrounder/r...  Analytical Report   \n",
       "2    http://www.understandingwar.org/backgrounder/r...  Analytical Report   \n",
       "3    http://www.understandingwar.org/backgrounder/w...  Analytical Report   \n",
       "4    http://www.understandingwar.org/backgrounder/r...  Analytical Report   \n",
       "..                                                 ...                ...   \n",
       "371                                 int-rep-o-18-e.txt   Situation Report   \n",
       "372                                 int-rep-o-18-f.txt   Situation Report   \n",
       "373                                 int-rep-o-18-g.txt   Situation Report   \n",
       "374                                 int-rep-o-18-h.txt   Situation Report   \n",
       "375  Summary of Russian press for Wednesday 29 July...   Situation Report   \n",
       "\n",
       "                                               Content  \\\n",
       "0      2020-11-25 On 26 September, hundreds of Mali...   \n",
       "1      By George Barros November 16, 2020 The Kreml...   \n",
       "2      By Ezgi Yazici November 13, 2020 Key Takeawa...   \n",
       "3      By Katherine Lawlor with Brandon Wallace Key...   \n",
       "4      By Isabel Ivanescu and Ezgi Yazici Key Takea...   \n",
       "..                                                 ...   \n",
       "371  Deputies are investigating after an explosive ...   \n",
       "372  Residents at a Springfield apartment complex w...   \n",
       "373  Several handheld explosive devices were found ...   \n",
       "374  Boulder police taped off the U.S. Bank at Broa...   \n",
       "375  By BBC Monitoring  Khabarovsk protests  Newspa...   \n",
       "\n",
       "                                             Tokenized  \\\n",
       "0    [<Number>, <Number>, <Number>, on, <Number>, s...   \n",
       "1    [by, george, barros, november, <Number>, <Numb...   \n",
       "2    [by, ezgi, yazici, november, <Number>, <Number...   \n",
       "3    [by, katherine, lawlor, with, brandon, wallace...   \n",
       "4    [by, isabel, ivanescu, and, ezgi, yazici, key,...   \n",
       "..                                                 ...   \n",
       "371  [deputies, are, investigating, after, an, expl...   \n",
       "372  [residents, at, a, springfield, apartment, com...   \n",
       "373  [several, handheld, explosive, devices, were, ...   \n",
       "374  [boulder, police, taped, off, the, u, s, bank,...   \n",
       "375  [by, bbc, monitoring, khabarovsk, protests, ne...   \n",
       "\n",
       "                                          Tokens Count  Class Type  \n",
       "0    [(the, 127), (and, 83), (women, 82), (to, 70),...           0  \n",
       "1    [(the, 67), (<Number>, 50), (to, 44), (csto, 3...           0  \n",
       "2    [(the, 41), (in, 25), (to, 24), (s, 22), (and,...           0  \n",
       "3    [(s, 131), (the, 121), (to, 120), (<Number>, 1...           0  \n",
       "4    [(in, 42), (the, 37), (and, 34), (a, 23), (to,...           0  \n",
       "..                                                 ...         ...  \n",
       "371  [(the, 52), (a, 43), (was, 35), (to, 25), (dev...           3  \n",
       "372  [(the, 64), (a, 47), (was, 27), (in, 22), (bom...           3  \n",
       "373  [(the, 82), (a, 67), (bomb, 30), (to, 27), (wa...           3  \n",
       "374  [(the, 83), (a, 77), (was, 42), (to, 36), (bom...           3  \n",
       "375  [(the, 103), (<Number>, 49), (of, 48), (that, ...           3  \n",
       "\n",
       "[376 rows x 6 columns]"
      ],
      "text/html": "<div>\n<style scoped>\n    .dataframe tbody tr th:only-of-type {\n        vertical-align: middle;\n    }\n\n    .dataframe tbody tr th {\n        vertical-align: top;\n    }\n\n    .dataframe thead th {\n        text-align: right;\n    }\n</style>\n<table border=\"1\" class=\"dataframe\">\n  <thead>\n    <tr style=\"text-align: right;\">\n      <th></th>\n      <th>URL</th>\n      <th>Class</th>\n      <th>Content</th>\n      <th>Tokenized</th>\n      <th>Tokens Count</th>\n      <th>Class Type</th>\n    </tr>\n  </thead>\n  <tbody>\n    <tr>\n      <th>0</th>\n      <td>https://issafrica.org/iss-today/time-to-tackle...</td>\n      <td>Analytical Report</td>\n      <td>2020-11-25 On 26 September, hundreds of Mali...</td>\n      <td>[&lt;Number&gt;, &lt;Number&gt;, &lt;Number&gt;, on, &lt;Number&gt;, s...</td>\n      <td>[(the, 127), (and, 83), (women, 82), (to, 70),...</td>\n      <td>0</td>\n    </tr>\n    <tr>\n      <th>1</th>\n      <td>http://www.understandingwar.org/backgrounder/r...</td>\n      <td>Analytical Report</td>\n      <td>By George Barros November 16, 2020 The Kreml...</td>\n      <td>[by, george, barros, november, &lt;Number&gt;, &lt;Numb...</td>\n      <td>[(the, 67), (&lt;Number&gt;, 50), (to, 44), (csto, 3...</td>\n      <td>0</td>\n    </tr>\n    <tr>\n      <th>2</th>\n      <td>http://www.understandingwar.org/backgrounder/r...</td>\n      <td>Analytical Report</td>\n      <td>By Ezgi Yazici November 13, 2020 Key Takeawa...</td>\n      <td>[by, ezgi, yazici, november, &lt;Number&gt;, &lt;Number...</td>\n      <td>[(the, 41), (in, 25), (to, 24), (s, 22), (and,...</td>\n      <td>0</td>\n    </tr>\n    <tr>\n      <th>3</th>\n      <td>http://www.understandingwar.org/backgrounder/w...</td>\n      <td>Analytical Report</td>\n      <td>By Katherine Lawlor with Brandon Wallace Key...</td>\n      <td>[by, katherine, lawlor, with, brandon, wallace...</td>\n      <td>[(s, 131), (the, 121), (to, 120), (&lt;Number&gt;, 1...</td>\n      <td>0</td>\n    </tr>\n    <tr>\n      <th>4</th>\n      <td>http://www.understandingwar.org/backgrounder/r...</td>\n      <td>Analytical Report</td>\n      <td>By Isabel Ivanescu and Ezgi Yazici Key Takea...</td>\n      <td>[by, isabel, ivanescu, and, ezgi, yazici, key,...</td>\n      <td>[(in, 42), (the, 37), (and, 34), (a, 23), (to,...</td>\n      <td>0</td>\n    </tr>\n    <tr>\n      <th>...</th>\n      <td>...</td>\n      <td>...</td>\n      <td>...</td>\n      <td>...</td>\n      <td>...</td>\n      <td>...</td>\n    </tr>\n    <tr>\n      <th>371</th>\n      <td>int-rep-o-18-e.txt</td>\n      <td>Situation Report</td>\n      <td>Deputies are investigating after an explosive ...</td>\n      <td>[deputies, are, investigating, after, an, expl...</td>\n      <td>[(the, 52), (a, 43), (was, 35), (to, 25), (dev...</td>\n      <td>3</td>\n    </tr>\n    <tr>\n      <th>372</th>\n      <td>int-rep-o-18-f.txt</td>\n      <td>Situation Report</td>\n      <td>Residents at a Springfield apartment complex w...</td>\n      <td>[residents, at, a, springfield, apartment, com...</td>\n      <td>[(the, 64), (a, 47), (was, 27), (in, 22), (bom...</td>\n      <td>3</td>\n    </tr>\n    <tr>\n      <th>373</th>\n      <td>int-rep-o-18-g.txt</td>\n      <td>Situation Report</td>\n      <td>Several handheld explosive devices were found ...</td>\n      <td>[several, handheld, explosive, devices, were, ...</td>\n      <td>[(the, 82), (a, 67), (bomb, 30), (to, 27), (wa...</td>\n      <td>3</td>\n    </tr>\n    <tr>\n      <th>374</th>\n      <td>int-rep-o-18-h.txt</td>\n      <td>Situation Report</td>\n      <td>Boulder police taped off the U.S. Bank at Broa...</td>\n      <td>[boulder, police, taped, off, the, u, s, bank,...</td>\n      <td>[(the, 83), (a, 77), (was, 42), (to, 36), (bom...</td>\n      <td>3</td>\n    </tr>\n    <tr>\n      <th>375</th>\n      <td>Summary of Russian press for Wednesday 29 July...</td>\n      <td>Situation Report</td>\n      <td>By BBC Monitoring  Khabarovsk protests  Newspa...</td>\n      <td>[by, bbc, monitoring, khabarovsk, protests, ne...</td>\n      <td>[(the, 103), (&lt;Number&gt;, 49), (of, 48), (that, ...</td>\n      <td>3</td>\n    </tr>\n  </tbody>\n</table>\n<p>376 rows × 6 columns</p>\n</div>"
     },
     "metadata": {},
     "execution_count": 14
    }
   ],
   "source": [
    "data_processed = process(data_input_dropped)      \n",
    "\n",
    "data_processed"
   ]
  },
  {
   "source": [
    "### Feature extraction"
   ],
   "cell_type": "markdown",
   "metadata": {}
  },
  {
   "cell_type": "code",
   "execution_count": 15,
   "metadata": {},
   "outputs": [],
   "source": [
    "def adding_features(dataframe):\n",
    "    length = []\n",
    "    unique_tokens = []\n",
    "    tokens_percentage = []\n",
    "    \n",
    "    for i in range(dataframe.shape[0]):\n",
    "        leng = len(data_processed['Tokenized'][i])\n",
    "        length.append(leng)\n",
    "        unique_tokens.append(len(data_processed['Tokens Count'][i]))\n",
    "\n",
    "        distinct_tokens_percentage = {}\n",
    "        for token, count in data_processed['Tokens Count'][i]:\n",
    "            distinct_tokens_percentage[token] = (count * 100) / leng\n",
    "        \n",
    "        distinct_tokens_percentage = sorted(distinct_tokens_percentage.items(), key=itemgetter(1), reverse=True)\n",
    "        tokens_percentage.append(distinct_tokens_percentage)\n",
    "    \n",
    "    \n",
    "    dataframe['Length'] = length\n",
    "    dataframe['Unique Tokens'] = unique_tokens\n",
    "    dataframe['Tokens Percentage'] = tokens_percentage\n",
    "    # tahen out all the page not accessible with message \"Page not found\"\n",
    "    dataframe = dataframe[dataframe['Length'] > 10].reset_index(drop=True)\n",
    "\n",
    "    return dataframe"
   ]
  },
  {
   "cell_type": "code",
   "execution_count": 16,
   "metadata": {},
   "outputs": [
    {
     "output_type": "execute_result",
     "data": {
      "text/plain": [
       "                                                   URL              Class  \\\n",
       "0    https://issafrica.org/iss-today/time-to-tackle...  Analytical Report   \n",
       "1    http://www.understandingwar.org/backgrounder/r...  Analytical Report   \n",
       "2    http://www.understandingwar.org/backgrounder/r...  Analytical Report   \n",
       "3    http://www.understandingwar.org/backgrounder/w...  Analytical Report   \n",
       "4    http://www.understandingwar.org/backgrounder/r...  Analytical Report   \n",
       "..                                                 ...                ...   \n",
       "350                                 int-rep-o-18-e.txt   Situation Report   \n",
       "351                                 int-rep-o-18-f.txt   Situation Report   \n",
       "352                                 int-rep-o-18-g.txt   Situation Report   \n",
       "353                                 int-rep-o-18-h.txt   Situation Report   \n",
       "354  Summary of Russian press for Wednesday 29 July...   Situation Report   \n",
       "\n",
       "                                               Content  \\\n",
       "0      2020-11-25 On 26 September, hundreds of Mali...   \n",
       "1      By George Barros November 16, 2020 The Kreml...   \n",
       "2      By Ezgi Yazici November 13, 2020 Key Takeawa...   \n",
       "3      By Katherine Lawlor with Brandon Wallace Key...   \n",
       "4      By Isabel Ivanescu and Ezgi Yazici Key Takea...   \n",
       "..                                                 ...   \n",
       "350  Deputies are investigating after an explosive ...   \n",
       "351  Residents at a Springfield apartment complex w...   \n",
       "352  Several handheld explosive devices were found ...   \n",
       "353  Boulder police taped off the U.S. Bank at Broa...   \n",
       "354  By BBC Monitoring  Khabarovsk protests  Newspa...   \n",
       "\n",
       "                                             Tokenized  \\\n",
       "0    [<Number>, <Number>, <Number>, on, <Number>, s...   \n",
       "1    [by, george, barros, november, <Number>, <Numb...   \n",
       "2    [by, ezgi, yazici, november, <Number>, <Number...   \n",
       "3    [by, katherine, lawlor, with, brandon, wallace...   \n",
       "4    [by, isabel, ivanescu, and, ezgi, yazici, key,...   \n",
       "..                                                 ...   \n",
       "350  [deputies, are, investigating, after, an, expl...   \n",
       "351  [residents, at, a, springfield, apartment, com...   \n",
       "352  [several, handheld, explosive, devices, were, ...   \n",
       "353  [boulder, police, taped, off, the, u, s, bank,...   \n",
       "354  [by, bbc, monitoring, khabarovsk, protests, ne...   \n",
       "\n",
       "                                          Tokens Count  Class Type  Length  \\\n",
       "0    [(the, 127), (and, 83), (women, 82), (to, 70),...           0    2313   \n",
       "1    [(the, 67), (<Number>, 50), (to, 44), (csto, 3...           0    1393   \n",
       "2    [(the, 41), (in, 25), (to, 24), (s, 22), (and,...           0     824   \n",
       "3    [(s, 131), (the, 121), (to, 120), (<Number>, 1...           0    3528   \n",
       "4    [(in, 42), (the, 37), (and, 34), (a, 23), (to,...           0     878   \n",
       "..                                                 ...         ...     ...   \n",
       "350  [(the, 52), (a, 43), (was, 35), (to, 25), (dev...           3     784   \n",
       "351  [(the, 64), (a, 47), (was, 27), (in, 22), (bom...           3     791   \n",
       "352  [(the, 82), (a, 67), (bomb, 30), (to, 27), (wa...           3     941   \n",
       "353  [(the, 83), (a, 77), (was, 42), (to, 36), (bom...           3    1355   \n",
       "354  [(the, 103), (<Number>, 49), (of, 48), (that, ...           3    1797   \n",
       "\n",
       "     Unique Tokens                                  Tokens Percentage  \n",
       "0              521  [(the, 5.490704712494596), (and, 3.58841331603...  \n",
       "1              533  [(the, 4.809763101220388), (<Number>, 3.589375...  \n",
       "2              366  [(the, 4.975728155339806), (in, 3.033980582524...  \n",
       "3              985  [(s, 3.7131519274376417), (the, 3.429705215419...  \n",
       "4              390  [(in, 4.783599088838269), (the, 4.214123006833...  \n",
       "..             ...                                                ...  \n",
       "350            313  [(the, 6.63265306122449), (a, 5.48469387755102...  \n",
       "351            331  [(the, 8.09102402022756), (a, 5.94184576485461...  \n",
       "352            367  [(the, 8.71413390010627), (a, 7.12008501594048...  \n",
       "353            488  [(the, 6.125461254612546), (a, 5.6826568265682...  \n",
       "354            811  [(the, 5.7317751808569835), (<Number>, 2.72676...  \n",
       "\n",
       "[355 rows x 9 columns]"
      ],
      "text/html": "<div>\n<style scoped>\n    .dataframe tbody tr th:only-of-type {\n        vertical-align: middle;\n    }\n\n    .dataframe tbody tr th {\n        vertical-align: top;\n    }\n\n    .dataframe thead th {\n        text-align: right;\n    }\n</style>\n<table border=\"1\" class=\"dataframe\">\n  <thead>\n    <tr style=\"text-align: right;\">\n      <th></th>\n      <th>URL</th>\n      <th>Class</th>\n      <th>Content</th>\n      <th>Tokenized</th>\n      <th>Tokens Count</th>\n      <th>Class Type</th>\n      <th>Length</th>\n      <th>Unique Tokens</th>\n      <th>Tokens Percentage</th>\n    </tr>\n  </thead>\n  <tbody>\n    <tr>\n      <th>0</th>\n      <td>https://issafrica.org/iss-today/time-to-tackle...</td>\n      <td>Analytical Report</td>\n      <td>2020-11-25 On 26 September, hundreds of Mali...</td>\n      <td>[&lt;Number&gt;, &lt;Number&gt;, &lt;Number&gt;, on, &lt;Number&gt;, s...</td>\n      <td>[(the, 127), (and, 83), (women, 82), (to, 70),...</td>\n      <td>0</td>\n      <td>2313</td>\n      <td>521</td>\n      <td>[(the, 5.490704712494596), (and, 3.58841331603...</td>\n    </tr>\n    <tr>\n      <th>1</th>\n      <td>http://www.understandingwar.org/backgrounder/r...</td>\n      <td>Analytical Report</td>\n      <td>By George Barros November 16, 2020 The Kreml...</td>\n      <td>[by, george, barros, november, &lt;Number&gt;, &lt;Numb...</td>\n      <td>[(the, 67), (&lt;Number&gt;, 50), (to, 44), (csto, 3...</td>\n      <td>0</td>\n      <td>1393</td>\n      <td>533</td>\n      <td>[(the, 4.809763101220388), (&lt;Number&gt;, 3.589375...</td>\n    </tr>\n    <tr>\n      <th>2</th>\n      <td>http://www.understandingwar.org/backgrounder/r...</td>\n      <td>Analytical Report</td>\n      <td>By Ezgi Yazici November 13, 2020 Key Takeawa...</td>\n      <td>[by, ezgi, yazici, november, &lt;Number&gt;, &lt;Number...</td>\n      <td>[(the, 41), (in, 25), (to, 24), (s, 22), (and,...</td>\n      <td>0</td>\n      <td>824</td>\n      <td>366</td>\n      <td>[(the, 4.975728155339806), (in, 3.033980582524...</td>\n    </tr>\n    <tr>\n      <th>3</th>\n      <td>http://www.understandingwar.org/backgrounder/w...</td>\n      <td>Analytical Report</td>\n      <td>By Katherine Lawlor with Brandon Wallace Key...</td>\n      <td>[by, katherine, lawlor, with, brandon, wallace...</td>\n      <td>[(s, 131), (the, 121), (to, 120), (&lt;Number&gt;, 1...</td>\n      <td>0</td>\n      <td>3528</td>\n      <td>985</td>\n      <td>[(s, 3.7131519274376417), (the, 3.429705215419...</td>\n    </tr>\n    <tr>\n      <th>4</th>\n      <td>http://www.understandingwar.org/backgrounder/r...</td>\n      <td>Analytical Report</td>\n      <td>By Isabel Ivanescu and Ezgi Yazici Key Takea...</td>\n      <td>[by, isabel, ivanescu, and, ezgi, yazici, key,...</td>\n      <td>[(in, 42), (the, 37), (and, 34), (a, 23), (to,...</td>\n      <td>0</td>\n      <td>878</td>\n      <td>390</td>\n      <td>[(in, 4.783599088838269), (the, 4.214123006833...</td>\n    </tr>\n    <tr>\n      <th>...</th>\n      <td>...</td>\n      <td>...</td>\n      <td>...</td>\n      <td>...</td>\n      <td>...</td>\n      <td>...</td>\n      <td>...</td>\n      <td>...</td>\n      <td>...</td>\n    </tr>\n    <tr>\n      <th>350</th>\n      <td>int-rep-o-18-e.txt</td>\n      <td>Situation Report</td>\n      <td>Deputies are investigating after an explosive ...</td>\n      <td>[deputies, are, investigating, after, an, expl...</td>\n      <td>[(the, 52), (a, 43), (was, 35), (to, 25), (dev...</td>\n      <td>3</td>\n      <td>784</td>\n      <td>313</td>\n      <td>[(the, 6.63265306122449), (a, 5.48469387755102...</td>\n    </tr>\n    <tr>\n      <th>351</th>\n      <td>int-rep-o-18-f.txt</td>\n      <td>Situation Report</td>\n      <td>Residents at a Springfield apartment complex w...</td>\n      <td>[residents, at, a, springfield, apartment, com...</td>\n      <td>[(the, 64), (a, 47), (was, 27), (in, 22), (bom...</td>\n      <td>3</td>\n      <td>791</td>\n      <td>331</td>\n      <td>[(the, 8.09102402022756), (a, 5.94184576485461...</td>\n    </tr>\n    <tr>\n      <th>352</th>\n      <td>int-rep-o-18-g.txt</td>\n      <td>Situation Report</td>\n      <td>Several handheld explosive devices were found ...</td>\n      <td>[several, handheld, explosive, devices, were, ...</td>\n      <td>[(the, 82), (a, 67), (bomb, 30), (to, 27), (wa...</td>\n      <td>3</td>\n      <td>941</td>\n      <td>367</td>\n      <td>[(the, 8.71413390010627), (a, 7.12008501594048...</td>\n    </tr>\n    <tr>\n      <th>353</th>\n      <td>int-rep-o-18-h.txt</td>\n      <td>Situation Report</td>\n      <td>Boulder police taped off the U.S. Bank at Broa...</td>\n      <td>[boulder, police, taped, off, the, u, s, bank,...</td>\n      <td>[(the, 83), (a, 77), (was, 42), (to, 36), (bom...</td>\n      <td>3</td>\n      <td>1355</td>\n      <td>488</td>\n      <td>[(the, 6.125461254612546), (a, 5.6826568265682...</td>\n    </tr>\n    <tr>\n      <th>354</th>\n      <td>Summary of Russian press for Wednesday 29 July...</td>\n      <td>Situation Report</td>\n      <td>By BBC Monitoring  Khabarovsk protests  Newspa...</td>\n      <td>[by, bbc, monitoring, khabarovsk, protests, ne...</td>\n      <td>[(the, 103), (&lt;Number&gt;, 49), (of, 48), (that, ...</td>\n      <td>3</td>\n      <td>1797</td>\n      <td>811</td>\n      <td>[(the, 5.7317751808569835), (&lt;Number&gt;, 2.72676...</td>\n    </tr>\n  </tbody>\n</table>\n<p>355 rows × 9 columns</p>\n</div>"
     },
     "metadata": {},
     "execution_count": 16
    }
   ],
   "source": [
    "data_add_features = adding_features(data_processed)\n",
    "\n",
    "data_Analytical = data_add_features[data_add_features['Class'] == 'Analytical Report']\n",
    "data_Incident = data_add_features[data_add_features['Class'] == 'Incident Report']\n",
    "data_Profile = data_add_features[data_add_features['Class'] == 'Profile Report']\n",
    "data_Situation = data_add_features[data_add_features['Class'] == 'Situation Report']\n",
    "\n",
    "data_add_features"
   ]
  },
  {
   "cell_type": "code",
   "execution_count": 17,
   "metadata": {},
   "outputs": [],
   "source": [
    "# Function to plot the violin plot for the dataframe   \n",
    "def plot_violin(df, to_be_plot):\n",
    "\n",
    "    fig = go.Figure()\n",
    "\n",
    "    reports = ['Analytical Report', 'Incident Report', 'Profile Report', 'Situation Report']\n",
    "\n",
    "    for report in reports:\n",
    "        fig.add_trace(go.Violin(x=df['Class'][df['Class'] == report],\n",
    "                                y=df[to_be_plot][df['Class'] == report],\n",
    "                                name=report,\n",
    "                                box_visible=True,\n",
    "                                meanline_visible=True))\n",
    "    \n",
    "    fig.update_layout(\n",
    "    title=\"Violin plot of the \" + to_be_plot + \" for type of reports\",\n",
    "    yaxis_range=[0, 5000],\n",
    "    )\n",
    "    fig.show()\n",
    "\n",
    "    return\n"
   ]
  },
  {
   "cell_type": "code",
   "execution_count": 18,
   "metadata": {},
   "outputs": [
    {
     "output_type": "display_data",
     "data": {
      "application/vnd.plotly.v1+json": {
       "config": {
        "plotlyServerURL": "https://plot.ly"
       },
       "data": [
        {
         "box": {
          "visible": true
         },
         "meanline": {
          "visible": true
         },
         "name": "Analytical Report",
         "type": "violin",
         "x": [
          "Analytical Report",
          "Analytical Report",
          "Analytical Report",
          "Analytical Report",
          "Analytical Report",
          "Analytical Report",
          "Analytical Report",
          "Analytical Report",
          "Analytical Report",
          "Analytical Report",
          "Analytical Report",
          "Analytical Report",
          "Analytical Report",
          "Analytical Report",
          "Analytical Report",
          "Analytical Report",
          "Analytical Report",
          "Analytical Report",
          "Analytical Report",
          "Analytical Report",
          "Analytical Report",
          "Analytical Report",
          "Analytical Report",
          "Analytical Report",
          "Analytical Report",
          "Analytical Report",
          "Analytical Report",
          "Analytical Report",
          "Analytical Report",
          "Analytical Report",
          "Analytical Report",
          "Analytical Report",
          "Analytical Report",
          "Analytical Report",
          "Analytical Report",
          "Analytical Report",
          "Analytical Report",
          "Analytical Report",
          "Analytical Report",
          "Analytical Report",
          "Analytical Report",
          "Analytical Report",
          "Analytical Report",
          "Analytical Report",
          "Analytical Report",
          "Analytical Report",
          "Analytical Report",
          "Analytical Report",
          "Analytical Report",
          "Analytical Report",
          "Analytical Report",
          "Analytical Report",
          "Analytical Report",
          "Analytical Report",
          "Analytical Report",
          "Analytical Report",
          "Analytical Report",
          "Analytical Report",
          "Analytical Report",
          "Analytical Report",
          "Analytical Report",
          "Analytical Report",
          "Analytical Report",
          "Analytical Report",
          "Analytical Report",
          "Analytical Report",
          "Analytical Report",
          "Analytical Report",
          "Analytical Report",
          "Analytical Report",
          "Analytical Report",
          "Analytical Report",
          "Analytical Report",
          "Analytical Report",
          "Analytical Report",
          "Analytical Report",
          "Analytical Report",
          "Analytical Report",
          "Analytical Report",
          "Analytical Report",
          "Analytical Report",
          "Analytical Report",
          "Analytical Report",
          "Analytical Report",
          "Analytical Report"
         ],
         "y": [
          2313,
          1393,
          824,
          3528,
          878,
          1348,
          1443,
          930,
          14342,
          5840,
          891,
          686,
          465,
          3573,
          3194,
          1503,
          26373,
          10904,
          1534,
          937,
          452,
          1375,
          1891,
          1550,
          1441,
          1874,
          1695,
          1715,
          878,
          789,
          1015,
          679,
          1260,
          853,
          1268,
          2845,
          3057,
          5021,
          13607,
          605,
          607,
          1041,
          671,
          1169,
          1093,
          1152,
          1063,
          1563,
          1032,
          914,
          1241,
          316,
          1703,
          3933,
          748,
          2627,
          1046,
          1991,
          1656,
          2716,
          14620,
          981,
          4064,
          1509,
          2105,
          1771,
          1738,
          1080,
          1028,
          618,
          832,
          421,
          954,
          864,
          2622,
          1257,
          1125,
          1269,
          1068,
          1185,
          1921,
          1194,
          853,
          1166,
          1884
         ]
        },
        {
         "box": {
          "visible": true
         },
         "meanline": {
          "visible": true
         },
         "name": "Incident Report",
         "type": "violin",
         "x": [
          "Incident Report",
          "Incident Report",
          "Incident Report",
          "Incident Report",
          "Incident Report",
          "Incident Report",
          "Incident Report",
          "Incident Report",
          "Incident Report",
          "Incident Report",
          "Incident Report",
          "Incident Report",
          "Incident Report",
          "Incident Report",
          "Incident Report",
          "Incident Report",
          "Incident Report",
          "Incident Report",
          "Incident Report",
          "Incident Report",
          "Incident Report",
          "Incident Report",
          "Incident Report",
          "Incident Report",
          "Incident Report",
          "Incident Report",
          "Incident Report",
          "Incident Report",
          "Incident Report",
          "Incident Report",
          "Incident Report",
          "Incident Report",
          "Incident Report",
          "Incident Report",
          "Incident Report",
          "Incident Report",
          "Incident Report",
          "Incident Report",
          "Incident Report",
          "Incident Report",
          "Incident Report",
          "Incident Report",
          "Incident Report",
          "Incident Report",
          "Incident Report",
          "Incident Report",
          "Incident Report",
          "Incident Report",
          "Incident Report",
          "Incident Report",
          "Incident Report",
          "Incident Report",
          "Incident Report",
          "Incident Report",
          "Incident Report",
          "Incident Report",
          "Incident Report",
          "Incident Report",
          "Incident Report",
          "Incident Report",
          "Incident Report",
          "Incident Report",
          "Incident Report",
          "Incident Report",
          "Incident Report",
          "Incident Report",
          "Incident Report",
          "Incident Report",
          "Incident Report",
          "Incident Report",
          "Incident Report",
          "Incident Report",
          "Incident Report",
          "Incident Report",
          "Incident Report"
         ],
         "y": [
          637,
          243,
          576,
          378,
          1294,
          893,
          212,
          256,
          578,
          739,
          1163,
          2357,
          282,
          905,
          255,
          267,
          215,
          335,
          238,
          598,
          142,
          138,
          431,
          604,
          264,
          174,
          408,
          277,
          405,
          182,
          644,
          358,
          206,
          203,
          119,
          381,
          202,
          176,
          791,
          376,
          331,
          43,
          176,
          409,
          262,
          788,
          331,
          141,
          87,
          349,
          254,
          638,
          449,
          184,
          372,
          129,
          248,
          434,
          207,
          123,
          194,
          204,
          157,
          152,
          111,
          942,
          130,
          325,
          400,
          419,
          229,
          122,
          111,
          152,
          119
         ]
        },
        {
         "box": {
          "visible": true
         },
         "meanline": {
          "visible": true
         },
         "name": "Profile Report",
         "type": "violin",
         "x": [
          "Profile Report",
          "Profile Report",
          "Profile Report",
          "Profile Report",
          "Profile Report",
          "Profile Report",
          "Profile Report",
          "Profile Report",
          "Profile Report",
          "Profile Report",
          "Profile Report",
          "Profile Report",
          "Profile Report",
          "Profile Report",
          "Profile Report",
          "Profile Report",
          "Profile Report",
          "Profile Report",
          "Profile Report",
          "Profile Report",
          "Profile Report",
          "Profile Report",
          "Profile Report",
          "Profile Report",
          "Profile Report",
          "Profile Report",
          "Profile Report",
          "Profile Report",
          "Profile Report",
          "Profile Report",
          "Profile Report",
          "Profile Report",
          "Profile Report",
          "Profile Report",
          "Profile Report",
          "Profile Report",
          "Profile Report",
          "Profile Report",
          "Profile Report",
          "Profile Report",
          "Profile Report",
          "Profile Report",
          "Profile Report",
          "Profile Report",
          "Profile Report",
          "Profile Report",
          "Profile Report",
          "Profile Report",
          "Profile Report",
          "Profile Report",
          "Profile Report",
          "Profile Report",
          "Profile Report",
          "Profile Report",
          "Profile Report",
          "Profile Report",
          "Profile Report",
          "Profile Report",
          "Profile Report",
          "Profile Report",
          "Profile Report",
          "Profile Report",
          "Profile Report",
          "Profile Report",
          "Profile Report",
          "Profile Report",
          "Profile Report",
          "Profile Report",
          "Profile Report",
          "Profile Report",
          "Profile Report",
          "Profile Report",
          "Profile Report",
          "Profile Report",
          "Profile Report",
          "Profile Report",
          "Profile Report",
          "Profile Report",
          "Profile Report",
          "Profile Report",
          "Profile Report",
          "Profile Report",
          "Profile Report",
          "Profile Report",
          "Profile Report",
          "Profile Report",
          "Profile Report",
          "Profile Report",
          "Profile Report",
          "Profile Report",
          "Profile Report",
          "Profile Report",
          "Profile Report",
          "Profile Report",
          "Profile Report",
          "Profile Report",
          "Profile Report",
          "Profile Report"
         ],
         "y": [
          11034,
          14566,
          1450,
          1834,
          4761,
          2871,
          4170,
          3767,
          6453,
          1590,
          1220,
          1556,
          3690,
          1475,
          863,
          600,
          868,
          1465,
          1009,
          1096,
          743,
          2388,
          572,
          1611,
          539,
          1883,
          483,
          1748,
          821,
          770,
          939,
          843,
          799,
          853,
          727,
          789,
          1209,
          926,
          780,
          869,
          896,
          848,
          785,
          696,
          182,
          219,
          475,
          116,
          239,
          99,
          254,
          292,
          213,
          105,
          300,
          288,
          131,
          160,
          271,
          195,
          133,
          228,
          456,
          192,
          288,
          297,
          222,
          309,
          341,
          317,
          147,
          340,
          314,
          417,
          409,
          321,
          179,
          520,
          272,
          328,
          263,
          344,
          335,
          210,
          850,
          413,
          348,
          458,
          830,
          887,
          1207,
          864,
          733,
          449,
          395,
          302,
          248,
          334
         ]
        },
        {
         "box": {
          "visible": true
         },
         "meanline": {
          "visible": true
         },
         "name": "Situation Report",
         "type": "violin",
         "x": [
          "Situation Report",
          "Situation Report",
          "Situation Report",
          "Situation Report",
          "Situation Report",
          "Situation Report",
          "Situation Report",
          "Situation Report",
          "Situation Report",
          "Situation Report",
          "Situation Report",
          "Situation Report",
          "Situation Report",
          "Situation Report",
          "Situation Report",
          "Situation Report",
          "Situation Report",
          "Situation Report",
          "Situation Report",
          "Situation Report",
          "Situation Report",
          "Situation Report",
          "Situation Report",
          "Situation Report",
          "Situation Report",
          "Situation Report",
          "Situation Report",
          "Situation Report",
          "Situation Report",
          "Situation Report",
          "Situation Report",
          "Situation Report",
          "Situation Report",
          "Situation Report",
          "Situation Report",
          "Situation Report",
          "Situation Report",
          "Situation Report",
          "Situation Report",
          "Situation Report",
          "Situation Report",
          "Situation Report",
          "Situation Report",
          "Situation Report",
          "Situation Report",
          "Situation Report",
          "Situation Report",
          "Situation Report",
          "Situation Report",
          "Situation Report",
          "Situation Report",
          "Situation Report",
          "Situation Report",
          "Situation Report",
          "Situation Report",
          "Situation Report",
          "Situation Report",
          "Situation Report",
          "Situation Report",
          "Situation Report",
          "Situation Report",
          "Situation Report",
          "Situation Report",
          "Situation Report",
          "Situation Report",
          "Situation Report",
          "Situation Report",
          "Situation Report",
          "Situation Report",
          "Situation Report",
          "Situation Report",
          "Situation Report",
          "Situation Report",
          "Situation Report",
          "Situation Report",
          "Situation Report",
          "Situation Report",
          "Situation Report",
          "Situation Report",
          "Situation Report",
          "Situation Report",
          "Situation Report",
          "Situation Report",
          "Situation Report",
          "Situation Report",
          "Situation Report",
          "Situation Report",
          "Situation Report",
          "Situation Report",
          "Situation Report",
          "Situation Report",
          "Situation Report",
          "Situation Report",
          "Situation Report",
          "Situation Report",
          "Situation Report",
          "Situation Report"
         ],
         "y": [
          15679,
          1288,
          1319,
          1152,
          968,
          1307,
          1655,
          1802,
          1449,
          1144,
          1270,
          896,
          990,
          1244,
          921,
          957,
          423,
          1062,
          940,
          962,
          988,
          940,
          1395,
          1121,
          796,
          1180,
          865,
          1239,
          792,
          961,
          1826,
          2160,
          219,
          847,
          1567,
          602,
          1085,
          1190,
          871,
          858,
          567,
          750,
          439,
          720,
          730,
          620,
          694,
          736,
          693,
          771,
          781,
          472,
          724,
          513,
          473,
          723,
          626,
          724,
          825,
          578,
          644,
          964,
          571,
          743,
          738,
          709,
          793,
          686,
          702,
          747,
          564,
          732,
          367,
          644,
          531,
          493,
          716,
          837,
          708,
          525,
          709,
          680,
          630,
          702,
          766,
          651,
          417,
          667,
          861,
          859,
          737,
          670,
          784,
          791,
          941,
          1355,
          1797
         ]
        }
       ],
       "layout": {
        "template": {
         "data": {
          "bar": [
           {
            "error_x": {
             "color": "#2a3f5f"
            },
            "error_y": {
             "color": "#2a3f5f"
            },
            "marker": {
             "line": {
              "color": "#E5ECF6",
              "width": 0.5
             }
            },
            "type": "bar"
           }
          ],
          "barpolar": [
           {
            "marker": {
             "line": {
              "color": "#E5ECF6",
              "width": 0.5
             }
            },
            "type": "barpolar"
           }
          ],
          "carpet": [
           {
            "aaxis": {
             "endlinecolor": "#2a3f5f",
             "gridcolor": "white",
             "linecolor": "white",
             "minorgridcolor": "white",
             "startlinecolor": "#2a3f5f"
            },
            "baxis": {
             "endlinecolor": "#2a3f5f",
             "gridcolor": "white",
             "linecolor": "white",
             "minorgridcolor": "white",
             "startlinecolor": "#2a3f5f"
            },
            "type": "carpet"
           }
          ],
          "choropleth": [
           {
            "colorbar": {
             "outlinewidth": 0,
             "ticks": ""
            },
            "type": "choropleth"
           }
          ],
          "contour": [
           {
            "colorbar": {
             "outlinewidth": 0,
             "ticks": ""
            },
            "colorscale": [
             [
              0,
              "#0d0887"
             ],
             [
              0.1111111111111111,
              "#46039f"
             ],
             [
              0.2222222222222222,
              "#7201a8"
             ],
             [
              0.3333333333333333,
              "#9c179e"
             ],
             [
              0.4444444444444444,
              "#bd3786"
             ],
             [
              0.5555555555555556,
              "#d8576b"
             ],
             [
              0.6666666666666666,
              "#ed7953"
             ],
             [
              0.7777777777777778,
              "#fb9f3a"
             ],
             [
              0.8888888888888888,
              "#fdca26"
             ],
             [
              1,
              "#f0f921"
             ]
            ],
            "type": "contour"
           }
          ],
          "contourcarpet": [
           {
            "colorbar": {
             "outlinewidth": 0,
             "ticks": ""
            },
            "type": "contourcarpet"
           }
          ],
          "heatmap": [
           {
            "colorbar": {
             "outlinewidth": 0,
             "ticks": ""
            },
            "colorscale": [
             [
              0,
              "#0d0887"
             ],
             [
              0.1111111111111111,
              "#46039f"
             ],
             [
              0.2222222222222222,
              "#7201a8"
             ],
             [
              0.3333333333333333,
              "#9c179e"
             ],
             [
              0.4444444444444444,
              "#bd3786"
             ],
             [
              0.5555555555555556,
              "#d8576b"
             ],
             [
              0.6666666666666666,
              "#ed7953"
             ],
             [
              0.7777777777777778,
              "#fb9f3a"
             ],
             [
              0.8888888888888888,
              "#fdca26"
             ],
             [
              1,
              "#f0f921"
             ]
            ],
            "type": "heatmap"
           }
          ],
          "heatmapgl": [
           {
            "colorbar": {
             "outlinewidth": 0,
             "ticks": ""
            },
            "colorscale": [
             [
              0,
              "#0d0887"
             ],
             [
              0.1111111111111111,
              "#46039f"
             ],
             [
              0.2222222222222222,
              "#7201a8"
             ],
             [
              0.3333333333333333,
              "#9c179e"
             ],
             [
              0.4444444444444444,
              "#bd3786"
             ],
             [
              0.5555555555555556,
              "#d8576b"
             ],
             [
              0.6666666666666666,
              "#ed7953"
             ],
             [
              0.7777777777777778,
              "#fb9f3a"
             ],
             [
              0.8888888888888888,
              "#fdca26"
             ],
             [
              1,
              "#f0f921"
             ]
            ],
            "type": "heatmapgl"
           }
          ],
          "histogram": [
           {
            "marker": {
             "colorbar": {
              "outlinewidth": 0,
              "ticks": ""
             }
            },
            "type": "histogram"
           }
          ],
          "histogram2d": [
           {
            "colorbar": {
             "outlinewidth": 0,
             "ticks": ""
            },
            "colorscale": [
             [
              0,
              "#0d0887"
             ],
             [
              0.1111111111111111,
              "#46039f"
             ],
             [
              0.2222222222222222,
              "#7201a8"
             ],
             [
              0.3333333333333333,
              "#9c179e"
             ],
             [
              0.4444444444444444,
              "#bd3786"
             ],
             [
              0.5555555555555556,
              "#d8576b"
             ],
             [
              0.6666666666666666,
              "#ed7953"
             ],
             [
              0.7777777777777778,
              "#fb9f3a"
             ],
             [
              0.8888888888888888,
              "#fdca26"
             ],
             [
              1,
              "#f0f921"
             ]
            ],
            "type": "histogram2d"
           }
          ],
          "histogram2dcontour": [
           {
            "colorbar": {
             "outlinewidth": 0,
             "ticks": ""
            },
            "colorscale": [
             [
              0,
              "#0d0887"
             ],
             [
              0.1111111111111111,
              "#46039f"
             ],
             [
              0.2222222222222222,
              "#7201a8"
             ],
             [
              0.3333333333333333,
              "#9c179e"
             ],
             [
              0.4444444444444444,
              "#bd3786"
             ],
             [
              0.5555555555555556,
              "#d8576b"
             ],
             [
              0.6666666666666666,
              "#ed7953"
             ],
             [
              0.7777777777777778,
              "#fb9f3a"
             ],
             [
              0.8888888888888888,
              "#fdca26"
             ],
             [
              1,
              "#f0f921"
             ]
            ],
            "type": "histogram2dcontour"
           }
          ],
          "mesh3d": [
           {
            "colorbar": {
             "outlinewidth": 0,
             "ticks": ""
            },
            "type": "mesh3d"
           }
          ],
          "parcoords": [
           {
            "line": {
             "colorbar": {
              "outlinewidth": 0,
              "ticks": ""
             }
            },
            "type": "parcoords"
           }
          ],
          "pie": [
           {
            "automargin": true,
            "type": "pie"
           }
          ],
          "scatter": [
           {
            "marker": {
             "colorbar": {
              "outlinewidth": 0,
              "ticks": ""
             }
            },
            "type": "scatter"
           }
          ],
          "scatter3d": [
           {
            "line": {
             "colorbar": {
              "outlinewidth": 0,
              "ticks": ""
             }
            },
            "marker": {
             "colorbar": {
              "outlinewidth": 0,
              "ticks": ""
             }
            },
            "type": "scatter3d"
           }
          ],
          "scattercarpet": [
           {
            "marker": {
             "colorbar": {
              "outlinewidth": 0,
              "ticks": ""
             }
            },
            "type": "scattercarpet"
           }
          ],
          "scattergeo": [
           {
            "marker": {
             "colorbar": {
              "outlinewidth": 0,
              "ticks": ""
             }
            },
            "type": "scattergeo"
           }
          ],
          "scattergl": [
           {
            "marker": {
             "colorbar": {
              "outlinewidth": 0,
              "ticks": ""
             }
            },
            "type": "scattergl"
           }
          ],
          "scattermapbox": [
           {
            "marker": {
             "colorbar": {
              "outlinewidth": 0,
              "ticks": ""
             }
            },
            "type": "scattermapbox"
           }
          ],
          "scatterpolar": [
           {
            "marker": {
             "colorbar": {
              "outlinewidth": 0,
              "ticks": ""
             }
            },
            "type": "scatterpolar"
           }
          ],
          "scatterpolargl": [
           {
            "marker": {
             "colorbar": {
              "outlinewidth": 0,
              "ticks": ""
             }
            },
            "type": "scatterpolargl"
           }
          ],
          "scatterternary": [
           {
            "marker": {
             "colorbar": {
              "outlinewidth": 0,
              "ticks": ""
             }
            },
            "type": "scatterternary"
           }
          ],
          "surface": [
           {
            "colorbar": {
             "outlinewidth": 0,
             "ticks": ""
            },
            "colorscale": [
             [
              0,
              "#0d0887"
             ],
             [
              0.1111111111111111,
              "#46039f"
             ],
             [
              0.2222222222222222,
              "#7201a8"
             ],
             [
              0.3333333333333333,
              "#9c179e"
             ],
             [
              0.4444444444444444,
              "#bd3786"
             ],
             [
              0.5555555555555556,
              "#d8576b"
             ],
             [
              0.6666666666666666,
              "#ed7953"
             ],
             [
              0.7777777777777778,
              "#fb9f3a"
             ],
             [
              0.8888888888888888,
              "#fdca26"
             ],
             [
              1,
              "#f0f921"
             ]
            ],
            "type": "surface"
           }
          ],
          "table": [
           {
            "cells": {
             "fill": {
              "color": "#EBF0F8"
             },
             "line": {
              "color": "white"
             }
            },
            "header": {
             "fill": {
              "color": "#C8D4E3"
             },
             "line": {
              "color": "white"
             }
            },
            "type": "table"
           }
          ]
         },
         "layout": {
          "annotationdefaults": {
           "arrowcolor": "#2a3f5f",
           "arrowhead": 0,
           "arrowwidth": 1
          },
          "coloraxis": {
           "colorbar": {
            "outlinewidth": 0,
            "ticks": ""
           }
          },
          "colorscale": {
           "diverging": [
            [
             0,
             "#8e0152"
            ],
            [
             0.1,
             "#c51b7d"
            ],
            [
             0.2,
             "#de77ae"
            ],
            [
             0.3,
             "#f1b6da"
            ],
            [
             0.4,
             "#fde0ef"
            ],
            [
             0.5,
             "#f7f7f7"
            ],
            [
             0.6,
             "#e6f5d0"
            ],
            [
             0.7,
             "#b8e186"
            ],
            [
             0.8,
             "#7fbc41"
            ],
            [
             0.9,
             "#4d9221"
            ],
            [
             1,
             "#276419"
            ]
           ],
           "sequential": [
            [
             0,
             "#0d0887"
            ],
            [
             0.1111111111111111,
             "#46039f"
            ],
            [
             0.2222222222222222,
             "#7201a8"
            ],
            [
             0.3333333333333333,
             "#9c179e"
            ],
            [
             0.4444444444444444,
             "#bd3786"
            ],
            [
             0.5555555555555556,
             "#d8576b"
            ],
            [
             0.6666666666666666,
             "#ed7953"
            ],
            [
             0.7777777777777778,
             "#fb9f3a"
            ],
            [
             0.8888888888888888,
             "#fdca26"
            ],
            [
             1,
             "#f0f921"
            ]
           ],
           "sequentialminus": [
            [
             0,
             "#0d0887"
            ],
            [
             0.1111111111111111,
             "#46039f"
            ],
            [
             0.2222222222222222,
             "#7201a8"
            ],
            [
             0.3333333333333333,
             "#9c179e"
            ],
            [
             0.4444444444444444,
             "#bd3786"
            ],
            [
             0.5555555555555556,
             "#d8576b"
            ],
            [
             0.6666666666666666,
             "#ed7953"
            ],
            [
             0.7777777777777778,
             "#fb9f3a"
            ],
            [
             0.8888888888888888,
             "#fdca26"
            ],
            [
             1,
             "#f0f921"
            ]
           ]
          },
          "colorway": [
           "#636efa",
           "#EF553B",
           "#00cc96",
           "#ab63fa",
           "#FFA15A",
           "#19d3f3",
           "#FF6692",
           "#B6E880",
           "#FF97FF",
           "#FECB52"
          ],
          "font": {
           "color": "#2a3f5f"
          },
          "geo": {
           "bgcolor": "white",
           "lakecolor": "white",
           "landcolor": "#E5ECF6",
           "showlakes": true,
           "showland": true,
           "subunitcolor": "white"
          },
          "hoverlabel": {
           "align": "left"
          },
          "hovermode": "closest",
          "mapbox": {
           "style": "light"
          },
          "paper_bgcolor": "white",
          "plot_bgcolor": "#E5ECF6",
          "polar": {
           "angularaxis": {
            "gridcolor": "white",
            "linecolor": "white",
            "ticks": ""
           },
           "bgcolor": "#E5ECF6",
           "radialaxis": {
            "gridcolor": "white",
            "linecolor": "white",
            "ticks": ""
           }
          },
          "scene": {
           "xaxis": {
            "backgroundcolor": "#E5ECF6",
            "gridcolor": "white",
            "gridwidth": 2,
            "linecolor": "white",
            "showbackground": true,
            "ticks": "",
            "zerolinecolor": "white"
           },
           "yaxis": {
            "backgroundcolor": "#E5ECF6",
            "gridcolor": "white",
            "gridwidth": 2,
            "linecolor": "white",
            "showbackground": true,
            "ticks": "",
            "zerolinecolor": "white"
           },
           "zaxis": {
            "backgroundcolor": "#E5ECF6",
            "gridcolor": "white",
            "gridwidth": 2,
            "linecolor": "white",
            "showbackground": true,
            "ticks": "",
            "zerolinecolor": "white"
           }
          },
          "shapedefaults": {
           "line": {
            "color": "#2a3f5f"
           }
          },
          "ternary": {
           "aaxis": {
            "gridcolor": "white",
            "linecolor": "white",
            "ticks": ""
           },
           "baxis": {
            "gridcolor": "white",
            "linecolor": "white",
            "ticks": ""
           },
           "bgcolor": "#E5ECF6",
           "caxis": {
            "gridcolor": "white",
            "linecolor": "white",
            "ticks": ""
           }
          },
          "title": {
           "x": 0.05
          },
          "xaxis": {
           "automargin": true,
           "gridcolor": "white",
           "linecolor": "white",
           "ticks": "",
           "title": {
            "standoff": 15
           },
           "zerolinecolor": "white",
           "zerolinewidth": 2
          },
          "yaxis": {
           "automargin": true,
           "gridcolor": "white",
           "linecolor": "white",
           "ticks": "",
           "title": {
            "standoff": 15
           },
           "zerolinecolor": "white",
           "zerolinewidth": 2
          }
         }
        },
        "title": {
         "text": "Violin plot of the Length for type of reports"
        },
        "yaxis": {
         "range": [
          0,
          5000
         ]
        }
       }
      }
     },
     "metadata": {}
    },
    {
     "output_type": "display_data",
     "data": {
      "application/vnd.plotly.v1+json": {
       "config": {
        "plotlyServerURL": "https://plot.ly"
       },
       "data": [
        {
         "box": {
          "visible": true
         },
         "meanline": {
          "visible": true
         },
         "name": "Analytical Report",
         "type": "violin",
         "x": [
          "Analytical Report",
          "Analytical Report",
          "Analytical Report",
          "Analytical Report",
          "Analytical Report",
          "Analytical Report",
          "Analytical Report",
          "Analytical Report",
          "Analytical Report",
          "Analytical Report",
          "Analytical Report",
          "Analytical Report",
          "Analytical Report",
          "Analytical Report",
          "Analytical Report",
          "Analytical Report",
          "Analytical Report",
          "Analytical Report",
          "Analytical Report",
          "Analytical Report",
          "Analytical Report",
          "Analytical Report",
          "Analytical Report",
          "Analytical Report",
          "Analytical Report",
          "Analytical Report",
          "Analytical Report",
          "Analytical Report",
          "Analytical Report",
          "Analytical Report",
          "Analytical Report",
          "Analytical Report",
          "Analytical Report",
          "Analytical Report",
          "Analytical Report",
          "Analytical Report",
          "Analytical Report",
          "Analytical Report",
          "Analytical Report",
          "Analytical Report",
          "Analytical Report",
          "Analytical Report",
          "Analytical Report",
          "Analytical Report",
          "Analytical Report",
          "Analytical Report",
          "Analytical Report",
          "Analytical Report",
          "Analytical Report",
          "Analytical Report",
          "Analytical Report",
          "Analytical Report",
          "Analytical Report",
          "Analytical Report",
          "Analytical Report",
          "Analytical Report",
          "Analytical Report",
          "Analytical Report",
          "Analytical Report",
          "Analytical Report",
          "Analytical Report",
          "Analytical Report",
          "Analytical Report",
          "Analytical Report",
          "Analytical Report",
          "Analytical Report",
          "Analytical Report",
          "Analytical Report",
          "Analytical Report",
          "Analytical Report",
          "Analytical Report",
          "Analytical Report",
          "Analytical Report",
          "Analytical Report",
          "Analytical Report",
          "Analytical Report",
          "Analytical Report",
          "Analytical Report",
          "Analytical Report",
          "Analytical Report",
          "Analytical Report",
          "Analytical Report",
          "Analytical Report",
          "Analytical Report",
          "Analytical Report"
         ],
         "y": [
          521,
          533,
          366,
          985,
          390,
          538,
          571,
          473,
          3162,
          1604,
          425,
          250,
          251,
          1127,
          994,
          660,
          4813,
          2719,
          723,
          464,
          251,
          338,
          436,
          639,
          605,
          839,
          615,
          624,
          391,
          363,
          483,
          314,
          565,
          368,
          546,
          1060,
          843,
          1253,
          2378,
          325,
          321,
          462,
          360,
          529,
          455,
          489,
          458,
          609,
          399,
          388,
          573,
          173,
          739,
          1370,
          346,
          940,
          383,
          530,
          596,
          735,
          2736,
          375,
          1032,
          677,
          749,
          622,
          664,
          409,
          338,
          271,
          374,
          205,
          418,
          459,
          992,
          545,
          478,
          516,
          507,
          607,
          732,
          535,
          349,
          511,
          739
         ]
        },
        {
         "box": {
          "visible": true
         },
         "meanline": {
          "visible": true
         },
         "name": "Incident Report",
         "type": "violin",
         "x": [
          "Incident Report",
          "Incident Report",
          "Incident Report",
          "Incident Report",
          "Incident Report",
          "Incident Report",
          "Incident Report",
          "Incident Report",
          "Incident Report",
          "Incident Report",
          "Incident Report",
          "Incident Report",
          "Incident Report",
          "Incident Report",
          "Incident Report",
          "Incident Report",
          "Incident Report",
          "Incident Report",
          "Incident Report",
          "Incident Report",
          "Incident Report",
          "Incident Report",
          "Incident Report",
          "Incident Report",
          "Incident Report",
          "Incident Report",
          "Incident Report",
          "Incident Report",
          "Incident Report",
          "Incident Report",
          "Incident Report",
          "Incident Report",
          "Incident Report",
          "Incident Report",
          "Incident Report",
          "Incident Report",
          "Incident Report",
          "Incident Report",
          "Incident Report",
          "Incident Report",
          "Incident Report",
          "Incident Report",
          "Incident Report",
          "Incident Report",
          "Incident Report",
          "Incident Report",
          "Incident Report",
          "Incident Report",
          "Incident Report",
          "Incident Report",
          "Incident Report",
          "Incident Report",
          "Incident Report",
          "Incident Report",
          "Incident Report",
          "Incident Report",
          "Incident Report",
          "Incident Report",
          "Incident Report",
          "Incident Report",
          "Incident Report",
          "Incident Report",
          "Incident Report",
          "Incident Report",
          "Incident Report",
          "Incident Report",
          "Incident Report",
          "Incident Report",
          "Incident Report",
          "Incident Report",
          "Incident Report",
          "Incident Report",
          "Incident Report",
          "Incident Report",
          "Incident Report"
         ],
         "y": [
          366,
          131,
          352,
          180,
          632,
          487,
          97,
          149,
          316,
          345,
          576,
          780,
          139,
          242,
          168,
          149,
          130,
          190,
          146,
          300,
          93,
          101,
          202,
          289,
          90,
          88,
          218,
          165,
          207,
          110,
          308,
          179,
          110,
          121,
          92,
          228,
          129,
          101,
          380,
          203,
          181,
          37,
          110,
          240,
          166,
          313,
          188,
          78,
          61,
          172,
          148,
          331,
          212,
          108,
          208,
          73,
          121,
          228,
          118,
          86,
          94,
          128,
          106,
          105,
          86,
          410,
          82,
          186,
          204,
          192,
          143,
          85,
          86,
          105,
          92
         ]
        },
        {
         "box": {
          "visible": true
         },
         "meanline": {
          "visible": true
         },
         "name": "Profile Report",
         "type": "violin",
         "x": [
          "Profile Report",
          "Profile Report",
          "Profile Report",
          "Profile Report",
          "Profile Report",
          "Profile Report",
          "Profile Report",
          "Profile Report",
          "Profile Report",
          "Profile Report",
          "Profile Report",
          "Profile Report",
          "Profile Report",
          "Profile Report",
          "Profile Report",
          "Profile Report",
          "Profile Report",
          "Profile Report",
          "Profile Report",
          "Profile Report",
          "Profile Report",
          "Profile Report",
          "Profile Report",
          "Profile Report",
          "Profile Report",
          "Profile Report",
          "Profile Report",
          "Profile Report",
          "Profile Report",
          "Profile Report",
          "Profile Report",
          "Profile Report",
          "Profile Report",
          "Profile Report",
          "Profile Report",
          "Profile Report",
          "Profile Report",
          "Profile Report",
          "Profile Report",
          "Profile Report",
          "Profile Report",
          "Profile Report",
          "Profile Report",
          "Profile Report",
          "Profile Report",
          "Profile Report",
          "Profile Report",
          "Profile Report",
          "Profile Report",
          "Profile Report",
          "Profile Report",
          "Profile Report",
          "Profile Report",
          "Profile Report",
          "Profile Report",
          "Profile Report",
          "Profile Report",
          "Profile Report",
          "Profile Report",
          "Profile Report",
          "Profile Report",
          "Profile Report",
          "Profile Report",
          "Profile Report",
          "Profile Report",
          "Profile Report",
          "Profile Report",
          "Profile Report",
          "Profile Report",
          "Profile Report",
          "Profile Report",
          "Profile Report",
          "Profile Report",
          "Profile Report",
          "Profile Report",
          "Profile Report",
          "Profile Report",
          "Profile Report",
          "Profile Report",
          "Profile Report",
          "Profile Report",
          "Profile Report",
          "Profile Report",
          "Profile Report",
          "Profile Report",
          "Profile Report",
          "Profile Report",
          "Profile Report",
          "Profile Report",
          "Profile Report",
          "Profile Report",
          "Profile Report",
          "Profile Report",
          "Profile Report",
          "Profile Report",
          "Profile Report",
          "Profile Report",
          "Profile Report"
         ],
         "y": [
          2579,
          3628,
          676,
          820,
          1458,
          1050,
          1340,
          1258,
          1603,
          621,
          601,
          683,
          1357,
          608,
          388,
          320,
          372,
          638,
          455,
          428,
          339,
          826,
          282,
          654,
          285,
          720,
          261,
          659,
          396,
          365,
          439,
          405,
          371,
          423,
          349,
          376,
          418,
          451,
          393,
          420,
          418,
          397,
          396,
          339,
          115,
          131,
          258,
          79,
          127,
          70,
          149,
          169,
          131,
          72,
          158,
          171,
          89,
          107,
          170,
          134,
          92,
          119,
          209,
          117,
          159,
          170,
          137,
          182,
          197,
          188,
          98,
          187,
          181,
          217,
          215,
          183,
          109,
          273,
          149,
          183,
          145,
          190,
          187,
          142,
          409,
          240,
          198,
          222,
          397,
          429,
          449,
          424,
          369,
          223,
          189,
          173,
          139,
          167
         ]
        },
        {
         "box": {
          "visible": true
         },
         "meanline": {
          "visible": true
         },
         "name": "Situation Report",
         "type": "violin",
         "x": [
          "Situation Report",
          "Situation Report",
          "Situation Report",
          "Situation Report",
          "Situation Report",
          "Situation Report",
          "Situation Report",
          "Situation Report",
          "Situation Report",
          "Situation Report",
          "Situation Report",
          "Situation Report",
          "Situation Report",
          "Situation Report",
          "Situation Report",
          "Situation Report",
          "Situation Report",
          "Situation Report",
          "Situation Report",
          "Situation Report",
          "Situation Report",
          "Situation Report",
          "Situation Report",
          "Situation Report",
          "Situation Report",
          "Situation Report",
          "Situation Report",
          "Situation Report",
          "Situation Report",
          "Situation Report",
          "Situation Report",
          "Situation Report",
          "Situation Report",
          "Situation Report",
          "Situation Report",
          "Situation Report",
          "Situation Report",
          "Situation Report",
          "Situation Report",
          "Situation Report",
          "Situation Report",
          "Situation Report",
          "Situation Report",
          "Situation Report",
          "Situation Report",
          "Situation Report",
          "Situation Report",
          "Situation Report",
          "Situation Report",
          "Situation Report",
          "Situation Report",
          "Situation Report",
          "Situation Report",
          "Situation Report",
          "Situation Report",
          "Situation Report",
          "Situation Report",
          "Situation Report",
          "Situation Report",
          "Situation Report",
          "Situation Report",
          "Situation Report",
          "Situation Report",
          "Situation Report",
          "Situation Report",
          "Situation Report",
          "Situation Report",
          "Situation Report",
          "Situation Report",
          "Situation Report",
          "Situation Report",
          "Situation Report",
          "Situation Report",
          "Situation Report",
          "Situation Report",
          "Situation Report",
          "Situation Report",
          "Situation Report",
          "Situation Report",
          "Situation Report",
          "Situation Report",
          "Situation Report",
          "Situation Report",
          "Situation Report",
          "Situation Report",
          "Situation Report",
          "Situation Report",
          "Situation Report",
          "Situation Report",
          "Situation Report",
          "Situation Report",
          "Situation Report",
          "Situation Report",
          "Situation Report",
          "Situation Report",
          "Situation Report",
          "Situation Report"
         ],
         "y": [
          2596,
          354,
          395,
          371,
          313,
          387,
          450,
          715,
          499,
          478,
          566,
          449,
          405,
          507,
          286,
          339,
          187,
          327,
          273,
          332,
          326,
          339,
          429,
          371,
          307,
          365,
          341,
          559,
          399,
          415,
          670,
          879,
          73,
          431,
          658,
          294,
          433,
          560,
          419,
          413,
          292,
          335,
          255,
          313,
          308,
          284,
          315,
          319,
          298,
          322,
          301,
          174,
          321,
          246,
          247,
          334,
          317,
          336,
          403,
          283,
          311,
          381,
          296,
          350,
          380,
          315,
          365,
          327,
          335,
          341,
          216,
          346,
          190,
          272,
          219,
          272,
          281,
          334,
          298,
          289,
          351,
          332,
          263,
          291,
          269,
          221,
          196,
          332,
          359,
          335,
          323,
          322,
          313,
          331,
          367,
          488,
          811
         ]
        }
       ],
       "layout": {
        "template": {
         "data": {
          "bar": [
           {
            "error_x": {
             "color": "#2a3f5f"
            },
            "error_y": {
             "color": "#2a3f5f"
            },
            "marker": {
             "line": {
              "color": "#E5ECF6",
              "width": 0.5
             }
            },
            "type": "bar"
           }
          ],
          "barpolar": [
           {
            "marker": {
             "line": {
              "color": "#E5ECF6",
              "width": 0.5
             }
            },
            "type": "barpolar"
           }
          ],
          "carpet": [
           {
            "aaxis": {
             "endlinecolor": "#2a3f5f",
             "gridcolor": "white",
             "linecolor": "white",
             "minorgridcolor": "white",
             "startlinecolor": "#2a3f5f"
            },
            "baxis": {
             "endlinecolor": "#2a3f5f",
             "gridcolor": "white",
             "linecolor": "white",
             "minorgridcolor": "white",
             "startlinecolor": "#2a3f5f"
            },
            "type": "carpet"
           }
          ],
          "choropleth": [
           {
            "colorbar": {
             "outlinewidth": 0,
             "ticks": ""
            },
            "type": "choropleth"
           }
          ],
          "contour": [
           {
            "colorbar": {
             "outlinewidth": 0,
             "ticks": ""
            },
            "colorscale": [
             [
              0,
              "#0d0887"
             ],
             [
              0.1111111111111111,
              "#46039f"
             ],
             [
              0.2222222222222222,
              "#7201a8"
             ],
             [
              0.3333333333333333,
              "#9c179e"
             ],
             [
              0.4444444444444444,
              "#bd3786"
             ],
             [
              0.5555555555555556,
              "#d8576b"
             ],
             [
              0.6666666666666666,
              "#ed7953"
             ],
             [
              0.7777777777777778,
              "#fb9f3a"
             ],
             [
              0.8888888888888888,
              "#fdca26"
             ],
             [
              1,
              "#f0f921"
             ]
            ],
            "type": "contour"
           }
          ],
          "contourcarpet": [
           {
            "colorbar": {
             "outlinewidth": 0,
             "ticks": ""
            },
            "type": "contourcarpet"
           }
          ],
          "heatmap": [
           {
            "colorbar": {
             "outlinewidth": 0,
             "ticks": ""
            },
            "colorscale": [
             [
              0,
              "#0d0887"
             ],
             [
              0.1111111111111111,
              "#46039f"
             ],
             [
              0.2222222222222222,
              "#7201a8"
             ],
             [
              0.3333333333333333,
              "#9c179e"
             ],
             [
              0.4444444444444444,
              "#bd3786"
             ],
             [
              0.5555555555555556,
              "#d8576b"
             ],
             [
              0.6666666666666666,
              "#ed7953"
             ],
             [
              0.7777777777777778,
              "#fb9f3a"
             ],
             [
              0.8888888888888888,
              "#fdca26"
             ],
             [
              1,
              "#f0f921"
             ]
            ],
            "type": "heatmap"
           }
          ],
          "heatmapgl": [
           {
            "colorbar": {
             "outlinewidth": 0,
             "ticks": ""
            },
            "colorscale": [
             [
              0,
              "#0d0887"
             ],
             [
              0.1111111111111111,
              "#46039f"
             ],
             [
              0.2222222222222222,
              "#7201a8"
             ],
             [
              0.3333333333333333,
              "#9c179e"
             ],
             [
              0.4444444444444444,
              "#bd3786"
             ],
             [
              0.5555555555555556,
              "#d8576b"
             ],
             [
              0.6666666666666666,
              "#ed7953"
             ],
             [
              0.7777777777777778,
              "#fb9f3a"
             ],
             [
              0.8888888888888888,
              "#fdca26"
             ],
             [
              1,
              "#f0f921"
             ]
            ],
            "type": "heatmapgl"
           }
          ],
          "histogram": [
           {
            "marker": {
             "colorbar": {
              "outlinewidth": 0,
              "ticks": ""
             }
            },
            "type": "histogram"
           }
          ],
          "histogram2d": [
           {
            "colorbar": {
             "outlinewidth": 0,
             "ticks": ""
            },
            "colorscale": [
             [
              0,
              "#0d0887"
             ],
             [
              0.1111111111111111,
              "#46039f"
             ],
             [
              0.2222222222222222,
              "#7201a8"
             ],
             [
              0.3333333333333333,
              "#9c179e"
             ],
             [
              0.4444444444444444,
              "#bd3786"
             ],
             [
              0.5555555555555556,
              "#d8576b"
             ],
             [
              0.6666666666666666,
              "#ed7953"
             ],
             [
              0.7777777777777778,
              "#fb9f3a"
             ],
             [
              0.8888888888888888,
              "#fdca26"
             ],
             [
              1,
              "#f0f921"
             ]
            ],
            "type": "histogram2d"
           }
          ],
          "histogram2dcontour": [
           {
            "colorbar": {
             "outlinewidth": 0,
             "ticks": ""
            },
            "colorscale": [
             [
              0,
              "#0d0887"
             ],
             [
              0.1111111111111111,
              "#46039f"
             ],
             [
              0.2222222222222222,
              "#7201a8"
             ],
             [
              0.3333333333333333,
              "#9c179e"
             ],
             [
              0.4444444444444444,
              "#bd3786"
             ],
             [
              0.5555555555555556,
              "#d8576b"
             ],
             [
              0.6666666666666666,
              "#ed7953"
             ],
             [
              0.7777777777777778,
              "#fb9f3a"
             ],
             [
              0.8888888888888888,
              "#fdca26"
             ],
             [
              1,
              "#f0f921"
             ]
            ],
            "type": "histogram2dcontour"
           }
          ],
          "mesh3d": [
           {
            "colorbar": {
             "outlinewidth": 0,
             "ticks": ""
            },
            "type": "mesh3d"
           }
          ],
          "parcoords": [
           {
            "line": {
             "colorbar": {
              "outlinewidth": 0,
              "ticks": ""
             }
            },
            "type": "parcoords"
           }
          ],
          "pie": [
           {
            "automargin": true,
            "type": "pie"
           }
          ],
          "scatter": [
           {
            "marker": {
             "colorbar": {
              "outlinewidth": 0,
              "ticks": ""
             }
            },
            "type": "scatter"
           }
          ],
          "scatter3d": [
           {
            "line": {
             "colorbar": {
              "outlinewidth": 0,
              "ticks": ""
             }
            },
            "marker": {
             "colorbar": {
              "outlinewidth": 0,
              "ticks": ""
             }
            },
            "type": "scatter3d"
           }
          ],
          "scattercarpet": [
           {
            "marker": {
             "colorbar": {
              "outlinewidth": 0,
              "ticks": ""
             }
            },
            "type": "scattercarpet"
           }
          ],
          "scattergeo": [
           {
            "marker": {
             "colorbar": {
              "outlinewidth": 0,
              "ticks": ""
             }
            },
            "type": "scattergeo"
           }
          ],
          "scattergl": [
           {
            "marker": {
             "colorbar": {
              "outlinewidth": 0,
              "ticks": ""
             }
            },
            "type": "scattergl"
           }
          ],
          "scattermapbox": [
           {
            "marker": {
             "colorbar": {
              "outlinewidth": 0,
              "ticks": ""
             }
            },
            "type": "scattermapbox"
           }
          ],
          "scatterpolar": [
           {
            "marker": {
             "colorbar": {
              "outlinewidth": 0,
              "ticks": ""
             }
            },
            "type": "scatterpolar"
           }
          ],
          "scatterpolargl": [
           {
            "marker": {
             "colorbar": {
              "outlinewidth": 0,
              "ticks": ""
             }
            },
            "type": "scatterpolargl"
           }
          ],
          "scatterternary": [
           {
            "marker": {
             "colorbar": {
              "outlinewidth": 0,
              "ticks": ""
             }
            },
            "type": "scatterternary"
           }
          ],
          "surface": [
           {
            "colorbar": {
             "outlinewidth": 0,
             "ticks": ""
            },
            "colorscale": [
             [
              0,
              "#0d0887"
             ],
             [
              0.1111111111111111,
              "#46039f"
             ],
             [
              0.2222222222222222,
              "#7201a8"
             ],
             [
              0.3333333333333333,
              "#9c179e"
             ],
             [
              0.4444444444444444,
              "#bd3786"
             ],
             [
              0.5555555555555556,
              "#d8576b"
             ],
             [
              0.6666666666666666,
              "#ed7953"
             ],
             [
              0.7777777777777778,
              "#fb9f3a"
             ],
             [
              0.8888888888888888,
              "#fdca26"
             ],
             [
              1,
              "#f0f921"
             ]
            ],
            "type": "surface"
           }
          ],
          "table": [
           {
            "cells": {
             "fill": {
              "color": "#EBF0F8"
             },
             "line": {
              "color": "white"
             }
            },
            "header": {
             "fill": {
              "color": "#C8D4E3"
             },
             "line": {
              "color": "white"
             }
            },
            "type": "table"
           }
          ]
         },
         "layout": {
          "annotationdefaults": {
           "arrowcolor": "#2a3f5f",
           "arrowhead": 0,
           "arrowwidth": 1
          },
          "coloraxis": {
           "colorbar": {
            "outlinewidth": 0,
            "ticks": ""
           }
          },
          "colorscale": {
           "diverging": [
            [
             0,
             "#8e0152"
            ],
            [
             0.1,
             "#c51b7d"
            ],
            [
             0.2,
             "#de77ae"
            ],
            [
             0.3,
             "#f1b6da"
            ],
            [
             0.4,
             "#fde0ef"
            ],
            [
             0.5,
             "#f7f7f7"
            ],
            [
             0.6,
             "#e6f5d0"
            ],
            [
             0.7,
             "#b8e186"
            ],
            [
             0.8,
             "#7fbc41"
            ],
            [
             0.9,
             "#4d9221"
            ],
            [
             1,
             "#276419"
            ]
           ],
           "sequential": [
            [
             0,
             "#0d0887"
            ],
            [
             0.1111111111111111,
             "#46039f"
            ],
            [
             0.2222222222222222,
             "#7201a8"
            ],
            [
             0.3333333333333333,
             "#9c179e"
            ],
            [
             0.4444444444444444,
             "#bd3786"
            ],
            [
             0.5555555555555556,
             "#d8576b"
            ],
            [
             0.6666666666666666,
             "#ed7953"
            ],
            [
             0.7777777777777778,
             "#fb9f3a"
            ],
            [
             0.8888888888888888,
             "#fdca26"
            ],
            [
             1,
             "#f0f921"
            ]
           ],
           "sequentialminus": [
            [
             0,
             "#0d0887"
            ],
            [
             0.1111111111111111,
             "#46039f"
            ],
            [
             0.2222222222222222,
             "#7201a8"
            ],
            [
             0.3333333333333333,
             "#9c179e"
            ],
            [
             0.4444444444444444,
             "#bd3786"
            ],
            [
             0.5555555555555556,
             "#d8576b"
            ],
            [
             0.6666666666666666,
             "#ed7953"
            ],
            [
             0.7777777777777778,
             "#fb9f3a"
            ],
            [
             0.8888888888888888,
             "#fdca26"
            ],
            [
             1,
             "#f0f921"
            ]
           ]
          },
          "colorway": [
           "#636efa",
           "#EF553B",
           "#00cc96",
           "#ab63fa",
           "#FFA15A",
           "#19d3f3",
           "#FF6692",
           "#B6E880",
           "#FF97FF",
           "#FECB52"
          ],
          "font": {
           "color": "#2a3f5f"
          },
          "geo": {
           "bgcolor": "white",
           "lakecolor": "white",
           "landcolor": "#E5ECF6",
           "showlakes": true,
           "showland": true,
           "subunitcolor": "white"
          },
          "hoverlabel": {
           "align": "left"
          },
          "hovermode": "closest",
          "mapbox": {
           "style": "light"
          },
          "paper_bgcolor": "white",
          "plot_bgcolor": "#E5ECF6",
          "polar": {
           "angularaxis": {
            "gridcolor": "white",
            "linecolor": "white",
            "ticks": ""
           },
           "bgcolor": "#E5ECF6",
           "radialaxis": {
            "gridcolor": "white",
            "linecolor": "white",
            "ticks": ""
           }
          },
          "scene": {
           "xaxis": {
            "backgroundcolor": "#E5ECF6",
            "gridcolor": "white",
            "gridwidth": 2,
            "linecolor": "white",
            "showbackground": true,
            "ticks": "",
            "zerolinecolor": "white"
           },
           "yaxis": {
            "backgroundcolor": "#E5ECF6",
            "gridcolor": "white",
            "gridwidth": 2,
            "linecolor": "white",
            "showbackground": true,
            "ticks": "",
            "zerolinecolor": "white"
           },
           "zaxis": {
            "backgroundcolor": "#E5ECF6",
            "gridcolor": "white",
            "gridwidth": 2,
            "linecolor": "white",
            "showbackground": true,
            "ticks": "",
            "zerolinecolor": "white"
           }
          },
          "shapedefaults": {
           "line": {
            "color": "#2a3f5f"
           }
          },
          "ternary": {
           "aaxis": {
            "gridcolor": "white",
            "linecolor": "white",
            "ticks": ""
           },
           "baxis": {
            "gridcolor": "white",
            "linecolor": "white",
            "ticks": ""
           },
           "bgcolor": "#E5ECF6",
           "caxis": {
            "gridcolor": "white",
            "linecolor": "white",
            "ticks": ""
           }
          },
          "title": {
           "x": 0.05
          },
          "xaxis": {
           "automargin": true,
           "gridcolor": "white",
           "linecolor": "white",
           "ticks": "",
           "title": {
            "standoff": 15
           },
           "zerolinecolor": "white",
           "zerolinewidth": 2
          },
          "yaxis": {
           "automargin": true,
           "gridcolor": "white",
           "linecolor": "white",
           "ticks": "",
           "title": {
            "standoff": 15
           },
           "zerolinecolor": "white",
           "zerolinewidth": 2
          }
         }
        },
        "title": {
         "text": "Violin plot of the Unique Tokens for type of reports"
        },
        "yaxis": {
         "range": [
          0,
          5000
         ]
        }
       }
      }
     },
     "metadata": {}
    }
   ],
   "source": [
    "plot_violin(data_add_features, \"Length\")\n",
    "plot_violin(data_add_features, \"Unique Tokens\")"
   ]
  },
  {
   "cell_type": "code",
   "execution_count": 19,
   "metadata": {},
   "outputs": [],
   "source": [
    "# function to tag the part of speech using the pre trained model from Spacy\n",
    "\n",
    "def part_Speech_tagging(data_in):\n",
    "    nlp = spacy.load(\"en_core_web_sm\")\n",
    "    doc = nlp(data_in)\n",
    "\n",
    "    columns_tok = [\"token_text\", \"token_lemma\", \"token_pos\", \"token_dep\"]\n",
    "    df_tok = pd.DataFrame(columns=columns_tok)\n",
    "    text = []\n",
    "    lemma = []\n",
    "    pos = []\n",
    "    dep =[]\n",
    "    for token in doc:\n",
    "        text.append(token.text)\n",
    "        lemma.append(token.lemma_)\n",
    "        pos.append(token.pos_)\n",
    "        dep.append(token.dep_)\n",
    "\n",
    "    df_tok[\"token_text\"] = text\n",
    "    df_tok[\"token_lemma\"] = lemma\n",
    "    df_tok[\"token_pos\"] = pos\n",
    "    df_tok[\"token_dep\"] = dep\n",
    "\n",
    "    return df_tok\n"
   ]
  },
  {
   "cell_type": "code",
   "execution_count": 20,
   "metadata": {},
   "outputs": [
    {
     "output_type": "execute_result",
     "data": {
      "text/plain": [
       "                                                   URL              Class  \\\n",
       "0    https://issafrica.org/iss-today/time-to-tackle...  Analytical Report   \n",
       "1    http://www.understandingwar.org/backgrounder/r...  Analytical Report   \n",
       "2    http://www.understandingwar.org/backgrounder/r...  Analytical Report   \n",
       "3    http://www.understandingwar.org/backgrounder/w...  Analytical Report   \n",
       "4    http://www.understandingwar.org/backgrounder/r...  Analytical Report   \n",
       "..                                                 ...                ...   \n",
       "350                                 int-rep-o-18-e.txt   Situation Report   \n",
       "351                                 int-rep-o-18-f.txt   Situation Report   \n",
       "352                                 int-rep-o-18-g.txt   Situation Report   \n",
       "353                                 int-rep-o-18-h.txt   Situation Report   \n",
       "354  Summary of Russian press for Wednesday 29 July...   Situation Report   \n",
       "\n",
       "                                               Content  \\\n",
       "0      2020-11-25 On 26 September, hundreds of Mali...   \n",
       "1      By George Barros November 16, 2020 The Kreml...   \n",
       "2      By Ezgi Yazici November 13, 2020 Key Takeawa...   \n",
       "3      By Katherine Lawlor with Brandon Wallace Key...   \n",
       "4      By Isabel Ivanescu and Ezgi Yazici Key Takea...   \n",
       "..                                                 ...   \n",
       "350  Deputies are investigating after an explosive ...   \n",
       "351  Residents at a Springfield apartment complex w...   \n",
       "352  Several handheld explosive devices were found ...   \n",
       "353  Boulder police taped off the U.S. Bank at Broa...   \n",
       "354  By BBC Monitoring  Khabarovsk protests  Newspa...   \n",
       "\n",
       "                                             Tokenized  \\\n",
       "0    [<Number>, <Number>, <Number>, on, <Number>, s...   \n",
       "1    [by, george, barros, november, <Number>, <Numb...   \n",
       "2    [by, ezgi, yazici, november, <Number>, <Number...   \n",
       "3    [by, katherine, lawlor, with, brandon, wallace...   \n",
       "4    [by, isabel, ivanescu, and, ezgi, yazici, key,...   \n",
       "..                                                 ...   \n",
       "350  [deputies, are, investigating, after, an, expl...   \n",
       "351  [residents, at, a, springfield, apartment, com...   \n",
       "352  [several, handheld, explosive, devices, were, ...   \n",
       "353  [boulder, police, taped, off, the, u, s, bank,...   \n",
       "354  [by, bbc, monitoring, khabarovsk, protests, ne...   \n",
       "\n",
       "                                          Tokens Count  Class Type  Length  \\\n",
       "0    [(the, 127), (and, 83), (women, 82), (to, 70),...           0    2313   \n",
       "1    [(the, 67), (<Number>, 50), (to, 44), (csto, 3...           0    1393   \n",
       "2    [(the, 41), (in, 25), (to, 24), (s, 22), (and,...           0     824   \n",
       "3    [(s, 131), (the, 121), (to, 120), (<Number>, 1...           0    3528   \n",
       "4    [(in, 42), (the, 37), (and, 34), (a, 23), (to,...           0     878   \n",
       "..                                                 ...         ...     ...   \n",
       "350  [(the, 52), (a, 43), (was, 35), (to, 25), (dev...           3     784   \n",
       "351  [(the, 64), (a, 47), (was, 27), (in, 22), (bom...           3     791   \n",
       "352  [(the, 82), (a, 67), (bomb, 30), (to, 27), (wa...           3     941   \n",
       "353  [(the, 83), (a, 77), (was, 42), (to, 36), (bom...           3    1355   \n",
       "354  [(the, 103), (<Number>, 49), (of, 48), (that, ...           3    1797   \n",
       "\n",
       "     Unique Tokens                                  Tokens Percentage  \\\n",
       "0              521  [(the, 5.490704712494596), (and, 3.58841331603...   \n",
       "1              533  [(the, 4.809763101220388), (<Number>, 3.589375...   \n",
       "2              366  [(the, 4.975728155339806), (in, 3.033980582524...   \n",
       "3              985  [(s, 3.7131519274376417), (the, 3.429705215419...   \n",
       "4              390  [(in, 4.783599088838269), (the, 4.214123006833...   \n",
       "..             ...                                                ...   \n",
       "350            313  [(the, 6.63265306122449), (a, 5.48469387755102...   \n",
       "351            331  [(the, 8.09102402022756), (a, 5.94184576485461...   \n",
       "352            367  [(the, 8.71413390010627), (a, 7.12008501594048...   \n",
       "353            488  [(the, 6.125461254612546), (a, 5.6826568265682...   \n",
       "354            811  [(the, 5.7317751808569835), (<Number>, 2.72676...   \n",
       "\n",
       "     Root_verb  Root_noun  Root_aux  Root_propn        Adj       Adv  \\\n",
       "0     4.020752   0.172936  0.907912    0.172936  10.722006  3.112840   \n",
       "1     2.153625   0.789663  0.143575    0.287150   7.753051  2.153625   \n",
       "2     2.669903   0.364078  0.606796    0.364078  10.800971  3.276699   \n",
       "3     2.097506   0.255102  0.793651    0.623583   9.325397  3.032880   \n",
       "4     2.847380   0.227790  0.683371    0.113895   9.794989  2.847380   \n",
       "..         ...        ...       ...         ...        ...       ...   \n",
       "350   4.846939   0.382653  0.510204    0.000000   5.484694  1.913265   \n",
       "351   5.689001   0.000000  0.505689    0.000000   5.941846  1.011378   \n",
       "352   5.951116   0.212540  0.425080    0.000000   5.738576  1.062699   \n",
       "353   5.461255   0.000000  0.442804    0.000000   5.018450  2.583026   \n",
       "354   2.615470   0.779076  0.222593    2.003339   7.846411  2.003339   \n",
       "\n",
       "          Noun       Num      Pron      Propn       Verb  \n",
       "0    27.842629  2.204929  1.080847   6.009511  13.186338  \n",
       "1    20.459440  3.445800  0.430725  18.808327  10.050251  \n",
       "2    18.689320  1.699029  1.092233  16.626214  10.679612  \n",
       "3    15.731293  3.713152  0.963719  18.764172   8.928571  \n",
       "4    17.539863  2.050114  0.113895  15.034169  11.389522  \n",
       "..         ...       ...       ...        ...        ...  \n",
       "350  23.341837  1.020408  2.806122  11.096939  13.520408  \n",
       "351  26.295828  0.379267  2.022756   8.975980  13.653603  \n",
       "352  26.248672  0.318810  1.275239  11.902232  12.964931  \n",
       "353  23.690037  0.738007  3.025830  11.734317  14.169742  \n",
       "354  21.869783  2.726767  1.780746  19.476906  11.296605  \n",
       "\n",
       "[355 rows x 20 columns]"
      ],
      "text/html": "<div>\n<style scoped>\n    .dataframe tbody tr th:only-of-type {\n        vertical-align: middle;\n    }\n\n    .dataframe tbody tr th {\n        vertical-align: top;\n    }\n\n    .dataframe thead th {\n        text-align: right;\n    }\n</style>\n<table border=\"1\" class=\"dataframe\">\n  <thead>\n    <tr style=\"text-align: right;\">\n      <th></th>\n      <th>URL</th>\n      <th>Class</th>\n      <th>Content</th>\n      <th>Tokenized</th>\n      <th>Tokens Count</th>\n      <th>Class Type</th>\n      <th>Length</th>\n      <th>Unique Tokens</th>\n      <th>Tokens Percentage</th>\n      <th>Root_verb</th>\n      <th>Root_noun</th>\n      <th>Root_aux</th>\n      <th>Root_propn</th>\n      <th>Adj</th>\n      <th>Adv</th>\n      <th>Noun</th>\n      <th>Num</th>\n      <th>Pron</th>\n      <th>Propn</th>\n      <th>Verb</th>\n    </tr>\n  </thead>\n  <tbody>\n    <tr>\n      <th>0</th>\n      <td>https://issafrica.org/iss-today/time-to-tackle...</td>\n      <td>Analytical Report</td>\n      <td>2020-11-25 On 26 September, hundreds of Mali...</td>\n      <td>[&lt;Number&gt;, &lt;Number&gt;, &lt;Number&gt;, on, &lt;Number&gt;, s...</td>\n      <td>[(the, 127), (and, 83), (women, 82), (to, 70),...</td>\n      <td>0</td>\n      <td>2313</td>\n      <td>521</td>\n      <td>[(the, 5.490704712494596), (and, 3.58841331603...</td>\n      <td>4.020752</td>\n      <td>0.172936</td>\n      <td>0.907912</td>\n      <td>0.172936</td>\n      <td>10.722006</td>\n      <td>3.112840</td>\n      <td>27.842629</td>\n      <td>2.204929</td>\n      <td>1.080847</td>\n      <td>6.009511</td>\n      <td>13.186338</td>\n    </tr>\n    <tr>\n      <th>1</th>\n      <td>http://www.understandingwar.org/backgrounder/r...</td>\n      <td>Analytical Report</td>\n      <td>By George Barros November 16, 2020 The Kreml...</td>\n      <td>[by, george, barros, november, &lt;Number&gt;, &lt;Numb...</td>\n      <td>[(the, 67), (&lt;Number&gt;, 50), (to, 44), (csto, 3...</td>\n      <td>0</td>\n      <td>1393</td>\n      <td>533</td>\n      <td>[(the, 4.809763101220388), (&lt;Number&gt;, 3.589375...</td>\n      <td>2.153625</td>\n      <td>0.789663</td>\n      <td>0.143575</td>\n      <td>0.287150</td>\n      <td>7.753051</td>\n      <td>2.153625</td>\n      <td>20.459440</td>\n      <td>3.445800</td>\n      <td>0.430725</td>\n      <td>18.808327</td>\n      <td>10.050251</td>\n    </tr>\n    <tr>\n      <th>2</th>\n      <td>http://www.understandingwar.org/backgrounder/r...</td>\n      <td>Analytical Report</td>\n      <td>By Ezgi Yazici November 13, 2020 Key Takeawa...</td>\n      <td>[by, ezgi, yazici, november, &lt;Number&gt;, &lt;Number...</td>\n      <td>[(the, 41), (in, 25), (to, 24), (s, 22), (and,...</td>\n      <td>0</td>\n      <td>824</td>\n      <td>366</td>\n      <td>[(the, 4.975728155339806), (in, 3.033980582524...</td>\n      <td>2.669903</td>\n      <td>0.364078</td>\n      <td>0.606796</td>\n      <td>0.364078</td>\n      <td>10.800971</td>\n      <td>3.276699</td>\n      <td>18.689320</td>\n      <td>1.699029</td>\n      <td>1.092233</td>\n      <td>16.626214</td>\n      <td>10.679612</td>\n    </tr>\n    <tr>\n      <th>3</th>\n      <td>http://www.understandingwar.org/backgrounder/w...</td>\n      <td>Analytical Report</td>\n      <td>By Katherine Lawlor with Brandon Wallace Key...</td>\n      <td>[by, katherine, lawlor, with, brandon, wallace...</td>\n      <td>[(s, 131), (the, 121), (to, 120), (&lt;Number&gt;, 1...</td>\n      <td>0</td>\n      <td>3528</td>\n      <td>985</td>\n      <td>[(s, 3.7131519274376417), (the, 3.429705215419...</td>\n      <td>2.097506</td>\n      <td>0.255102</td>\n      <td>0.793651</td>\n      <td>0.623583</td>\n      <td>9.325397</td>\n      <td>3.032880</td>\n      <td>15.731293</td>\n      <td>3.713152</td>\n      <td>0.963719</td>\n      <td>18.764172</td>\n      <td>8.928571</td>\n    </tr>\n    <tr>\n      <th>4</th>\n      <td>http://www.understandingwar.org/backgrounder/r...</td>\n      <td>Analytical Report</td>\n      <td>By Isabel Ivanescu and Ezgi Yazici Key Takea...</td>\n      <td>[by, isabel, ivanescu, and, ezgi, yazici, key,...</td>\n      <td>[(in, 42), (the, 37), (and, 34), (a, 23), (to,...</td>\n      <td>0</td>\n      <td>878</td>\n      <td>390</td>\n      <td>[(in, 4.783599088838269), (the, 4.214123006833...</td>\n      <td>2.847380</td>\n      <td>0.227790</td>\n      <td>0.683371</td>\n      <td>0.113895</td>\n      <td>9.794989</td>\n      <td>2.847380</td>\n      <td>17.539863</td>\n      <td>2.050114</td>\n      <td>0.113895</td>\n      <td>15.034169</td>\n      <td>11.389522</td>\n    </tr>\n    <tr>\n      <th>...</th>\n      <td>...</td>\n      <td>...</td>\n      <td>...</td>\n      <td>...</td>\n      <td>...</td>\n      <td>...</td>\n      <td>...</td>\n      <td>...</td>\n      <td>...</td>\n      <td>...</td>\n      <td>...</td>\n      <td>...</td>\n      <td>...</td>\n      <td>...</td>\n      <td>...</td>\n      <td>...</td>\n      <td>...</td>\n      <td>...</td>\n      <td>...</td>\n      <td>...</td>\n    </tr>\n    <tr>\n      <th>350</th>\n      <td>int-rep-o-18-e.txt</td>\n      <td>Situation Report</td>\n      <td>Deputies are investigating after an explosive ...</td>\n      <td>[deputies, are, investigating, after, an, expl...</td>\n      <td>[(the, 52), (a, 43), (was, 35), (to, 25), (dev...</td>\n      <td>3</td>\n      <td>784</td>\n      <td>313</td>\n      <td>[(the, 6.63265306122449), (a, 5.48469387755102...</td>\n      <td>4.846939</td>\n      <td>0.382653</td>\n      <td>0.510204</td>\n      <td>0.000000</td>\n      <td>5.484694</td>\n      <td>1.913265</td>\n      <td>23.341837</td>\n      <td>1.020408</td>\n      <td>2.806122</td>\n      <td>11.096939</td>\n      <td>13.520408</td>\n    </tr>\n    <tr>\n      <th>351</th>\n      <td>int-rep-o-18-f.txt</td>\n      <td>Situation Report</td>\n      <td>Residents at a Springfield apartment complex w...</td>\n      <td>[residents, at, a, springfield, apartment, com...</td>\n      <td>[(the, 64), (a, 47), (was, 27), (in, 22), (bom...</td>\n      <td>3</td>\n      <td>791</td>\n      <td>331</td>\n      <td>[(the, 8.09102402022756), (a, 5.94184576485461...</td>\n      <td>5.689001</td>\n      <td>0.000000</td>\n      <td>0.505689</td>\n      <td>0.000000</td>\n      <td>5.941846</td>\n      <td>1.011378</td>\n      <td>26.295828</td>\n      <td>0.379267</td>\n      <td>2.022756</td>\n      <td>8.975980</td>\n      <td>13.653603</td>\n    </tr>\n    <tr>\n      <th>352</th>\n      <td>int-rep-o-18-g.txt</td>\n      <td>Situation Report</td>\n      <td>Several handheld explosive devices were found ...</td>\n      <td>[several, handheld, explosive, devices, were, ...</td>\n      <td>[(the, 82), (a, 67), (bomb, 30), (to, 27), (wa...</td>\n      <td>3</td>\n      <td>941</td>\n      <td>367</td>\n      <td>[(the, 8.71413390010627), (a, 7.12008501594048...</td>\n      <td>5.951116</td>\n      <td>0.212540</td>\n      <td>0.425080</td>\n      <td>0.000000</td>\n      <td>5.738576</td>\n      <td>1.062699</td>\n      <td>26.248672</td>\n      <td>0.318810</td>\n      <td>1.275239</td>\n      <td>11.902232</td>\n      <td>12.964931</td>\n    </tr>\n    <tr>\n      <th>353</th>\n      <td>int-rep-o-18-h.txt</td>\n      <td>Situation Report</td>\n      <td>Boulder police taped off the U.S. Bank at Broa...</td>\n      <td>[boulder, police, taped, off, the, u, s, bank,...</td>\n      <td>[(the, 83), (a, 77), (was, 42), (to, 36), (bom...</td>\n      <td>3</td>\n      <td>1355</td>\n      <td>488</td>\n      <td>[(the, 6.125461254612546), (a, 5.6826568265682...</td>\n      <td>5.461255</td>\n      <td>0.000000</td>\n      <td>0.442804</td>\n      <td>0.000000</td>\n      <td>5.018450</td>\n      <td>2.583026</td>\n      <td>23.690037</td>\n      <td>0.738007</td>\n      <td>3.025830</td>\n      <td>11.734317</td>\n      <td>14.169742</td>\n    </tr>\n    <tr>\n      <th>354</th>\n      <td>Summary of Russian press for Wednesday 29 July...</td>\n      <td>Situation Report</td>\n      <td>By BBC Monitoring  Khabarovsk protests  Newspa...</td>\n      <td>[by, bbc, monitoring, khabarovsk, protests, ne...</td>\n      <td>[(the, 103), (&lt;Number&gt;, 49), (of, 48), (that, ...</td>\n      <td>3</td>\n      <td>1797</td>\n      <td>811</td>\n      <td>[(the, 5.7317751808569835), (&lt;Number&gt;, 2.72676...</td>\n      <td>2.615470</td>\n      <td>0.779076</td>\n      <td>0.222593</td>\n      <td>2.003339</td>\n      <td>7.846411</td>\n      <td>2.003339</td>\n      <td>21.869783</td>\n      <td>2.726767</td>\n      <td>1.780746</td>\n      <td>19.476906</td>\n      <td>11.296605</td>\n    </tr>\n  </tbody>\n</table>\n<p>355 rows × 20 columns</p>\n</div>"
     },
     "metadata": {},
     "execution_count": 20
    }
   ],
   "source": [
    "# Function to add feature based on the part to speech tagging\n",
    "\n",
    "def feature_add_speech(data):\n",
    "    # counting the root of a phrase by different type might give me better some understanding of different type of the documentes\n",
    "    root_verb = []\n",
    "    root_noun = []\n",
    "    root_propn = []\n",
    "    root_aux = []\n",
    "    # also the counting the type of tags used in the phrases of the document can give some insights of the type of document\n",
    "    adj = []\n",
    "    adv =[]\n",
    "    noun = []\n",
    "    num = []\n",
    "    pron = []\n",
    "    propn = []\n",
    "    verb = []\n",
    "    \n",
    "    for i in range(data.shape[0]):\n",
    "        #print(i)\n",
    "        length = data['Length'][i]\n",
    "        df_tagged = part_Speech_tagging(data['Content'][i])\n",
    "\n",
    "        a = df_tagged[df_tagged[\"token_dep\"] == 'ROOT']\n",
    "        if 'VERB' in a['token_pos'].value_counts():\n",
    "            root_verb.append(a['token_pos'].value_counts()['VERB'] * 100 / length)\n",
    "        else:\n",
    "            root_verb.append(0)\n",
    "        \n",
    "        if 'NOUN' in a['token_pos'].value_counts():\n",
    "            root_noun.append(a['token_pos'].value_counts()['NOUN'] * 100 / length)\n",
    "        else:\n",
    "            root_noun.append(0)\n",
    "\n",
    "        if 'AUX' in a['token_pos'].value_counts():\n",
    "            root_aux.append(a['token_pos'].value_counts()['AUX'] * 100 / length)\n",
    "        else:\n",
    "            root_aux.append(0)\n",
    "\n",
    "        if 'PROPN' in a['token_pos'].value_counts():\n",
    "            root_propn.append(a['token_pos'].value_counts()['PROPN'] * 100 / length)\n",
    "        else:\n",
    "            root_propn.append(0)\n",
    "        \n",
    "\n",
    "        b = df_tagged['token_pos'].value_counts()\n",
    "\n",
    "        if 'ADJ' in b:\n",
    "            adj.append(b['ADJ'] * 100 / length)\n",
    "        else:\n",
    "            adj.append(0)\n",
    "        \n",
    "        if 'ADV' in b:\n",
    "            adv.append(b['ADV'] * 100 / length)\n",
    "        else:\n",
    "            adv.append(0)\n",
    "\n",
    "        if 'NOUN' in b:\n",
    "            noun.append(b['NOUN'] * 100 / length)\n",
    "        else:\n",
    "            noun.append(0)\n",
    "\n",
    "        if 'NUM' in b:\n",
    "            num.append(b['NUM'] * 100 / length)\n",
    "        else:\n",
    "            num.append(0)\n",
    "\n",
    "        if 'PRON' in b:\n",
    "            pron.append(b['PRON'] * 100 / length)\n",
    "        else:\n",
    "            pron.append(0)\n",
    "\n",
    "        if 'PROPN' in b:\n",
    "            propn.append(b['PROPN'] * 100 / length)\n",
    "        else:\n",
    "            propn.append(0)\n",
    "\n",
    "        if 'VERB' in b:\n",
    "            verb.append(b['VERB'] * 100 / length)\n",
    "        else:\n",
    "            verb.append(0)\n",
    "        \n",
    "\n",
    "    \n",
    "    data['Root_verb'] = root_verb\n",
    "    data['Root_noun'] = root_noun\n",
    "    data['Root_aux'] = root_aux\n",
    "    data['Root_propn'] = root_propn\n",
    "\n",
    "    data['Adj'] = adj\n",
    "    data['Adv'] = adv\n",
    "    data['Noun'] = noun\n",
    "    data['Num'] = num\n",
    "    data['Pron'] = pron\n",
    "    data['Propn'] = propn\n",
    "    data['Verb'] = verb\n",
    "\n",
    "    return data\n",
    "\n",
    "\n",
    "\n",
    "data_add_speech_tag = feature_add_speech(data_add_features)\n",
    "data_add_speech_tag"
   ]
  },
  {
   "cell_type": "code",
   "execution_count": 21,
   "metadata": {},
   "outputs": [],
   "source": [
    "# Function to remove the stopwords and symbols from the\n",
    "def remove_stopwords(corpus):\n",
    "    stopword = stopwords.words('english')\n",
    "    symbols = \"!\\\"#$%&()'*+-–./:;<=>?@[\\]^_`{|}~\\n\"\n",
    "    copy_corpus = []\n",
    "    for token in corpus:\n",
    "        if token in stopword:\n",
    "             copy_corpus.append(\"\")\n",
    "        elif token in symbols:\n",
    "             copy_corpus.append(\"\")\n",
    "        else:\n",
    "            copy_corpus.append(token)\n",
    "    return copy_corpus\n",
    "\n",
    "# function to get right tag for the lemmatizzation \n",
    "def get_wordnet_pos(word):\n",
    "    \"\"\"Map POS tag to first character lemmatize() accepts\"\"\"\n",
    "    tag = nltk.pos_tag([word])[0][1][0].upper()\n",
    "    tag_dict = {\"J\": wordnet.ADJ,\n",
    "                \"N\": wordnet.NOUN,\n",
    "                \"V\": wordnet.VERB,\n",
    "                \"R\": wordnet.ADV}\n",
    "\n",
    "    return tag_dict.get(tag, wordnet.NOUN)\n",
    "\n",
    "# Function to lemmatize the articles\n",
    "def lemmatizzation(corpus):\n",
    "    lemmatizer = WordNetLemmatizer()\n",
    "    \n",
    "    lemmatized_list = []\n",
    "\n",
    "    for token in corpus:\n",
    "        lemmatized = lemmatizer.lemmatize(token, get_wordnet_pos(token))\n",
    "\n",
    "        lemmatized_list.append(lemmatized)\n",
    "\n",
    "    return lemmatized_list\n",
    "\n",
    "# pre processing before the feature extraction with TF-IDF \n",
    "def pre_extraction_TFIDF(in_data):\n",
    "    out = []\n",
    "    for i in range(in_data.shape[0]):\n",
    "        corpus = in_data['Content'][i]\n",
    "        # The backslash is an escape character to let the interpreter know we mean to use it as a string literal (- or ') \n",
    "        re_punctuation_string = '[\\s,/.?\\-\\'`’]'  # split on spaces (\\s),  commas (,), slash (/), fullstop (.), question marks (?), hyphens (-), and apostrophe (').\n",
    "        tokenized = re.split(re_punctuation_string, corpus) # in python's regex, [...] is an alternative to writing .|.|.\n",
    "        tokenized = [token.lower() for token in tokenized] # Lowercasing everything\n",
    "        tokenized = remove_stopwords(tokenized) # remove all the stop words and the symbols \n",
    "        tokenized = list(filter(None, tokenized)) # remove empty strings from list \n",
    "\n",
    "        tokenized = ['<Number>' if token.isdigit() else token for token in tokenized ]  # converting all the numbers to <Number>\n",
    "\n",
    "        lemmatized = lemmatizzation(tokenized)\n",
    "\n",
    "        out.append(lemmatized)\n",
    "    \n",
    "    in_data['Pre TFIDF'] = out\n",
    "\n",
    "    return in_data"
   ]
  },
  {
   "cell_type": "code",
   "execution_count": 22,
   "metadata": {},
   "outputs": [],
   "source": [
    "# feature extraction with TF-IDF\n",
    "\n",
    "def feature_extraction_TFIDF(in_data):\n",
    "\n",
    "    out_data = pre_extraction_TFIDF(in_data)\n",
    "    vectorizer = TfidfVectorizer(min_df=0.01)\n",
    "    out_data['Pre TFIDF'] = [\" \".join(doc) for doc in out_data['Pre TFIDF'].values]\n",
    "    vectors = vectorizer.fit_transform(out_data['Pre TFIDF'])\n",
    "\n",
    "    feature_names = vectorizer.get_feature_names()\n",
    "    dense = vectors.todense()\n",
    "    denselist = dense.tolist()\n",
    "\n",
    "    df = pd.DataFrame(denselist, columns=feature_names)\n",
    "\n",
    "    return df"
   ]
  },
  {
   "cell_type": "code",
   "execution_count": 23,
   "metadata": {},
   "outputs": [],
   "source": [
    "# function to extract all the features from the dataset\n",
    "def data_features(df_in):\n",
    "    features_TFIDF = feature_extraction_TFIDF(df_in)\n",
    "    print(features_TFIDF.shape)\n",
    "\n",
    "    feature_columns = [ 'Class','Length', 'Unique Tokens',  'Root_verb',\n",
    "       'Root_noun', 'Root_aux', 'Root_propn', 'Adj', 'Adv', 'Noun', 'Num',\n",
    "       'Pron', 'Propn', 'Verb']\n",
    "    \n",
    "    original_features = df_in[feature_columns]\n",
    "    #print(original_features.shape)\n",
    "\n",
    "    feature_df = pd.concat([original_features, features_TFIDF], axis=1)\n",
    "    #print(feature_df.shape)\n",
    "\n",
    "    return feature_df\n"
   ]
  },
  {
   "cell_type": "code",
   "execution_count": 24,
   "metadata": {},
   "outputs": [
    {
     "output_type": "stream",
     "name": "stdout",
     "text": [
      "(355, 5316)\n"
     ]
    },
    {
     "output_type": "execute_result",
     "data": {
      "text/plain": [
       "                 Class  Length  Unique Tokens  Root_verb  Root_noun  Root_aux  \\\n",
       "0    Analytical Report    2313            521   4.020752   0.172936  0.907912   \n",
       "1    Analytical Report    1393            533   2.153625   0.789663  0.143575   \n",
       "2    Analytical Report     824            366   2.669903   0.364078  0.606796   \n",
       "3    Analytical Report    3528            985   2.097506   0.255102  0.793651   \n",
       "4    Analytical Report     878            390   2.847380   0.227790  0.683371   \n",
       "..                 ...     ...            ...        ...        ...       ...   \n",
       "350   Situation Report     784            313   4.846939   0.382653  0.510204   \n",
       "351   Situation Report     791            331   5.689001   0.000000  0.505689   \n",
       "352   Situation Report     941            367   5.951116   0.212540  0.425080   \n",
       "353   Situation Report    1355            488   5.461255   0.000000  0.442804   \n",
       "354   Situation Report    1797            811   2.615470   0.779076  0.222593   \n",
       "\n",
       "     Root_propn        Adj       Adv       Noun  ...  youth   youtube  \\\n",
       "0      0.172936  10.722006  3.112840  27.842629  ...    0.0  0.000000   \n",
       "1      0.287150   7.753051  2.153625  20.459440  ...    0.0  0.018059   \n",
       "2      0.364078  10.800971  3.276699  18.689320  ...    0.0  0.000000   \n",
       "3      0.623583   9.325397  3.032880  15.731293  ...    0.0  0.000000   \n",
       "4      0.113895   9.794989  2.847380  17.539863  ...    0.0  0.000000   \n",
       "..          ...        ...       ...        ...  ...    ...       ...   \n",
       "350    0.000000   5.484694  1.913265  23.341837  ...    0.0  0.000000   \n",
       "351    0.000000   5.941846  1.011378  26.295828  ...    0.0  0.000000   \n",
       "352    0.000000   5.738576  1.062699  26.248672  ...    0.0  0.000000   \n",
       "353    0.000000   5.018450  2.583026  23.690037  ...    0.0  0.000000   \n",
       "354    2.003339   7.846411  2.003339  21.869783  ...    0.0  0.046909   \n",
       "\n",
       "     zachary  zakir  zawahiri  zealand  zero  zionist      zone  zubair  \n",
       "0        0.0    0.0       0.0      0.0   0.0      0.0  0.000000     0.0  \n",
       "1        0.0    0.0       0.0      0.0   0.0      0.0  0.000000     0.0  \n",
       "2        0.0    0.0       0.0      0.0   0.0      0.0  0.017012     0.0  \n",
       "3        0.0    0.0       0.0      0.0   0.0      0.0  0.000000     0.0  \n",
       "4        0.0    0.0       0.0      0.0   0.0      0.0  0.000000     0.0  \n",
       "..       ...    ...       ...      ...   ...      ...       ...     ...  \n",
       "350      0.0    0.0       0.0      0.0   0.0      0.0  0.000000     0.0  \n",
       "351      0.0    0.0       0.0      0.0   0.0      0.0  0.000000     0.0  \n",
       "352      0.0    0.0       0.0      0.0   0.0      0.0  0.000000     0.0  \n",
       "353      0.0    0.0       0.0      0.0   0.0      0.0  0.000000     0.0  \n",
       "354      0.0    0.0       0.0      0.0   0.0      0.0  0.000000     0.0  \n",
       "\n",
       "[355 rows x 5330 columns]"
      ],
      "text/html": "<div>\n<style scoped>\n    .dataframe tbody tr th:only-of-type {\n        vertical-align: middle;\n    }\n\n    .dataframe tbody tr th {\n        vertical-align: top;\n    }\n\n    .dataframe thead th {\n        text-align: right;\n    }\n</style>\n<table border=\"1\" class=\"dataframe\">\n  <thead>\n    <tr style=\"text-align: right;\">\n      <th></th>\n      <th>Class</th>\n      <th>Length</th>\n      <th>Unique Tokens</th>\n      <th>Root_verb</th>\n      <th>Root_noun</th>\n      <th>Root_aux</th>\n      <th>Root_propn</th>\n      <th>Adj</th>\n      <th>Adv</th>\n      <th>Noun</th>\n      <th>...</th>\n      <th>youth</th>\n      <th>youtube</th>\n      <th>zachary</th>\n      <th>zakir</th>\n      <th>zawahiri</th>\n      <th>zealand</th>\n      <th>zero</th>\n      <th>zionist</th>\n      <th>zone</th>\n      <th>zubair</th>\n    </tr>\n  </thead>\n  <tbody>\n    <tr>\n      <th>0</th>\n      <td>Analytical Report</td>\n      <td>2313</td>\n      <td>521</td>\n      <td>4.020752</td>\n      <td>0.172936</td>\n      <td>0.907912</td>\n      <td>0.172936</td>\n      <td>10.722006</td>\n      <td>3.112840</td>\n      <td>27.842629</td>\n      <td>...</td>\n      <td>0.0</td>\n      <td>0.000000</td>\n      <td>0.0</td>\n      <td>0.0</td>\n      <td>0.0</td>\n      <td>0.0</td>\n      <td>0.0</td>\n      <td>0.0</td>\n      <td>0.000000</td>\n      <td>0.0</td>\n    </tr>\n    <tr>\n      <th>1</th>\n      <td>Analytical Report</td>\n      <td>1393</td>\n      <td>533</td>\n      <td>2.153625</td>\n      <td>0.789663</td>\n      <td>0.143575</td>\n      <td>0.287150</td>\n      <td>7.753051</td>\n      <td>2.153625</td>\n      <td>20.459440</td>\n      <td>...</td>\n      <td>0.0</td>\n      <td>0.018059</td>\n      <td>0.0</td>\n      <td>0.0</td>\n      <td>0.0</td>\n      <td>0.0</td>\n      <td>0.0</td>\n      <td>0.0</td>\n      <td>0.000000</td>\n      <td>0.0</td>\n    </tr>\n    <tr>\n      <th>2</th>\n      <td>Analytical Report</td>\n      <td>824</td>\n      <td>366</td>\n      <td>2.669903</td>\n      <td>0.364078</td>\n      <td>0.606796</td>\n      <td>0.364078</td>\n      <td>10.800971</td>\n      <td>3.276699</td>\n      <td>18.689320</td>\n      <td>...</td>\n      <td>0.0</td>\n      <td>0.000000</td>\n      <td>0.0</td>\n      <td>0.0</td>\n      <td>0.0</td>\n      <td>0.0</td>\n      <td>0.0</td>\n      <td>0.0</td>\n      <td>0.017012</td>\n      <td>0.0</td>\n    </tr>\n    <tr>\n      <th>3</th>\n      <td>Analytical Report</td>\n      <td>3528</td>\n      <td>985</td>\n      <td>2.097506</td>\n      <td>0.255102</td>\n      <td>0.793651</td>\n      <td>0.623583</td>\n      <td>9.325397</td>\n      <td>3.032880</td>\n      <td>15.731293</td>\n      <td>...</td>\n      <td>0.0</td>\n      <td>0.000000</td>\n      <td>0.0</td>\n      <td>0.0</td>\n      <td>0.0</td>\n      <td>0.0</td>\n      <td>0.0</td>\n      <td>0.0</td>\n      <td>0.000000</td>\n      <td>0.0</td>\n    </tr>\n    <tr>\n      <th>4</th>\n      <td>Analytical Report</td>\n      <td>878</td>\n      <td>390</td>\n      <td>2.847380</td>\n      <td>0.227790</td>\n      <td>0.683371</td>\n      <td>0.113895</td>\n      <td>9.794989</td>\n      <td>2.847380</td>\n      <td>17.539863</td>\n      <td>...</td>\n      <td>0.0</td>\n      <td>0.000000</td>\n      <td>0.0</td>\n      <td>0.0</td>\n      <td>0.0</td>\n      <td>0.0</td>\n      <td>0.0</td>\n      <td>0.0</td>\n      <td>0.000000</td>\n      <td>0.0</td>\n    </tr>\n    <tr>\n      <th>...</th>\n      <td>...</td>\n      <td>...</td>\n      <td>...</td>\n      <td>...</td>\n      <td>...</td>\n      <td>...</td>\n      <td>...</td>\n      <td>...</td>\n      <td>...</td>\n      <td>...</td>\n      <td>...</td>\n      <td>...</td>\n      <td>...</td>\n      <td>...</td>\n      <td>...</td>\n      <td>...</td>\n      <td>...</td>\n      <td>...</td>\n      <td>...</td>\n      <td>...</td>\n      <td>...</td>\n    </tr>\n    <tr>\n      <th>350</th>\n      <td>Situation Report</td>\n      <td>784</td>\n      <td>313</td>\n      <td>4.846939</td>\n      <td>0.382653</td>\n      <td>0.510204</td>\n      <td>0.000000</td>\n      <td>5.484694</td>\n      <td>1.913265</td>\n      <td>23.341837</td>\n      <td>...</td>\n      <td>0.0</td>\n      <td>0.000000</td>\n      <td>0.0</td>\n      <td>0.0</td>\n      <td>0.0</td>\n      <td>0.0</td>\n      <td>0.0</td>\n      <td>0.0</td>\n      <td>0.000000</td>\n      <td>0.0</td>\n    </tr>\n    <tr>\n      <th>351</th>\n      <td>Situation Report</td>\n      <td>791</td>\n      <td>331</td>\n      <td>5.689001</td>\n      <td>0.000000</td>\n      <td>0.505689</td>\n      <td>0.000000</td>\n      <td>5.941846</td>\n      <td>1.011378</td>\n      <td>26.295828</td>\n      <td>...</td>\n      <td>0.0</td>\n      <td>0.000000</td>\n      <td>0.0</td>\n      <td>0.0</td>\n      <td>0.0</td>\n      <td>0.0</td>\n      <td>0.0</td>\n      <td>0.0</td>\n      <td>0.000000</td>\n      <td>0.0</td>\n    </tr>\n    <tr>\n      <th>352</th>\n      <td>Situation Report</td>\n      <td>941</td>\n      <td>367</td>\n      <td>5.951116</td>\n      <td>0.212540</td>\n      <td>0.425080</td>\n      <td>0.000000</td>\n      <td>5.738576</td>\n      <td>1.062699</td>\n      <td>26.248672</td>\n      <td>...</td>\n      <td>0.0</td>\n      <td>0.000000</td>\n      <td>0.0</td>\n      <td>0.0</td>\n      <td>0.0</td>\n      <td>0.0</td>\n      <td>0.0</td>\n      <td>0.0</td>\n      <td>0.000000</td>\n      <td>0.0</td>\n    </tr>\n    <tr>\n      <th>353</th>\n      <td>Situation Report</td>\n      <td>1355</td>\n      <td>488</td>\n      <td>5.461255</td>\n      <td>0.000000</td>\n      <td>0.442804</td>\n      <td>0.000000</td>\n      <td>5.018450</td>\n      <td>2.583026</td>\n      <td>23.690037</td>\n      <td>...</td>\n      <td>0.0</td>\n      <td>0.000000</td>\n      <td>0.0</td>\n      <td>0.0</td>\n      <td>0.0</td>\n      <td>0.0</td>\n      <td>0.0</td>\n      <td>0.0</td>\n      <td>0.000000</td>\n      <td>0.0</td>\n    </tr>\n    <tr>\n      <th>354</th>\n      <td>Situation Report</td>\n      <td>1797</td>\n      <td>811</td>\n      <td>2.615470</td>\n      <td>0.779076</td>\n      <td>0.222593</td>\n      <td>2.003339</td>\n      <td>7.846411</td>\n      <td>2.003339</td>\n      <td>21.869783</td>\n      <td>...</td>\n      <td>0.0</td>\n      <td>0.046909</td>\n      <td>0.0</td>\n      <td>0.0</td>\n      <td>0.0</td>\n      <td>0.0</td>\n      <td>0.0</td>\n      <td>0.0</td>\n      <td>0.000000</td>\n      <td>0.0</td>\n    </tr>\n  </tbody>\n</table>\n<p>355 rows × 5330 columns</p>\n</div>"
     },
     "metadata": {},
     "execution_count": 24
    }
   ],
   "source": [
    "df_features = data_features(data_add_speech_tag)\n",
    "df_features"
   ]
  },
  {
   "source": [
    "### Datasets\n"
   ],
   "cell_type": "markdown",
   "metadata": {}
  },
  {
   "cell_type": "code",
   "execution_count": 25,
   "metadata": {},
   "outputs": [],
   "source": [
    "# Devided the overall dataset in train, validation and test set\n",
    "train_dataset, test_dataset = train_test_split(df_features, test_size=0.2)\n",
    "train_dataset, val_dataset = train_test_split(train_dataset, test_size=0.125)\n",
    "\n",
    "\n",
    "# Devided input  x and labels y \n",
    "\n",
    "x_train = train_dataset.loc[:, train_dataset.columns != 'Class']\n",
    "y_train = train_dataset['Class']\n",
    "\n",
    "x_val = val_dataset.loc[:, val_dataset.columns != 'Class']\n",
    "y_val = val_dataset['Class']\n",
    "\n",
    "x_test = test_dataset.loc[:, test_dataset.columns != 'Class']\n",
    "y_test = test_dataset['Class']"
   ]
  },
  {
   "source": [
    "## Model buildings \n"
   ],
   "cell_type": "markdown",
   "metadata": {}
  },
  {
   "cell_type": "code",
   "execution_count": 26,
   "metadata": {},
   "outputs": [],
   "source": [
    "# Function to calculate the scores\n",
    "# multilabel_confusion_matrix, f1_score, accuracy_score, recall_score\n",
    "def score_calulation(classifier, x_test, y_test, title):\n",
    "\n",
    "    print('Result ' + title)\n",
    "    y_pred = classifier.predict(x_test)\n",
    "    f1_score_t = f1_score(y_test, y_pred, average='micro')\n",
    "    print('F1 Score is ', f1_score_t)\n",
    "\n",
    "    accuracy_score_t = accuracy_score(y_test, y_pred)\n",
    "    print('Accuracy  Score is ', accuracy_score_t)\n",
    "\n",
    "    recall_score_t = recall_score(y_test, y_pred, average='micro')\n",
    "    print('Recall Score is ', recall_score_t)\n",
    "\n",
    "    class_names = ['Analytical Report', 'Incident Report', 'Profile Report', 'Situation Report']\n",
    "    disp = plot_confusion_matrix(classifier, x_test, y_test,\n",
    "                                 display_labels=class_names,\n",
    "                                 cmap=plt.cm.Blues,\n",
    "                                 normalize=None)\n",
    "    disp.ax_.set_title(title)\n",
    "\n",
    "    print(title)\n",
    "    print(disp.confusion_matrix)\n",
    "\n",
    "    return\n",
    "\n"
   ]
  },
  {
   "cell_type": "code",
   "execution_count": 27,
   "metadata": {},
   "outputs": [],
   "source": [
    "# to check the result in tensoeboard\n",
    "# tensorboard --logdir ~/ray_results"
   ]
  },
  {
   "cell_type": "code",
   "execution_count": 28,
   "metadata": {},
   "outputs": [
    {
     "output_type": "stream",
     "name": "stdout",
     "text": [
      "{'max_depth': 10}\n0.7502040816326531\n"
     ]
    }
   ],
   "source": [
    "# Model with decision tree classifier\n",
    "\n",
    "parameter_grid = {\"max_depth\": [10, 50, 100, 200, 500, 1000]}\n",
    "\n",
    "\n",
    "tune_search = TuneGridSearchCV(\n",
    "    DecisionTreeClassifier(),\n",
    "    parameter_grid,\n",
    "    refit=True,\n",
    "    max_iters=10,\n",
    "    scoring='f1_micro')\n",
    "\n",
    "tune_search.fit(x_train, y_train)\n",
    "\n",
    "#best set of perameter\n",
    "print(tune_search.best_params_ )\n",
    "\n",
    "#best score with best set of perameters\n",
    "print(tune_search.best_score)"
   ]
  },
  {
   "cell_type": "code",
   "execution_count": 29,
   "metadata": {},
   "outputs": [
    {
     "output_type": "stream",
     "name": "stdout",
     "text": [
      "Decision Tree Classifier max depth 10 F1 Score is 1.0\n",
      "Decision Tree Classifier max depth 50 F1 Score is 1.0\n",
      "Decision Tree Classifier max depth 100 F1 Score is 1.0\n",
      "Decision Tree Classifier max depth 200 F1 Score is 1.0\n",
      "Decision Tree Classifier max depth 500 F1 Score is 1.0\n",
      "Decision Tree Classifier max depth 1000 F1 Score is 1.0\n"
     ]
    }
   ],
   "source": [
    "max_depth = [10, 50, 100, 200, 500, 1000]\n",
    "\n",
    "for i in range(len(max_depth)):\n",
    "    classifier = DecisionTreeClassifier(max_depth=max_depth[i])\n",
    "    classifier.fit(x_train, y_train)\n",
    "    y_pred = classifier.predict(x_train)\n",
    "    f1_score_t = f1_score(y_train, y_pred, average='micro')\n",
    "    print_out = 'Decision Tree Classifier max depth ' + str(max_depth[i]) + ' F1 Score is ' + str(f1_score_t)\n",
    "    print(print_out)\n",
    "\n"
   ]
  },
  {
   "cell_type": "code",
   "execution_count": 30,
   "metadata": {},
   "outputs": [
    {
     "output_type": "stream",
     "name": "stdout",
     "text": [
      "Result Decision Tree Classifier\nF1 Score is  0.7777777777777778\nAccuracy  Score is  0.7777777777777778\nRecall Score is  0.7777777777777778\nDecision Tree Classifier\n[[ 2  1  0  2]\n [ 0  7  0  2]\n [ 1  1 11  0]\n [ 0  1  0  8]]\n"
     ]
    },
    {
     "output_type": "display_data",
     "data": {
      "text/plain": "<Figure size 432x288 with 2 Axes>",
      "image/svg+xml": "<?xml version=\"1.0\" encoding=\"utf-8\" standalone=\"no\"?>\r\n<!DOCTYPE svg PUBLIC \"-//W3C//DTD SVG 1.1//EN\"\r\n  \"http://www.w3.org/Graphics/SVG/1.1/DTD/svg11.dtd\">\r\n<!-- Created with matplotlib (https://matplotlib.org/) -->\r\n<svg height=\"277.314375pt\" version=\"1.1\" viewBox=\"0 0 385.2895 277.314375\" width=\"385.2895pt\" xmlns=\"http://www.w3.org/2000/svg\" xmlns:xlink=\"http://www.w3.org/1999/xlink\">\r\n <metadata>\r\n  <rdf:RDF xmlns:cc=\"http://creativecommons.org/ns#\" xmlns:dc=\"http://purl.org/dc/elements/1.1/\" xmlns:rdf=\"http://www.w3.org/1999/02/22-rdf-syntax-ns#\">\r\n   <cc:Work>\r\n    <dc:type rdf:resource=\"http://purl.org/dc/dcmitype/StillImage\"/>\r\n    <dc:date>2020-12-18T12:42:44.359858</dc:date>\r\n    <dc:format>image/svg+xml</dc:format>\r\n    <dc:creator>\r\n     <cc:Agent>\r\n      <dc:title>Matplotlib v3.3.2, https://matplotlib.org/</dc:title>\r\n     </cc:Agent>\r\n    </dc:creator>\r\n   </cc:Work>\r\n  </rdf:RDF>\r\n </metadata>\r\n <defs>\r\n  <style type=\"text/css\">*{stroke-linecap:butt;stroke-linejoin:round;}</style>\r\n </defs>\r\n <g id=\"figure_1\">\r\n  <g id=\"patch_1\">\r\n   <path d=\"M 0 277.314375 \r\nL 385.2895 277.314375 \r\nL 385.2895 0 \r\nL 0 0 \r\nz\r\n\" style=\"fill:none;\"/>\r\n  </g>\r\n  <g id=\"axes_1\">\r\n   <g id=\"patch_2\">\r\n    <path d=\"M 113.3125 239.758125 \r\nL 330.7525 239.758125 \r\nL 330.7525 22.318125 \r\nL 113.3125 22.318125 \r\nz\r\n\" style=\"fill:#ffffff;\"/>\r\n   </g>\r\n   <g clip-path=\"url(#p3ff9e50a21)\">\r\n    <image height=\"218\" id=\"image019763dcfc\" transform=\"scale(1 -1)translate(0 -218)\" width=\"218\" x=\"113.3125\" xlink:href=\"data:image/png;base64,\r\niVBORw0KGgoAAAANSUhEUgAAANoAAADaCAYAAADAHVzbAAAC6ElEQVR4nO3VsU0CUBSGUTGEisYwiJU7OIwbuAbDuIAVpS2dDQ2hkMQEC5zB4n0vwXMm+G/x5S6+f67Xuxt0PF9mTxhms17NnjDE4+vb7AnD3M8eAP+B0CAgNAgIDQJCg4DQICA0CAgNAkKDgNAgIDQICA0CQoOA0CAgNAgIDQJCg4DQICA0CAgNAkKDgNAgIDQICA0CQoOA0CAgNAgIDQJCg4DQICA0CAgNAkKDgNAgIDQICA0CQoOA0CAgNAgIDQJCg4DQICA0CAgNAkKDgNAgIDQICA0CQoOA0CAgNAgIDQJCg4DQILA8ni+zN/BHD08vsycMcdptZ08YxkeDgNAgIDQICA0CQoOA0CAgNAgIDQJCg4DQICA0CAgNAkKDgNAgIDQICA0CQoOA0CAgNAgIDQJCg4DQICA0CAgNAkKDgNAgIDQICA0CQoOA0CAgNAgIDQJCg4DQICA0CAgNAkKDgNAgIDQICA0CQoOA0CAgNAgIDQJCg4DQICA0CAgNAkKDgNAgIDQICA0CQoPAcrNezd4wxPP2ffaEYU677ewJQ+wP59kThvHRICA0CAgNAkKDgNAgIDQICA0CQoOA0CAgNAgIDQJCg4DQICA0CAgNAkKDgNAgIDQICA0CQoOA0CAgNAgIDQJCg4DQICA0CAgNAkKDgNAgIDQICA0CQoOA0CAgNAgIDQJCg4DQICA0CAgNAkKDgNAgIDQICA0CQoOA0CAgNAgIDQJCg4DQICA0CAgNAkKDgNAgIDQILD4+v66zR4zwsF7NnjDM5kZv2x/OsycM46NBQGgQEBoEhAYBoUFAaBAQGgSEBgGhQUBoEBAaBIQGAaFBQGgQEBoEhAYBoUFAaBAQGgSEBgGhQUBoEBAaBIQGAaFBQGgQEBoEhAYBoUFAaBAQGgSEBgGhQUBoEBAaBIQGAaFBQGgQEBoEhAYBoUFAaBAQGgSEBgGhQUBoEBAaBIQGAaFBQGgQEBoEhAYBoUHgFxgrHViX3L+7AAAAAElFTkSuQmCC\" y=\"-21.758125\"/>\r\n   </g>\r\n   <g id=\"matplotlib.axis_1\">\r\n    <g id=\"xtick_1\">\r\n     <g id=\"line2d_1\">\r\n      <defs>\r\n       <path d=\"M 0 0 \r\nL 0 3.5 \r\n\" id=\"ma8772fe7ad\" style=\"stroke:#000000;stroke-width:0.8;\"/>\r\n      </defs>\r\n      <g>\r\n       <use style=\"stroke:#000000;stroke-width:0.8;\" x=\"140.4925\" xlink:href=\"#ma8772fe7ad\" y=\"239.758125\"/>\r\n      </g>\r\n     </g>\r\n     <g id=\"text_1\">\r\n      <!-- Analytical Report -->\r\n      <g transform=\"translate(97.775313 254.356562)scale(0.1 -0.1)\">\r\n       <defs>\r\n        <path d=\"M 34.1875 63.1875 \r\nL 20.796875 26.90625 \r\nL 47.609375 26.90625 \r\nz\r\nM 28.609375 72.90625 \r\nL 39.796875 72.90625 \r\nL 67.578125 0 \r\nL 57.328125 0 \r\nL 50.6875 18.703125 \r\nL 17.828125 18.703125 \r\nL 11.1875 0 \r\nL 0.78125 0 \r\nz\r\n\" id=\"DejaVuSans-65\"/>\r\n        <path d=\"M 54.890625 33.015625 \r\nL 54.890625 0 \r\nL 45.90625 0 \r\nL 45.90625 32.71875 \r\nQ 45.90625 40.484375 42.875 44.328125 \r\nQ 39.84375 48.1875 33.796875 48.1875 \r\nQ 26.515625 48.1875 22.3125 43.546875 \r\nQ 18.109375 38.921875 18.109375 30.90625 \r\nL 18.109375 0 \r\nL 9.078125 0 \r\nL 9.078125 54.6875 \r\nL 18.109375 54.6875 \r\nL 18.109375 46.1875 \r\nQ 21.34375 51.125 25.703125 53.5625 \r\nQ 30.078125 56 35.796875 56 \r\nQ 45.21875 56 50.046875 50.171875 \r\nQ 54.890625 44.34375 54.890625 33.015625 \r\nz\r\n\" id=\"DejaVuSans-110\"/>\r\n        <path d=\"M 34.28125 27.484375 \r\nQ 23.390625 27.484375 19.1875 25 \r\nQ 14.984375 22.515625 14.984375 16.5 \r\nQ 14.984375 11.71875 18.140625 8.90625 \r\nQ 21.296875 6.109375 26.703125 6.109375 \r\nQ 34.1875 6.109375 38.703125 11.40625 \r\nQ 43.21875 16.703125 43.21875 25.484375 \r\nL 43.21875 27.484375 \r\nz\r\nM 52.203125 31.203125 \r\nL 52.203125 0 \r\nL 43.21875 0 \r\nL 43.21875 8.296875 \r\nQ 40.140625 3.328125 35.546875 0.953125 \r\nQ 30.953125 -1.421875 24.3125 -1.421875 \r\nQ 15.921875 -1.421875 10.953125 3.296875 \r\nQ 6 8.015625 6 15.921875 \r\nQ 6 25.140625 12.171875 29.828125 \r\nQ 18.359375 34.515625 30.609375 34.515625 \r\nL 43.21875 34.515625 \r\nL 43.21875 35.40625 \r\nQ 43.21875 41.609375 39.140625 45 \r\nQ 35.0625 48.390625 27.6875 48.390625 \r\nQ 23 48.390625 18.546875 47.265625 \r\nQ 14.109375 46.140625 10.015625 43.890625 \r\nL 10.015625 52.203125 \r\nQ 14.9375 54.109375 19.578125 55.046875 \r\nQ 24.21875 56 28.609375 56 \r\nQ 40.484375 56 46.34375 49.84375 \r\nQ 52.203125 43.703125 52.203125 31.203125 \r\nz\r\n\" id=\"DejaVuSans-97\"/>\r\n        <path d=\"M 9.421875 75.984375 \r\nL 18.40625 75.984375 \r\nL 18.40625 0 \r\nL 9.421875 0 \r\nz\r\n\" id=\"DejaVuSans-108\"/>\r\n        <path d=\"M 32.171875 -5.078125 \r\nQ 28.375 -14.84375 24.75 -17.8125 \r\nQ 21.140625 -20.796875 15.09375 -20.796875 \r\nL 7.90625 -20.796875 \r\nL 7.90625 -13.28125 \r\nL 13.1875 -13.28125 \r\nQ 16.890625 -13.28125 18.9375 -11.515625 \r\nQ 21 -9.765625 23.484375 -3.21875 \r\nL 25.09375 0.875 \r\nL 2.984375 54.6875 \r\nL 12.5 54.6875 \r\nL 29.59375 11.921875 \r\nL 46.6875 54.6875 \r\nL 56.203125 54.6875 \r\nz\r\n\" id=\"DejaVuSans-121\"/>\r\n        <path d=\"M 18.3125 70.21875 \r\nL 18.3125 54.6875 \r\nL 36.8125 54.6875 \r\nL 36.8125 47.703125 \r\nL 18.3125 47.703125 \r\nL 18.3125 18.015625 \r\nQ 18.3125 11.328125 20.140625 9.421875 \r\nQ 21.96875 7.515625 27.59375 7.515625 \r\nL 36.8125 7.515625 \r\nL 36.8125 0 \r\nL 27.59375 0 \r\nQ 17.1875 0 13.234375 3.875 \r\nQ 9.28125 7.765625 9.28125 18.015625 \r\nL 9.28125 47.703125 \r\nL 2.6875 47.703125 \r\nL 2.6875 54.6875 \r\nL 9.28125 54.6875 \r\nL 9.28125 70.21875 \r\nz\r\n\" id=\"DejaVuSans-116\"/>\r\n        <path d=\"M 9.421875 54.6875 \r\nL 18.40625 54.6875 \r\nL 18.40625 0 \r\nL 9.421875 0 \r\nz\r\nM 9.421875 75.984375 \r\nL 18.40625 75.984375 \r\nL 18.40625 64.59375 \r\nL 9.421875 64.59375 \r\nz\r\n\" id=\"DejaVuSans-105\"/>\r\n        <path d=\"M 48.78125 52.59375 \r\nL 48.78125 44.1875 \r\nQ 44.96875 46.296875 41.140625 47.34375 \r\nQ 37.3125 48.390625 33.40625 48.390625 \r\nQ 24.65625 48.390625 19.8125 42.84375 \r\nQ 14.984375 37.3125 14.984375 27.296875 \r\nQ 14.984375 17.28125 19.8125 11.734375 \r\nQ 24.65625 6.203125 33.40625 6.203125 \r\nQ 37.3125 6.203125 41.140625 7.25 \r\nQ 44.96875 8.296875 48.78125 10.40625 \r\nL 48.78125 2.09375 \r\nQ 45.015625 0.34375 40.984375 -0.53125 \r\nQ 36.96875 -1.421875 32.421875 -1.421875 \r\nQ 20.0625 -1.421875 12.78125 6.34375 \r\nQ 5.515625 14.109375 5.515625 27.296875 \r\nQ 5.515625 40.671875 12.859375 48.328125 \r\nQ 20.21875 56 33.015625 56 \r\nQ 37.15625 56 41.109375 55.140625 \r\nQ 45.0625 54.296875 48.78125 52.59375 \r\nz\r\n\" id=\"DejaVuSans-99\"/>\r\n        <path id=\"DejaVuSans-32\"/>\r\n        <path d=\"M 44.390625 34.1875 \r\nQ 47.5625 33.109375 50.5625 29.59375 \r\nQ 53.5625 26.078125 56.59375 19.921875 \r\nL 66.609375 0 \r\nL 56 0 \r\nL 46.6875 18.703125 \r\nQ 43.0625 26.03125 39.671875 28.421875 \r\nQ 36.28125 30.8125 30.421875 30.8125 \r\nL 19.671875 30.8125 \r\nL 19.671875 0 \r\nL 9.8125 0 \r\nL 9.8125 72.90625 \r\nL 32.078125 72.90625 \r\nQ 44.578125 72.90625 50.734375 67.671875 \r\nQ 56.890625 62.453125 56.890625 51.90625 \r\nQ 56.890625 45.015625 53.6875 40.46875 \r\nQ 50.484375 35.9375 44.390625 34.1875 \r\nz\r\nM 19.671875 64.796875 \r\nL 19.671875 38.921875 \r\nL 32.078125 38.921875 \r\nQ 39.203125 38.921875 42.84375 42.21875 \r\nQ 46.484375 45.515625 46.484375 51.90625 \r\nQ 46.484375 58.296875 42.84375 61.546875 \r\nQ 39.203125 64.796875 32.078125 64.796875 \r\nz\r\n\" id=\"DejaVuSans-82\"/>\r\n        <path d=\"M 56.203125 29.59375 \r\nL 56.203125 25.203125 \r\nL 14.890625 25.203125 \r\nQ 15.484375 15.921875 20.484375 11.0625 \r\nQ 25.484375 6.203125 34.421875 6.203125 \r\nQ 39.59375 6.203125 44.453125 7.46875 \r\nQ 49.3125 8.734375 54.109375 11.28125 \r\nL 54.109375 2.78125 \r\nQ 49.265625 0.734375 44.1875 -0.34375 \r\nQ 39.109375 -1.421875 33.890625 -1.421875 \r\nQ 20.796875 -1.421875 13.15625 6.1875 \r\nQ 5.515625 13.8125 5.515625 26.8125 \r\nQ 5.515625 40.234375 12.765625 48.109375 \r\nQ 20.015625 56 32.328125 56 \r\nQ 43.359375 56 49.78125 48.890625 \r\nQ 56.203125 41.796875 56.203125 29.59375 \r\nz\r\nM 47.21875 32.234375 \r\nQ 47.125 39.59375 43.09375 43.984375 \r\nQ 39.0625 48.390625 32.421875 48.390625 \r\nQ 24.90625 48.390625 20.390625 44.140625 \r\nQ 15.875 39.890625 15.1875 32.171875 \r\nz\r\n\" id=\"DejaVuSans-101\"/>\r\n        <path d=\"M 18.109375 8.203125 \r\nL 18.109375 -20.796875 \r\nL 9.078125 -20.796875 \r\nL 9.078125 54.6875 \r\nL 18.109375 54.6875 \r\nL 18.109375 46.390625 \r\nQ 20.953125 51.265625 25.265625 53.625 \r\nQ 29.59375 56 35.59375 56 \r\nQ 45.5625 56 51.78125 48.09375 \r\nQ 58.015625 40.1875 58.015625 27.296875 \r\nQ 58.015625 14.40625 51.78125 6.484375 \r\nQ 45.5625 -1.421875 35.59375 -1.421875 \r\nQ 29.59375 -1.421875 25.265625 0.953125 \r\nQ 20.953125 3.328125 18.109375 8.203125 \r\nz\r\nM 48.6875 27.296875 \r\nQ 48.6875 37.203125 44.609375 42.84375 \r\nQ 40.53125 48.484375 33.40625 48.484375 \r\nQ 26.265625 48.484375 22.1875 42.84375 \r\nQ 18.109375 37.203125 18.109375 27.296875 \r\nQ 18.109375 17.390625 22.1875 11.75 \r\nQ 26.265625 6.109375 33.40625 6.109375 \r\nQ 40.53125 6.109375 44.609375 11.75 \r\nQ 48.6875 17.390625 48.6875 27.296875 \r\nz\r\n\" id=\"DejaVuSans-112\"/>\r\n        <path d=\"M 30.609375 48.390625 \r\nQ 23.390625 48.390625 19.1875 42.75 \r\nQ 14.984375 37.109375 14.984375 27.296875 \r\nQ 14.984375 17.484375 19.15625 11.84375 \r\nQ 23.34375 6.203125 30.609375 6.203125 \r\nQ 37.796875 6.203125 41.984375 11.859375 \r\nQ 46.1875 17.53125 46.1875 27.296875 \r\nQ 46.1875 37.015625 41.984375 42.703125 \r\nQ 37.796875 48.390625 30.609375 48.390625 \r\nz\r\nM 30.609375 56 \r\nQ 42.328125 56 49.015625 48.375 \r\nQ 55.71875 40.765625 55.71875 27.296875 \r\nQ 55.71875 13.875 49.015625 6.21875 \r\nQ 42.328125 -1.421875 30.609375 -1.421875 \r\nQ 18.84375 -1.421875 12.171875 6.21875 \r\nQ 5.515625 13.875 5.515625 27.296875 \r\nQ 5.515625 40.765625 12.171875 48.375 \r\nQ 18.84375 56 30.609375 56 \r\nz\r\n\" id=\"DejaVuSans-111\"/>\r\n        <path d=\"M 41.109375 46.296875 \r\nQ 39.59375 47.171875 37.8125 47.578125 \r\nQ 36.03125 48 33.890625 48 \r\nQ 26.265625 48 22.1875 43.046875 \r\nQ 18.109375 38.09375 18.109375 28.8125 \r\nL 18.109375 0 \r\nL 9.078125 0 \r\nL 9.078125 54.6875 \r\nL 18.109375 54.6875 \r\nL 18.109375 46.1875 \r\nQ 20.953125 51.171875 25.484375 53.578125 \r\nQ 30.03125 56 36.53125 56 \r\nQ 37.453125 56 38.578125 55.875 \r\nQ 39.703125 55.765625 41.0625 55.515625 \r\nz\r\n\" id=\"DejaVuSans-114\"/>\r\n       </defs>\r\n       <use xlink:href=\"#DejaVuSans-65\"/>\r\n       <use x=\"68.408203\" xlink:href=\"#DejaVuSans-110\"/>\r\n       <use x=\"131.787109\" xlink:href=\"#DejaVuSans-97\"/>\r\n       <use x=\"193.066406\" xlink:href=\"#DejaVuSans-108\"/>\r\n       <use x=\"220.849609\" xlink:href=\"#DejaVuSans-121\"/>\r\n       <use x=\"280.029297\" xlink:href=\"#DejaVuSans-116\"/>\r\n       <use x=\"319.238281\" xlink:href=\"#DejaVuSans-105\"/>\r\n       <use x=\"347.021484\" xlink:href=\"#DejaVuSans-99\"/>\r\n       <use x=\"402.001953\" xlink:href=\"#DejaVuSans-97\"/>\r\n       <use x=\"463.28125\" xlink:href=\"#DejaVuSans-108\"/>\r\n       <use x=\"491.064453\" xlink:href=\"#DejaVuSans-32\"/>\r\n       <use x=\"522.851562\" xlink:href=\"#DejaVuSans-82\"/>\r\n       <use x=\"587.833984\" xlink:href=\"#DejaVuSans-101\"/>\r\n       <use x=\"649.357422\" xlink:href=\"#DejaVuSans-112\"/>\r\n       <use x=\"712.833984\" xlink:href=\"#DejaVuSans-111\"/>\r\n       <use x=\"774.015625\" xlink:href=\"#DejaVuSans-114\"/>\r\n       <use x=\"815.128906\" xlink:href=\"#DejaVuSans-116\"/>\r\n      </g>\r\n     </g>\r\n    </g>\r\n    <g id=\"xtick_2\">\r\n     <g id=\"line2d_2\">\r\n      <g>\r\n       <use style=\"stroke:#000000;stroke-width:0.8;\" x=\"194.8525\" xlink:href=\"#ma8772fe7ad\" y=\"239.758125\"/>\r\n      </g>\r\n     </g>\r\n     <g id=\"text_2\">\r\n      <!-- Incident Report -->\r\n      <g transform=\"translate(156.526719 254.356562)scale(0.1 -0.1)\">\r\n       <defs>\r\n        <path d=\"M 9.8125 72.90625 \r\nL 19.671875 72.90625 \r\nL 19.671875 0 \r\nL 9.8125 0 \r\nz\r\n\" id=\"DejaVuSans-73\"/>\r\n        <path d=\"M 45.40625 46.390625 \r\nL 45.40625 75.984375 \r\nL 54.390625 75.984375 \r\nL 54.390625 0 \r\nL 45.40625 0 \r\nL 45.40625 8.203125 \r\nQ 42.578125 3.328125 38.25 0.953125 \r\nQ 33.9375 -1.421875 27.875 -1.421875 \r\nQ 17.96875 -1.421875 11.734375 6.484375 \r\nQ 5.515625 14.40625 5.515625 27.296875 \r\nQ 5.515625 40.1875 11.734375 48.09375 \r\nQ 17.96875 56 27.875 56 \r\nQ 33.9375 56 38.25 53.625 \r\nQ 42.578125 51.265625 45.40625 46.390625 \r\nz\r\nM 14.796875 27.296875 \r\nQ 14.796875 17.390625 18.875 11.75 \r\nQ 22.953125 6.109375 30.078125 6.109375 \r\nQ 37.203125 6.109375 41.296875 11.75 \r\nQ 45.40625 17.390625 45.40625 27.296875 \r\nQ 45.40625 37.203125 41.296875 42.84375 \r\nQ 37.203125 48.484375 30.078125 48.484375 \r\nQ 22.953125 48.484375 18.875 42.84375 \r\nQ 14.796875 37.203125 14.796875 27.296875 \r\nz\r\n\" id=\"DejaVuSans-100\"/>\r\n       </defs>\r\n       <use xlink:href=\"#DejaVuSans-73\"/>\r\n       <use x=\"29.492188\" xlink:href=\"#DejaVuSans-110\"/>\r\n       <use x=\"92.871094\" xlink:href=\"#DejaVuSans-99\"/>\r\n       <use x=\"147.851562\" xlink:href=\"#DejaVuSans-105\"/>\r\n       <use x=\"175.634766\" xlink:href=\"#DejaVuSans-100\"/>\r\n       <use x=\"239.111328\" xlink:href=\"#DejaVuSans-101\"/>\r\n       <use x=\"300.634766\" xlink:href=\"#DejaVuSans-110\"/>\r\n       <use x=\"364.013672\" xlink:href=\"#DejaVuSans-116\"/>\r\n       <use x=\"403.222656\" xlink:href=\"#DejaVuSans-32\"/>\r\n       <use x=\"435.009766\" xlink:href=\"#DejaVuSans-82\"/>\r\n       <use x=\"499.992188\" xlink:href=\"#DejaVuSans-101\"/>\r\n       <use x=\"561.515625\" xlink:href=\"#DejaVuSans-112\"/>\r\n       <use x=\"624.992188\" xlink:href=\"#DejaVuSans-111\"/>\r\n       <use x=\"686.173828\" xlink:href=\"#DejaVuSans-114\"/>\r\n       <use x=\"727.287109\" xlink:href=\"#DejaVuSans-116\"/>\r\n      </g>\r\n     </g>\r\n    </g>\r\n    <g id=\"xtick_3\">\r\n     <g id=\"line2d_3\">\r\n      <g>\r\n       <use style=\"stroke:#000000;stroke-width:0.8;\" x=\"249.2125\" xlink:href=\"#ma8772fe7ad\" y=\"239.758125\"/>\r\n      </g>\r\n     </g>\r\n     <g id=\"text_3\">\r\n      <!-- Profile Report -->\r\n      <g transform=\"translate(215.503906 254.356562)scale(0.1 -0.1)\">\r\n       <defs>\r\n        <path d=\"M 19.671875 64.796875 \r\nL 19.671875 37.40625 \r\nL 32.078125 37.40625 \r\nQ 38.96875 37.40625 42.71875 40.96875 \r\nQ 46.484375 44.53125 46.484375 51.125 \r\nQ 46.484375 57.671875 42.71875 61.234375 \r\nQ 38.96875 64.796875 32.078125 64.796875 \r\nz\r\nM 9.8125 72.90625 \r\nL 32.078125 72.90625 \r\nQ 44.34375 72.90625 50.609375 67.359375 \r\nQ 56.890625 61.8125 56.890625 51.125 \r\nQ 56.890625 40.328125 50.609375 34.8125 \r\nQ 44.34375 29.296875 32.078125 29.296875 \r\nL 19.671875 29.296875 \r\nL 19.671875 0 \r\nL 9.8125 0 \r\nz\r\n\" id=\"DejaVuSans-80\"/>\r\n        <path d=\"M 37.109375 75.984375 \r\nL 37.109375 68.5 \r\nL 28.515625 68.5 \r\nQ 23.6875 68.5 21.796875 66.546875 \r\nQ 19.921875 64.59375 19.921875 59.515625 \r\nL 19.921875 54.6875 \r\nL 34.71875 54.6875 \r\nL 34.71875 47.703125 \r\nL 19.921875 47.703125 \r\nL 19.921875 0 \r\nL 10.890625 0 \r\nL 10.890625 47.703125 \r\nL 2.296875 47.703125 \r\nL 2.296875 54.6875 \r\nL 10.890625 54.6875 \r\nL 10.890625 58.5 \r\nQ 10.890625 67.625 15.140625 71.796875 \r\nQ 19.390625 75.984375 28.609375 75.984375 \r\nz\r\n\" id=\"DejaVuSans-102\"/>\r\n       </defs>\r\n       <use xlink:href=\"#DejaVuSans-80\"/>\r\n       <use x=\"58.552734\" xlink:href=\"#DejaVuSans-114\"/>\r\n       <use x=\"97.416016\" xlink:href=\"#DejaVuSans-111\"/>\r\n       <use x=\"158.597656\" xlink:href=\"#DejaVuSans-102\"/>\r\n       <use x=\"193.802734\" xlink:href=\"#DejaVuSans-105\"/>\r\n       <use x=\"221.585938\" xlink:href=\"#DejaVuSans-108\"/>\r\n       <use x=\"249.369141\" xlink:href=\"#DejaVuSans-101\"/>\r\n       <use x=\"310.892578\" xlink:href=\"#DejaVuSans-32\"/>\r\n       <use x=\"342.679688\" xlink:href=\"#DejaVuSans-82\"/>\r\n       <use x=\"407.662109\" xlink:href=\"#DejaVuSans-101\"/>\r\n       <use x=\"469.185547\" xlink:href=\"#DejaVuSans-112\"/>\r\n       <use x=\"532.662109\" xlink:href=\"#DejaVuSans-111\"/>\r\n       <use x=\"593.84375\" xlink:href=\"#DejaVuSans-114\"/>\r\n       <use x=\"634.957031\" xlink:href=\"#DejaVuSans-116\"/>\r\n      </g>\r\n     </g>\r\n    </g>\r\n    <g id=\"xtick_4\">\r\n     <g id=\"line2d_4\">\r\n      <g>\r\n       <use style=\"stroke:#000000;stroke-width:0.8;\" x=\"303.5725\" xlink:href=\"#ma8772fe7ad\" y=\"239.758125\"/>\r\n      </g>\r\n     </g>\r\n     <g id=\"text_4\">\r\n      <!-- Situation Report -->\r\n      <g transform=\"translate(263.074844 254.356562)scale(0.1 -0.1)\">\r\n       <defs>\r\n        <path d=\"M 53.515625 70.515625 \r\nL 53.515625 60.890625 \r\nQ 47.90625 63.578125 42.921875 64.890625 \r\nQ 37.9375 66.21875 33.296875 66.21875 \r\nQ 25.25 66.21875 20.875 63.09375 \r\nQ 16.5 59.96875 16.5 54.203125 \r\nQ 16.5 49.359375 19.40625 46.890625 \r\nQ 22.3125 44.4375 30.421875 42.921875 \r\nL 36.375 41.703125 \r\nQ 47.40625 39.59375 52.65625 34.296875 \r\nQ 57.90625 29 57.90625 20.125 \r\nQ 57.90625 9.515625 50.796875 4.046875 \r\nQ 43.703125 -1.421875 29.984375 -1.421875 \r\nQ 24.8125 -1.421875 18.96875 -0.25 \r\nQ 13.140625 0.921875 6.890625 3.21875 \r\nL 6.890625 13.375 \r\nQ 12.890625 10.015625 18.65625 8.296875 \r\nQ 24.421875 6.59375 29.984375 6.59375 \r\nQ 38.421875 6.59375 43.015625 9.90625 \r\nQ 47.609375 13.234375 47.609375 19.390625 \r\nQ 47.609375 24.75 44.3125 27.78125 \r\nQ 41.015625 30.8125 33.5 32.328125 \r\nL 27.484375 33.5 \r\nQ 16.453125 35.6875 11.515625 40.375 \r\nQ 6.59375 45.0625 6.59375 53.421875 \r\nQ 6.59375 63.09375 13.40625 68.65625 \r\nQ 20.21875 74.21875 32.171875 74.21875 \r\nQ 37.3125 74.21875 42.625 73.28125 \r\nQ 47.953125 72.359375 53.515625 70.515625 \r\nz\r\n\" id=\"DejaVuSans-83\"/>\r\n        <path d=\"M 8.5 21.578125 \r\nL 8.5 54.6875 \r\nL 17.484375 54.6875 \r\nL 17.484375 21.921875 \r\nQ 17.484375 14.15625 20.5 10.265625 \r\nQ 23.53125 6.390625 29.59375 6.390625 \r\nQ 36.859375 6.390625 41.078125 11.03125 \r\nQ 45.3125 15.671875 45.3125 23.6875 \r\nL 45.3125 54.6875 \r\nL 54.296875 54.6875 \r\nL 54.296875 0 \r\nL 45.3125 0 \r\nL 45.3125 8.40625 \r\nQ 42.046875 3.421875 37.71875 1 \r\nQ 33.40625 -1.421875 27.6875 -1.421875 \r\nQ 18.265625 -1.421875 13.375 4.4375 \r\nQ 8.5 10.296875 8.5 21.578125 \r\nz\r\nM 31.109375 56 \r\nz\r\n\" id=\"DejaVuSans-117\"/>\r\n       </defs>\r\n       <use xlink:href=\"#DejaVuSans-83\"/>\r\n       <use x=\"63.476562\" xlink:href=\"#DejaVuSans-105\"/>\r\n       <use x=\"91.259766\" xlink:href=\"#DejaVuSans-116\"/>\r\n       <use x=\"130.46875\" xlink:href=\"#DejaVuSans-117\"/>\r\n       <use x=\"193.847656\" xlink:href=\"#DejaVuSans-97\"/>\r\n       <use x=\"255.126953\" xlink:href=\"#DejaVuSans-116\"/>\r\n       <use x=\"294.335938\" xlink:href=\"#DejaVuSans-105\"/>\r\n       <use x=\"322.119141\" xlink:href=\"#DejaVuSans-111\"/>\r\n       <use x=\"383.300781\" xlink:href=\"#DejaVuSans-110\"/>\r\n       <use x=\"446.679688\" xlink:href=\"#DejaVuSans-32\"/>\r\n       <use x=\"478.466797\" xlink:href=\"#DejaVuSans-82\"/>\r\n       <use x=\"543.449219\" xlink:href=\"#DejaVuSans-101\"/>\r\n       <use x=\"604.972656\" xlink:href=\"#DejaVuSans-112\"/>\r\n       <use x=\"668.449219\" xlink:href=\"#DejaVuSans-111\"/>\r\n       <use x=\"729.630859\" xlink:href=\"#DejaVuSans-114\"/>\r\n       <use x=\"770.744141\" xlink:href=\"#DejaVuSans-116\"/>\r\n      </g>\r\n     </g>\r\n    </g>\r\n    <g id=\"text_5\">\r\n     <!-- Predicted label -->\r\n     <g transform=\"translate(184.880156 268.034687)scale(0.1 -0.1)\">\r\n      <defs>\r\n       <path d=\"M 48.6875 27.296875 \r\nQ 48.6875 37.203125 44.609375 42.84375 \r\nQ 40.53125 48.484375 33.40625 48.484375 \r\nQ 26.265625 48.484375 22.1875 42.84375 \r\nQ 18.109375 37.203125 18.109375 27.296875 \r\nQ 18.109375 17.390625 22.1875 11.75 \r\nQ 26.265625 6.109375 33.40625 6.109375 \r\nQ 40.53125 6.109375 44.609375 11.75 \r\nQ 48.6875 17.390625 48.6875 27.296875 \r\nz\r\nM 18.109375 46.390625 \r\nQ 20.953125 51.265625 25.265625 53.625 \r\nQ 29.59375 56 35.59375 56 \r\nQ 45.5625 56 51.78125 48.09375 \r\nQ 58.015625 40.1875 58.015625 27.296875 \r\nQ 58.015625 14.40625 51.78125 6.484375 \r\nQ 45.5625 -1.421875 35.59375 -1.421875 \r\nQ 29.59375 -1.421875 25.265625 0.953125 \r\nQ 20.953125 3.328125 18.109375 8.203125 \r\nL 18.109375 0 \r\nL 9.078125 0 \r\nL 9.078125 75.984375 \r\nL 18.109375 75.984375 \r\nz\r\n\" id=\"DejaVuSans-98\"/>\r\n      </defs>\r\n      <use xlink:href=\"#DejaVuSans-80\"/>\r\n      <use x=\"58.552734\" xlink:href=\"#DejaVuSans-114\"/>\r\n      <use x=\"97.416016\" xlink:href=\"#DejaVuSans-101\"/>\r\n      <use x=\"158.939453\" xlink:href=\"#DejaVuSans-100\"/>\r\n      <use x=\"222.416016\" xlink:href=\"#DejaVuSans-105\"/>\r\n      <use x=\"250.199219\" xlink:href=\"#DejaVuSans-99\"/>\r\n      <use x=\"305.179688\" xlink:href=\"#DejaVuSans-116\"/>\r\n      <use x=\"344.388672\" xlink:href=\"#DejaVuSans-101\"/>\r\n      <use x=\"405.912109\" xlink:href=\"#DejaVuSans-100\"/>\r\n      <use x=\"469.388672\" xlink:href=\"#DejaVuSans-32\"/>\r\n      <use x=\"501.175781\" xlink:href=\"#DejaVuSans-108\"/>\r\n      <use x=\"528.958984\" xlink:href=\"#DejaVuSans-97\"/>\r\n      <use x=\"590.238281\" xlink:href=\"#DejaVuSans-98\"/>\r\n      <use x=\"653.714844\" xlink:href=\"#DejaVuSans-101\"/>\r\n      <use x=\"715.238281\" xlink:href=\"#DejaVuSans-108\"/>\r\n     </g>\r\n    </g>\r\n   </g>\r\n   <g id=\"matplotlib.axis_2\">\r\n    <g id=\"ytick_1\">\r\n     <g id=\"line2d_5\">\r\n      <defs>\r\n       <path d=\"M 0 0 \r\nL -3.5 0 \r\n\" id=\"mf1a6cae405\" style=\"stroke:#000000;stroke-width:0.8;\"/>\r\n      </defs>\r\n      <g>\r\n       <use style=\"stroke:#000000;stroke-width:0.8;\" x=\"113.3125\" xlink:href=\"#mf1a6cae405\" y=\"49.498125\"/>\r\n      </g>\r\n     </g>\r\n     <g id=\"text_6\">\r\n      <!-- Analytical Report -->\r\n      <g transform=\"translate(20.878125 53.297344)scale(0.1 -0.1)\">\r\n       <use xlink:href=\"#DejaVuSans-65\"/>\r\n       <use x=\"68.408203\" xlink:href=\"#DejaVuSans-110\"/>\r\n       <use x=\"131.787109\" xlink:href=\"#DejaVuSans-97\"/>\r\n       <use x=\"193.066406\" xlink:href=\"#DejaVuSans-108\"/>\r\n       <use x=\"220.849609\" xlink:href=\"#DejaVuSans-121\"/>\r\n       <use x=\"280.029297\" xlink:href=\"#DejaVuSans-116\"/>\r\n       <use x=\"319.238281\" xlink:href=\"#DejaVuSans-105\"/>\r\n       <use x=\"347.021484\" xlink:href=\"#DejaVuSans-99\"/>\r\n       <use x=\"402.001953\" xlink:href=\"#DejaVuSans-97\"/>\r\n       <use x=\"463.28125\" xlink:href=\"#DejaVuSans-108\"/>\r\n       <use x=\"491.064453\" xlink:href=\"#DejaVuSans-32\"/>\r\n       <use x=\"522.851562\" xlink:href=\"#DejaVuSans-82\"/>\r\n       <use x=\"587.833984\" xlink:href=\"#DejaVuSans-101\"/>\r\n       <use x=\"649.357422\" xlink:href=\"#DejaVuSans-112\"/>\r\n       <use x=\"712.833984\" xlink:href=\"#DejaVuSans-111\"/>\r\n       <use x=\"774.015625\" xlink:href=\"#DejaVuSans-114\"/>\r\n       <use x=\"815.128906\" xlink:href=\"#DejaVuSans-116\"/>\r\n      </g>\r\n     </g>\r\n    </g>\r\n    <g id=\"ytick_2\">\r\n     <g id=\"line2d_6\">\r\n      <g>\r\n       <use style=\"stroke:#000000;stroke-width:0.8;\" x=\"113.3125\" xlink:href=\"#mf1a6cae405\" y=\"103.858125\"/>\r\n      </g>\r\n     </g>\r\n     <g id=\"text_7\">\r\n      <!-- Incident Report -->\r\n      <g transform=\"translate(29.660938 107.657344)scale(0.1 -0.1)\">\r\n       <use xlink:href=\"#DejaVuSans-73\"/>\r\n       <use x=\"29.492188\" xlink:href=\"#DejaVuSans-110\"/>\r\n       <use x=\"92.871094\" xlink:href=\"#DejaVuSans-99\"/>\r\n       <use x=\"147.851562\" xlink:href=\"#DejaVuSans-105\"/>\r\n       <use x=\"175.634766\" xlink:href=\"#DejaVuSans-100\"/>\r\n       <use x=\"239.111328\" xlink:href=\"#DejaVuSans-101\"/>\r\n       <use x=\"300.634766\" xlink:href=\"#DejaVuSans-110\"/>\r\n       <use x=\"364.013672\" xlink:href=\"#DejaVuSans-116\"/>\r\n       <use x=\"403.222656\" xlink:href=\"#DejaVuSans-32\"/>\r\n       <use x=\"435.009766\" xlink:href=\"#DejaVuSans-82\"/>\r\n       <use x=\"499.992188\" xlink:href=\"#DejaVuSans-101\"/>\r\n       <use x=\"561.515625\" xlink:href=\"#DejaVuSans-112\"/>\r\n       <use x=\"624.992188\" xlink:href=\"#DejaVuSans-111\"/>\r\n       <use x=\"686.173828\" xlink:href=\"#DejaVuSans-114\"/>\r\n       <use x=\"727.287109\" xlink:href=\"#DejaVuSans-116\"/>\r\n      </g>\r\n     </g>\r\n    </g>\r\n    <g id=\"ytick_3\">\r\n     <g id=\"line2d_7\">\r\n      <g>\r\n       <use style=\"stroke:#000000;stroke-width:0.8;\" x=\"113.3125\" xlink:href=\"#mf1a6cae405\" y=\"158.218125\"/>\r\n      </g>\r\n     </g>\r\n     <g id=\"text_8\">\r\n      <!-- Profile Report -->\r\n      <g transform=\"translate(38.895313 162.017344)scale(0.1 -0.1)\">\r\n       <use xlink:href=\"#DejaVuSans-80\"/>\r\n       <use x=\"58.552734\" xlink:href=\"#DejaVuSans-114\"/>\r\n       <use x=\"97.416016\" xlink:href=\"#DejaVuSans-111\"/>\r\n       <use x=\"158.597656\" xlink:href=\"#DejaVuSans-102\"/>\r\n       <use x=\"193.802734\" xlink:href=\"#DejaVuSans-105\"/>\r\n       <use x=\"221.585938\" xlink:href=\"#DejaVuSans-108\"/>\r\n       <use x=\"249.369141\" xlink:href=\"#DejaVuSans-101\"/>\r\n       <use x=\"310.892578\" xlink:href=\"#DejaVuSans-32\"/>\r\n       <use x=\"342.679688\" xlink:href=\"#DejaVuSans-82\"/>\r\n       <use x=\"407.662109\" xlink:href=\"#DejaVuSans-101\"/>\r\n       <use x=\"469.185547\" xlink:href=\"#DejaVuSans-112\"/>\r\n       <use x=\"532.662109\" xlink:href=\"#DejaVuSans-111\"/>\r\n       <use x=\"593.84375\" xlink:href=\"#DejaVuSans-114\"/>\r\n       <use x=\"634.957031\" xlink:href=\"#DejaVuSans-116\"/>\r\n      </g>\r\n     </g>\r\n    </g>\r\n    <g id=\"ytick_4\">\r\n     <g id=\"line2d_8\">\r\n      <g>\r\n       <use style=\"stroke:#000000;stroke-width:0.8;\" x=\"113.3125\" xlink:href=\"#mf1a6cae405\" y=\"212.578125\"/>\r\n      </g>\r\n     </g>\r\n     <g id=\"text_9\">\r\n      <!-- Situation Report -->\r\n      <g transform=\"translate(25.317187 216.377344)scale(0.1 -0.1)\">\r\n       <use xlink:href=\"#DejaVuSans-83\"/>\r\n       <use x=\"63.476562\" xlink:href=\"#DejaVuSans-105\"/>\r\n       <use x=\"91.259766\" xlink:href=\"#DejaVuSans-116\"/>\r\n       <use x=\"130.46875\" xlink:href=\"#DejaVuSans-117\"/>\r\n       <use x=\"193.847656\" xlink:href=\"#DejaVuSans-97\"/>\r\n       <use x=\"255.126953\" xlink:href=\"#DejaVuSans-116\"/>\r\n       <use x=\"294.335938\" xlink:href=\"#DejaVuSans-105\"/>\r\n       <use x=\"322.119141\" xlink:href=\"#DejaVuSans-111\"/>\r\n       <use x=\"383.300781\" xlink:href=\"#DejaVuSans-110\"/>\r\n       <use x=\"446.679688\" xlink:href=\"#DejaVuSans-32\"/>\r\n       <use x=\"478.466797\" xlink:href=\"#DejaVuSans-82\"/>\r\n       <use x=\"543.449219\" xlink:href=\"#DejaVuSans-101\"/>\r\n       <use x=\"604.972656\" xlink:href=\"#DejaVuSans-112\"/>\r\n       <use x=\"668.449219\" xlink:href=\"#DejaVuSans-111\"/>\r\n       <use x=\"729.630859\" xlink:href=\"#DejaVuSans-114\"/>\r\n       <use x=\"770.744141\" xlink:href=\"#DejaVuSans-116\"/>\r\n      </g>\r\n     </g>\r\n    </g>\r\n    <g id=\"text_10\">\r\n     <!-- True label -->\r\n     <g transform=\"translate(14.798437 155.337344)rotate(-90)scale(0.1 -0.1)\">\r\n      <defs>\r\n       <path d=\"M -0.296875 72.90625 \r\nL 61.375 72.90625 \r\nL 61.375 64.59375 \r\nL 35.5 64.59375 \r\nL 35.5 0 \r\nL 25.59375 0 \r\nL 25.59375 64.59375 \r\nL -0.296875 64.59375 \r\nz\r\n\" id=\"DejaVuSans-84\"/>\r\n      </defs>\r\n      <use xlink:href=\"#DejaVuSans-84\"/>\r\n      <use x=\"46.333984\" xlink:href=\"#DejaVuSans-114\"/>\r\n      <use x=\"87.447266\" xlink:href=\"#DejaVuSans-117\"/>\r\n      <use x=\"150.826172\" xlink:href=\"#DejaVuSans-101\"/>\r\n      <use x=\"212.349609\" xlink:href=\"#DejaVuSans-32\"/>\r\n      <use x=\"244.136719\" xlink:href=\"#DejaVuSans-108\"/>\r\n      <use x=\"271.919922\" xlink:href=\"#DejaVuSans-97\"/>\r\n      <use x=\"333.199219\" xlink:href=\"#DejaVuSans-98\"/>\r\n      <use x=\"396.675781\" xlink:href=\"#DejaVuSans-101\"/>\r\n      <use x=\"458.199219\" xlink:href=\"#DejaVuSans-108\"/>\r\n     </g>\r\n    </g>\r\n   </g>\r\n   <g id=\"patch_3\">\r\n    <path d=\"M 113.3125 239.758125 \r\nL 113.3125 22.318125 \r\n\" style=\"fill:none;stroke:#000000;stroke-linecap:square;stroke-linejoin:miter;stroke-width:0.8;\"/>\r\n   </g>\r\n   <g id=\"patch_4\">\r\n    <path d=\"M 330.7525 239.758125 \r\nL 330.7525 22.318125 \r\n\" style=\"fill:none;stroke:#000000;stroke-linecap:square;stroke-linejoin:miter;stroke-width:0.8;\"/>\r\n   </g>\r\n   <g id=\"patch_5\">\r\n    <path d=\"M 113.3125 239.758125 \r\nL 330.7525 239.758125 \r\n\" style=\"fill:none;stroke:#000000;stroke-linecap:square;stroke-linejoin:miter;stroke-width:0.8;\"/>\r\n   </g>\r\n   <g id=\"patch_6\">\r\n    <path d=\"M 113.3125 22.318125 \r\nL 330.7525 22.318125 \r\n\" style=\"fill:none;stroke:#000000;stroke-linecap:square;stroke-linejoin:miter;stroke-width:0.8;\"/>\r\n   </g>\r\n   <g id=\"text_11\">\r\n    <!-- 2 -->\r\n    <g style=\"fill:#08306b;\" transform=\"translate(137.31125 52.2575)scale(0.1 -0.1)\">\r\n     <defs>\r\n      <path d=\"M 19.1875 8.296875 \r\nL 53.609375 8.296875 \r\nL 53.609375 0 \r\nL 7.328125 0 \r\nL 7.328125 8.296875 \r\nQ 12.9375 14.109375 22.625 23.890625 \r\nQ 32.328125 33.6875 34.8125 36.53125 \r\nQ 39.546875 41.84375 41.421875 45.53125 \r\nQ 43.3125 49.21875 43.3125 52.78125 \r\nQ 43.3125 58.59375 39.234375 62.25 \r\nQ 35.15625 65.921875 28.609375 65.921875 \r\nQ 23.96875 65.921875 18.8125 64.3125 \r\nQ 13.671875 62.703125 7.8125 59.421875 \r\nL 7.8125 69.390625 \r\nQ 13.765625 71.78125 18.9375 73 \r\nQ 24.125 74.21875 28.421875 74.21875 \r\nQ 39.75 74.21875 46.484375 68.546875 \r\nQ 53.21875 62.890625 53.21875 53.421875 \r\nQ 53.21875 48.921875 51.53125 44.890625 \r\nQ 49.859375 40.875 45.40625 35.40625 \r\nQ 44.1875 33.984375 37.640625 27.21875 \r\nQ 31.109375 20.453125 19.1875 8.296875 \r\nz\r\n\" id=\"DejaVuSans-50\"/>\r\n     </defs>\r\n     <use xlink:href=\"#DejaVuSans-50\"/>\r\n    </g>\r\n   </g>\r\n   <g id=\"text_12\">\r\n    <!-- 1 -->\r\n    <g style=\"fill:#08306b;\" transform=\"translate(191.67125 52.2575)scale(0.1 -0.1)\">\r\n     <defs>\r\n      <path d=\"M 12.40625 8.296875 \r\nL 28.515625 8.296875 \r\nL 28.515625 63.921875 \r\nL 10.984375 60.40625 \r\nL 10.984375 69.390625 \r\nL 28.421875 72.90625 \r\nL 38.28125 72.90625 \r\nL 38.28125 8.296875 \r\nL 54.390625 8.296875 \r\nL 54.390625 0 \r\nL 12.40625 0 \r\nz\r\n\" id=\"DejaVuSans-49\"/>\r\n     </defs>\r\n     <use xlink:href=\"#DejaVuSans-49\"/>\r\n    </g>\r\n   </g>\r\n   <g id=\"text_13\">\r\n    <!-- 0 -->\r\n    <g style=\"fill:#08306b;\" transform=\"translate(246.03125 52.2575)scale(0.1 -0.1)\">\r\n     <defs>\r\n      <path d=\"M 31.78125 66.40625 \r\nQ 24.171875 66.40625 20.328125 58.90625 \r\nQ 16.5 51.421875 16.5 36.375 \r\nQ 16.5 21.390625 20.328125 13.890625 \r\nQ 24.171875 6.390625 31.78125 6.390625 \r\nQ 39.453125 6.390625 43.28125 13.890625 \r\nQ 47.125 21.390625 47.125 36.375 \r\nQ 47.125 51.421875 43.28125 58.90625 \r\nQ 39.453125 66.40625 31.78125 66.40625 \r\nz\r\nM 31.78125 74.21875 \r\nQ 44.046875 74.21875 50.515625 64.515625 \r\nQ 56.984375 54.828125 56.984375 36.375 \r\nQ 56.984375 17.96875 50.515625 8.265625 \r\nQ 44.046875 -1.421875 31.78125 -1.421875 \r\nQ 19.53125 -1.421875 13.0625 8.265625 \r\nQ 6.59375 17.96875 6.59375 36.375 \r\nQ 6.59375 54.828125 13.0625 64.515625 \r\nQ 19.53125 74.21875 31.78125 74.21875 \r\nz\r\n\" id=\"DejaVuSans-48\"/>\r\n     </defs>\r\n     <use xlink:href=\"#DejaVuSans-48\"/>\r\n    </g>\r\n   </g>\r\n   <g id=\"text_14\">\r\n    <!-- 2 -->\r\n    <g style=\"fill:#08306b;\" transform=\"translate(300.39125 52.2575)scale(0.1 -0.1)\">\r\n     <use xlink:href=\"#DejaVuSans-50\"/>\r\n    </g>\r\n   </g>\r\n   <g id=\"text_15\">\r\n    <!-- 0 -->\r\n    <g style=\"fill:#08306b;\" transform=\"translate(137.31125 106.6175)scale(0.1 -0.1)\">\r\n     <use xlink:href=\"#DejaVuSans-48\"/>\r\n    </g>\r\n   </g>\r\n   <g id=\"text_16\">\r\n    <!-- 7 -->\r\n    <g style=\"fill:#f7fbff;\" transform=\"translate(191.67125 106.6175)scale(0.1 -0.1)\">\r\n     <defs>\r\n      <path d=\"M 8.203125 72.90625 \r\nL 55.078125 72.90625 \r\nL 55.078125 68.703125 \r\nL 28.609375 0 \r\nL 18.3125 0 \r\nL 43.21875 64.59375 \r\nL 8.203125 64.59375 \r\nz\r\n\" id=\"DejaVuSans-55\"/>\r\n     </defs>\r\n     <use xlink:href=\"#DejaVuSans-55\"/>\r\n    </g>\r\n   </g>\r\n   <g id=\"text_17\">\r\n    <!-- 0 -->\r\n    <g style=\"fill:#08306b;\" transform=\"translate(246.03125 106.6175)scale(0.1 -0.1)\">\r\n     <use xlink:href=\"#DejaVuSans-48\"/>\r\n    </g>\r\n   </g>\r\n   <g id=\"text_18\">\r\n    <!-- 2 -->\r\n    <g style=\"fill:#08306b;\" transform=\"translate(300.39125 106.6175)scale(0.1 -0.1)\">\r\n     <use xlink:href=\"#DejaVuSans-50\"/>\r\n    </g>\r\n   </g>\r\n   <g id=\"text_19\">\r\n    <!-- 1 -->\r\n    <g style=\"fill:#08306b;\" transform=\"translate(137.31125 160.9775)scale(0.1 -0.1)\">\r\n     <use xlink:href=\"#DejaVuSans-49\"/>\r\n    </g>\r\n   </g>\r\n   <g id=\"text_20\">\r\n    <!-- 1 -->\r\n    <g style=\"fill:#08306b;\" transform=\"translate(191.67125 160.9775)scale(0.1 -0.1)\">\r\n     <use xlink:href=\"#DejaVuSans-49\"/>\r\n    </g>\r\n   </g>\r\n   <g id=\"text_21\">\r\n    <!-- 11 -->\r\n    <g style=\"fill:#f7fbff;\" transform=\"translate(242.85 160.9775)scale(0.1 -0.1)\">\r\n     <use xlink:href=\"#DejaVuSans-49\"/>\r\n     <use x=\"63.623047\" xlink:href=\"#DejaVuSans-49\"/>\r\n    </g>\r\n   </g>\r\n   <g id=\"text_22\">\r\n    <!-- 0 -->\r\n    <g style=\"fill:#08306b;\" transform=\"translate(300.39125 160.9775)scale(0.1 -0.1)\">\r\n     <use xlink:href=\"#DejaVuSans-48\"/>\r\n    </g>\r\n   </g>\r\n   <g id=\"text_23\">\r\n    <!-- 0 -->\r\n    <g style=\"fill:#08306b;\" transform=\"translate(137.31125 215.3375)scale(0.1 -0.1)\">\r\n     <use xlink:href=\"#DejaVuSans-48\"/>\r\n    </g>\r\n   </g>\r\n   <g id=\"text_24\">\r\n    <!-- 1 -->\r\n    <g style=\"fill:#08306b;\" transform=\"translate(191.67125 215.3375)scale(0.1 -0.1)\">\r\n     <use xlink:href=\"#DejaVuSans-49\"/>\r\n    </g>\r\n   </g>\r\n   <g id=\"text_25\">\r\n    <!-- 0 -->\r\n    <g style=\"fill:#08306b;\" transform=\"translate(246.03125 215.3375)scale(0.1 -0.1)\">\r\n     <use xlink:href=\"#DejaVuSans-48\"/>\r\n    </g>\r\n   </g>\r\n   <g id=\"text_26\">\r\n    <!-- 8 -->\r\n    <g style=\"fill:#f7fbff;\" transform=\"translate(300.39125 215.3375)scale(0.1 -0.1)\">\r\n     <defs>\r\n      <path d=\"M 31.78125 34.625 \r\nQ 24.75 34.625 20.71875 30.859375 \r\nQ 16.703125 27.09375 16.703125 20.515625 \r\nQ 16.703125 13.921875 20.71875 10.15625 \r\nQ 24.75 6.390625 31.78125 6.390625 \r\nQ 38.8125 6.390625 42.859375 10.171875 \r\nQ 46.921875 13.96875 46.921875 20.515625 \r\nQ 46.921875 27.09375 42.890625 30.859375 \r\nQ 38.875 34.625 31.78125 34.625 \r\nz\r\nM 21.921875 38.8125 \r\nQ 15.578125 40.375 12.03125 44.71875 \r\nQ 8.5 49.078125 8.5 55.328125 \r\nQ 8.5 64.0625 14.71875 69.140625 \r\nQ 20.953125 74.21875 31.78125 74.21875 \r\nQ 42.671875 74.21875 48.875 69.140625 \r\nQ 55.078125 64.0625 55.078125 55.328125 \r\nQ 55.078125 49.078125 51.53125 44.71875 \r\nQ 48 40.375 41.703125 38.8125 \r\nQ 48.828125 37.15625 52.796875 32.3125 \r\nQ 56.78125 27.484375 56.78125 20.515625 \r\nQ 56.78125 9.90625 50.3125 4.234375 \r\nQ 43.84375 -1.421875 31.78125 -1.421875 \r\nQ 19.734375 -1.421875 13.25 4.234375 \r\nQ 6.78125 9.90625 6.78125 20.515625 \r\nQ 6.78125 27.484375 10.78125 32.3125 \r\nQ 14.796875 37.15625 21.921875 38.8125 \r\nz\r\nM 18.3125 54.390625 \r\nQ 18.3125 48.734375 21.84375 45.5625 \r\nQ 25.390625 42.390625 31.78125 42.390625 \r\nQ 38.140625 42.390625 41.71875 45.5625 \r\nQ 45.3125 48.734375 45.3125 54.390625 \r\nQ 45.3125 60.0625 41.71875 63.234375 \r\nQ 38.140625 66.40625 31.78125 66.40625 \r\nQ 25.390625 66.40625 21.84375 63.234375 \r\nQ 18.3125 60.0625 18.3125 54.390625 \r\nz\r\n\" id=\"DejaVuSans-56\"/>\r\n     </defs>\r\n     <use xlink:href=\"#DejaVuSans-56\"/>\r\n    </g>\r\n   </g>\r\n   <g id=\"text_27\">\r\n    <!-- Decision Tree Classifier -->\r\n    <g transform=\"translate(152.790625 16.318125)scale(0.12 -0.12)\">\r\n     <defs>\r\n      <path d=\"M 19.671875 64.796875 \r\nL 19.671875 8.109375 \r\nL 31.59375 8.109375 \r\nQ 46.6875 8.109375 53.6875 14.9375 \r\nQ 60.6875 21.78125 60.6875 36.53125 \r\nQ 60.6875 51.171875 53.6875 57.984375 \r\nQ 46.6875 64.796875 31.59375 64.796875 \r\nz\r\nM 9.8125 72.90625 \r\nL 30.078125 72.90625 \r\nQ 51.265625 72.90625 61.171875 64.09375 \r\nQ 71.09375 55.28125 71.09375 36.53125 \r\nQ 71.09375 17.671875 61.125 8.828125 \r\nQ 51.171875 0 30.078125 0 \r\nL 9.8125 0 \r\nz\r\n\" id=\"DejaVuSans-68\"/>\r\n      <path d=\"M 44.28125 53.078125 \r\nL 44.28125 44.578125 \r\nQ 40.484375 46.53125 36.375 47.5 \r\nQ 32.28125 48.484375 27.875 48.484375 \r\nQ 21.1875 48.484375 17.84375 46.4375 \r\nQ 14.5 44.390625 14.5 40.28125 \r\nQ 14.5 37.15625 16.890625 35.375 \r\nQ 19.28125 33.59375 26.515625 31.984375 \r\nL 29.59375 31.296875 \r\nQ 39.15625 29.25 43.1875 25.515625 \r\nQ 47.21875 21.78125 47.21875 15.09375 \r\nQ 47.21875 7.46875 41.1875 3.015625 \r\nQ 35.15625 -1.421875 24.609375 -1.421875 \r\nQ 20.21875 -1.421875 15.453125 -0.5625 \r\nQ 10.6875 0.296875 5.421875 2 \r\nL 5.421875 11.28125 \r\nQ 10.40625 8.6875 15.234375 7.390625 \r\nQ 20.0625 6.109375 24.8125 6.109375 \r\nQ 31.15625 6.109375 34.5625 8.28125 \r\nQ 37.984375 10.453125 37.984375 14.40625 \r\nQ 37.984375 18.0625 35.515625 20.015625 \r\nQ 33.0625 21.96875 24.703125 23.78125 \r\nL 21.578125 24.515625 \r\nQ 13.234375 26.265625 9.515625 29.90625 \r\nQ 5.8125 33.546875 5.8125 39.890625 \r\nQ 5.8125 47.609375 11.28125 51.796875 \r\nQ 16.75 56 26.8125 56 \r\nQ 31.78125 56 36.171875 55.265625 \r\nQ 40.578125 54.546875 44.28125 53.078125 \r\nz\r\n\" id=\"DejaVuSans-115\"/>\r\n      <path d=\"M 64.40625 67.28125 \r\nL 64.40625 56.890625 \r\nQ 59.421875 61.53125 53.78125 63.8125 \r\nQ 48.140625 66.109375 41.796875 66.109375 \r\nQ 29.296875 66.109375 22.65625 58.46875 \r\nQ 16.015625 50.828125 16.015625 36.375 \r\nQ 16.015625 21.96875 22.65625 14.328125 \r\nQ 29.296875 6.6875 41.796875 6.6875 \r\nQ 48.140625 6.6875 53.78125 8.984375 \r\nQ 59.421875 11.28125 64.40625 15.921875 \r\nL 64.40625 5.609375 \r\nQ 59.234375 2.09375 53.4375 0.328125 \r\nQ 47.65625 -1.421875 41.21875 -1.421875 \r\nQ 24.65625 -1.421875 15.125 8.703125 \r\nQ 5.609375 18.84375 5.609375 36.375 \r\nQ 5.609375 53.953125 15.125 64.078125 \r\nQ 24.65625 74.21875 41.21875 74.21875 \r\nQ 47.75 74.21875 53.53125 72.484375 \r\nQ 59.328125 70.75 64.40625 67.28125 \r\nz\r\n\" id=\"DejaVuSans-67\"/>\r\n     </defs>\r\n     <use xlink:href=\"#DejaVuSans-68\"/>\r\n     <use x=\"77.001953\" xlink:href=\"#DejaVuSans-101\"/>\r\n     <use x=\"138.525391\" xlink:href=\"#DejaVuSans-99\"/>\r\n     <use x=\"193.505859\" xlink:href=\"#DejaVuSans-105\"/>\r\n     <use x=\"221.289062\" xlink:href=\"#DejaVuSans-115\"/>\r\n     <use x=\"273.388672\" xlink:href=\"#DejaVuSans-105\"/>\r\n     <use x=\"301.171875\" xlink:href=\"#DejaVuSans-111\"/>\r\n     <use x=\"362.353516\" xlink:href=\"#DejaVuSans-110\"/>\r\n     <use x=\"425.732422\" xlink:href=\"#DejaVuSans-32\"/>\r\n     <use x=\"457.519531\" xlink:href=\"#DejaVuSans-84\"/>\r\n     <use x=\"503.853516\" xlink:href=\"#DejaVuSans-114\"/>\r\n     <use x=\"542.716797\" xlink:href=\"#DejaVuSans-101\"/>\r\n     <use x=\"604.240234\" xlink:href=\"#DejaVuSans-101\"/>\r\n     <use x=\"665.763672\" xlink:href=\"#DejaVuSans-32\"/>\r\n     <use x=\"697.550781\" xlink:href=\"#DejaVuSans-67\"/>\r\n     <use x=\"767.375\" xlink:href=\"#DejaVuSans-108\"/>\r\n     <use x=\"795.158203\" xlink:href=\"#DejaVuSans-97\"/>\r\n     <use x=\"856.4375\" xlink:href=\"#DejaVuSans-115\"/>\r\n     <use x=\"908.537109\" xlink:href=\"#DejaVuSans-115\"/>\r\n     <use x=\"960.636719\" xlink:href=\"#DejaVuSans-105\"/>\r\n     <use x=\"988.419922\" xlink:href=\"#DejaVuSans-102\"/>\r\n     <use x=\"1023.625\" xlink:href=\"#DejaVuSans-105\"/>\r\n     <use x=\"1051.408203\" xlink:href=\"#DejaVuSans-101\"/>\r\n     <use x=\"1112.931641\" xlink:href=\"#DejaVuSans-114\"/>\r\n    </g>\r\n   </g>\r\n  </g>\r\n  <g id=\"axes_2\">\r\n   <g id=\"patch_7\">\r\n    <path clip-path=\"url(#p86848c3b0b)\" d=\"M 347.4925 239.758125 \r\nL 347.4925 238.90875 \r\nL 347.4925 23.1675 \r\nL 347.4925 22.318125 \r\nL 358.3645 22.318125 \r\nL 358.3645 23.1675 \r\nL 358.3645 238.90875 \r\nL 358.3645 239.758125 \r\nz\r\n\" style=\"fill:#ffffff;stroke:#ffffff;stroke-linejoin:miter;stroke-width:0.01;\"/>\r\n   </g>\r\n   <image height=\"217\" id=\"image6258881473\" transform=\"scale(1 -1)translate(0 -217)\" width=\"11\" x=\"347\" xlink:href=\"data:image/png;base64,\r\niVBORw0KGgoAAAANSUhEUgAAAAsAAADZCAYAAAD2WsoCAAABHElEQVR4nO2YMQ4CMRADA8r/n0uByIYWukwxyIvuamvl2F4nutvjufc4/OYex9gxz+diMKEBsGMCLORcAH0HLEzpQhyEkwEYZgNwLk26kSEdzAbh7NHQeoPZ3bC+OvZGinRX+H9CI0Q67VWQckBkNzygdsNqDi50wAzOlZHnOh/stqjFuUBGGWezN8Dk5VWBlzrtcYKqQGxR7e5eJM9eP3sOIp0X6ALTwXOsScPLBrQ7osw9ndk9KLaot7AR0nn93DEbaLs9nc2/EKj5I3YwJBvslctoRKgBD2jRCJls2g1oeEHy7O4YpJDtZn8CxWycvxlTODNwht0h2fh/u69sfICh3YhGw8n1sia3VGNF0ECTycJedn+BO9ptTX4DblXiEVeBW/gAAAAASUVORK5CYII=\" y=\"-22\"/>\r\n   <g id=\"matplotlib.axis_3\"/>\r\n   <g id=\"matplotlib.axis_4\">\r\n    <g id=\"ytick_5\">\r\n     <g id=\"line2d_9\">\r\n      <defs>\r\n       <path d=\"M 0 0 \r\nL 3.5 0 \r\n\" id=\"m5a68469ba2\" style=\"stroke:#000000;stroke-width:0.8;\"/>\r\n      </defs>\r\n      <g>\r\n       <use style=\"stroke:#000000;stroke-width:0.8;\" x=\"358.3645\" xlink:href=\"#m5a68469ba2\" y=\"239.758125\"/>\r\n      </g>\r\n     </g>\r\n     <g id=\"text_28\">\r\n      <!-- 0 -->\r\n      <g transform=\"translate(365.3645 243.557344)scale(0.1 -0.1)\">\r\n       <use xlink:href=\"#DejaVuSans-48\"/>\r\n      </g>\r\n     </g>\r\n    </g>\r\n    <g id=\"ytick_6\">\r\n     <g id=\"line2d_10\">\r\n      <g>\r\n       <use style=\"stroke:#000000;stroke-width:0.8;\" x=\"358.3645\" xlink:href=\"#m5a68469ba2\" y=\"200.22358\"/>\r\n      </g>\r\n     </g>\r\n     <g id=\"text_29\">\r\n      <!-- 2 -->\r\n      <g transform=\"translate(365.3645 204.022798)scale(0.1 -0.1)\">\r\n       <use xlink:href=\"#DejaVuSans-50\"/>\r\n      </g>\r\n     </g>\r\n    </g>\r\n    <g id=\"ytick_7\">\r\n     <g id=\"line2d_11\">\r\n      <g>\r\n       <use style=\"stroke:#000000;stroke-width:0.8;\" x=\"358.3645\" xlink:href=\"#m5a68469ba2\" y=\"160.689034\"/>\r\n      </g>\r\n     </g>\r\n     <g id=\"text_30\">\r\n      <!-- 4 -->\r\n      <g transform=\"translate(365.3645 164.488253)scale(0.1 -0.1)\">\r\n       <defs>\r\n        <path d=\"M 37.796875 64.3125 \r\nL 12.890625 25.390625 \r\nL 37.796875 25.390625 \r\nz\r\nM 35.203125 72.90625 \r\nL 47.609375 72.90625 \r\nL 47.609375 25.390625 \r\nL 58.015625 25.390625 \r\nL 58.015625 17.1875 \r\nL 47.609375 17.1875 \r\nL 47.609375 0 \r\nL 37.796875 0 \r\nL 37.796875 17.1875 \r\nL 4.890625 17.1875 \r\nL 4.890625 26.703125 \r\nz\r\n\" id=\"DejaVuSans-52\"/>\r\n       </defs>\r\n       <use xlink:href=\"#DejaVuSans-52\"/>\r\n      </g>\r\n     </g>\r\n    </g>\r\n    <g id=\"ytick_8\">\r\n     <g id=\"line2d_12\">\r\n      <g>\r\n       <use style=\"stroke:#000000;stroke-width:0.8;\" x=\"358.3645\" xlink:href=\"#m5a68469ba2\" y=\"121.154489\"/>\r\n      </g>\r\n     </g>\r\n     <g id=\"text_31\">\r\n      <!-- 6 -->\r\n      <g transform=\"translate(365.3645 124.953707)scale(0.1 -0.1)\">\r\n       <defs>\r\n        <path d=\"M 33.015625 40.375 \r\nQ 26.375 40.375 22.484375 35.828125 \r\nQ 18.609375 31.296875 18.609375 23.390625 \r\nQ 18.609375 15.53125 22.484375 10.953125 \r\nQ 26.375 6.390625 33.015625 6.390625 \r\nQ 39.65625 6.390625 43.53125 10.953125 \r\nQ 47.40625 15.53125 47.40625 23.390625 \r\nQ 47.40625 31.296875 43.53125 35.828125 \r\nQ 39.65625 40.375 33.015625 40.375 \r\nz\r\nM 52.59375 71.296875 \r\nL 52.59375 62.3125 \r\nQ 48.875 64.0625 45.09375 64.984375 \r\nQ 41.3125 65.921875 37.59375 65.921875 \r\nQ 27.828125 65.921875 22.671875 59.328125 \r\nQ 17.53125 52.734375 16.796875 39.40625 \r\nQ 19.671875 43.65625 24.015625 45.921875 \r\nQ 28.375 48.1875 33.59375 48.1875 \r\nQ 44.578125 48.1875 50.953125 41.515625 \r\nQ 57.328125 34.859375 57.328125 23.390625 \r\nQ 57.328125 12.15625 50.6875 5.359375 \r\nQ 44.046875 -1.421875 33.015625 -1.421875 \r\nQ 20.359375 -1.421875 13.671875 8.265625 \r\nQ 6.984375 17.96875 6.984375 36.375 \r\nQ 6.984375 53.65625 15.1875 63.9375 \r\nQ 23.390625 74.21875 37.203125 74.21875 \r\nQ 40.921875 74.21875 44.703125 73.484375 \r\nQ 48.484375 72.75 52.59375 71.296875 \r\nz\r\n\" id=\"DejaVuSans-54\"/>\r\n       </defs>\r\n       <use xlink:href=\"#DejaVuSans-54\"/>\r\n      </g>\r\n     </g>\r\n    </g>\r\n    <g id=\"ytick_9\">\r\n     <g id=\"line2d_13\">\r\n      <g>\r\n       <use style=\"stroke:#000000;stroke-width:0.8;\" x=\"358.3645\" xlink:href=\"#m5a68469ba2\" y=\"81.619943\"/>\r\n      </g>\r\n     </g>\r\n     <g id=\"text_32\">\r\n      <!-- 8 -->\r\n      <g transform=\"translate(365.3645 85.419162)scale(0.1 -0.1)\">\r\n       <use xlink:href=\"#DejaVuSans-56\"/>\r\n      </g>\r\n     </g>\r\n    </g>\r\n    <g id=\"ytick_10\">\r\n     <g id=\"line2d_14\">\r\n      <g>\r\n       <use style=\"stroke:#000000;stroke-width:0.8;\" x=\"358.3645\" xlink:href=\"#m5a68469ba2\" y=\"42.085398\"/>\r\n      </g>\r\n     </g>\r\n     <g id=\"text_33\">\r\n      <!-- 10 -->\r\n      <g transform=\"translate(365.3645 45.884616)scale(0.1 -0.1)\">\r\n       <use xlink:href=\"#DejaVuSans-49\"/>\r\n       <use x=\"63.623047\" xlink:href=\"#DejaVuSans-48\"/>\r\n      </g>\r\n     </g>\r\n    </g>\r\n   </g>\r\n   <g id=\"patch_8\">\r\n    <path d=\"M 347.4925 239.758125 \r\nL 347.4925 238.90875 \r\nL 347.4925 23.1675 \r\nL 347.4925 22.318125 \r\nL 358.3645 22.318125 \r\nL 358.3645 23.1675 \r\nL 358.3645 238.90875 \r\nL 358.3645 239.758125 \r\nz\r\n\" style=\"fill:none;stroke:#000000;stroke-linejoin:miter;stroke-width:0.8;\"/>\r\n   </g>\r\n  </g>\r\n </g>\r\n <defs>\r\n  <clipPath id=\"p3ff9e50a21\">\r\n   <rect height=\"217.44\" width=\"217.44\" x=\"113.3125\" y=\"22.318125\"/>\r\n  </clipPath>\r\n  <clipPath id=\"p86848c3b0b\">\r\n   <rect height=\"217.44\" width=\"10.872\" x=\"347.4925\" y=\"22.318125\"/>\r\n  </clipPath>\r\n </defs>\r\n</svg>\r\n",
      "image/png": "[encoded data removed]"
     },
     "metadata": {
      "needs_background": "light"
     }
    }
   ],
   "source": [
    "classifier = DecisionTreeClassifier(max_depth=200)\n",
    "classifier.fit(x_train, y_train)\n",
    "\n",
    "score_calulation(classifier, x_val, y_val, 'Decision Tree Classifier')"
   ]
  },
  {
   "cell_type": "code",
   "execution_count": 31,
   "metadata": {},
   "outputs": [
    {
     "output_type": "stream",
     "name": "stdout",
     "text": [
      "Random Forest Classifier number of estimators 50 max depth 5 F1 Score is 0.9717741935483871\n",
      "Random Forest Classifier number of estimators 50 max depth 10 F1 Score is 0.9959677419354839\n",
      "Random Forest Classifier number of estimators 50 max depth 25 F1 Score is 1.0\n",
      "Random Forest Classifier number of estimators 50 max depth 50 F1 Score is 1.0\n",
      "Random Forest Classifier number of estimators 50 max depth 100 F1 Score is 1.0\n",
      "Random Forest Classifier number of estimators 50 max depth 200 F1 Score is 1.0\n",
      "Random Forest Classifier number of estimators 100 max depth 5 F1 Score is 0.9919354838709677\n",
      "Random Forest Classifier number of estimators 100 max depth 10 F1 Score is 0.9959677419354839\n",
      "Random Forest Classifier number of estimators 100 max depth 25 F1 Score is 1.0\n",
      "Random Forest Classifier number of estimators 100 max depth 50 F1 Score is 1.0\n",
      "Random Forest Classifier number of estimators 100 max depth 100 F1 Score is 1.0\n",
      "Random Forest Classifier number of estimators 100 max depth 200 F1 Score is 1.0\n",
      "Random Forest Classifier number of estimators 150 max depth 5 F1 Score is 0.9879032258064516\n",
      "Random Forest Classifier number of estimators 150 max depth 10 F1 Score is 0.9959677419354839\n",
      "Random Forest Classifier number of estimators 150 max depth 25 F1 Score is 1.0\n",
      "Random Forest Classifier number of estimators 150 max depth 50 F1 Score is 1.0\n",
      "Random Forest Classifier number of estimators 150 max depth 100 F1 Score is 1.0\n",
      "Random Forest Classifier number of estimators 150 max depth 200 F1 Score is 1.0\n",
      "Random Forest Classifier number of estimators 200 max depth 5 F1 Score is 0.9798387096774194\n",
      "Random Forest Classifier number of estimators 200 max depth 10 F1 Score is 0.9959677419354839\n",
      "Random Forest Classifier number of estimators 200 max depth 25 F1 Score is 1.0\n",
      "Random Forest Classifier number of estimators 200 max depth 50 F1 Score is 1.0\n",
      "Random Forest Classifier number of estimators 200 max depth 100 F1 Score is 1.0\n",
      "Random Forest Classifier number of estimators 200 max depth 200 F1 Score is 1.0\n"
     ]
    }
   ],
   "source": [
    "# Model with Random Forest Classifier\n",
    "n_estimators = [50, 100, 150, 200]\n",
    "max_depth = [5, 10, 25, 50, 100, 200]\n",
    "\n",
    "for i in range(len(n_estimators)):\n",
    "    for j in range(len(max_depth)):\n",
    "        classifier = RandomForestClassifier(n_estimators=n_estimators[i], max_depth=max_depth[j])\n",
    "        classifier.fit(x_train, y_train)\n",
    "        y_pred = classifier.predict(x_train)\n",
    "        f1_score_t = f1_score(y_train, y_pred, average='micro')\n",
    "        print_out = 'Random Forest Classifier number of estimators ' +  str(n_estimators[i]) +  ' max depth ' + str(max_depth[j]) + ' F1 Score is ' + str(f1_score_t)\n",
    "        print(print_out)"
   ]
  },
  {
   "cell_type": "code",
   "execution_count": 32,
   "metadata": {},
   "outputs": [
    {
     "output_type": "stream",
     "name": "stdout",
     "text": [
      "Result Train dataset Random Forest Classifier\nF1 Score is  1.0\nAccuracy  Score is  1.0\nRecall Score is  1.0\nTrain dataset Random Forest Classifier\n[[60  0  0  0]\n [ 0 54  0  0]\n [ 0  0 63  0]\n [ 0  0  0 71]]\nResult Validation dataset Random Forest Classifier\nF1 Score is  0.8888888888888888\nAccuracy  Score is  0.8888888888888888\nRecall Score is  0.8888888888888888\nValidation dataset Random Forest Classifier\n[[ 5  0  0  0]\n [ 0  8  0  1]\n [ 0  1 12  0]\n [ 1  1  0  7]]\n"
     ]
    },
    {
     "output_type": "display_data",
     "data": {
      "text/plain": "<Figure size 432x288 with 2 Axes>",
      "image/svg+xml": "<?xml version=\"1.0\" encoding=\"utf-8\" standalone=\"no\"?>\r\n<!DOCTYPE svg PUBLIC \"-//W3C//DTD SVG 1.1//EN\"\r\n  \"http://www.w3.org/Graphics/SVG/1.1/DTD/svg11.dtd\">\r\n<!-- Created with matplotlib (https://matplotlib.org/) -->\r\n<svg height=\"277.314375pt\" version=\"1.1\" viewBox=\"0 0 385.2895 277.314375\" width=\"385.2895pt\" xmlns=\"http://www.w3.org/2000/svg\" xmlns:xlink=\"http://www.w3.org/1999/xlink\">\r\n <metadata>\r\n  <rdf:RDF xmlns:cc=\"http://creativecommons.org/ns#\" xmlns:dc=\"http://purl.org/dc/elements/1.1/\" xmlns:rdf=\"http://www.w3.org/1999/02/22-rdf-syntax-ns#\">\r\n   <cc:Work>\r\n    <dc:type rdf:resource=\"http://purl.org/dc/dcmitype/StillImage\"/>\r\n    <dc:date>2020-12-18T12:42:52.713463</dc:date>\r\n    <dc:format>image/svg+xml</dc:format>\r\n    <dc:creator>\r\n     <cc:Agent>\r\n      <dc:title>Matplotlib v3.3.2, https://matplotlib.org/</dc:title>\r\n     </cc:Agent>\r\n    </dc:creator>\r\n   </cc:Work>\r\n  </rdf:RDF>\r\n </metadata>\r\n <defs>\r\n  <style type=\"text/css\">*{stroke-linecap:butt;stroke-linejoin:round;}</style>\r\n </defs>\r\n <g id=\"figure_1\">\r\n  <g id=\"patch_1\">\r\n   <path d=\"M 0 277.314375 \r\nL 385.2895 277.314375 \r\nL 385.2895 0 \r\nL 0 0 \r\nz\r\n\" style=\"fill:none;\"/>\r\n  </g>\r\n  <g id=\"axes_1\">\r\n   <g id=\"patch_2\">\r\n    <path d=\"M 113.3125 239.758125 \r\nL 330.7525 239.758125 \r\nL 330.7525 22.318125 \r\nL 113.3125 22.318125 \r\nz\r\n\" style=\"fill:#ffffff;\"/>\r\n   </g>\r\n   <g clip-path=\"url(#pef115123df)\">\r\n    <image height=\"218\" id=\"imageb67e1720fb\" transform=\"scale(1 -1)translate(0 -218)\" width=\"218\" x=\"113.3125\" xlink:href=\"data:image/png;base64,\r\niVBORw0KGgoAAAANSUhEUgAAANoAAADaCAYAAADAHVzbAAACxUlEQVR4nO3VoU2DYRiFUUpqEZ2CCRgEh8KT4FiFpJowAIIx2ARTiUD8OHzF97wknDPBNU/u7ut72y7gDzjcPE5PWOZyegD8B0KDgNAgIDQICA0CQoOA0CAgNAgIDQJCg4DQICA0CAgNAkKDgNAgIDQICA0CQoOA0CAgNAgIDQJCg4DQICA0CAgNAkKDgNAgIDQICA0CQoOA0CAgNAgIDQJCg4DQICA0CAgNAkKDgNAgIDQICA0CQoOA0CAgNAgIDQJCg4DQICA0CAgNAkKDgNAgIDQICA0CQoPAfnoA5zvcHqcnLHH6eJ6esIxHg4DQICA0CAgNAkKDgNAgIDQICA0CQoOA0CAgNAgIDQJCg4DQICA0CAgNAkKDgNAgIDQICA0CQoOA0CAgNAgIDQJCg4DQICA0CAgNAkKDgNAgIDQICA0CQoOA0CAgNAgIDQJCg4DQICA0CAgNAkKDgNAgIDQICA0CQoOA0CAgNAgIDQJCg4DQICA0CAgNAkKDwH56wCrXT+/TE5Y5vT1MT+BMHg0CQoOA0CAgNAgIDQJCg4DQICA0CAgNAkKDgNAgIDQICA0CQoOA0CAgNAgIDQJCg4DQICA0CAgNAkKDgNAgIDQICA0CQoOA0CAgNAgIDQJCg4DQICA0CAgNAkKDgNAgIDQICA0CQoOA0CAgNAgIDQJCg4DQICA0CAgNAkKDgNAgIDQICA0CQoOA0CAgNAgIDQJCg8Du6u5lmx6xwufr/fQE+OXRICA0CAgNAkKDgNAgIDQICA0CQoOA0CAgNAgIDQJCg4DQICA0CAgNAkKDgNAgIDQICA0CQoOA0CAgNAgIDQJCg4DQICA0CAgNAkKDgNAgIDQICA0CQoOA0CAgNAgIDQJCg4DQICA0CAgNAkKDgNAgIDQICA0CQoOA0CAgNAgIDQJCg4DQICA0CAgNAkKDgNAg8AOwmxDk/FZEoQAAAABJRU5ErkJggg==\" y=\"-21.758125\"/>\r\n   </g>\r\n   <g id=\"matplotlib.axis_1\">\r\n    <g id=\"xtick_1\">\r\n     <g id=\"line2d_1\">\r\n      <defs>\r\n       <path d=\"M 0 0 \r\nL 0 3.5 \r\n\" id=\"m5519900e6b\" style=\"stroke:#000000;stroke-width:0.8;\"/>\r\n      </defs>\r\n      <g>\r\n       <use style=\"stroke:#000000;stroke-width:0.8;\" x=\"140.4925\" xlink:href=\"#m5519900e6b\" y=\"239.758125\"/>\r\n      </g>\r\n     </g>\r\n     <g id=\"text_1\">\r\n      <!-- Analytical Report -->\r\n      <g transform=\"translate(97.775313 254.356562)scale(0.1 -0.1)\">\r\n       <defs>\r\n        <path d=\"M 34.1875 63.1875 \r\nL 20.796875 26.90625 \r\nL 47.609375 26.90625 \r\nz\r\nM 28.609375 72.90625 \r\nL 39.796875 72.90625 \r\nL 67.578125 0 \r\nL 57.328125 0 \r\nL 50.6875 18.703125 \r\nL 17.828125 18.703125 \r\nL 11.1875 0 \r\nL 0.78125 0 \r\nz\r\n\" id=\"DejaVuSans-65\"/>\r\n        <path d=\"M 54.890625 33.015625 \r\nL 54.890625 0 \r\nL 45.90625 0 \r\nL 45.90625 32.71875 \r\nQ 45.90625 40.484375 42.875 44.328125 \r\nQ 39.84375 48.1875 33.796875 48.1875 \r\nQ 26.515625 48.1875 22.3125 43.546875 \r\nQ 18.109375 38.921875 18.109375 30.90625 \r\nL 18.109375 0 \r\nL 9.078125 0 \r\nL 9.078125 54.6875 \r\nL 18.109375 54.6875 \r\nL 18.109375 46.1875 \r\nQ 21.34375 51.125 25.703125 53.5625 \r\nQ 30.078125 56 35.796875 56 \r\nQ 45.21875 56 50.046875 50.171875 \r\nQ 54.890625 44.34375 54.890625 33.015625 \r\nz\r\n\" id=\"DejaVuSans-110\"/>\r\n        <path d=\"M 34.28125 27.484375 \r\nQ 23.390625 27.484375 19.1875 25 \r\nQ 14.984375 22.515625 14.984375 16.5 \r\nQ 14.984375 11.71875 18.140625 8.90625 \r\nQ 21.296875 6.109375 26.703125 6.109375 \r\nQ 34.1875 6.109375 38.703125 11.40625 \r\nQ 43.21875 16.703125 43.21875 25.484375 \r\nL 43.21875 27.484375 \r\nz\r\nM 52.203125 31.203125 \r\nL 52.203125 0 \r\nL 43.21875 0 \r\nL 43.21875 8.296875 \r\nQ 40.140625 3.328125 35.546875 0.953125 \r\nQ 30.953125 -1.421875 24.3125 -1.421875 \r\nQ 15.921875 -1.421875 10.953125 3.296875 \r\nQ 6 8.015625 6 15.921875 \r\nQ 6 25.140625 12.171875 29.828125 \r\nQ 18.359375 34.515625 30.609375 34.515625 \r\nL 43.21875 34.515625 \r\nL 43.21875 35.40625 \r\nQ 43.21875 41.609375 39.140625 45 \r\nQ 35.0625 48.390625 27.6875 48.390625 \r\nQ 23 48.390625 18.546875 47.265625 \r\nQ 14.109375 46.140625 10.015625 43.890625 \r\nL 10.015625 52.203125 \r\nQ 14.9375 54.109375 19.578125 55.046875 \r\nQ 24.21875 56 28.609375 56 \r\nQ 40.484375 56 46.34375 49.84375 \r\nQ 52.203125 43.703125 52.203125 31.203125 \r\nz\r\n\" id=\"DejaVuSans-97\"/>\r\n        <path d=\"M 9.421875 75.984375 \r\nL 18.40625 75.984375 \r\nL 18.40625 0 \r\nL 9.421875 0 \r\nz\r\n\" id=\"DejaVuSans-108\"/>\r\n        <path d=\"M 32.171875 -5.078125 \r\nQ 28.375 -14.84375 24.75 -17.8125 \r\nQ 21.140625 -20.796875 15.09375 -20.796875 \r\nL 7.90625 -20.796875 \r\nL 7.90625 -13.28125 \r\nL 13.1875 -13.28125 \r\nQ 16.890625 -13.28125 18.9375 -11.515625 \r\nQ 21 -9.765625 23.484375 -3.21875 \r\nL 25.09375 0.875 \r\nL 2.984375 54.6875 \r\nL 12.5 54.6875 \r\nL 29.59375 11.921875 \r\nL 46.6875 54.6875 \r\nL 56.203125 54.6875 \r\nz\r\n\" id=\"DejaVuSans-121\"/>\r\n        <path d=\"M 18.3125 70.21875 \r\nL 18.3125 54.6875 \r\nL 36.8125 54.6875 \r\nL 36.8125 47.703125 \r\nL 18.3125 47.703125 \r\nL 18.3125 18.015625 \r\nQ 18.3125 11.328125 20.140625 9.421875 \r\nQ 21.96875 7.515625 27.59375 7.515625 \r\nL 36.8125 7.515625 \r\nL 36.8125 0 \r\nL 27.59375 0 \r\nQ 17.1875 0 13.234375 3.875 \r\nQ 9.28125 7.765625 9.28125 18.015625 \r\nL 9.28125 47.703125 \r\nL 2.6875 47.703125 \r\nL 2.6875 54.6875 \r\nL 9.28125 54.6875 \r\nL 9.28125 70.21875 \r\nz\r\n\" id=\"DejaVuSans-116\"/>\r\n        <path d=\"M 9.421875 54.6875 \r\nL 18.40625 54.6875 \r\nL 18.40625 0 \r\nL 9.421875 0 \r\nz\r\nM 9.421875 75.984375 \r\nL 18.40625 75.984375 \r\nL 18.40625 64.59375 \r\nL 9.421875 64.59375 \r\nz\r\n\" id=\"DejaVuSans-105\"/>\r\n        <path d=\"M 48.78125 52.59375 \r\nL 48.78125 44.1875 \r\nQ 44.96875 46.296875 41.140625 47.34375 \r\nQ 37.3125 48.390625 33.40625 48.390625 \r\nQ 24.65625 48.390625 19.8125 42.84375 \r\nQ 14.984375 37.3125 14.984375 27.296875 \r\nQ 14.984375 17.28125 19.8125 11.734375 \r\nQ 24.65625 6.203125 33.40625 6.203125 \r\nQ 37.3125 6.203125 41.140625 7.25 \r\nQ 44.96875 8.296875 48.78125 10.40625 \r\nL 48.78125 2.09375 \r\nQ 45.015625 0.34375 40.984375 -0.53125 \r\nQ 36.96875 -1.421875 32.421875 -1.421875 \r\nQ 20.0625 -1.421875 12.78125 6.34375 \r\nQ 5.515625 14.109375 5.515625 27.296875 \r\nQ 5.515625 40.671875 12.859375 48.328125 \r\nQ 20.21875 56 33.015625 56 \r\nQ 37.15625 56 41.109375 55.140625 \r\nQ 45.0625 54.296875 48.78125 52.59375 \r\nz\r\n\" id=\"DejaVuSans-99\"/>\r\n        <path id=\"DejaVuSans-32\"/>\r\n        <path d=\"M 44.390625 34.1875 \r\nQ 47.5625 33.109375 50.5625 29.59375 \r\nQ 53.5625 26.078125 56.59375 19.921875 \r\nL 66.609375 0 \r\nL 56 0 \r\nL 46.6875 18.703125 \r\nQ 43.0625 26.03125 39.671875 28.421875 \r\nQ 36.28125 30.8125 30.421875 30.8125 \r\nL 19.671875 30.8125 \r\nL 19.671875 0 \r\nL 9.8125 0 \r\nL 9.8125 72.90625 \r\nL 32.078125 72.90625 \r\nQ 44.578125 72.90625 50.734375 67.671875 \r\nQ 56.890625 62.453125 56.890625 51.90625 \r\nQ 56.890625 45.015625 53.6875 40.46875 \r\nQ 50.484375 35.9375 44.390625 34.1875 \r\nz\r\nM 19.671875 64.796875 \r\nL 19.671875 38.921875 \r\nL 32.078125 38.921875 \r\nQ 39.203125 38.921875 42.84375 42.21875 \r\nQ 46.484375 45.515625 46.484375 51.90625 \r\nQ 46.484375 58.296875 42.84375 61.546875 \r\nQ 39.203125 64.796875 32.078125 64.796875 \r\nz\r\n\" id=\"DejaVuSans-82\"/>\r\n        <path d=\"M 56.203125 29.59375 \r\nL 56.203125 25.203125 \r\nL 14.890625 25.203125 \r\nQ 15.484375 15.921875 20.484375 11.0625 \r\nQ 25.484375 6.203125 34.421875 6.203125 \r\nQ 39.59375 6.203125 44.453125 7.46875 \r\nQ 49.3125 8.734375 54.109375 11.28125 \r\nL 54.109375 2.78125 \r\nQ 49.265625 0.734375 44.1875 -0.34375 \r\nQ 39.109375 -1.421875 33.890625 -1.421875 \r\nQ 20.796875 -1.421875 13.15625 6.1875 \r\nQ 5.515625 13.8125 5.515625 26.8125 \r\nQ 5.515625 40.234375 12.765625 48.109375 \r\nQ 20.015625 56 32.328125 56 \r\nQ 43.359375 56 49.78125 48.890625 \r\nQ 56.203125 41.796875 56.203125 29.59375 \r\nz\r\nM 47.21875 32.234375 \r\nQ 47.125 39.59375 43.09375 43.984375 \r\nQ 39.0625 48.390625 32.421875 48.390625 \r\nQ 24.90625 48.390625 20.390625 44.140625 \r\nQ 15.875 39.890625 15.1875 32.171875 \r\nz\r\n\" id=\"DejaVuSans-101\"/>\r\n        <path d=\"M 18.109375 8.203125 \r\nL 18.109375 -20.796875 \r\nL 9.078125 -20.796875 \r\nL 9.078125 54.6875 \r\nL 18.109375 54.6875 \r\nL 18.109375 46.390625 \r\nQ 20.953125 51.265625 25.265625 53.625 \r\nQ 29.59375 56 35.59375 56 \r\nQ 45.5625 56 51.78125 48.09375 \r\nQ 58.015625 40.1875 58.015625 27.296875 \r\nQ 58.015625 14.40625 51.78125 6.484375 \r\nQ 45.5625 -1.421875 35.59375 -1.421875 \r\nQ 29.59375 -1.421875 25.265625 0.953125 \r\nQ 20.953125 3.328125 18.109375 8.203125 \r\nz\r\nM 48.6875 27.296875 \r\nQ 48.6875 37.203125 44.609375 42.84375 \r\nQ 40.53125 48.484375 33.40625 48.484375 \r\nQ 26.265625 48.484375 22.1875 42.84375 \r\nQ 18.109375 37.203125 18.109375 27.296875 \r\nQ 18.109375 17.390625 22.1875 11.75 \r\nQ 26.265625 6.109375 33.40625 6.109375 \r\nQ 40.53125 6.109375 44.609375 11.75 \r\nQ 48.6875 17.390625 48.6875 27.296875 \r\nz\r\n\" id=\"DejaVuSans-112\"/>\r\n        <path d=\"M 30.609375 48.390625 \r\nQ 23.390625 48.390625 19.1875 42.75 \r\nQ 14.984375 37.109375 14.984375 27.296875 \r\nQ 14.984375 17.484375 19.15625 11.84375 \r\nQ 23.34375 6.203125 30.609375 6.203125 \r\nQ 37.796875 6.203125 41.984375 11.859375 \r\nQ 46.1875 17.53125 46.1875 27.296875 \r\nQ 46.1875 37.015625 41.984375 42.703125 \r\nQ 37.796875 48.390625 30.609375 48.390625 \r\nz\r\nM 30.609375 56 \r\nQ 42.328125 56 49.015625 48.375 \r\nQ 55.71875 40.765625 55.71875 27.296875 \r\nQ 55.71875 13.875 49.015625 6.21875 \r\nQ 42.328125 -1.421875 30.609375 -1.421875 \r\nQ 18.84375 -1.421875 12.171875 6.21875 \r\nQ 5.515625 13.875 5.515625 27.296875 \r\nQ 5.515625 40.765625 12.171875 48.375 \r\nQ 18.84375 56 30.609375 56 \r\nz\r\n\" id=\"DejaVuSans-111\"/>\r\n        <path d=\"M 41.109375 46.296875 \r\nQ 39.59375 47.171875 37.8125 47.578125 \r\nQ 36.03125 48 33.890625 48 \r\nQ 26.265625 48 22.1875 43.046875 \r\nQ 18.109375 38.09375 18.109375 28.8125 \r\nL 18.109375 0 \r\nL 9.078125 0 \r\nL 9.078125 54.6875 \r\nL 18.109375 54.6875 \r\nL 18.109375 46.1875 \r\nQ 20.953125 51.171875 25.484375 53.578125 \r\nQ 30.03125 56 36.53125 56 \r\nQ 37.453125 56 38.578125 55.875 \r\nQ 39.703125 55.765625 41.0625 55.515625 \r\nz\r\n\" id=\"DejaVuSans-114\"/>\r\n       </defs>\r\n       <use xlink:href=\"#DejaVuSans-65\"/>\r\n       <use x=\"68.408203\" xlink:href=\"#DejaVuSans-110\"/>\r\n       <use x=\"131.787109\" xlink:href=\"#DejaVuSans-97\"/>\r\n       <use x=\"193.066406\" xlink:href=\"#DejaVuSans-108\"/>\r\n       <use x=\"220.849609\" xlink:href=\"#DejaVuSans-121\"/>\r\n       <use x=\"280.029297\" xlink:href=\"#DejaVuSans-116\"/>\r\n       <use x=\"319.238281\" xlink:href=\"#DejaVuSans-105\"/>\r\n       <use x=\"347.021484\" xlink:href=\"#DejaVuSans-99\"/>\r\n       <use x=\"402.001953\" xlink:href=\"#DejaVuSans-97\"/>\r\n       <use x=\"463.28125\" xlink:href=\"#DejaVuSans-108\"/>\r\n       <use x=\"491.064453\" xlink:href=\"#DejaVuSans-32\"/>\r\n       <use x=\"522.851562\" xlink:href=\"#DejaVuSans-82\"/>\r\n       <use x=\"587.833984\" xlink:href=\"#DejaVuSans-101\"/>\r\n       <use x=\"649.357422\" xlink:href=\"#DejaVuSans-112\"/>\r\n       <use x=\"712.833984\" xlink:href=\"#DejaVuSans-111\"/>\r\n       <use x=\"774.015625\" xlink:href=\"#DejaVuSans-114\"/>\r\n       <use x=\"815.128906\" xlink:href=\"#DejaVuSans-116\"/>\r\n      </g>\r\n     </g>\r\n    </g>\r\n    <g id=\"xtick_2\">\r\n     <g id=\"line2d_2\">\r\n      <g>\r\n       <use style=\"stroke:#000000;stroke-width:0.8;\" x=\"194.8525\" xlink:href=\"#m5519900e6b\" y=\"239.758125\"/>\r\n      </g>\r\n     </g>\r\n     <g id=\"text_2\">\r\n      <!-- Incident Report -->\r\n      <g transform=\"translate(156.526719 254.356562)scale(0.1 -0.1)\">\r\n       <defs>\r\n        <path d=\"M 9.8125 72.90625 \r\nL 19.671875 72.90625 \r\nL 19.671875 0 \r\nL 9.8125 0 \r\nz\r\n\" id=\"DejaVuSans-73\"/>\r\n        <path d=\"M 45.40625 46.390625 \r\nL 45.40625 75.984375 \r\nL 54.390625 75.984375 \r\nL 54.390625 0 \r\nL 45.40625 0 \r\nL 45.40625 8.203125 \r\nQ 42.578125 3.328125 38.25 0.953125 \r\nQ 33.9375 -1.421875 27.875 -1.421875 \r\nQ 17.96875 -1.421875 11.734375 6.484375 \r\nQ 5.515625 14.40625 5.515625 27.296875 \r\nQ 5.515625 40.1875 11.734375 48.09375 \r\nQ 17.96875 56 27.875 56 \r\nQ 33.9375 56 38.25 53.625 \r\nQ 42.578125 51.265625 45.40625 46.390625 \r\nz\r\nM 14.796875 27.296875 \r\nQ 14.796875 17.390625 18.875 11.75 \r\nQ 22.953125 6.109375 30.078125 6.109375 \r\nQ 37.203125 6.109375 41.296875 11.75 \r\nQ 45.40625 17.390625 45.40625 27.296875 \r\nQ 45.40625 37.203125 41.296875 42.84375 \r\nQ 37.203125 48.484375 30.078125 48.484375 \r\nQ 22.953125 48.484375 18.875 42.84375 \r\nQ 14.796875 37.203125 14.796875 27.296875 \r\nz\r\n\" id=\"DejaVuSans-100\"/>\r\n       </defs>\r\n       <use xlink:href=\"#DejaVuSans-73\"/>\r\n       <use x=\"29.492188\" xlink:href=\"#DejaVuSans-110\"/>\r\n       <use x=\"92.871094\" xlink:href=\"#DejaVuSans-99\"/>\r\n       <use x=\"147.851562\" xlink:href=\"#DejaVuSans-105\"/>\r\n       <use x=\"175.634766\" xlink:href=\"#DejaVuSans-100\"/>\r\n       <use x=\"239.111328\" xlink:href=\"#DejaVuSans-101\"/>\r\n       <use x=\"300.634766\" xlink:href=\"#DejaVuSans-110\"/>\r\n       <use x=\"364.013672\" xlink:href=\"#DejaVuSans-116\"/>\r\n       <use x=\"403.222656\" xlink:href=\"#DejaVuSans-32\"/>\r\n       <use x=\"435.009766\" xlink:href=\"#DejaVuSans-82\"/>\r\n       <use x=\"499.992188\" xlink:href=\"#DejaVuSans-101\"/>\r\n       <use x=\"561.515625\" xlink:href=\"#DejaVuSans-112\"/>\r\n       <use x=\"624.992188\" xlink:href=\"#DejaVuSans-111\"/>\r\n       <use x=\"686.173828\" xlink:href=\"#DejaVuSans-114\"/>\r\n       <use x=\"727.287109\" xlink:href=\"#DejaVuSans-116\"/>\r\n      </g>\r\n     </g>\r\n    </g>\r\n    <g id=\"xtick_3\">\r\n     <g id=\"line2d_3\">\r\n      <g>\r\n       <use style=\"stroke:#000000;stroke-width:0.8;\" x=\"249.2125\" xlink:href=\"#m5519900e6b\" y=\"239.758125\"/>\r\n      </g>\r\n     </g>\r\n     <g id=\"text_3\">\r\n      <!-- Profile Report -->\r\n      <g transform=\"translate(215.503906 254.356562)scale(0.1 -0.1)\">\r\n       <defs>\r\n        <path d=\"M 19.671875 64.796875 \r\nL 19.671875 37.40625 \r\nL 32.078125 37.40625 \r\nQ 38.96875 37.40625 42.71875 40.96875 \r\nQ 46.484375 44.53125 46.484375 51.125 \r\nQ 46.484375 57.671875 42.71875 61.234375 \r\nQ 38.96875 64.796875 32.078125 64.796875 \r\nz\r\nM 9.8125 72.90625 \r\nL 32.078125 72.90625 \r\nQ 44.34375 72.90625 50.609375 67.359375 \r\nQ 56.890625 61.8125 56.890625 51.125 \r\nQ 56.890625 40.328125 50.609375 34.8125 \r\nQ 44.34375 29.296875 32.078125 29.296875 \r\nL 19.671875 29.296875 \r\nL 19.671875 0 \r\nL 9.8125 0 \r\nz\r\n\" id=\"DejaVuSans-80\"/>\r\n        <path d=\"M 37.109375 75.984375 \r\nL 37.109375 68.5 \r\nL 28.515625 68.5 \r\nQ 23.6875 68.5 21.796875 66.546875 \r\nQ 19.921875 64.59375 19.921875 59.515625 \r\nL 19.921875 54.6875 \r\nL 34.71875 54.6875 \r\nL 34.71875 47.703125 \r\nL 19.921875 47.703125 \r\nL 19.921875 0 \r\nL 10.890625 0 \r\nL 10.890625 47.703125 \r\nL 2.296875 47.703125 \r\nL 2.296875 54.6875 \r\nL 10.890625 54.6875 \r\nL 10.890625 58.5 \r\nQ 10.890625 67.625 15.140625 71.796875 \r\nQ 19.390625 75.984375 28.609375 75.984375 \r\nz\r\n\" id=\"DejaVuSans-102\"/>\r\n       </defs>\r\n       <use xlink:href=\"#DejaVuSans-80\"/>\r\n       <use x=\"58.552734\" xlink:href=\"#DejaVuSans-114\"/>\r\n       <use x=\"97.416016\" xlink:href=\"#DejaVuSans-111\"/>\r\n       <use x=\"158.597656\" xlink:href=\"#DejaVuSans-102\"/>\r\n       <use x=\"193.802734\" xlink:href=\"#DejaVuSans-105\"/>\r\n       <use x=\"221.585938\" xlink:href=\"#DejaVuSans-108\"/>\r\n       <use x=\"249.369141\" xlink:href=\"#DejaVuSans-101\"/>\r\n       <use x=\"310.892578\" xlink:href=\"#DejaVuSans-32\"/>\r\n       <use x=\"342.679688\" xlink:href=\"#DejaVuSans-82\"/>\r\n       <use x=\"407.662109\" xlink:href=\"#DejaVuSans-101\"/>\r\n       <use x=\"469.185547\" xlink:href=\"#DejaVuSans-112\"/>\r\n       <use x=\"532.662109\" xlink:href=\"#DejaVuSans-111\"/>\r\n       <use x=\"593.84375\" xlink:href=\"#DejaVuSans-114\"/>\r\n       <use x=\"634.957031\" xlink:href=\"#DejaVuSans-116\"/>\r\n      </g>\r\n     </g>\r\n    </g>\r\n    <g id=\"xtick_4\">\r\n     <g id=\"line2d_4\">\r\n      <g>\r\n       <use style=\"stroke:#000000;stroke-width:0.8;\" x=\"303.5725\" xlink:href=\"#m5519900e6b\" y=\"239.758125\"/>\r\n      </g>\r\n     </g>\r\n     <g id=\"text_4\">\r\n      <!-- Situation Report -->\r\n      <g transform=\"translate(263.074844 254.356562)scale(0.1 -0.1)\">\r\n       <defs>\r\n        <path d=\"M 53.515625 70.515625 \r\nL 53.515625 60.890625 \r\nQ 47.90625 63.578125 42.921875 64.890625 \r\nQ 37.9375 66.21875 33.296875 66.21875 \r\nQ 25.25 66.21875 20.875 63.09375 \r\nQ 16.5 59.96875 16.5 54.203125 \r\nQ 16.5 49.359375 19.40625 46.890625 \r\nQ 22.3125 44.4375 30.421875 42.921875 \r\nL 36.375 41.703125 \r\nQ 47.40625 39.59375 52.65625 34.296875 \r\nQ 57.90625 29 57.90625 20.125 \r\nQ 57.90625 9.515625 50.796875 4.046875 \r\nQ 43.703125 -1.421875 29.984375 -1.421875 \r\nQ 24.8125 -1.421875 18.96875 -0.25 \r\nQ 13.140625 0.921875 6.890625 3.21875 \r\nL 6.890625 13.375 \r\nQ 12.890625 10.015625 18.65625 8.296875 \r\nQ 24.421875 6.59375 29.984375 6.59375 \r\nQ 38.421875 6.59375 43.015625 9.90625 \r\nQ 47.609375 13.234375 47.609375 19.390625 \r\nQ 47.609375 24.75 44.3125 27.78125 \r\nQ 41.015625 30.8125 33.5 32.328125 \r\nL 27.484375 33.5 \r\nQ 16.453125 35.6875 11.515625 40.375 \r\nQ 6.59375 45.0625 6.59375 53.421875 \r\nQ 6.59375 63.09375 13.40625 68.65625 \r\nQ 20.21875 74.21875 32.171875 74.21875 \r\nQ 37.3125 74.21875 42.625 73.28125 \r\nQ 47.953125 72.359375 53.515625 70.515625 \r\nz\r\n\" id=\"DejaVuSans-83\"/>\r\n        <path d=\"M 8.5 21.578125 \r\nL 8.5 54.6875 \r\nL 17.484375 54.6875 \r\nL 17.484375 21.921875 \r\nQ 17.484375 14.15625 20.5 10.265625 \r\nQ 23.53125 6.390625 29.59375 6.390625 \r\nQ 36.859375 6.390625 41.078125 11.03125 \r\nQ 45.3125 15.671875 45.3125 23.6875 \r\nL 45.3125 54.6875 \r\nL 54.296875 54.6875 \r\nL 54.296875 0 \r\nL 45.3125 0 \r\nL 45.3125 8.40625 \r\nQ 42.046875 3.421875 37.71875 1 \r\nQ 33.40625 -1.421875 27.6875 -1.421875 \r\nQ 18.265625 -1.421875 13.375 4.4375 \r\nQ 8.5 10.296875 8.5 21.578125 \r\nz\r\nM 31.109375 56 \r\nz\r\n\" id=\"DejaVuSans-117\"/>\r\n       </defs>\r\n       <use xlink:href=\"#DejaVuSans-83\"/>\r\n       <use x=\"63.476562\" xlink:href=\"#DejaVuSans-105\"/>\r\n       <use x=\"91.259766\" xlink:href=\"#DejaVuSans-116\"/>\r\n       <use x=\"130.46875\" xlink:href=\"#DejaVuSans-117\"/>\r\n       <use x=\"193.847656\" xlink:href=\"#DejaVuSans-97\"/>\r\n       <use x=\"255.126953\" xlink:href=\"#DejaVuSans-116\"/>\r\n       <use x=\"294.335938\" xlink:href=\"#DejaVuSans-105\"/>\r\n       <use x=\"322.119141\" xlink:href=\"#DejaVuSans-111\"/>\r\n       <use x=\"383.300781\" xlink:href=\"#DejaVuSans-110\"/>\r\n       <use x=\"446.679688\" xlink:href=\"#DejaVuSans-32\"/>\r\n       <use x=\"478.466797\" xlink:href=\"#DejaVuSans-82\"/>\r\n       <use x=\"543.449219\" xlink:href=\"#DejaVuSans-101\"/>\r\n       <use x=\"604.972656\" xlink:href=\"#DejaVuSans-112\"/>\r\n       <use x=\"668.449219\" xlink:href=\"#DejaVuSans-111\"/>\r\n       <use x=\"729.630859\" xlink:href=\"#DejaVuSans-114\"/>\r\n       <use x=\"770.744141\" xlink:href=\"#DejaVuSans-116\"/>\r\n      </g>\r\n     </g>\r\n    </g>\r\n    <g id=\"text_5\">\r\n     <!-- Predicted label -->\r\n     <g transform=\"translate(184.880156 268.034687)scale(0.1 -0.1)\">\r\n      <defs>\r\n       <path d=\"M 48.6875 27.296875 \r\nQ 48.6875 37.203125 44.609375 42.84375 \r\nQ 40.53125 48.484375 33.40625 48.484375 \r\nQ 26.265625 48.484375 22.1875 42.84375 \r\nQ 18.109375 37.203125 18.109375 27.296875 \r\nQ 18.109375 17.390625 22.1875 11.75 \r\nQ 26.265625 6.109375 33.40625 6.109375 \r\nQ 40.53125 6.109375 44.609375 11.75 \r\nQ 48.6875 17.390625 48.6875 27.296875 \r\nz\r\nM 18.109375 46.390625 \r\nQ 20.953125 51.265625 25.265625 53.625 \r\nQ 29.59375 56 35.59375 56 \r\nQ 45.5625 56 51.78125 48.09375 \r\nQ 58.015625 40.1875 58.015625 27.296875 \r\nQ 58.015625 14.40625 51.78125 6.484375 \r\nQ 45.5625 -1.421875 35.59375 -1.421875 \r\nQ 29.59375 -1.421875 25.265625 0.953125 \r\nQ 20.953125 3.328125 18.109375 8.203125 \r\nL 18.109375 0 \r\nL 9.078125 0 \r\nL 9.078125 75.984375 \r\nL 18.109375 75.984375 \r\nz\r\n\" id=\"DejaVuSans-98\"/>\r\n      </defs>\r\n      <use xlink:href=\"#DejaVuSans-80\"/>\r\n      <use x=\"58.552734\" xlink:href=\"#DejaVuSans-114\"/>\r\n      <use x=\"97.416016\" xlink:href=\"#DejaVuSans-101\"/>\r\n      <use x=\"158.939453\" xlink:href=\"#DejaVuSans-100\"/>\r\n      <use x=\"222.416016\" xlink:href=\"#DejaVuSans-105\"/>\r\n      <use x=\"250.199219\" xlink:href=\"#DejaVuSans-99\"/>\r\n      <use x=\"305.179688\" xlink:href=\"#DejaVuSans-116\"/>\r\n      <use x=\"344.388672\" xlink:href=\"#DejaVuSans-101\"/>\r\n      <use x=\"405.912109\" xlink:href=\"#DejaVuSans-100\"/>\r\n      <use x=\"469.388672\" xlink:href=\"#DejaVuSans-32\"/>\r\n      <use x=\"501.175781\" xlink:href=\"#DejaVuSans-108\"/>\r\n      <use x=\"528.958984\" xlink:href=\"#DejaVuSans-97\"/>\r\n      <use x=\"590.238281\" xlink:href=\"#DejaVuSans-98\"/>\r\n      <use x=\"653.714844\" xlink:href=\"#DejaVuSans-101\"/>\r\n      <use x=\"715.238281\" xlink:href=\"#DejaVuSans-108\"/>\r\n     </g>\r\n    </g>\r\n   </g>\r\n   <g id=\"matplotlib.axis_2\">\r\n    <g id=\"ytick_1\">\r\n     <g id=\"line2d_5\">\r\n      <defs>\r\n       <path d=\"M 0 0 \r\nL -3.5 0 \r\n\" id=\"m98c8c0aa23\" style=\"stroke:#000000;stroke-width:0.8;\"/>\r\n      </defs>\r\n      <g>\r\n       <use style=\"stroke:#000000;stroke-width:0.8;\" x=\"113.3125\" xlink:href=\"#m98c8c0aa23\" y=\"49.498125\"/>\r\n      </g>\r\n     </g>\r\n     <g id=\"text_6\">\r\n      <!-- Analytical Report -->\r\n      <g transform=\"translate(20.878125 53.297344)scale(0.1 -0.1)\">\r\n       <use xlink:href=\"#DejaVuSans-65\"/>\r\n       <use x=\"68.408203\" xlink:href=\"#DejaVuSans-110\"/>\r\n       <use x=\"131.787109\" xlink:href=\"#DejaVuSans-97\"/>\r\n       <use x=\"193.066406\" xlink:href=\"#DejaVuSans-108\"/>\r\n       <use x=\"220.849609\" xlink:href=\"#DejaVuSans-121\"/>\r\n       <use x=\"280.029297\" xlink:href=\"#DejaVuSans-116\"/>\r\n       <use x=\"319.238281\" xlink:href=\"#DejaVuSans-105\"/>\r\n       <use x=\"347.021484\" xlink:href=\"#DejaVuSans-99\"/>\r\n       <use x=\"402.001953\" xlink:href=\"#DejaVuSans-97\"/>\r\n       <use x=\"463.28125\" xlink:href=\"#DejaVuSans-108\"/>\r\n       <use x=\"491.064453\" xlink:href=\"#DejaVuSans-32\"/>\r\n       <use x=\"522.851562\" xlink:href=\"#DejaVuSans-82\"/>\r\n       <use x=\"587.833984\" xlink:href=\"#DejaVuSans-101\"/>\r\n       <use x=\"649.357422\" xlink:href=\"#DejaVuSans-112\"/>\r\n       <use x=\"712.833984\" xlink:href=\"#DejaVuSans-111\"/>\r\n       <use x=\"774.015625\" xlink:href=\"#DejaVuSans-114\"/>\r\n       <use x=\"815.128906\" xlink:href=\"#DejaVuSans-116\"/>\r\n      </g>\r\n     </g>\r\n    </g>\r\n    <g id=\"ytick_2\">\r\n     <g id=\"line2d_6\">\r\n      <g>\r\n       <use style=\"stroke:#000000;stroke-width:0.8;\" x=\"113.3125\" xlink:href=\"#m98c8c0aa23\" y=\"103.858125\"/>\r\n      </g>\r\n     </g>\r\n     <g id=\"text_7\">\r\n      <!-- Incident Report -->\r\n      <g transform=\"translate(29.660938 107.657344)scale(0.1 -0.1)\">\r\n       <use xlink:href=\"#DejaVuSans-73\"/>\r\n       <use x=\"29.492188\" xlink:href=\"#DejaVuSans-110\"/>\r\n       <use x=\"92.871094\" xlink:href=\"#DejaVuSans-99\"/>\r\n       <use x=\"147.851562\" xlink:href=\"#DejaVuSans-105\"/>\r\n       <use x=\"175.634766\" xlink:href=\"#DejaVuSans-100\"/>\r\n       <use x=\"239.111328\" xlink:href=\"#DejaVuSans-101\"/>\r\n       <use x=\"300.634766\" xlink:href=\"#DejaVuSans-110\"/>\r\n       <use x=\"364.013672\" xlink:href=\"#DejaVuSans-116\"/>\r\n       <use x=\"403.222656\" xlink:href=\"#DejaVuSans-32\"/>\r\n       <use x=\"435.009766\" xlink:href=\"#DejaVuSans-82\"/>\r\n       <use x=\"499.992188\" xlink:href=\"#DejaVuSans-101\"/>\r\n       <use x=\"561.515625\" xlink:href=\"#DejaVuSans-112\"/>\r\n       <use x=\"624.992188\" xlink:href=\"#DejaVuSans-111\"/>\r\n       <use x=\"686.173828\" xlink:href=\"#DejaVuSans-114\"/>\r\n       <use x=\"727.287109\" xlink:href=\"#DejaVuSans-116\"/>\r\n      </g>\r\n     </g>\r\n    </g>\r\n    <g id=\"ytick_3\">\r\n     <g id=\"line2d_7\">\r\n      <g>\r\n       <use style=\"stroke:#000000;stroke-width:0.8;\" x=\"113.3125\" xlink:href=\"#m98c8c0aa23\" y=\"158.218125\"/>\r\n      </g>\r\n     </g>\r\n     <g id=\"text_8\">\r\n      <!-- Profile Report -->\r\n      <g transform=\"translate(38.895313 162.017344)scale(0.1 -0.1)\">\r\n       <use xlink:href=\"#DejaVuSans-80\"/>\r\n       <use x=\"58.552734\" xlink:href=\"#DejaVuSans-114\"/>\r\n       <use x=\"97.416016\" xlink:href=\"#DejaVuSans-111\"/>\r\n       <use x=\"158.597656\" xlink:href=\"#DejaVuSans-102\"/>\r\n       <use x=\"193.802734\" xlink:href=\"#DejaVuSans-105\"/>\r\n       <use x=\"221.585938\" xlink:href=\"#DejaVuSans-108\"/>\r\n       <use x=\"249.369141\" xlink:href=\"#DejaVuSans-101\"/>\r\n       <use x=\"310.892578\" xlink:href=\"#DejaVuSans-32\"/>\r\n       <use x=\"342.679688\" xlink:href=\"#DejaVuSans-82\"/>\r\n       <use x=\"407.662109\" xlink:href=\"#DejaVuSans-101\"/>\r\n       <use x=\"469.185547\" xlink:href=\"#DejaVuSans-112\"/>\r\n       <use x=\"532.662109\" xlink:href=\"#DejaVuSans-111\"/>\r\n       <use x=\"593.84375\" xlink:href=\"#DejaVuSans-114\"/>\r\n       <use x=\"634.957031\" xlink:href=\"#DejaVuSans-116\"/>\r\n      </g>\r\n     </g>\r\n    </g>\r\n    <g id=\"ytick_4\">\r\n     <g id=\"line2d_8\">\r\n      <g>\r\n       <use style=\"stroke:#000000;stroke-width:0.8;\" x=\"113.3125\" xlink:href=\"#m98c8c0aa23\" y=\"212.578125\"/>\r\n      </g>\r\n     </g>\r\n     <g id=\"text_9\">\r\n      <!-- Situation Report -->\r\n      <g transform=\"translate(25.317187 216.377344)scale(0.1 -0.1)\">\r\n       <use xlink:href=\"#DejaVuSans-83\"/>\r\n       <use x=\"63.476562\" xlink:href=\"#DejaVuSans-105\"/>\r\n       <use x=\"91.259766\" xlink:href=\"#DejaVuSans-116\"/>\r\n       <use x=\"130.46875\" xlink:href=\"#DejaVuSans-117\"/>\r\n       <use x=\"193.847656\" xlink:href=\"#DejaVuSans-97\"/>\r\n       <use x=\"255.126953\" xlink:href=\"#DejaVuSans-116\"/>\r\n       <use x=\"294.335938\" xlink:href=\"#DejaVuSans-105\"/>\r\n       <use x=\"322.119141\" xlink:href=\"#DejaVuSans-111\"/>\r\n       <use x=\"383.300781\" xlink:href=\"#DejaVuSans-110\"/>\r\n       <use x=\"446.679688\" xlink:href=\"#DejaVuSans-32\"/>\r\n       <use x=\"478.466797\" xlink:href=\"#DejaVuSans-82\"/>\r\n       <use x=\"543.449219\" xlink:href=\"#DejaVuSans-101\"/>\r\n       <use x=\"604.972656\" xlink:href=\"#DejaVuSans-112\"/>\r\n       <use x=\"668.449219\" xlink:href=\"#DejaVuSans-111\"/>\r\n       <use x=\"729.630859\" xlink:href=\"#DejaVuSans-114\"/>\r\n       <use x=\"770.744141\" xlink:href=\"#DejaVuSans-116\"/>\r\n      </g>\r\n     </g>\r\n    </g>\r\n    <g id=\"text_10\">\r\n     <!-- True label -->\r\n     <g transform=\"translate(14.798437 155.337344)rotate(-90)scale(0.1 -0.1)\">\r\n      <defs>\r\n       <path d=\"M -0.296875 72.90625 \r\nL 61.375 72.90625 \r\nL 61.375 64.59375 \r\nL 35.5 64.59375 \r\nL 35.5 0 \r\nL 25.59375 0 \r\nL 25.59375 64.59375 \r\nL -0.296875 64.59375 \r\nz\r\n\" id=\"DejaVuSans-84\"/>\r\n      </defs>\r\n      <use xlink:href=\"#DejaVuSans-84\"/>\r\n      <use x=\"46.333984\" xlink:href=\"#DejaVuSans-114\"/>\r\n      <use x=\"87.447266\" xlink:href=\"#DejaVuSans-117\"/>\r\n      <use x=\"150.826172\" xlink:href=\"#DejaVuSans-101\"/>\r\n      <use x=\"212.349609\" xlink:href=\"#DejaVuSans-32\"/>\r\n      <use x=\"244.136719\" xlink:href=\"#DejaVuSans-108\"/>\r\n      <use x=\"271.919922\" xlink:href=\"#DejaVuSans-97\"/>\r\n      <use x=\"333.199219\" xlink:href=\"#DejaVuSans-98\"/>\r\n      <use x=\"396.675781\" xlink:href=\"#DejaVuSans-101\"/>\r\n      <use x=\"458.199219\" xlink:href=\"#DejaVuSans-108\"/>\r\n     </g>\r\n    </g>\r\n   </g>\r\n   <g id=\"patch_3\">\r\n    <path d=\"M 113.3125 239.758125 \r\nL 113.3125 22.318125 \r\n\" style=\"fill:none;stroke:#000000;stroke-linecap:square;stroke-linejoin:miter;stroke-width:0.8;\"/>\r\n   </g>\r\n   <g id=\"patch_4\">\r\n    <path d=\"M 330.7525 239.758125 \r\nL 330.7525 22.318125 \r\n\" style=\"fill:none;stroke:#000000;stroke-linecap:square;stroke-linejoin:miter;stroke-width:0.8;\"/>\r\n   </g>\r\n   <g id=\"patch_5\">\r\n    <path d=\"M 113.3125 239.758125 \r\nL 330.7525 239.758125 \r\n\" style=\"fill:none;stroke:#000000;stroke-linecap:square;stroke-linejoin:miter;stroke-width:0.8;\"/>\r\n   </g>\r\n   <g id=\"patch_6\">\r\n    <path d=\"M 113.3125 22.318125 \r\nL 330.7525 22.318125 \r\n\" style=\"fill:none;stroke:#000000;stroke-linecap:square;stroke-linejoin:miter;stroke-width:0.8;\"/>\r\n   </g>\r\n   <g id=\"text_11\">\r\n    <!-- 60 -->\r\n    <g style=\"fill:#f7fbff;\" transform=\"translate(134.13 52.2575)scale(0.1 -0.1)\">\r\n     <defs>\r\n      <path d=\"M 33.015625 40.375 \r\nQ 26.375 40.375 22.484375 35.828125 \r\nQ 18.609375 31.296875 18.609375 23.390625 \r\nQ 18.609375 15.53125 22.484375 10.953125 \r\nQ 26.375 6.390625 33.015625 6.390625 \r\nQ 39.65625 6.390625 43.53125 10.953125 \r\nQ 47.40625 15.53125 47.40625 23.390625 \r\nQ 47.40625 31.296875 43.53125 35.828125 \r\nQ 39.65625 40.375 33.015625 40.375 \r\nz\r\nM 52.59375 71.296875 \r\nL 52.59375 62.3125 \r\nQ 48.875 64.0625 45.09375 64.984375 \r\nQ 41.3125 65.921875 37.59375 65.921875 \r\nQ 27.828125 65.921875 22.671875 59.328125 \r\nQ 17.53125 52.734375 16.796875 39.40625 \r\nQ 19.671875 43.65625 24.015625 45.921875 \r\nQ 28.375 48.1875 33.59375 48.1875 \r\nQ 44.578125 48.1875 50.953125 41.515625 \r\nQ 57.328125 34.859375 57.328125 23.390625 \r\nQ 57.328125 12.15625 50.6875 5.359375 \r\nQ 44.046875 -1.421875 33.015625 -1.421875 \r\nQ 20.359375 -1.421875 13.671875 8.265625 \r\nQ 6.984375 17.96875 6.984375 36.375 \r\nQ 6.984375 53.65625 15.1875 63.9375 \r\nQ 23.390625 74.21875 37.203125 74.21875 \r\nQ 40.921875 74.21875 44.703125 73.484375 \r\nQ 48.484375 72.75 52.59375 71.296875 \r\nz\r\n\" id=\"DejaVuSans-54\"/>\r\n      <path d=\"M 31.78125 66.40625 \r\nQ 24.171875 66.40625 20.328125 58.90625 \r\nQ 16.5 51.421875 16.5 36.375 \r\nQ 16.5 21.390625 20.328125 13.890625 \r\nQ 24.171875 6.390625 31.78125 6.390625 \r\nQ 39.453125 6.390625 43.28125 13.890625 \r\nQ 47.125 21.390625 47.125 36.375 \r\nQ 47.125 51.421875 43.28125 58.90625 \r\nQ 39.453125 66.40625 31.78125 66.40625 \r\nz\r\nM 31.78125 74.21875 \r\nQ 44.046875 74.21875 50.515625 64.515625 \r\nQ 56.984375 54.828125 56.984375 36.375 \r\nQ 56.984375 17.96875 50.515625 8.265625 \r\nQ 44.046875 -1.421875 31.78125 -1.421875 \r\nQ 19.53125 -1.421875 13.0625 8.265625 \r\nQ 6.59375 17.96875 6.59375 36.375 \r\nQ 6.59375 54.828125 13.0625 64.515625 \r\nQ 19.53125 74.21875 31.78125 74.21875 \r\nz\r\n\" id=\"DejaVuSans-48\"/>\r\n     </defs>\r\n     <use xlink:href=\"#DejaVuSans-54\"/>\r\n     <use x=\"63.623047\" xlink:href=\"#DejaVuSans-48\"/>\r\n    </g>\r\n   </g>\r\n   <g id=\"text_12\">\r\n    <!-- 0 -->\r\n    <g style=\"fill:#08306b;\" transform=\"translate(191.67125 52.2575)scale(0.1 -0.1)\">\r\n     <use xlink:href=\"#DejaVuSans-48\"/>\r\n    </g>\r\n   </g>\r\n   <g id=\"text_13\">\r\n    <!-- 0 -->\r\n    <g style=\"fill:#08306b;\" transform=\"translate(246.03125 52.2575)scale(0.1 -0.1)\">\r\n     <use xlink:href=\"#DejaVuSans-48\"/>\r\n    </g>\r\n   </g>\r\n   <g id=\"text_14\">\r\n    <!-- 0 -->\r\n    <g style=\"fill:#08306b;\" transform=\"translate(300.39125 52.2575)scale(0.1 -0.1)\">\r\n     <use xlink:href=\"#DejaVuSans-48\"/>\r\n    </g>\r\n   </g>\r\n   <g id=\"text_15\">\r\n    <!-- 0 -->\r\n    <g style=\"fill:#08306b;\" transform=\"translate(137.31125 106.6175)scale(0.1 -0.1)\">\r\n     <use xlink:href=\"#DejaVuSans-48\"/>\r\n    </g>\r\n   </g>\r\n   <g id=\"text_16\">\r\n    <!-- 54 -->\r\n    <g style=\"fill:#f7fbff;\" transform=\"translate(188.49 106.6175)scale(0.1 -0.1)\">\r\n     <defs>\r\n      <path d=\"M 10.796875 72.90625 \r\nL 49.515625 72.90625 \r\nL 49.515625 64.59375 \r\nL 19.828125 64.59375 \r\nL 19.828125 46.734375 \r\nQ 21.96875 47.46875 24.109375 47.828125 \r\nQ 26.265625 48.1875 28.421875 48.1875 \r\nQ 40.625 48.1875 47.75 41.5 \r\nQ 54.890625 34.8125 54.890625 23.390625 \r\nQ 54.890625 11.625 47.5625 5.09375 \r\nQ 40.234375 -1.421875 26.90625 -1.421875 \r\nQ 22.3125 -1.421875 17.546875 -0.640625 \r\nQ 12.796875 0.140625 7.71875 1.703125 \r\nL 7.71875 11.625 \r\nQ 12.109375 9.234375 16.796875 8.0625 \r\nQ 21.484375 6.890625 26.703125 6.890625 \r\nQ 35.15625 6.890625 40.078125 11.328125 \r\nQ 45.015625 15.765625 45.015625 23.390625 \r\nQ 45.015625 31 40.078125 35.4375 \r\nQ 35.15625 39.890625 26.703125 39.890625 \r\nQ 22.75 39.890625 18.8125 39.015625 \r\nQ 14.890625 38.140625 10.796875 36.28125 \r\nz\r\n\" id=\"DejaVuSans-53\"/>\r\n      <path d=\"M 37.796875 64.3125 \r\nL 12.890625 25.390625 \r\nL 37.796875 25.390625 \r\nz\r\nM 35.203125 72.90625 \r\nL 47.609375 72.90625 \r\nL 47.609375 25.390625 \r\nL 58.015625 25.390625 \r\nL 58.015625 17.1875 \r\nL 47.609375 17.1875 \r\nL 47.609375 0 \r\nL 37.796875 0 \r\nL 37.796875 17.1875 \r\nL 4.890625 17.1875 \r\nL 4.890625 26.703125 \r\nz\r\n\" id=\"DejaVuSans-52\"/>\r\n     </defs>\r\n     <use xlink:href=\"#DejaVuSans-53\"/>\r\n     <use x=\"63.623047\" xlink:href=\"#DejaVuSans-52\"/>\r\n    </g>\r\n   </g>\r\n   <g id=\"text_17\">\r\n    <!-- 0 -->\r\n    <g style=\"fill:#08306b;\" transform=\"translate(246.03125 106.6175)scale(0.1 -0.1)\">\r\n     <use xlink:href=\"#DejaVuSans-48\"/>\r\n    </g>\r\n   </g>\r\n   <g id=\"text_18\">\r\n    <!-- 0 -->\r\n    <g style=\"fill:#08306b;\" transform=\"translate(300.39125 106.6175)scale(0.1 -0.1)\">\r\n     <use xlink:href=\"#DejaVuSans-48\"/>\r\n    </g>\r\n   </g>\r\n   <g id=\"text_19\">\r\n    <!-- 0 -->\r\n    <g style=\"fill:#08306b;\" transform=\"translate(137.31125 160.9775)scale(0.1 -0.1)\">\r\n     <use xlink:href=\"#DejaVuSans-48\"/>\r\n    </g>\r\n   </g>\r\n   <g id=\"text_20\">\r\n    <!-- 0 -->\r\n    <g style=\"fill:#08306b;\" transform=\"translate(191.67125 160.9775)scale(0.1 -0.1)\">\r\n     <use xlink:href=\"#DejaVuSans-48\"/>\r\n    </g>\r\n   </g>\r\n   <g id=\"text_21\">\r\n    <!-- 63 -->\r\n    <g style=\"fill:#f7fbff;\" transform=\"translate(242.85 160.9775)scale(0.1 -0.1)\">\r\n     <defs>\r\n      <path d=\"M 40.578125 39.3125 \r\nQ 47.65625 37.796875 51.625 33 \r\nQ 55.609375 28.21875 55.609375 21.1875 \r\nQ 55.609375 10.40625 48.1875 4.484375 \r\nQ 40.765625 -1.421875 27.09375 -1.421875 \r\nQ 22.515625 -1.421875 17.65625 -0.515625 \r\nQ 12.796875 0.390625 7.625 2.203125 \r\nL 7.625 11.71875 \r\nQ 11.71875 9.328125 16.59375 8.109375 \r\nQ 21.484375 6.890625 26.8125 6.890625 \r\nQ 36.078125 6.890625 40.9375 10.546875 \r\nQ 45.796875 14.203125 45.796875 21.1875 \r\nQ 45.796875 27.640625 41.28125 31.265625 \r\nQ 36.765625 34.90625 28.71875 34.90625 \r\nL 20.21875 34.90625 \r\nL 20.21875 43.015625 \r\nL 29.109375 43.015625 \r\nQ 36.375 43.015625 40.234375 45.921875 \r\nQ 44.09375 48.828125 44.09375 54.296875 \r\nQ 44.09375 59.90625 40.109375 62.90625 \r\nQ 36.140625 65.921875 28.71875 65.921875 \r\nQ 24.65625 65.921875 20.015625 65.03125 \r\nQ 15.375 64.15625 9.8125 62.3125 \r\nL 9.8125 71.09375 \r\nQ 15.4375 72.65625 20.34375 73.4375 \r\nQ 25.25 74.21875 29.59375 74.21875 \r\nQ 40.828125 74.21875 47.359375 69.109375 \r\nQ 53.90625 64.015625 53.90625 55.328125 \r\nQ 53.90625 49.265625 50.4375 45.09375 \r\nQ 46.96875 40.921875 40.578125 39.3125 \r\nz\r\n\" id=\"DejaVuSans-51\"/>\r\n     </defs>\r\n     <use xlink:href=\"#DejaVuSans-54\"/>\r\n     <use x=\"63.623047\" xlink:href=\"#DejaVuSans-51\"/>\r\n    </g>\r\n   </g>\r\n   <g id=\"text_22\">\r\n    <!-- 0 -->\r\n    <g style=\"fill:#08306b;\" transform=\"translate(300.39125 160.9775)scale(0.1 -0.1)\">\r\n     <use xlink:href=\"#DejaVuSans-48\"/>\r\n    </g>\r\n   </g>\r\n   <g id=\"text_23\">\r\n    <!-- 0 -->\r\n    <g style=\"fill:#08306b;\" transform=\"translate(137.31125 215.3375)scale(0.1 -0.1)\">\r\n     <use xlink:href=\"#DejaVuSans-48\"/>\r\n    </g>\r\n   </g>\r\n   <g id=\"text_24\">\r\n    <!-- 0 -->\r\n    <g style=\"fill:#08306b;\" transform=\"translate(191.67125 215.3375)scale(0.1 -0.1)\">\r\n     <use xlink:href=\"#DejaVuSans-48\"/>\r\n    </g>\r\n   </g>\r\n   <g id=\"text_25\">\r\n    <!-- 0 -->\r\n    <g style=\"fill:#08306b;\" transform=\"translate(246.03125 215.3375)scale(0.1 -0.1)\">\r\n     <use xlink:href=\"#DejaVuSans-48\"/>\r\n    </g>\r\n   </g>\r\n   <g id=\"text_26\">\r\n    <!-- 71 -->\r\n    <g style=\"fill:#f7fbff;\" transform=\"translate(297.21 215.3375)scale(0.1 -0.1)\">\r\n     <defs>\r\n      <path d=\"M 8.203125 72.90625 \r\nL 55.078125 72.90625 \r\nL 55.078125 68.703125 \r\nL 28.609375 0 \r\nL 18.3125 0 \r\nL 43.21875 64.59375 \r\nL 8.203125 64.59375 \r\nz\r\n\" id=\"DejaVuSans-55\"/>\r\n      <path d=\"M 12.40625 8.296875 \r\nL 28.515625 8.296875 \r\nL 28.515625 63.921875 \r\nL 10.984375 60.40625 \r\nL 10.984375 69.390625 \r\nL 28.421875 72.90625 \r\nL 38.28125 72.90625 \r\nL 38.28125 8.296875 \r\nL 54.390625 8.296875 \r\nL 54.390625 0 \r\nL 12.40625 0 \r\nz\r\n\" id=\"DejaVuSans-49\"/>\r\n     </defs>\r\n     <use xlink:href=\"#DejaVuSans-55\"/>\r\n     <use x=\"63.623047\" xlink:href=\"#DejaVuSans-49\"/>\r\n    </g>\r\n   </g>\r\n   <g id=\"text_27\">\r\n    <!-- Train dataset Random Forest Classifier -->\r\n    <g transform=\"translate(106.694688 16.318125)scale(0.12 -0.12)\">\r\n     <defs>\r\n      <path d=\"M 44.28125 53.078125 \r\nL 44.28125 44.578125 \r\nQ 40.484375 46.53125 36.375 47.5 \r\nQ 32.28125 48.484375 27.875 48.484375 \r\nQ 21.1875 48.484375 17.84375 46.4375 \r\nQ 14.5 44.390625 14.5 40.28125 \r\nQ 14.5 37.15625 16.890625 35.375 \r\nQ 19.28125 33.59375 26.515625 31.984375 \r\nL 29.59375 31.296875 \r\nQ 39.15625 29.25 43.1875 25.515625 \r\nQ 47.21875 21.78125 47.21875 15.09375 \r\nQ 47.21875 7.46875 41.1875 3.015625 \r\nQ 35.15625 -1.421875 24.609375 -1.421875 \r\nQ 20.21875 -1.421875 15.453125 -0.5625 \r\nQ 10.6875 0.296875 5.421875 2 \r\nL 5.421875 11.28125 \r\nQ 10.40625 8.6875 15.234375 7.390625 \r\nQ 20.0625 6.109375 24.8125 6.109375 \r\nQ 31.15625 6.109375 34.5625 8.28125 \r\nQ 37.984375 10.453125 37.984375 14.40625 \r\nQ 37.984375 18.0625 35.515625 20.015625 \r\nQ 33.0625 21.96875 24.703125 23.78125 \r\nL 21.578125 24.515625 \r\nQ 13.234375 26.265625 9.515625 29.90625 \r\nQ 5.8125 33.546875 5.8125 39.890625 \r\nQ 5.8125 47.609375 11.28125 51.796875 \r\nQ 16.75 56 26.8125 56 \r\nQ 31.78125 56 36.171875 55.265625 \r\nQ 40.578125 54.546875 44.28125 53.078125 \r\nz\r\n\" id=\"DejaVuSans-115\"/>\r\n      <path d=\"M 52 44.1875 \r\nQ 55.375 50.25 60.0625 53.125 \r\nQ 64.75 56 71.09375 56 \r\nQ 79.640625 56 84.28125 50.015625 \r\nQ 88.921875 44.046875 88.921875 33.015625 \r\nL 88.921875 0 \r\nL 79.890625 0 \r\nL 79.890625 32.71875 \r\nQ 79.890625 40.578125 77.09375 44.375 \r\nQ 74.3125 48.1875 68.609375 48.1875 \r\nQ 61.625 48.1875 57.5625 43.546875 \r\nQ 53.515625 38.921875 53.515625 30.90625 \r\nL 53.515625 0 \r\nL 44.484375 0 \r\nL 44.484375 32.71875 \r\nQ 44.484375 40.625 41.703125 44.40625 \r\nQ 38.921875 48.1875 33.109375 48.1875 \r\nQ 26.21875 48.1875 22.15625 43.53125 \r\nQ 18.109375 38.875 18.109375 30.90625 \r\nL 18.109375 0 \r\nL 9.078125 0 \r\nL 9.078125 54.6875 \r\nL 18.109375 54.6875 \r\nL 18.109375 46.1875 \r\nQ 21.1875 51.21875 25.484375 53.609375 \r\nQ 29.78125 56 35.6875 56 \r\nQ 41.65625 56 45.828125 52.96875 \r\nQ 50 49.953125 52 44.1875 \r\nz\r\n\" id=\"DejaVuSans-109\"/>\r\n      <path d=\"M 9.8125 72.90625 \r\nL 51.703125 72.90625 \r\nL 51.703125 64.59375 \r\nL 19.671875 64.59375 \r\nL 19.671875 43.109375 \r\nL 48.578125 43.109375 \r\nL 48.578125 34.8125 \r\nL 19.671875 34.8125 \r\nL 19.671875 0 \r\nL 9.8125 0 \r\nz\r\n\" id=\"DejaVuSans-70\"/>\r\n      <path d=\"M 64.40625 67.28125 \r\nL 64.40625 56.890625 \r\nQ 59.421875 61.53125 53.78125 63.8125 \r\nQ 48.140625 66.109375 41.796875 66.109375 \r\nQ 29.296875 66.109375 22.65625 58.46875 \r\nQ 16.015625 50.828125 16.015625 36.375 \r\nQ 16.015625 21.96875 22.65625 14.328125 \r\nQ 29.296875 6.6875 41.796875 6.6875 \r\nQ 48.140625 6.6875 53.78125 8.984375 \r\nQ 59.421875 11.28125 64.40625 15.921875 \r\nL 64.40625 5.609375 \r\nQ 59.234375 2.09375 53.4375 0.328125 \r\nQ 47.65625 -1.421875 41.21875 -1.421875 \r\nQ 24.65625 -1.421875 15.125 8.703125 \r\nQ 5.609375 18.84375 5.609375 36.375 \r\nQ 5.609375 53.953125 15.125 64.078125 \r\nQ 24.65625 74.21875 41.21875 74.21875 \r\nQ 47.75 74.21875 53.53125 72.484375 \r\nQ 59.328125 70.75 64.40625 67.28125 \r\nz\r\n\" id=\"DejaVuSans-67\"/>\r\n     </defs>\r\n     <use xlink:href=\"#DejaVuSans-84\"/>\r\n     <use x=\"46.333984\" xlink:href=\"#DejaVuSans-114\"/>\r\n     <use x=\"87.447266\" xlink:href=\"#DejaVuSans-97\"/>\r\n     <use x=\"148.726562\" xlink:href=\"#DejaVuSans-105\"/>\r\n     <use x=\"176.509766\" xlink:href=\"#DejaVuSans-110\"/>\r\n     <use x=\"239.888672\" xlink:href=\"#DejaVuSans-32\"/>\r\n     <use x=\"271.675781\" xlink:href=\"#DejaVuSans-100\"/>\r\n     <use x=\"335.152344\" xlink:href=\"#DejaVuSans-97\"/>\r\n     <use x=\"396.431641\" xlink:href=\"#DejaVuSans-116\"/>\r\n     <use x=\"435.640625\" xlink:href=\"#DejaVuSans-97\"/>\r\n     <use x=\"496.919922\" xlink:href=\"#DejaVuSans-115\"/>\r\n     <use x=\"549.019531\" xlink:href=\"#DejaVuSans-101\"/>\r\n     <use x=\"610.542969\" xlink:href=\"#DejaVuSans-116\"/>\r\n     <use x=\"649.751953\" xlink:href=\"#DejaVuSans-32\"/>\r\n     <use x=\"681.539062\" xlink:href=\"#DejaVuSans-82\"/>\r\n     <use x=\"748.771484\" xlink:href=\"#DejaVuSans-97\"/>\r\n     <use x=\"810.050781\" xlink:href=\"#DejaVuSans-110\"/>\r\n     <use x=\"873.429688\" xlink:href=\"#DejaVuSans-100\"/>\r\n     <use x=\"936.90625\" xlink:href=\"#DejaVuSans-111\"/>\r\n     <use x=\"998.087891\" xlink:href=\"#DejaVuSans-109\"/>\r\n     <use x=\"1095.5\" xlink:href=\"#DejaVuSans-32\"/>\r\n     <use x=\"1127.287109\" xlink:href=\"#DejaVuSans-70\"/>\r\n     <use x=\"1181.181641\" xlink:href=\"#DejaVuSans-111\"/>\r\n     <use x=\"1242.363281\" xlink:href=\"#DejaVuSans-114\"/>\r\n     <use x=\"1281.226562\" xlink:href=\"#DejaVuSans-101\"/>\r\n     <use x=\"1342.75\" xlink:href=\"#DejaVuSans-115\"/>\r\n     <use x=\"1394.849609\" xlink:href=\"#DejaVuSans-116\"/>\r\n     <use x=\"1434.058594\" xlink:href=\"#DejaVuSans-32\"/>\r\n     <use x=\"1465.845703\" xlink:href=\"#DejaVuSans-67\"/>\r\n     <use x=\"1535.669922\" xlink:href=\"#DejaVuSans-108\"/>\r\n     <use x=\"1563.453125\" xlink:href=\"#DejaVuSans-97\"/>\r\n     <use x=\"1624.732422\" xlink:href=\"#DejaVuSans-115\"/>\r\n     <use x=\"1676.832031\" xlink:href=\"#DejaVuSans-115\"/>\r\n     <use x=\"1728.931641\" xlink:href=\"#DejaVuSans-105\"/>\r\n     <use x=\"1756.714844\" xlink:href=\"#DejaVuSans-102\"/>\r\n     <use x=\"1791.919922\" xlink:href=\"#DejaVuSans-105\"/>\r\n     <use x=\"1819.703125\" xlink:href=\"#DejaVuSans-101\"/>\r\n     <use x=\"1881.226562\" xlink:href=\"#DejaVuSans-114\"/>\r\n    </g>\r\n   </g>\r\n  </g>\r\n  <g id=\"axes_2\">\r\n   <g id=\"patch_7\">\r\n    <path clip-path=\"url(#p3a7f19ad11)\" d=\"M 347.4925 239.758125 \r\nL 347.4925 238.90875 \r\nL 347.4925 23.1675 \r\nL 347.4925 22.318125 \r\nL 358.3645 22.318125 \r\nL 358.3645 23.1675 \r\nL 358.3645 238.90875 \r\nL 358.3645 239.758125 \r\nz\r\n\" style=\"fill:#ffffff;stroke:#ffffff;stroke-linejoin:miter;stroke-width:0.01;\"/>\r\n   </g>\r\n   <image height=\"217\" id=\"image4fa04bba71\" transform=\"scale(1 -1)translate(0 -217)\" width=\"11\" x=\"347\" xlink:href=\"data:image/png;base64,\r\niVBORw0KGgoAAAANSUhEUgAAAAsAAADZCAYAAAD2WsoCAAABHElEQVR4nO2YMQ4CMRADA8r/n0uByIYWukwxyIvuamvl2F4nutvjufc4/OYex9gxz+diMKEBsGMCLORcAH0HLEzpQhyEkwEYZgNwLk26kSEdzAbh7NHQeoPZ3bC+OvZGinRX+H9CI0Q67VWQckBkNzygdsNqDi50wAzOlZHnOh/stqjFuUBGGWezN8Dk5VWBlzrtcYKqQGxR7e5eJM9eP3sOIp0X6ALTwXOsScPLBrQ7osw9ndk9KLaot7AR0nn93DEbaLs9nc2/EKj5I3YwJBvslctoRKgBD2jRCJls2g1oeEHy7O4YpJDtZn8CxWycvxlTODNwht0h2fh/u69sfICh3YhGw8n1sia3VGNF0ECTycJedn+BO9ptTX4DblXiEVeBW/gAAAAASUVORK5CYII=\" y=\"-22\"/>\r\n   <g id=\"matplotlib.axis_3\"/>\r\n   <g id=\"matplotlib.axis_4\">\r\n    <g id=\"ytick_5\">\r\n     <g id=\"line2d_9\">\r\n      <defs>\r\n       <path d=\"M 0 0 \r\nL 3.5 0 \r\n\" id=\"md1ae766493\" style=\"stroke:#000000;stroke-width:0.8;\"/>\r\n      </defs>\r\n      <g>\r\n       <use style=\"stroke:#000000;stroke-width:0.8;\" x=\"358.3645\" xlink:href=\"#md1ae766493\" y=\"239.758125\"/>\r\n      </g>\r\n     </g>\r\n     <g id=\"text_28\">\r\n      <!-- 0 -->\r\n      <g transform=\"translate(365.3645 243.557344)scale(0.1 -0.1)\">\r\n       <use xlink:href=\"#DejaVuSans-48\"/>\r\n      </g>\r\n     </g>\r\n    </g>\r\n    <g id=\"ytick_6\">\r\n     <g id=\"line2d_10\">\r\n      <g>\r\n       <use style=\"stroke:#000000;stroke-width:0.8;\" x=\"358.3645\" xlink:href=\"#md1ae766493\" y=\"209.132773\"/>\r\n      </g>\r\n     </g>\r\n     <g id=\"text_29\">\r\n      <!-- 10 -->\r\n      <g transform=\"translate(365.3645 212.931992)scale(0.1 -0.1)\">\r\n       <use xlink:href=\"#DejaVuSans-49\"/>\r\n       <use x=\"63.623047\" xlink:href=\"#DejaVuSans-48\"/>\r\n      </g>\r\n     </g>\r\n    </g>\r\n    <g id=\"ytick_7\">\r\n     <g id=\"line2d_11\">\r\n      <g>\r\n       <use style=\"stroke:#000000;stroke-width:0.8;\" x=\"358.3645\" xlink:href=\"#md1ae766493\" y=\"178.507421\"/>\r\n      </g>\r\n     </g>\r\n     <g id=\"text_30\">\r\n      <!-- 20 -->\r\n      <g transform=\"translate(365.3645 182.30664)scale(0.1 -0.1)\">\r\n       <defs>\r\n        <path d=\"M 19.1875 8.296875 \r\nL 53.609375 8.296875 \r\nL 53.609375 0 \r\nL 7.328125 0 \r\nL 7.328125 8.296875 \r\nQ 12.9375 14.109375 22.625 23.890625 \r\nQ 32.328125 33.6875 34.8125 36.53125 \r\nQ 39.546875 41.84375 41.421875 45.53125 \r\nQ 43.3125 49.21875 43.3125 52.78125 \r\nQ 43.3125 58.59375 39.234375 62.25 \r\nQ 35.15625 65.921875 28.609375 65.921875 \r\nQ 23.96875 65.921875 18.8125 64.3125 \r\nQ 13.671875 62.703125 7.8125 59.421875 \r\nL 7.8125 69.390625 \r\nQ 13.765625 71.78125 18.9375 73 \r\nQ 24.125 74.21875 28.421875 74.21875 \r\nQ 39.75 74.21875 46.484375 68.546875 \r\nQ 53.21875 62.890625 53.21875 53.421875 \r\nQ 53.21875 48.921875 51.53125 44.890625 \r\nQ 49.859375 40.875 45.40625 35.40625 \r\nQ 44.1875 33.984375 37.640625 27.21875 \r\nQ 31.109375 20.453125 19.1875 8.296875 \r\nz\r\n\" id=\"DejaVuSans-50\"/>\r\n       </defs>\r\n       <use xlink:href=\"#DejaVuSans-50\"/>\r\n       <use x=\"63.623047\" xlink:href=\"#DejaVuSans-48\"/>\r\n      </g>\r\n     </g>\r\n    </g>\r\n    <g id=\"ytick_8\">\r\n     <g id=\"line2d_12\">\r\n      <g>\r\n       <use style=\"stroke:#000000;stroke-width:0.8;\" x=\"358.3645\" xlink:href=\"#md1ae766493\" y=\"147.882069\"/>\r\n      </g>\r\n     </g>\r\n     <g id=\"text_31\">\r\n      <!-- 30 -->\r\n      <g transform=\"translate(365.3645 151.681287)scale(0.1 -0.1)\">\r\n       <use xlink:href=\"#DejaVuSans-51\"/>\r\n       <use x=\"63.623047\" xlink:href=\"#DejaVuSans-48\"/>\r\n      </g>\r\n     </g>\r\n    </g>\r\n    <g id=\"ytick_9\">\r\n     <g id=\"line2d_13\">\r\n      <g>\r\n       <use style=\"stroke:#000000;stroke-width:0.8;\" x=\"358.3645\" xlink:href=\"#md1ae766493\" y=\"117.256717\"/>\r\n      </g>\r\n     </g>\r\n     <g id=\"text_32\">\r\n      <!-- 40 -->\r\n      <g transform=\"translate(365.3645 121.055935)scale(0.1 -0.1)\">\r\n       <use xlink:href=\"#DejaVuSans-52\"/>\r\n       <use x=\"63.623047\" xlink:href=\"#DejaVuSans-48\"/>\r\n      </g>\r\n     </g>\r\n    </g>\r\n    <g id=\"ytick_10\">\r\n     <g id=\"line2d_14\">\r\n      <g>\r\n       <use style=\"stroke:#000000;stroke-width:0.8;\" x=\"358.3645\" xlink:href=\"#md1ae766493\" y=\"86.631364\"/>\r\n      </g>\r\n     </g>\r\n     <g id=\"text_33\">\r\n      <!-- 50 -->\r\n      <g transform=\"translate(365.3645 90.430583)scale(0.1 -0.1)\">\r\n       <use xlink:href=\"#DejaVuSans-53\"/>\r\n       <use x=\"63.623047\" xlink:href=\"#DejaVuSans-48\"/>\r\n      </g>\r\n     </g>\r\n    </g>\r\n    <g id=\"ytick_11\">\r\n     <g id=\"line2d_15\">\r\n      <g>\r\n       <use style=\"stroke:#000000;stroke-width:0.8;\" x=\"358.3645\" xlink:href=\"#md1ae766493\" y=\"56.006012\"/>\r\n      </g>\r\n     </g>\r\n     <g id=\"text_34\">\r\n      <!-- 60 -->\r\n      <g transform=\"translate(365.3645 59.805231)scale(0.1 -0.1)\">\r\n       <use xlink:href=\"#DejaVuSans-54\"/>\r\n       <use x=\"63.623047\" xlink:href=\"#DejaVuSans-48\"/>\r\n      </g>\r\n     </g>\r\n    </g>\r\n    <g id=\"ytick_12\">\r\n     <g id=\"line2d_16\">\r\n      <g>\r\n       <use style=\"stroke:#000000;stroke-width:0.8;\" x=\"358.3645\" xlink:href=\"#md1ae766493\" y=\"25.38066\"/>\r\n      </g>\r\n     </g>\r\n     <g id=\"text_35\">\r\n      <!-- 70 -->\r\n      <g transform=\"translate(365.3645 29.179879)scale(0.1 -0.1)\">\r\n       <use xlink:href=\"#DejaVuSans-55\"/>\r\n       <use x=\"63.623047\" xlink:href=\"#DejaVuSans-48\"/>\r\n      </g>\r\n     </g>\r\n    </g>\r\n   </g>\r\n   <g id=\"patch_8\">\r\n    <path d=\"M 347.4925 239.758125 \r\nL 347.4925 238.90875 \r\nL 347.4925 23.1675 \r\nL 347.4925 22.318125 \r\nL 358.3645 22.318125 \r\nL 358.3645 23.1675 \r\nL 358.3645 238.90875 \r\nL 358.3645 239.758125 \r\nz\r\n\" style=\"fill:none;stroke:#000000;stroke-linejoin:miter;stroke-width:0.8;\"/>\r\n   </g>\r\n  </g>\r\n </g>\r\n <defs>\r\n  <clipPath id=\"pef115123df\">\r\n   <rect height=\"217.44\" width=\"217.44\" x=\"113.3125\" y=\"22.318125\"/>\r\n  </clipPath>\r\n  <clipPath id=\"p3a7f19ad11\">\r\n   <rect height=\"217.44\" width=\"10.872\" x=\"347.4925\" y=\"22.318125\"/>\r\n  </clipPath>\r\n </defs>\r\n</svg>\r\n",
      "image/png": "[encoded data removed]"
     },
     "metadata": {
      "needs_background": "light"
     }
    },
    {
     "output_type": "display_data",
     "data": {
      "text/plain": "<Figure size 432x288 with 2 Axes>",
      "image/svg+xml": "<?xml version=\"1.0\" encoding=\"utf-8\" standalone=\"no\"?>\r\n<!DOCTYPE svg PUBLIC \"-//W3C//DTD SVG 1.1//EN\"\r\n  \"http://www.w3.org/Graphics/SVG/1.1/DTD/svg11.dtd\">\r\n<!-- Created with matplotlib (https://matplotlib.org/) -->\r\n<svg height=\"277.314375pt\" version=\"1.1\" viewBox=\"0 0 385.2895 277.314375\" width=\"385.2895pt\" xmlns=\"http://www.w3.org/2000/svg\" xmlns:xlink=\"http://www.w3.org/1999/xlink\">\r\n <metadata>\r\n  <rdf:RDF xmlns:cc=\"http://creativecommons.org/ns#\" xmlns:dc=\"http://purl.org/dc/elements/1.1/\" xmlns:rdf=\"http://www.w3.org/1999/02/22-rdf-syntax-ns#\">\r\n   <cc:Work>\r\n    <dc:type rdf:resource=\"http://purl.org/dc/dcmitype/StillImage\"/>\r\n    <dc:date>2020-12-18T12:42:52.995452</dc:date>\r\n    <dc:format>image/svg+xml</dc:format>\r\n    <dc:creator>\r\n     <cc:Agent>\r\n      <dc:title>Matplotlib v3.3.2, https://matplotlib.org/</dc:title>\r\n     </cc:Agent>\r\n    </dc:creator>\r\n   </cc:Work>\r\n  </rdf:RDF>\r\n </metadata>\r\n <defs>\r\n  <style type=\"text/css\">*{stroke-linecap:butt;stroke-linejoin:round;}</style>\r\n </defs>\r\n <g id=\"figure_1\">\r\n  <g id=\"patch_1\">\r\n   <path d=\"M 0 277.314375 \r\nL 385.2895 277.314375 \r\nL 385.2895 0 \r\nL 0 0 \r\nz\r\n\" style=\"fill:none;\"/>\r\n  </g>\r\n  <g id=\"axes_1\">\r\n   <g id=\"patch_2\">\r\n    <path d=\"M 113.3125 239.758125 \r\nL 330.7525 239.758125 \r\nL 330.7525 22.318125 \r\nL 113.3125 22.318125 \r\nz\r\n\" style=\"fill:#ffffff;\"/>\r\n   </g>\r\n   <g clip-path=\"url(#pd60324b605)\">\r\n    <image height=\"218\" id=\"image390b80a7e5\" transform=\"scale(1 -1)translate(0 -218)\" width=\"218\" x=\"113.3125\" xlink:href=\"data:image/png;base64,\r\niVBORw0KGgoAAAANSUhEUgAAANoAAADaCAYAAADAHVzbAAAC20lEQVR4nO3VoU2DUQCFUUqamqquwA4opsAxA2EVXBMso+AQZQUs9sdUUFNcN3jfC+GcCa75cldf3z/nK/6U3XYze8IQD68fsycMcz17APwHQoOA0CAgNAgIDQJCg4DQICA0CAgNAkKDgNAgIDQICA0CQoOA0CAgNAgIDQJCg4DQICA0CAgNAkKDgNAgIDQICA0CQoOA0CAgNAgIDQJCg4DQICA0CAgNAkKDgNAgIDQICA0CQoOA0CAgNAgIDQJCg4DQICA0CAgNAkKDgNAgIDQICA0CQoOA0CAgNAgIDQJCg8B6t93M3jDEcjzNnjDM7vZp9oQhlsN+9oRhPBoEhAYBoUFAaBAQGgSEBgGhQUBoEBAaBIQGAaFBQGgQEBoEhAYBoUFAaBAQGgSEBgGhQUBoEBAaBIQGAaFBQGgQEBoEhAYBoUFAaBAQGgSEBgGhQUBoEBAaBIQGAaFBQGgQEBoEhAYBoUFAaBAQGgSEBgGhQUBoEBAaBIQGAaFBQGgQEBoEhAYBoUFAaBAQGgTWsweMcv/yPnvCMMthP3vCEMvxNHvCMB4NAkKDgNAgIDQICA0CQoOA0CAgNAgIDQJCg4DQICA0CAgNAkKDgNAgIDQICA0CQoOA0CAgNAgIDQJCg4DQICA0CAgNAkKDgNAgIDQICA0CQoOA0CAgNAgIDQJCg4DQICA0CAgNAkKDgNAgIDQICA0CQoOA0CAgNAgIDQJCg4DQICA0CAgNAkKDgNAgIDQICA0CQoPA6vnt8zx7xAiPdzezJ8CFR4OA0CAgNAgIDQJCg4DQICA0CAgNAkKDgNAgIDQICA0CQoOA0CAgNAgIDQJCg4DQICA0CAgNAkKDgNAgIDQICA0CQoOA0CAgNAgIDQJCg4DQICA0CAgNAkKDgNAgIDQICA0CQoOA0CAgNAgIDQJCg4DQICA0CAgNAkKDgNAgIDQICA0CQoOA0CAgNAgIDQJCg8AvpsIYNkk2XO8AAAAASUVORK5CYII=\" y=\"-21.758125\"/>\r\n   </g>\r\n   <g id=\"matplotlib.axis_1\">\r\n    <g id=\"xtick_1\">\r\n     <g id=\"line2d_1\">\r\n      <defs>\r\n       <path d=\"M 0 0 \r\nL 0 3.5 \r\n\" id=\"m4df7f8762c\" style=\"stroke:#000000;stroke-width:0.8;\"/>\r\n      </defs>\r\n      <g>\r\n       <use style=\"stroke:#000000;stroke-width:0.8;\" x=\"140.4925\" xlink:href=\"#m4df7f8762c\" y=\"239.758125\"/>\r\n      </g>\r\n     </g>\r\n     <g id=\"text_1\">\r\n      <!-- Analytical Report -->\r\n      <g transform=\"translate(97.775313 254.356562)scale(0.1 -0.1)\">\r\n       <defs>\r\n        <path d=\"M 34.1875 63.1875 \r\nL 20.796875 26.90625 \r\nL 47.609375 26.90625 \r\nz\r\nM 28.609375 72.90625 \r\nL 39.796875 72.90625 \r\nL 67.578125 0 \r\nL 57.328125 0 \r\nL 50.6875 18.703125 \r\nL 17.828125 18.703125 \r\nL 11.1875 0 \r\nL 0.78125 0 \r\nz\r\n\" id=\"DejaVuSans-65\"/>\r\n        <path d=\"M 54.890625 33.015625 \r\nL 54.890625 0 \r\nL 45.90625 0 \r\nL 45.90625 32.71875 \r\nQ 45.90625 40.484375 42.875 44.328125 \r\nQ 39.84375 48.1875 33.796875 48.1875 \r\nQ 26.515625 48.1875 22.3125 43.546875 \r\nQ 18.109375 38.921875 18.109375 30.90625 \r\nL 18.109375 0 \r\nL 9.078125 0 \r\nL 9.078125 54.6875 \r\nL 18.109375 54.6875 \r\nL 18.109375 46.1875 \r\nQ 21.34375 51.125 25.703125 53.5625 \r\nQ 30.078125 56 35.796875 56 \r\nQ 45.21875 56 50.046875 50.171875 \r\nQ 54.890625 44.34375 54.890625 33.015625 \r\nz\r\n\" id=\"DejaVuSans-110\"/>\r\n        <path d=\"M 34.28125 27.484375 \r\nQ 23.390625 27.484375 19.1875 25 \r\nQ 14.984375 22.515625 14.984375 16.5 \r\nQ 14.984375 11.71875 18.140625 8.90625 \r\nQ 21.296875 6.109375 26.703125 6.109375 \r\nQ 34.1875 6.109375 38.703125 11.40625 \r\nQ 43.21875 16.703125 43.21875 25.484375 \r\nL 43.21875 27.484375 \r\nz\r\nM 52.203125 31.203125 \r\nL 52.203125 0 \r\nL 43.21875 0 \r\nL 43.21875 8.296875 \r\nQ 40.140625 3.328125 35.546875 0.953125 \r\nQ 30.953125 -1.421875 24.3125 -1.421875 \r\nQ 15.921875 -1.421875 10.953125 3.296875 \r\nQ 6 8.015625 6 15.921875 \r\nQ 6 25.140625 12.171875 29.828125 \r\nQ 18.359375 34.515625 30.609375 34.515625 \r\nL 43.21875 34.515625 \r\nL 43.21875 35.40625 \r\nQ 43.21875 41.609375 39.140625 45 \r\nQ 35.0625 48.390625 27.6875 48.390625 \r\nQ 23 48.390625 18.546875 47.265625 \r\nQ 14.109375 46.140625 10.015625 43.890625 \r\nL 10.015625 52.203125 \r\nQ 14.9375 54.109375 19.578125 55.046875 \r\nQ 24.21875 56 28.609375 56 \r\nQ 40.484375 56 46.34375 49.84375 \r\nQ 52.203125 43.703125 52.203125 31.203125 \r\nz\r\n\" id=\"DejaVuSans-97\"/>\r\n        <path d=\"M 9.421875 75.984375 \r\nL 18.40625 75.984375 \r\nL 18.40625 0 \r\nL 9.421875 0 \r\nz\r\n\" id=\"DejaVuSans-108\"/>\r\n        <path d=\"M 32.171875 -5.078125 \r\nQ 28.375 -14.84375 24.75 -17.8125 \r\nQ 21.140625 -20.796875 15.09375 -20.796875 \r\nL 7.90625 -20.796875 \r\nL 7.90625 -13.28125 \r\nL 13.1875 -13.28125 \r\nQ 16.890625 -13.28125 18.9375 -11.515625 \r\nQ 21 -9.765625 23.484375 -3.21875 \r\nL 25.09375 0.875 \r\nL 2.984375 54.6875 \r\nL 12.5 54.6875 \r\nL 29.59375 11.921875 \r\nL 46.6875 54.6875 \r\nL 56.203125 54.6875 \r\nz\r\n\" id=\"DejaVuSans-121\"/>\r\n        <path d=\"M 18.3125 70.21875 \r\nL 18.3125 54.6875 \r\nL 36.8125 54.6875 \r\nL 36.8125 47.703125 \r\nL 18.3125 47.703125 \r\nL 18.3125 18.015625 \r\nQ 18.3125 11.328125 20.140625 9.421875 \r\nQ 21.96875 7.515625 27.59375 7.515625 \r\nL 36.8125 7.515625 \r\nL 36.8125 0 \r\nL 27.59375 0 \r\nQ 17.1875 0 13.234375 3.875 \r\nQ 9.28125 7.765625 9.28125 18.015625 \r\nL 9.28125 47.703125 \r\nL 2.6875 47.703125 \r\nL 2.6875 54.6875 \r\nL 9.28125 54.6875 \r\nL 9.28125 70.21875 \r\nz\r\n\" id=\"DejaVuSans-116\"/>\r\n        <path d=\"M 9.421875 54.6875 \r\nL 18.40625 54.6875 \r\nL 18.40625 0 \r\nL 9.421875 0 \r\nz\r\nM 9.421875 75.984375 \r\nL 18.40625 75.984375 \r\nL 18.40625 64.59375 \r\nL 9.421875 64.59375 \r\nz\r\n\" id=\"DejaVuSans-105\"/>\r\n        <path d=\"M 48.78125 52.59375 \r\nL 48.78125 44.1875 \r\nQ 44.96875 46.296875 41.140625 47.34375 \r\nQ 37.3125 48.390625 33.40625 48.390625 \r\nQ 24.65625 48.390625 19.8125 42.84375 \r\nQ 14.984375 37.3125 14.984375 27.296875 \r\nQ 14.984375 17.28125 19.8125 11.734375 \r\nQ 24.65625 6.203125 33.40625 6.203125 \r\nQ 37.3125 6.203125 41.140625 7.25 \r\nQ 44.96875 8.296875 48.78125 10.40625 \r\nL 48.78125 2.09375 \r\nQ 45.015625 0.34375 40.984375 -0.53125 \r\nQ 36.96875 -1.421875 32.421875 -1.421875 \r\nQ 20.0625 -1.421875 12.78125 6.34375 \r\nQ 5.515625 14.109375 5.515625 27.296875 \r\nQ 5.515625 40.671875 12.859375 48.328125 \r\nQ 20.21875 56 33.015625 56 \r\nQ 37.15625 56 41.109375 55.140625 \r\nQ 45.0625 54.296875 48.78125 52.59375 \r\nz\r\n\" id=\"DejaVuSans-99\"/>\r\n        <path id=\"DejaVuSans-32\"/>\r\n        <path d=\"M 44.390625 34.1875 \r\nQ 47.5625 33.109375 50.5625 29.59375 \r\nQ 53.5625 26.078125 56.59375 19.921875 \r\nL 66.609375 0 \r\nL 56 0 \r\nL 46.6875 18.703125 \r\nQ 43.0625 26.03125 39.671875 28.421875 \r\nQ 36.28125 30.8125 30.421875 30.8125 \r\nL 19.671875 30.8125 \r\nL 19.671875 0 \r\nL 9.8125 0 \r\nL 9.8125 72.90625 \r\nL 32.078125 72.90625 \r\nQ 44.578125 72.90625 50.734375 67.671875 \r\nQ 56.890625 62.453125 56.890625 51.90625 \r\nQ 56.890625 45.015625 53.6875 40.46875 \r\nQ 50.484375 35.9375 44.390625 34.1875 \r\nz\r\nM 19.671875 64.796875 \r\nL 19.671875 38.921875 \r\nL 32.078125 38.921875 \r\nQ 39.203125 38.921875 42.84375 42.21875 \r\nQ 46.484375 45.515625 46.484375 51.90625 \r\nQ 46.484375 58.296875 42.84375 61.546875 \r\nQ 39.203125 64.796875 32.078125 64.796875 \r\nz\r\n\" id=\"DejaVuSans-82\"/>\r\n        <path d=\"M 56.203125 29.59375 \r\nL 56.203125 25.203125 \r\nL 14.890625 25.203125 \r\nQ 15.484375 15.921875 20.484375 11.0625 \r\nQ 25.484375 6.203125 34.421875 6.203125 \r\nQ 39.59375 6.203125 44.453125 7.46875 \r\nQ 49.3125 8.734375 54.109375 11.28125 \r\nL 54.109375 2.78125 \r\nQ 49.265625 0.734375 44.1875 -0.34375 \r\nQ 39.109375 -1.421875 33.890625 -1.421875 \r\nQ 20.796875 -1.421875 13.15625 6.1875 \r\nQ 5.515625 13.8125 5.515625 26.8125 \r\nQ 5.515625 40.234375 12.765625 48.109375 \r\nQ 20.015625 56 32.328125 56 \r\nQ 43.359375 56 49.78125 48.890625 \r\nQ 56.203125 41.796875 56.203125 29.59375 \r\nz\r\nM 47.21875 32.234375 \r\nQ 47.125 39.59375 43.09375 43.984375 \r\nQ 39.0625 48.390625 32.421875 48.390625 \r\nQ 24.90625 48.390625 20.390625 44.140625 \r\nQ 15.875 39.890625 15.1875 32.171875 \r\nz\r\n\" id=\"DejaVuSans-101\"/>\r\n        <path d=\"M 18.109375 8.203125 \r\nL 18.109375 -20.796875 \r\nL 9.078125 -20.796875 \r\nL 9.078125 54.6875 \r\nL 18.109375 54.6875 \r\nL 18.109375 46.390625 \r\nQ 20.953125 51.265625 25.265625 53.625 \r\nQ 29.59375 56 35.59375 56 \r\nQ 45.5625 56 51.78125 48.09375 \r\nQ 58.015625 40.1875 58.015625 27.296875 \r\nQ 58.015625 14.40625 51.78125 6.484375 \r\nQ 45.5625 -1.421875 35.59375 -1.421875 \r\nQ 29.59375 -1.421875 25.265625 0.953125 \r\nQ 20.953125 3.328125 18.109375 8.203125 \r\nz\r\nM 48.6875 27.296875 \r\nQ 48.6875 37.203125 44.609375 42.84375 \r\nQ 40.53125 48.484375 33.40625 48.484375 \r\nQ 26.265625 48.484375 22.1875 42.84375 \r\nQ 18.109375 37.203125 18.109375 27.296875 \r\nQ 18.109375 17.390625 22.1875 11.75 \r\nQ 26.265625 6.109375 33.40625 6.109375 \r\nQ 40.53125 6.109375 44.609375 11.75 \r\nQ 48.6875 17.390625 48.6875 27.296875 \r\nz\r\n\" id=\"DejaVuSans-112\"/>\r\n        <path d=\"M 30.609375 48.390625 \r\nQ 23.390625 48.390625 19.1875 42.75 \r\nQ 14.984375 37.109375 14.984375 27.296875 \r\nQ 14.984375 17.484375 19.15625 11.84375 \r\nQ 23.34375 6.203125 30.609375 6.203125 \r\nQ 37.796875 6.203125 41.984375 11.859375 \r\nQ 46.1875 17.53125 46.1875 27.296875 \r\nQ 46.1875 37.015625 41.984375 42.703125 \r\nQ 37.796875 48.390625 30.609375 48.390625 \r\nz\r\nM 30.609375 56 \r\nQ 42.328125 56 49.015625 48.375 \r\nQ 55.71875 40.765625 55.71875 27.296875 \r\nQ 55.71875 13.875 49.015625 6.21875 \r\nQ 42.328125 -1.421875 30.609375 -1.421875 \r\nQ 18.84375 -1.421875 12.171875 6.21875 \r\nQ 5.515625 13.875 5.515625 27.296875 \r\nQ 5.515625 40.765625 12.171875 48.375 \r\nQ 18.84375 56 30.609375 56 \r\nz\r\n\" id=\"DejaVuSans-111\"/>\r\n        <path d=\"M 41.109375 46.296875 \r\nQ 39.59375 47.171875 37.8125 47.578125 \r\nQ 36.03125 48 33.890625 48 \r\nQ 26.265625 48 22.1875 43.046875 \r\nQ 18.109375 38.09375 18.109375 28.8125 \r\nL 18.109375 0 \r\nL 9.078125 0 \r\nL 9.078125 54.6875 \r\nL 18.109375 54.6875 \r\nL 18.109375 46.1875 \r\nQ 20.953125 51.171875 25.484375 53.578125 \r\nQ 30.03125 56 36.53125 56 \r\nQ 37.453125 56 38.578125 55.875 \r\nQ 39.703125 55.765625 41.0625 55.515625 \r\nz\r\n\" id=\"DejaVuSans-114\"/>\r\n       </defs>\r\n       <use xlink:href=\"#DejaVuSans-65\"/>\r\n       <use x=\"68.408203\" xlink:href=\"#DejaVuSans-110\"/>\r\n       <use x=\"131.787109\" xlink:href=\"#DejaVuSans-97\"/>\r\n       <use x=\"193.066406\" xlink:href=\"#DejaVuSans-108\"/>\r\n       <use x=\"220.849609\" xlink:href=\"#DejaVuSans-121\"/>\r\n       <use x=\"280.029297\" xlink:href=\"#DejaVuSans-116\"/>\r\n       <use x=\"319.238281\" xlink:href=\"#DejaVuSans-105\"/>\r\n       <use x=\"347.021484\" xlink:href=\"#DejaVuSans-99\"/>\r\n       <use x=\"402.001953\" xlink:href=\"#DejaVuSans-97\"/>\r\n       <use x=\"463.28125\" xlink:href=\"#DejaVuSans-108\"/>\r\n       <use x=\"491.064453\" xlink:href=\"#DejaVuSans-32\"/>\r\n       <use x=\"522.851562\" xlink:href=\"#DejaVuSans-82\"/>\r\n       <use x=\"587.833984\" xlink:href=\"#DejaVuSans-101\"/>\r\n       <use x=\"649.357422\" xlink:href=\"#DejaVuSans-112\"/>\r\n       <use x=\"712.833984\" xlink:href=\"#DejaVuSans-111\"/>\r\n       <use x=\"774.015625\" xlink:href=\"#DejaVuSans-114\"/>\r\n       <use x=\"815.128906\" xlink:href=\"#DejaVuSans-116\"/>\r\n      </g>\r\n     </g>\r\n    </g>\r\n    <g id=\"xtick_2\">\r\n     <g id=\"line2d_2\">\r\n      <g>\r\n       <use style=\"stroke:#000000;stroke-width:0.8;\" x=\"194.8525\" xlink:href=\"#m4df7f8762c\" y=\"239.758125\"/>\r\n      </g>\r\n     </g>\r\n     <g id=\"text_2\">\r\n      <!-- Incident Report -->\r\n      <g transform=\"translate(156.526719 254.356562)scale(0.1 -0.1)\">\r\n       <defs>\r\n        <path d=\"M 9.8125 72.90625 \r\nL 19.671875 72.90625 \r\nL 19.671875 0 \r\nL 9.8125 0 \r\nz\r\n\" id=\"DejaVuSans-73\"/>\r\n        <path d=\"M 45.40625 46.390625 \r\nL 45.40625 75.984375 \r\nL 54.390625 75.984375 \r\nL 54.390625 0 \r\nL 45.40625 0 \r\nL 45.40625 8.203125 \r\nQ 42.578125 3.328125 38.25 0.953125 \r\nQ 33.9375 -1.421875 27.875 -1.421875 \r\nQ 17.96875 -1.421875 11.734375 6.484375 \r\nQ 5.515625 14.40625 5.515625 27.296875 \r\nQ 5.515625 40.1875 11.734375 48.09375 \r\nQ 17.96875 56 27.875 56 \r\nQ 33.9375 56 38.25 53.625 \r\nQ 42.578125 51.265625 45.40625 46.390625 \r\nz\r\nM 14.796875 27.296875 \r\nQ 14.796875 17.390625 18.875 11.75 \r\nQ 22.953125 6.109375 30.078125 6.109375 \r\nQ 37.203125 6.109375 41.296875 11.75 \r\nQ 45.40625 17.390625 45.40625 27.296875 \r\nQ 45.40625 37.203125 41.296875 42.84375 \r\nQ 37.203125 48.484375 30.078125 48.484375 \r\nQ 22.953125 48.484375 18.875 42.84375 \r\nQ 14.796875 37.203125 14.796875 27.296875 \r\nz\r\n\" id=\"DejaVuSans-100\"/>\r\n       </defs>\r\n       <use xlink:href=\"#DejaVuSans-73\"/>\r\n       <use x=\"29.492188\" xlink:href=\"#DejaVuSans-110\"/>\r\n       <use x=\"92.871094\" xlink:href=\"#DejaVuSans-99\"/>\r\n       <use x=\"147.851562\" xlink:href=\"#DejaVuSans-105\"/>\r\n       <use x=\"175.634766\" xlink:href=\"#DejaVuSans-100\"/>\r\n       <use x=\"239.111328\" xlink:href=\"#DejaVuSans-101\"/>\r\n       <use x=\"300.634766\" xlink:href=\"#DejaVuSans-110\"/>\r\n       <use x=\"364.013672\" xlink:href=\"#DejaVuSans-116\"/>\r\n       <use x=\"403.222656\" xlink:href=\"#DejaVuSans-32\"/>\r\n       <use x=\"435.009766\" xlink:href=\"#DejaVuSans-82\"/>\r\n       <use x=\"499.992188\" xlink:href=\"#DejaVuSans-101\"/>\r\n       <use x=\"561.515625\" xlink:href=\"#DejaVuSans-112\"/>\r\n       <use x=\"624.992188\" xlink:href=\"#DejaVuSans-111\"/>\r\n       <use x=\"686.173828\" xlink:href=\"#DejaVuSans-114\"/>\r\n       <use x=\"727.287109\" xlink:href=\"#DejaVuSans-116\"/>\r\n      </g>\r\n     </g>\r\n    </g>\r\n    <g id=\"xtick_3\">\r\n     <g id=\"line2d_3\">\r\n      <g>\r\n       <use style=\"stroke:#000000;stroke-width:0.8;\" x=\"249.2125\" xlink:href=\"#m4df7f8762c\" y=\"239.758125\"/>\r\n      </g>\r\n     </g>\r\n     <g id=\"text_3\">\r\n      <!-- Profile Report -->\r\n      <g transform=\"translate(215.503906 254.356562)scale(0.1 -0.1)\">\r\n       <defs>\r\n        <path d=\"M 19.671875 64.796875 \r\nL 19.671875 37.40625 \r\nL 32.078125 37.40625 \r\nQ 38.96875 37.40625 42.71875 40.96875 \r\nQ 46.484375 44.53125 46.484375 51.125 \r\nQ 46.484375 57.671875 42.71875 61.234375 \r\nQ 38.96875 64.796875 32.078125 64.796875 \r\nz\r\nM 9.8125 72.90625 \r\nL 32.078125 72.90625 \r\nQ 44.34375 72.90625 50.609375 67.359375 \r\nQ 56.890625 61.8125 56.890625 51.125 \r\nQ 56.890625 40.328125 50.609375 34.8125 \r\nQ 44.34375 29.296875 32.078125 29.296875 \r\nL 19.671875 29.296875 \r\nL 19.671875 0 \r\nL 9.8125 0 \r\nz\r\n\" id=\"DejaVuSans-80\"/>\r\n        <path d=\"M 37.109375 75.984375 \r\nL 37.109375 68.5 \r\nL 28.515625 68.5 \r\nQ 23.6875 68.5 21.796875 66.546875 \r\nQ 19.921875 64.59375 19.921875 59.515625 \r\nL 19.921875 54.6875 \r\nL 34.71875 54.6875 \r\nL 34.71875 47.703125 \r\nL 19.921875 47.703125 \r\nL 19.921875 0 \r\nL 10.890625 0 \r\nL 10.890625 47.703125 \r\nL 2.296875 47.703125 \r\nL 2.296875 54.6875 \r\nL 10.890625 54.6875 \r\nL 10.890625 58.5 \r\nQ 10.890625 67.625 15.140625 71.796875 \r\nQ 19.390625 75.984375 28.609375 75.984375 \r\nz\r\n\" id=\"DejaVuSans-102\"/>\r\n       </defs>\r\n       <use xlink:href=\"#DejaVuSans-80\"/>\r\n       <use x=\"58.552734\" xlink:href=\"#DejaVuSans-114\"/>\r\n       <use x=\"97.416016\" xlink:href=\"#DejaVuSans-111\"/>\r\n       <use x=\"158.597656\" xlink:href=\"#DejaVuSans-102\"/>\r\n       <use x=\"193.802734\" xlink:href=\"#DejaVuSans-105\"/>\r\n       <use x=\"221.585938\" xlink:href=\"#DejaVuSans-108\"/>\r\n       <use x=\"249.369141\" xlink:href=\"#DejaVuSans-101\"/>\r\n       <use x=\"310.892578\" xlink:href=\"#DejaVuSans-32\"/>\r\n       <use x=\"342.679688\" xlink:href=\"#DejaVuSans-82\"/>\r\n       <use x=\"407.662109\" xlink:href=\"#DejaVuSans-101\"/>\r\n       <use x=\"469.185547\" xlink:href=\"#DejaVuSans-112\"/>\r\n       <use x=\"532.662109\" xlink:href=\"#DejaVuSans-111\"/>\r\n       <use x=\"593.84375\" xlink:href=\"#DejaVuSans-114\"/>\r\n       <use x=\"634.957031\" xlink:href=\"#DejaVuSans-116\"/>\r\n      </g>\r\n     </g>\r\n    </g>\r\n    <g id=\"xtick_4\">\r\n     <g id=\"line2d_4\">\r\n      <g>\r\n       <use style=\"stroke:#000000;stroke-width:0.8;\" x=\"303.5725\" xlink:href=\"#m4df7f8762c\" y=\"239.758125\"/>\r\n      </g>\r\n     </g>\r\n     <g id=\"text_4\">\r\n      <!-- Situation Report -->\r\n      <g transform=\"translate(263.074844 254.356562)scale(0.1 -0.1)\">\r\n       <defs>\r\n        <path d=\"M 53.515625 70.515625 \r\nL 53.515625 60.890625 \r\nQ 47.90625 63.578125 42.921875 64.890625 \r\nQ 37.9375 66.21875 33.296875 66.21875 \r\nQ 25.25 66.21875 20.875 63.09375 \r\nQ 16.5 59.96875 16.5 54.203125 \r\nQ 16.5 49.359375 19.40625 46.890625 \r\nQ 22.3125 44.4375 30.421875 42.921875 \r\nL 36.375 41.703125 \r\nQ 47.40625 39.59375 52.65625 34.296875 \r\nQ 57.90625 29 57.90625 20.125 \r\nQ 57.90625 9.515625 50.796875 4.046875 \r\nQ 43.703125 -1.421875 29.984375 -1.421875 \r\nQ 24.8125 -1.421875 18.96875 -0.25 \r\nQ 13.140625 0.921875 6.890625 3.21875 \r\nL 6.890625 13.375 \r\nQ 12.890625 10.015625 18.65625 8.296875 \r\nQ 24.421875 6.59375 29.984375 6.59375 \r\nQ 38.421875 6.59375 43.015625 9.90625 \r\nQ 47.609375 13.234375 47.609375 19.390625 \r\nQ 47.609375 24.75 44.3125 27.78125 \r\nQ 41.015625 30.8125 33.5 32.328125 \r\nL 27.484375 33.5 \r\nQ 16.453125 35.6875 11.515625 40.375 \r\nQ 6.59375 45.0625 6.59375 53.421875 \r\nQ 6.59375 63.09375 13.40625 68.65625 \r\nQ 20.21875 74.21875 32.171875 74.21875 \r\nQ 37.3125 74.21875 42.625 73.28125 \r\nQ 47.953125 72.359375 53.515625 70.515625 \r\nz\r\n\" id=\"DejaVuSans-83\"/>\r\n        <path d=\"M 8.5 21.578125 \r\nL 8.5 54.6875 \r\nL 17.484375 54.6875 \r\nL 17.484375 21.921875 \r\nQ 17.484375 14.15625 20.5 10.265625 \r\nQ 23.53125 6.390625 29.59375 6.390625 \r\nQ 36.859375 6.390625 41.078125 11.03125 \r\nQ 45.3125 15.671875 45.3125 23.6875 \r\nL 45.3125 54.6875 \r\nL 54.296875 54.6875 \r\nL 54.296875 0 \r\nL 45.3125 0 \r\nL 45.3125 8.40625 \r\nQ 42.046875 3.421875 37.71875 1 \r\nQ 33.40625 -1.421875 27.6875 -1.421875 \r\nQ 18.265625 -1.421875 13.375 4.4375 \r\nQ 8.5 10.296875 8.5 21.578125 \r\nz\r\nM 31.109375 56 \r\nz\r\n\" id=\"DejaVuSans-117\"/>\r\n       </defs>\r\n       <use xlink:href=\"#DejaVuSans-83\"/>\r\n       <use x=\"63.476562\" xlink:href=\"#DejaVuSans-105\"/>\r\n       <use x=\"91.259766\" xlink:href=\"#DejaVuSans-116\"/>\r\n       <use x=\"130.46875\" xlink:href=\"#DejaVuSans-117\"/>\r\n       <use x=\"193.847656\" xlink:href=\"#DejaVuSans-97\"/>\r\n       <use x=\"255.126953\" xlink:href=\"#DejaVuSans-116\"/>\r\n       <use x=\"294.335938\" xlink:href=\"#DejaVuSans-105\"/>\r\n       <use x=\"322.119141\" xlink:href=\"#DejaVuSans-111\"/>\r\n       <use x=\"383.300781\" xlink:href=\"#DejaVuSans-110\"/>\r\n       <use x=\"446.679688\" xlink:href=\"#DejaVuSans-32\"/>\r\n       <use x=\"478.466797\" xlink:href=\"#DejaVuSans-82\"/>\r\n       <use x=\"543.449219\" xlink:href=\"#DejaVuSans-101\"/>\r\n       <use x=\"604.972656\" xlink:href=\"#DejaVuSans-112\"/>\r\n       <use x=\"668.449219\" xlink:href=\"#DejaVuSans-111\"/>\r\n       <use x=\"729.630859\" xlink:href=\"#DejaVuSans-114\"/>\r\n       <use x=\"770.744141\" xlink:href=\"#DejaVuSans-116\"/>\r\n      </g>\r\n     </g>\r\n    </g>\r\n    <g id=\"text_5\">\r\n     <!-- Predicted label -->\r\n     <g transform=\"translate(184.880156 268.034687)scale(0.1 -0.1)\">\r\n      <defs>\r\n       <path d=\"M 48.6875 27.296875 \r\nQ 48.6875 37.203125 44.609375 42.84375 \r\nQ 40.53125 48.484375 33.40625 48.484375 \r\nQ 26.265625 48.484375 22.1875 42.84375 \r\nQ 18.109375 37.203125 18.109375 27.296875 \r\nQ 18.109375 17.390625 22.1875 11.75 \r\nQ 26.265625 6.109375 33.40625 6.109375 \r\nQ 40.53125 6.109375 44.609375 11.75 \r\nQ 48.6875 17.390625 48.6875 27.296875 \r\nz\r\nM 18.109375 46.390625 \r\nQ 20.953125 51.265625 25.265625 53.625 \r\nQ 29.59375 56 35.59375 56 \r\nQ 45.5625 56 51.78125 48.09375 \r\nQ 58.015625 40.1875 58.015625 27.296875 \r\nQ 58.015625 14.40625 51.78125 6.484375 \r\nQ 45.5625 -1.421875 35.59375 -1.421875 \r\nQ 29.59375 -1.421875 25.265625 0.953125 \r\nQ 20.953125 3.328125 18.109375 8.203125 \r\nL 18.109375 0 \r\nL 9.078125 0 \r\nL 9.078125 75.984375 \r\nL 18.109375 75.984375 \r\nz\r\n\" id=\"DejaVuSans-98\"/>\r\n      </defs>\r\n      <use xlink:href=\"#DejaVuSans-80\"/>\r\n      <use x=\"58.552734\" xlink:href=\"#DejaVuSans-114\"/>\r\n      <use x=\"97.416016\" xlink:href=\"#DejaVuSans-101\"/>\r\n      <use x=\"158.939453\" xlink:href=\"#DejaVuSans-100\"/>\r\n      <use x=\"222.416016\" xlink:href=\"#DejaVuSans-105\"/>\r\n      <use x=\"250.199219\" xlink:href=\"#DejaVuSans-99\"/>\r\n      <use x=\"305.179688\" xlink:href=\"#DejaVuSans-116\"/>\r\n      <use x=\"344.388672\" xlink:href=\"#DejaVuSans-101\"/>\r\n      <use x=\"405.912109\" xlink:href=\"#DejaVuSans-100\"/>\r\n      <use x=\"469.388672\" xlink:href=\"#DejaVuSans-32\"/>\r\n      <use x=\"501.175781\" xlink:href=\"#DejaVuSans-108\"/>\r\n      <use x=\"528.958984\" xlink:href=\"#DejaVuSans-97\"/>\r\n      <use x=\"590.238281\" xlink:href=\"#DejaVuSans-98\"/>\r\n      <use x=\"653.714844\" xlink:href=\"#DejaVuSans-101\"/>\r\n      <use x=\"715.238281\" xlink:href=\"#DejaVuSans-108\"/>\r\n     </g>\r\n    </g>\r\n   </g>\r\n   <g id=\"matplotlib.axis_2\">\r\n    <g id=\"ytick_1\">\r\n     <g id=\"line2d_5\">\r\n      <defs>\r\n       <path d=\"M 0 0 \r\nL -3.5 0 \r\n\" id=\"m8220364f73\" style=\"stroke:#000000;stroke-width:0.8;\"/>\r\n      </defs>\r\n      <g>\r\n       <use style=\"stroke:#000000;stroke-width:0.8;\" x=\"113.3125\" xlink:href=\"#m8220364f73\" y=\"49.498125\"/>\r\n      </g>\r\n     </g>\r\n     <g id=\"text_6\">\r\n      <!-- Analytical Report -->\r\n      <g transform=\"translate(20.878125 53.297344)scale(0.1 -0.1)\">\r\n       <use xlink:href=\"#DejaVuSans-65\"/>\r\n       <use x=\"68.408203\" xlink:href=\"#DejaVuSans-110\"/>\r\n       <use x=\"131.787109\" xlink:href=\"#DejaVuSans-97\"/>\r\n       <use x=\"193.066406\" xlink:href=\"#DejaVuSans-108\"/>\r\n       <use x=\"220.849609\" xlink:href=\"#DejaVuSans-121\"/>\r\n       <use x=\"280.029297\" xlink:href=\"#DejaVuSans-116\"/>\r\n       <use x=\"319.238281\" xlink:href=\"#DejaVuSans-105\"/>\r\n       <use x=\"347.021484\" xlink:href=\"#DejaVuSans-99\"/>\r\n       <use x=\"402.001953\" xlink:href=\"#DejaVuSans-97\"/>\r\n       <use x=\"463.28125\" xlink:href=\"#DejaVuSans-108\"/>\r\n       <use x=\"491.064453\" xlink:href=\"#DejaVuSans-32\"/>\r\n       <use x=\"522.851562\" xlink:href=\"#DejaVuSans-82\"/>\r\n       <use x=\"587.833984\" xlink:href=\"#DejaVuSans-101\"/>\r\n       <use x=\"649.357422\" xlink:href=\"#DejaVuSans-112\"/>\r\n       <use x=\"712.833984\" xlink:href=\"#DejaVuSans-111\"/>\r\n       <use x=\"774.015625\" xlink:href=\"#DejaVuSans-114\"/>\r\n       <use x=\"815.128906\" xlink:href=\"#DejaVuSans-116\"/>\r\n      </g>\r\n     </g>\r\n    </g>\r\n    <g id=\"ytick_2\">\r\n     <g id=\"line2d_6\">\r\n      <g>\r\n       <use style=\"stroke:#000000;stroke-width:0.8;\" x=\"113.3125\" xlink:href=\"#m8220364f73\" y=\"103.858125\"/>\r\n      </g>\r\n     </g>\r\n     <g id=\"text_7\">\r\n      <!-- Incident Report -->\r\n      <g transform=\"translate(29.660938 107.657344)scale(0.1 -0.1)\">\r\n       <use xlink:href=\"#DejaVuSans-73\"/>\r\n       <use x=\"29.492188\" xlink:href=\"#DejaVuSans-110\"/>\r\n       <use x=\"92.871094\" xlink:href=\"#DejaVuSans-99\"/>\r\n       <use x=\"147.851562\" xlink:href=\"#DejaVuSans-105\"/>\r\n       <use x=\"175.634766\" xlink:href=\"#DejaVuSans-100\"/>\r\n       <use x=\"239.111328\" xlink:href=\"#DejaVuSans-101\"/>\r\n       <use x=\"300.634766\" xlink:href=\"#DejaVuSans-110\"/>\r\n       <use x=\"364.013672\" xlink:href=\"#DejaVuSans-116\"/>\r\n       <use x=\"403.222656\" xlink:href=\"#DejaVuSans-32\"/>\r\n       <use x=\"435.009766\" xlink:href=\"#DejaVuSans-82\"/>\r\n       <use x=\"499.992188\" xlink:href=\"#DejaVuSans-101\"/>\r\n       <use x=\"561.515625\" xlink:href=\"#DejaVuSans-112\"/>\r\n       <use x=\"624.992188\" xlink:href=\"#DejaVuSans-111\"/>\r\n       <use x=\"686.173828\" xlink:href=\"#DejaVuSans-114\"/>\r\n       <use x=\"727.287109\" xlink:href=\"#DejaVuSans-116\"/>\r\n      </g>\r\n     </g>\r\n    </g>\r\n    <g id=\"ytick_3\">\r\n     <g id=\"line2d_7\">\r\n      <g>\r\n       <use style=\"stroke:#000000;stroke-width:0.8;\" x=\"113.3125\" xlink:href=\"#m8220364f73\" y=\"158.218125\"/>\r\n      </g>\r\n     </g>\r\n     <g id=\"text_8\">\r\n      <!-- Profile Report -->\r\n      <g transform=\"translate(38.895313 162.017344)scale(0.1 -0.1)\">\r\n       <use xlink:href=\"#DejaVuSans-80\"/>\r\n       <use x=\"58.552734\" xlink:href=\"#DejaVuSans-114\"/>\r\n       <use x=\"97.416016\" xlink:href=\"#DejaVuSans-111\"/>\r\n       <use x=\"158.597656\" xlink:href=\"#DejaVuSans-102\"/>\r\n       <use x=\"193.802734\" xlink:href=\"#DejaVuSans-105\"/>\r\n       <use x=\"221.585938\" xlink:href=\"#DejaVuSans-108\"/>\r\n       <use x=\"249.369141\" xlink:href=\"#DejaVuSans-101\"/>\r\n       <use x=\"310.892578\" xlink:href=\"#DejaVuSans-32\"/>\r\n       <use x=\"342.679688\" xlink:href=\"#DejaVuSans-82\"/>\r\n       <use x=\"407.662109\" xlink:href=\"#DejaVuSans-101\"/>\r\n       <use x=\"469.185547\" xlink:href=\"#DejaVuSans-112\"/>\r\n       <use x=\"532.662109\" xlink:href=\"#DejaVuSans-111\"/>\r\n       <use x=\"593.84375\" xlink:href=\"#DejaVuSans-114\"/>\r\n       <use x=\"634.957031\" xlink:href=\"#DejaVuSans-116\"/>\r\n      </g>\r\n     </g>\r\n    </g>\r\n    <g id=\"ytick_4\">\r\n     <g id=\"line2d_8\">\r\n      <g>\r\n       <use style=\"stroke:#000000;stroke-width:0.8;\" x=\"113.3125\" xlink:href=\"#m8220364f73\" y=\"212.578125\"/>\r\n      </g>\r\n     </g>\r\n     <g id=\"text_9\">\r\n      <!-- Situation Report -->\r\n      <g transform=\"translate(25.317187 216.377344)scale(0.1 -0.1)\">\r\n       <use xlink:href=\"#DejaVuSans-83\"/>\r\n       <use x=\"63.476562\" xlink:href=\"#DejaVuSans-105\"/>\r\n       <use x=\"91.259766\" xlink:href=\"#DejaVuSans-116\"/>\r\n       <use x=\"130.46875\" xlink:href=\"#DejaVuSans-117\"/>\r\n       <use x=\"193.847656\" xlink:href=\"#DejaVuSans-97\"/>\r\n       <use x=\"255.126953\" xlink:href=\"#DejaVuSans-116\"/>\r\n       <use x=\"294.335938\" xlink:href=\"#DejaVuSans-105\"/>\r\n       <use x=\"322.119141\" xlink:href=\"#DejaVuSans-111\"/>\r\n       <use x=\"383.300781\" xlink:href=\"#DejaVuSans-110\"/>\r\n       <use x=\"446.679688\" xlink:href=\"#DejaVuSans-32\"/>\r\n       <use x=\"478.466797\" xlink:href=\"#DejaVuSans-82\"/>\r\n       <use x=\"543.449219\" xlink:href=\"#DejaVuSans-101\"/>\r\n       <use x=\"604.972656\" xlink:href=\"#DejaVuSans-112\"/>\r\n       <use x=\"668.449219\" xlink:href=\"#DejaVuSans-111\"/>\r\n       <use x=\"729.630859\" xlink:href=\"#DejaVuSans-114\"/>\r\n       <use x=\"770.744141\" xlink:href=\"#DejaVuSans-116\"/>\r\n      </g>\r\n     </g>\r\n    </g>\r\n    <g id=\"text_10\">\r\n     <!-- True label -->\r\n     <g transform=\"translate(14.798437 155.337344)rotate(-90)scale(0.1 -0.1)\">\r\n      <defs>\r\n       <path d=\"M -0.296875 72.90625 \r\nL 61.375 72.90625 \r\nL 61.375 64.59375 \r\nL 35.5 64.59375 \r\nL 35.5 0 \r\nL 25.59375 0 \r\nL 25.59375 64.59375 \r\nL -0.296875 64.59375 \r\nz\r\n\" id=\"DejaVuSans-84\"/>\r\n      </defs>\r\n      <use xlink:href=\"#DejaVuSans-84\"/>\r\n      <use x=\"46.333984\" xlink:href=\"#DejaVuSans-114\"/>\r\n      <use x=\"87.447266\" xlink:href=\"#DejaVuSans-117\"/>\r\n      <use x=\"150.826172\" xlink:href=\"#DejaVuSans-101\"/>\r\n      <use x=\"212.349609\" xlink:href=\"#DejaVuSans-32\"/>\r\n      <use x=\"244.136719\" xlink:href=\"#DejaVuSans-108\"/>\r\n      <use x=\"271.919922\" xlink:href=\"#DejaVuSans-97\"/>\r\n      <use x=\"333.199219\" xlink:href=\"#DejaVuSans-98\"/>\r\n      <use x=\"396.675781\" xlink:href=\"#DejaVuSans-101\"/>\r\n      <use x=\"458.199219\" xlink:href=\"#DejaVuSans-108\"/>\r\n     </g>\r\n    </g>\r\n   </g>\r\n   <g id=\"patch_3\">\r\n    <path d=\"M 113.3125 239.758125 \r\nL 113.3125 22.318125 \r\n\" style=\"fill:none;stroke:#000000;stroke-linecap:square;stroke-linejoin:miter;stroke-width:0.8;\"/>\r\n   </g>\r\n   <g id=\"patch_4\">\r\n    <path d=\"M 330.7525 239.758125 \r\nL 330.7525 22.318125 \r\n\" style=\"fill:none;stroke:#000000;stroke-linecap:square;stroke-linejoin:miter;stroke-width:0.8;\"/>\r\n   </g>\r\n   <g id=\"patch_5\">\r\n    <path d=\"M 113.3125 239.758125 \r\nL 330.7525 239.758125 \r\n\" style=\"fill:none;stroke:#000000;stroke-linecap:square;stroke-linejoin:miter;stroke-width:0.8;\"/>\r\n   </g>\r\n   <g id=\"patch_6\">\r\n    <path d=\"M 113.3125 22.318125 \r\nL 330.7525 22.318125 \r\n\" style=\"fill:none;stroke:#000000;stroke-linecap:square;stroke-linejoin:miter;stroke-width:0.8;\"/>\r\n   </g>\r\n   <g id=\"text_11\">\r\n    <!-- 5 -->\r\n    <g style=\"fill:#08306b;\" transform=\"translate(137.31125 52.2575)scale(0.1 -0.1)\">\r\n     <defs>\r\n      <path d=\"M 10.796875 72.90625 \r\nL 49.515625 72.90625 \r\nL 49.515625 64.59375 \r\nL 19.828125 64.59375 \r\nL 19.828125 46.734375 \r\nQ 21.96875 47.46875 24.109375 47.828125 \r\nQ 26.265625 48.1875 28.421875 48.1875 \r\nQ 40.625 48.1875 47.75 41.5 \r\nQ 54.890625 34.8125 54.890625 23.390625 \r\nQ 54.890625 11.625 47.5625 5.09375 \r\nQ 40.234375 -1.421875 26.90625 -1.421875 \r\nQ 22.3125 -1.421875 17.546875 -0.640625 \r\nQ 12.796875 0.140625 7.71875 1.703125 \r\nL 7.71875 11.625 \r\nQ 12.109375 9.234375 16.796875 8.0625 \r\nQ 21.484375 6.890625 26.703125 6.890625 \r\nQ 35.15625 6.890625 40.078125 11.328125 \r\nQ 45.015625 15.765625 45.015625 23.390625 \r\nQ 45.015625 31 40.078125 35.4375 \r\nQ 35.15625 39.890625 26.703125 39.890625 \r\nQ 22.75 39.890625 18.8125 39.015625 \r\nQ 14.890625 38.140625 10.796875 36.28125 \r\nz\r\n\" id=\"DejaVuSans-53\"/>\r\n     </defs>\r\n     <use xlink:href=\"#DejaVuSans-53\"/>\r\n    </g>\r\n   </g>\r\n   <g id=\"text_12\">\r\n    <!-- 0 -->\r\n    <g style=\"fill:#08306b;\" transform=\"translate(191.67125 52.2575)scale(0.1 -0.1)\">\r\n     <defs>\r\n      <path d=\"M 31.78125 66.40625 \r\nQ 24.171875 66.40625 20.328125 58.90625 \r\nQ 16.5 51.421875 16.5 36.375 \r\nQ 16.5 21.390625 20.328125 13.890625 \r\nQ 24.171875 6.390625 31.78125 6.390625 \r\nQ 39.453125 6.390625 43.28125 13.890625 \r\nQ 47.125 21.390625 47.125 36.375 \r\nQ 47.125 51.421875 43.28125 58.90625 \r\nQ 39.453125 66.40625 31.78125 66.40625 \r\nz\r\nM 31.78125 74.21875 \r\nQ 44.046875 74.21875 50.515625 64.515625 \r\nQ 56.984375 54.828125 56.984375 36.375 \r\nQ 56.984375 17.96875 50.515625 8.265625 \r\nQ 44.046875 -1.421875 31.78125 -1.421875 \r\nQ 19.53125 -1.421875 13.0625 8.265625 \r\nQ 6.59375 17.96875 6.59375 36.375 \r\nQ 6.59375 54.828125 13.0625 64.515625 \r\nQ 19.53125 74.21875 31.78125 74.21875 \r\nz\r\n\" id=\"DejaVuSans-48\"/>\r\n     </defs>\r\n     <use xlink:href=\"#DejaVuSans-48\"/>\r\n    </g>\r\n   </g>\r\n   <g id=\"text_13\">\r\n    <!-- 0 -->\r\n    <g style=\"fill:#08306b;\" transform=\"translate(246.03125 52.2575)scale(0.1 -0.1)\">\r\n     <use xlink:href=\"#DejaVuSans-48\"/>\r\n    </g>\r\n   </g>\r\n   <g id=\"text_14\">\r\n    <!-- 0 -->\r\n    <g style=\"fill:#08306b;\" transform=\"translate(300.39125 52.2575)scale(0.1 -0.1)\">\r\n     <use xlink:href=\"#DejaVuSans-48\"/>\r\n    </g>\r\n   </g>\r\n   <g id=\"text_15\">\r\n    <!-- 0 -->\r\n    <g style=\"fill:#08306b;\" transform=\"translate(137.31125 106.6175)scale(0.1 -0.1)\">\r\n     <use xlink:href=\"#DejaVuSans-48\"/>\r\n    </g>\r\n   </g>\r\n   <g id=\"text_16\">\r\n    <!-- 8 -->\r\n    <g style=\"fill:#f7fbff;\" transform=\"translate(191.67125 106.6175)scale(0.1 -0.1)\">\r\n     <defs>\r\n      <path d=\"M 31.78125 34.625 \r\nQ 24.75 34.625 20.71875 30.859375 \r\nQ 16.703125 27.09375 16.703125 20.515625 \r\nQ 16.703125 13.921875 20.71875 10.15625 \r\nQ 24.75 6.390625 31.78125 6.390625 \r\nQ 38.8125 6.390625 42.859375 10.171875 \r\nQ 46.921875 13.96875 46.921875 20.515625 \r\nQ 46.921875 27.09375 42.890625 30.859375 \r\nQ 38.875 34.625 31.78125 34.625 \r\nz\r\nM 21.921875 38.8125 \r\nQ 15.578125 40.375 12.03125 44.71875 \r\nQ 8.5 49.078125 8.5 55.328125 \r\nQ 8.5 64.0625 14.71875 69.140625 \r\nQ 20.953125 74.21875 31.78125 74.21875 \r\nQ 42.671875 74.21875 48.875 69.140625 \r\nQ 55.078125 64.0625 55.078125 55.328125 \r\nQ 55.078125 49.078125 51.53125 44.71875 \r\nQ 48 40.375 41.703125 38.8125 \r\nQ 48.828125 37.15625 52.796875 32.3125 \r\nQ 56.78125 27.484375 56.78125 20.515625 \r\nQ 56.78125 9.90625 50.3125 4.234375 \r\nQ 43.84375 -1.421875 31.78125 -1.421875 \r\nQ 19.734375 -1.421875 13.25 4.234375 \r\nQ 6.78125 9.90625 6.78125 20.515625 \r\nQ 6.78125 27.484375 10.78125 32.3125 \r\nQ 14.796875 37.15625 21.921875 38.8125 \r\nz\r\nM 18.3125 54.390625 \r\nQ 18.3125 48.734375 21.84375 45.5625 \r\nQ 25.390625 42.390625 31.78125 42.390625 \r\nQ 38.140625 42.390625 41.71875 45.5625 \r\nQ 45.3125 48.734375 45.3125 54.390625 \r\nQ 45.3125 60.0625 41.71875 63.234375 \r\nQ 38.140625 66.40625 31.78125 66.40625 \r\nQ 25.390625 66.40625 21.84375 63.234375 \r\nQ 18.3125 60.0625 18.3125 54.390625 \r\nz\r\n\" id=\"DejaVuSans-56\"/>\r\n     </defs>\r\n     <use xlink:href=\"#DejaVuSans-56\"/>\r\n    </g>\r\n   </g>\r\n   <g id=\"text_17\">\r\n    <!-- 0 -->\r\n    <g style=\"fill:#08306b;\" transform=\"translate(246.03125 106.6175)scale(0.1 -0.1)\">\r\n     <use xlink:href=\"#DejaVuSans-48\"/>\r\n    </g>\r\n   </g>\r\n   <g id=\"text_18\">\r\n    <!-- 1 -->\r\n    <g style=\"fill:#08306b;\" transform=\"translate(300.39125 106.6175)scale(0.1 -0.1)\">\r\n     <defs>\r\n      <path d=\"M 12.40625 8.296875 \r\nL 28.515625 8.296875 \r\nL 28.515625 63.921875 \r\nL 10.984375 60.40625 \r\nL 10.984375 69.390625 \r\nL 28.421875 72.90625 \r\nL 38.28125 72.90625 \r\nL 38.28125 8.296875 \r\nL 54.390625 8.296875 \r\nL 54.390625 0 \r\nL 12.40625 0 \r\nz\r\n\" id=\"DejaVuSans-49\"/>\r\n     </defs>\r\n     <use xlink:href=\"#DejaVuSans-49\"/>\r\n    </g>\r\n   </g>\r\n   <g id=\"text_19\">\r\n    <!-- 0 -->\r\n    <g style=\"fill:#08306b;\" transform=\"translate(137.31125 160.9775)scale(0.1 -0.1)\">\r\n     <use xlink:href=\"#DejaVuSans-48\"/>\r\n    </g>\r\n   </g>\r\n   <g id=\"text_20\">\r\n    <!-- 1 -->\r\n    <g style=\"fill:#08306b;\" transform=\"translate(191.67125 160.9775)scale(0.1 -0.1)\">\r\n     <use xlink:href=\"#DejaVuSans-49\"/>\r\n    </g>\r\n   </g>\r\n   <g id=\"text_21\">\r\n    <!-- 12 -->\r\n    <g style=\"fill:#f7fbff;\" transform=\"translate(242.85 160.9775)scale(0.1 -0.1)\">\r\n     <defs>\r\n      <path d=\"M 19.1875 8.296875 \r\nL 53.609375 8.296875 \r\nL 53.609375 0 \r\nL 7.328125 0 \r\nL 7.328125 8.296875 \r\nQ 12.9375 14.109375 22.625 23.890625 \r\nQ 32.328125 33.6875 34.8125 36.53125 \r\nQ 39.546875 41.84375 41.421875 45.53125 \r\nQ 43.3125 49.21875 43.3125 52.78125 \r\nQ 43.3125 58.59375 39.234375 62.25 \r\nQ 35.15625 65.921875 28.609375 65.921875 \r\nQ 23.96875 65.921875 18.8125 64.3125 \r\nQ 13.671875 62.703125 7.8125 59.421875 \r\nL 7.8125 69.390625 \r\nQ 13.765625 71.78125 18.9375 73 \r\nQ 24.125 74.21875 28.421875 74.21875 \r\nQ 39.75 74.21875 46.484375 68.546875 \r\nQ 53.21875 62.890625 53.21875 53.421875 \r\nQ 53.21875 48.921875 51.53125 44.890625 \r\nQ 49.859375 40.875 45.40625 35.40625 \r\nQ 44.1875 33.984375 37.640625 27.21875 \r\nQ 31.109375 20.453125 19.1875 8.296875 \r\nz\r\n\" id=\"DejaVuSans-50\"/>\r\n     </defs>\r\n     <use xlink:href=\"#DejaVuSans-49\"/>\r\n     <use x=\"63.623047\" xlink:href=\"#DejaVuSans-50\"/>\r\n    </g>\r\n   </g>\r\n   <g id=\"text_22\">\r\n    <!-- 0 -->\r\n    <g style=\"fill:#08306b;\" transform=\"translate(300.39125 160.9775)scale(0.1 -0.1)\">\r\n     <use xlink:href=\"#DejaVuSans-48\"/>\r\n    </g>\r\n   </g>\r\n   <g id=\"text_23\">\r\n    <!-- 1 -->\r\n    <g style=\"fill:#08306b;\" transform=\"translate(137.31125 215.3375)scale(0.1 -0.1)\">\r\n     <use xlink:href=\"#DejaVuSans-49\"/>\r\n    </g>\r\n   </g>\r\n   <g id=\"text_24\">\r\n    <!-- 1 -->\r\n    <g style=\"fill:#08306b;\" transform=\"translate(191.67125 215.3375)scale(0.1 -0.1)\">\r\n     <use xlink:href=\"#DejaVuSans-49\"/>\r\n    </g>\r\n   </g>\r\n   <g id=\"text_25\">\r\n    <!-- 0 -->\r\n    <g style=\"fill:#08306b;\" transform=\"translate(246.03125 215.3375)scale(0.1 -0.1)\">\r\n     <use xlink:href=\"#DejaVuSans-48\"/>\r\n    </g>\r\n   </g>\r\n   <g id=\"text_26\">\r\n    <!-- 7 -->\r\n    <g style=\"fill:#f7fbff;\" transform=\"translate(300.39125 215.3375)scale(0.1 -0.1)\">\r\n     <defs>\r\n      <path d=\"M 8.203125 72.90625 \r\nL 55.078125 72.90625 \r\nL 55.078125 68.703125 \r\nL 28.609375 0 \r\nL 18.3125 0 \r\nL 43.21875 64.59375 \r\nL 8.203125 64.59375 \r\nz\r\n\" id=\"DejaVuSans-55\"/>\r\n     </defs>\r\n     <use xlink:href=\"#DejaVuSans-55\"/>\r\n    </g>\r\n   </g>\r\n   <g id=\"text_27\">\r\n    <!-- Validation dataset Random Forest Classifier -->\r\n    <g transform=\"translate(91.458438 16.318125)scale(0.12 -0.12)\">\r\n     <defs>\r\n      <path d=\"M 28.609375 0 \r\nL 0.78125 72.90625 \r\nL 11.078125 72.90625 \r\nL 34.1875 11.53125 \r\nL 57.328125 72.90625 \r\nL 67.578125 72.90625 \r\nL 39.796875 0 \r\nz\r\n\" id=\"DejaVuSans-86\"/>\r\n      <path d=\"M 44.28125 53.078125 \r\nL 44.28125 44.578125 \r\nQ 40.484375 46.53125 36.375 47.5 \r\nQ 32.28125 48.484375 27.875 48.484375 \r\nQ 21.1875 48.484375 17.84375 46.4375 \r\nQ 14.5 44.390625 14.5 40.28125 \r\nQ 14.5 37.15625 16.890625 35.375 \r\nQ 19.28125 33.59375 26.515625 31.984375 \r\nL 29.59375 31.296875 \r\nQ 39.15625 29.25 43.1875 25.515625 \r\nQ 47.21875 21.78125 47.21875 15.09375 \r\nQ 47.21875 7.46875 41.1875 3.015625 \r\nQ 35.15625 -1.421875 24.609375 -1.421875 \r\nQ 20.21875 -1.421875 15.453125 -0.5625 \r\nQ 10.6875 0.296875 5.421875 2 \r\nL 5.421875 11.28125 \r\nQ 10.40625 8.6875 15.234375 7.390625 \r\nQ 20.0625 6.109375 24.8125 6.109375 \r\nQ 31.15625 6.109375 34.5625 8.28125 \r\nQ 37.984375 10.453125 37.984375 14.40625 \r\nQ 37.984375 18.0625 35.515625 20.015625 \r\nQ 33.0625 21.96875 24.703125 23.78125 \r\nL 21.578125 24.515625 \r\nQ 13.234375 26.265625 9.515625 29.90625 \r\nQ 5.8125 33.546875 5.8125 39.890625 \r\nQ 5.8125 47.609375 11.28125 51.796875 \r\nQ 16.75 56 26.8125 56 \r\nQ 31.78125 56 36.171875 55.265625 \r\nQ 40.578125 54.546875 44.28125 53.078125 \r\nz\r\n\" id=\"DejaVuSans-115\"/>\r\n      <path d=\"M 52 44.1875 \r\nQ 55.375 50.25 60.0625 53.125 \r\nQ 64.75 56 71.09375 56 \r\nQ 79.640625 56 84.28125 50.015625 \r\nQ 88.921875 44.046875 88.921875 33.015625 \r\nL 88.921875 0 \r\nL 79.890625 0 \r\nL 79.890625 32.71875 \r\nQ 79.890625 40.578125 77.09375 44.375 \r\nQ 74.3125 48.1875 68.609375 48.1875 \r\nQ 61.625 48.1875 57.5625 43.546875 \r\nQ 53.515625 38.921875 53.515625 30.90625 \r\nL 53.515625 0 \r\nL 44.484375 0 \r\nL 44.484375 32.71875 \r\nQ 44.484375 40.625 41.703125 44.40625 \r\nQ 38.921875 48.1875 33.109375 48.1875 \r\nQ 26.21875 48.1875 22.15625 43.53125 \r\nQ 18.109375 38.875 18.109375 30.90625 \r\nL 18.109375 0 \r\nL 9.078125 0 \r\nL 9.078125 54.6875 \r\nL 18.109375 54.6875 \r\nL 18.109375 46.1875 \r\nQ 21.1875 51.21875 25.484375 53.609375 \r\nQ 29.78125 56 35.6875 56 \r\nQ 41.65625 56 45.828125 52.96875 \r\nQ 50 49.953125 52 44.1875 \r\nz\r\n\" id=\"DejaVuSans-109\"/>\r\n      <path d=\"M 9.8125 72.90625 \r\nL 51.703125 72.90625 \r\nL 51.703125 64.59375 \r\nL 19.671875 64.59375 \r\nL 19.671875 43.109375 \r\nL 48.578125 43.109375 \r\nL 48.578125 34.8125 \r\nL 19.671875 34.8125 \r\nL 19.671875 0 \r\nL 9.8125 0 \r\nz\r\n\" id=\"DejaVuSans-70\"/>\r\n      <path d=\"M 64.40625 67.28125 \r\nL 64.40625 56.890625 \r\nQ 59.421875 61.53125 53.78125 63.8125 \r\nQ 48.140625 66.109375 41.796875 66.109375 \r\nQ 29.296875 66.109375 22.65625 58.46875 \r\nQ 16.015625 50.828125 16.015625 36.375 \r\nQ 16.015625 21.96875 22.65625 14.328125 \r\nQ 29.296875 6.6875 41.796875 6.6875 \r\nQ 48.140625 6.6875 53.78125 8.984375 \r\nQ 59.421875 11.28125 64.40625 15.921875 \r\nL 64.40625 5.609375 \r\nQ 59.234375 2.09375 53.4375 0.328125 \r\nQ 47.65625 -1.421875 41.21875 -1.421875 \r\nQ 24.65625 -1.421875 15.125 8.703125 \r\nQ 5.609375 18.84375 5.609375 36.375 \r\nQ 5.609375 53.953125 15.125 64.078125 \r\nQ 24.65625 74.21875 41.21875 74.21875 \r\nQ 47.75 74.21875 53.53125 72.484375 \r\nQ 59.328125 70.75 64.40625 67.28125 \r\nz\r\n\" id=\"DejaVuSans-67\"/>\r\n     </defs>\r\n     <use xlink:href=\"#DejaVuSans-86\"/>\r\n     <use x=\"60.658203\" xlink:href=\"#DejaVuSans-97\"/>\r\n     <use x=\"121.9375\" xlink:href=\"#DejaVuSans-108\"/>\r\n     <use x=\"149.720703\" xlink:href=\"#DejaVuSans-105\"/>\r\n     <use x=\"177.503906\" xlink:href=\"#DejaVuSans-100\"/>\r\n     <use x=\"240.980469\" xlink:href=\"#DejaVuSans-97\"/>\r\n     <use x=\"302.259766\" xlink:href=\"#DejaVuSans-116\"/>\r\n     <use x=\"341.46875\" xlink:href=\"#DejaVuSans-105\"/>\r\n     <use x=\"369.251953\" xlink:href=\"#DejaVuSans-111\"/>\r\n     <use x=\"430.433594\" xlink:href=\"#DejaVuSans-110\"/>\r\n     <use x=\"493.8125\" xlink:href=\"#DejaVuSans-32\"/>\r\n     <use x=\"525.599609\" xlink:href=\"#DejaVuSans-100\"/>\r\n     <use x=\"589.076172\" xlink:href=\"#DejaVuSans-97\"/>\r\n     <use x=\"650.355469\" xlink:href=\"#DejaVuSans-116\"/>\r\n     <use x=\"689.564453\" xlink:href=\"#DejaVuSans-97\"/>\r\n     <use x=\"750.84375\" xlink:href=\"#DejaVuSans-115\"/>\r\n     <use x=\"802.943359\" xlink:href=\"#DejaVuSans-101\"/>\r\n     <use x=\"864.466797\" xlink:href=\"#DejaVuSans-116\"/>\r\n     <use x=\"903.675781\" xlink:href=\"#DejaVuSans-32\"/>\r\n     <use x=\"935.462891\" xlink:href=\"#DejaVuSans-82\"/>\r\n     <use x=\"1002.695312\" xlink:href=\"#DejaVuSans-97\"/>\r\n     <use x=\"1063.974609\" xlink:href=\"#DejaVuSans-110\"/>\r\n     <use x=\"1127.353516\" xlink:href=\"#DejaVuSans-100\"/>\r\n     <use x=\"1190.830078\" xlink:href=\"#DejaVuSans-111\"/>\r\n     <use x=\"1252.011719\" xlink:href=\"#DejaVuSans-109\"/>\r\n     <use x=\"1349.423828\" xlink:href=\"#DejaVuSans-32\"/>\r\n     <use x=\"1381.210938\" xlink:href=\"#DejaVuSans-70\"/>\r\n     <use x=\"1435.105469\" xlink:href=\"#DejaVuSans-111\"/>\r\n     <use x=\"1496.287109\" xlink:href=\"#DejaVuSans-114\"/>\r\n     <use x=\"1535.150391\" xlink:href=\"#DejaVuSans-101\"/>\r\n     <use x=\"1596.673828\" xlink:href=\"#DejaVuSans-115\"/>\r\n     <use x=\"1648.773438\" xlink:href=\"#DejaVuSans-116\"/>\r\n     <use x=\"1687.982422\" xlink:href=\"#DejaVuSans-32\"/>\r\n     <use x=\"1719.769531\" xlink:href=\"#DejaVuSans-67\"/>\r\n     <use x=\"1789.59375\" xlink:href=\"#DejaVuSans-108\"/>\r\n     <use x=\"1817.376953\" xlink:href=\"#DejaVuSans-97\"/>\r\n     <use x=\"1878.65625\" xlink:href=\"#DejaVuSans-115\"/>\r\n     <use x=\"1930.755859\" xlink:href=\"#DejaVuSans-115\"/>\r\n     <use x=\"1982.855469\" xlink:href=\"#DejaVuSans-105\"/>\r\n     <use x=\"2010.638672\" xlink:href=\"#DejaVuSans-102\"/>\r\n     <use x=\"2045.84375\" xlink:href=\"#DejaVuSans-105\"/>\r\n     <use x=\"2073.626953\" xlink:href=\"#DejaVuSans-101\"/>\r\n     <use x=\"2135.150391\" xlink:href=\"#DejaVuSans-114\"/>\r\n    </g>\r\n   </g>\r\n  </g>\r\n  <g id=\"axes_2\">\r\n   <g id=\"patch_7\">\r\n    <path clip-path=\"url(#p04177aa26d)\" d=\"M 347.4925 239.758125 \r\nL 347.4925 238.90875 \r\nL 347.4925 23.1675 \r\nL 347.4925 22.318125 \r\nL 358.3645 22.318125 \r\nL 358.3645 23.1675 \r\nL 358.3645 238.90875 \r\nL 358.3645 239.758125 \r\nz\r\n\" style=\"fill:#ffffff;stroke:#ffffff;stroke-linejoin:miter;stroke-width:0.01;\"/>\r\n   </g>\r\n   <image height=\"217\" id=\"image43fdb32129\" transform=\"scale(1 -1)translate(0 -217)\" width=\"11\" x=\"347\" xlink:href=\"data:image/png;base64,\r\niVBORw0KGgoAAAANSUhEUgAAAAsAAADZCAYAAAD2WsoCAAABHElEQVR4nO2YMQ4CMRADA8r/n0uByIYWukwxyIvuamvl2F4nutvjufc4/OYex9gxz+diMKEBsGMCLORcAH0HLEzpQhyEkwEYZgNwLk26kSEdzAbh7NHQeoPZ3bC+OvZGinRX+H9CI0Q67VWQckBkNzygdsNqDi50wAzOlZHnOh/stqjFuUBGGWezN8Dk5VWBlzrtcYKqQGxR7e5eJM9eP3sOIp0X6ALTwXOsScPLBrQ7osw9ndk9KLaot7AR0nn93DEbaLs9nc2/EKj5I3YwJBvslctoRKgBD2jRCJls2g1oeEHy7O4YpJDtZn8CxWycvxlTODNwht0h2fh/u69sfICh3YhGw8n1sia3VGNF0ECTycJedn+BO9ptTX4DblXiEVeBW/gAAAAASUVORK5CYII=\" y=\"-22\"/>\r\n   <g id=\"matplotlib.axis_3\"/>\r\n   <g id=\"matplotlib.axis_4\">\r\n    <g id=\"ytick_5\">\r\n     <g id=\"line2d_9\">\r\n      <defs>\r\n       <path d=\"M 0 0 \r\nL 3.5 0 \r\n\" id=\"m97a42b4f76\" style=\"stroke:#000000;stroke-width:0.8;\"/>\r\n      </defs>\r\n      <g>\r\n       <use style=\"stroke:#000000;stroke-width:0.8;\" x=\"358.3645\" xlink:href=\"#m97a42b4f76\" y=\"239.758125\"/>\r\n      </g>\r\n     </g>\r\n     <g id=\"text_28\">\r\n      <!-- 0 -->\r\n      <g transform=\"translate(365.3645 243.557344)scale(0.1 -0.1)\">\r\n       <use xlink:href=\"#DejaVuSans-48\"/>\r\n      </g>\r\n     </g>\r\n    </g>\r\n    <g id=\"ytick_6\">\r\n     <g id=\"line2d_10\">\r\n      <g>\r\n       <use style=\"stroke:#000000;stroke-width:0.8;\" x=\"358.3645\" xlink:href=\"#m97a42b4f76\" y=\"203.518125\"/>\r\n      </g>\r\n     </g>\r\n     <g id=\"text_29\">\r\n      <!-- 2 -->\r\n      <g transform=\"translate(365.3645 207.317344)scale(0.1 -0.1)\">\r\n       <use xlink:href=\"#DejaVuSans-50\"/>\r\n      </g>\r\n     </g>\r\n    </g>\r\n    <g id=\"ytick_7\">\r\n     <g id=\"line2d_11\">\r\n      <g>\r\n       <use style=\"stroke:#000000;stroke-width:0.8;\" x=\"358.3645\" xlink:href=\"#m97a42b4f76\" y=\"167.278125\"/>\r\n      </g>\r\n     </g>\r\n     <g id=\"text_30\">\r\n      <!-- 4 -->\r\n      <g transform=\"translate(365.3645 171.077344)scale(0.1 -0.1)\">\r\n       <defs>\r\n        <path d=\"M 37.796875 64.3125 \r\nL 12.890625 25.390625 \r\nL 37.796875 25.390625 \r\nz\r\nM 35.203125 72.90625 \r\nL 47.609375 72.90625 \r\nL 47.609375 25.390625 \r\nL 58.015625 25.390625 \r\nL 58.015625 17.1875 \r\nL 47.609375 17.1875 \r\nL 47.609375 0 \r\nL 37.796875 0 \r\nL 37.796875 17.1875 \r\nL 4.890625 17.1875 \r\nL 4.890625 26.703125 \r\nz\r\n\" id=\"DejaVuSans-52\"/>\r\n       </defs>\r\n       <use xlink:href=\"#DejaVuSans-52\"/>\r\n      </g>\r\n     </g>\r\n    </g>\r\n    <g id=\"ytick_8\">\r\n     <g id=\"line2d_12\">\r\n      <g>\r\n       <use style=\"stroke:#000000;stroke-width:0.8;\" x=\"358.3645\" xlink:href=\"#m97a42b4f76\" y=\"131.038125\"/>\r\n      </g>\r\n     </g>\r\n     <g id=\"text_31\">\r\n      <!-- 6 -->\r\n      <g transform=\"translate(365.3645 134.837344)scale(0.1 -0.1)\">\r\n       <defs>\r\n        <path d=\"M 33.015625 40.375 \r\nQ 26.375 40.375 22.484375 35.828125 \r\nQ 18.609375 31.296875 18.609375 23.390625 \r\nQ 18.609375 15.53125 22.484375 10.953125 \r\nQ 26.375 6.390625 33.015625 6.390625 \r\nQ 39.65625 6.390625 43.53125 10.953125 \r\nQ 47.40625 15.53125 47.40625 23.390625 \r\nQ 47.40625 31.296875 43.53125 35.828125 \r\nQ 39.65625 40.375 33.015625 40.375 \r\nz\r\nM 52.59375 71.296875 \r\nL 52.59375 62.3125 \r\nQ 48.875 64.0625 45.09375 64.984375 \r\nQ 41.3125 65.921875 37.59375 65.921875 \r\nQ 27.828125 65.921875 22.671875 59.328125 \r\nQ 17.53125 52.734375 16.796875 39.40625 \r\nQ 19.671875 43.65625 24.015625 45.921875 \r\nQ 28.375 48.1875 33.59375 48.1875 \r\nQ 44.578125 48.1875 50.953125 41.515625 \r\nQ 57.328125 34.859375 57.328125 23.390625 \r\nQ 57.328125 12.15625 50.6875 5.359375 \r\nQ 44.046875 -1.421875 33.015625 -1.421875 \r\nQ 20.359375 -1.421875 13.671875 8.265625 \r\nQ 6.984375 17.96875 6.984375 36.375 \r\nQ 6.984375 53.65625 15.1875 63.9375 \r\nQ 23.390625 74.21875 37.203125 74.21875 \r\nQ 40.921875 74.21875 44.703125 73.484375 \r\nQ 48.484375 72.75 52.59375 71.296875 \r\nz\r\n\" id=\"DejaVuSans-54\"/>\r\n       </defs>\r\n       <use xlink:href=\"#DejaVuSans-54\"/>\r\n      </g>\r\n     </g>\r\n    </g>\r\n    <g id=\"ytick_9\">\r\n     <g id=\"line2d_13\">\r\n      <g>\r\n       <use style=\"stroke:#000000;stroke-width:0.8;\" x=\"358.3645\" xlink:href=\"#m97a42b4f76\" y=\"94.798125\"/>\r\n      </g>\r\n     </g>\r\n     <g id=\"text_32\">\r\n      <!-- 8 -->\r\n      <g transform=\"translate(365.3645 98.597344)scale(0.1 -0.1)\">\r\n       <use xlink:href=\"#DejaVuSans-56\"/>\r\n      </g>\r\n     </g>\r\n    </g>\r\n    <g id=\"ytick_10\">\r\n     <g id=\"line2d_14\">\r\n      <g>\r\n       <use style=\"stroke:#000000;stroke-width:0.8;\" x=\"358.3645\" xlink:href=\"#m97a42b4f76\" y=\"58.558125\"/>\r\n      </g>\r\n     </g>\r\n     <g id=\"text_33\">\r\n      <!-- 10 -->\r\n      <g transform=\"translate(365.3645 62.357344)scale(0.1 -0.1)\">\r\n       <use xlink:href=\"#DejaVuSans-49\"/>\r\n       <use x=\"63.623047\" xlink:href=\"#DejaVuSans-48\"/>\r\n      </g>\r\n     </g>\r\n    </g>\r\n    <g id=\"ytick_11\">\r\n     <g id=\"line2d_15\">\r\n      <g>\r\n       <use style=\"stroke:#000000;stroke-width:0.8;\" x=\"358.3645\" xlink:href=\"#m97a42b4f76\" y=\"22.318125\"/>\r\n      </g>\r\n     </g>\r\n     <g id=\"text_34\">\r\n      <!-- 12 -->\r\n      <g transform=\"translate(365.3645 26.117344)scale(0.1 -0.1)\">\r\n       <use xlink:href=\"#DejaVuSans-49\"/>\r\n       <use x=\"63.623047\" xlink:href=\"#DejaVuSans-50\"/>\r\n      </g>\r\n     </g>\r\n    </g>\r\n   </g>\r\n   <g id=\"patch_8\">\r\n    <path d=\"M 347.4925 239.758125 \r\nL 347.4925 238.90875 \r\nL 347.4925 23.1675 \r\nL 347.4925 22.318125 \r\nL 358.3645 22.318125 \r\nL 358.3645 23.1675 \r\nL 358.3645 238.90875 \r\nL 358.3645 239.758125 \r\nz\r\n\" style=\"fill:none;stroke:#000000;stroke-linejoin:miter;stroke-width:0.8;\"/>\r\n   </g>\r\n  </g>\r\n </g>\r\n <defs>\r\n  <clipPath id=\"pd60324b605\">\r\n   <rect height=\"217.44\" width=\"217.44\" x=\"113.3125\" y=\"22.318125\"/>\r\n  </clipPath>\r\n  <clipPath id=\"p04177aa26d\">\r\n   <rect height=\"217.44\" width=\"10.872\" x=\"347.4925\" y=\"22.318125\"/>\r\n  </clipPath>\r\n </defs>\r\n</svg>\r\n",
      "image/png": "[encoded data removed]"
     },
     "metadata": {
      "needs_background": "light"
     }
    }
   ],
   "source": [
    "classifier = RandomForestClassifier(n_estimators=100, max_depth=200)\n",
    "classifier.fit(x_train, y_train)\n",
    "\n",
    "score_calulation(classifier, x_train, y_train, 'Train dataset Random Forest Classifier')\n",
    "\n",
    "score_calulation(classifier, x_val, y_val, 'Validation dataset Random Forest Classifier')"
   ]
  },
  {
   "cell_type": "code",
   "execution_count": 33,
   "metadata": {},
   "outputs": [
    {
     "output_type": "stream",
     "name": "stdout",
     "text": [
      "Ada Boost Classifier number of estimators 50 F1 Score is 0.6491935483870968\n",
      "Ada Boost Classifier number of estimators 100 F1 Score is 0.5443548387096774\n",
      "Ada Boost Classifier number of estimators 150 F1 Score is 0.6491935483870968\n",
      "Ada Boost Classifier number of estimators 200 F1 Score is 0.5443548387096774\n",
      "Ada Boost Classifier number of estimators 250 F1 Score is 0.6491935483870968\n",
      "Ada Boost Classifier number of estimators 500 F1 Score is 0.5443548387096774\n"
     ]
    }
   ],
   "source": [
    "# Model with Ada Boost Classifier\n",
    "n_estimators = [50, 100, 150, 200, 250, 500]\n",
    "\n",
    "\n",
    "for i in range(len(n_estimators)):\n",
    "    classifier = AdaBoostClassifier(n_estimators=n_estimators[i])\n",
    "    classifier.fit(x_train, y_train)\n",
    "    y_pred = classifier.predict(x_train)\n",
    "    f1_score_t = f1_score(y_train, y_pred, average='micro')\n",
    "    print_out = 'Ada Boost Classifier number of estimators ' +  str(n_estimators[i])  + ' F1 Score is ' + str(f1_score_t)\n",
    "    print(print_out)"
   ]
  },
  {
   "cell_type": "code",
   "execution_count": 34,
   "metadata": {},
   "outputs": [
    {
     "output_type": "stream",
     "name": "stdout",
     "text": [
      "Result Train dataset Random Forest Classifier\n",
      "F1 Score is  0.5443548387096774\n",
      "Accuracy  Score is  0.5443548387096774\n",
      "Recall Score is  0.5443548387096774\n",
      "Train dataset Random Forest Classifier\n",
      "[[58  2  0  0]\n",
      " [12 38  1  3]\n",
      " [16 26 21  0]\n",
      " [20 33  0 18]]\n",
      "Result Validation dataset Random Forest Classifier\n",
      "F1 Score is  0.4722222222222222\n",
      "Accuracy  Score is  0.4722222222222222\n",
      "Recall Score is  0.4722222222222222\n",
      "Validation dataset Random Forest Classifier\n",
      "[[5 0 0 0]\n",
      " [0 7 0 2]\n",
      " [3 7 3 0]\n",
      " [3 4 0 2]]\n"
     ]
    },
    {
     "output_type": "display_data",
     "data": {
      "text/plain": "<Figure size 432x288 with 2 Axes>",
      "image/svg+xml": "<?xml version=\"1.0\" encoding=\"utf-8\" standalone=\"no\"?>\r\n<!DOCTYPE svg PUBLIC \"-//W3C//DTD SVG 1.1//EN\"\r\n  \"http://www.w3.org/Graphics/SVG/1.1/DTD/svg11.dtd\">\r\n<!-- Created with matplotlib (https://matplotlib.org/) -->\r\n<svg height=\"277.314375pt\" version=\"1.1\" viewBox=\"0 0 385.2895 277.314375\" width=\"385.2895pt\" xmlns=\"http://www.w3.org/2000/svg\" xmlns:xlink=\"http://www.w3.org/1999/xlink\">\r\n <metadata>\r\n  <rdf:RDF xmlns:cc=\"http://creativecommons.org/ns#\" xmlns:dc=\"http://purl.org/dc/elements/1.1/\" xmlns:rdf=\"http://www.w3.org/1999/02/22-rdf-syntax-ns#\">\r\n   <cc:Work>\r\n    <dc:type rdf:resource=\"http://purl.org/dc/dcmitype/StillImage\"/>\r\n    <dc:date>2020-12-18T12:43:21.220189</dc:date>\r\n    <dc:format>image/svg+xml</dc:format>\r\n    <dc:creator>\r\n     <cc:Agent>\r\n      <dc:title>Matplotlib v3.3.2, https://matplotlib.org/</dc:title>\r\n     </cc:Agent>\r\n    </dc:creator>\r\n   </cc:Work>\r\n  </rdf:RDF>\r\n </metadata>\r\n <defs>\r\n  <style type=\"text/css\">*{stroke-linecap:butt;stroke-linejoin:round;}</style>\r\n </defs>\r\n <g id=\"figure_1\">\r\n  <g id=\"patch_1\">\r\n   <path d=\"M 0 277.314375 \r\nL 385.2895 277.314375 \r\nL 385.2895 0 \r\nL 0 0 \r\nz\r\n\" style=\"fill:none;\"/>\r\n  </g>\r\n  <g id=\"axes_1\">\r\n   <g id=\"patch_2\">\r\n    <path d=\"M 113.3125 239.758125 \r\nL 330.7525 239.758125 \r\nL 330.7525 22.318125 \r\nL 113.3125 22.318125 \r\nz\r\n\" style=\"fill:#ffffff;\"/>\r\n   </g>\r\n   <g clip-path=\"url(#p72e43ee06f)\">\r\n    <image height=\"218\" id=\"image22af7e12e2\" transform=\"scale(1 -1)translate(0 -218)\" width=\"218\" x=\"113.3125\" xlink:href=\"data:image/png;base64,\r\niVBORw0KGgoAAAANSUhEUgAAANoAAADaCAYAAADAHVzbAAAC8UlEQVR4nO3VPyoAYByHcX/DoGwGuYFBZtcwOoFyF2cwGOQA2I1icgAKBzAoxRkM7/MWn88JvvXr6bd4cf/yvfAHXT28z54wzPnxwewJQ9w+/d2bLc0eAP+B0CAgNAgIDQJCg4DQICA0CAgNAkKDgNAgIDQICA0CQoOA0CAgNAgIDQJCg4DQICA0CAgNAkKDgNAgIDQICA0CQoOA0CAgNAgIDQJCg4DQICA0CAgNAkKDgNAgIDQICA0CQoOA0CAgNAgIDQJCg4DQICA0CAgNAkKDgNAgIDQICA0CQoOA0CAgNAgIDQJCg4DQILCyvbE+e8MQezubsycMc/nwPHvCEEf7u7MnDOOjQUBoEBAaBIQGAaFBQGgQEBoEhAYBoUFAaBAQGgSEBgGhQUBoEBAaBIQGAaFBQGgQEBoEhAYBoUFAaBAQGgSEBgGhQUBoEBAaBIQGAaFBQGgQEBoEhAYBoUFAaBAQGgSEBgGhQUBoEBAaBIQGAaFBQGgQEBoEhAYBoUFAaBAQGgSEBgGhQUBoEBAaBIQGAaFBYGVrY3X2hiFuHl9nTxjm+vRw9oQhPj6/Zk8YxkeDgNAgIDQICA0CQoOA0CAgNAgIDQJCg4DQICA0CAgNAkKDgNAgIDQICA0CQoOA0CAgNAgIDQJCg4DQICA0CAgNAkKDgNAgIDQICA0CQoOA0CAgNAgIDQJCg4DQICA0CAgNAkKDgNAgIDQICA0CQoOA0CAgNAgIDQJCg4DQICA0CAgNAkKDgNAgIDQICA0CQoOA0CCwuL5/8j17xAhvd2ezJwyztro8ewK/5KNBQGgQEBoEhAYBoUFAaBAQGgSEBgGhQUBoEBAaBIQGAaFBQGgQEBoEhAYBoUFAaBAQGgSEBgGhQUBoEBAaBIQGAaFBQGgQEBoEhAYBoUFAaBAQGgSEBgGhQUBoEBAaBIQGAaFBQGgQEBoEhAYBoUFAaBAQGgSEBgGhQUBoEBAaBIQGAaFBQGgQEBoEhAYBoUHgB5D6GWvpyhe6AAAAAElFTkSuQmCC\" y=\"-21.758125\"/>\r\n   </g>\r\n   <g id=\"matplotlib.axis_1\">\r\n    <g id=\"xtick_1\">\r\n     <g id=\"line2d_1\">\r\n      <defs>\r\n       <path d=\"M 0 0 \r\nL 0 3.5 \r\n\" id=\"m342d4f63b3\" style=\"stroke:#000000;stroke-width:0.8;\"/>\r\n      </defs>\r\n      <g>\r\n       <use style=\"stroke:#000000;stroke-width:0.8;\" x=\"140.4925\" xlink:href=\"#m342d4f63b3\" y=\"239.758125\"/>\r\n      </g>\r\n     </g>\r\n     <g id=\"text_1\">\r\n      <!-- Analytical Report -->\r\n      <g transform=\"translate(97.775313 254.356562)scale(0.1 -0.1)\">\r\n       <defs>\r\n        <path d=\"M 34.1875 63.1875 \r\nL 20.796875 26.90625 \r\nL 47.609375 26.90625 \r\nz\r\nM 28.609375 72.90625 \r\nL 39.796875 72.90625 \r\nL 67.578125 0 \r\nL 57.328125 0 \r\nL 50.6875 18.703125 \r\nL 17.828125 18.703125 \r\nL 11.1875 0 \r\nL 0.78125 0 \r\nz\r\n\" id=\"DejaVuSans-65\"/>\r\n        <path d=\"M 54.890625 33.015625 \r\nL 54.890625 0 \r\nL 45.90625 0 \r\nL 45.90625 32.71875 \r\nQ 45.90625 40.484375 42.875 44.328125 \r\nQ 39.84375 48.1875 33.796875 48.1875 \r\nQ 26.515625 48.1875 22.3125 43.546875 \r\nQ 18.109375 38.921875 18.109375 30.90625 \r\nL 18.109375 0 \r\nL 9.078125 0 \r\nL 9.078125 54.6875 \r\nL 18.109375 54.6875 \r\nL 18.109375 46.1875 \r\nQ 21.34375 51.125 25.703125 53.5625 \r\nQ 30.078125 56 35.796875 56 \r\nQ 45.21875 56 50.046875 50.171875 \r\nQ 54.890625 44.34375 54.890625 33.015625 \r\nz\r\n\" id=\"DejaVuSans-110\"/>\r\n        <path d=\"M 34.28125 27.484375 \r\nQ 23.390625 27.484375 19.1875 25 \r\nQ 14.984375 22.515625 14.984375 16.5 \r\nQ 14.984375 11.71875 18.140625 8.90625 \r\nQ 21.296875 6.109375 26.703125 6.109375 \r\nQ 34.1875 6.109375 38.703125 11.40625 \r\nQ 43.21875 16.703125 43.21875 25.484375 \r\nL 43.21875 27.484375 \r\nz\r\nM 52.203125 31.203125 \r\nL 52.203125 0 \r\nL 43.21875 0 \r\nL 43.21875 8.296875 \r\nQ 40.140625 3.328125 35.546875 0.953125 \r\nQ 30.953125 -1.421875 24.3125 -1.421875 \r\nQ 15.921875 -1.421875 10.953125 3.296875 \r\nQ 6 8.015625 6 15.921875 \r\nQ 6 25.140625 12.171875 29.828125 \r\nQ 18.359375 34.515625 30.609375 34.515625 \r\nL 43.21875 34.515625 \r\nL 43.21875 35.40625 \r\nQ 43.21875 41.609375 39.140625 45 \r\nQ 35.0625 48.390625 27.6875 48.390625 \r\nQ 23 48.390625 18.546875 47.265625 \r\nQ 14.109375 46.140625 10.015625 43.890625 \r\nL 10.015625 52.203125 \r\nQ 14.9375 54.109375 19.578125 55.046875 \r\nQ 24.21875 56 28.609375 56 \r\nQ 40.484375 56 46.34375 49.84375 \r\nQ 52.203125 43.703125 52.203125 31.203125 \r\nz\r\n\" id=\"DejaVuSans-97\"/>\r\n        <path d=\"M 9.421875 75.984375 \r\nL 18.40625 75.984375 \r\nL 18.40625 0 \r\nL 9.421875 0 \r\nz\r\n\" id=\"DejaVuSans-108\"/>\r\n        <path d=\"M 32.171875 -5.078125 \r\nQ 28.375 -14.84375 24.75 -17.8125 \r\nQ 21.140625 -20.796875 15.09375 -20.796875 \r\nL 7.90625 -20.796875 \r\nL 7.90625 -13.28125 \r\nL 13.1875 -13.28125 \r\nQ 16.890625 -13.28125 18.9375 -11.515625 \r\nQ 21 -9.765625 23.484375 -3.21875 \r\nL 25.09375 0.875 \r\nL 2.984375 54.6875 \r\nL 12.5 54.6875 \r\nL 29.59375 11.921875 \r\nL 46.6875 54.6875 \r\nL 56.203125 54.6875 \r\nz\r\n\" id=\"DejaVuSans-121\"/>\r\n        <path d=\"M 18.3125 70.21875 \r\nL 18.3125 54.6875 \r\nL 36.8125 54.6875 \r\nL 36.8125 47.703125 \r\nL 18.3125 47.703125 \r\nL 18.3125 18.015625 \r\nQ 18.3125 11.328125 20.140625 9.421875 \r\nQ 21.96875 7.515625 27.59375 7.515625 \r\nL 36.8125 7.515625 \r\nL 36.8125 0 \r\nL 27.59375 0 \r\nQ 17.1875 0 13.234375 3.875 \r\nQ 9.28125 7.765625 9.28125 18.015625 \r\nL 9.28125 47.703125 \r\nL 2.6875 47.703125 \r\nL 2.6875 54.6875 \r\nL 9.28125 54.6875 \r\nL 9.28125 70.21875 \r\nz\r\n\" id=\"DejaVuSans-116\"/>\r\n        <path d=\"M 9.421875 54.6875 \r\nL 18.40625 54.6875 \r\nL 18.40625 0 \r\nL 9.421875 0 \r\nz\r\nM 9.421875 75.984375 \r\nL 18.40625 75.984375 \r\nL 18.40625 64.59375 \r\nL 9.421875 64.59375 \r\nz\r\n\" id=\"DejaVuSans-105\"/>\r\n        <path d=\"M 48.78125 52.59375 \r\nL 48.78125 44.1875 \r\nQ 44.96875 46.296875 41.140625 47.34375 \r\nQ 37.3125 48.390625 33.40625 48.390625 \r\nQ 24.65625 48.390625 19.8125 42.84375 \r\nQ 14.984375 37.3125 14.984375 27.296875 \r\nQ 14.984375 17.28125 19.8125 11.734375 \r\nQ 24.65625 6.203125 33.40625 6.203125 \r\nQ 37.3125 6.203125 41.140625 7.25 \r\nQ 44.96875 8.296875 48.78125 10.40625 \r\nL 48.78125 2.09375 \r\nQ 45.015625 0.34375 40.984375 -0.53125 \r\nQ 36.96875 -1.421875 32.421875 -1.421875 \r\nQ 20.0625 -1.421875 12.78125 6.34375 \r\nQ 5.515625 14.109375 5.515625 27.296875 \r\nQ 5.515625 40.671875 12.859375 48.328125 \r\nQ 20.21875 56 33.015625 56 \r\nQ 37.15625 56 41.109375 55.140625 \r\nQ 45.0625 54.296875 48.78125 52.59375 \r\nz\r\n\" id=\"DejaVuSans-99\"/>\r\n        <path id=\"DejaVuSans-32\"/>\r\n        <path d=\"M 44.390625 34.1875 \r\nQ 47.5625 33.109375 50.5625 29.59375 \r\nQ 53.5625 26.078125 56.59375 19.921875 \r\nL 66.609375 0 \r\nL 56 0 \r\nL 46.6875 18.703125 \r\nQ 43.0625 26.03125 39.671875 28.421875 \r\nQ 36.28125 30.8125 30.421875 30.8125 \r\nL 19.671875 30.8125 \r\nL 19.671875 0 \r\nL 9.8125 0 \r\nL 9.8125 72.90625 \r\nL 32.078125 72.90625 \r\nQ 44.578125 72.90625 50.734375 67.671875 \r\nQ 56.890625 62.453125 56.890625 51.90625 \r\nQ 56.890625 45.015625 53.6875 40.46875 \r\nQ 50.484375 35.9375 44.390625 34.1875 \r\nz\r\nM 19.671875 64.796875 \r\nL 19.671875 38.921875 \r\nL 32.078125 38.921875 \r\nQ 39.203125 38.921875 42.84375 42.21875 \r\nQ 46.484375 45.515625 46.484375 51.90625 \r\nQ 46.484375 58.296875 42.84375 61.546875 \r\nQ 39.203125 64.796875 32.078125 64.796875 \r\nz\r\n\" id=\"DejaVuSans-82\"/>\r\n        <path d=\"M 56.203125 29.59375 \r\nL 56.203125 25.203125 \r\nL 14.890625 25.203125 \r\nQ 15.484375 15.921875 20.484375 11.0625 \r\nQ 25.484375 6.203125 34.421875 6.203125 \r\nQ 39.59375 6.203125 44.453125 7.46875 \r\nQ 49.3125 8.734375 54.109375 11.28125 \r\nL 54.109375 2.78125 \r\nQ 49.265625 0.734375 44.1875 -0.34375 \r\nQ 39.109375 -1.421875 33.890625 -1.421875 \r\nQ 20.796875 -1.421875 13.15625 6.1875 \r\nQ 5.515625 13.8125 5.515625 26.8125 \r\nQ 5.515625 40.234375 12.765625 48.109375 \r\nQ 20.015625 56 32.328125 56 \r\nQ 43.359375 56 49.78125 48.890625 \r\nQ 56.203125 41.796875 56.203125 29.59375 \r\nz\r\nM 47.21875 32.234375 \r\nQ 47.125 39.59375 43.09375 43.984375 \r\nQ 39.0625 48.390625 32.421875 48.390625 \r\nQ 24.90625 48.390625 20.390625 44.140625 \r\nQ 15.875 39.890625 15.1875 32.171875 \r\nz\r\n\" id=\"DejaVuSans-101\"/>\r\n        <path d=\"M 18.109375 8.203125 \r\nL 18.109375 -20.796875 \r\nL 9.078125 -20.796875 \r\nL 9.078125 54.6875 \r\nL 18.109375 54.6875 \r\nL 18.109375 46.390625 \r\nQ 20.953125 51.265625 25.265625 53.625 \r\nQ 29.59375 56 35.59375 56 \r\nQ 45.5625 56 51.78125 48.09375 \r\nQ 58.015625 40.1875 58.015625 27.296875 \r\nQ 58.015625 14.40625 51.78125 6.484375 \r\nQ 45.5625 -1.421875 35.59375 -1.421875 \r\nQ 29.59375 -1.421875 25.265625 0.953125 \r\nQ 20.953125 3.328125 18.109375 8.203125 \r\nz\r\nM 48.6875 27.296875 \r\nQ 48.6875 37.203125 44.609375 42.84375 \r\nQ 40.53125 48.484375 33.40625 48.484375 \r\nQ 26.265625 48.484375 22.1875 42.84375 \r\nQ 18.109375 37.203125 18.109375 27.296875 \r\nQ 18.109375 17.390625 22.1875 11.75 \r\nQ 26.265625 6.109375 33.40625 6.109375 \r\nQ 40.53125 6.109375 44.609375 11.75 \r\nQ 48.6875 17.390625 48.6875 27.296875 \r\nz\r\n\" id=\"DejaVuSans-112\"/>\r\n        <path d=\"M 30.609375 48.390625 \r\nQ 23.390625 48.390625 19.1875 42.75 \r\nQ 14.984375 37.109375 14.984375 27.296875 \r\nQ 14.984375 17.484375 19.15625 11.84375 \r\nQ 23.34375 6.203125 30.609375 6.203125 \r\nQ 37.796875 6.203125 41.984375 11.859375 \r\nQ 46.1875 17.53125 46.1875 27.296875 \r\nQ 46.1875 37.015625 41.984375 42.703125 \r\nQ 37.796875 48.390625 30.609375 48.390625 \r\nz\r\nM 30.609375 56 \r\nQ 42.328125 56 49.015625 48.375 \r\nQ 55.71875 40.765625 55.71875 27.296875 \r\nQ 55.71875 13.875 49.015625 6.21875 \r\nQ 42.328125 -1.421875 30.609375 -1.421875 \r\nQ 18.84375 -1.421875 12.171875 6.21875 \r\nQ 5.515625 13.875 5.515625 27.296875 \r\nQ 5.515625 40.765625 12.171875 48.375 \r\nQ 18.84375 56 30.609375 56 \r\nz\r\n\" id=\"DejaVuSans-111\"/>\r\n        <path d=\"M 41.109375 46.296875 \r\nQ 39.59375 47.171875 37.8125 47.578125 \r\nQ 36.03125 48 33.890625 48 \r\nQ 26.265625 48 22.1875 43.046875 \r\nQ 18.109375 38.09375 18.109375 28.8125 \r\nL 18.109375 0 \r\nL 9.078125 0 \r\nL 9.078125 54.6875 \r\nL 18.109375 54.6875 \r\nL 18.109375 46.1875 \r\nQ 20.953125 51.171875 25.484375 53.578125 \r\nQ 30.03125 56 36.53125 56 \r\nQ 37.453125 56 38.578125 55.875 \r\nQ 39.703125 55.765625 41.0625 55.515625 \r\nz\r\n\" id=\"DejaVuSans-114\"/>\r\n       </defs>\r\n       <use xlink:href=\"#DejaVuSans-65\"/>\r\n       <use x=\"68.408203\" xlink:href=\"#DejaVuSans-110\"/>\r\n       <use x=\"131.787109\" xlink:href=\"#DejaVuSans-97\"/>\r\n       <use x=\"193.066406\" xlink:href=\"#DejaVuSans-108\"/>\r\n       <use x=\"220.849609\" xlink:href=\"#DejaVuSans-121\"/>\r\n       <use x=\"280.029297\" xlink:href=\"#DejaVuSans-116\"/>\r\n       <use x=\"319.238281\" xlink:href=\"#DejaVuSans-105\"/>\r\n       <use x=\"347.021484\" xlink:href=\"#DejaVuSans-99\"/>\r\n       <use x=\"402.001953\" xlink:href=\"#DejaVuSans-97\"/>\r\n       <use x=\"463.28125\" xlink:href=\"#DejaVuSans-108\"/>\r\n       <use x=\"491.064453\" xlink:href=\"#DejaVuSans-32\"/>\r\n       <use x=\"522.851562\" xlink:href=\"#DejaVuSans-82\"/>\r\n       <use x=\"587.833984\" xlink:href=\"#DejaVuSans-101\"/>\r\n       <use x=\"649.357422\" xlink:href=\"#DejaVuSans-112\"/>\r\n       <use x=\"712.833984\" xlink:href=\"#DejaVuSans-111\"/>\r\n       <use x=\"774.015625\" xlink:href=\"#DejaVuSans-114\"/>\r\n       <use x=\"815.128906\" xlink:href=\"#DejaVuSans-116\"/>\r\n      </g>\r\n     </g>\r\n    </g>\r\n    <g id=\"xtick_2\">\r\n     <g id=\"line2d_2\">\r\n      <g>\r\n       <use style=\"stroke:#000000;stroke-width:0.8;\" x=\"194.8525\" xlink:href=\"#m342d4f63b3\" y=\"239.758125\"/>\r\n      </g>\r\n     </g>\r\n     <g id=\"text_2\">\r\n      <!-- Incident Report -->\r\n      <g transform=\"translate(156.526719 254.356562)scale(0.1 -0.1)\">\r\n       <defs>\r\n        <path d=\"M 9.8125 72.90625 \r\nL 19.671875 72.90625 \r\nL 19.671875 0 \r\nL 9.8125 0 \r\nz\r\n\" id=\"DejaVuSans-73\"/>\r\n        <path d=\"M 45.40625 46.390625 \r\nL 45.40625 75.984375 \r\nL 54.390625 75.984375 \r\nL 54.390625 0 \r\nL 45.40625 0 \r\nL 45.40625 8.203125 \r\nQ 42.578125 3.328125 38.25 0.953125 \r\nQ 33.9375 -1.421875 27.875 -1.421875 \r\nQ 17.96875 -1.421875 11.734375 6.484375 \r\nQ 5.515625 14.40625 5.515625 27.296875 \r\nQ 5.515625 40.1875 11.734375 48.09375 \r\nQ 17.96875 56 27.875 56 \r\nQ 33.9375 56 38.25 53.625 \r\nQ 42.578125 51.265625 45.40625 46.390625 \r\nz\r\nM 14.796875 27.296875 \r\nQ 14.796875 17.390625 18.875 11.75 \r\nQ 22.953125 6.109375 30.078125 6.109375 \r\nQ 37.203125 6.109375 41.296875 11.75 \r\nQ 45.40625 17.390625 45.40625 27.296875 \r\nQ 45.40625 37.203125 41.296875 42.84375 \r\nQ 37.203125 48.484375 30.078125 48.484375 \r\nQ 22.953125 48.484375 18.875 42.84375 \r\nQ 14.796875 37.203125 14.796875 27.296875 \r\nz\r\n\" id=\"DejaVuSans-100\"/>\r\n       </defs>\r\n       <use xlink:href=\"#DejaVuSans-73\"/>\r\n       <use x=\"29.492188\" xlink:href=\"#DejaVuSans-110\"/>\r\n       <use x=\"92.871094\" xlink:href=\"#DejaVuSans-99\"/>\r\n       <use x=\"147.851562\" xlink:href=\"#DejaVuSans-105\"/>\r\n       <use x=\"175.634766\" xlink:href=\"#DejaVuSans-100\"/>\r\n       <use x=\"239.111328\" xlink:href=\"#DejaVuSans-101\"/>\r\n       <use x=\"300.634766\" xlink:href=\"#DejaVuSans-110\"/>\r\n       <use x=\"364.013672\" xlink:href=\"#DejaVuSans-116\"/>\r\n       <use x=\"403.222656\" xlink:href=\"#DejaVuSans-32\"/>\r\n       <use x=\"435.009766\" xlink:href=\"#DejaVuSans-82\"/>\r\n       <use x=\"499.992188\" xlink:href=\"#DejaVuSans-101\"/>\r\n       <use x=\"561.515625\" xlink:href=\"#DejaVuSans-112\"/>\r\n       <use x=\"624.992188\" xlink:href=\"#DejaVuSans-111\"/>\r\n       <use x=\"686.173828\" xlink:href=\"#DejaVuSans-114\"/>\r\n       <use x=\"727.287109\" xlink:href=\"#DejaVuSans-116\"/>\r\n      </g>\r\n     </g>\r\n    </g>\r\n    <g id=\"xtick_3\">\r\n     <g id=\"line2d_3\">\r\n      <g>\r\n       <use style=\"stroke:#000000;stroke-width:0.8;\" x=\"249.2125\" xlink:href=\"#m342d4f63b3\" y=\"239.758125\"/>\r\n      </g>\r\n     </g>\r\n     <g id=\"text_3\">\r\n      <!-- Profile Report -->\r\n      <g transform=\"translate(215.503906 254.356562)scale(0.1 -0.1)\">\r\n       <defs>\r\n        <path d=\"M 19.671875 64.796875 \r\nL 19.671875 37.40625 \r\nL 32.078125 37.40625 \r\nQ 38.96875 37.40625 42.71875 40.96875 \r\nQ 46.484375 44.53125 46.484375 51.125 \r\nQ 46.484375 57.671875 42.71875 61.234375 \r\nQ 38.96875 64.796875 32.078125 64.796875 \r\nz\r\nM 9.8125 72.90625 \r\nL 32.078125 72.90625 \r\nQ 44.34375 72.90625 50.609375 67.359375 \r\nQ 56.890625 61.8125 56.890625 51.125 \r\nQ 56.890625 40.328125 50.609375 34.8125 \r\nQ 44.34375 29.296875 32.078125 29.296875 \r\nL 19.671875 29.296875 \r\nL 19.671875 0 \r\nL 9.8125 0 \r\nz\r\n\" id=\"DejaVuSans-80\"/>\r\n        <path d=\"M 37.109375 75.984375 \r\nL 37.109375 68.5 \r\nL 28.515625 68.5 \r\nQ 23.6875 68.5 21.796875 66.546875 \r\nQ 19.921875 64.59375 19.921875 59.515625 \r\nL 19.921875 54.6875 \r\nL 34.71875 54.6875 \r\nL 34.71875 47.703125 \r\nL 19.921875 47.703125 \r\nL 19.921875 0 \r\nL 10.890625 0 \r\nL 10.890625 47.703125 \r\nL 2.296875 47.703125 \r\nL 2.296875 54.6875 \r\nL 10.890625 54.6875 \r\nL 10.890625 58.5 \r\nQ 10.890625 67.625 15.140625 71.796875 \r\nQ 19.390625 75.984375 28.609375 75.984375 \r\nz\r\n\" id=\"DejaVuSans-102\"/>\r\n       </defs>\r\n       <use xlink:href=\"#DejaVuSans-80\"/>\r\n       <use x=\"58.552734\" xlink:href=\"#DejaVuSans-114\"/>\r\n       <use x=\"97.416016\" xlink:href=\"#DejaVuSans-111\"/>\r\n       <use x=\"158.597656\" xlink:href=\"#DejaVuSans-102\"/>\r\n       <use x=\"193.802734\" xlink:href=\"#DejaVuSans-105\"/>\r\n       <use x=\"221.585938\" xlink:href=\"#DejaVuSans-108\"/>\r\n       <use x=\"249.369141\" xlink:href=\"#DejaVuSans-101\"/>\r\n       <use x=\"310.892578\" xlink:href=\"#DejaVuSans-32\"/>\r\n       <use x=\"342.679688\" xlink:href=\"#DejaVuSans-82\"/>\r\n       <use x=\"407.662109\" xlink:href=\"#DejaVuSans-101\"/>\r\n       <use x=\"469.185547\" xlink:href=\"#DejaVuSans-112\"/>\r\n       <use x=\"532.662109\" xlink:href=\"#DejaVuSans-111\"/>\r\n       <use x=\"593.84375\" xlink:href=\"#DejaVuSans-114\"/>\r\n       <use x=\"634.957031\" xlink:href=\"#DejaVuSans-116\"/>\r\n      </g>\r\n     </g>\r\n    </g>\r\n    <g id=\"xtick_4\">\r\n     <g id=\"line2d_4\">\r\n      <g>\r\n       <use style=\"stroke:#000000;stroke-width:0.8;\" x=\"303.5725\" xlink:href=\"#m342d4f63b3\" y=\"239.758125\"/>\r\n      </g>\r\n     </g>\r\n     <g id=\"text_4\">\r\n      <!-- Situation Report -->\r\n      <g transform=\"translate(263.074844 254.356562)scale(0.1 -0.1)\">\r\n       <defs>\r\n        <path d=\"M 53.515625 70.515625 \r\nL 53.515625 60.890625 \r\nQ 47.90625 63.578125 42.921875 64.890625 \r\nQ 37.9375 66.21875 33.296875 66.21875 \r\nQ 25.25 66.21875 20.875 63.09375 \r\nQ 16.5 59.96875 16.5 54.203125 \r\nQ 16.5 49.359375 19.40625 46.890625 \r\nQ 22.3125 44.4375 30.421875 42.921875 \r\nL 36.375 41.703125 \r\nQ 47.40625 39.59375 52.65625 34.296875 \r\nQ 57.90625 29 57.90625 20.125 \r\nQ 57.90625 9.515625 50.796875 4.046875 \r\nQ 43.703125 -1.421875 29.984375 -1.421875 \r\nQ 24.8125 -1.421875 18.96875 -0.25 \r\nQ 13.140625 0.921875 6.890625 3.21875 \r\nL 6.890625 13.375 \r\nQ 12.890625 10.015625 18.65625 8.296875 \r\nQ 24.421875 6.59375 29.984375 6.59375 \r\nQ 38.421875 6.59375 43.015625 9.90625 \r\nQ 47.609375 13.234375 47.609375 19.390625 \r\nQ 47.609375 24.75 44.3125 27.78125 \r\nQ 41.015625 30.8125 33.5 32.328125 \r\nL 27.484375 33.5 \r\nQ 16.453125 35.6875 11.515625 40.375 \r\nQ 6.59375 45.0625 6.59375 53.421875 \r\nQ 6.59375 63.09375 13.40625 68.65625 \r\nQ 20.21875 74.21875 32.171875 74.21875 \r\nQ 37.3125 74.21875 42.625 73.28125 \r\nQ 47.953125 72.359375 53.515625 70.515625 \r\nz\r\n\" id=\"DejaVuSans-83\"/>\r\n        <path d=\"M 8.5 21.578125 \r\nL 8.5 54.6875 \r\nL 17.484375 54.6875 \r\nL 17.484375 21.921875 \r\nQ 17.484375 14.15625 20.5 10.265625 \r\nQ 23.53125 6.390625 29.59375 6.390625 \r\nQ 36.859375 6.390625 41.078125 11.03125 \r\nQ 45.3125 15.671875 45.3125 23.6875 \r\nL 45.3125 54.6875 \r\nL 54.296875 54.6875 \r\nL 54.296875 0 \r\nL 45.3125 0 \r\nL 45.3125 8.40625 \r\nQ 42.046875 3.421875 37.71875 1 \r\nQ 33.40625 -1.421875 27.6875 -1.421875 \r\nQ 18.265625 -1.421875 13.375 4.4375 \r\nQ 8.5 10.296875 8.5 21.578125 \r\nz\r\nM 31.109375 56 \r\nz\r\n\" id=\"DejaVuSans-117\"/>\r\n       </defs>\r\n       <use xlink:href=\"#DejaVuSans-83\"/>\r\n       <use x=\"63.476562\" xlink:href=\"#DejaVuSans-105\"/>\r\n       <use x=\"91.259766\" xlink:href=\"#DejaVuSans-116\"/>\r\n       <use x=\"130.46875\" xlink:href=\"#DejaVuSans-117\"/>\r\n       <use x=\"193.847656\" xlink:href=\"#DejaVuSans-97\"/>\r\n       <use x=\"255.126953\" xlink:href=\"#DejaVuSans-116\"/>\r\n       <use x=\"294.335938\" xlink:href=\"#DejaVuSans-105\"/>\r\n       <use x=\"322.119141\" xlink:href=\"#DejaVuSans-111\"/>\r\n       <use x=\"383.300781\" xlink:href=\"#DejaVuSans-110\"/>\r\n       <use x=\"446.679688\" xlink:href=\"#DejaVuSans-32\"/>\r\n       <use x=\"478.466797\" xlink:href=\"#DejaVuSans-82\"/>\r\n       <use x=\"543.449219\" xlink:href=\"#DejaVuSans-101\"/>\r\n       <use x=\"604.972656\" xlink:href=\"#DejaVuSans-112\"/>\r\n       <use x=\"668.449219\" xlink:href=\"#DejaVuSans-111\"/>\r\n       <use x=\"729.630859\" xlink:href=\"#DejaVuSans-114\"/>\r\n       <use x=\"770.744141\" xlink:href=\"#DejaVuSans-116\"/>\r\n      </g>\r\n     </g>\r\n    </g>\r\n    <g id=\"text_5\">\r\n     <!-- Predicted label -->\r\n     <g transform=\"translate(184.880156 268.034687)scale(0.1 -0.1)\">\r\n      <defs>\r\n       <path d=\"M 48.6875 27.296875 \r\nQ 48.6875 37.203125 44.609375 42.84375 \r\nQ 40.53125 48.484375 33.40625 48.484375 \r\nQ 26.265625 48.484375 22.1875 42.84375 \r\nQ 18.109375 37.203125 18.109375 27.296875 \r\nQ 18.109375 17.390625 22.1875 11.75 \r\nQ 26.265625 6.109375 33.40625 6.109375 \r\nQ 40.53125 6.109375 44.609375 11.75 \r\nQ 48.6875 17.390625 48.6875 27.296875 \r\nz\r\nM 18.109375 46.390625 \r\nQ 20.953125 51.265625 25.265625 53.625 \r\nQ 29.59375 56 35.59375 56 \r\nQ 45.5625 56 51.78125 48.09375 \r\nQ 58.015625 40.1875 58.015625 27.296875 \r\nQ 58.015625 14.40625 51.78125 6.484375 \r\nQ 45.5625 -1.421875 35.59375 -1.421875 \r\nQ 29.59375 -1.421875 25.265625 0.953125 \r\nQ 20.953125 3.328125 18.109375 8.203125 \r\nL 18.109375 0 \r\nL 9.078125 0 \r\nL 9.078125 75.984375 \r\nL 18.109375 75.984375 \r\nz\r\n\" id=\"DejaVuSans-98\"/>\r\n      </defs>\r\n      <use xlink:href=\"#DejaVuSans-80\"/>\r\n      <use x=\"58.552734\" xlink:href=\"#DejaVuSans-114\"/>\r\n      <use x=\"97.416016\" xlink:href=\"#DejaVuSans-101\"/>\r\n      <use x=\"158.939453\" xlink:href=\"#DejaVuSans-100\"/>\r\n      <use x=\"222.416016\" xlink:href=\"#DejaVuSans-105\"/>\r\n      <use x=\"250.199219\" xlink:href=\"#DejaVuSans-99\"/>\r\n      <use x=\"305.179688\" xlink:href=\"#DejaVuSans-116\"/>\r\n      <use x=\"344.388672\" xlink:href=\"#DejaVuSans-101\"/>\r\n      <use x=\"405.912109\" xlink:href=\"#DejaVuSans-100\"/>\r\n      <use x=\"469.388672\" xlink:href=\"#DejaVuSans-32\"/>\r\n      <use x=\"501.175781\" xlink:href=\"#DejaVuSans-108\"/>\r\n      <use x=\"528.958984\" xlink:href=\"#DejaVuSans-97\"/>\r\n      <use x=\"590.238281\" xlink:href=\"#DejaVuSans-98\"/>\r\n      <use x=\"653.714844\" xlink:href=\"#DejaVuSans-101\"/>\r\n      <use x=\"715.238281\" xlink:href=\"#DejaVuSans-108\"/>\r\n     </g>\r\n    </g>\r\n   </g>\r\n   <g id=\"matplotlib.axis_2\">\r\n    <g id=\"ytick_1\">\r\n     <g id=\"line2d_5\">\r\n      <defs>\r\n       <path d=\"M 0 0 \r\nL -3.5 0 \r\n\" id=\"m6e6787e75f\" style=\"stroke:#000000;stroke-width:0.8;\"/>\r\n      </defs>\r\n      <g>\r\n       <use style=\"stroke:#000000;stroke-width:0.8;\" x=\"113.3125\" xlink:href=\"#m6e6787e75f\" y=\"49.498125\"/>\r\n      </g>\r\n     </g>\r\n     <g id=\"text_6\">\r\n      <!-- Analytical Report -->\r\n      <g transform=\"translate(20.878125 53.297344)scale(0.1 -0.1)\">\r\n       <use xlink:href=\"#DejaVuSans-65\"/>\r\n       <use x=\"68.408203\" xlink:href=\"#DejaVuSans-110\"/>\r\n       <use x=\"131.787109\" xlink:href=\"#DejaVuSans-97\"/>\r\n       <use x=\"193.066406\" xlink:href=\"#DejaVuSans-108\"/>\r\n       <use x=\"220.849609\" xlink:href=\"#DejaVuSans-121\"/>\r\n       <use x=\"280.029297\" xlink:href=\"#DejaVuSans-116\"/>\r\n       <use x=\"319.238281\" xlink:href=\"#DejaVuSans-105\"/>\r\n       <use x=\"347.021484\" xlink:href=\"#DejaVuSans-99\"/>\r\n       <use x=\"402.001953\" xlink:href=\"#DejaVuSans-97\"/>\r\n       <use x=\"463.28125\" xlink:href=\"#DejaVuSans-108\"/>\r\n       <use x=\"491.064453\" xlink:href=\"#DejaVuSans-32\"/>\r\n       <use x=\"522.851562\" xlink:href=\"#DejaVuSans-82\"/>\r\n       <use x=\"587.833984\" xlink:href=\"#DejaVuSans-101\"/>\r\n       <use x=\"649.357422\" xlink:href=\"#DejaVuSans-112\"/>\r\n       <use x=\"712.833984\" xlink:href=\"#DejaVuSans-111\"/>\r\n       <use x=\"774.015625\" xlink:href=\"#DejaVuSans-114\"/>\r\n       <use x=\"815.128906\" xlink:href=\"#DejaVuSans-116\"/>\r\n      </g>\r\n     </g>\r\n    </g>\r\n    <g id=\"ytick_2\">\r\n     <g id=\"line2d_6\">\r\n      <g>\r\n       <use style=\"stroke:#000000;stroke-width:0.8;\" x=\"113.3125\" xlink:href=\"#m6e6787e75f\" y=\"103.858125\"/>\r\n      </g>\r\n     </g>\r\n     <g id=\"text_7\">\r\n      <!-- Incident Report -->\r\n      <g transform=\"translate(29.660938 107.657344)scale(0.1 -0.1)\">\r\n       <use xlink:href=\"#DejaVuSans-73\"/>\r\n       <use x=\"29.492188\" xlink:href=\"#DejaVuSans-110\"/>\r\n       <use x=\"92.871094\" xlink:href=\"#DejaVuSans-99\"/>\r\n       <use x=\"147.851562\" xlink:href=\"#DejaVuSans-105\"/>\r\n       <use x=\"175.634766\" xlink:href=\"#DejaVuSans-100\"/>\r\n       <use x=\"239.111328\" xlink:href=\"#DejaVuSans-101\"/>\r\n       <use x=\"300.634766\" xlink:href=\"#DejaVuSans-110\"/>\r\n       <use x=\"364.013672\" xlink:href=\"#DejaVuSans-116\"/>\r\n       <use x=\"403.222656\" xlink:href=\"#DejaVuSans-32\"/>\r\n       <use x=\"435.009766\" xlink:href=\"#DejaVuSans-82\"/>\r\n       <use x=\"499.992188\" xlink:href=\"#DejaVuSans-101\"/>\r\n       <use x=\"561.515625\" xlink:href=\"#DejaVuSans-112\"/>\r\n       <use x=\"624.992188\" xlink:href=\"#DejaVuSans-111\"/>\r\n       <use x=\"686.173828\" xlink:href=\"#DejaVuSans-114\"/>\r\n       <use x=\"727.287109\" xlink:href=\"#DejaVuSans-116\"/>\r\n      </g>\r\n     </g>\r\n    </g>\r\n    <g id=\"ytick_3\">\r\n     <g id=\"line2d_7\">\r\n      <g>\r\n       <use style=\"stroke:#000000;stroke-width:0.8;\" x=\"113.3125\" xlink:href=\"#m6e6787e75f\" y=\"158.218125\"/>\r\n      </g>\r\n     </g>\r\n     <g id=\"text_8\">\r\n      <!-- Profile Report -->\r\n      <g transform=\"translate(38.895313 162.017344)scale(0.1 -0.1)\">\r\n       <use xlink:href=\"#DejaVuSans-80\"/>\r\n       <use x=\"58.552734\" xlink:href=\"#DejaVuSans-114\"/>\r\n       <use x=\"97.416016\" xlink:href=\"#DejaVuSans-111\"/>\r\n       <use x=\"158.597656\" xlink:href=\"#DejaVuSans-102\"/>\r\n       <use x=\"193.802734\" xlink:href=\"#DejaVuSans-105\"/>\r\n       <use x=\"221.585938\" xlink:href=\"#DejaVuSans-108\"/>\r\n       <use x=\"249.369141\" xlink:href=\"#DejaVuSans-101\"/>\r\n       <use x=\"310.892578\" xlink:href=\"#DejaVuSans-32\"/>\r\n       <use x=\"342.679688\" xlink:href=\"#DejaVuSans-82\"/>\r\n       <use x=\"407.662109\" xlink:href=\"#DejaVuSans-101\"/>\r\n       <use x=\"469.185547\" xlink:href=\"#DejaVuSans-112\"/>\r\n       <use x=\"532.662109\" xlink:href=\"#DejaVuSans-111\"/>\r\n       <use x=\"593.84375\" xlink:href=\"#DejaVuSans-114\"/>\r\n       <use x=\"634.957031\" xlink:href=\"#DejaVuSans-116\"/>\r\n      </g>\r\n     </g>\r\n    </g>\r\n    <g id=\"ytick_4\">\r\n     <g id=\"line2d_8\">\r\n      <g>\r\n       <use style=\"stroke:#000000;stroke-width:0.8;\" x=\"113.3125\" xlink:href=\"#m6e6787e75f\" y=\"212.578125\"/>\r\n      </g>\r\n     </g>\r\n     <g id=\"text_9\">\r\n      <!-- Situation Report -->\r\n      <g transform=\"translate(25.317187 216.377344)scale(0.1 -0.1)\">\r\n       <use xlink:href=\"#DejaVuSans-83\"/>\r\n       <use x=\"63.476562\" xlink:href=\"#DejaVuSans-105\"/>\r\n       <use x=\"91.259766\" xlink:href=\"#DejaVuSans-116\"/>\r\n       <use x=\"130.46875\" xlink:href=\"#DejaVuSans-117\"/>\r\n       <use x=\"193.847656\" xlink:href=\"#DejaVuSans-97\"/>\r\n       <use x=\"255.126953\" xlink:href=\"#DejaVuSans-116\"/>\r\n       <use x=\"294.335938\" xlink:href=\"#DejaVuSans-105\"/>\r\n       <use x=\"322.119141\" xlink:href=\"#DejaVuSans-111\"/>\r\n       <use x=\"383.300781\" xlink:href=\"#DejaVuSans-110\"/>\r\n       <use x=\"446.679688\" xlink:href=\"#DejaVuSans-32\"/>\r\n       <use x=\"478.466797\" xlink:href=\"#DejaVuSans-82\"/>\r\n       <use x=\"543.449219\" xlink:href=\"#DejaVuSans-101\"/>\r\n       <use x=\"604.972656\" xlink:href=\"#DejaVuSans-112\"/>\r\n       <use x=\"668.449219\" xlink:href=\"#DejaVuSans-111\"/>\r\n       <use x=\"729.630859\" xlink:href=\"#DejaVuSans-114\"/>\r\n       <use x=\"770.744141\" xlink:href=\"#DejaVuSans-116\"/>\r\n      </g>\r\n     </g>\r\n    </g>\r\n    <g id=\"text_10\">\r\n     <!-- True label -->\r\n     <g transform=\"translate(14.798437 155.337344)rotate(-90)scale(0.1 -0.1)\">\r\n      <defs>\r\n       <path d=\"M -0.296875 72.90625 \r\nL 61.375 72.90625 \r\nL 61.375 64.59375 \r\nL 35.5 64.59375 \r\nL 35.5 0 \r\nL 25.59375 0 \r\nL 25.59375 64.59375 \r\nL -0.296875 64.59375 \r\nz\r\n\" id=\"DejaVuSans-84\"/>\r\n      </defs>\r\n      <use xlink:href=\"#DejaVuSans-84\"/>\r\n      <use x=\"46.333984\" xlink:href=\"#DejaVuSans-114\"/>\r\n      <use x=\"87.447266\" xlink:href=\"#DejaVuSans-117\"/>\r\n      <use x=\"150.826172\" xlink:href=\"#DejaVuSans-101\"/>\r\n      <use x=\"212.349609\" xlink:href=\"#DejaVuSans-32\"/>\r\n      <use x=\"244.136719\" xlink:href=\"#DejaVuSans-108\"/>\r\n      <use x=\"271.919922\" xlink:href=\"#DejaVuSans-97\"/>\r\n      <use x=\"333.199219\" xlink:href=\"#DejaVuSans-98\"/>\r\n      <use x=\"396.675781\" xlink:href=\"#DejaVuSans-101\"/>\r\n      <use x=\"458.199219\" xlink:href=\"#DejaVuSans-108\"/>\r\n     </g>\r\n    </g>\r\n   </g>\r\n   <g id=\"patch_3\">\r\n    <path d=\"M 113.3125 239.758125 \r\nL 113.3125 22.318125 \r\n\" style=\"fill:none;stroke:#000000;stroke-linecap:square;stroke-linejoin:miter;stroke-width:0.8;\"/>\r\n   </g>\r\n   <g id=\"patch_4\">\r\n    <path d=\"M 330.7525 239.758125 \r\nL 330.7525 22.318125 \r\n\" style=\"fill:none;stroke:#000000;stroke-linecap:square;stroke-linejoin:miter;stroke-width:0.8;\"/>\r\n   </g>\r\n   <g id=\"patch_5\">\r\n    <path d=\"M 113.3125 239.758125 \r\nL 330.7525 239.758125 \r\n\" style=\"fill:none;stroke:#000000;stroke-linecap:square;stroke-linejoin:miter;stroke-width:0.8;\"/>\r\n   </g>\r\n   <g id=\"patch_6\">\r\n    <path d=\"M 113.3125 22.318125 \r\nL 330.7525 22.318125 \r\n\" style=\"fill:none;stroke:#000000;stroke-linecap:square;stroke-linejoin:miter;stroke-width:0.8;\"/>\r\n   </g>\r\n   <g id=\"text_11\">\r\n    <!-- 58 -->\r\n    <g style=\"fill:#f7fbff;\" transform=\"translate(134.13 52.2575)scale(0.1 -0.1)\">\r\n     <defs>\r\n      <path d=\"M 10.796875 72.90625 \r\nL 49.515625 72.90625 \r\nL 49.515625 64.59375 \r\nL 19.828125 64.59375 \r\nL 19.828125 46.734375 \r\nQ 21.96875 47.46875 24.109375 47.828125 \r\nQ 26.265625 48.1875 28.421875 48.1875 \r\nQ 40.625 48.1875 47.75 41.5 \r\nQ 54.890625 34.8125 54.890625 23.390625 \r\nQ 54.890625 11.625 47.5625 5.09375 \r\nQ 40.234375 -1.421875 26.90625 -1.421875 \r\nQ 22.3125 -1.421875 17.546875 -0.640625 \r\nQ 12.796875 0.140625 7.71875 1.703125 \r\nL 7.71875 11.625 \r\nQ 12.109375 9.234375 16.796875 8.0625 \r\nQ 21.484375 6.890625 26.703125 6.890625 \r\nQ 35.15625 6.890625 40.078125 11.328125 \r\nQ 45.015625 15.765625 45.015625 23.390625 \r\nQ 45.015625 31 40.078125 35.4375 \r\nQ 35.15625 39.890625 26.703125 39.890625 \r\nQ 22.75 39.890625 18.8125 39.015625 \r\nQ 14.890625 38.140625 10.796875 36.28125 \r\nz\r\n\" id=\"DejaVuSans-53\"/>\r\n      <path d=\"M 31.78125 34.625 \r\nQ 24.75 34.625 20.71875 30.859375 \r\nQ 16.703125 27.09375 16.703125 20.515625 \r\nQ 16.703125 13.921875 20.71875 10.15625 \r\nQ 24.75 6.390625 31.78125 6.390625 \r\nQ 38.8125 6.390625 42.859375 10.171875 \r\nQ 46.921875 13.96875 46.921875 20.515625 \r\nQ 46.921875 27.09375 42.890625 30.859375 \r\nQ 38.875 34.625 31.78125 34.625 \r\nz\r\nM 21.921875 38.8125 \r\nQ 15.578125 40.375 12.03125 44.71875 \r\nQ 8.5 49.078125 8.5 55.328125 \r\nQ 8.5 64.0625 14.71875 69.140625 \r\nQ 20.953125 74.21875 31.78125 74.21875 \r\nQ 42.671875 74.21875 48.875 69.140625 \r\nQ 55.078125 64.0625 55.078125 55.328125 \r\nQ 55.078125 49.078125 51.53125 44.71875 \r\nQ 48 40.375 41.703125 38.8125 \r\nQ 48.828125 37.15625 52.796875 32.3125 \r\nQ 56.78125 27.484375 56.78125 20.515625 \r\nQ 56.78125 9.90625 50.3125 4.234375 \r\nQ 43.84375 -1.421875 31.78125 -1.421875 \r\nQ 19.734375 -1.421875 13.25 4.234375 \r\nQ 6.78125 9.90625 6.78125 20.515625 \r\nQ 6.78125 27.484375 10.78125 32.3125 \r\nQ 14.796875 37.15625 21.921875 38.8125 \r\nz\r\nM 18.3125 54.390625 \r\nQ 18.3125 48.734375 21.84375 45.5625 \r\nQ 25.390625 42.390625 31.78125 42.390625 \r\nQ 38.140625 42.390625 41.71875 45.5625 \r\nQ 45.3125 48.734375 45.3125 54.390625 \r\nQ 45.3125 60.0625 41.71875 63.234375 \r\nQ 38.140625 66.40625 31.78125 66.40625 \r\nQ 25.390625 66.40625 21.84375 63.234375 \r\nQ 18.3125 60.0625 18.3125 54.390625 \r\nz\r\n\" id=\"DejaVuSans-56\"/>\r\n     </defs>\r\n     <use xlink:href=\"#DejaVuSans-53\"/>\r\n     <use x=\"63.623047\" xlink:href=\"#DejaVuSans-56\"/>\r\n    </g>\r\n   </g>\r\n   <g id=\"text_12\">\r\n    <!-- 2 -->\r\n    <g style=\"fill:#08306b;\" transform=\"translate(191.67125 52.2575)scale(0.1 -0.1)\">\r\n     <defs>\r\n      <path d=\"M 19.1875 8.296875 \r\nL 53.609375 8.296875 \r\nL 53.609375 0 \r\nL 7.328125 0 \r\nL 7.328125 8.296875 \r\nQ 12.9375 14.109375 22.625 23.890625 \r\nQ 32.328125 33.6875 34.8125 36.53125 \r\nQ 39.546875 41.84375 41.421875 45.53125 \r\nQ 43.3125 49.21875 43.3125 52.78125 \r\nQ 43.3125 58.59375 39.234375 62.25 \r\nQ 35.15625 65.921875 28.609375 65.921875 \r\nQ 23.96875 65.921875 18.8125 64.3125 \r\nQ 13.671875 62.703125 7.8125 59.421875 \r\nL 7.8125 69.390625 \r\nQ 13.765625 71.78125 18.9375 73 \r\nQ 24.125 74.21875 28.421875 74.21875 \r\nQ 39.75 74.21875 46.484375 68.546875 \r\nQ 53.21875 62.890625 53.21875 53.421875 \r\nQ 53.21875 48.921875 51.53125 44.890625 \r\nQ 49.859375 40.875 45.40625 35.40625 \r\nQ 44.1875 33.984375 37.640625 27.21875 \r\nQ 31.109375 20.453125 19.1875 8.296875 \r\nz\r\n\" id=\"DejaVuSans-50\"/>\r\n     </defs>\r\n     <use xlink:href=\"#DejaVuSans-50\"/>\r\n    </g>\r\n   </g>\r\n   <g id=\"text_13\">\r\n    <!-- 0 -->\r\n    <g style=\"fill:#08306b;\" transform=\"translate(246.03125 52.2575)scale(0.1 -0.1)\">\r\n     <defs>\r\n      <path d=\"M 31.78125 66.40625 \r\nQ 24.171875 66.40625 20.328125 58.90625 \r\nQ 16.5 51.421875 16.5 36.375 \r\nQ 16.5 21.390625 20.328125 13.890625 \r\nQ 24.171875 6.390625 31.78125 6.390625 \r\nQ 39.453125 6.390625 43.28125 13.890625 \r\nQ 47.125 21.390625 47.125 36.375 \r\nQ 47.125 51.421875 43.28125 58.90625 \r\nQ 39.453125 66.40625 31.78125 66.40625 \r\nz\r\nM 31.78125 74.21875 \r\nQ 44.046875 74.21875 50.515625 64.515625 \r\nQ 56.984375 54.828125 56.984375 36.375 \r\nQ 56.984375 17.96875 50.515625 8.265625 \r\nQ 44.046875 -1.421875 31.78125 -1.421875 \r\nQ 19.53125 -1.421875 13.0625 8.265625 \r\nQ 6.59375 17.96875 6.59375 36.375 \r\nQ 6.59375 54.828125 13.0625 64.515625 \r\nQ 19.53125 74.21875 31.78125 74.21875 \r\nz\r\n\" id=\"DejaVuSans-48\"/>\r\n     </defs>\r\n     <use xlink:href=\"#DejaVuSans-48\"/>\r\n    </g>\r\n   </g>\r\n   <g id=\"text_14\">\r\n    <!-- 0 -->\r\n    <g style=\"fill:#08306b;\" transform=\"translate(300.39125 52.2575)scale(0.1 -0.1)\">\r\n     <use xlink:href=\"#DejaVuSans-48\"/>\r\n    </g>\r\n   </g>\r\n   <g id=\"text_15\">\r\n    <!-- 12 -->\r\n    <g style=\"fill:#08306b;\" transform=\"translate(134.13 106.6175)scale(0.1 -0.1)\">\r\n     <defs>\r\n      <path d=\"M 12.40625 8.296875 \r\nL 28.515625 8.296875 \r\nL 28.515625 63.921875 \r\nL 10.984375 60.40625 \r\nL 10.984375 69.390625 \r\nL 28.421875 72.90625 \r\nL 38.28125 72.90625 \r\nL 38.28125 8.296875 \r\nL 54.390625 8.296875 \r\nL 54.390625 0 \r\nL 12.40625 0 \r\nz\r\n\" id=\"DejaVuSans-49\"/>\r\n     </defs>\r\n     <use xlink:href=\"#DejaVuSans-49\"/>\r\n     <use x=\"63.623047\" xlink:href=\"#DejaVuSans-50\"/>\r\n    </g>\r\n   </g>\r\n   <g id=\"text_16\">\r\n    <!-- 38 -->\r\n    <g style=\"fill:#f7fbff;\" transform=\"translate(188.49 106.6175)scale(0.1 -0.1)\">\r\n     <defs>\r\n      <path d=\"M 40.578125 39.3125 \r\nQ 47.65625 37.796875 51.625 33 \r\nQ 55.609375 28.21875 55.609375 21.1875 \r\nQ 55.609375 10.40625 48.1875 4.484375 \r\nQ 40.765625 -1.421875 27.09375 -1.421875 \r\nQ 22.515625 -1.421875 17.65625 -0.515625 \r\nQ 12.796875 0.390625 7.625 2.203125 \r\nL 7.625 11.71875 \r\nQ 11.71875 9.328125 16.59375 8.109375 \r\nQ 21.484375 6.890625 26.8125 6.890625 \r\nQ 36.078125 6.890625 40.9375 10.546875 \r\nQ 45.796875 14.203125 45.796875 21.1875 \r\nQ 45.796875 27.640625 41.28125 31.265625 \r\nQ 36.765625 34.90625 28.71875 34.90625 \r\nL 20.21875 34.90625 \r\nL 20.21875 43.015625 \r\nL 29.109375 43.015625 \r\nQ 36.375 43.015625 40.234375 45.921875 \r\nQ 44.09375 48.828125 44.09375 54.296875 \r\nQ 44.09375 59.90625 40.109375 62.90625 \r\nQ 36.140625 65.921875 28.71875 65.921875 \r\nQ 24.65625 65.921875 20.015625 65.03125 \r\nQ 15.375 64.15625 9.8125 62.3125 \r\nL 9.8125 71.09375 \r\nQ 15.4375 72.65625 20.34375 73.4375 \r\nQ 25.25 74.21875 29.59375 74.21875 \r\nQ 40.828125 74.21875 47.359375 69.109375 \r\nQ 53.90625 64.015625 53.90625 55.328125 \r\nQ 53.90625 49.265625 50.4375 45.09375 \r\nQ 46.96875 40.921875 40.578125 39.3125 \r\nz\r\n\" id=\"DejaVuSans-51\"/>\r\n     </defs>\r\n     <use xlink:href=\"#DejaVuSans-51\"/>\r\n     <use x=\"63.623047\" xlink:href=\"#DejaVuSans-56\"/>\r\n    </g>\r\n   </g>\r\n   <g id=\"text_17\">\r\n    <!-- 1 -->\r\n    <g style=\"fill:#08306b;\" transform=\"translate(246.03125 106.6175)scale(0.1 -0.1)\">\r\n     <use xlink:href=\"#DejaVuSans-49\"/>\r\n    </g>\r\n   </g>\r\n   <g id=\"text_18\">\r\n    <!-- 3 -->\r\n    <g style=\"fill:#08306b;\" transform=\"translate(300.39125 106.6175)scale(0.1 -0.1)\">\r\n     <use xlink:href=\"#DejaVuSans-51\"/>\r\n    </g>\r\n   </g>\r\n   <g id=\"text_19\">\r\n    <!-- 16 -->\r\n    <g style=\"fill:#08306b;\" transform=\"translate(134.13 160.9775)scale(0.1 -0.1)\">\r\n     <defs>\r\n      <path d=\"M 33.015625 40.375 \r\nQ 26.375 40.375 22.484375 35.828125 \r\nQ 18.609375 31.296875 18.609375 23.390625 \r\nQ 18.609375 15.53125 22.484375 10.953125 \r\nQ 26.375 6.390625 33.015625 6.390625 \r\nQ 39.65625 6.390625 43.53125 10.953125 \r\nQ 47.40625 15.53125 47.40625 23.390625 \r\nQ 47.40625 31.296875 43.53125 35.828125 \r\nQ 39.65625 40.375 33.015625 40.375 \r\nz\r\nM 52.59375 71.296875 \r\nL 52.59375 62.3125 \r\nQ 48.875 64.0625 45.09375 64.984375 \r\nQ 41.3125 65.921875 37.59375 65.921875 \r\nQ 27.828125 65.921875 22.671875 59.328125 \r\nQ 17.53125 52.734375 16.796875 39.40625 \r\nQ 19.671875 43.65625 24.015625 45.921875 \r\nQ 28.375 48.1875 33.59375 48.1875 \r\nQ 44.578125 48.1875 50.953125 41.515625 \r\nQ 57.328125 34.859375 57.328125 23.390625 \r\nQ 57.328125 12.15625 50.6875 5.359375 \r\nQ 44.046875 -1.421875 33.015625 -1.421875 \r\nQ 20.359375 -1.421875 13.671875 8.265625 \r\nQ 6.984375 17.96875 6.984375 36.375 \r\nQ 6.984375 53.65625 15.1875 63.9375 \r\nQ 23.390625 74.21875 37.203125 74.21875 \r\nQ 40.921875 74.21875 44.703125 73.484375 \r\nQ 48.484375 72.75 52.59375 71.296875 \r\nz\r\n\" id=\"DejaVuSans-54\"/>\r\n     </defs>\r\n     <use xlink:href=\"#DejaVuSans-49\"/>\r\n     <use x=\"63.623047\" xlink:href=\"#DejaVuSans-54\"/>\r\n    </g>\r\n   </g>\r\n   <g id=\"text_20\">\r\n    <!-- 26 -->\r\n    <g style=\"fill:#08306b;\" transform=\"translate(188.49 160.9775)scale(0.1 -0.1)\">\r\n     <use xlink:href=\"#DejaVuSans-50\"/>\r\n     <use x=\"63.623047\" xlink:href=\"#DejaVuSans-54\"/>\r\n    </g>\r\n   </g>\r\n   <g id=\"text_21\">\r\n    <!-- 21 -->\r\n    <g style=\"fill:#08306b;\" transform=\"translate(242.85 160.9775)scale(0.1 -0.1)\">\r\n     <use xlink:href=\"#DejaVuSans-50\"/>\r\n     <use x=\"63.623047\" xlink:href=\"#DejaVuSans-49\"/>\r\n    </g>\r\n   </g>\r\n   <g id=\"text_22\">\r\n    <!-- 0 -->\r\n    <g style=\"fill:#08306b;\" transform=\"translate(300.39125 160.9775)scale(0.1 -0.1)\">\r\n     <use xlink:href=\"#DejaVuSans-48\"/>\r\n    </g>\r\n   </g>\r\n   <g id=\"text_23\">\r\n    <!-- 20 -->\r\n    <g style=\"fill:#08306b;\" transform=\"translate(134.13 215.3375)scale(0.1 -0.1)\">\r\n     <use xlink:href=\"#DejaVuSans-50\"/>\r\n     <use x=\"63.623047\" xlink:href=\"#DejaVuSans-48\"/>\r\n    </g>\r\n   </g>\r\n   <g id=\"text_24\">\r\n    <!-- 33 -->\r\n    <g style=\"fill:#f7fbff;\" transform=\"translate(188.49 215.3375)scale(0.1 -0.1)\">\r\n     <use xlink:href=\"#DejaVuSans-51\"/>\r\n     <use x=\"63.623047\" xlink:href=\"#DejaVuSans-51\"/>\r\n    </g>\r\n   </g>\r\n   <g id=\"text_25\">\r\n    <!-- 0 -->\r\n    <g style=\"fill:#08306b;\" transform=\"translate(246.03125 215.3375)scale(0.1 -0.1)\">\r\n     <use xlink:href=\"#DejaVuSans-48\"/>\r\n    </g>\r\n   </g>\r\n   <g id=\"text_26\">\r\n    <!-- 18 -->\r\n    <g style=\"fill:#08306b;\" transform=\"translate(297.21 215.3375)scale(0.1 -0.1)\">\r\n     <use xlink:href=\"#DejaVuSans-49\"/>\r\n     <use x=\"63.623047\" xlink:href=\"#DejaVuSans-56\"/>\r\n    </g>\r\n   </g>\r\n   <g id=\"text_27\">\r\n    <!-- Train dataset Random Forest Classifier -->\r\n    <g transform=\"translate(106.694688 16.318125)scale(0.12 -0.12)\">\r\n     <defs>\r\n      <path d=\"M 44.28125 53.078125 \r\nL 44.28125 44.578125 \r\nQ 40.484375 46.53125 36.375 47.5 \r\nQ 32.28125 48.484375 27.875 48.484375 \r\nQ 21.1875 48.484375 17.84375 46.4375 \r\nQ 14.5 44.390625 14.5 40.28125 \r\nQ 14.5 37.15625 16.890625 35.375 \r\nQ 19.28125 33.59375 26.515625 31.984375 \r\nL 29.59375 31.296875 \r\nQ 39.15625 29.25 43.1875 25.515625 \r\nQ 47.21875 21.78125 47.21875 15.09375 \r\nQ 47.21875 7.46875 41.1875 3.015625 \r\nQ 35.15625 -1.421875 24.609375 -1.421875 \r\nQ 20.21875 -1.421875 15.453125 -0.5625 \r\nQ 10.6875 0.296875 5.421875 2 \r\nL 5.421875 11.28125 \r\nQ 10.40625 8.6875 15.234375 7.390625 \r\nQ 20.0625 6.109375 24.8125 6.109375 \r\nQ 31.15625 6.109375 34.5625 8.28125 \r\nQ 37.984375 10.453125 37.984375 14.40625 \r\nQ 37.984375 18.0625 35.515625 20.015625 \r\nQ 33.0625 21.96875 24.703125 23.78125 \r\nL 21.578125 24.515625 \r\nQ 13.234375 26.265625 9.515625 29.90625 \r\nQ 5.8125 33.546875 5.8125 39.890625 \r\nQ 5.8125 47.609375 11.28125 51.796875 \r\nQ 16.75 56 26.8125 56 \r\nQ 31.78125 56 36.171875 55.265625 \r\nQ 40.578125 54.546875 44.28125 53.078125 \r\nz\r\n\" id=\"DejaVuSans-115\"/>\r\n      <path d=\"M 52 44.1875 \r\nQ 55.375 50.25 60.0625 53.125 \r\nQ 64.75 56 71.09375 56 \r\nQ 79.640625 56 84.28125 50.015625 \r\nQ 88.921875 44.046875 88.921875 33.015625 \r\nL 88.921875 0 \r\nL 79.890625 0 \r\nL 79.890625 32.71875 \r\nQ 79.890625 40.578125 77.09375 44.375 \r\nQ 74.3125 48.1875 68.609375 48.1875 \r\nQ 61.625 48.1875 57.5625 43.546875 \r\nQ 53.515625 38.921875 53.515625 30.90625 \r\nL 53.515625 0 \r\nL 44.484375 0 \r\nL 44.484375 32.71875 \r\nQ 44.484375 40.625 41.703125 44.40625 \r\nQ 38.921875 48.1875 33.109375 48.1875 \r\nQ 26.21875 48.1875 22.15625 43.53125 \r\nQ 18.109375 38.875 18.109375 30.90625 \r\nL 18.109375 0 \r\nL 9.078125 0 \r\nL 9.078125 54.6875 \r\nL 18.109375 54.6875 \r\nL 18.109375 46.1875 \r\nQ 21.1875 51.21875 25.484375 53.609375 \r\nQ 29.78125 56 35.6875 56 \r\nQ 41.65625 56 45.828125 52.96875 \r\nQ 50 49.953125 52 44.1875 \r\nz\r\n\" id=\"DejaVuSans-109\"/>\r\n      <path d=\"M 9.8125 72.90625 \r\nL 51.703125 72.90625 \r\nL 51.703125 64.59375 \r\nL 19.671875 64.59375 \r\nL 19.671875 43.109375 \r\nL 48.578125 43.109375 \r\nL 48.578125 34.8125 \r\nL 19.671875 34.8125 \r\nL 19.671875 0 \r\nL 9.8125 0 \r\nz\r\n\" id=\"DejaVuSans-70\"/>\r\n      <path d=\"M 64.40625 67.28125 \r\nL 64.40625 56.890625 \r\nQ 59.421875 61.53125 53.78125 63.8125 \r\nQ 48.140625 66.109375 41.796875 66.109375 \r\nQ 29.296875 66.109375 22.65625 58.46875 \r\nQ 16.015625 50.828125 16.015625 36.375 \r\nQ 16.015625 21.96875 22.65625 14.328125 \r\nQ 29.296875 6.6875 41.796875 6.6875 \r\nQ 48.140625 6.6875 53.78125 8.984375 \r\nQ 59.421875 11.28125 64.40625 15.921875 \r\nL 64.40625 5.609375 \r\nQ 59.234375 2.09375 53.4375 0.328125 \r\nQ 47.65625 -1.421875 41.21875 -1.421875 \r\nQ 24.65625 -1.421875 15.125 8.703125 \r\nQ 5.609375 18.84375 5.609375 36.375 \r\nQ 5.609375 53.953125 15.125 64.078125 \r\nQ 24.65625 74.21875 41.21875 74.21875 \r\nQ 47.75 74.21875 53.53125 72.484375 \r\nQ 59.328125 70.75 64.40625 67.28125 \r\nz\r\n\" id=\"DejaVuSans-67\"/>\r\n     </defs>\r\n     <use xlink:href=\"#DejaVuSans-84\"/>\r\n     <use x=\"46.333984\" xlink:href=\"#DejaVuSans-114\"/>\r\n     <use x=\"87.447266\" xlink:href=\"#DejaVuSans-97\"/>\r\n     <use x=\"148.726562\" xlink:href=\"#DejaVuSans-105\"/>\r\n     <use x=\"176.509766\" xlink:href=\"#DejaVuSans-110\"/>\r\n     <use x=\"239.888672\" xlink:href=\"#DejaVuSans-32\"/>\r\n     <use x=\"271.675781\" xlink:href=\"#DejaVuSans-100\"/>\r\n     <use x=\"335.152344\" xlink:href=\"#DejaVuSans-97\"/>\r\n     <use x=\"396.431641\" xlink:href=\"#DejaVuSans-116\"/>\r\n     <use x=\"435.640625\" xlink:href=\"#DejaVuSans-97\"/>\r\n     <use x=\"496.919922\" xlink:href=\"#DejaVuSans-115\"/>\r\n     <use x=\"549.019531\" xlink:href=\"#DejaVuSans-101\"/>\r\n     <use x=\"610.542969\" xlink:href=\"#DejaVuSans-116\"/>\r\n     <use x=\"649.751953\" xlink:href=\"#DejaVuSans-32\"/>\r\n     <use x=\"681.539062\" xlink:href=\"#DejaVuSans-82\"/>\r\n     <use x=\"748.771484\" xlink:href=\"#DejaVuSans-97\"/>\r\n     <use x=\"810.050781\" xlink:href=\"#DejaVuSans-110\"/>\r\n     <use x=\"873.429688\" xlink:href=\"#DejaVuSans-100\"/>\r\n     <use x=\"936.90625\" xlink:href=\"#DejaVuSans-111\"/>\r\n     <use x=\"998.087891\" xlink:href=\"#DejaVuSans-109\"/>\r\n     <use x=\"1095.5\" xlink:href=\"#DejaVuSans-32\"/>\r\n     <use x=\"1127.287109\" xlink:href=\"#DejaVuSans-70\"/>\r\n     <use x=\"1181.181641\" xlink:href=\"#DejaVuSans-111\"/>\r\n     <use x=\"1242.363281\" xlink:href=\"#DejaVuSans-114\"/>\r\n     <use x=\"1281.226562\" xlink:href=\"#DejaVuSans-101\"/>\r\n     <use x=\"1342.75\" xlink:href=\"#DejaVuSans-115\"/>\r\n     <use x=\"1394.849609\" xlink:href=\"#DejaVuSans-116\"/>\r\n     <use x=\"1434.058594\" xlink:href=\"#DejaVuSans-32\"/>\r\n     <use x=\"1465.845703\" xlink:href=\"#DejaVuSans-67\"/>\r\n     <use x=\"1535.669922\" xlink:href=\"#DejaVuSans-108\"/>\r\n     <use x=\"1563.453125\" xlink:href=\"#DejaVuSans-97\"/>\r\n     <use x=\"1624.732422\" xlink:href=\"#DejaVuSans-115\"/>\r\n     <use x=\"1676.832031\" xlink:href=\"#DejaVuSans-115\"/>\r\n     <use x=\"1728.931641\" xlink:href=\"#DejaVuSans-105\"/>\r\n     <use x=\"1756.714844\" xlink:href=\"#DejaVuSans-102\"/>\r\n     <use x=\"1791.919922\" xlink:href=\"#DejaVuSans-105\"/>\r\n     <use x=\"1819.703125\" xlink:href=\"#DejaVuSans-101\"/>\r\n     <use x=\"1881.226562\" xlink:href=\"#DejaVuSans-114\"/>\r\n    </g>\r\n   </g>\r\n  </g>\r\n  <g id=\"axes_2\">\r\n   <g id=\"patch_7\">\r\n    <path clip-path=\"url(#p8b9ebda820)\" d=\"M 347.4925 239.758125 \r\nL 347.4925 238.90875 \r\nL 347.4925 23.1675 \r\nL 347.4925 22.318125 \r\nL 358.3645 22.318125 \r\nL 358.3645 23.1675 \r\nL 358.3645 238.90875 \r\nL 358.3645 239.758125 \r\nz\r\n\" style=\"fill:#ffffff;stroke:#ffffff;stroke-linejoin:miter;stroke-width:0.01;\"/>\r\n   </g>\r\n   <image height=\"217\" id=\"image08f349a66b\" transform=\"scale(1 -1)translate(0 -217)\" width=\"11\" x=\"347\" xlink:href=\"data:image/png;base64,\r\niVBORw0KGgoAAAANSUhEUgAAAAsAAADZCAYAAAD2WsoCAAABHElEQVR4nO2YMQ4CMRADA8r/n0uByIYWukwxyIvuamvl2F4nutvjufc4/OYex9gxz+diMKEBsGMCLORcAH0HLEzpQhyEkwEYZgNwLk26kSEdzAbh7NHQeoPZ3bC+OvZGinRX+H9CI0Q67VWQckBkNzygdsNqDi50wAzOlZHnOh/stqjFuUBGGWezN8Dk5VWBlzrtcYKqQGxR7e5eJM9eP3sOIp0X6ALTwXOsScPLBrQ7osw9ndk9KLaot7AR0nn93DEbaLs9nc2/EKj5I3YwJBvslctoRKgBD2jRCJls2g1oeEHy7O4YpJDtZn8CxWycvxlTODNwht0h2fh/u69sfICh3YhGw8n1sia3VGNF0ECTycJedn+BO9ptTX4DblXiEVeBW/gAAAAASUVORK5CYII=\" y=\"-22\"/>\r\n   <g id=\"matplotlib.axis_3\"/>\r\n   <g id=\"matplotlib.axis_4\">\r\n    <g id=\"ytick_5\">\r\n     <g id=\"line2d_9\">\r\n      <defs>\r\n       <path d=\"M 0 0 \r\nL 3.5 0 \r\n\" id=\"mfc2a64cce4\" style=\"stroke:#000000;stroke-width:0.8;\"/>\r\n      </defs>\r\n      <g>\r\n       <use style=\"stroke:#000000;stroke-width:0.8;\" x=\"358.3645\" xlink:href=\"#mfc2a64cce4\" y=\"239.758125\"/>\r\n      </g>\r\n     </g>\r\n     <g id=\"text_28\">\r\n      <!-- 0 -->\r\n      <g transform=\"translate(365.3645 243.557344)scale(0.1 -0.1)\">\r\n       <use xlink:href=\"#DejaVuSans-48\"/>\r\n      </g>\r\n     </g>\r\n    </g>\r\n    <g id=\"ytick_6\">\r\n     <g id=\"line2d_10\">\r\n      <g>\r\n       <use style=\"stroke:#000000;stroke-width:0.8;\" x=\"358.3645\" xlink:href=\"#mfc2a64cce4\" y=\"202.26847\"/>\r\n      </g>\r\n     </g>\r\n     <g id=\"text_29\">\r\n      <!-- 10 -->\r\n      <g transform=\"translate(365.3645 206.067689)scale(0.1 -0.1)\">\r\n       <use xlink:href=\"#DejaVuSans-49\"/>\r\n       <use x=\"63.623047\" xlink:href=\"#DejaVuSans-48\"/>\r\n      </g>\r\n     </g>\r\n    </g>\r\n    <g id=\"ytick_7\">\r\n     <g id=\"line2d_11\">\r\n      <g>\r\n       <use style=\"stroke:#000000;stroke-width:0.8;\" x=\"358.3645\" xlink:href=\"#mfc2a64cce4\" y=\"164.778815\"/>\r\n      </g>\r\n     </g>\r\n     <g id=\"text_30\">\r\n      <!-- 20 -->\r\n      <g transform=\"translate(365.3645 168.578033)scale(0.1 -0.1)\">\r\n       <use xlink:href=\"#DejaVuSans-50\"/>\r\n       <use x=\"63.623047\" xlink:href=\"#DejaVuSans-48\"/>\r\n      </g>\r\n     </g>\r\n    </g>\r\n    <g id=\"ytick_8\">\r\n     <g id=\"line2d_12\">\r\n      <g>\r\n       <use style=\"stroke:#000000;stroke-width:0.8;\" x=\"358.3645\" xlink:href=\"#mfc2a64cce4\" y=\"127.289159\"/>\r\n      </g>\r\n     </g>\r\n     <g id=\"text_31\">\r\n      <!-- 30 -->\r\n      <g transform=\"translate(365.3645 131.088378)scale(0.1 -0.1)\">\r\n       <use xlink:href=\"#DejaVuSans-51\"/>\r\n       <use x=\"63.623047\" xlink:href=\"#DejaVuSans-48\"/>\r\n      </g>\r\n     </g>\r\n    </g>\r\n    <g id=\"ytick_9\">\r\n     <g id=\"line2d_13\">\r\n      <g>\r\n       <use style=\"stroke:#000000;stroke-width:0.8;\" x=\"358.3645\" xlink:href=\"#mfc2a64cce4\" y=\"89.799504\"/>\r\n      </g>\r\n     </g>\r\n     <g id=\"text_32\">\r\n      <!-- 40 -->\r\n      <g transform=\"translate(365.3645 93.598723)scale(0.1 -0.1)\">\r\n       <defs>\r\n        <path d=\"M 37.796875 64.3125 \r\nL 12.890625 25.390625 \r\nL 37.796875 25.390625 \r\nz\r\nM 35.203125 72.90625 \r\nL 47.609375 72.90625 \r\nL 47.609375 25.390625 \r\nL 58.015625 25.390625 \r\nL 58.015625 17.1875 \r\nL 47.609375 17.1875 \r\nL 47.609375 0 \r\nL 37.796875 0 \r\nL 37.796875 17.1875 \r\nL 4.890625 17.1875 \r\nL 4.890625 26.703125 \r\nz\r\n\" id=\"DejaVuSans-52\"/>\r\n       </defs>\r\n       <use xlink:href=\"#DejaVuSans-52\"/>\r\n       <use x=\"63.623047\" xlink:href=\"#DejaVuSans-48\"/>\r\n      </g>\r\n     </g>\r\n    </g>\r\n    <g id=\"ytick_10\">\r\n     <g id=\"line2d_14\">\r\n      <g>\r\n       <use style=\"stroke:#000000;stroke-width:0.8;\" x=\"358.3645\" xlink:href=\"#mfc2a64cce4\" y=\"52.309849\"/>\r\n      </g>\r\n     </g>\r\n     <g id=\"text_33\">\r\n      <!-- 50 -->\r\n      <g transform=\"translate(365.3645 56.109068)scale(0.1 -0.1)\">\r\n       <use xlink:href=\"#DejaVuSans-53\"/>\r\n       <use x=\"63.623047\" xlink:href=\"#DejaVuSans-48\"/>\r\n      </g>\r\n     </g>\r\n    </g>\r\n   </g>\r\n   <g id=\"patch_8\">\r\n    <path d=\"M 347.4925 239.758125 \r\nL 347.4925 238.90875 \r\nL 347.4925 23.1675 \r\nL 347.4925 22.318125 \r\nL 358.3645 22.318125 \r\nL 358.3645 23.1675 \r\nL 358.3645 238.90875 \r\nL 358.3645 239.758125 \r\nz\r\n\" style=\"fill:none;stroke:#000000;stroke-linejoin:miter;stroke-width:0.8;\"/>\r\n   </g>\r\n  </g>\r\n </g>\r\n <defs>\r\n  <clipPath id=\"p72e43ee06f\">\r\n   <rect height=\"217.44\" width=\"217.44\" x=\"113.3125\" y=\"22.318125\"/>\r\n  </clipPath>\r\n  <clipPath id=\"p8b9ebda820\">\r\n   <rect height=\"217.44\" width=\"10.872\" x=\"347.4925\" y=\"22.318125\"/>\r\n  </clipPath>\r\n </defs>\r\n</svg>\r\n",
      "image/png": "[encoded data removed]"
     },
     "metadata": {
      "needs_background": "light"
     }
    },
    {
     "output_type": "display_data",
     "data": {
      "text/plain": "<Figure size 432x288 with 2 Axes>",
      "image/svg+xml": "<?xml version=\"1.0\" encoding=\"utf-8\" standalone=\"no\"?>\r\n<!DOCTYPE svg PUBLIC \"-//W3C//DTD SVG 1.1//EN\"\r\n  \"http://www.w3.org/Graphics/SVG/1.1/DTD/svg11.dtd\">\r\n<!-- Created with matplotlib (https://matplotlib.org/) -->\r\n<svg height=\"277.314375pt\" version=\"1.1\" viewBox=\"0 0 378.927 277.314375\" width=\"378.927pt\" xmlns=\"http://www.w3.org/2000/svg\" xmlns:xlink=\"http://www.w3.org/1999/xlink\">\r\n <metadata>\r\n  <rdf:RDF xmlns:cc=\"http://creativecommons.org/ns#\" xmlns:dc=\"http://purl.org/dc/elements/1.1/\" xmlns:rdf=\"http://www.w3.org/1999/02/22-rdf-syntax-ns#\">\r\n   <cc:Work>\r\n    <dc:type rdf:resource=\"http://purl.org/dc/dcmitype/StillImage\"/>\r\n    <dc:date>2020-12-18T12:43:21.501185</dc:date>\r\n    <dc:format>image/svg+xml</dc:format>\r\n    <dc:creator>\r\n     <cc:Agent>\r\n      <dc:title>Matplotlib v3.3.2, https://matplotlib.org/</dc:title>\r\n     </cc:Agent>\r\n    </dc:creator>\r\n   </cc:Work>\r\n  </rdf:RDF>\r\n </metadata>\r\n <defs>\r\n  <style type=\"text/css\">*{stroke-linecap:butt;stroke-linejoin:round;}</style>\r\n </defs>\r\n <g id=\"figure_1\">\r\n  <g id=\"patch_1\">\r\n   <path d=\"M 0 277.314375 \r\nL 378.927 277.314375 \r\nL 378.927 0 \r\nL 0 0 \r\nz\r\n\" style=\"fill:none;\"/>\r\n  </g>\r\n  <g id=\"axes_1\">\r\n   <g id=\"patch_2\">\r\n    <path d=\"M 113.3125 239.758125 \r\nL 330.7525 239.758125 \r\nL 330.7525 22.318125 \r\nL 113.3125 22.318125 \r\nz\r\n\" style=\"fill:#ffffff;\"/>\r\n   </g>\r\n   <g clip-path=\"url(#p5499dcb45e)\">\r\n    <image height=\"218\" id=\"imagefdaa385175\" transform=\"scale(1 -1)translate(0 -218)\" width=\"218\" x=\"113.3125\" xlink:href=\"data:image/png;base64,\r\niVBORw0KGgoAAAANSUhEUgAAANoAAADaCAYAAADAHVzbAAAC6UlEQVR4nO3VsS0EYACGYScGYATRaUWpNYYJJHqdTiv0GisoNJorLyYgMcAVdArF6Wzwv3/C80zwNW++xfXz22brD1q9f86eMMzD2dHsCUMsX9ezJwyzPXsA/AdCg4DQICA0CAgNAkKDgNAgIDQICA0CQoOA0CAgNAgIDQJCg4DQICA0CAgNAkKDgNAgIDQICA0CQoOA0CAgNAgIDQJCg4DQICA0CAgNAkKDgNAgIDQICA0CQoOA0CAgNAgIDQJCg4DQICA0CAgNAkKDgNAgIDQICA0CQoOA0CAgNAgIDQJCg4DQICA0CAgNAkKDwM7sAaM83t7PnjDMzf7u7AlDXJwczJ4wjEeDgNAgIDQICA0CQoOA0CAgNAgIDQJCg4DQICA0CAgNAkKDgNAgIDQICA0CQoOA0CAgNAgIDQJCg4DQICA0CAgNAkKDgNAgIDQICA0CQoOA0CAgNAgIDQJCg4DQICA0CAgNAkKDgNAgIDQICA0CQoOA0CAgNAgIDQJCg4DQICA0CAgNAkKDgNAgIDQICA0CQoPA4ut7s5k9YoS94/PZE4b5WN3NnjDE8nU9e8IwHg0CQoOA0CAgNAgIDQJCg4DQICA0CAgNAkKDgNAgIDQICA0CQoOA0CAgNAgIDQJCg4DQICA0CAgNAkKDgNAgIDQICA0CQoOA0CAgNAgIDQJCg4DQICA0CAgNAkKDgNAgIDQICA0CQoOA0CAgNAgIDQJCg4DQICA0CAgNAkKDgNAgIDQICA0CQoOA0CAgNAgIDQJCg8Di8PJpM3vECC9Xp7MnwC+PBgGhQUBoEBAaBIQGAaFBQGgQEBoEhAYBoUFAaBAQGgSEBgGhQUBoEBAaBIQGAaFBQGgQEBoEhAYBoUFAaBAQGgSEBgGhQUBoEBAaBIQGAaFBQGgQEBoEhAYBoUFAaBAQGgSEBgGhQUBoEBAaBIQGAaFBQGgQEBoEhAYBoUFAaBAQGgSEBgGhQUBoEBAaBIQGgR97GBwOcSl/uwAAAABJRU5ErkJggg==\" y=\"-21.758125\"/>\r\n   </g>\r\n   <g id=\"matplotlib.axis_1\">\r\n    <g id=\"xtick_1\">\r\n     <g id=\"line2d_1\">\r\n      <defs>\r\n       <path d=\"M 0 0 \r\nL 0 3.5 \r\n\" id=\"m0ad8184a33\" style=\"stroke:#000000;stroke-width:0.8;\"/>\r\n      </defs>\r\n      <g>\r\n       <use style=\"stroke:#000000;stroke-width:0.8;\" x=\"140.4925\" xlink:href=\"#m0ad8184a33\" y=\"239.758125\"/>\r\n      </g>\r\n     </g>\r\n     <g id=\"text_1\">\r\n      <!-- Analytical Report -->\r\n      <g transform=\"translate(97.775313 254.356562)scale(0.1 -0.1)\">\r\n       <defs>\r\n        <path d=\"M 34.1875 63.1875 \r\nL 20.796875 26.90625 \r\nL 47.609375 26.90625 \r\nz\r\nM 28.609375 72.90625 \r\nL 39.796875 72.90625 \r\nL 67.578125 0 \r\nL 57.328125 0 \r\nL 50.6875 18.703125 \r\nL 17.828125 18.703125 \r\nL 11.1875 0 \r\nL 0.78125 0 \r\nz\r\n\" id=\"DejaVuSans-65\"/>\r\n        <path d=\"M 54.890625 33.015625 \r\nL 54.890625 0 \r\nL 45.90625 0 \r\nL 45.90625 32.71875 \r\nQ 45.90625 40.484375 42.875 44.328125 \r\nQ 39.84375 48.1875 33.796875 48.1875 \r\nQ 26.515625 48.1875 22.3125 43.546875 \r\nQ 18.109375 38.921875 18.109375 30.90625 \r\nL 18.109375 0 \r\nL 9.078125 0 \r\nL 9.078125 54.6875 \r\nL 18.109375 54.6875 \r\nL 18.109375 46.1875 \r\nQ 21.34375 51.125 25.703125 53.5625 \r\nQ 30.078125 56 35.796875 56 \r\nQ 45.21875 56 50.046875 50.171875 \r\nQ 54.890625 44.34375 54.890625 33.015625 \r\nz\r\n\" id=\"DejaVuSans-110\"/>\r\n        <path d=\"M 34.28125 27.484375 \r\nQ 23.390625 27.484375 19.1875 25 \r\nQ 14.984375 22.515625 14.984375 16.5 \r\nQ 14.984375 11.71875 18.140625 8.90625 \r\nQ 21.296875 6.109375 26.703125 6.109375 \r\nQ 34.1875 6.109375 38.703125 11.40625 \r\nQ 43.21875 16.703125 43.21875 25.484375 \r\nL 43.21875 27.484375 \r\nz\r\nM 52.203125 31.203125 \r\nL 52.203125 0 \r\nL 43.21875 0 \r\nL 43.21875 8.296875 \r\nQ 40.140625 3.328125 35.546875 0.953125 \r\nQ 30.953125 -1.421875 24.3125 -1.421875 \r\nQ 15.921875 -1.421875 10.953125 3.296875 \r\nQ 6 8.015625 6 15.921875 \r\nQ 6 25.140625 12.171875 29.828125 \r\nQ 18.359375 34.515625 30.609375 34.515625 \r\nL 43.21875 34.515625 \r\nL 43.21875 35.40625 \r\nQ 43.21875 41.609375 39.140625 45 \r\nQ 35.0625 48.390625 27.6875 48.390625 \r\nQ 23 48.390625 18.546875 47.265625 \r\nQ 14.109375 46.140625 10.015625 43.890625 \r\nL 10.015625 52.203125 \r\nQ 14.9375 54.109375 19.578125 55.046875 \r\nQ 24.21875 56 28.609375 56 \r\nQ 40.484375 56 46.34375 49.84375 \r\nQ 52.203125 43.703125 52.203125 31.203125 \r\nz\r\n\" id=\"DejaVuSans-97\"/>\r\n        <path d=\"M 9.421875 75.984375 \r\nL 18.40625 75.984375 \r\nL 18.40625 0 \r\nL 9.421875 0 \r\nz\r\n\" id=\"DejaVuSans-108\"/>\r\n        <path d=\"M 32.171875 -5.078125 \r\nQ 28.375 -14.84375 24.75 -17.8125 \r\nQ 21.140625 -20.796875 15.09375 -20.796875 \r\nL 7.90625 -20.796875 \r\nL 7.90625 -13.28125 \r\nL 13.1875 -13.28125 \r\nQ 16.890625 -13.28125 18.9375 -11.515625 \r\nQ 21 -9.765625 23.484375 -3.21875 \r\nL 25.09375 0.875 \r\nL 2.984375 54.6875 \r\nL 12.5 54.6875 \r\nL 29.59375 11.921875 \r\nL 46.6875 54.6875 \r\nL 56.203125 54.6875 \r\nz\r\n\" id=\"DejaVuSans-121\"/>\r\n        <path d=\"M 18.3125 70.21875 \r\nL 18.3125 54.6875 \r\nL 36.8125 54.6875 \r\nL 36.8125 47.703125 \r\nL 18.3125 47.703125 \r\nL 18.3125 18.015625 \r\nQ 18.3125 11.328125 20.140625 9.421875 \r\nQ 21.96875 7.515625 27.59375 7.515625 \r\nL 36.8125 7.515625 \r\nL 36.8125 0 \r\nL 27.59375 0 \r\nQ 17.1875 0 13.234375 3.875 \r\nQ 9.28125 7.765625 9.28125 18.015625 \r\nL 9.28125 47.703125 \r\nL 2.6875 47.703125 \r\nL 2.6875 54.6875 \r\nL 9.28125 54.6875 \r\nL 9.28125 70.21875 \r\nz\r\n\" id=\"DejaVuSans-116\"/>\r\n        <path d=\"M 9.421875 54.6875 \r\nL 18.40625 54.6875 \r\nL 18.40625 0 \r\nL 9.421875 0 \r\nz\r\nM 9.421875 75.984375 \r\nL 18.40625 75.984375 \r\nL 18.40625 64.59375 \r\nL 9.421875 64.59375 \r\nz\r\n\" id=\"DejaVuSans-105\"/>\r\n        <path d=\"M 48.78125 52.59375 \r\nL 48.78125 44.1875 \r\nQ 44.96875 46.296875 41.140625 47.34375 \r\nQ 37.3125 48.390625 33.40625 48.390625 \r\nQ 24.65625 48.390625 19.8125 42.84375 \r\nQ 14.984375 37.3125 14.984375 27.296875 \r\nQ 14.984375 17.28125 19.8125 11.734375 \r\nQ 24.65625 6.203125 33.40625 6.203125 \r\nQ 37.3125 6.203125 41.140625 7.25 \r\nQ 44.96875 8.296875 48.78125 10.40625 \r\nL 48.78125 2.09375 \r\nQ 45.015625 0.34375 40.984375 -0.53125 \r\nQ 36.96875 -1.421875 32.421875 -1.421875 \r\nQ 20.0625 -1.421875 12.78125 6.34375 \r\nQ 5.515625 14.109375 5.515625 27.296875 \r\nQ 5.515625 40.671875 12.859375 48.328125 \r\nQ 20.21875 56 33.015625 56 \r\nQ 37.15625 56 41.109375 55.140625 \r\nQ 45.0625 54.296875 48.78125 52.59375 \r\nz\r\n\" id=\"DejaVuSans-99\"/>\r\n        <path id=\"DejaVuSans-32\"/>\r\n        <path d=\"M 44.390625 34.1875 \r\nQ 47.5625 33.109375 50.5625 29.59375 \r\nQ 53.5625 26.078125 56.59375 19.921875 \r\nL 66.609375 0 \r\nL 56 0 \r\nL 46.6875 18.703125 \r\nQ 43.0625 26.03125 39.671875 28.421875 \r\nQ 36.28125 30.8125 30.421875 30.8125 \r\nL 19.671875 30.8125 \r\nL 19.671875 0 \r\nL 9.8125 0 \r\nL 9.8125 72.90625 \r\nL 32.078125 72.90625 \r\nQ 44.578125 72.90625 50.734375 67.671875 \r\nQ 56.890625 62.453125 56.890625 51.90625 \r\nQ 56.890625 45.015625 53.6875 40.46875 \r\nQ 50.484375 35.9375 44.390625 34.1875 \r\nz\r\nM 19.671875 64.796875 \r\nL 19.671875 38.921875 \r\nL 32.078125 38.921875 \r\nQ 39.203125 38.921875 42.84375 42.21875 \r\nQ 46.484375 45.515625 46.484375 51.90625 \r\nQ 46.484375 58.296875 42.84375 61.546875 \r\nQ 39.203125 64.796875 32.078125 64.796875 \r\nz\r\n\" id=\"DejaVuSans-82\"/>\r\n        <path d=\"M 56.203125 29.59375 \r\nL 56.203125 25.203125 \r\nL 14.890625 25.203125 \r\nQ 15.484375 15.921875 20.484375 11.0625 \r\nQ 25.484375 6.203125 34.421875 6.203125 \r\nQ 39.59375 6.203125 44.453125 7.46875 \r\nQ 49.3125 8.734375 54.109375 11.28125 \r\nL 54.109375 2.78125 \r\nQ 49.265625 0.734375 44.1875 -0.34375 \r\nQ 39.109375 -1.421875 33.890625 -1.421875 \r\nQ 20.796875 -1.421875 13.15625 6.1875 \r\nQ 5.515625 13.8125 5.515625 26.8125 \r\nQ 5.515625 40.234375 12.765625 48.109375 \r\nQ 20.015625 56 32.328125 56 \r\nQ 43.359375 56 49.78125 48.890625 \r\nQ 56.203125 41.796875 56.203125 29.59375 \r\nz\r\nM 47.21875 32.234375 \r\nQ 47.125 39.59375 43.09375 43.984375 \r\nQ 39.0625 48.390625 32.421875 48.390625 \r\nQ 24.90625 48.390625 20.390625 44.140625 \r\nQ 15.875 39.890625 15.1875 32.171875 \r\nz\r\n\" id=\"DejaVuSans-101\"/>\r\n        <path d=\"M 18.109375 8.203125 \r\nL 18.109375 -20.796875 \r\nL 9.078125 -20.796875 \r\nL 9.078125 54.6875 \r\nL 18.109375 54.6875 \r\nL 18.109375 46.390625 \r\nQ 20.953125 51.265625 25.265625 53.625 \r\nQ 29.59375 56 35.59375 56 \r\nQ 45.5625 56 51.78125 48.09375 \r\nQ 58.015625 40.1875 58.015625 27.296875 \r\nQ 58.015625 14.40625 51.78125 6.484375 \r\nQ 45.5625 -1.421875 35.59375 -1.421875 \r\nQ 29.59375 -1.421875 25.265625 0.953125 \r\nQ 20.953125 3.328125 18.109375 8.203125 \r\nz\r\nM 48.6875 27.296875 \r\nQ 48.6875 37.203125 44.609375 42.84375 \r\nQ 40.53125 48.484375 33.40625 48.484375 \r\nQ 26.265625 48.484375 22.1875 42.84375 \r\nQ 18.109375 37.203125 18.109375 27.296875 \r\nQ 18.109375 17.390625 22.1875 11.75 \r\nQ 26.265625 6.109375 33.40625 6.109375 \r\nQ 40.53125 6.109375 44.609375 11.75 \r\nQ 48.6875 17.390625 48.6875 27.296875 \r\nz\r\n\" id=\"DejaVuSans-112\"/>\r\n        <path d=\"M 30.609375 48.390625 \r\nQ 23.390625 48.390625 19.1875 42.75 \r\nQ 14.984375 37.109375 14.984375 27.296875 \r\nQ 14.984375 17.484375 19.15625 11.84375 \r\nQ 23.34375 6.203125 30.609375 6.203125 \r\nQ 37.796875 6.203125 41.984375 11.859375 \r\nQ 46.1875 17.53125 46.1875 27.296875 \r\nQ 46.1875 37.015625 41.984375 42.703125 \r\nQ 37.796875 48.390625 30.609375 48.390625 \r\nz\r\nM 30.609375 56 \r\nQ 42.328125 56 49.015625 48.375 \r\nQ 55.71875 40.765625 55.71875 27.296875 \r\nQ 55.71875 13.875 49.015625 6.21875 \r\nQ 42.328125 -1.421875 30.609375 -1.421875 \r\nQ 18.84375 -1.421875 12.171875 6.21875 \r\nQ 5.515625 13.875 5.515625 27.296875 \r\nQ 5.515625 40.765625 12.171875 48.375 \r\nQ 18.84375 56 30.609375 56 \r\nz\r\n\" id=\"DejaVuSans-111\"/>\r\n        <path d=\"M 41.109375 46.296875 \r\nQ 39.59375 47.171875 37.8125 47.578125 \r\nQ 36.03125 48 33.890625 48 \r\nQ 26.265625 48 22.1875 43.046875 \r\nQ 18.109375 38.09375 18.109375 28.8125 \r\nL 18.109375 0 \r\nL 9.078125 0 \r\nL 9.078125 54.6875 \r\nL 18.109375 54.6875 \r\nL 18.109375 46.1875 \r\nQ 20.953125 51.171875 25.484375 53.578125 \r\nQ 30.03125 56 36.53125 56 \r\nQ 37.453125 56 38.578125 55.875 \r\nQ 39.703125 55.765625 41.0625 55.515625 \r\nz\r\n\" id=\"DejaVuSans-114\"/>\r\n       </defs>\r\n       <use xlink:href=\"#DejaVuSans-65\"/>\r\n       <use x=\"68.408203\" xlink:href=\"#DejaVuSans-110\"/>\r\n       <use x=\"131.787109\" xlink:href=\"#DejaVuSans-97\"/>\r\n       <use x=\"193.066406\" xlink:href=\"#DejaVuSans-108\"/>\r\n       <use x=\"220.849609\" xlink:href=\"#DejaVuSans-121\"/>\r\n       <use x=\"280.029297\" xlink:href=\"#DejaVuSans-116\"/>\r\n       <use x=\"319.238281\" xlink:href=\"#DejaVuSans-105\"/>\r\n       <use x=\"347.021484\" xlink:href=\"#DejaVuSans-99\"/>\r\n       <use x=\"402.001953\" xlink:href=\"#DejaVuSans-97\"/>\r\n       <use x=\"463.28125\" xlink:href=\"#DejaVuSans-108\"/>\r\n       <use x=\"491.064453\" xlink:href=\"#DejaVuSans-32\"/>\r\n       <use x=\"522.851562\" xlink:href=\"#DejaVuSans-82\"/>\r\n       <use x=\"587.833984\" xlink:href=\"#DejaVuSans-101\"/>\r\n       <use x=\"649.357422\" xlink:href=\"#DejaVuSans-112\"/>\r\n       <use x=\"712.833984\" xlink:href=\"#DejaVuSans-111\"/>\r\n       <use x=\"774.015625\" xlink:href=\"#DejaVuSans-114\"/>\r\n       <use x=\"815.128906\" xlink:href=\"#DejaVuSans-116\"/>\r\n      </g>\r\n     </g>\r\n    </g>\r\n    <g id=\"xtick_2\">\r\n     <g id=\"line2d_2\">\r\n      <g>\r\n       <use style=\"stroke:#000000;stroke-width:0.8;\" x=\"194.8525\" xlink:href=\"#m0ad8184a33\" y=\"239.758125\"/>\r\n      </g>\r\n     </g>\r\n     <g id=\"text_2\">\r\n      <!-- Incident Report -->\r\n      <g transform=\"translate(156.526719 254.356562)scale(0.1 -0.1)\">\r\n       <defs>\r\n        <path d=\"M 9.8125 72.90625 \r\nL 19.671875 72.90625 \r\nL 19.671875 0 \r\nL 9.8125 0 \r\nz\r\n\" id=\"DejaVuSans-73\"/>\r\n        <path d=\"M 45.40625 46.390625 \r\nL 45.40625 75.984375 \r\nL 54.390625 75.984375 \r\nL 54.390625 0 \r\nL 45.40625 0 \r\nL 45.40625 8.203125 \r\nQ 42.578125 3.328125 38.25 0.953125 \r\nQ 33.9375 -1.421875 27.875 -1.421875 \r\nQ 17.96875 -1.421875 11.734375 6.484375 \r\nQ 5.515625 14.40625 5.515625 27.296875 \r\nQ 5.515625 40.1875 11.734375 48.09375 \r\nQ 17.96875 56 27.875 56 \r\nQ 33.9375 56 38.25 53.625 \r\nQ 42.578125 51.265625 45.40625 46.390625 \r\nz\r\nM 14.796875 27.296875 \r\nQ 14.796875 17.390625 18.875 11.75 \r\nQ 22.953125 6.109375 30.078125 6.109375 \r\nQ 37.203125 6.109375 41.296875 11.75 \r\nQ 45.40625 17.390625 45.40625 27.296875 \r\nQ 45.40625 37.203125 41.296875 42.84375 \r\nQ 37.203125 48.484375 30.078125 48.484375 \r\nQ 22.953125 48.484375 18.875 42.84375 \r\nQ 14.796875 37.203125 14.796875 27.296875 \r\nz\r\n\" id=\"DejaVuSans-100\"/>\r\n       </defs>\r\n       <use xlink:href=\"#DejaVuSans-73\"/>\r\n       <use x=\"29.492188\" xlink:href=\"#DejaVuSans-110\"/>\r\n       <use x=\"92.871094\" xlink:href=\"#DejaVuSans-99\"/>\r\n       <use x=\"147.851562\" xlink:href=\"#DejaVuSans-105\"/>\r\n       <use x=\"175.634766\" xlink:href=\"#DejaVuSans-100\"/>\r\n       <use x=\"239.111328\" xlink:href=\"#DejaVuSans-101\"/>\r\n       <use x=\"300.634766\" xlink:href=\"#DejaVuSans-110\"/>\r\n       <use x=\"364.013672\" xlink:href=\"#DejaVuSans-116\"/>\r\n       <use x=\"403.222656\" xlink:href=\"#DejaVuSans-32\"/>\r\n       <use x=\"435.009766\" xlink:href=\"#DejaVuSans-82\"/>\r\n       <use x=\"499.992188\" xlink:href=\"#DejaVuSans-101\"/>\r\n       <use x=\"561.515625\" xlink:href=\"#DejaVuSans-112\"/>\r\n       <use x=\"624.992188\" xlink:href=\"#DejaVuSans-111\"/>\r\n       <use x=\"686.173828\" xlink:href=\"#DejaVuSans-114\"/>\r\n       <use x=\"727.287109\" xlink:href=\"#DejaVuSans-116\"/>\r\n      </g>\r\n     </g>\r\n    </g>\r\n    <g id=\"xtick_3\">\r\n     <g id=\"line2d_3\">\r\n      <g>\r\n       <use style=\"stroke:#000000;stroke-width:0.8;\" x=\"249.2125\" xlink:href=\"#m0ad8184a33\" y=\"239.758125\"/>\r\n      </g>\r\n     </g>\r\n     <g id=\"text_3\">\r\n      <!-- Profile Report -->\r\n      <g transform=\"translate(215.503906 254.356562)scale(0.1 -0.1)\">\r\n       <defs>\r\n        <path d=\"M 19.671875 64.796875 \r\nL 19.671875 37.40625 \r\nL 32.078125 37.40625 \r\nQ 38.96875 37.40625 42.71875 40.96875 \r\nQ 46.484375 44.53125 46.484375 51.125 \r\nQ 46.484375 57.671875 42.71875 61.234375 \r\nQ 38.96875 64.796875 32.078125 64.796875 \r\nz\r\nM 9.8125 72.90625 \r\nL 32.078125 72.90625 \r\nQ 44.34375 72.90625 50.609375 67.359375 \r\nQ 56.890625 61.8125 56.890625 51.125 \r\nQ 56.890625 40.328125 50.609375 34.8125 \r\nQ 44.34375 29.296875 32.078125 29.296875 \r\nL 19.671875 29.296875 \r\nL 19.671875 0 \r\nL 9.8125 0 \r\nz\r\n\" id=\"DejaVuSans-80\"/>\r\n        <path d=\"M 37.109375 75.984375 \r\nL 37.109375 68.5 \r\nL 28.515625 68.5 \r\nQ 23.6875 68.5 21.796875 66.546875 \r\nQ 19.921875 64.59375 19.921875 59.515625 \r\nL 19.921875 54.6875 \r\nL 34.71875 54.6875 \r\nL 34.71875 47.703125 \r\nL 19.921875 47.703125 \r\nL 19.921875 0 \r\nL 10.890625 0 \r\nL 10.890625 47.703125 \r\nL 2.296875 47.703125 \r\nL 2.296875 54.6875 \r\nL 10.890625 54.6875 \r\nL 10.890625 58.5 \r\nQ 10.890625 67.625 15.140625 71.796875 \r\nQ 19.390625 75.984375 28.609375 75.984375 \r\nz\r\n\" id=\"DejaVuSans-102\"/>\r\n       </defs>\r\n       <use xlink:href=\"#DejaVuSans-80\"/>\r\n       <use x=\"58.552734\" xlink:href=\"#DejaVuSans-114\"/>\r\n       <use x=\"97.416016\" xlink:href=\"#DejaVuSans-111\"/>\r\n       <use x=\"158.597656\" xlink:href=\"#DejaVuSans-102\"/>\r\n       <use x=\"193.802734\" xlink:href=\"#DejaVuSans-105\"/>\r\n       <use x=\"221.585938\" xlink:href=\"#DejaVuSans-108\"/>\r\n       <use x=\"249.369141\" xlink:href=\"#DejaVuSans-101\"/>\r\n       <use x=\"310.892578\" xlink:href=\"#DejaVuSans-32\"/>\r\n       <use x=\"342.679688\" xlink:href=\"#DejaVuSans-82\"/>\r\n       <use x=\"407.662109\" xlink:href=\"#DejaVuSans-101\"/>\r\n       <use x=\"469.185547\" xlink:href=\"#DejaVuSans-112\"/>\r\n       <use x=\"532.662109\" xlink:href=\"#DejaVuSans-111\"/>\r\n       <use x=\"593.84375\" xlink:href=\"#DejaVuSans-114\"/>\r\n       <use x=\"634.957031\" xlink:href=\"#DejaVuSans-116\"/>\r\n      </g>\r\n     </g>\r\n    </g>\r\n    <g id=\"xtick_4\">\r\n     <g id=\"line2d_4\">\r\n      <g>\r\n       <use style=\"stroke:#000000;stroke-width:0.8;\" x=\"303.5725\" xlink:href=\"#m0ad8184a33\" y=\"239.758125\"/>\r\n      </g>\r\n     </g>\r\n     <g id=\"text_4\">\r\n      <!-- Situation Report -->\r\n      <g transform=\"translate(263.074844 254.356562)scale(0.1 -0.1)\">\r\n       <defs>\r\n        <path d=\"M 53.515625 70.515625 \r\nL 53.515625 60.890625 \r\nQ 47.90625 63.578125 42.921875 64.890625 \r\nQ 37.9375 66.21875 33.296875 66.21875 \r\nQ 25.25 66.21875 20.875 63.09375 \r\nQ 16.5 59.96875 16.5 54.203125 \r\nQ 16.5 49.359375 19.40625 46.890625 \r\nQ 22.3125 44.4375 30.421875 42.921875 \r\nL 36.375 41.703125 \r\nQ 47.40625 39.59375 52.65625 34.296875 \r\nQ 57.90625 29 57.90625 20.125 \r\nQ 57.90625 9.515625 50.796875 4.046875 \r\nQ 43.703125 -1.421875 29.984375 -1.421875 \r\nQ 24.8125 -1.421875 18.96875 -0.25 \r\nQ 13.140625 0.921875 6.890625 3.21875 \r\nL 6.890625 13.375 \r\nQ 12.890625 10.015625 18.65625 8.296875 \r\nQ 24.421875 6.59375 29.984375 6.59375 \r\nQ 38.421875 6.59375 43.015625 9.90625 \r\nQ 47.609375 13.234375 47.609375 19.390625 \r\nQ 47.609375 24.75 44.3125 27.78125 \r\nQ 41.015625 30.8125 33.5 32.328125 \r\nL 27.484375 33.5 \r\nQ 16.453125 35.6875 11.515625 40.375 \r\nQ 6.59375 45.0625 6.59375 53.421875 \r\nQ 6.59375 63.09375 13.40625 68.65625 \r\nQ 20.21875 74.21875 32.171875 74.21875 \r\nQ 37.3125 74.21875 42.625 73.28125 \r\nQ 47.953125 72.359375 53.515625 70.515625 \r\nz\r\n\" id=\"DejaVuSans-83\"/>\r\n        <path d=\"M 8.5 21.578125 \r\nL 8.5 54.6875 \r\nL 17.484375 54.6875 \r\nL 17.484375 21.921875 \r\nQ 17.484375 14.15625 20.5 10.265625 \r\nQ 23.53125 6.390625 29.59375 6.390625 \r\nQ 36.859375 6.390625 41.078125 11.03125 \r\nQ 45.3125 15.671875 45.3125 23.6875 \r\nL 45.3125 54.6875 \r\nL 54.296875 54.6875 \r\nL 54.296875 0 \r\nL 45.3125 0 \r\nL 45.3125 8.40625 \r\nQ 42.046875 3.421875 37.71875 1 \r\nQ 33.40625 -1.421875 27.6875 -1.421875 \r\nQ 18.265625 -1.421875 13.375 4.4375 \r\nQ 8.5 10.296875 8.5 21.578125 \r\nz\r\nM 31.109375 56 \r\nz\r\n\" id=\"DejaVuSans-117\"/>\r\n       </defs>\r\n       <use xlink:href=\"#DejaVuSans-83\"/>\r\n       <use x=\"63.476562\" xlink:href=\"#DejaVuSans-105\"/>\r\n       <use x=\"91.259766\" xlink:href=\"#DejaVuSans-116\"/>\r\n       <use x=\"130.46875\" xlink:href=\"#DejaVuSans-117\"/>\r\n       <use x=\"193.847656\" xlink:href=\"#DejaVuSans-97\"/>\r\n       <use x=\"255.126953\" xlink:href=\"#DejaVuSans-116\"/>\r\n       <use x=\"294.335938\" xlink:href=\"#DejaVuSans-105\"/>\r\n       <use x=\"322.119141\" xlink:href=\"#DejaVuSans-111\"/>\r\n       <use x=\"383.300781\" xlink:href=\"#DejaVuSans-110\"/>\r\n       <use x=\"446.679688\" xlink:href=\"#DejaVuSans-32\"/>\r\n       <use x=\"478.466797\" xlink:href=\"#DejaVuSans-82\"/>\r\n       <use x=\"543.449219\" xlink:href=\"#DejaVuSans-101\"/>\r\n       <use x=\"604.972656\" xlink:href=\"#DejaVuSans-112\"/>\r\n       <use x=\"668.449219\" xlink:href=\"#DejaVuSans-111\"/>\r\n       <use x=\"729.630859\" xlink:href=\"#DejaVuSans-114\"/>\r\n       <use x=\"770.744141\" xlink:href=\"#DejaVuSans-116\"/>\r\n      </g>\r\n     </g>\r\n    </g>\r\n    <g id=\"text_5\">\r\n     <!-- Predicted label -->\r\n     <g transform=\"translate(184.880156 268.034687)scale(0.1 -0.1)\">\r\n      <defs>\r\n       <path d=\"M 48.6875 27.296875 \r\nQ 48.6875 37.203125 44.609375 42.84375 \r\nQ 40.53125 48.484375 33.40625 48.484375 \r\nQ 26.265625 48.484375 22.1875 42.84375 \r\nQ 18.109375 37.203125 18.109375 27.296875 \r\nQ 18.109375 17.390625 22.1875 11.75 \r\nQ 26.265625 6.109375 33.40625 6.109375 \r\nQ 40.53125 6.109375 44.609375 11.75 \r\nQ 48.6875 17.390625 48.6875 27.296875 \r\nz\r\nM 18.109375 46.390625 \r\nQ 20.953125 51.265625 25.265625 53.625 \r\nQ 29.59375 56 35.59375 56 \r\nQ 45.5625 56 51.78125 48.09375 \r\nQ 58.015625 40.1875 58.015625 27.296875 \r\nQ 58.015625 14.40625 51.78125 6.484375 \r\nQ 45.5625 -1.421875 35.59375 -1.421875 \r\nQ 29.59375 -1.421875 25.265625 0.953125 \r\nQ 20.953125 3.328125 18.109375 8.203125 \r\nL 18.109375 0 \r\nL 9.078125 0 \r\nL 9.078125 75.984375 \r\nL 18.109375 75.984375 \r\nz\r\n\" id=\"DejaVuSans-98\"/>\r\n      </defs>\r\n      <use xlink:href=\"#DejaVuSans-80\"/>\r\n      <use x=\"58.552734\" xlink:href=\"#DejaVuSans-114\"/>\r\n      <use x=\"97.416016\" xlink:href=\"#DejaVuSans-101\"/>\r\n      <use x=\"158.939453\" xlink:href=\"#DejaVuSans-100\"/>\r\n      <use x=\"222.416016\" xlink:href=\"#DejaVuSans-105\"/>\r\n      <use x=\"250.199219\" xlink:href=\"#DejaVuSans-99\"/>\r\n      <use x=\"305.179688\" xlink:href=\"#DejaVuSans-116\"/>\r\n      <use x=\"344.388672\" xlink:href=\"#DejaVuSans-101\"/>\r\n      <use x=\"405.912109\" xlink:href=\"#DejaVuSans-100\"/>\r\n      <use x=\"469.388672\" xlink:href=\"#DejaVuSans-32\"/>\r\n      <use x=\"501.175781\" xlink:href=\"#DejaVuSans-108\"/>\r\n      <use x=\"528.958984\" xlink:href=\"#DejaVuSans-97\"/>\r\n      <use x=\"590.238281\" xlink:href=\"#DejaVuSans-98\"/>\r\n      <use x=\"653.714844\" xlink:href=\"#DejaVuSans-101\"/>\r\n      <use x=\"715.238281\" xlink:href=\"#DejaVuSans-108\"/>\r\n     </g>\r\n    </g>\r\n   </g>\r\n   <g id=\"matplotlib.axis_2\">\r\n    <g id=\"ytick_1\">\r\n     <g id=\"line2d_5\">\r\n      <defs>\r\n       <path d=\"M 0 0 \r\nL -3.5 0 \r\n\" id=\"m9013a2e104\" style=\"stroke:#000000;stroke-width:0.8;\"/>\r\n      </defs>\r\n      <g>\r\n       <use style=\"stroke:#000000;stroke-width:0.8;\" x=\"113.3125\" xlink:href=\"#m9013a2e104\" y=\"49.498125\"/>\r\n      </g>\r\n     </g>\r\n     <g id=\"text_6\">\r\n      <!-- Analytical Report -->\r\n      <g transform=\"translate(20.878125 53.297344)scale(0.1 -0.1)\">\r\n       <use xlink:href=\"#DejaVuSans-65\"/>\r\n       <use x=\"68.408203\" xlink:href=\"#DejaVuSans-110\"/>\r\n       <use x=\"131.787109\" xlink:href=\"#DejaVuSans-97\"/>\r\n       <use x=\"193.066406\" xlink:href=\"#DejaVuSans-108\"/>\r\n       <use x=\"220.849609\" xlink:href=\"#DejaVuSans-121\"/>\r\n       <use x=\"280.029297\" xlink:href=\"#DejaVuSans-116\"/>\r\n       <use x=\"319.238281\" xlink:href=\"#DejaVuSans-105\"/>\r\n       <use x=\"347.021484\" xlink:href=\"#DejaVuSans-99\"/>\r\n       <use x=\"402.001953\" xlink:href=\"#DejaVuSans-97\"/>\r\n       <use x=\"463.28125\" xlink:href=\"#DejaVuSans-108\"/>\r\n       <use x=\"491.064453\" xlink:href=\"#DejaVuSans-32\"/>\r\n       <use x=\"522.851562\" xlink:href=\"#DejaVuSans-82\"/>\r\n       <use x=\"587.833984\" xlink:href=\"#DejaVuSans-101\"/>\r\n       <use x=\"649.357422\" xlink:href=\"#DejaVuSans-112\"/>\r\n       <use x=\"712.833984\" xlink:href=\"#DejaVuSans-111\"/>\r\n       <use x=\"774.015625\" xlink:href=\"#DejaVuSans-114\"/>\r\n       <use x=\"815.128906\" xlink:href=\"#DejaVuSans-116\"/>\r\n      </g>\r\n     </g>\r\n    </g>\r\n    <g id=\"ytick_2\">\r\n     <g id=\"line2d_6\">\r\n      <g>\r\n       <use style=\"stroke:#000000;stroke-width:0.8;\" x=\"113.3125\" xlink:href=\"#m9013a2e104\" y=\"103.858125\"/>\r\n      </g>\r\n     </g>\r\n     <g id=\"text_7\">\r\n      <!-- Incident Report -->\r\n      <g transform=\"translate(29.660938 107.657344)scale(0.1 -0.1)\">\r\n       <use xlink:href=\"#DejaVuSans-73\"/>\r\n       <use x=\"29.492188\" xlink:href=\"#DejaVuSans-110\"/>\r\n       <use x=\"92.871094\" xlink:href=\"#DejaVuSans-99\"/>\r\n       <use x=\"147.851562\" xlink:href=\"#DejaVuSans-105\"/>\r\n       <use x=\"175.634766\" xlink:href=\"#DejaVuSans-100\"/>\r\n       <use x=\"239.111328\" xlink:href=\"#DejaVuSans-101\"/>\r\n       <use x=\"300.634766\" xlink:href=\"#DejaVuSans-110\"/>\r\n       <use x=\"364.013672\" xlink:href=\"#DejaVuSans-116\"/>\r\n       <use x=\"403.222656\" xlink:href=\"#DejaVuSans-32\"/>\r\n       <use x=\"435.009766\" xlink:href=\"#DejaVuSans-82\"/>\r\n       <use x=\"499.992188\" xlink:href=\"#DejaVuSans-101\"/>\r\n       <use x=\"561.515625\" xlink:href=\"#DejaVuSans-112\"/>\r\n       <use x=\"624.992188\" xlink:href=\"#DejaVuSans-111\"/>\r\n       <use x=\"686.173828\" xlink:href=\"#DejaVuSans-114\"/>\r\n       <use x=\"727.287109\" xlink:href=\"#DejaVuSans-116\"/>\r\n      </g>\r\n     </g>\r\n    </g>\r\n    <g id=\"ytick_3\">\r\n     <g id=\"line2d_7\">\r\n      <g>\r\n       <use style=\"stroke:#000000;stroke-width:0.8;\" x=\"113.3125\" xlink:href=\"#m9013a2e104\" y=\"158.218125\"/>\r\n      </g>\r\n     </g>\r\n     <g id=\"text_8\">\r\n      <!-- Profile Report -->\r\n      <g transform=\"translate(38.895313 162.017344)scale(0.1 -0.1)\">\r\n       <use xlink:href=\"#DejaVuSans-80\"/>\r\n       <use x=\"58.552734\" xlink:href=\"#DejaVuSans-114\"/>\r\n       <use x=\"97.416016\" xlink:href=\"#DejaVuSans-111\"/>\r\n       <use x=\"158.597656\" xlink:href=\"#DejaVuSans-102\"/>\r\n       <use x=\"193.802734\" xlink:href=\"#DejaVuSans-105\"/>\r\n       <use x=\"221.585938\" xlink:href=\"#DejaVuSans-108\"/>\r\n       <use x=\"249.369141\" xlink:href=\"#DejaVuSans-101\"/>\r\n       <use x=\"310.892578\" xlink:href=\"#DejaVuSans-32\"/>\r\n       <use x=\"342.679688\" xlink:href=\"#DejaVuSans-82\"/>\r\n       <use x=\"407.662109\" xlink:href=\"#DejaVuSans-101\"/>\r\n       <use x=\"469.185547\" xlink:href=\"#DejaVuSans-112\"/>\r\n       <use x=\"532.662109\" xlink:href=\"#DejaVuSans-111\"/>\r\n       <use x=\"593.84375\" xlink:href=\"#DejaVuSans-114\"/>\r\n       <use x=\"634.957031\" xlink:href=\"#DejaVuSans-116\"/>\r\n      </g>\r\n     </g>\r\n    </g>\r\n    <g id=\"ytick_4\">\r\n     <g id=\"line2d_8\">\r\n      <g>\r\n       <use style=\"stroke:#000000;stroke-width:0.8;\" x=\"113.3125\" xlink:href=\"#m9013a2e104\" y=\"212.578125\"/>\r\n      </g>\r\n     </g>\r\n     <g id=\"text_9\">\r\n      <!-- Situation Report -->\r\n      <g transform=\"translate(25.317187 216.377344)scale(0.1 -0.1)\">\r\n       <use xlink:href=\"#DejaVuSans-83\"/>\r\n       <use x=\"63.476562\" xlink:href=\"#DejaVuSans-105\"/>\r\n       <use x=\"91.259766\" xlink:href=\"#DejaVuSans-116\"/>\r\n       <use x=\"130.46875\" xlink:href=\"#DejaVuSans-117\"/>\r\n       <use x=\"193.847656\" xlink:href=\"#DejaVuSans-97\"/>\r\n       <use x=\"255.126953\" xlink:href=\"#DejaVuSans-116\"/>\r\n       <use x=\"294.335938\" xlink:href=\"#DejaVuSans-105\"/>\r\n       <use x=\"322.119141\" xlink:href=\"#DejaVuSans-111\"/>\r\n       <use x=\"383.300781\" xlink:href=\"#DejaVuSans-110\"/>\r\n       <use x=\"446.679688\" xlink:href=\"#DejaVuSans-32\"/>\r\n       <use x=\"478.466797\" xlink:href=\"#DejaVuSans-82\"/>\r\n       <use x=\"543.449219\" xlink:href=\"#DejaVuSans-101\"/>\r\n       <use x=\"604.972656\" xlink:href=\"#DejaVuSans-112\"/>\r\n       <use x=\"668.449219\" xlink:href=\"#DejaVuSans-111\"/>\r\n       <use x=\"729.630859\" xlink:href=\"#DejaVuSans-114\"/>\r\n       <use x=\"770.744141\" xlink:href=\"#DejaVuSans-116\"/>\r\n      </g>\r\n     </g>\r\n    </g>\r\n    <g id=\"text_10\">\r\n     <!-- True label -->\r\n     <g transform=\"translate(14.798437 155.337344)rotate(-90)scale(0.1 -0.1)\">\r\n      <defs>\r\n       <path d=\"M -0.296875 72.90625 \r\nL 61.375 72.90625 \r\nL 61.375 64.59375 \r\nL 35.5 64.59375 \r\nL 35.5 0 \r\nL 25.59375 0 \r\nL 25.59375 64.59375 \r\nL -0.296875 64.59375 \r\nz\r\n\" id=\"DejaVuSans-84\"/>\r\n      </defs>\r\n      <use xlink:href=\"#DejaVuSans-84\"/>\r\n      <use x=\"46.333984\" xlink:href=\"#DejaVuSans-114\"/>\r\n      <use x=\"87.447266\" xlink:href=\"#DejaVuSans-117\"/>\r\n      <use x=\"150.826172\" xlink:href=\"#DejaVuSans-101\"/>\r\n      <use x=\"212.349609\" xlink:href=\"#DejaVuSans-32\"/>\r\n      <use x=\"244.136719\" xlink:href=\"#DejaVuSans-108\"/>\r\n      <use x=\"271.919922\" xlink:href=\"#DejaVuSans-97\"/>\r\n      <use x=\"333.199219\" xlink:href=\"#DejaVuSans-98\"/>\r\n      <use x=\"396.675781\" xlink:href=\"#DejaVuSans-101\"/>\r\n      <use x=\"458.199219\" xlink:href=\"#DejaVuSans-108\"/>\r\n     </g>\r\n    </g>\r\n   </g>\r\n   <g id=\"patch_3\">\r\n    <path d=\"M 113.3125 239.758125 \r\nL 113.3125 22.318125 \r\n\" style=\"fill:none;stroke:#000000;stroke-linecap:square;stroke-linejoin:miter;stroke-width:0.8;\"/>\r\n   </g>\r\n   <g id=\"patch_4\">\r\n    <path d=\"M 330.7525 239.758125 \r\nL 330.7525 22.318125 \r\n\" style=\"fill:none;stroke:#000000;stroke-linecap:square;stroke-linejoin:miter;stroke-width:0.8;\"/>\r\n   </g>\r\n   <g id=\"patch_5\">\r\n    <path d=\"M 113.3125 239.758125 \r\nL 330.7525 239.758125 \r\n\" style=\"fill:none;stroke:#000000;stroke-linecap:square;stroke-linejoin:miter;stroke-width:0.8;\"/>\r\n   </g>\r\n   <g id=\"patch_6\">\r\n    <path d=\"M 113.3125 22.318125 \r\nL 330.7525 22.318125 \r\n\" style=\"fill:none;stroke:#000000;stroke-linecap:square;stroke-linejoin:miter;stroke-width:0.8;\"/>\r\n   </g>\r\n   <g id=\"text_11\">\r\n    <!-- 5 -->\r\n    <g style=\"fill:#f7fbff;\" transform=\"translate(137.31125 52.2575)scale(0.1 -0.1)\">\r\n     <defs>\r\n      <path d=\"M 10.796875 72.90625 \r\nL 49.515625 72.90625 \r\nL 49.515625 64.59375 \r\nL 19.828125 64.59375 \r\nL 19.828125 46.734375 \r\nQ 21.96875 47.46875 24.109375 47.828125 \r\nQ 26.265625 48.1875 28.421875 48.1875 \r\nQ 40.625 48.1875 47.75 41.5 \r\nQ 54.890625 34.8125 54.890625 23.390625 \r\nQ 54.890625 11.625 47.5625 5.09375 \r\nQ 40.234375 -1.421875 26.90625 -1.421875 \r\nQ 22.3125 -1.421875 17.546875 -0.640625 \r\nQ 12.796875 0.140625 7.71875 1.703125 \r\nL 7.71875 11.625 \r\nQ 12.109375 9.234375 16.796875 8.0625 \r\nQ 21.484375 6.890625 26.703125 6.890625 \r\nQ 35.15625 6.890625 40.078125 11.328125 \r\nQ 45.015625 15.765625 45.015625 23.390625 \r\nQ 45.015625 31 40.078125 35.4375 \r\nQ 35.15625 39.890625 26.703125 39.890625 \r\nQ 22.75 39.890625 18.8125 39.015625 \r\nQ 14.890625 38.140625 10.796875 36.28125 \r\nz\r\n\" id=\"DejaVuSans-53\"/>\r\n     </defs>\r\n     <use xlink:href=\"#DejaVuSans-53\"/>\r\n    </g>\r\n   </g>\r\n   <g id=\"text_12\">\r\n    <!-- 0 -->\r\n    <g style=\"fill:#08306b;\" transform=\"translate(191.67125 52.2575)scale(0.1 -0.1)\">\r\n     <defs>\r\n      <path d=\"M 31.78125 66.40625 \r\nQ 24.171875 66.40625 20.328125 58.90625 \r\nQ 16.5 51.421875 16.5 36.375 \r\nQ 16.5 21.390625 20.328125 13.890625 \r\nQ 24.171875 6.390625 31.78125 6.390625 \r\nQ 39.453125 6.390625 43.28125 13.890625 \r\nQ 47.125 21.390625 47.125 36.375 \r\nQ 47.125 51.421875 43.28125 58.90625 \r\nQ 39.453125 66.40625 31.78125 66.40625 \r\nz\r\nM 31.78125 74.21875 \r\nQ 44.046875 74.21875 50.515625 64.515625 \r\nQ 56.984375 54.828125 56.984375 36.375 \r\nQ 56.984375 17.96875 50.515625 8.265625 \r\nQ 44.046875 -1.421875 31.78125 -1.421875 \r\nQ 19.53125 -1.421875 13.0625 8.265625 \r\nQ 6.59375 17.96875 6.59375 36.375 \r\nQ 6.59375 54.828125 13.0625 64.515625 \r\nQ 19.53125 74.21875 31.78125 74.21875 \r\nz\r\n\" id=\"DejaVuSans-48\"/>\r\n     </defs>\r\n     <use xlink:href=\"#DejaVuSans-48\"/>\r\n    </g>\r\n   </g>\r\n   <g id=\"text_13\">\r\n    <!-- 0 -->\r\n    <g style=\"fill:#08306b;\" transform=\"translate(246.03125 52.2575)scale(0.1 -0.1)\">\r\n     <use xlink:href=\"#DejaVuSans-48\"/>\r\n    </g>\r\n   </g>\r\n   <g id=\"text_14\">\r\n    <!-- 0 -->\r\n    <g style=\"fill:#08306b;\" transform=\"translate(300.39125 52.2575)scale(0.1 -0.1)\">\r\n     <use xlink:href=\"#DejaVuSans-48\"/>\r\n    </g>\r\n   </g>\r\n   <g id=\"text_15\">\r\n    <!-- 0 -->\r\n    <g style=\"fill:#08306b;\" transform=\"translate(137.31125 106.6175)scale(0.1 -0.1)\">\r\n     <use xlink:href=\"#DejaVuSans-48\"/>\r\n    </g>\r\n   </g>\r\n   <g id=\"text_16\">\r\n    <!-- 7 -->\r\n    <g style=\"fill:#f7fbff;\" transform=\"translate(191.67125 106.6175)scale(0.1 -0.1)\">\r\n     <defs>\r\n      <path d=\"M 8.203125 72.90625 \r\nL 55.078125 72.90625 \r\nL 55.078125 68.703125 \r\nL 28.609375 0 \r\nL 18.3125 0 \r\nL 43.21875 64.59375 \r\nL 8.203125 64.59375 \r\nz\r\n\" id=\"DejaVuSans-55\"/>\r\n     </defs>\r\n     <use xlink:href=\"#DejaVuSans-55\"/>\r\n    </g>\r\n   </g>\r\n   <g id=\"text_17\">\r\n    <!-- 0 -->\r\n    <g style=\"fill:#08306b;\" transform=\"translate(246.03125 106.6175)scale(0.1 -0.1)\">\r\n     <use xlink:href=\"#DejaVuSans-48\"/>\r\n    </g>\r\n   </g>\r\n   <g id=\"text_18\">\r\n    <!-- 2 -->\r\n    <g style=\"fill:#08306b;\" transform=\"translate(300.39125 106.6175)scale(0.1 -0.1)\">\r\n     <defs>\r\n      <path d=\"M 19.1875 8.296875 \r\nL 53.609375 8.296875 \r\nL 53.609375 0 \r\nL 7.328125 0 \r\nL 7.328125 8.296875 \r\nQ 12.9375 14.109375 22.625 23.890625 \r\nQ 32.328125 33.6875 34.8125 36.53125 \r\nQ 39.546875 41.84375 41.421875 45.53125 \r\nQ 43.3125 49.21875 43.3125 52.78125 \r\nQ 43.3125 58.59375 39.234375 62.25 \r\nQ 35.15625 65.921875 28.609375 65.921875 \r\nQ 23.96875 65.921875 18.8125 64.3125 \r\nQ 13.671875 62.703125 7.8125 59.421875 \r\nL 7.8125 69.390625 \r\nQ 13.765625 71.78125 18.9375 73 \r\nQ 24.125 74.21875 28.421875 74.21875 \r\nQ 39.75 74.21875 46.484375 68.546875 \r\nQ 53.21875 62.890625 53.21875 53.421875 \r\nQ 53.21875 48.921875 51.53125 44.890625 \r\nQ 49.859375 40.875 45.40625 35.40625 \r\nQ 44.1875 33.984375 37.640625 27.21875 \r\nQ 31.109375 20.453125 19.1875 8.296875 \r\nz\r\n\" id=\"DejaVuSans-50\"/>\r\n     </defs>\r\n     <use xlink:href=\"#DejaVuSans-50\"/>\r\n    </g>\r\n   </g>\r\n   <g id=\"text_19\">\r\n    <!-- 3 -->\r\n    <g style=\"fill:#08306b;\" transform=\"translate(137.31125 160.9775)scale(0.1 -0.1)\">\r\n     <defs>\r\n      <path d=\"M 40.578125 39.3125 \r\nQ 47.65625 37.796875 51.625 33 \r\nQ 55.609375 28.21875 55.609375 21.1875 \r\nQ 55.609375 10.40625 48.1875 4.484375 \r\nQ 40.765625 -1.421875 27.09375 -1.421875 \r\nQ 22.515625 -1.421875 17.65625 -0.515625 \r\nQ 12.796875 0.390625 7.625 2.203125 \r\nL 7.625 11.71875 \r\nQ 11.71875 9.328125 16.59375 8.109375 \r\nQ 21.484375 6.890625 26.8125 6.890625 \r\nQ 36.078125 6.890625 40.9375 10.546875 \r\nQ 45.796875 14.203125 45.796875 21.1875 \r\nQ 45.796875 27.640625 41.28125 31.265625 \r\nQ 36.765625 34.90625 28.71875 34.90625 \r\nL 20.21875 34.90625 \r\nL 20.21875 43.015625 \r\nL 29.109375 43.015625 \r\nQ 36.375 43.015625 40.234375 45.921875 \r\nQ 44.09375 48.828125 44.09375 54.296875 \r\nQ 44.09375 59.90625 40.109375 62.90625 \r\nQ 36.140625 65.921875 28.71875 65.921875 \r\nQ 24.65625 65.921875 20.015625 65.03125 \r\nQ 15.375 64.15625 9.8125 62.3125 \r\nL 9.8125 71.09375 \r\nQ 15.4375 72.65625 20.34375 73.4375 \r\nQ 25.25 74.21875 29.59375 74.21875 \r\nQ 40.828125 74.21875 47.359375 69.109375 \r\nQ 53.90625 64.015625 53.90625 55.328125 \r\nQ 53.90625 49.265625 50.4375 45.09375 \r\nQ 46.96875 40.921875 40.578125 39.3125 \r\nz\r\n\" id=\"DejaVuSans-51\"/>\r\n     </defs>\r\n     <use xlink:href=\"#DejaVuSans-51\"/>\r\n    </g>\r\n   </g>\r\n   <g id=\"text_20\">\r\n    <!-- 7 -->\r\n    <g style=\"fill:#f7fbff;\" transform=\"translate(191.67125 160.9775)scale(0.1 -0.1)\">\r\n     <use xlink:href=\"#DejaVuSans-55\"/>\r\n    </g>\r\n   </g>\r\n   <g id=\"text_21\">\r\n    <!-- 3 -->\r\n    <g style=\"fill:#08306b;\" transform=\"translate(246.03125 160.9775)scale(0.1 -0.1)\">\r\n     <use xlink:href=\"#DejaVuSans-51\"/>\r\n    </g>\r\n   </g>\r\n   <g id=\"text_22\">\r\n    <!-- 0 -->\r\n    <g style=\"fill:#08306b;\" transform=\"translate(300.39125 160.9775)scale(0.1 -0.1)\">\r\n     <use xlink:href=\"#DejaVuSans-48\"/>\r\n    </g>\r\n   </g>\r\n   <g id=\"text_23\">\r\n    <!-- 3 -->\r\n    <g style=\"fill:#08306b;\" transform=\"translate(137.31125 215.3375)scale(0.1 -0.1)\">\r\n     <use xlink:href=\"#DejaVuSans-51\"/>\r\n    </g>\r\n   </g>\r\n   <g id=\"text_24\">\r\n    <!-- 4 -->\r\n    <g style=\"fill:#f7fbff;\" transform=\"translate(191.67125 215.3375)scale(0.1 -0.1)\">\r\n     <defs>\r\n      <path d=\"M 37.796875 64.3125 \r\nL 12.890625 25.390625 \r\nL 37.796875 25.390625 \r\nz\r\nM 35.203125 72.90625 \r\nL 47.609375 72.90625 \r\nL 47.609375 25.390625 \r\nL 58.015625 25.390625 \r\nL 58.015625 17.1875 \r\nL 47.609375 17.1875 \r\nL 47.609375 0 \r\nL 37.796875 0 \r\nL 37.796875 17.1875 \r\nL 4.890625 17.1875 \r\nL 4.890625 26.703125 \r\nz\r\n\" id=\"DejaVuSans-52\"/>\r\n     </defs>\r\n     <use xlink:href=\"#DejaVuSans-52\"/>\r\n    </g>\r\n   </g>\r\n   <g id=\"text_25\">\r\n    <!-- 0 -->\r\n    <g style=\"fill:#08306b;\" transform=\"translate(246.03125 215.3375)scale(0.1 -0.1)\">\r\n     <use xlink:href=\"#DejaVuSans-48\"/>\r\n    </g>\r\n   </g>\r\n   <g id=\"text_26\">\r\n    <!-- 2 -->\r\n    <g style=\"fill:#08306b;\" transform=\"translate(300.39125 215.3375)scale(0.1 -0.1)\">\r\n     <use xlink:href=\"#DejaVuSans-50\"/>\r\n    </g>\r\n   </g>\r\n   <g id=\"text_27\">\r\n    <!-- Validation dataset Random Forest Classifier -->\r\n    <g transform=\"translate(91.458438 16.318125)scale(0.12 -0.12)\">\r\n     <defs>\r\n      <path d=\"M 28.609375 0 \r\nL 0.78125 72.90625 \r\nL 11.078125 72.90625 \r\nL 34.1875 11.53125 \r\nL 57.328125 72.90625 \r\nL 67.578125 72.90625 \r\nL 39.796875 0 \r\nz\r\n\" id=\"DejaVuSans-86\"/>\r\n      <path d=\"M 44.28125 53.078125 \r\nL 44.28125 44.578125 \r\nQ 40.484375 46.53125 36.375 47.5 \r\nQ 32.28125 48.484375 27.875 48.484375 \r\nQ 21.1875 48.484375 17.84375 46.4375 \r\nQ 14.5 44.390625 14.5 40.28125 \r\nQ 14.5 37.15625 16.890625 35.375 \r\nQ 19.28125 33.59375 26.515625 31.984375 \r\nL 29.59375 31.296875 \r\nQ 39.15625 29.25 43.1875 25.515625 \r\nQ 47.21875 21.78125 47.21875 15.09375 \r\nQ 47.21875 7.46875 41.1875 3.015625 \r\nQ 35.15625 -1.421875 24.609375 -1.421875 \r\nQ 20.21875 -1.421875 15.453125 -0.5625 \r\nQ 10.6875 0.296875 5.421875 2 \r\nL 5.421875 11.28125 \r\nQ 10.40625 8.6875 15.234375 7.390625 \r\nQ 20.0625 6.109375 24.8125 6.109375 \r\nQ 31.15625 6.109375 34.5625 8.28125 \r\nQ 37.984375 10.453125 37.984375 14.40625 \r\nQ 37.984375 18.0625 35.515625 20.015625 \r\nQ 33.0625 21.96875 24.703125 23.78125 \r\nL 21.578125 24.515625 \r\nQ 13.234375 26.265625 9.515625 29.90625 \r\nQ 5.8125 33.546875 5.8125 39.890625 \r\nQ 5.8125 47.609375 11.28125 51.796875 \r\nQ 16.75 56 26.8125 56 \r\nQ 31.78125 56 36.171875 55.265625 \r\nQ 40.578125 54.546875 44.28125 53.078125 \r\nz\r\n\" id=\"DejaVuSans-115\"/>\r\n      <path d=\"M 52 44.1875 \r\nQ 55.375 50.25 60.0625 53.125 \r\nQ 64.75 56 71.09375 56 \r\nQ 79.640625 56 84.28125 50.015625 \r\nQ 88.921875 44.046875 88.921875 33.015625 \r\nL 88.921875 0 \r\nL 79.890625 0 \r\nL 79.890625 32.71875 \r\nQ 79.890625 40.578125 77.09375 44.375 \r\nQ 74.3125 48.1875 68.609375 48.1875 \r\nQ 61.625 48.1875 57.5625 43.546875 \r\nQ 53.515625 38.921875 53.515625 30.90625 \r\nL 53.515625 0 \r\nL 44.484375 0 \r\nL 44.484375 32.71875 \r\nQ 44.484375 40.625 41.703125 44.40625 \r\nQ 38.921875 48.1875 33.109375 48.1875 \r\nQ 26.21875 48.1875 22.15625 43.53125 \r\nQ 18.109375 38.875 18.109375 30.90625 \r\nL 18.109375 0 \r\nL 9.078125 0 \r\nL 9.078125 54.6875 \r\nL 18.109375 54.6875 \r\nL 18.109375 46.1875 \r\nQ 21.1875 51.21875 25.484375 53.609375 \r\nQ 29.78125 56 35.6875 56 \r\nQ 41.65625 56 45.828125 52.96875 \r\nQ 50 49.953125 52 44.1875 \r\nz\r\n\" id=\"DejaVuSans-109\"/>\r\n      <path d=\"M 9.8125 72.90625 \r\nL 51.703125 72.90625 \r\nL 51.703125 64.59375 \r\nL 19.671875 64.59375 \r\nL 19.671875 43.109375 \r\nL 48.578125 43.109375 \r\nL 48.578125 34.8125 \r\nL 19.671875 34.8125 \r\nL 19.671875 0 \r\nL 9.8125 0 \r\nz\r\n\" id=\"DejaVuSans-70\"/>\r\n      <path d=\"M 64.40625 67.28125 \r\nL 64.40625 56.890625 \r\nQ 59.421875 61.53125 53.78125 63.8125 \r\nQ 48.140625 66.109375 41.796875 66.109375 \r\nQ 29.296875 66.109375 22.65625 58.46875 \r\nQ 16.015625 50.828125 16.015625 36.375 \r\nQ 16.015625 21.96875 22.65625 14.328125 \r\nQ 29.296875 6.6875 41.796875 6.6875 \r\nQ 48.140625 6.6875 53.78125 8.984375 \r\nQ 59.421875 11.28125 64.40625 15.921875 \r\nL 64.40625 5.609375 \r\nQ 59.234375 2.09375 53.4375 0.328125 \r\nQ 47.65625 -1.421875 41.21875 -1.421875 \r\nQ 24.65625 -1.421875 15.125 8.703125 \r\nQ 5.609375 18.84375 5.609375 36.375 \r\nQ 5.609375 53.953125 15.125 64.078125 \r\nQ 24.65625 74.21875 41.21875 74.21875 \r\nQ 47.75 74.21875 53.53125 72.484375 \r\nQ 59.328125 70.75 64.40625 67.28125 \r\nz\r\n\" id=\"DejaVuSans-67\"/>\r\n     </defs>\r\n     <use xlink:href=\"#DejaVuSans-86\"/>\r\n     <use x=\"60.658203\" xlink:href=\"#DejaVuSans-97\"/>\r\n     <use x=\"121.9375\" xlink:href=\"#DejaVuSans-108\"/>\r\n     <use x=\"149.720703\" xlink:href=\"#DejaVuSans-105\"/>\r\n     <use x=\"177.503906\" xlink:href=\"#DejaVuSans-100\"/>\r\n     <use x=\"240.980469\" xlink:href=\"#DejaVuSans-97\"/>\r\n     <use x=\"302.259766\" xlink:href=\"#DejaVuSans-116\"/>\r\n     <use x=\"341.46875\" xlink:href=\"#DejaVuSans-105\"/>\r\n     <use x=\"369.251953\" xlink:href=\"#DejaVuSans-111\"/>\r\n     <use x=\"430.433594\" xlink:href=\"#DejaVuSans-110\"/>\r\n     <use x=\"493.8125\" xlink:href=\"#DejaVuSans-32\"/>\r\n     <use x=\"525.599609\" xlink:href=\"#DejaVuSans-100\"/>\r\n     <use x=\"589.076172\" xlink:href=\"#DejaVuSans-97\"/>\r\n     <use x=\"650.355469\" xlink:href=\"#DejaVuSans-116\"/>\r\n     <use x=\"689.564453\" xlink:href=\"#DejaVuSans-97\"/>\r\n     <use x=\"750.84375\" xlink:href=\"#DejaVuSans-115\"/>\r\n     <use x=\"802.943359\" xlink:href=\"#DejaVuSans-101\"/>\r\n     <use x=\"864.466797\" xlink:href=\"#DejaVuSans-116\"/>\r\n     <use x=\"903.675781\" xlink:href=\"#DejaVuSans-32\"/>\r\n     <use x=\"935.462891\" xlink:href=\"#DejaVuSans-82\"/>\r\n     <use x=\"1002.695312\" xlink:href=\"#DejaVuSans-97\"/>\r\n     <use x=\"1063.974609\" xlink:href=\"#DejaVuSans-110\"/>\r\n     <use x=\"1127.353516\" xlink:href=\"#DejaVuSans-100\"/>\r\n     <use x=\"1190.830078\" xlink:href=\"#DejaVuSans-111\"/>\r\n     <use x=\"1252.011719\" xlink:href=\"#DejaVuSans-109\"/>\r\n     <use x=\"1349.423828\" xlink:href=\"#DejaVuSans-32\"/>\r\n     <use x=\"1381.210938\" xlink:href=\"#DejaVuSans-70\"/>\r\n     <use x=\"1435.105469\" xlink:href=\"#DejaVuSans-111\"/>\r\n     <use x=\"1496.287109\" xlink:href=\"#DejaVuSans-114\"/>\r\n     <use x=\"1535.150391\" xlink:href=\"#DejaVuSans-101\"/>\r\n     <use x=\"1596.673828\" xlink:href=\"#DejaVuSans-115\"/>\r\n     <use x=\"1648.773438\" xlink:href=\"#DejaVuSans-116\"/>\r\n     <use x=\"1687.982422\" xlink:href=\"#DejaVuSans-32\"/>\r\n     <use x=\"1719.769531\" xlink:href=\"#DejaVuSans-67\"/>\r\n     <use x=\"1789.59375\" xlink:href=\"#DejaVuSans-108\"/>\r\n     <use x=\"1817.376953\" xlink:href=\"#DejaVuSans-97\"/>\r\n     <use x=\"1878.65625\" xlink:href=\"#DejaVuSans-115\"/>\r\n     <use x=\"1930.755859\" xlink:href=\"#DejaVuSans-115\"/>\r\n     <use x=\"1982.855469\" xlink:href=\"#DejaVuSans-105\"/>\r\n     <use x=\"2010.638672\" xlink:href=\"#DejaVuSans-102\"/>\r\n     <use x=\"2045.84375\" xlink:href=\"#DejaVuSans-105\"/>\r\n     <use x=\"2073.626953\" xlink:href=\"#DejaVuSans-101\"/>\r\n     <use x=\"2135.150391\" xlink:href=\"#DejaVuSans-114\"/>\r\n    </g>\r\n   </g>\r\n  </g>\r\n  <g id=\"axes_2\">\r\n   <g id=\"patch_7\">\r\n    <path clip-path=\"url(#p7d8b880b8d)\" d=\"M 347.4925 239.758125 \r\nL 347.4925 238.90875 \r\nL 347.4925 23.1675 \r\nL 347.4925 22.318125 \r\nL 358.3645 22.318125 \r\nL 358.3645 23.1675 \r\nL 358.3645 238.90875 \r\nL 358.3645 239.758125 \r\nz\r\n\" style=\"fill:#ffffff;stroke:#ffffff;stroke-linejoin:miter;stroke-width:0.01;\"/>\r\n   </g>\r\n   <image height=\"217\" id=\"imagea8b88c2017\" transform=\"scale(1 -1)translate(0 -217)\" width=\"11\" x=\"347\" xlink:href=\"data:image/png;base64,\r\niVBORw0KGgoAAAANSUhEUgAAAAsAAADZCAYAAAD2WsoCAAABHElEQVR4nO2YMQ4CMRADA8r/n0uByIYWukwxyIvuamvl2F4nutvjufc4/OYex9gxz+diMKEBsGMCLORcAH0HLEzpQhyEkwEYZgNwLk26kSEdzAbh7NHQeoPZ3bC+OvZGinRX+H9CI0Q67VWQckBkNzygdsNqDi50wAzOlZHnOh/stqjFuUBGGWezN8Dk5VWBlzrtcYKqQGxR7e5eJM9eP3sOIp0X6ALTwXOsScPLBrQ7osw9ndk9KLaot7AR0nn93DEbaLs9nc2/EKj5I3YwJBvslctoRKgBD2jRCJls2g1oeEHy7O4YpJDtZn8CxWycvxlTODNwht0h2fh/u69sfICh3YhGw8n1sia3VGNF0ECTycJedn+BO9ptTX4DblXiEVeBW/gAAAAASUVORK5CYII=\" y=\"-22\"/>\r\n   <g id=\"matplotlib.axis_3\"/>\r\n   <g id=\"matplotlib.axis_4\">\r\n    <g id=\"ytick_5\">\r\n     <g id=\"line2d_9\">\r\n      <defs>\r\n       <path d=\"M 0 0 \r\nL 3.5 0 \r\n\" id=\"mc0926b9be8\" style=\"stroke:#000000;stroke-width:0.8;\"/>\r\n      </defs>\r\n      <g>\r\n       <use style=\"stroke:#000000;stroke-width:0.8;\" x=\"358.3645\" xlink:href=\"#mc0926b9be8\" y=\"239.758125\"/>\r\n      </g>\r\n     </g>\r\n     <g id=\"text_28\">\r\n      <!-- 0 -->\r\n      <g transform=\"translate(365.3645 243.557344)scale(0.1 -0.1)\">\r\n       <use xlink:href=\"#DejaVuSans-48\"/>\r\n      </g>\r\n     </g>\r\n    </g>\r\n    <g id=\"ytick_6\">\r\n     <g id=\"line2d_10\">\r\n      <g>\r\n       <use style=\"stroke:#000000;stroke-width:0.8;\" x=\"358.3645\" xlink:href=\"#mc0926b9be8\" y=\"208.695268\"/>\r\n      </g>\r\n     </g>\r\n     <g id=\"text_29\">\r\n      <!-- 1 -->\r\n      <g transform=\"translate(365.3645 212.494487)scale(0.1 -0.1)\">\r\n       <defs>\r\n        <path d=\"M 12.40625 8.296875 \r\nL 28.515625 8.296875 \r\nL 28.515625 63.921875 \r\nL 10.984375 60.40625 \r\nL 10.984375 69.390625 \r\nL 28.421875 72.90625 \r\nL 38.28125 72.90625 \r\nL 38.28125 8.296875 \r\nL 54.390625 8.296875 \r\nL 54.390625 0 \r\nL 12.40625 0 \r\nz\r\n\" id=\"DejaVuSans-49\"/>\r\n       </defs>\r\n       <use xlink:href=\"#DejaVuSans-49\"/>\r\n      </g>\r\n     </g>\r\n    </g>\r\n    <g id=\"ytick_7\">\r\n     <g id=\"line2d_11\">\r\n      <g>\r\n       <use style=\"stroke:#000000;stroke-width:0.8;\" x=\"358.3645\" xlink:href=\"#mc0926b9be8\" y=\"177.632411\"/>\r\n      </g>\r\n     </g>\r\n     <g id=\"text_30\">\r\n      <!-- 2 -->\r\n      <g transform=\"translate(365.3645 181.431629)scale(0.1 -0.1)\">\r\n       <use xlink:href=\"#DejaVuSans-50\"/>\r\n      </g>\r\n     </g>\r\n    </g>\r\n    <g id=\"ytick_8\">\r\n     <g id=\"line2d_12\">\r\n      <g>\r\n       <use style=\"stroke:#000000;stroke-width:0.8;\" x=\"358.3645\" xlink:href=\"#mc0926b9be8\" y=\"146.569554\"/>\r\n      </g>\r\n     </g>\r\n     <g id=\"text_31\">\r\n      <!-- 3 -->\r\n      <g transform=\"translate(365.3645 150.368772)scale(0.1 -0.1)\">\r\n       <use xlink:href=\"#DejaVuSans-51\"/>\r\n      </g>\r\n     </g>\r\n    </g>\r\n    <g id=\"ytick_9\">\r\n     <g id=\"line2d_13\">\r\n      <g>\r\n       <use style=\"stroke:#000000;stroke-width:0.8;\" x=\"358.3645\" xlink:href=\"#mc0926b9be8\" y=\"115.506696\"/>\r\n      </g>\r\n     </g>\r\n     <g id=\"text_32\">\r\n      <!-- 4 -->\r\n      <g transform=\"translate(365.3645 119.305915)scale(0.1 -0.1)\">\r\n       <use xlink:href=\"#DejaVuSans-52\"/>\r\n      </g>\r\n     </g>\r\n    </g>\r\n    <g id=\"ytick_10\">\r\n     <g id=\"line2d_14\">\r\n      <g>\r\n       <use style=\"stroke:#000000;stroke-width:0.8;\" x=\"358.3645\" xlink:href=\"#mc0926b9be8\" y=\"84.443839\"/>\r\n      </g>\r\n     </g>\r\n     <g id=\"text_33\">\r\n      <!-- 5 -->\r\n      <g transform=\"translate(365.3645 88.243058)scale(0.1 -0.1)\">\r\n       <use xlink:href=\"#DejaVuSans-53\"/>\r\n      </g>\r\n     </g>\r\n    </g>\r\n    <g id=\"ytick_11\">\r\n     <g id=\"line2d_15\">\r\n      <g>\r\n       <use style=\"stroke:#000000;stroke-width:0.8;\" x=\"358.3645\" xlink:href=\"#mc0926b9be8\" y=\"53.380982\"/>\r\n      </g>\r\n     </g>\r\n     <g id=\"text_34\">\r\n      <!-- 6 -->\r\n      <g transform=\"translate(365.3645 57.180201)scale(0.1 -0.1)\">\r\n       <defs>\r\n        <path d=\"M 33.015625 40.375 \r\nQ 26.375 40.375 22.484375 35.828125 \r\nQ 18.609375 31.296875 18.609375 23.390625 \r\nQ 18.609375 15.53125 22.484375 10.953125 \r\nQ 26.375 6.390625 33.015625 6.390625 \r\nQ 39.65625 6.390625 43.53125 10.953125 \r\nQ 47.40625 15.53125 47.40625 23.390625 \r\nQ 47.40625 31.296875 43.53125 35.828125 \r\nQ 39.65625 40.375 33.015625 40.375 \r\nz\r\nM 52.59375 71.296875 \r\nL 52.59375 62.3125 \r\nQ 48.875 64.0625 45.09375 64.984375 \r\nQ 41.3125 65.921875 37.59375 65.921875 \r\nQ 27.828125 65.921875 22.671875 59.328125 \r\nQ 17.53125 52.734375 16.796875 39.40625 \r\nQ 19.671875 43.65625 24.015625 45.921875 \r\nQ 28.375 48.1875 33.59375 48.1875 \r\nQ 44.578125 48.1875 50.953125 41.515625 \r\nQ 57.328125 34.859375 57.328125 23.390625 \r\nQ 57.328125 12.15625 50.6875 5.359375 \r\nQ 44.046875 -1.421875 33.015625 -1.421875 \r\nQ 20.359375 -1.421875 13.671875 8.265625 \r\nQ 6.984375 17.96875 6.984375 36.375 \r\nQ 6.984375 53.65625 15.1875 63.9375 \r\nQ 23.390625 74.21875 37.203125 74.21875 \r\nQ 40.921875 74.21875 44.703125 73.484375 \r\nQ 48.484375 72.75 52.59375 71.296875 \r\nz\r\n\" id=\"DejaVuSans-54\"/>\r\n       </defs>\r\n       <use xlink:href=\"#DejaVuSans-54\"/>\r\n      </g>\r\n     </g>\r\n    </g>\r\n    <g id=\"ytick_12\">\r\n     <g id=\"line2d_16\">\r\n      <g>\r\n       <use style=\"stroke:#000000;stroke-width:0.8;\" x=\"358.3645\" xlink:href=\"#mc0926b9be8\" y=\"22.318125\"/>\r\n      </g>\r\n     </g>\r\n     <g id=\"text_35\">\r\n      <!-- 7 -->\r\n      <g transform=\"translate(365.3645 26.117344)scale(0.1 -0.1)\">\r\n       <use xlink:href=\"#DejaVuSans-55\"/>\r\n      </g>\r\n     </g>\r\n    </g>\r\n   </g>\r\n   <g id=\"patch_8\">\r\n    <path d=\"M 347.4925 239.758125 \r\nL 347.4925 238.90875 \r\nL 347.4925 23.1675 \r\nL 347.4925 22.318125 \r\nL 358.3645 22.318125 \r\nL 358.3645 23.1675 \r\nL 358.3645 238.90875 \r\nL 358.3645 239.758125 \r\nz\r\n\" style=\"fill:none;stroke:#000000;stroke-linejoin:miter;stroke-width:0.8;\"/>\r\n   </g>\r\n  </g>\r\n </g>\r\n <defs>\r\n  <clipPath id=\"p5499dcb45e\">\r\n   <rect height=\"217.44\" width=\"217.44\" x=\"113.3125\" y=\"22.318125\"/>\r\n  </clipPath>\r\n  <clipPath id=\"p7d8b880b8d\">\r\n   <rect height=\"217.44\" width=\"10.872\" x=\"347.4925\" y=\"22.318125\"/>\r\n  </clipPath>\r\n </defs>\r\n</svg>\r\n",
      "image/png": "[encoded data removed]"
     },
     "metadata": {
      "needs_background": "light"
     }
    }
   ],
   "source": [
    "classifier = AdaBoostClassifier(n_estimators=100)\n",
    "classifier.fit(x_train, y_train)\n",
    "\n",
    "score_calulation(classifier, x_train, y_train, 'Train dataset Random Forest Classifier')\n",
    "\n",
    "score_calulation(classifier, x_val, y_val, 'Validation dataset Random Forest Classifier')"
   ]
  },
  {
   "cell_type": "code",
   "execution_count": 35,
   "metadata": {},
   "outputs": [
    {
     "output_type": "stream",
     "name": "stdout",
     "text": [
      "SVC Classifier Regularization parameter 0.1 Kernel type linear F1 Score is 0.8548387096774194\n",
      "SVC Classifier Regularization parameter 0.1 Kernel type poly F1 Score is 0.3024193548387097\n",
      "SVC Classifier Regularization parameter 0.1 Kernel type rbf F1 Score is 0.3387096774193548\n",
      "SVC Classifier Regularization parameter 0.1 Kernel type sigmoid F1 Score is 0.2862903225806452\n",
      "SVC Classifier Regularization parameter 1 Kernel type linear F1 Score is 0.967741935483871\n",
      "SVC Classifier Regularization parameter 1 Kernel type poly F1 Score is 0.3185483870967742\n",
      "SVC Classifier Regularization parameter 1 Kernel type rbf F1 Score is 0.5161290322580645\n",
      "SVC Classifier Regularization parameter 1 Kernel type sigmoid F1 Score is 0.5080645161290323\n",
      "SVC Classifier Regularization parameter 10 Kernel type linear F1 Score is 0.9717741935483871\n",
      "SVC Classifier Regularization parameter 10 Kernel type poly F1 Score is 0.3387096774193548\n",
      "SVC Classifier Regularization parameter 10 Kernel type rbf F1 Score is 0.5403225806451613\n",
      "SVC Classifier Regularization parameter 10 Kernel type sigmoid F1 Score is 0.47580645161290325\n",
      "SVC Classifier Regularization parameter 100 Kernel type linear F1 Score is 0.9596774193548389\n",
      "SVC Classifier Regularization parameter 100 Kernel type poly F1 Score is 0.375\n",
      "SVC Classifier Regularization parameter 100 Kernel type rbf F1 Score is 0.5725806451612904\n",
      "SVC Classifier Regularization parameter 100 Kernel type sigmoid F1 Score is 0.4838709677419355\n"
     ]
    }
   ],
   "source": [
    "# Model with SVC Classifier\n",
    "c = [0.1, 1, 10, 100]\n",
    "kernel_type = [\"linear\", \"poly\", \"rbf\", \"sigmoid\"]\n",
    "\n",
    "for i in range(len(c)):\n",
    "    for j in range(len(kernel_type)):\n",
    "        classifier = SVC(C=c[i], kernel=kernel_type[j])\n",
    "        classifier.fit(x_train, y_train)\n",
    "        y_pred = classifier.predict(x_train)\n",
    "        f1_score_t = f1_score(y_train, y_pred, average='micro')\n",
    "        print_out = 'SVC Classifier Regularization parameter ' +  str(c[i]) +  ' Kernel type ' + str(kernel_type[j]) + ' F1 Score is ' + str(f1_score_t)\n",
    "        print(print_out)"
   ]
  },
  {
   "cell_type": "code",
   "execution_count": 36,
   "metadata": {},
   "outputs": [
    {
     "output_type": "stream",
     "name": "stdout",
     "text": [
      "Result Train dataset SVC Classifier\n",
      "F1 Score is  0.967741935483871\n",
      "Accuracy  Score is  0.967741935483871\n",
      "Recall Score is  0.967741935483871\n",
      "Train dataset SVC Classifier\n",
      "[[59  0  1  0]\n",
      " [ 2 52  0  0]\n",
      " [ 1  0 62  0]\n",
      " [ 1  1  2 67]]\n",
      "Result Validation dataset SVC Classifier\n",
      "F1 Score is  0.8333333333333334\n",
      "Accuracy  Score is  0.8333333333333334\n",
      "Recall Score is  0.8333333333333334\n",
      "Validation dataset SVC Classifier\n",
      "[[ 3  0  2  0]\n",
      " [ 0  9  0  0]\n",
      " [ 1  0 11  1]\n",
      " [ 0  2  0  7]]\n"
     ]
    },
    {
     "output_type": "display_data",
     "data": {
      "text/plain": "<Figure size 432x288 with 2 Axes>",
      "image/svg+xml": "<?xml version=\"1.0\" encoding=\"utf-8\" standalone=\"no\"?>\r\n<!DOCTYPE svg PUBLIC \"-//W3C//DTD SVG 1.1//EN\"\r\n  \"http://www.w3.org/Graphics/SVG/1.1/DTD/svg11.dtd\">\r\n<!-- Created with matplotlib (https://matplotlib.org/) -->\r\n<svg height=\"277.314375pt\" version=\"1.1\" viewBox=\"0 0 385.2895 277.314375\" width=\"385.2895pt\" xmlns=\"http://www.w3.org/2000/svg\" xmlns:xlink=\"http://www.w3.org/1999/xlink\">\r\n <metadata>\r\n  <rdf:RDF xmlns:cc=\"http://creativecommons.org/ns#\" xmlns:dc=\"http://purl.org/dc/elements/1.1/\" xmlns:rdf=\"http://www.w3.org/1999/02/22-rdf-syntax-ns#\">\r\n   <cc:Work>\r\n    <dc:type rdf:resource=\"http://purl.org/dc/dcmitype/StillImage\"/>\r\n    <dc:date>2020-12-18T12:52:00.586190</dc:date>\r\n    <dc:format>image/svg+xml</dc:format>\r\n    <dc:creator>\r\n     <cc:Agent>\r\n      <dc:title>Matplotlib v3.3.2, https://matplotlib.org/</dc:title>\r\n     </cc:Agent>\r\n    </dc:creator>\r\n   </cc:Work>\r\n  </rdf:RDF>\r\n </metadata>\r\n <defs>\r\n  <style type=\"text/css\">*{stroke-linecap:butt;stroke-linejoin:round;}</style>\r\n </defs>\r\n <g id=\"figure_1\">\r\n  <g id=\"patch_1\">\r\n   <path d=\"M 0 277.314375 \r\nL 385.2895 277.314375 \r\nL 385.2895 0 \r\nL 0 0 \r\nz\r\n\" style=\"fill:none;\"/>\r\n  </g>\r\n  <g id=\"axes_1\">\r\n   <g id=\"patch_2\">\r\n    <path d=\"M 113.3125 239.758125 \r\nL 330.7525 239.758125 \r\nL 330.7525 22.318125 \r\nL 113.3125 22.318125 \r\nz\r\n\" style=\"fill:#ffffff;\"/>\r\n   </g>\r\n   <g clip-path=\"url(#p1434df8d33)\">\r\n    <image height=\"218\" id=\"imagee21d7c9d12\" transform=\"scale(1 -1)translate(0 -218)\" width=\"218\" x=\"113.3125\" xlink:href=\"data:image/png;base64,\r\niVBORw0KGgoAAAANSUhEUgAAANoAAADaCAYAAADAHVzbAAAC4UlEQVR4nO3VoU1DURiG4d62ggFIGIEZWAHDFkgSFDugMeyAwbEDw9RgEL1lBsR5TyjPM8GX/HnzL1/f62nDn3I805Nd3TzMnjDMdvYA+A+EBgGhQUBoEBAaBIQGAaFBQGgQEBoEhAYBoUFAaBAQGgSEBgGhQUBoEBAaBIQGAaFBQGgQEBoEhAYBoUFAaBAQGgSEBgGhQUBoEBAaBIQGAaFBQGgQEBoEhAYBoUFAaBAQGgSEBgGhQUBoEBAaBIQGAaFBQGgQEBoEhAYBoUFAaBAQGgSEBgGhQUBoEBAaBIQGgf3sAaPstsvsCcNc3j7PnjDE4fNl9oRhfDQICA0CQoOA0CAgNAgIDQJCg4DQICA0CAgNAkKDgNAgIDQICA0CQoOA0CAgNAgIDQJCg4DQICA0CAgNAkKDgNAgIDQICA0CQoOA0CAgNAgIDQJCg4DQICA0CAgNAkKDgNAgIDQICA0CQoOA0CAgNAgIDQJCg4DQICA0CAgNAkKDgNAgIDQICA0CQoOA0CAgNAjsj+tp9oYhrh/fZ08Y5vDxNHsCv+SjQUBoEBAaBIQGAaFBQGgQEBoEhAYBoUFAaBAQGgSEBgGhQUBoEBAaBIQGAaFBQGgQEBoEhAYBoUFAaBAQGgSEBgGhQUBoEBAaBIQGAaFBQGgQEBoEhAYBoUFAaBAQGgSEBgGhQUBoEBAaBIQGAaFBQGgQEBoEhAYBoUFAaBAQGgSEBgGhQUBoEBAaBIQGAaFBQGgQWC7uXk+zR4xweLufPWGY43qWJ9vstsvsCcP4aBAQGgSEBgGhQUBoEBAaBIQGAaFBQGgQEBoEhAYBoUFAaBAQGgSEBgGhQUBoEBAaBIQGAaFBQGgQEBoEhAYBoUFAaBAQGgSEBgGhQUBoEBAaBIQGAaFBQGgQEBoEhAYBoUFAaBAQGgSEBgGhQUBoEBAaBIQGAaFBQGgQEBoEhAYBoUFAaBAQGgSEBgGhQUBoEPgB3wgZ5myMjTcAAAAASUVORK5CYII=\" y=\"-21.758125\"/>\r\n   </g>\r\n   <g id=\"matplotlib.axis_1\">\r\n    <g id=\"xtick_1\">\r\n     <g id=\"line2d_1\">\r\n      <defs>\r\n       <path d=\"M 0 0 \r\nL 0 3.5 \r\n\" id=\"m6b4bd37b18\" style=\"stroke:#000000;stroke-width:0.8;\"/>\r\n      </defs>\r\n      <g>\r\n       <use style=\"stroke:#000000;stroke-width:0.8;\" x=\"140.4925\" xlink:href=\"#m6b4bd37b18\" y=\"239.758125\"/>\r\n      </g>\r\n     </g>\r\n     <g id=\"text_1\">\r\n      <!-- Analytical Report -->\r\n      <g transform=\"translate(97.775313 254.356562)scale(0.1 -0.1)\">\r\n       <defs>\r\n        <path d=\"M 34.1875 63.1875 \r\nL 20.796875 26.90625 \r\nL 47.609375 26.90625 \r\nz\r\nM 28.609375 72.90625 \r\nL 39.796875 72.90625 \r\nL 67.578125 0 \r\nL 57.328125 0 \r\nL 50.6875 18.703125 \r\nL 17.828125 18.703125 \r\nL 11.1875 0 \r\nL 0.78125 0 \r\nz\r\n\" id=\"DejaVuSans-65\"/>\r\n        <path d=\"M 54.890625 33.015625 \r\nL 54.890625 0 \r\nL 45.90625 0 \r\nL 45.90625 32.71875 \r\nQ 45.90625 40.484375 42.875 44.328125 \r\nQ 39.84375 48.1875 33.796875 48.1875 \r\nQ 26.515625 48.1875 22.3125 43.546875 \r\nQ 18.109375 38.921875 18.109375 30.90625 \r\nL 18.109375 0 \r\nL 9.078125 0 \r\nL 9.078125 54.6875 \r\nL 18.109375 54.6875 \r\nL 18.109375 46.1875 \r\nQ 21.34375 51.125 25.703125 53.5625 \r\nQ 30.078125 56 35.796875 56 \r\nQ 45.21875 56 50.046875 50.171875 \r\nQ 54.890625 44.34375 54.890625 33.015625 \r\nz\r\n\" id=\"DejaVuSans-110\"/>\r\n        <path d=\"M 34.28125 27.484375 \r\nQ 23.390625 27.484375 19.1875 25 \r\nQ 14.984375 22.515625 14.984375 16.5 \r\nQ 14.984375 11.71875 18.140625 8.90625 \r\nQ 21.296875 6.109375 26.703125 6.109375 \r\nQ 34.1875 6.109375 38.703125 11.40625 \r\nQ 43.21875 16.703125 43.21875 25.484375 \r\nL 43.21875 27.484375 \r\nz\r\nM 52.203125 31.203125 \r\nL 52.203125 0 \r\nL 43.21875 0 \r\nL 43.21875 8.296875 \r\nQ 40.140625 3.328125 35.546875 0.953125 \r\nQ 30.953125 -1.421875 24.3125 -1.421875 \r\nQ 15.921875 -1.421875 10.953125 3.296875 \r\nQ 6 8.015625 6 15.921875 \r\nQ 6 25.140625 12.171875 29.828125 \r\nQ 18.359375 34.515625 30.609375 34.515625 \r\nL 43.21875 34.515625 \r\nL 43.21875 35.40625 \r\nQ 43.21875 41.609375 39.140625 45 \r\nQ 35.0625 48.390625 27.6875 48.390625 \r\nQ 23 48.390625 18.546875 47.265625 \r\nQ 14.109375 46.140625 10.015625 43.890625 \r\nL 10.015625 52.203125 \r\nQ 14.9375 54.109375 19.578125 55.046875 \r\nQ 24.21875 56 28.609375 56 \r\nQ 40.484375 56 46.34375 49.84375 \r\nQ 52.203125 43.703125 52.203125 31.203125 \r\nz\r\n\" id=\"DejaVuSans-97\"/>\r\n        <path d=\"M 9.421875 75.984375 \r\nL 18.40625 75.984375 \r\nL 18.40625 0 \r\nL 9.421875 0 \r\nz\r\n\" id=\"DejaVuSans-108\"/>\r\n        <path d=\"M 32.171875 -5.078125 \r\nQ 28.375 -14.84375 24.75 -17.8125 \r\nQ 21.140625 -20.796875 15.09375 -20.796875 \r\nL 7.90625 -20.796875 \r\nL 7.90625 -13.28125 \r\nL 13.1875 -13.28125 \r\nQ 16.890625 -13.28125 18.9375 -11.515625 \r\nQ 21 -9.765625 23.484375 -3.21875 \r\nL 25.09375 0.875 \r\nL 2.984375 54.6875 \r\nL 12.5 54.6875 \r\nL 29.59375 11.921875 \r\nL 46.6875 54.6875 \r\nL 56.203125 54.6875 \r\nz\r\n\" id=\"DejaVuSans-121\"/>\r\n        <path d=\"M 18.3125 70.21875 \r\nL 18.3125 54.6875 \r\nL 36.8125 54.6875 \r\nL 36.8125 47.703125 \r\nL 18.3125 47.703125 \r\nL 18.3125 18.015625 \r\nQ 18.3125 11.328125 20.140625 9.421875 \r\nQ 21.96875 7.515625 27.59375 7.515625 \r\nL 36.8125 7.515625 \r\nL 36.8125 0 \r\nL 27.59375 0 \r\nQ 17.1875 0 13.234375 3.875 \r\nQ 9.28125 7.765625 9.28125 18.015625 \r\nL 9.28125 47.703125 \r\nL 2.6875 47.703125 \r\nL 2.6875 54.6875 \r\nL 9.28125 54.6875 \r\nL 9.28125 70.21875 \r\nz\r\n\" id=\"DejaVuSans-116\"/>\r\n        <path d=\"M 9.421875 54.6875 \r\nL 18.40625 54.6875 \r\nL 18.40625 0 \r\nL 9.421875 0 \r\nz\r\nM 9.421875 75.984375 \r\nL 18.40625 75.984375 \r\nL 18.40625 64.59375 \r\nL 9.421875 64.59375 \r\nz\r\n\" id=\"DejaVuSans-105\"/>\r\n        <path d=\"M 48.78125 52.59375 \r\nL 48.78125 44.1875 \r\nQ 44.96875 46.296875 41.140625 47.34375 \r\nQ 37.3125 48.390625 33.40625 48.390625 \r\nQ 24.65625 48.390625 19.8125 42.84375 \r\nQ 14.984375 37.3125 14.984375 27.296875 \r\nQ 14.984375 17.28125 19.8125 11.734375 \r\nQ 24.65625 6.203125 33.40625 6.203125 \r\nQ 37.3125 6.203125 41.140625 7.25 \r\nQ 44.96875 8.296875 48.78125 10.40625 \r\nL 48.78125 2.09375 \r\nQ 45.015625 0.34375 40.984375 -0.53125 \r\nQ 36.96875 -1.421875 32.421875 -1.421875 \r\nQ 20.0625 -1.421875 12.78125 6.34375 \r\nQ 5.515625 14.109375 5.515625 27.296875 \r\nQ 5.515625 40.671875 12.859375 48.328125 \r\nQ 20.21875 56 33.015625 56 \r\nQ 37.15625 56 41.109375 55.140625 \r\nQ 45.0625 54.296875 48.78125 52.59375 \r\nz\r\n\" id=\"DejaVuSans-99\"/>\r\n        <path id=\"DejaVuSans-32\"/>\r\n        <path d=\"M 44.390625 34.1875 \r\nQ 47.5625 33.109375 50.5625 29.59375 \r\nQ 53.5625 26.078125 56.59375 19.921875 \r\nL 66.609375 0 \r\nL 56 0 \r\nL 46.6875 18.703125 \r\nQ 43.0625 26.03125 39.671875 28.421875 \r\nQ 36.28125 30.8125 30.421875 30.8125 \r\nL 19.671875 30.8125 \r\nL 19.671875 0 \r\nL 9.8125 0 \r\nL 9.8125 72.90625 \r\nL 32.078125 72.90625 \r\nQ 44.578125 72.90625 50.734375 67.671875 \r\nQ 56.890625 62.453125 56.890625 51.90625 \r\nQ 56.890625 45.015625 53.6875 40.46875 \r\nQ 50.484375 35.9375 44.390625 34.1875 \r\nz\r\nM 19.671875 64.796875 \r\nL 19.671875 38.921875 \r\nL 32.078125 38.921875 \r\nQ 39.203125 38.921875 42.84375 42.21875 \r\nQ 46.484375 45.515625 46.484375 51.90625 \r\nQ 46.484375 58.296875 42.84375 61.546875 \r\nQ 39.203125 64.796875 32.078125 64.796875 \r\nz\r\n\" id=\"DejaVuSans-82\"/>\r\n        <path d=\"M 56.203125 29.59375 \r\nL 56.203125 25.203125 \r\nL 14.890625 25.203125 \r\nQ 15.484375 15.921875 20.484375 11.0625 \r\nQ 25.484375 6.203125 34.421875 6.203125 \r\nQ 39.59375 6.203125 44.453125 7.46875 \r\nQ 49.3125 8.734375 54.109375 11.28125 \r\nL 54.109375 2.78125 \r\nQ 49.265625 0.734375 44.1875 -0.34375 \r\nQ 39.109375 -1.421875 33.890625 -1.421875 \r\nQ 20.796875 -1.421875 13.15625 6.1875 \r\nQ 5.515625 13.8125 5.515625 26.8125 \r\nQ 5.515625 40.234375 12.765625 48.109375 \r\nQ 20.015625 56 32.328125 56 \r\nQ 43.359375 56 49.78125 48.890625 \r\nQ 56.203125 41.796875 56.203125 29.59375 \r\nz\r\nM 47.21875 32.234375 \r\nQ 47.125 39.59375 43.09375 43.984375 \r\nQ 39.0625 48.390625 32.421875 48.390625 \r\nQ 24.90625 48.390625 20.390625 44.140625 \r\nQ 15.875 39.890625 15.1875 32.171875 \r\nz\r\n\" id=\"DejaVuSans-101\"/>\r\n        <path d=\"M 18.109375 8.203125 \r\nL 18.109375 -20.796875 \r\nL 9.078125 -20.796875 \r\nL 9.078125 54.6875 \r\nL 18.109375 54.6875 \r\nL 18.109375 46.390625 \r\nQ 20.953125 51.265625 25.265625 53.625 \r\nQ 29.59375 56 35.59375 56 \r\nQ 45.5625 56 51.78125 48.09375 \r\nQ 58.015625 40.1875 58.015625 27.296875 \r\nQ 58.015625 14.40625 51.78125 6.484375 \r\nQ 45.5625 -1.421875 35.59375 -1.421875 \r\nQ 29.59375 -1.421875 25.265625 0.953125 \r\nQ 20.953125 3.328125 18.109375 8.203125 \r\nz\r\nM 48.6875 27.296875 \r\nQ 48.6875 37.203125 44.609375 42.84375 \r\nQ 40.53125 48.484375 33.40625 48.484375 \r\nQ 26.265625 48.484375 22.1875 42.84375 \r\nQ 18.109375 37.203125 18.109375 27.296875 \r\nQ 18.109375 17.390625 22.1875 11.75 \r\nQ 26.265625 6.109375 33.40625 6.109375 \r\nQ 40.53125 6.109375 44.609375 11.75 \r\nQ 48.6875 17.390625 48.6875 27.296875 \r\nz\r\n\" id=\"DejaVuSans-112\"/>\r\n        <path d=\"M 30.609375 48.390625 \r\nQ 23.390625 48.390625 19.1875 42.75 \r\nQ 14.984375 37.109375 14.984375 27.296875 \r\nQ 14.984375 17.484375 19.15625 11.84375 \r\nQ 23.34375 6.203125 30.609375 6.203125 \r\nQ 37.796875 6.203125 41.984375 11.859375 \r\nQ 46.1875 17.53125 46.1875 27.296875 \r\nQ 46.1875 37.015625 41.984375 42.703125 \r\nQ 37.796875 48.390625 30.609375 48.390625 \r\nz\r\nM 30.609375 56 \r\nQ 42.328125 56 49.015625 48.375 \r\nQ 55.71875 40.765625 55.71875 27.296875 \r\nQ 55.71875 13.875 49.015625 6.21875 \r\nQ 42.328125 -1.421875 30.609375 -1.421875 \r\nQ 18.84375 -1.421875 12.171875 6.21875 \r\nQ 5.515625 13.875 5.515625 27.296875 \r\nQ 5.515625 40.765625 12.171875 48.375 \r\nQ 18.84375 56 30.609375 56 \r\nz\r\n\" id=\"DejaVuSans-111\"/>\r\n        <path d=\"M 41.109375 46.296875 \r\nQ 39.59375 47.171875 37.8125 47.578125 \r\nQ 36.03125 48 33.890625 48 \r\nQ 26.265625 48 22.1875 43.046875 \r\nQ 18.109375 38.09375 18.109375 28.8125 \r\nL 18.109375 0 \r\nL 9.078125 0 \r\nL 9.078125 54.6875 \r\nL 18.109375 54.6875 \r\nL 18.109375 46.1875 \r\nQ 20.953125 51.171875 25.484375 53.578125 \r\nQ 30.03125 56 36.53125 56 \r\nQ 37.453125 56 38.578125 55.875 \r\nQ 39.703125 55.765625 41.0625 55.515625 \r\nz\r\n\" id=\"DejaVuSans-114\"/>\r\n       </defs>\r\n       <use xlink:href=\"#DejaVuSans-65\"/>\r\n       <use x=\"68.408203\" xlink:href=\"#DejaVuSans-110\"/>\r\n       <use x=\"131.787109\" xlink:href=\"#DejaVuSans-97\"/>\r\n       <use x=\"193.066406\" xlink:href=\"#DejaVuSans-108\"/>\r\n       <use x=\"220.849609\" xlink:href=\"#DejaVuSans-121\"/>\r\n       <use x=\"280.029297\" xlink:href=\"#DejaVuSans-116\"/>\r\n       <use x=\"319.238281\" xlink:href=\"#DejaVuSans-105\"/>\r\n       <use x=\"347.021484\" xlink:href=\"#DejaVuSans-99\"/>\r\n       <use x=\"402.001953\" xlink:href=\"#DejaVuSans-97\"/>\r\n       <use x=\"463.28125\" xlink:href=\"#DejaVuSans-108\"/>\r\n       <use x=\"491.064453\" xlink:href=\"#DejaVuSans-32\"/>\r\n       <use x=\"522.851562\" xlink:href=\"#DejaVuSans-82\"/>\r\n       <use x=\"587.833984\" xlink:href=\"#DejaVuSans-101\"/>\r\n       <use x=\"649.357422\" xlink:href=\"#DejaVuSans-112\"/>\r\n       <use x=\"712.833984\" xlink:href=\"#DejaVuSans-111\"/>\r\n       <use x=\"774.015625\" xlink:href=\"#DejaVuSans-114\"/>\r\n       <use x=\"815.128906\" xlink:href=\"#DejaVuSans-116\"/>\r\n      </g>\r\n     </g>\r\n    </g>\r\n    <g id=\"xtick_2\">\r\n     <g id=\"line2d_2\">\r\n      <g>\r\n       <use style=\"stroke:#000000;stroke-width:0.8;\" x=\"194.8525\" xlink:href=\"#m6b4bd37b18\" y=\"239.758125\"/>\r\n      </g>\r\n     </g>\r\n     <g id=\"text_2\">\r\n      <!-- Incident Report -->\r\n      <g transform=\"translate(156.526719 254.356562)scale(0.1 -0.1)\">\r\n       <defs>\r\n        <path d=\"M 9.8125 72.90625 \r\nL 19.671875 72.90625 \r\nL 19.671875 0 \r\nL 9.8125 0 \r\nz\r\n\" id=\"DejaVuSans-73\"/>\r\n        <path d=\"M 45.40625 46.390625 \r\nL 45.40625 75.984375 \r\nL 54.390625 75.984375 \r\nL 54.390625 0 \r\nL 45.40625 0 \r\nL 45.40625 8.203125 \r\nQ 42.578125 3.328125 38.25 0.953125 \r\nQ 33.9375 -1.421875 27.875 -1.421875 \r\nQ 17.96875 -1.421875 11.734375 6.484375 \r\nQ 5.515625 14.40625 5.515625 27.296875 \r\nQ 5.515625 40.1875 11.734375 48.09375 \r\nQ 17.96875 56 27.875 56 \r\nQ 33.9375 56 38.25 53.625 \r\nQ 42.578125 51.265625 45.40625 46.390625 \r\nz\r\nM 14.796875 27.296875 \r\nQ 14.796875 17.390625 18.875 11.75 \r\nQ 22.953125 6.109375 30.078125 6.109375 \r\nQ 37.203125 6.109375 41.296875 11.75 \r\nQ 45.40625 17.390625 45.40625 27.296875 \r\nQ 45.40625 37.203125 41.296875 42.84375 \r\nQ 37.203125 48.484375 30.078125 48.484375 \r\nQ 22.953125 48.484375 18.875 42.84375 \r\nQ 14.796875 37.203125 14.796875 27.296875 \r\nz\r\n\" id=\"DejaVuSans-100\"/>\r\n       </defs>\r\n       <use xlink:href=\"#DejaVuSans-73\"/>\r\n       <use x=\"29.492188\" xlink:href=\"#DejaVuSans-110\"/>\r\n       <use x=\"92.871094\" xlink:href=\"#DejaVuSans-99\"/>\r\n       <use x=\"147.851562\" xlink:href=\"#DejaVuSans-105\"/>\r\n       <use x=\"175.634766\" xlink:href=\"#DejaVuSans-100\"/>\r\n       <use x=\"239.111328\" xlink:href=\"#DejaVuSans-101\"/>\r\n       <use x=\"300.634766\" xlink:href=\"#DejaVuSans-110\"/>\r\n       <use x=\"364.013672\" xlink:href=\"#DejaVuSans-116\"/>\r\n       <use x=\"403.222656\" xlink:href=\"#DejaVuSans-32\"/>\r\n       <use x=\"435.009766\" xlink:href=\"#DejaVuSans-82\"/>\r\n       <use x=\"499.992188\" xlink:href=\"#DejaVuSans-101\"/>\r\n       <use x=\"561.515625\" xlink:href=\"#DejaVuSans-112\"/>\r\n       <use x=\"624.992188\" xlink:href=\"#DejaVuSans-111\"/>\r\n       <use x=\"686.173828\" xlink:href=\"#DejaVuSans-114\"/>\r\n       <use x=\"727.287109\" xlink:href=\"#DejaVuSans-116\"/>\r\n      </g>\r\n     </g>\r\n    </g>\r\n    <g id=\"xtick_3\">\r\n     <g id=\"line2d_3\">\r\n      <g>\r\n       <use style=\"stroke:#000000;stroke-width:0.8;\" x=\"249.2125\" xlink:href=\"#m6b4bd37b18\" y=\"239.758125\"/>\r\n      </g>\r\n     </g>\r\n     <g id=\"text_3\">\r\n      <!-- Profile Report -->\r\n      <g transform=\"translate(215.503906 254.356562)scale(0.1 -0.1)\">\r\n       <defs>\r\n        <path d=\"M 19.671875 64.796875 \r\nL 19.671875 37.40625 \r\nL 32.078125 37.40625 \r\nQ 38.96875 37.40625 42.71875 40.96875 \r\nQ 46.484375 44.53125 46.484375 51.125 \r\nQ 46.484375 57.671875 42.71875 61.234375 \r\nQ 38.96875 64.796875 32.078125 64.796875 \r\nz\r\nM 9.8125 72.90625 \r\nL 32.078125 72.90625 \r\nQ 44.34375 72.90625 50.609375 67.359375 \r\nQ 56.890625 61.8125 56.890625 51.125 \r\nQ 56.890625 40.328125 50.609375 34.8125 \r\nQ 44.34375 29.296875 32.078125 29.296875 \r\nL 19.671875 29.296875 \r\nL 19.671875 0 \r\nL 9.8125 0 \r\nz\r\n\" id=\"DejaVuSans-80\"/>\r\n        <path d=\"M 37.109375 75.984375 \r\nL 37.109375 68.5 \r\nL 28.515625 68.5 \r\nQ 23.6875 68.5 21.796875 66.546875 \r\nQ 19.921875 64.59375 19.921875 59.515625 \r\nL 19.921875 54.6875 \r\nL 34.71875 54.6875 \r\nL 34.71875 47.703125 \r\nL 19.921875 47.703125 \r\nL 19.921875 0 \r\nL 10.890625 0 \r\nL 10.890625 47.703125 \r\nL 2.296875 47.703125 \r\nL 2.296875 54.6875 \r\nL 10.890625 54.6875 \r\nL 10.890625 58.5 \r\nQ 10.890625 67.625 15.140625 71.796875 \r\nQ 19.390625 75.984375 28.609375 75.984375 \r\nz\r\n\" id=\"DejaVuSans-102\"/>\r\n       </defs>\r\n       <use xlink:href=\"#DejaVuSans-80\"/>\r\n       <use x=\"58.552734\" xlink:href=\"#DejaVuSans-114\"/>\r\n       <use x=\"97.416016\" xlink:href=\"#DejaVuSans-111\"/>\r\n       <use x=\"158.597656\" xlink:href=\"#DejaVuSans-102\"/>\r\n       <use x=\"193.802734\" xlink:href=\"#DejaVuSans-105\"/>\r\n       <use x=\"221.585938\" xlink:href=\"#DejaVuSans-108\"/>\r\n       <use x=\"249.369141\" xlink:href=\"#DejaVuSans-101\"/>\r\n       <use x=\"310.892578\" xlink:href=\"#DejaVuSans-32\"/>\r\n       <use x=\"342.679688\" xlink:href=\"#DejaVuSans-82\"/>\r\n       <use x=\"407.662109\" xlink:href=\"#DejaVuSans-101\"/>\r\n       <use x=\"469.185547\" xlink:href=\"#DejaVuSans-112\"/>\r\n       <use x=\"532.662109\" xlink:href=\"#DejaVuSans-111\"/>\r\n       <use x=\"593.84375\" xlink:href=\"#DejaVuSans-114\"/>\r\n       <use x=\"634.957031\" xlink:href=\"#DejaVuSans-116\"/>\r\n      </g>\r\n     </g>\r\n    </g>\r\n    <g id=\"xtick_4\">\r\n     <g id=\"line2d_4\">\r\n      <g>\r\n       <use style=\"stroke:#000000;stroke-width:0.8;\" x=\"303.5725\" xlink:href=\"#m6b4bd37b18\" y=\"239.758125\"/>\r\n      </g>\r\n     </g>\r\n     <g id=\"text_4\">\r\n      <!-- Situation Report -->\r\n      <g transform=\"translate(263.074844 254.356562)scale(0.1 -0.1)\">\r\n       <defs>\r\n        <path d=\"M 53.515625 70.515625 \r\nL 53.515625 60.890625 \r\nQ 47.90625 63.578125 42.921875 64.890625 \r\nQ 37.9375 66.21875 33.296875 66.21875 \r\nQ 25.25 66.21875 20.875 63.09375 \r\nQ 16.5 59.96875 16.5 54.203125 \r\nQ 16.5 49.359375 19.40625 46.890625 \r\nQ 22.3125 44.4375 30.421875 42.921875 \r\nL 36.375 41.703125 \r\nQ 47.40625 39.59375 52.65625 34.296875 \r\nQ 57.90625 29 57.90625 20.125 \r\nQ 57.90625 9.515625 50.796875 4.046875 \r\nQ 43.703125 -1.421875 29.984375 -1.421875 \r\nQ 24.8125 -1.421875 18.96875 -0.25 \r\nQ 13.140625 0.921875 6.890625 3.21875 \r\nL 6.890625 13.375 \r\nQ 12.890625 10.015625 18.65625 8.296875 \r\nQ 24.421875 6.59375 29.984375 6.59375 \r\nQ 38.421875 6.59375 43.015625 9.90625 \r\nQ 47.609375 13.234375 47.609375 19.390625 \r\nQ 47.609375 24.75 44.3125 27.78125 \r\nQ 41.015625 30.8125 33.5 32.328125 \r\nL 27.484375 33.5 \r\nQ 16.453125 35.6875 11.515625 40.375 \r\nQ 6.59375 45.0625 6.59375 53.421875 \r\nQ 6.59375 63.09375 13.40625 68.65625 \r\nQ 20.21875 74.21875 32.171875 74.21875 \r\nQ 37.3125 74.21875 42.625 73.28125 \r\nQ 47.953125 72.359375 53.515625 70.515625 \r\nz\r\n\" id=\"DejaVuSans-83\"/>\r\n        <path d=\"M 8.5 21.578125 \r\nL 8.5 54.6875 \r\nL 17.484375 54.6875 \r\nL 17.484375 21.921875 \r\nQ 17.484375 14.15625 20.5 10.265625 \r\nQ 23.53125 6.390625 29.59375 6.390625 \r\nQ 36.859375 6.390625 41.078125 11.03125 \r\nQ 45.3125 15.671875 45.3125 23.6875 \r\nL 45.3125 54.6875 \r\nL 54.296875 54.6875 \r\nL 54.296875 0 \r\nL 45.3125 0 \r\nL 45.3125 8.40625 \r\nQ 42.046875 3.421875 37.71875 1 \r\nQ 33.40625 -1.421875 27.6875 -1.421875 \r\nQ 18.265625 -1.421875 13.375 4.4375 \r\nQ 8.5 10.296875 8.5 21.578125 \r\nz\r\nM 31.109375 56 \r\nz\r\n\" id=\"DejaVuSans-117\"/>\r\n       </defs>\r\n       <use xlink:href=\"#DejaVuSans-83\"/>\r\n       <use x=\"63.476562\" xlink:href=\"#DejaVuSans-105\"/>\r\n       <use x=\"91.259766\" xlink:href=\"#DejaVuSans-116\"/>\r\n       <use x=\"130.46875\" xlink:href=\"#DejaVuSans-117\"/>\r\n       <use x=\"193.847656\" xlink:href=\"#DejaVuSans-97\"/>\r\n       <use x=\"255.126953\" xlink:href=\"#DejaVuSans-116\"/>\r\n       <use x=\"294.335938\" xlink:href=\"#DejaVuSans-105\"/>\r\n       <use x=\"322.119141\" xlink:href=\"#DejaVuSans-111\"/>\r\n       <use x=\"383.300781\" xlink:href=\"#DejaVuSans-110\"/>\r\n       <use x=\"446.679688\" xlink:href=\"#DejaVuSans-32\"/>\r\n       <use x=\"478.466797\" xlink:href=\"#DejaVuSans-82\"/>\r\n       <use x=\"543.449219\" xlink:href=\"#DejaVuSans-101\"/>\r\n       <use x=\"604.972656\" xlink:href=\"#DejaVuSans-112\"/>\r\n       <use x=\"668.449219\" xlink:href=\"#DejaVuSans-111\"/>\r\n       <use x=\"729.630859\" xlink:href=\"#DejaVuSans-114\"/>\r\n       <use x=\"770.744141\" xlink:href=\"#DejaVuSans-116\"/>\r\n      </g>\r\n     </g>\r\n    </g>\r\n    <g id=\"text_5\">\r\n     <!-- Predicted label -->\r\n     <g transform=\"translate(184.880156 268.034687)scale(0.1 -0.1)\">\r\n      <defs>\r\n       <path d=\"M 48.6875 27.296875 \r\nQ 48.6875 37.203125 44.609375 42.84375 \r\nQ 40.53125 48.484375 33.40625 48.484375 \r\nQ 26.265625 48.484375 22.1875 42.84375 \r\nQ 18.109375 37.203125 18.109375 27.296875 \r\nQ 18.109375 17.390625 22.1875 11.75 \r\nQ 26.265625 6.109375 33.40625 6.109375 \r\nQ 40.53125 6.109375 44.609375 11.75 \r\nQ 48.6875 17.390625 48.6875 27.296875 \r\nz\r\nM 18.109375 46.390625 \r\nQ 20.953125 51.265625 25.265625 53.625 \r\nQ 29.59375 56 35.59375 56 \r\nQ 45.5625 56 51.78125 48.09375 \r\nQ 58.015625 40.1875 58.015625 27.296875 \r\nQ 58.015625 14.40625 51.78125 6.484375 \r\nQ 45.5625 -1.421875 35.59375 -1.421875 \r\nQ 29.59375 -1.421875 25.265625 0.953125 \r\nQ 20.953125 3.328125 18.109375 8.203125 \r\nL 18.109375 0 \r\nL 9.078125 0 \r\nL 9.078125 75.984375 \r\nL 18.109375 75.984375 \r\nz\r\n\" id=\"DejaVuSans-98\"/>\r\n      </defs>\r\n      <use xlink:href=\"#DejaVuSans-80\"/>\r\n      <use x=\"58.552734\" xlink:href=\"#DejaVuSans-114\"/>\r\n      <use x=\"97.416016\" xlink:href=\"#DejaVuSans-101\"/>\r\n      <use x=\"158.939453\" xlink:href=\"#DejaVuSans-100\"/>\r\n      <use x=\"222.416016\" xlink:href=\"#DejaVuSans-105\"/>\r\n      <use x=\"250.199219\" xlink:href=\"#DejaVuSans-99\"/>\r\n      <use x=\"305.179688\" xlink:href=\"#DejaVuSans-116\"/>\r\n      <use x=\"344.388672\" xlink:href=\"#DejaVuSans-101\"/>\r\n      <use x=\"405.912109\" xlink:href=\"#DejaVuSans-100\"/>\r\n      <use x=\"469.388672\" xlink:href=\"#DejaVuSans-32\"/>\r\n      <use x=\"501.175781\" xlink:href=\"#DejaVuSans-108\"/>\r\n      <use x=\"528.958984\" xlink:href=\"#DejaVuSans-97\"/>\r\n      <use x=\"590.238281\" xlink:href=\"#DejaVuSans-98\"/>\r\n      <use x=\"653.714844\" xlink:href=\"#DejaVuSans-101\"/>\r\n      <use x=\"715.238281\" xlink:href=\"#DejaVuSans-108\"/>\r\n     </g>\r\n    </g>\r\n   </g>\r\n   <g id=\"matplotlib.axis_2\">\r\n    <g id=\"ytick_1\">\r\n     <g id=\"line2d_5\">\r\n      <defs>\r\n       <path d=\"M 0 0 \r\nL -3.5 0 \r\n\" id=\"m3b8d0d3c16\" style=\"stroke:#000000;stroke-width:0.8;\"/>\r\n      </defs>\r\n      <g>\r\n       <use style=\"stroke:#000000;stroke-width:0.8;\" x=\"113.3125\" xlink:href=\"#m3b8d0d3c16\" y=\"49.498125\"/>\r\n      </g>\r\n     </g>\r\n     <g id=\"text_6\">\r\n      <!-- Analytical Report -->\r\n      <g transform=\"translate(20.878125 53.297344)scale(0.1 -0.1)\">\r\n       <use xlink:href=\"#DejaVuSans-65\"/>\r\n       <use x=\"68.408203\" xlink:href=\"#DejaVuSans-110\"/>\r\n       <use x=\"131.787109\" xlink:href=\"#DejaVuSans-97\"/>\r\n       <use x=\"193.066406\" xlink:href=\"#DejaVuSans-108\"/>\r\n       <use x=\"220.849609\" xlink:href=\"#DejaVuSans-121\"/>\r\n       <use x=\"280.029297\" xlink:href=\"#DejaVuSans-116\"/>\r\n       <use x=\"319.238281\" xlink:href=\"#DejaVuSans-105\"/>\r\n       <use x=\"347.021484\" xlink:href=\"#DejaVuSans-99\"/>\r\n       <use x=\"402.001953\" xlink:href=\"#DejaVuSans-97\"/>\r\n       <use x=\"463.28125\" xlink:href=\"#DejaVuSans-108\"/>\r\n       <use x=\"491.064453\" xlink:href=\"#DejaVuSans-32\"/>\r\n       <use x=\"522.851562\" xlink:href=\"#DejaVuSans-82\"/>\r\n       <use x=\"587.833984\" xlink:href=\"#DejaVuSans-101\"/>\r\n       <use x=\"649.357422\" xlink:href=\"#DejaVuSans-112\"/>\r\n       <use x=\"712.833984\" xlink:href=\"#DejaVuSans-111\"/>\r\n       <use x=\"774.015625\" xlink:href=\"#DejaVuSans-114\"/>\r\n       <use x=\"815.128906\" xlink:href=\"#DejaVuSans-116\"/>\r\n      </g>\r\n     </g>\r\n    </g>\r\n    <g id=\"ytick_2\">\r\n     <g id=\"line2d_6\">\r\n      <g>\r\n       <use style=\"stroke:#000000;stroke-width:0.8;\" x=\"113.3125\" xlink:href=\"#m3b8d0d3c16\" y=\"103.858125\"/>\r\n      </g>\r\n     </g>\r\n     <g id=\"text_7\">\r\n      <!-- Incident Report -->\r\n      <g transform=\"translate(29.660938 107.657344)scale(0.1 -0.1)\">\r\n       <use xlink:href=\"#DejaVuSans-73\"/>\r\n       <use x=\"29.492188\" xlink:href=\"#DejaVuSans-110\"/>\r\n       <use x=\"92.871094\" xlink:href=\"#DejaVuSans-99\"/>\r\n       <use x=\"147.851562\" xlink:href=\"#DejaVuSans-105\"/>\r\n       <use x=\"175.634766\" xlink:href=\"#DejaVuSans-100\"/>\r\n       <use x=\"239.111328\" xlink:href=\"#DejaVuSans-101\"/>\r\n       <use x=\"300.634766\" xlink:href=\"#DejaVuSans-110\"/>\r\n       <use x=\"364.013672\" xlink:href=\"#DejaVuSans-116\"/>\r\n       <use x=\"403.222656\" xlink:href=\"#DejaVuSans-32\"/>\r\n       <use x=\"435.009766\" xlink:href=\"#DejaVuSans-82\"/>\r\n       <use x=\"499.992188\" xlink:href=\"#DejaVuSans-101\"/>\r\n       <use x=\"561.515625\" xlink:href=\"#DejaVuSans-112\"/>\r\n       <use x=\"624.992188\" xlink:href=\"#DejaVuSans-111\"/>\r\n       <use x=\"686.173828\" xlink:href=\"#DejaVuSans-114\"/>\r\n       <use x=\"727.287109\" xlink:href=\"#DejaVuSans-116\"/>\r\n      </g>\r\n     </g>\r\n    </g>\r\n    <g id=\"ytick_3\">\r\n     <g id=\"line2d_7\">\r\n      <g>\r\n       <use style=\"stroke:#000000;stroke-width:0.8;\" x=\"113.3125\" xlink:href=\"#m3b8d0d3c16\" y=\"158.218125\"/>\r\n      </g>\r\n     </g>\r\n     <g id=\"text_8\">\r\n      <!-- Profile Report -->\r\n      <g transform=\"translate(38.895313 162.017344)scale(0.1 -0.1)\">\r\n       <use xlink:href=\"#DejaVuSans-80\"/>\r\n       <use x=\"58.552734\" xlink:href=\"#DejaVuSans-114\"/>\r\n       <use x=\"97.416016\" xlink:href=\"#DejaVuSans-111\"/>\r\n       <use x=\"158.597656\" xlink:href=\"#DejaVuSans-102\"/>\r\n       <use x=\"193.802734\" xlink:href=\"#DejaVuSans-105\"/>\r\n       <use x=\"221.585938\" xlink:href=\"#DejaVuSans-108\"/>\r\n       <use x=\"249.369141\" xlink:href=\"#DejaVuSans-101\"/>\r\n       <use x=\"310.892578\" xlink:href=\"#DejaVuSans-32\"/>\r\n       <use x=\"342.679688\" xlink:href=\"#DejaVuSans-82\"/>\r\n       <use x=\"407.662109\" xlink:href=\"#DejaVuSans-101\"/>\r\n       <use x=\"469.185547\" xlink:href=\"#DejaVuSans-112\"/>\r\n       <use x=\"532.662109\" xlink:href=\"#DejaVuSans-111\"/>\r\n       <use x=\"593.84375\" xlink:href=\"#DejaVuSans-114\"/>\r\n       <use x=\"634.957031\" xlink:href=\"#DejaVuSans-116\"/>\r\n      </g>\r\n     </g>\r\n    </g>\r\n    <g id=\"ytick_4\">\r\n     <g id=\"line2d_8\">\r\n      <g>\r\n       <use style=\"stroke:#000000;stroke-width:0.8;\" x=\"113.3125\" xlink:href=\"#m3b8d0d3c16\" y=\"212.578125\"/>\r\n      </g>\r\n     </g>\r\n     <g id=\"text_9\">\r\n      <!-- Situation Report -->\r\n      <g transform=\"translate(25.317187 216.377344)scale(0.1 -0.1)\">\r\n       <use xlink:href=\"#DejaVuSans-83\"/>\r\n       <use x=\"63.476562\" xlink:href=\"#DejaVuSans-105\"/>\r\n       <use x=\"91.259766\" xlink:href=\"#DejaVuSans-116\"/>\r\n       <use x=\"130.46875\" xlink:href=\"#DejaVuSans-117\"/>\r\n       <use x=\"193.847656\" xlink:href=\"#DejaVuSans-97\"/>\r\n       <use x=\"255.126953\" xlink:href=\"#DejaVuSans-116\"/>\r\n       <use x=\"294.335938\" xlink:href=\"#DejaVuSans-105\"/>\r\n       <use x=\"322.119141\" xlink:href=\"#DejaVuSans-111\"/>\r\n       <use x=\"383.300781\" xlink:href=\"#DejaVuSans-110\"/>\r\n       <use x=\"446.679688\" xlink:href=\"#DejaVuSans-32\"/>\r\n       <use x=\"478.466797\" xlink:href=\"#DejaVuSans-82\"/>\r\n       <use x=\"543.449219\" xlink:href=\"#DejaVuSans-101\"/>\r\n       <use x=\"604.972656\" xlink:href=\"#DejaVuSans-112\"/>\r\n       <use x=\"668.449219\" xlink:href=\"#DejaVuSans-111\"/>\r\n       <use x=\"729.630859\" xlink:href=\"#DejaVuSans-114\"/>\r\n       <use x=\"770.744141\" xlink:href=\"#DejaVuSans-116\"/>\r\n      </g>\r\n     </g>\r\n    </g>\r\n    <g id=\"text_10\">\r\n     <!-- True label -->\r\n     <g transform=\"translate(14.798437 155.337344)rotate(-90)scale(0.1 -0.1)\">\r\n      <defs>\r\n       <path d=\"M -0.296875 72.90625 \r\nL 61.375 72.90625 \r\nL 61.375 64.59375 \r\nL 35.5 64.59375 \r\nL 35.5 0 \r\nL 25.59375 0 \r\nL 25.59375 64.59375 \r\nL -0.296875 64.59375 \r\nz\r\n\" id=\"DejaVuSans-84\"/>\r\n      </defs>\r\n      <use xlink:href=\"#DejaVuSans-84\"/>\r\n      <use x=\"46.333984\" xlink:href=\"#DejaVuSans-114\"/>\r\n      <use x=\"87.447266\" xlink:href=\"#DejaVuSans-117\"/>\r\n      <use x=\"150.826172\" xlink:href=\"#DejaVuSans-101\"/>\r\n      <use x=\"212.349609\" xlink:href=\"#DejaVuSans-32\"/>\r\n      <use x=\"244.136719\" xlink:href=\"#DejaVuSans-108\"/>\r\n      <use x=\"271.919922\" xlink:href=\"#DejaVuSans-97\"/>\r\n      <use x=\"333.199219\" xlink:href=\"#DejaVuSans-98\"/>\r\n      <use x=\"396.675781\" xlink:href=\"#DejaVuSans-101\"/>\r\n      <use x=\"458.199219\" xlink:href=\"#DejaVuSans-108\"/>\r\n     </g>\r\n    </g>\r\n   </g>\r\n   <g id=\"patch_3\">\r\n    <path d=\"M 113.3125 239.758125 \r\nL 113.3125 22.318125 \r\n\" style=\"fill:none;stroke:#000000;stroke-linecap:square;stroke-linejoin:miter;stroke-width:0.8;\"/>\r\n   </g>\r\n   <g id=\"patch_4\">\r\n    <path d=\"M 330.7525 239.758125 \r\nL 330.7525 22.318125 \r\n\" style=\"fill:none;stroke:#000000;stroke-linecap:square;stroke-linejoin:miter;stroke-width:0.8;\"/>\r\n   </g>\r\n   <g id=\"patch_5\">\r\n    <path d=\"M 113.3125 239.758125 \r\nL 330.7525 239.758125 \r\n\" style=\"fill:none;stroke:#000000;stroke-linecap:square;stroke-linejoin:miter;stroke-width:0.8;\"/>\r\n   </g>\r\n   <g id=\"patch_6\">\r\n    <path d=\"M 113.3125 22.318125 \r\nL 330.7525 22.318125 \r\n\" style=\"fill:none;stroke:#000000;stroke-linecap:square;stroke-linejoin:miter;stroke-width:0.8;\"/>\r\n   </g>\r\n   <g id=\"text_11\">\r\n    <!-- 59 -->\r\n    <g style=\"fill:#f7fbff;\" transform=\"translate(134.13 52.2575)scale(0.1 -0.1)\">\r\n     <defs>\r\n      <path d=\"M 10.796875 72.90625 \r\nL 49.515625 72.90625 \r\nL 49.515625 64.59375 \r\nL 19.828125 64.59375 \r\nL 19.828125 46.734375 \r\nQ 21.96875 47.46875 24.109375 47.828125 \r\nQ 26.265625 48.1875 28.421875 48.1875 \r\nQ 40.625 48.1875 47.75 41.5 \r\nQ 54.890625 34.8125 54.890625 23.390625 \r\nQ 54.890625 11.625 47.5625 5.09375 \r\nQ 40.234375 -1.421875 26.90625 -1.421875 \r\nQ 22.3125 -1.421875 17.546875 -0.640625 \r\nQ 12.796875 0.140625 7.71875 1.703125 \r\nL 7.71875 11.625 \r\nQ 12.109375 9.234375 16.796875 8.0625 \r\nQ 21.484375 6.890625 26.703125 6.890625 \r\nQ 35.15625 6.890625 40.078125 11.328125 \r\nQ 45.015625 15.765625 45.015625 23.390625 \r\nQ 45.015625 31 40.078125 35.4375 \r\nQ 35.15625 39.890625 26.703125 39.890625 \r\nQ 22.75 39.890625 18.8125 39.015625 \r\nQ 14.890625 38.140625 10.796875 36.28125 \r\nz\r\n\" id=\"DejaVuSans-53\"/>\r\n      <path d=\"M 10.984375 1.515625 \r\nL 10.984375 10.5 \r\nQ 14.703125 8.734375 18.5 7.8125 \r\nQ 22.3125 6.890625 25.984375 6.890625 \r\nQ 35.75 6.890625 40.890625 13.453125 \r\nQ 46.046875 20.015625 46.78125 33.40625 \r\nQ 43.953125 29.203125 39.59375 26.953125 \r\nQ 35.25 24.703125 29.984375 24.703125 \r\nQ 19.046875 24.703125 12.671875 31.3125 \r\nQ 6.296875 37.9375 6.296875 49.421875 \r\nQ 6.296875 60.640625 12.9375 67.421875 \r\nQ 19.578125 74.21875 30.609375 74.21875 \r\nQ 43.265625 74.21875 49.921875 64.515625 \r\nQ 56.59375 54.828125 56.59375 36.375 \r\nQ 56.59375 19.140625 48.40625 8.859375 \r\nQ 40.234375 -1.421875 26.421875 -1.421875 \r\nQ 22.703125 -1.421875 18.890625 -0.6875 \r\nQ 15.09375 0.046875 10.984375 1.515625 \r\nz\r\nM 30.609375 32.421875 \r\nQ 37.25 32.421875 41.125 36.953125 \r\nQ 45.015625 41.5 45.015625 49.421875 \r\nQ 45.015625 57.28125 41.125 61.84375 \r\nQ 37.25 66.40625 30.609375 66.40625 \r\nQ 23.96875 66.40625 20.09375 61.84375 \r\nQ 16.21875 57.28125 16.21875 49.421875 \r\nQ 16.21875 41.5 20.09375 36.953125 \r\nQ 23.96875 32.421875 30.609375 32.421875 \r\nz\r\n\" id=\"DejaVuSans-57\"/>\r\n     </defs>\r\n     <use xlink:href=\"#DejaVuSans-53\"/>\r\n     <use x=\"63.623047\" xlink:href=\"#DejaVuSans-57\"/>\r\n    </g>\r\n   </g>\r\n   <g id=\"text_12\">\r\n    <!-- 0 -->\r\n    <g style=\"fill:#08306b;\" transform=\"translate(191.67125 52.2575)scale(0.1 -0.1)\">\r\n     <defs>\r\n      <path d=\"M 31.78125 66.40625 \r\nQ 24.171875 66.40625 20.328125 58.90625 \r\nQ 16.5 51.421875 16.5 36.375 \r\nQ 16.5 21.390625 20.328125 13.890625 \r\nQ 24.171875 6.390625 31.78125 6.390625 \r\nQ 39.453125 6.390625 43.28125 13.890625 \r\nQ 47.125 21.390625 47.125 36.375 \r\nQ 47.125 51.421875 43.28125 58.90625 \r\nQ 39.453125 66.40625 31.78125 66.40625 \r\nz\r\nM 31.78125 74.21875 \r\nQ 44.046875 74.21875 50.515625 64.515625 \r\nQ 56.984375 54.828125 56.984375 36.375 \r\nQ 56.984375 17.96875 50.515625 8.265625 \r\nQ 44.046875 -1.421875 31.78125 -1.421875 \r\nQ 19.53125 -1.421875 13.0625 8.265625 \r\nQ 6.59375 17.96875 6.59375 36.375 \r\nQ 6.59375 54.828125 13.0625 64.515625 \r\nQ 19.53125 74.21875 31.78125 74.21875 \r\nz\r\n\" id=\"DejaVuSans-48\"/>\r\n     </defs>\r\n     <use xlink:href=\"#DejaVuSans-48\"/>\r\n    </g>\r\n   </g>\r\n   <g id=\"text_13\">\r\n    <!-- 1 -->\r\n    <g style=\"fill:#08306b;\" transform=\"translate(246.03125 52.2575)scale(0.1 -0.1)\">\r\n     <defs>\r\n      <path d=\"M 12.40625 8.296875 \r\nL 28.515625 8.296875 \r\nL 28.515625 63.921875 \r\nL 10.984375 60.40625 \r\nL 10.984375 69.390625 \r\nL 28.421875 72.90625 \r\nL 38.28125 72.90625 \r\nL 38.28125 8.296875 \r\nL 54.390625 8.296875 \r\nL 54.390625 0 \r\nL 12.40625 0 \r\nz\r\n\" id=\"DejaVuSans-49\"/>\r\n     </defs>\r\n     <use xlink:href=\"#DejaVuSans-49\"/>\r\n    </g>\r\n   </g>\r\n   <g id=\"text_14\">\r\n    <!-- 0 -->\r\n    <g style=\"fill:#08306b;\" transform=\"translate(300.39125 52.2575)scale(0.1 -0.1)\">\r\n     <use xlink:href=\"#DejaVuSans-48\"/>\r\n    </g>\r\n   </g>\r\n   <g id=\"text_15\">\r\n    <!-- 2 -->\r\n    <g style=\"fill:#08306b;\" transform=\"translate(137.31125 106.6175)scale(0.1 -0.1)\">\r\n     <defs>\r\n      <path d=\"M 19.1875 8.296875 \r\nL 53.609375 8.296875 \r\nL 53.609375 0 \r\nL 7.328125 0 \r\nL 7.328125 8.296875 \r\nQ 12.9375 14.109375 22.625 23.890625 \r\nQ 32.328125 33.6875 34.8125 36.53125 \r\nQ 39.546875 41.84375 41.421875 45.53125 \r\nQ 43.3125 49.21875 43.3125 52.78125 \r\nQ 43.3125 58.59375 39.234375 62.25 \r\nQ 35.15625 65.921875 28.609375 65.921875 \r\nQ 23.96875 65.921875 18.8125 64.3125 \r\nQ 13.671875 62.703125 7.8125 59.421875 \r\nL 7.8125 69.390625 \r\nQ 13.765625 71.78125 18.9375 73 \r\nQ 24.125 74.21875 28.421875 74.21875 \r\nQ 39.75 74.21875 46.484375 68.546875 \r\nQ 53.21875 62.890625 53.21875 53.421875 \r\nQ 53.21875 48.921875 51.53125 44.890625 \r\nQ 49.859375 40.875 45.40625 35.40625 \r\nQ 44.1875 33.984375 37.640625 27.21875 \r\nQ 31.109375 20.453125 19.1875 8.296875 \r\nz\r\n\" id=\"DejaVuSans-50\"/>\r\n     </defs>\r\n     <use xlink:href=\"#DejaVuSans-50\"/>\r\n    </g>\r\n   </g>\r\n   <g id=\"text_16\">\r\n    <!-- 52 -->\r\n    <g style=\"fill:#f7fbff;\" transform=\"translate(188.49 106.6175)scale(0.1 -0.1)\">\r\n     <use xlink:href=\"#DejaVuSans-53\"/>\r\n     <use x=\"63.623047\" xlink:href=\"#DejaVuSans-50\"/>\r\n    </g>\r\n   </g>\r\n   <g id=\"text_17\">\r\n    <!-- 0 -->\r\n    <g style=\"fill:#08306b;\" transform=\"translate(246.03125 106.6175)scale(0.1 -0.1)\">\r\n     <use xlink:href=\"#DejaVuSans-48\"/>\r\n    </g>\r\n   </g>\r\n   <g id=\"text_18\">\r\n    <!-- 0 -->\r\n    <g style=\"fill:#08306b;\" transform=\"translate(300.39125 106.6175)scale(0.1 -0.1)\">\r\n     <use xlink:href=\"#DejaVuSans-48\"/>\r\n    </g>\r\n   </g>\r\n   <g id=\"text_19\">\r\n    <!-- 1 -->\r\n    <g style=\"fill:#08306b;\" transform=\"translate(137.31125 160.9775)scale(0.1 -0.1)\">\r\n     <use xlink:href=\"#DejaVuSans-49\"/>\r\n    </g>\r\n   </g>\r\n   <g id=\"text_20\">\r\n    <!-- 0 -->\r\n    <g style=\"fill:#08306b;\" transform=\"translate(191.67125 160.9775)scale(0.1 -0.1)\">\r\n     <use xlink:href=\"#DejaVuSans-48\"/>\r\n    </g>\r\n   </g>\r\n   <g id=\"text_21\">\r\n    <!-- 62 -->\r\n    <g style=\"fill:#f7fbff;\" transform=\"translate(242.85 160.9775)scale(0.1 -0.1)\">\r\n     <defs>\r\n      <path d=\"M 33.015625 40.375 \r\nQ 26.375 40.375 22.484375 35.828125 \r\nQ 18.609375 31.296875 18.609375 23.390625 \r\nQ 18.609375 15.53125 22.484375 10.953125 \r\nQ 26.375 6.390625 33.015625 6.390625 \r\nQ 39.65625 6.390625 43.53125 10.953125 \r\nQ 47.40625 15.53125 47.40625 23.390625 \r\nQ 47.40625 31.296875 43.53125 35.828125 \r\nQ 39.65625 40.375 33.015625 40.375 \r\nz\r\nM 52.59375 71.296875 \r\nL 52.59375 62.3125 \r\nQ 48.875 64.0625 45.09375 64.984375 \r\nQ 41.3125 65.921875 37.59375 65.921875 \r\nQ 27.828125 65.921875 22.671875 59.328125 \r\nQ 17.53125 52.734375 16.796875 39.40625 \r\nQ 19.671875 43.65625 24.015625 45.921875 \r\nQ 28.375 48.1875 33.59375 48.1875 \r\nQ 44.578125 48.1875 50.953125 41.515625 \r\nQ 57.328125 34.859375 57.328125 23.390625 \r\nQ 57.328125 12.15625 50.6875 5.359375 \r\nQ 44.046875 -1.421875 33.015625 -1.421875 \r\nQ 20.359375 -1.421875 13.671875 8.265625 \r\nQ 6.984375 17.96875 6.984375 36.375 \r\nQ 6.984375 53.65625 15.1875 63.9375 \r\nQ 23.390625 74.21875 37.203125 74.21875 \r\nQ 40.921875 74.21875 44.703125 73.484375 \r\nQ 48.484375 72.75 52.59375 71.296875 \r\nz\r\n\" id=\"DejaVuSans-54\"/>\r\n     </defs>\r\n     <use xlink:href=\"#DejaVuSans-54\"/>\r\n     <use x=\"63.623047\" xlink:href=\"#DejaVuSans-50\"/>\r\n    </g>\r\n   </g>\r\n   <g id=\"text_22\">\r\n    <!-- 0 -->\r\n    <g style=\"fill:#08306b;\" transform=\"translate(300.39125 160.9775)scale(0.1 -0.1)\">\r\n     <use xlink:href=\"#DejaVuSans-48\"/>\r\n    </g>\r\n   </g>\r\n   <g id=\"text_23\">\r\n    <!-- 1 -->\r\n    <g style=\"fill:#08306b;\" transform=\"translate(137.31125 215.3375)scale(0.1 -0.1)\">\r\n     <use xlink:href=\"#DejaVuSans-49\"/>\r\n    </g>\r\n   </g>\r\n   <g id=\"text_24\">\r\n    <!-- 1 -->\r\n    <g style=\"fill:#08306b;\" transform=\"translate(191.67125 215.3375)scale(0.1 -0.1)\">\r\n     <use xlink:href=\"#DejaVuSans-49\"/>\r\n    </g>\r\n   </g>\r\n   <g id=\"text_25\">\r\n    <!-- 2 -->\r\n    <g style=\"fill:#08306b;\" transform=\"translate(246.03125 215.3375)scale(0.1 -0.1)\">\r\n     <use xlink:href=\"#DejaVuSans-50\"/>\r\n    </g>\r\n   </g>\r\n   <g id=\"text_26\">\r\n    <!-- 67 -->\r\n    <g style=\"fill:#f7fbff;\" transform=\"translate(297.21 215.3375)scale(0.1 -0.1)\">\r\n     <defs>\r\n      <path d=\"M 8.203125 72.90625 \r\nL 55.078125 72.90625 \r\nL 55.078125 68.703125 \r\nL 28.609375 0 \r\nL 18.3125 0 \r\nL 43.21875 64.59375 \r\nL 8.203125 64.59375 \r\nz\r\n\" id=\"DejaVuSans-55\"/>\r\n     </defs>\r\n     <use xlink:href=\"#DejaVuSans-54\"/>\r\n     <use x=\"63.623047\" xlink:href=\"#DejaVuSans-55\"/>\r\n    </g>\r\n   </g>\r\n   <g id=\"text_27\">\r\n    <!-- Train dataset SVC Classifier -->\r\n    <g transform=\"translate(139.7425 16.318125)scale(0.12 -0.12)\">\r\n     <defs>\r\n      <path d=\"M 44.28125 53.078125 \r\nL 44.28125 44.578125 \r\nQ 40.484375 46.53125 36.375 47.5 \r\nQ 32.28125 48.484375 27.875 48.484375 \r\nQ 21.1875 48.484375 17.84375 46.4375 \r\nQ 14.5 44.390625 14.5 40.28125 \r\nQ 14.5 37.15625 16.890625 35.375 \r\nQ 19.28125 33.59375 26.515625 31.984375 \r\nL 29.59375 31.296875 \r\nQ 39.15625 29.25 43.1875 25.515625 \r\nQ 47.21875 21.78125 47.21875 15.09375 \r\nQ 47.21875 7.46875 41.1875 3.015625 \r\nQ 35.15625 -1.421875 24.609375 -1.421875 \r\nQ 20.21875 -1.421875 15.453125 -0.5625 \r\nQ 10.6875 0.296875 5.421875 2 \r\nL 5.421875 11.28125 \r\nQ 10.40625 8.6875 15.234375 7.390625 \r\nQ 20.0625 6.109375 24.8125 6.109375 \r\nQ 31.15625 6.109375 34.5625 8.28125 \r\nQ 37.984375 10.453125 37.984375 14.40625 \r\nQ 37.984375 18.0625 35.515625 20.015625 \r\nQ 33.0625 21.96875 24.703125 23.78125 \r\nL 21.578125 24.515625 \r\nQ 13.234375 26.265625 9.515625 29.90625 \r\nQ 5.8125 33.546875 5.8125 39.890625 \r\nQ 5.8125 47.609375 11.28125 51.796875 \r\nQ 16.75 56 26.8125 56 \r\nQ 31.78125 56 36.171875 55.265625 \r\nQ 40.578125 54.546875 44.28125 53.078125 \r\nz\r\n\" id=\"DejaVuSans-115\"/>\r\n      <path d=\"M 28.609375 0 \r\nL 0.78125 72.90625 \r\nL 11.078125 72.90625 \r\nL 34.1875 11.53125 \r\nL 57.328125 72.90625 \r\nL 67.578125 72.90625 \r\nL 39.796875 0 \r\nz\r\n\" id=\"DejaVuSans-86\"/>\r\n      <path d=\"M 64.40625 67.28125 \r\nL 64.40625 56.890625 \r\nQ 59.421875 61.53125 53.78125 63.8125 \r\nQ 48.140625 66.109375 41.796875 66.109375 \r\nQ 29.296875 66.109375 22.65625 58.46875 \r\nQ 16.015625 50.828125 16.015625 36.375 \r\nQ 16.015625 21.96875 22.65625 14.328125 \r\nQ 29.296875 6.6875 41.796875 6.6875 \r\nQ 48.140625 6.6875 53.78125 8.984375 \r\nQ 59.421875 11.28125 64.40625 15.921875 \r\nL 64.40625 5.609375 \r\nQ 59.234375 2.09375 53.4375 0.328125 \r\nQ 47.65625 -1.421875 41.21875 -1.421875 \r\nQ 24.65625 -1.421875 15.125 8.703125 \r\nQ 5.609375 18.84375 5.609375 36.375 \r\nQ 5.609375 53.953125 15.125 64.078125 \r\nQ 24.65625 74.21875 41.21875 74.21875 \r\nQ 47.75 74.21875 53.53125 72.484375 \r\nQ 59.328125 70.75 64.40625 67.28125 \r\nz\r\n\" id=\"DejaVuSans-67\"/>\r\n     </defs>\r\n     <use xlink:href=\"#DejaVuSans-84\"/>\r\n     <use x=\"46.333984\" xlink:href=\"#DejaVuSans-114\"/>\r\n     <use x=\"87.447266\" xlink:href=\"#DejaVuSans-97\"/>\r\n     <use x=\"148.726562\" xlink:href=\"#DejaVuSans-105\"/>\r\n     <use x=\"176.509766\" xlink:href=\"#DejaVuSans-110\"/>\r\n     <use x=\"239.888672\" xlink:href=\"#DejaVuSans-32\"/>\r\n     <use x=\"271.675781\" xlink:href=\"#DejaVuSans-100\"/>\r\n     <use x=\"335.152344\" xlink:href=\"#DejaVuSans-97\"/>\r\n     <use x=\"396.431641\" xlink:href=\"#DejaVuSans-116\"/>\r\n     <use x=\"435.640625\" xlink:href=\"#DejaVuSans-97\"/>\r\n     <use x=\"496.919922\" xlink:href=\"#DejaVuSans-115\"/>\r\n     <use x=\"549.019531\" xlink:href=\"#DejaVuSans-101\"/>\r\n     <use x=\"610.542969\" xlink:href=\"#DejaVuSans-116\"/>\r\n     <use x=\"649.751953\" xlink:href=\"#DejaVuSans-32\"/>\r\n     <use x=\"681.539062\" xlink:href=\"#DejaVuSans-83\"/>\r\n     <use x=\"745.015625\" xlink:href=\"#DejaVuSans-86\"/>\r\n     <use x=\"813.423828\" xlink:href=\"#DejaVuSans-67\"/>\r\n     <use x=\"883.248047\" xlink:href=\"#DejaVuSans-32\"/>\r\n     <use x=\"915.035156\" xlink:href=\"#DejaVuSans-67\"/>\r\n     <use x=\"984.859375\" xlink:href=\"#DejaVuSans-108\"/>\r\n     <use x=\"1012.642578\" xlink:href=\"#DejaVuSans-97\"/>\r\n     <use x=\"1073.921875\" xlink:href=\"#DejaVuSans-115\"/>\r\n     <use x=\"1126.021484\" xlink:href=\"#DejaVuSans-115\"/>\r\n     <use x=\"1178.121094\" xlink:href=\"#DejaVuSans-105\"/>\r\n     <use x=\"1205.904297\" xlink:href=\"#DejaVuSans-102\"/>\r\n     <use x=\"1241.109375\" xlink:href=\"#DejaVuSans-105\"/>\r\n     <use x=\"1268.892578\" xlink:href=\"#DejaVuSans-101\"/>\r\n     <use x=\"1330.416016\" xlink:href=\"#DejaVuSans-114\"/>\r\n    </g>\r\n   </g>\r\n  </g>\r\n  <g id=\"axes_2\">\r\n   <g id=\"patch_7\">\r\n    <path clip-path=\"url(#pef95f40013)\" d=\"M 347.4925 239.758125 \r\nL 347.4925 238.90875 \r\nL 347.4925 23.1675 \r\nL 347.4925 22.318125 \r\nL 358.3645 22.318125 \r\nL 358.3645 23.1675 \r\nL 358.3645 238.90875 \r\nL 358.3645 239.758125 \r\nz\r\n\" style=\"fill:#ffffff;stroke:#ffffff;stroke-linejoin:miter;stroke-width:0.01;\"/>\r\n   </g>\r\n   <image height=\"217\" id=\"image87973aca13\" transform=\"scale(1 -1)translate(0 -217)\" width=\"11\" x=\"347\" xlink:href=\"data:image/png;base64,\r\niVBORw0KGgoAAAANSUhEUgAAAAsAAADZCAYAAAD2WsoCAAABHElEQVR4nO2YMQ4CMRADA8r/n0uByIYWukwxyIvuamvl2F4nutvjufc4/OYex9gxz+diMKEBsGMCLORcAH0HLEzpQhyEkwEYZgNwLk26kSEdzAbh7NHQeoPZ3bC+OvZGinRX+H9CI0Q67VWQckBkNzygdsNqDi50wAzOlZHnOh/stqjFuUBGGWezN8Dk5VWBlzrtcYKqQGxR7e5eJM9eP3sOIp0X6ALTwXOsScPLBrQ7osw9ndk9KLaot7AR0nn93DEbaLs9nc2/EKj5I3YwJBvslctoRKgBD2jRCJls2g1oeEHy7O4YpJDtZn8CxWycvxlTODNwht0h2fh/u69sfICh3YhGw8n1sia3VGNF0ECTycJedn+BO9ptTX4DblXiEVeBW/gAAAAASUVORK5CYII=\" y=\"-22\"/>\r\n   <g id=\"matplotlib.axis_3\"/>\r\n   <g id=\"matplotlib.axis_4\">\r\n    <g id=\"ytick_5\">\r\n     <g id=\"line2d_9\">\r\n      <defs>\r\n       <path d=\"M 0 0 \r\nL 3.5 0 \r\n\" id=\"m67edf2e2e2\" style=\"stroke:#000000;stroke-width:0.8;\"/>\r\n      </defs>\r\n      <g>\r\n       <use style=\"stroke:#000000;stroke-width:0.8;\" x=\"358.3645\" xlink:href=\"#m67edf2e2e2\" y=\"239.758125\"/>\r\n      </g>\r\n     </g>\r\n     <g id=\"text_28\">\r\n      <!-- 0 -->\r\n      <g transform=\"translate(365.3645 243.557344)scale(0.1 -0.1)\">\r\n       <use xlink:href=\"#DejaVuSans-48\"/>\r\n      </g>\r\n     </g>\r\n    </g>\r\n    <g id=\"ytick_6\">\r\n     <g id=\"line2d_10\">\r\n      <g>\r\n       <use style=\"stroke:#000000;stroke-width:0.8;\" x=\"358.3645\" xlink:href=\"#m67edf2e2e2\" y=\"207.304394\"/>\r\n      </g>\r\n     </g>\r\n     <g id=\"text_29\">\r\n      <!-- 10 -->\r\n      <g transform=\"translate(365.3645 211.103612)scale(0.1 -0.1)\">\r\n       <use xlink:href=\"#DejaVuSans-49\"/>\r\n       <use x=\"63.623047\" xlink:href=\"#DejaVuSans-48\"/>\r\n      </g>\r\n     </g>\r\n    </g>\r\n    <g id=\"ytick_7\">\r\n     <g id=\"line2d_11\">\r\n      <g>\r\n       <use style=\"stroke:#000000;stroke-width:0.8;\" x=\"358.3645\" xlink:href=\"#m67edf2e2e2\" y=\"174.850662\"/>\r\n      </g>\r\n     </g>\r\n     <g id=\"text_30\">\r\n      <!-- 20 -->\r\n      <g transform=\"translate(365.3645 178.649881)scale(0.1 -0.1)\">\r\n       <use xlink:href=\"#DejaVuSans-50\"/>\r\n       <use x=\"63.623047\" xlink:href=\"#DejaVuSans-48\"/>\r\n      </g>\r\n     </g>\r\n    </g>\r\n    <g id=\"ytick_8\">\r\n     <g id=\"line2d_12\">\r\n      <g>\r\n       <use style=\"stroke:#000000;stroke-width:0.8;\" x=\"358.3645\" xlink:href=\"#m67edf2e2e2\" y=\"142.396931\"/>\r\n      </g>\r\n     </g>\r\n     <g id=\"text_31\">\r\n      <!-- 30 -->\r\n      <g transform=\"translate(365.3645 146.19615)scale(0.1 -0.1)\">\r\n       <defs>\r\n        <path d=\"M 40.578125 39.3125 \r\nQ 47.65625 37.796875 51.625 33 \r\nQ 55.609375 28.21875 55.609375 21.1875 \r\nQ 55.609375 10.40625 48.1875 4.484375 \r\nQ 40.765625 -1.421875 27.09375 -1.421875 \r\nQ 22.515625 -1.421875 17.65625 -0.515625 \r\nQ 12.796875 0.390625 7.625 2.203125 \r\nL 7.625 11.71875 \r\nQ 11.71875 9.328125 16.59375 8.109375 \r\nQ 21.484375 6.890625 26.8125 6.890625 \r\nQ 36.078125 6.890625 40.9375 10.546875 \r\nQ 45.796875 14.203125 45.796875 21.1875 \r\nQ 45.796875 27.640625 41.28125 31.265625 \r\nQ 36.765625 34.90625 28.71875 34.90625 \r\nL 20.21875 34.90625 \r\nL 20.21875 43.015625 \r\nL 29.109375 43.015625 \r\nQ 36.375 43.015625 40.234375 45.921875 \r\nQ 44.09375 48.828125 44.09375 54.296875 \r\nQ 44.09375 59.90625 40.109375 62.90625 \r\nQ 36.140625 65.921875 28.71875 65.921875 \r\nQ 24.65625 65.921875 20.015625 65.03125 \r\nQ 15.375 64.15625 9.8125 62.3125 \r\nL 9.8125 71.09375 \r\nQ 15.4375 72.65625 20.34375 73.4375 \r\nQ 25.25 74.21875 29.59375 74.21875 \r\nQ 40.828125 74.21875 47.359375 69.109375 \r\nQ 53.90625 64.015625 53.90625 55.328125 \r\nQ 53.90625 49.265625 50.4375 45.09375 \r\nQ 46.96875 40.921875 40.578125 39.3125 \r\nz\r\n\" id=\"DejaVuSans-51\"/>\r\n       </defs>\r\n       <use xlink:href=\"#DejaVuSans-51\"/>\r\n       <use x=\"63.623047\" xlink:href=\"#DejaVuSans-48\"/>\r\n      </g>\r\n     </g>\r\n    </g>\r\n    <g id=\"ytick_9\">\r\n     <g id=\"line2d_13\">\r\n      <g>\r\n       <use style=\"stroke:#000000;stroke-width:0.8;\" x=\"358.3645\" xlink:href=\"#m67edf2e2e2\" y=\"109.9432\"/>\r\n      </g>\r\n     </g>\r\n     <g id=\"text_32\">\r\n      <!-- 40 -->\r\n      <g transform=\"translate(365.3645 113.742418)scale(0.1 -0.1)\">\r\n       <defs>\r\n        <path d=\"M 37.796875 64.3125 \r\nL 12.890625 25.390625 \r\nL 37.796875 25.390625 \r\nz\r\nM 35.203125 72.90625 \r\nL 47.609375 72.90625 \r\nL 47.609375 25.390625 \r\nL 58.015625 25.390625 \r\nL 58.015625 17.1875 \r\nL 47.609375 17.1875 \r\nL 47.609375 0 \r\nL 37.796875 0 \r\nL 37.796875 17.1875 \r\nL 4.890625 17.1875 \r\nL 4.890625 26.703125 \r\nz\r\n\" id=\"DejaVuSans-52\"/>\r\n       </defs>\r\n       <use xlink:href=\"#DejaVuSans-52\"/>\r\n       <use x=\"63.623047\" xlink:href=\"#DejaVuSans-48\"/>\r\n      </g>\r\n     </g>\r\n    </g>\r\n    <g id=\"ytick_10\">\r\n     <g id=\"line2d_14\">\r\n      <g>\r\n       <use style=\"stroke:#000000;stroke-width:0.8;\" x=\"358.3645\" xlink:href=\"#m67edf2e2e2\" y=\"77.489468\"/>\r\n      </g>\r\n     </g>\r\n     <g id=\"text_33\">\r\n      <!-- 50 -->\r\n      <g transform=\"translate(365.3645 81.288687)scale(0.1 -0.1)\">\r\n       <use xlink:href=\"#DejaVuSans-53\"/>\r\n       <use x=\"63.623047\" xlink:href=\"#DejaVuSans-48\"/>\r\n      </g>\r\n     </g>\r\n    </g>\r\n    <g id=\"ytick_11\">\r\n     <g id=\"line2d_15\">\r\n      <g>\r\n       <use style=\"stroke:#000000;stroke-width:0.8;\" x=\"358.3645\" xlink:href=\"#m67edf2e2e2\" y=\"45.035737\"/>\r\n      </g>\r\n     </g>\r\n     <g id=\"text_34\">\r\n      <!-- 60 -->\r\n      <g transform=\"translate(365.3645 48.834956)scale(0.1 -0.1)\">\r\n       <use xlink:href=\"#DejaVuSans-54\"/>\r\n       <use x=\"63.623047\" xlink:href=\"#DejaVuSans-48\"/>\r\n      </g>\r\n     </g>\r\n    </g>\r\n   </g>\r\n   <g id=\"patch_8\">\r\n    <path d=\"M 347.4925 239.758125 \r\nL 347.4925 238.90875 \r\nL 347.4925 23.1675 \r\nL 347.4925 22.318125 \r\nL 358.3645 22.318125 \r\nL 358.3645 23.1675 \r\nL 358.3645 238.90875 \r\nL 358.3645 239.758125 \r\nz\r\n\" style=\"fill:none;stroke:#000000;stroke-linejoin:miter;stroke-width:0.8;\"/>\r\n   </g>\r\n  </g>\r\n </g>\r\n <defs>\r\n  <clipPath id=\"p1434df8d33\">\r\n   <rect height=\"217.44\" width=\"217.44\" x=\"113.3125\" y=\"22.318125\"/>\r\n  </clipPath>\r\n  <clipPath id=\"pef95f40013\">\r\n   <rect height=\"217.44\" width=\"10.872\" x=\"347.4925\" y=\"22.318125\"/>\r\n  </clipPath>\r\n </defs>\r\n</svg>\r\n",
      "image/png": "[encoded data removed]"
     },
     "metadata": {
      "needs_background": "light"
     }
    },
    {
     "output_type": "display_data",
     "data": {
      "text/plain": "<Figure size 432x288 with 2 Axes>",
      "image/svg+xml": "<?xml version=\"1.0\" encoding=\"utf-8\" standalone=\"no\"?>\r\n<!DOCTYPE svg PUBLIC \"-//W3C//DTD SVG 1.1//EN\"\r\n  \"http://www.w3.org/Graphics/SVG/1.1/DTD/svg11.dtd\">\r\n<!-- Created with matplotlib (https://matplotlib.org/) -->\r\n<svg height=\"277.314375pt\" version=\"1.1\" viewBox=\"0 0 385.2895 277.314375\" width=\"385.2895pt\" xmlns=\"http://www.w3.org/2000/svg\" xmlns:xlink=\"http://www.w3.org/1999/xlink\">\r\n <metadata>\r\n  <rdf:RDF xmlns:cc=\"http://creativecommons.org/ns#\" xmlns:dc=\"http://purl.org/dc/elements/1.1/\" xmlns:rdf=\"http://www.w3.org/1999/02/22-rdf-syntax-ns#\">\r\n   <cc:Work>\r\n    <dc:type rdf:resource=\"http://purl.org/dc/dcmitype/StillImage\"/>\r\n    <dc:date>2020-12-18T12:52:00.867201</dc:date>\r\n    <dc:format>image/svg+xml</dc:format>\r\n    <dc:creator>\r\n     <cc:Agent>\r\n      <dc:title>Matplotlib v3.3.2, https://matplotlib.org/</dc:title>\r\n     </cc:Agent>\r\n    </dc:creator>\r\n   </cc:Work>\r\n  </rdf:RDF>\r\n </metadata>\r\n <defs>\r\n  <style type=\"text/css\">*{stroke-linecap:butt;stroke-linejoin:round;}</style>\r\n </defs>\r\n <g id=\"figure_1\">\r\n  <g id=\"patch_1\">\r\n   <path d=\"M 0 277.314375 \r\nL 385.2895 277.314375 \r\nL 385.2895 0 \r\nL 0 0 \r\nz\r\n\" style=\"fill:none;\"/>\r\n  </g>\r\n  <g id=\"axes_1\">\r\n   <g id=\"patch_2\">\r\n    <path d=\"M 113.3125 239.758125 \r\nL 330.7525 239.758125 \r\nL 330.7525 22.318125 \r\nL 113.3125 22.318125 \r\nz\r\n\" style=\"fill:#ffffff;\"/>\r\n   </g>\r\n   <g clip-path=\"url(#pb3831aba71)\">\r\n    <image height=\"218\" id=\"imaged5ca79ed63\" transform=\"scale(1 -1)translate(0 -218)\" width=\"218\" x=\"113.3125\" xlink:href=\"data:image/png;base64,\r\niVBORw0KGgoAAAANSUhEUgAAANoAAADaCAYAAADAHVzbAAAC8ElEQVR4nO3VoU2DUQCFUUoIqobUVOBgBRJGYBAks6A6BFtUoVgAUYlAkGBICEH8zIB430vgnAmu+XJXn9/LcvQHHV4/Zk8Y5nK7nj1hiJvd4+wJwxzPHgD/gdAgIDQICA0CQoOA0CAgNAgIDQJCg4DQICA0CAgNAkKDgNAgIDQICA0CQoOA0CAgNAgIDQJCg4DQICA0CAgNAkKDgNAgIDQICA0CQoOA0CAgNAgIDQJCg4DQICA0CAgNAkKDgNAgIDQICA0CQoOA0CAgNAgIDQJCg4DQICA0CAgNAkKDgNAgIDQICA0CQoOA0CCwenn/WmaPGGGzPp09YZizq7vZE4Y47O9nTxjGo0FAaBAQGgSEBgGhQUBoEBAaBIQGAaFBQGgQEBoEhAYBoUFAaBAQGgSEBgGhQUBoEBAaBIQGAaFBQGgQEBoEhAYBoUFAaBAQGgSEBgGhQUBoEBAaBIQGAaFBQGgQEBoEhAYBoUFAaBAQGgSEBgGhQUBoEBAaBIQGAaFBQGgQEBoEhAYBoUFAaBAQGgSEBgGhQeBksz6dvWGI89uH2ROGeX/azZ7AL3k0CAgNAkKDgNAgIDQICA0CQoOA0CAgNAgIDQJCg4DQICA0CAgNAkKDgNAgIDQICA0CQoOA0CAgNAgIDQJCg4DQICA0CAgNAkKDgNAgIDQICA0CQoOA0CAgNAgIDQJCg4DQICA0CAgNAkKDgNAgIDQICA0CQoOA0CAgNAgIDQJCg4DQICA0CAgNAkKDgNAgIDQICA0Cq/3z2zJ7xAjXF5vZE4Y5vH7MnjDE5XY9e8IwHg0CQoOA0CAgNAgIDQJCg4DQICA0CAgNAkKDgNAgIDQICA0CQoOA0CAgNAgIDQJCg4DQICA0CAgNAkKDgNAgIDQICA0CQoOA0CAgNAgIDQJCg4DQICA0CAgNAkKDgNAgIDQICA0CQoOA0CAgNAgIDQJCg4DQICA0CAgNAkKDgNAgIDQICA0CQoOA0CAgNAgIDQI/elMbmx3muhAAAAAASUVORK5CYII=\" y=\"-21.758125\"/>\r\n   </g>\r\n   <g id=\"matplotlib.axis_1\">\r\n    <g id=\"xtick_1\">\r\n     <g id=\"line2d_1\">\r\n      <defs>\r\n       <path d=\"M 0 0 \r\nL 0 3.5 \r\n\" id=\"m5ea9598214\" style=\"stroke:#000000;stroke-width:0.8;\"/>\r\n      </defs>\r\n      <g>\r\n       <use style=\"stroke:#000000;stroke-width:0.8;\" x=\"140.4925\" xlink:href=\"#m5ea9598214\" y=\"239.758125\"/>\r\n      </g>\r\n     </g>\r\n     <g id=\"text_1\">\r\n      <!-- Analytical Report -->\r\n      <g transform=\"translate(97.775313 254.356562)scale(0.1 -0.1)\">\r\n       <defs>\r\n        <path d=\"M 34.1875 63.1875 \r\nL 20.796875 26.90625 \r\nL 47.609375 26.90625 \r\nz\r\nM 28.609375 72.90625 \r\nL 39.796875 72.90625 \r\nL 67.578125 0 \r\nL 57.328125 0 \r\nL 50.6875 18.703125 \r\nL 17.828125 18.703125 \r\nL 11.1875 0 \r\nL 0.78125 0 \r\nz\r\n\" id=\"DejaVuSans-65\"/>\r\n        <path d=\"M 54.890625 33.015625 \r\nL 54.890625 0 \r\nL 45.90625 0 \r\nL 45.90625 32.71875 \r\nQ 45.90625 40.484375 42.875 44.328125 \r\nQ 39.84375 48.1875 33.796875 48.1875 \r\nQ 26.515625 48.1875 22.3125 43.546875 \r\nQ 18.109375 38.921875 18.109375 30.90625 \r\nL 18.109375 0 \r\nL 9.078125 0 \r\nL 9.078125 54.6875 \r\nL 18.109375 54.6875 \r\nL 18.109375 46.1875 \r\nQ 21.34375 51.125 25.703125 53.5625 \r\nQ 30.078125 56 35.796875 56 \r\nQ 45.21875 56 50.046875 50.171875 \r\nQ 54.890625 44.34375 54.890625 33.015625 \r\nz\r\n\" id=\"DejaVuSans-110\"/>\r\n        <path d=\"M 34.28125 27.484375 \r\nQ 23.390625 27.484375 19.1875 25 \r\nQ 14.984375 22.515625 14.984375 16.5 \r\nQ 14.984375 11.71875 18.140625 8.90625 \r\nQ 21.296875 6.109375 26.703125 6.109375 \r\nQ 34.1875 6.109375 38.703125 11.40625 \r\nQ 43.21875 16.703125 43.21875 25.484375 \r\nL 43.21875 27.484375 \r\nz\r\nM 52.203125 31.203125 \r\nL 52.203125 0 \r\nL 43.21875 0 \r\nL 43.21875 8.296875 \r\nQ 40.140625 3.328125 35.546875 0.953125 \r\nQ 30.953125 -1.421875 24.3125 -1.421875 \r\nQ 15.921875 -1.421875 10.953125 3.296875 \r\nQ 6 8.015625 6 15.921875 \r\nQ 6 25.140625 12.171875 29.828125 \r\nQ 18.359375 34.515625 30.609375 34.515625 \r\nL 43.21875 34.515625 \r\nL 43.21875 35.40625 \r\nQ 43.21875 41.609375 39.140625 45 \r\nQ 35.0625 48.390625 27.6875 48.390625 \r\nQ 23 48.390625 18.546875 47.265625 \r\nQ 14.109375 46.140625 10.015625 43.890625 \r\nL 10.015625 52.203125 \r\nQ 14.9375 54.109375 19.578125 55.046875 \r\nQ 24.21875 56 28.609375 56 \r\nQ 40.484375 56 46.34375 49.84375 \r\nQ 52.203125 43.703125 52.203125 31.203125 \r\nz\r\n\" id=\"DejaVuSans-97\"/>\r\n        <path d=\"M 9.421875 75.984375 \r\nL 18.40625 75.984375 \r\nL 18.40625 0 \r\nL 9.421875 0 \r\nz\r\n\" id=\"DejaVuSans-108\"/>\r\n        <path d=\"M 32.171875 -5.078125 \r\nQ 28.375 -14.84375 24.75 -17.8125 \r\nQ 21.140625 -20.796875 15.09375 -20.796875 \r\nL 7.90625 -20.796875 \r\nL 7.90625 -13.28125 \r\nL 13.1875 -13.28125 \r\nQ 16.890625 -13.28125 18.9375 -11.515625 \r\nQ 21 -9.765625 23.484375 -3.21875 \r\nL 25.09375 0.875 \r\nL 2.984375 54.6875 \r\nL 12.5 54.6875 \r\nL 29.59375 11.921875 \r\nL 46.6875 54.6875 \r\nL 56.203125 54.6875 \r\nz\r\n\" id=\"DejaVuSans-121\"/>\r\n        <path d=\"M 18.3125 70.21875 \r\nL 18.3125 54.6875 \r\nL 36.8125 54.6875 \r\nL 36.8125 47.703125 \r\nL 18.3125 47.703125 \r\nL 18.3125 18.015625 \r\nQ 18.3125 11.328125 20.140625 9.421875 \r\nQ 21.96875 7.515625 27.59375 7.515625 \r\nL 36.8125 7.515625 \r\nL 36.8125 0 \r\nL 27.59375 0 \r\nQ 17.1875 0 13.234375 3.875 \r\nQ 9.28125 7.765625 9.28125 18.015625 \r\nL 9.28125 47.703125 \r\nL 2.6875 47.703125 \r\nL 2.6875 54.6875 \r\nL 9.28125 54.6875 \r\nL 9.28125 70.21875 \r\nz\r\n\" id=\"DejaVuSans-116\"/>\r\n        <path d=\"M 9.421875 54.6875 \r\nL 18.40625 54.6875 \r\nL 18.40625 0 \r\nL 9.421875 0 \r\nz\r\nM 9.421875 75.984375 \r\nL 18.40625 75.984375 \r\nL 18.40625 64.59375 \r\nL 9.421875 64.59375 \r\nz\r\n\" id=\"DejaVuSans-105\"/>\r\n        <path d=\"M 48.78125 52.59375 \r\nL 48.78125 44.1875 \r\nQ 44.96875 46.296875 41.140625 47.34375 \r\nQ 37.3125 48.390625 33.40625 48.390625 \r\nQ 24.65625 48.390625 19.8125 42.84375 \r\nQ 14.984375 37.3125 14.984375 27.296875 \r\nQ 14.984375 17.28125 19.8125 11.734375 \r\nQ 24.65625 6.203125 33.40625 6.203125 \r\nQ 37.3125 6.203125 41.140625 7.25 \r\nQ 44.96875 8.296875 48.78125 10.40625 \r\nL 48.78125 2.09375 \r\nQ 45.015625 0.34375 40.984375 -0.53125 \r\nQ 36.96875 -1.421875 32.421875 -1.421875 \r\nQ 20.0625 -1.421875 12.78125 6.34375 \r\nQ 5.515625 14.109375 5.515625 27.296875 \r\nQ 5.515625 40.671875 12.859375 48.328125 \r\nQ 20.21875 56 33.015625 56 \r\nQ 37.15625 56 41.109375 55.140625 \r\nQ 45.0625 54.296875 48.78125 52.59375 \r\nz\r\n\" id=\"DejaVuSans-99\"/>\r\n        <path id=\"DejaVuSans-32\"/>\r\n        <path d=\"M 44.390625 34.1875 \r\nQ 47.5625 33.109375 50.5625 29.59375 \r\nQ 53.5625 26.078125 56.59375 19.921875 \r\nL 66.609375 0 \r\nL 56 0 \r\nL 46.6875 18.703125 \r\nQ 43.0625 26.03125 39.671875 28.421875 \r\nQ 36.28125 30.8125 30.421875 30.8125 \r\nL 19.671875 30.8125 \r\nL 19.671875 0 \r\nL 9.8125 0 \r\nL 9.8125 72.90625 \r\nL 32.078125 72.90625 \r\nQ 44.578125 72.90625 50.734375 67.671875 \r\nQ 56.890625 62.453125 56.890625 51.90625 \r\nQ 56.890625 45.015625 53.6875 40.46875 \r\nQ 50.484375 35.9375 44.390625 34.1875 \r\nz\r\nM 19.671875 64.796875 \r\nL 19.671875 38.921875 \r\nL 32.078125 38.921875 \r\nQ 39.203125 38.921875 42.84375 42.21875 \r\nQ 46.484375 45.515625 46.484375 51.90625 \r\nQ 46.484375 58.296875 42.84375 61.546875 \r\nQ 39.203125 64.796875 32.078125 64.796875 \r\nz\r\n\" id=\"DejaVuSans-82\"/>\r\n        <path d=\"M 56.203125 29.59375 \r\nL 56.203125 25.203125 \r\nL 14.890625 25.203125 \r\nQ 15.484375 15.921875 20.484375 11.0625 \r\nQ 25.484375 6.203125 34.421875 6.203125 \r\nQ 39.59375 6.203125 44.453125 7.46875 \r\nQ 49.3125 8.734375 54.109375 11.28125 \r\nL 54.109375 2.78125 \r\nQ 49.265625 0.734375 44.1875 -0.34375 \r\nQ 39.109375 -1.421875 33.890625 -1.421875 \r\nQ 20.796875 -1.421875 13.15625 6.1875 \r\nQ 5.515625 13.8125 5.515625 26.8125 \r\nQ 5.515625 40.234375 12.765625 48.109375 \r\nQ 20.015625 56 32.328125 56 \r\nQ 43.359375 56 49.78125 48.890625 \r\nQ 56.203125 41.796875 56.203125 29.59375 \r\nz\r\nM 47.21875 32.234375 \r\nQ 47.125 39.59375 43.09375 43.984375 \r\nQ 39.0625 48.390625 32.421875 48.390625 \r\nQ 24.90625 48.390625 20.390625 44.140625 \r\nQ 15.875 39.890625 15.1875 32.171875 \r\nz\r\n\" id=\"DejaVuSans-101\"/>\r\n        <path d=\"M 18.109375 8.203125 \r\nL 18.109375 -20.796875 \r\nL 9.078125 -20.796875 \r\nL 9.078125 54.6875 \r\nL 18.109375 54.6875 \r\nL 18.109375 46.390625 \r\nQ 20.953125 51.265625 25.265625 53.625 \r\nQ 29.59375 56 35.59375 56 \r\nQ 45.5625 56 51.78125 48.09375 \r\nQ 58.015625 40.1875 58.015625 27.296875 \r\nQ 58.015625 14.40625 51.78125 6.484375 \r\nQ 45.5625 -1.421875 35.59375 -1.421875 \r\nQ 29.59375 -1.421875 25.265625 0.953125 \r\nQ 20.953125 3.328125 18.109375 8.203125 \r\nz\r\nM 48.6875 27.296875 \r\nQ 48.6875 37.203125 44.609375 42.84375 \r\nQ 40.53125 48.484375 33.40625 48.484375 \r\nQ 26.265625 48.484375 22.1875 42.84375 \r\nQ 18.109375 37.203125 18.109375 27.296875 \r\nQ 18.109375 17.390625 22.1875 11.75 \r\nQ 26.265625 6.109375 33.40625 6.109375 \r\nQ 40.53125 6.109375 44.609375 11.75 \r\nQ 48.6875 17.390625 48.6875 27.296875 \r\nz\r\n\" id=\"DejaVuSans-112\"/>\r\n        <path d=\"M 30.609375 48.390625 \r\nQ 23.390625 48.390625 19.1875 42.75 \r\nQ 14.984375 37.109375 14.984375 27.296875 \r\nQ 14.984375 17.484375 19.15625 11.84375 \r\nQ 23.34375 6.203125 30.609375 6.203125 \r\nQ 37.796875 6.203125 41.984375 11.859375 \r\nQ 46.1875 17.53125 46.1875 27.296875 \r\nQ 46.1875 37.015625 41.984375 42.703125 \r\nQ 37.796875 48.390625 30.609375 48.390625 \r\nz\r\nM 30.609375 56 \r\nQ 42.328125 56 49.015625 48.375 \r\nQ 55.71875 40.765625 55.71875 27.296875 \r\nQ 55.71875 13.875 49.015625 6.21875 \r\nQ 42.328125 -1.421875 30.609375 -1.421875 \r\nQ 18.84375 -1.421875 12.171875 6.21875 \r\nQ 5.515625 13.875 5.515625 27.296875 \r\nQ 5.515625 40.765625 12.171875 48.375 \r\nQ 18.84375 56 30.609375 56 \r\nz\r\n\" id=\"DejaVuSans-111\"/>\r\n        <path d=\"M 41.109375 46.296875 \r\nQ 39.59375 47.171875 37.8125 47.578125 \r\nQ 36.03125 48 33.890625 48 \r\nQ 26.265625 48 22.1875 43.046875 \r\nQ 18.109375 38.09375 18.109375 28.8125 \r\nL 18.109375 0 \r\nL 9.078125 0 \r\nL 9.078125 54.6875 \r\nL 18.109375 54.6875 \r\nL 18.109375 46.1875 \r\nQ 20.953125 51.171875 25.484375 53.578125 \r\nQ 30.03125 56 36.53125 56 \r\nQ 37.453125 56 38.578125 55.875 \r\nQ 39.703125 55.765625 41.0625 55.515625 \r\nz\r\n\" id=\"DejaVuSans-114\"/>\r\n       </defs>\r\n       <use xlink:href=\"#DejaVuSans-65\"/>\r\n       <use x=\"68.408203\" xlink:href=\"#DejaVuSans-110\"/>\r\n       <use x=\"131.787109\" xlink:href=\"#DejaVuSans-97\"/>\r\n       <use x=\"193.066406\" xlink:href=\"#DejaVuSans-108\"/>\r\n       <use x=\"220.849609\" xlink:href=\"#DejaVuSans-121\"/>\r\n       <use x=\"280.029297\" xlink:href=\"#DejaVuSans-116\"/>\r\n       <use x=\"319.238281\" xlink:href=\"#DejaVuSans-105\"/>\r\n       <use x=\"347.021484\" xlink:href=\"#DejaVuSans-99\"/>\r\n       <use x=\"402.001953\" xlink:href=\"#DejaVuSans-97\"/>\r\n       <use x=\"463.28125\" xlink:href=\"#DejaVuSans-108\"/>\r\n       <use x=\"491.064453\" xlink:href=\"#DejaVuSans-32\"/>\r\n       <use x=\"522.851562\" xlink:href=\"#DejaVuSans-82\"/>\r\n       <use x=\"587.833984\" xlink:href=\"#DejaVuSans-101\"/>\r\n       <use x=\"649.357422\" xlink:href=\"#DejaVuSans-112\"/>\r\n       <use x=\"712.833984\" xlink:href=\"#DejaVuSans-111\"/>\r\n       <use x=\"774.015625\" xlink:href=\"#DejaVuSans-114\"/>\r\n       <use x=\"815.128906\" xlink:href=\"#DejaVuSans-116\"/>\r\n      </g>\r\n     </g>\r\n    </g>\r\n    <g id=\"xtick_2\">\r\n     <g id=\"line2d_2\">\r\n      <g>\r\n       <use style=\"stroke:#000000;stroke-width:0.8;\" x=\"194.8525\" xlink:href=\"#m5ea9598214\" y=\"239.758125\"/>\r\n      </g>\r\n     </g>\r\n     <g id=\"text_2\">\r\n      <!-- Incident Report -->\r\n      <g transform=\"translate(156.526719 254.356562)scale(0.1 -0.1)\">\r\n       <defs>\r\n        <path d=\"M 9.8125 72.90625 \r\nL 19.671875 72.90625 \r\nL 19.671875 0 \r\nL 9.8125 0 \r\nz\r\n\" id=\"DejaVuSans-73\"/>\r\n        <path d=\"M 45.40625 46.390625 \r\nL 45.40625 75.984375 \r\nL 54.390625 75.984375 \r\nL 54.390625 0 \r\nL 45.40625 0 \r\nL 45.40625 8.203125 \r\nQ 42.578125 3.328125 38.25 0.953125 \r\nQ 33.9375 -1.421875 27.875 -1.421875 \r\nQ 17.96875 -1.421875 11.734375 6.484375 \r\nQ 5.515625 14.40625 5.515625 27.296875 \r\nQ 5.515625 40.1875 11.734375 48.09375 \r\nQ 17.96875 56 27.875 56 \r\nQ 33.9375 56 38.25 53.625 \r\nQ 42.578125 51.265625 45.40625 46.390625 \r\nz\r\nM 14.796875 27.296875 \r\nQ 14.796875 17.390625 18.875 11.75 \r\nQ 22.953125 6.109375 30.078125 6.109375 \r\nQ 37.203125 6.109375 41.296875 11.75 \r\nQ 45.40625 17.390625 45.40625 27.296875 \r\nQ 45.40625 37.203125 41.296875 42.84375 \r\nQ 37.203125 48.484375 30.078125 48.484375 \r\nQ 22.953125 48.484375 18.875 42.84375 \r\nQ 14.796875 37.203125 14.796875 27.296875 \r\nz\r\n\" id=\"DejaVuSans-100\"/>\r\n       </defs>\r\n       <use xlink:href=\"#DejaVuSans-73\"/>\r\n       <use x=\"29.492188\" xlink:href=\"#DejaVuSans-110\"/>\r\n       <use x=\"92.871094\" xlink:href=\"#DejaVuSans-99\"/>\r\n       <use x=\"147.851562\" xlink:href=\"#DejaVuSans-105\"/>\r\n       <use x=\"175.634766\" xlink:href=\"#DejaVuSans-100\"/>\r\n       <use x=\"239.111328\" xlink:href=\"#DejaVuSans-101\"/>\r\n       <use x=\"300.634766\" xlink:href=\"#DejaVuSans-110\"/>\r\n       <use x=\"364.013672\" xlink:href=\"#DejaVuSans-116\"/>\r\n       <use x=\"403.222656\" xlink:href=\"#DejaVuSans-32\"/>\r\n       <use x=\"435.009766\" xlink:href=\"#DejaVuSans-82\"/>\r\n       <use x=\"499.992188\" xlink:href=\"#DejaVuSans-101\"/>\r\n       <use x=\"561.515625\" xlink:href=\"#DejaVuSans-112\"/>\r\n       <use x=\"624.992188\" xlink:href=\"#DejaVuSans-111\"/>\r\n       <use x=\"686.173828\" xlink:href=\"#DejaVuSans-114\"/>\r\n       <use x=\"727.287109\" xlink:href=\"#DejaVuSans-116\"/>\r\n      </g>\r\n     </g>\r\n    </g>\r\n    <g id=\"xtick_3\">\r\n     <g id=\"line2d_3\">\r\n      <g>\r\n       <use style=\"stroke:#000000;stroke-width:0.8;\" x=\"249.2125\" xlink:href=\"#m5ea9598214\" y=\"239.758125\"/>\r\n      </g>\r\n     </g>\r\n     <g id=\"text_3\">\r\n      <!-- Profile Report -->\r\n      <g transform=\"translate(215.503906 254.356562)scale(0.1 -0.1)\">\r\n       <defs>\r\n        <path d=\"M 19.671875 64.796875 \r\nL 19.671875 37.40625 \r\nL 32.078125 37.40625 \r\nQ 38.96875 37.40625 42.71875 40.96875 \r\nQ 46.484375 44.53125 46.484375 51.125 \r\nQ 46.484375 57.671875 42.71875 61.234375 \r\nQ 38.96875 64.796875 32.078125 64.796875 \r\nz\r\nM 9.8125 72.90625 \r\nL 32.078125 72.90625 \r\nQ 44.34375 72.90625 50.609375 67.359375 \r\nQ 56.890625 61.8125 56.890625 51.125 \r\nQ 56.890625 40.328125 50.609375 34.8125 \r\nQ 44.34375 29.296875 32.078125 29.296875 \r\nL 19.671875 29.296875 \r\nL 19.671875 0 \r\nL 9.8125 0 \r\nz\r\n\" id=\"DejaVuSans-80\"/>\r\n        <path d=\"M 37.109375 75.984375 \r\nL 37.109375 68.5 \r\nL 28.515625 68.5 \r\nQ 23.6875 68.5 21.796875 66.546875 \r\nQ 19.921875 64.59375 19.921875 59.515625 \r\nL 19.921875 54.6875 \r\nL 34.71875 54.6875 \r\nL 34.71875 47.703125 \r\nL 19.921875 47.703125 \r\nL 19.921875 0 \r\nL 10.890625 0 \r\nL 10.890625 47.703125 \r\nL 2.296875 47.703125 \r\nL 2.296875 54.6875 \r\nL 10.890625 54.6875 \r\nL 10.890625 58.5 \r\nQ 10.890625 67.625 15.140625 71.796875 \r\nQ 19.390625 75.984375 28.609375 75.984375 \r\nz\r\n\" id=\"DejaVuSans-102\"/>\r\n       </defs>\r\n       <use xlink:href=\"#DejaVuSans-80\"/>\r\n       <use x=\"58.552734\" xlink:href=\"#DejaVuSans-114\"/>\r\n       <use x=\"97.416016\" xlink:href=\"#DejaVuSans-111\"/>\r\n       <use x=\"158.597656\" xlink:href=\"#DejaVuSans-102\"/>\r\n       <use x=\"193.802734\" xlink:href=\"#DejaVuSans-105\"/>\r\n       <use x=\"221.585938\" xlink:href=\"#DejaVuSans-108\"/>\r\n       <use x=\"249.369141\" xlink:href=\"#DejaVuSans-101\"/>\r\n       <use x=\"310.892578\" xlink:href=\"#DejaVuSans-32\"/>\r\n       <use x=\"342.679688\" xlink:href=\"#DejaVuSans-82\"/>\r\n       <use x=\"407.662109\" xlink:href=\"#DejaVuSans-101\"/>\r\n       <use x=\"469.185547\" xlink:href=\"#DejaVuSans-112\"/>\r\n       <use x=\"532.662109\" xlink:href=\"#DejaVuSans-111\"/>\r\n       <use x=\"593.84375\" xlink:href=\"#DejaVuSans-114\"/>\r\n       <use x=\"634.957031\" xlink:href=\"#DejaVuSans-116\"/>\r\n      </g>\r\n     </g>\r\n    </g>\r\n    <g id=\"xtick_4\">\r\n     <g id=\"line2d_4\">\r\n      <g>\r\n       <use style=\"stroke:#000000;stroke-width:0.8;\" x=\"303.5725\" xlink:href=\"#m5ea9598214\" y=\"239.758125\"/>\r\n      </g>\r\n     </g>\r\n     <g id=\"text_4\">\r\n      <!-- Situation Report -->\r\n      <g transform=\"translate(263.074844 254.356562)scale(0.1 -0.1)\">\r\n       <defs>\r\n        <path d=\"M 53.515625 70.515625 \r\nL 53.515625 60.890625 \r\nQ 47.90625 63.578125 42.921875 64.890625 \r\nQ 37.9375 66.21875 33.296875 66.21875 \r\nQ 25.25 66.21875 20.875 63.09375 \r\nQ 16.5 59.96875 16.5 54.203125 \r\nQ 16.5 49.359375 19.40625 46.890625 \r\nQ 22.3125 44.4375 30.421875 42.921875 \r\nL 36.375 41.703125 \r\nQ 47.40625 39.59375 52.65625 34.296875 \r\nQ 57.90625 29 57.90625 20.125 \r\nQ 57.90625 9.515625 50.796875 4.046875 \r\nQ 43.703125 -1.421875 29.984375 -1.421875 \r\nQ 24.8125 -1.421875 18.96875 -0.25 \r\nQ 13.140625 0.921875 6.890625 3.21875 \r\nL 6.890625 13.375 \r\nQ 12.890625 10.015625 18.65625 8.296875 \r\nQ 24.421875 6.59375 29.984375 6.59375 \r\nQ 38.421875 6.59375 43.015625 9.90625 \r\nQ 47.609375 13.234375 47.609375 19.390625 \r\nQ 47.609375 24.75 44.3125 27.78125 \r\nQ 41.015625 30.8125 33.5 32.328125 \r\nL 27.484375 33.5 \r\nQ 16.453125 35.6875 11.515625 40.375 \r\nQ 6.59375 45.0625 6.59375 53.421875 \r\nQ 6.59375 63.09375 13.40625 68.65625 \r\nQ 20.21875 74.21875 32.171875 74.21875 \r\nQ 37.3125 74.21875 42.625 73.28125 \r\nQ 47.953125 72.359375 53.515625 70.515625 \r\nz\r\n\" id=\"DejaVuSans-83\"/>\r\n        <path d=\"M 8.5 21.578125 \r\nL 8.5 54.6875 \r\nL 17.484375 54.6875 \r\nL 17.484375 21.921875 \r\nQ 17.484375 14.15625 20.5 10.265625 \r\nQ 23.53125 6.390625 29.59375 6.390625 \r\nQ 36.859375 6.390625 41.078125 11.03125 \r\nQ 45.3125 15.671875 45.3125 23.6875 \r\nL 45.3125 54.6875 \r\nL 54.296875 54.6875 \r\nL 54.296875 0 \r\nL 45.3125 0 \r\nL 45.3125 8.40625 \r\nQ 42.046875 3.421875 37.71875 1 \r\nQ 33.40625 -1.421875 27.6875 -1.421875 \r\nQ 18.265625 -1.421875 13.375 4.4375 \r\nQ 8.5 10.296875 8.5 21.578125 \r\nz\r\nM 31.109375 56 \r\nz\r\n\" id=\"DejaVuSans-117\"/>\r\n       </defs>\r\n       <use xlink:href=\"#DejaVuSans-83\"/>\r\n       <use x=\"63.476562\" xlink:href=\"#DejaVuSans-105\"/>\r\n       <use x=\"91.259766\" xlink:href=\"#DejaVuSans-116\"/>\r\n       <use x=\"130.46875\" xlink:href=\"#DejaVuSans-117\"/>\r\n       <use x=\"193.847656\" xlink:href=\"#DejaVuSans-97\"/>\r\n       <use x=\"255.126953\" xlink:href=\"#DejaVuSans-116\"/>\r\n       <use x=\"294.335938\" xlink:href=\"#DejaVuSans-105\"/>\r\n       <use x=\"322.119141\" xlink:href=\"#DejaVuSans-111\"/>\r\n       <use x=\"383.300781\" xlink:href=\"#DejaVuSans-110\"/>\r\n       <use x=\"446.679688\" xlink:href=\"#DejaVuSans-32\"/>\r\n       <use x=\"478.466797\" xlink:href=\"#DejaVuSans-82\"/>\r\n       <use x=\"543.449219\" xlink:href=\"#DejaVuSans-101\"/>\r\n       <use x=\"604.972656\" xlink:href=\"#DejaVuSans-112\"/>\r\n       <use x=\"668.449219\" xlink:href=\"#DejaVuSans-111\"/>\r\n       <use x=\"729.630859\" xlink:href=\"#DejaVuSans-114\"/>\r\n       <use x=\"770.744141\" xlink:href=\"#DejaVuSans-116\"/>\r\n      </g>\r\n     </g>\r\n    </g>\r\n    <g id=\"text_5\">\r\n     <!-- Predicted label -->\r\n     <g transform=\"translate(184.880156 268.034687)scale(0.1 -0.1)\">\r\n      <defs>\r\n       <path d=\"M 48.6875 27.296875 \r\nQ 48.6875 37.203125 44.609375 42.84375 \r\nQ 40.53125 48.484375 33.40625 48.484375 \r\nQ 26.265625 48.484375 22.1875 42.84375 \r\nQ 18.109375 37.203125 18.109375 27.296875 \r\nQ 18.109375 17.390625 22.1875 11.75 \r\nQ 26.265625 6.109375 33.40625 6.109375 \r\nQ 40.53125 6.109375 44.609375 11.75 \r\nQ 48.6875 17.390625 48.6875 27.296875 \r\nz\r\nM 18.109375 46.390625 \r\nQ 20.953125 51.265625 25.265625 53.625 \r\nQ 29.59375 56 35.59375 56 \r\nQ 45.5625 56 51.78125 48.09375 \r\nQ 58.015625 40.1875 58.015625 27.296875 \r\nQ 58.015625 14.40625 51.78125 6.484375 \r\nQ 45.5625 -1.421875 35.59375 -1.421875 \r\nQ 29.59375 -1.421875 25.265625 0.953125 \r\nQ 20.953125 3.328125 18.109375 8.203125 \r\nL 18.109375 0 \r\nL 9.078125 0 \r\nL 9.078125 75.984375 \r\nL 18.109375 75.984375 \r\nz\r\n\" id=\"DejaVuSans-98\"/>\r\n      </defs>\r\n      <use xlink:href=\"#DejaVuSans-80\"/>\r\n      <use x=\"58.552734\" xlink:href=\"#DejaVuSans-114\"/>\r\n      <use x=\"97.416016\" xlink:href=\"#DejaVuSans-101\"/>\r\n      <use x=\"158.939453\" xlink:href=\"#DejaVuSans-100\"/>\r\n      <use x=\"222.416016\" xlink:href=\"#DejaVuSans-105\"/>\r\n      <use x=\"250.199219\" xlink:href=\"#DejaVuSans-99\"/>\r\n      <use x=\"305.179688\" xlink:href=\"#DejaVuSans-116\"/>\r\n      <use x=\"344.388672\" xlink:href=\"#DejaVuSans-101\"/>\r\n      <use x=\"405.912109\" xlink:href=\"#DejaVuSans-100\"/>\r\n      <use x=\"469.388672\" xlink:href=\"#DejaVuSans-32\"/>\r\n      <use x=\"501.175781\" xlink:href=\"#DejaVuSans-108\"/>\r\n      <use x=\"528.958984\" xlink:href=\"#DejaVuSans-97\"/>\r\n      <use x=\"590.238281\" xlink:href=\"#DejaVuSans-98\"/>\r\n      <use x=\"653.714844\" xlink:href=\"#DejaVuSans-101\"/>\r\n      <use x=\"715.238281\" xlink:href=\"#DejaVuSans-108\"/>\r\n     </g>\r\n    </g>\r\n   </g>\r\n   <g id=\"matplotlib.axis_2\">\r\n    <g id=\"ytick_1\">\r\n     <g id=\"line2d_5\">\r\n      <defs>\r\n       <path d=\"M 0 0 \r\nL -3.5 0 \r\n\" id=\"m5690ac3a8b\" style=\"stroke:#000000;stroke-width:0.8;\"/>\r\n      </defs>\r\n      <g>\r\n       <use style=\"stroke:#000000;stroke-width:0.8;\" x=\"113.3125\" xlink:href=\"#m5690ac3a8b\" y=\"49.498125\"/>\r\n      </g>\r\n     </g>\r\n     <g id=\"text_6\">\r\n      <!-- Analytical Report -->\r\n      <g transform=\"translate(20.878125 53.297344)scale(0.1 -0.1)\">\r\n       <use xlink:href=\"#DejaVuSans-65\"/>\r\n       <use x=\"68.408203\" xlink:href=\"#DejaVuSans-110\"/>\r\n       <use x=\"131.787109\" xlink:href=\"#DejaVuSans-97\"/>\r\n       <use x=\"193.066406\" xlink:href=\"#DejaVuSans-108\"/>\r\n       <use x=\"220.849609\" xlink:href=\"#DejaVuSans-121\"/>\r\n       <use x=\"280.029297\" xlink:href=\"#DejaVuSans-116\"/>\r\n       <use x=\"319.238281\" xlink:href=\"#DejaVuSans-105\"/>\r\n       <use x=\"347.021484\" xlink:href=\"#DejaVuSans-99\"/>\r\n       <use x=\"402.001953\" xlink:href=\"#DejaVuSans-97\"/>\r\n       <use x=\"463.28125\" xlink:href=\"#DejaVuSans-108\"/>\r\n       <use x=\"491.064453\" xlink:href=\"#DejaVuSans-32\"/>\r\n       <use x=\"522.851562\" xlink:href=\"#DejaVuSans-82\"/>\r\n       <use x=\"587.833984\" xlink:href=\"#DejaVuSans-101\"/>\r\n       <use x=\"649.357422\" xlink:href=\"#DejaVuSans-112\"/>\r\n       <use x=\"712.833984\" xlink:href=\"#DejaVuSans-111\"/>\r\n       <use x=\"774.015625\" xlink:href=\"#DejaVuSans-114\"/>\r\n       <use x=\"815.128906\" xlink:href=\"#DejaVuSans-116\"/>\r\n      </g>\r\n     </g>\r\n    </g>\r\n    <g id=\"ytick_2\">\r\n     <g id=\"line2d_6\">\r\n      <g>\r\n       <use style=\"stroke:#000000;stroke-width:0.8;\" x=\"113.3125\" xlink:href=\"#m5690ac3a8b\" y=\"103.858125\"/>\r\n      </g>\r\n     </g>\r\n     <g id=\"text_7\">\r\n      <!-- Incident Report -->\r\n      <g transform=\"translate(29.660938 107.657344)scale(0.1 -0.1)\">\r\n       <use xlink:href=\"#DejaVuSans-73\"/>\r\n       <use x=\"29.492188\" xlink:href=\"#DejaVuSans-110\"/>\r\n       <use x=\"92.871094\" xlink:href=\"#DejaVuSans-99\"/>\r\n       <use x=\"147.851562\" xlink:href=\"#DejaVuSans-105\"/>\r\n       <use x=\"175.634766\" xlink:href=\"#DejaVuSans-100\"/>\r\n       <use x=\"239.111328\" xlink:href=\"#DejaVuSans-101\"/>\r\n       <use x=\"300.634766\" xlink:href=\"#DejaVuSans-110\"/>\r\n       <use x=\"364.013672\" xlink:href=\"#DejaVuSans-116\"/>\r\n       <use x=\"403.222656\" xlink:href=\"#DejaVuSans-32\"/>\r\n       <use x=\"435.009766\" xlink:href=\"#DejaVuSans-82\"/>\r\n       <use x=\"499.992188\" xlink:href=\"#DejaVuSans-101\"/>\r\n       <use x=\"561.515625\" xlink:href=\"#DejaVuSans-112\"/>\r\n       <use x=\"624.992188\" xlink:href=\"#DejaVuSans-111\"/>\r\n       <use x=\"686.173828\" xlink:href=\"#DejaVuSans-114\"/>\r\n       <use x=\"727.287109\" xlink:href=\"#DejaVuSans-116\"/>\r\n      </g>\r\n     </g>\r\n    </g>\r\n    <g id=\"ytick_3\">\r\n     <g id=\"line2d_7\">\r\n      <g>\r\n       <use style=\"stroke:#000000;stroke-width:0.8;\" x=\"113.3125\" xlink:href=\"#m5690ac3a8b\" y=\"158.218125\"/>\r\n      </g>\r\n     </g>\r\n     <g id=\"text_8\">\r\n      <!-- Profile Report -->\r\n      <g transform=\"translate(38.895313 162.017344)scale(0.1 -0.1)\">\r\n       <use xlink:href=\"#DejaVuSans-80\"/>\r\n       <use x=\"58.552734\" xlink:href=\"#DejaVuSans-114\"/>\r\n       <use x=\"97.416016\" xlink:href=\"#DejaVuSans-111\"/>\r\n       <use x=\"158.597656\" xlink:href=\"#DejaVuSans-102\"/>\r\n       <use x=\"193.802734\" xlink:href=\"#DejaVuSans-105\"/>\r\n       <use x=\"221.585938\" xlink:href=\"#DejaVuSans-108\"/>\r\n       <use x=\"249.369141\" xlink:href=\"#DejaVuSans-101\"/>\r\n       <use x=\"310.892578\" xlink:href=\"#DejaVuSans-32\"/>\r\n       <use x=\"342.679688\" xlink:href=\"#DejaVuSans-82\"/>\r\n       <use x=\"407.662109\" xlink:href=\"#DejaVuSans-101\"/>\r\n       <use x=\"469.185547\" xlink:href=\"#DejaVuSans-112\"/>\r\n       <use x=\"532.662109\" xlink:href=\"#DejaVuSans-111\"/>\r\n       <use x=\"593.84375\" xlink:href=\"#DejaVuSans-114\"/>\r\n       <use x=\"634.957031\" xlink:href=\"#DejaVuSans-116\"/>\r\n      </g>\r\n     </g>\r\n    </g>\r\n    <g id=\"ytick_4\">\r\n     <g id=\"line2d_8\">\r\n      <g>\r\n       <use style=\"stroke:#000000;stroke-width:0.8;\" x=\"113.3125\" xlink:href=\"#m5690ac3a8b\" y=\"212.578125\"/>\r\n      </g>\r\n     </g>\r\n     <g id=\"text_9\">\r\n      <!-- Situation Report -->\r\n      <g transform=\"translate(25.317187 216.377344)scale(0.1 -0.1)\">\r\n       <use xlink:href=\"#DejaVuSans-83\"/>\r\n       <use x=\"63.476562\" xlink:href=\"#DejaVuSans-105\"/>\r\n       <use x=\"91.259766\" xlink:href=\"#DejaVuSans-116\"/>\r\n       <use x=\"130.46875\" xlink:href=\"#DejaVuSans-117\"/>\r\n       <use x=\"193.847656\" xlink:href=\"#DejaVuSans-97\"/>\r\n       <use x=\"255.126953\" xlink:href=\"#DejaVuSans-116\"/>\r\n       <use x=\"294.335938\" xlink:href=\"#DejaVuSans-105\"/>\r\n       <use x=\"322.119141\" xlink:href=\"#DejaVuSans-111\"/>\r\n       <use x=\"383.300781\" xlink:href=\"#DejaVuSans-110\"/>\r\n       <use x=\"446.679688\" xlink:href=\"#DejaVuSans-32\"/>\r\n       <use x=\"478.466797\" xlink:href=\"#DejaVuSans-82\"/>\r\n       <use x=\"543.449219\" xlink:href=\"#DejaVuSans-101\"/>\r\n       <use x=\"604.972656\" xlink:href=\"#DejaVuSans-112\"/>\r\n       <use x=\"668.449219\" xlink:href=\"#DejaVuSans-111\"/>\r\n       <use x=\"729.630859\" xlink:href=\"#DejaVuSans-114\"/>\r\n       <use x=\"770.744141\" xlink:href=\"#DejaVuSans-116\"/>\r\n      </g>\r\n     </g>\r\n    </g>\r\n    <g id=\"text_10\">\r\n     <!-- True label -->\r\n     <g transform=\"translate(14.798437 155.337344)rotate(-90)scale(0.1 -0.1)\">\r\n      <defs>\r\n       <path d=\"M -0.296875 72.90625 \r\nL 61.375 72.90625 \r\nL 61.375 64.59375 \r\nL 35.5 64.59375 \r\nL 35.5 0 \r\nL 25.59375 0 \r\nL 25.59375 64.59375 \r\nL -0.296875 64.59375 \r\nz\r\n\" id=\"DejaVuSans-84\"/>\r\n      </defs>\r\n      <use xlink:href=\"#DejaVuSans-84\"/>\r\n      <use x=\"46.333984\" xlink:href=\"#DejaVuSans-114\"/>\r\n      <use x=\"87.447266\" xlink:href=\"#DejaVuSans-117\"/>\r\n      <use x=\"150.826172\" xlink:href=\"#DejaVuSans-101\"/>\r\n      <use x=\"212.349609\" xlink:href=\"#DejaVuSans-32\"/>\r\n      <use x=\"244.136719\" xlink:href=\"#DejaVuSans-108\"/>\r\n      <use x=\"271.919922\" xlink:href=\"#DejaVuSans-97\"/>\r\n      <use x=\"333.199219\" xlink:href=\"#DejaVuSans-98\"/>\r\n      <use x=\"396.675781\" xlink:href=\"#DejaVuSans-101\"/>\r\n      <use x=\"458.199219\" xlink:href=\"#DejaVuSans-108\"/>\r\n     </g>\r\n    </g>\r\n   </g>\r\n   <g id=\"patch_3\">\r\n    <path d=\"M 113.3125 239.758125 \r\nL 113.3125 22.318125 \r\n\" style=\"fill:none;stroke:#000000;stroke-linecap:square;stroke-linejoin:miter;stroke-width:0.8;\"/>\r\n   </g>\r\n   <g id=\"patch_4\">\r\n    <path d=\"M 330.7525 239.758125 \r\nL 330.7525 22.318125 \r\n\" style=\"fill:none;stroke:#000000;stroke-linecap:square;stroke-linejoin:miter;stroke-width:0.8;\"/>\r\n   </g>\r\n   <g id=\"patch_5\">\r\n    <path d=\"M 113.3125 239.758125 \r\nL 330.7525 239.758125 \r\n\" style=\"fill:none;stroke:#000000;stroke-linecap:square;stroke-linejoin:miter;stroke-width:0.8;\"/>\r\n   </g>\r\n   <g id=\"patch_6\">\r\n    <path d=\"M 113.3125 22.318125 \r\nL 330.7525 22.318125 \r\n\" style=\"fill:none;stroke:#000000;stroke-linecap:square;stroke-linejoin:miter;stroke-width:0.8;\"/>\r\n   </g>\r\n   <g id=\"text_11\">\r\n    <!-- 3 -->\r\n    <g style=\"fill:#08306b;\" transform=\"translate(137.31125 52.2575)scale(0.1 -0.1)\">\r\n     <defs>\r\n      <path d=\"M 40.578125 39.3125 \r\nQ 47.65625 37.796875 51.625 33 \r\nQ 55.609375 28.21875 55.609375 21.1875 \r\nQ 55.609375 10.40625 48.1875 4.484375 \r\nQ 40.765625 -1.421875 27.09375 -1.421875 \r\nQ 22.515625 -1.421875 17.65625 -0.515625 \r\nQ 12.796875 0.390625 7.625 2.203125 \r\nL 7.625 11.71875 \r\nQ 11.71875 9.328125 16.59375 8.109375 \r\nQ 21.484375 6.890625 26.8125 6.890625 \r\nQ 36.078125 6.890625 40.9375 10.546875 \r\nQ 45.796875 14.203125 45.796875 21.1875 \r\nQ 45.796875 27.640625 41.28125 31.265625 \r\nQ 36.765625 34.90625 28.71875 34.90625 \r\nL 20.21875 34.90625 \r\nL 20.21875 43.015625 \r\nL 29.109375 43.015625 \r\nQ 36.375 43.015625 40.234375 45.921875 \r\nQ 44.09375 48.828125 44.09375 54.296875 \r\nQ 44.09375 59.90625 40.109375 62.90625 \r\nQ 36.140625 65.921875 28.71875 65.921875 \r\nQ 24.65625 65.921875 20.015625 65.03125 \r\nQ 15.375 64.15625 9.8125 62.3125 \r\nL 9.8125 71.09375 \r\nQ 15.4375 72.65625 20.34375 73.4375 \r\nQ 25.25 74.21875 29.59375 74.21875 \r\nQ 40.828125 74.21875 47.359375 69.109375 \r\nQ 53.90625 64.015625 53.90625 55.328125 \r\nQ 53.90625 49.265625 50.4375 45.09375 \r\nQ 46.96875 40.921875 40.578125 39.3125 \r\nz\r\n\" id=\"DejaVuSans-51\"/>\r\n     </defs>\r\n     <use xlink:href=\"#DejaVuSans-51\"/>\r\n    </g>\r\n   </g>\r\n   <g id=\"text_12\">\r\n    <!-- 0 -->\r\n    <g style=\"fill:#08306b;\" transform=\"translate(191.67125 52.2575)scale(0.1 -0.1)\">\r\n     <defs>\r\n      <path d=\"M 31.78125 66.40625 \r\nQ 24.171875 66.40625 20.328125 58.90625 \r\nQ 16.5 51.421875 16.5 36.375 \r\nQ 16.5 21.390625 20.328125 13.890625 \r\nQ 24.171875 6.390625 31.78125 6.390625 \r\nQ 39.453125 6.390625 43.28125 13.890625 \r\nQ 47.125 21.390625 47.125 36.375 \r\nQ 47.125 51.421875 43.28125 58.90625 \r\nQ 39.453125 66.40625 31.78125 66.40625 \r\nz\r\nM 31.78125 74.21875 \r\nQ 44.046875 74.21875 50.515625 64.515625 \r\nQ 56.984375 54.828125 56.984375 36.375 \r\nQ 56.984375 17.96875 50.515625 8.265625 \r\nQ 44.046875 -1.421875 31.78125 -1.421875 \r\nQ 19.53125 -1.421875 13.0625 8.265625 \r\nQ 6.59375 17.96875 6.59375 36.375 \r\nQ 6.59375 54.828125 13.0625 64.515625 \r\nQ 19.53125 74.21875 31.78125 74.21875 \r\nz\r\n\" id=\"DejaVuSans-48\"/>\r\n     </defs>\r\n     <use xlink:href=\"#DejaVuSans-48\"/>\r\n    </g>\r\n   </g>\r\n   <g id=\"text_13\">\r\n    <!-- 2 -->\r\n    <g style=\"fill:#08306b;\" transform=\"translate(246.03125 52.2575)scale(0.1 -0.1)\">\r\n     <defs>\r\n      <path d=\"M 19.1875 8.296875 \r\nL 53.609375 8.296875 \r\nL 53.609375 0 \r\nL 7.328125 0 \r\nL 7.328125 8.296875 \r\nQ 12.9375 14.109375 22.625 23.890625 \r\nQ 32.328125 33.6875 34.8125 36.53125 \r\nQ 39.546875 41.84375 41.421875 45.53125 \r\nQ 43.3125 49.21875 43.3125 52.78125 \r\nQ 43.3125 58.59375 39.234375 62.25 \r\nQ 35.15625 65.921875 28.609375 65.921875 \r\nQ 23.96875 65.921875 18.8125 64.3125 \r\nQ 13.671875 62.703125 7.8125 59.421875 \r\nL 7.8125 69.390625 \r\nQ 13.765625 71.78125 18.9375 73 \r\nQ 24.125 74.21875 28.421875 74.21875 \r\nQ 39.75 74.21875 46.484375 68.546875 \r\nQ 53.21875 62.890625 53.21875 53.421875 \r\nQ 53.21875 48.921875 51.53125 44.890625 \r\nQ 49.859375 40.875 45.40625 35.40625 \r\nQ 44.1875 33.984375 37.640625 27.21875 \r\nQ 31.109375 20.453125 19.1875 8.296875 \r\nz\r\n\" id=\"DejaVuSans-50\"/>\r\n     </defs>\r\n     <use xlink:href=\"#DejaVuSans-50\"/>\r\n    </g>\r\n   </g>\r\n   <g id=\"text_14\">\r\n    <!-- 0 -->\r\n    <g style=\"fill:#08306b;\" transform=\"translate(300.39125 52.2575)scale(0.1 -0.1)\">\r\n     <use xlink:href=\"#DejaVuSans-48\"/>\r\n    </g>\r\n   </g>\r\n   <g id=\"text_15\">\r\n    <!-- 0 -->\r\n    <g style=\"fill:#08306b;\" transform=\"translate(137.31125 106.6175)scale(0.1 -0.1)\">\r\n     <use xlink:href=\"#DejaVuSans-48\"/>\r\n    </g>\r\n   </g>\r\n   <g id=\"text_16\">\r\n    <!-- 9 -->\r\n    <g style=\"fill:#f7fbff;\" transform=\"translate(191.67125 106.6175)scale(0.1 -0.1)\">\r\n     <defs>\r\n      <path d=\"M 10.984375 1.515625 \r\nL 10.984375 10.5 \r\nQ 14.703125 8.734375 18.5 7.8125 \r\nQ 22.3125 6.890625 25.984375 6.890625 \r\nQ 35.75 6.890625 40.890625 13.453125 \r\nQ 46.046875 20.015625 46.78125 33.40625 \r\nQ 43.953125 29.203125 39.59375 26.953125 \r\nQ 35.25 24.703125 29.984375 24.703125 \r\nQ 19.046875 24.703125 12.671875 31.3125 \r\nQ 6.296875 37.9375 6.296875 49.421875 \r\nQ 6.296875 60.640625 12.9375 67.421875 \r\nQ 19.578125 74.21875 30.609375 74.21875 \r\nQ 43.265625 74.21875 49.921875 64.515625 \r\nQ 56.59375 54.828125 56.59375 36.375 \r\nQ 56.59375 19.140625 48.40625 8.859375 \r\nQ 40.234375 -1.421875 26.421875 -1.421875 \r\nQ 22.703125 -1.421875 18.890625 -0.6875 \r\nQ 15.09375 0.046875 10.984375 1.515625 \r\nz\r\nM 30.609375 32.421875 \r\nQ 37.25 32.421875 41.125 36.953125 \r\nQ 45.015625 41.5 45.015625 49.421875 \r\nQ 45.015625 57.28125 41.125 61.84375 \r\nQ 37.25 66.40625 30.609375 66.40625 \r\nQ 23.96875 66.40625 20.09375 61.84375 \r\nQ 16.21875 57.28125 16.21875 49.421875 \r\nQ 16.21875 41.5 20.09375 36.953125 \r\nQ 23.96875 32.421875 30.609375 32.421875 \r\nz\r\n\" id=\"DejaVuSans-57\"/>\r\n     </defs>\r\n     <use xlink:href=\"#DejaVuSans-57\"/>\r\n    </g>\r\n   </g>\r\n   <g id=\"text_17\">\r\n    <!-- 0 -->\r\n    <g style=\"fill:#08306b;\" transform=\"translate(246.03125 106.6175)scale(0.1 -0.1)\">\r\n     <use xlink:href=\"#DejaVuSans-48\"/>\r\n    </g>\r\n   </g>\r\n   <g id=\"text_18\">\r\n    <!-- 0 -->\r\n    <g style=\"fill:#08306b;\" transform=\"translate(300.39125 106.6175)scale(0.1 -0.1)\">\r\n     <use xlink:href=\"#DejaVuSans-48\"/>\r\n    </g>\r\n   </g>\r\n   <g id=\"text_19\">\r\n    <!-- 1 -->\r\n    <g style=\"fill:#08306b;\" transform=\"translate(137.31125 160.9775)scale(0.1 -0.1)\">\r\n     <defs>\r\n      <path d=\"M 12.40625 8.296875 \r\nL 28.515625 8.296875 \r\nL 28.515625 63.921875 \r\nL 10.984375 60.40625 \r\nL 10.984375 69.390625 \r\nL 28.421875 72.90625 \r\nL 38.28125 72.90625 \r\nL 38.28125 8.296875 \r\nL 54.390625 8.296875 \r\nL 54.390625 0 \r\nL 12.40625 0 \r\nz\r\n\" id=\"DejaVuSans-49\"/>\r\n     </defs>\r\n     <use xlink:href=\"#DejaVuSans-49\"/>\r\n    </g>\r\n   </g>\r\n   <g id=\"text_20\">\r\n    <!-- 0 -->\r\n    <g style=\"fill:#08306b;\" transform=\"translate(191.67125 160.9775)scale(0.1 -0.1)\">\r\n     <use xlink:href=\"#DejaVuSans-48\"/>\r\n    </g>\r\n   </g>\r\n   <g id=\"text_21\">\r\n    <!-- 11 -->\r\n    <g style=\"fill:#f7fbff;\" transform=\"translate(242.85 160.9775)scale(0.1 -0.1)\">\r\n     <use xlink:href=\"#DejaVuSans-49\"/>\r\n     <use x=\"63.623047\" xlink:href=\"#DejaVuSans-49\"/>\r\n    </g>\r\n   </g>\r\n   <g id=\"text_22\">\r\n    <!-- 1 -->\r\n    <g style=\"fill:#08306b;\" transform=\"translate(300.39125 160.9775)scale(0.1 -0.1)\">\r\n     <use xlink:href=\"#DejaVuSans-49\"/>\r\n    </g>\r\n   </g>\r\n   <g id=\"text_23\">\r\n    <!-- 0 -->\r\n    <g style=\"fill:#08306b;\" transform=\"translate(137.31125 215.3375)scale(0.1 -0.1)\">\r\n     <use xlink:href=\"#DejaVuSans-48\"/>\r\n    </g>\r\n   </g>\r\n   <g id=\"text_24\">\r\n    <!-- 2 -->\r\n    <g style=\"fill:#08306b;\" transform=\"translate(191.67125 215.3375)scale(0.1 -0.1)\">\r\n     <use xlink:href=\"#DejaVuSans-50\"/>\r\n    </g>\r\n   </g>\r\n   <g id=\"text_25\">\r\n    <!-- 0 -->\r\n    <g style=\"fill:#08306b;\" transform=\"translate(246.03125 215.3375)scale(0.1 -0.1)\">\r\n     <use xlink:href=\"#DejaVuSans-48\"/>\r\n    </g>\r\n   </g>\r\n   <g id=\"text_26\">\r\n    <!-- 7 -->\r\n    <g style=\"fill:#f7fbff;\" transform=\"translate(300.39125 215.3375)scale(0.1 -0.1)\">\r\n     <defs>\r\n      <path d=\"M 8.203125 72.90625 \r\nL 55.078125 72.90625 \r\nL 55.078125 68.703125 \r\nL 28.609375 0 \r\nL 18.3125 0 \r\nL 43.21875 64.59375 \r\nL 8.203125 64.59375 \r\nz\r\n\" id=\"DejaVuSans-55\"/>\r\n     </defs>\r\n     <use xlink:href=\"#DejaVuSans-55\"/>\r\n    </g>\r\n   </g>\r\n   <g id=\"text_27\">\r\n    <!-- Validation dataset SVC Classifier -->\r\n    <g transform=\"translate(124.50625 16.318125)scale(0.12 -0.12)\">\r\n     <defs>\r\n      <path d=\"M 28.609375 0 \r\nL 0.78125 72.90625 \r\nL 11.078125 72.90625 \r\nL 34.1875 11.53125 \r\nL 57.328125 72.90625 \r\nL 67.578125 72.90625 \r\nL 39.796875 0 \r\nz\r\n\" id=\"DejaVuSans-86\"/>\r\n      <path d=\"M 44.28125 53.078125 \r\nL 44.28125 44.578125 \r\nQ 40.484375 46.53125 36.375 47.5 \r\nQ 32.28125 48.484375 27.875 48.484375 \r\nQ 21.1875 48.484375 17.84375 46.4375 \r\nQ 14.5 44.390625 14.5 40.28125 \r\nQ 14.5 37.15625 16.890625 35.375 \r\nQ 19.28125 33.59375 26.515625 31.984375 \r\nL 29.59375 31.296875 \r\nQ 39.15625 29.25 43.1875 25.515625 \r\nQ 47.21875 21.78125 47.21875 15.09375 \r\nQ 47.21875 7.46875 41.1875 3.015625 \r\nQ 35.15625 -1.421875 24.609375 -1.421875 \r\nQ 20.21875 -1.421875 15.453125 -0.5625 \r\nQ 10.6875 0.296875 5.421875 2 \r\nL 5.421875 11.28125 \r\nQ 10.40625 8.6875 15.234375 7.390625 \r\nQ 20.0625 6.109375 24.8125 6.109375 \r\nQ 31.15625 6.109375 34.5625 8.28125 \r\nQ 37.984375 10.453125 37.984375 14.40625 \r\nQ 37.984375 18.0625 35.515625 20.015625 \r\nQ 33.0625 21.96875 24.703125 23.78125 \r\nL 21.578125 24.515625 \r\nQ 13.234375 26.265625 9.515625 29.90625 \r\nQ 5.8125 33.546875 5.8125 39.890625 \r\nQ 5.8125 47.609375 11.28125 51.796875 \r\nQ 16.75 56 26.8125 56 \r\nQ 31.78125 56 36.171875 55.265625 \r\nQ 40.578125 54.546875 44.28125 53.078125 \r\nz\r\n\" id=\"DejaVuSans-115\"/>\r\n      <path d=\"M 64.40625 67.28125 \r\nL 64.40625 56.890625 \r\nQ 59.421875 61.53125 53.78125 63.8125 \r\nQ 48.140625 66.109375 41.796875 66.109375 \r\nQ 29.296875 66.109375 22.65625 58.46875 \r\nQ 16.015625 50.828125 16.015625 36.375 \r\nQ 16.015625 21.96875 22.65625 14.328125 \r\nQ 29.296875 6.6875 41.796875 6.6875 \r\nQ 48.140625 6.6875 53.78125 8.984375 \r\nQ 59.421875 11.28125 64.40625 15.921875 \r\nL 64.40625 5.609375 \r\nQ 59.234375 2.09375 53.4375 0.328125 \r\nQ 47.65625 -1.421875 41.21875 -1.421875 \r\nQ 24.65625 -1.421875 15.125 8.703125 \r\nQ 5.609375 18.84375 5.609375 36.375 \r\nQ 5.609375 53.953125 15.125 64.078125 \r\nQ 24.65625 74.21875 41.21875 74.21875 \r\nQ 47.75 74.21875 53.53125 72.484375 \r\nQ 59.328125 70.75 64.40625 67.28125 \r\nz\r\n\" id=\"DejaVuSans-67\"/>\r\n     </defs>\r\n     <use xlink:href=\"#DejaVuSans-86\"/>\r\n     <use x=\"60.658203\" xlink:href=\"#DejaVuSans-97\"/>\r\n     <use x=\"121.9375\" xlink:href=\"#DejaVuSans-108\"/>\r\n     <use x=\"149.720703\" xlink:href=\"#DejaVuSans-105\"/>\r\n     <use x=\"177.503906\" xlink:href=\"#DejaVuSans-100\"/>\r\n     <use x=\"240.980469\" xlink:href=\"#DejaVuSans-97\"/>\r\n     <use x=\"302.259766\" xlink:href=\"#DejaVuSans-116\"/>\r\n     <use x=\"341.46875\" xlink:href=\"#DejaVuSans-105\"/>\r\n     <use x=\"369.251953\" xlink:href=\"#DejaVuSans-111\"/>\r\n     <use x=\"430.433594\" xlink:href=\"#DejaVuSans-110\"/>\r\n     <use x=\"493.8125\" xlink:href=\"#DejaVuSans-32\"/>\r\n     <use x=\"525.599609\" xlink:href=\"#DejaVuSans-100\"/>\r\n     <use x=\"589.076172\" xlink:href=\"#DejaVuSans-97\"/>\r\n     <use x=\"650.355469\" xlink:href=\"#DejaVuSans-116\"/>\r\n     <use x=\"689.564453\" xlink:href=\"#DejaVuSans-97\"/>\r\n     <use x=\"750.84375\" xlink:href=\"#DejaVuSans-115\"/>\r\n     <use x=\"802.943359\" xlink:href=\"#DejaVuSans-101\"/>\r\n     <use x=\"864.466797\" xlink:href=\"#DejaVuSans-116\"/>\r\n     <use x=\"903.675781\" xlink:href=\"#DejaVuSans-32\"/>\r\n     <use x=\"935.462891\" xlink:href=\"#DejaVuSans-83\"/>\r\n     <use x=\"998.939453\" xlink:href=\"#DejaVuSans-86\"/>\r\n     <use x=\"1067.347656\" xlink:href=\"#DejaVuSans-67\"/>\r\n     <use x=\"1137.171875\" xlink:href=\"#DejaVuSans-32\"/>\r\n     <use x=\"1168.958984\" xlink:href=\"#DejaVuSans-67\"/>\r\n     <use x=\"1238.783203\" xlink:href=\"#DejaVuSans-108\"/>\r\n     <use x=\"1266.566406\" xlink:href=\"#DejaVuSans-97\"/>\r\n     <use x=\"1327.845703\" xlink:href=\"#DejaVuSans-115\"/>\r\n     <use x=\"1379.945312\" xlink:href=\"#DejaVuSans-115\"/>\r\n     <use x=\"1432.044922\" xlink:href=\"#DejaVuSans-105\"/>\r\n     <use x=\"1459.828125\" xlink:href=\"#DejaVuSans-102\"/>\r\n     <use x=\"1495.033203\" xlink:href=\"#DejaVuSans-105\"/>\r\n     <use x=\"1522.816406\" xlink:href=\"#DejaVuSans-101\"/>\r\n     <use x=\"1584.339844\" xlink:href=\"#DejaVuSans-114\"/>\r\n    </g>\r\n   </g>\r\n  </g>\r\n  <g id=\"axes_2\">\r\n   <g id=\"patch_7\">\r\n    <path clip-path=\"url(#pac422a94c3)\" d=\"M 347.4925 239.758125 \r\nL 347.4925 238.90875 \r\nL 347.4925 23.1675 \r\nL 347.4925 22.318125 \r\nL 358.3645 22.318125 \r\nL 358.3645 23.1675 \r\nL 358.3645 238.90875 \r\nL 358.3645 239.758125 \r\nz\r\n\" style=\"fill:#ffffff;stroke:#ffffff;stroke-linejoin:miter;stroke-width:0.01;\"/>\r\n   </g>\r\n   <image height=\"217\" id=\"imageb30a788674\" transform=\"scale(1 -1)translate(0 -217)\" width=\"11\" x=\"347\" xlink:href=\"data:image/png;base64,\r\niVBORw0KGgoAAAANSUhEUgAAAAsAAADZCAYAAAD2WsoCAAABHElEQVR4nO2YMQ4CMRADA8r/n0uByIYWukwxyIvuamvl2F4nutvjufc4/OYex9gxz+diMKEBsGMCLORcAH0HLEzpQhyEkwEYZgNwLk26kSEdzAbh7NHQeoPZ3bC+OvZGinRX+H9CI0Q67VWQckBkNzygdsNqDi50wAzOlZHnOh/stqjFuUBGGWezN8Dk5VWBlzrtcYKqQGxR7e5eJM9eP3sOIp0X6ALTwXOsScPLBrQ7osw9ndk9KLaot7AR0nn93DEbaLs9nc2/EKj5I3YwJBvslctoRKgBD2jRCJls2g1oeEHy7O4YpJDtZn8CxWycvxlTODNwht0h2fh/u69sfICh3YhGw8n1sia3VGNF0ECTycJedn+BO9ptTX4DblXiEVeBW/gAAAAASUVORK5CYII=\" y=\"-22\"/>\r\n   <g id=\"matplotlib.axis_3\"/>\r\n   <g id=\"matplotlib.axis_4\">\r\n    <g id=\"ytick_5\">\r\n     <g id=\"line2d_9\">\r\n      <defs>\r\n       <path d=\"M 0 0 \r\nL 3.5 0 \r\n\" id=\"mc9447ae69e\" style=\"stroke:#000000;stroke-width:0.8;\"/>\r\n      </defs>\r\n      <g>\r\n       <use style=\"stroke:#000000;stroke-width:0.8;\" x=\"358.3645\" xlink:href=\"#mc9447ae69e\" y=\"239.758125\"/>\r\n      </g>\r\n     </g>\r\n     <g id=\"text_28\">\r\n      <!-- 0 -->\r\n      <g transform=\"translate(365.3645 243.557344)scale(0.1 -0.1)\">\r\n       <use xlink:href=\"#DejaVuSans-48\"/>\r\n      </g>\r\n     </g>\r\n    </g>\r\n    <g id=\"ytick_6\">\r\n     <g id=\"line2d_10\">\r\n      <g>\r\n       <use style=\"stroke:#000000;stroke-width:0.8;\" x=\"358.3645\" xlink:href=\"#mc9447ae69e\" y=\"200.22358\"/>\r\n      </g>\r\n     </g>\r\n     <g id=\"text_29\">\r\n      <!-- 2 -->\r\n      <g transform=\"translate(365.3645 204.022798)scale(0.1 -0.1)\">\r\n       <use xlink:href=\"#DejaVuSans-50\"/>\r\n      </g>\r\n     </g>\r\n    </g>\r\n    <g id=\"ytick_7\">\r\n     <g id=\"line2d_11\">\r\n      <g>\r\n       <use style=\"stroke:#000000;stroke-width:0.8;\" x=\"358.3645\" xlink:href=\"#mc9447ae69e\" y=\"160.689034\"/>\r\n      </g>\r\n     </g>\r\n     <g id=\"text_30\">\r\n      <!-- 4 -->\r\n      <g transform=\"translate(365.3645 164.488253)scale(0.1 -0.1)\">\r\n       <defs>\r\n        <path d=\"M 37.796875 64.3125 \r\nL 12.890625 25.390625 \r\nL 37.796875 25.390625 \r\nz\r\nM 35.203125 72.90625 \r\nL 47.609375 72.90625 \r\nL 47.609375 25.390625 \r\nL 58.015625 25.390625 \r\nL 58.015625 17.1875 \r\nL 47.609375 17.1875 \r\nL 47.609375 0 \r\nL 37.796875 0 \r\nL 37.796875 17.1875 \r\nL 4.890625 17.1875 \r\nL 4.890625 26.703125 \r\nz\r\n\" id=\"DejaVuSans-52\"/>\r\n       </defs>\r\n       <use xlink:href=\"#DejaVuSans-52\"/>\r\n      </g>\r\n     </g>\r\n    </g>\r\n    <g id=\"ytick_8\">\r\n     <g id=\"line2d_12\">\r\n      <g>\r\n       <use style=\"stroke:#000000;stroke-width:0.8;\" x=\"358.3645\" xlink:href=\"#mc9447ae69e\" y=\"121.154489\"/>\r\n      </g>\r\n     </g>\r\n     <g id=\"text_31\">\r\n      <!-- 6 -->\r\n      <g transform=\"translate(365.3645 124.953707)scale(0.1 -0.1)\">\r\n       <defs>\r\n        <path d=\"M 33.015625 40.375 \r\nQ 26.375 40.375 22.484375 35.828125 \r\nQ 18.609375 31.296875 18.609375 23.390625 \r\nQ 18.609375 15.53125 22.484375 10.953125 \r\nQ 26.375 6.390625 33.015625 6.390625 \r\nQ 39.65625 6.390625 43.53125 10.953125 \r\nQ 47.40625 15.53125 47.40625 23.390625 \r\nQ 47.40625 31.296875 43.53125 35.828125 \r\nQ 39.65625 40.375 33.015625 40.375 \r\nz\r\nM 52.59375 71.296875 \r\nL 52.59375 62.3125 \r\nQ 48.875 64.0625 45.09375 64.984375 \r\nQ 41.3125 65.921875 37.59375 65.921875 \r\nQ 27.828125 65.921875 22.671875 59.328125 \r\nQ 17.53125 52.734375 16.796875 39.40625 \r\nQ 19.671875 43.65625 24.015625 45.921875 \r\nQ 28.375 48.1875 33.59375 48.1875 \r\nQ 44.578125 48.1875 50.953125 41.515625 \r\nQ 57.328125 34.859375 57.328125 23.390625 \r\nQ 57.328125 12.15625 50.6875 5.359375 \r\nQ 44.046875 -1.421875 33.015625 -1.421875 \r\nQ 20.359375 -1.421875 13.671875 8.265625 \r\nQ 6.984375 17.96875 6.984375 36.375 \r\nQ 6.984375 53.65625 15.1875 63.9375 \r\nQ 23.390625 74.21875 37.203125 74.21875 \r\nQ 40.921875 74.21875 44.703125 73.484375 \r\nQ 48.484375 72.75 52.59375 71.296875 \r\nz\r\n\" id=\"DejaVuSans-54\"/>\r\n       </defs>\r\n       <use xlink:href=\"#DejaVuSans-54\"/>\r\n      </g>\r\n     </g>\r\n    </g>\r\n    <g id=\"ytick_9\">\r\n     <g id=\"line2d_13\">\r\n      <g>\r\n       <use style=\"stroke:#000000;stroke-width:0.8;\" x=\"358.3645\" xlink:href=\"#mc9447ae69e\" y=\"81.619943\"/>\r\n      </g>\r\n     </g>\r\n     <g id=\"text_32\">\r\n      <!-- 8 -->\r\n      <g transform=\"translate(365.3645 85.419162)scale(0.1 -0.1)\">\r\n       <defs>\r\n        <path d=\"M 31.78125 34.625 \r\nQ 24.75 34.625 20.71875 30.859375 \r\nQ 16.703125 27.09375 16.703125 20.515625 \r\nQ 16.703125 13.921875 20.71875 10.15625 \r\nQ 24.75 6.390625 31.78125 6.390625 \r\nQ 38.8125 6.390625 42.859375 10.171875 \r\nQ 46.921875 13.96875 46.921875 20.515625 \r\nQ 46.921875 27.09375 42.890625 30.859375 \r\nQ 38.875 34.625 31.78125 34.625 \r\nz\r\nM 21.921875 38.8125 \r\nQ 15.578125 40.375 12.03125 44.71875 \r\nQ 8.5 49.078125 8.5 55.328125 \r\nQ 8.5 64.0625 14.71875 69.140625 \r\nQ 20.953125 74.21875 31.78125 74.21875 \r\nQ 42.671875 74.21875 48.875 69.140625 \r\nQ 55.078125 64.0625 55.078125 55.328125 \r\nQ 55.078125 49.078125 51.53125 44.71875 \r\nQ 48 40.375 41.703125 38.8125 \r\nQ 48.828125 37.15625 52.796875 32.3125 \r\nQ 56.78125 27.484375 56.78125 20.515625 \r\nQ 56.78125 9.90625 50.3125 4.234375 \r\nQ 43.84375 -1.421875 31.78125 -1.421875 \r\nQ 19.734375 -1.421875 13.25 4.234375 \r\nQ 6.78125 9.90625 6.78125 20.515625 \r\nQ 6.78125 27.484375 10.78125 32.3125 \r\nQ 14.796875 37.15625 21.921875 38.8125 \r\nz\r\nM 18.3125 54.390625 \r\nQ 18.3125 48.734375 21.84375 45.5625 \r\nQ 25.390625 42.390625 31.78125 42.390625 \r\nQ 38.140625 42.390625 41.71875 45.5625 \r\nQ 45.3125 48.734375 45.3125 54.390625 \r\nQ 45.3125 60.0625 41.71875 63.234375 \r\nQ 38.140625 66.40625 31.78125 66.40625 \r\nQ 25.390625 66.40625 21.84375 63.234375 \r\nQ 18.3125 60.0625 18.3125 54.390625 \r\nz\r\n\" id=\"DejaVuSans-56\"/>\r\n       </defs>\r\n       <use xlink:href=\"#DejaVuSans-56\"/>\r\n      </g>\r\n     </g>\r\n    </g>\r\n    <g id=\"ytick_10\">\r\n     <g id=\"line2d_14\">\r\n      <g>\r\n       <use style=\"stroke:#000000;stroke-width:0.8;\" x=\"358.3645\" xlink:href=\"#mc9447ae69e\" y=\"42.085398\"/>\r\n      </g>\r\n     </g>\r\n     <g id=\"text_33\">\r\n      <!-- 10 -->\r\n      <g transform=\"translate(365.3645 45.884616)scale(0.1 -0.1)\">\r\n       <use xlink:href=\"#DejaVuSans-49\"/>\r\n       <use x=\"63.623047\" xlink:href=\"#DejaVuSans-48\"/>\r\n      </g>\r\n     </g>\r\n    </g>\r\n   </g>\r\n   <g id=\"patch_8\">\r\n    <path d=\"M 347.4925 239.758125 \r\nL 347.4925 238.90875 \r\nL 347.4925 23.1675 \r\nL 347.4925 22.318125 \r\nL 358.3645 22.318125 \r\nL 358.3645 23.1675 \r\nL 358.3645 238.90875 \r\nL 358.3645 239.758125 \r\nz\r\n\" style=\"fill:none;stroke:#000000;stroke-linejoin:miter;stroke-width:0.8;\"/>\r\n   </g>\r\n  </g>\r\n </g>\r\n <defs>\r\n  <clipPath id=\"pb3831aba71\">\r\n   <rect height=\"217.44\" width=\"217.44\" x=\"113.3125\" y=\"22.318125\"/>\r\n  </clipPath>\r\n  <clipPath id=\"pac422a94c3\">\r\n   <rect height=\"217.44\" width=\"10.872\" x=\"347.4925\" y=\"22.318125\"/>\r\n  </clipPath>\r\n </defs>\r\n</svg>\r\n",
      "image/png": "[encoded data removed]"
     },
     "metadata": {
      "needs_background": "light"
     }
    }
   ],
   "source": [
    "classifier = SVC(C=1, kernel=\"linear\")\n",
    "classifier.fit(x_train, y_train)\n",
    "\n",
    "score_calulation(classifier, x_train, y_train, 'Train dataset SVC Classifier')\n",
    "\n",
    "score_calulation(classifier, x_val, y_val, 'Validation dataset SVC Classifier')"
   ]
  },
  {
   "cell_type": "code",
   "execution_count": 37,
   "metadata": {},
   "outputs": [
    {
     "output_type": "stream",
     "name": "stdout",
     "text": [
      "Result Train dataset Gaussian Naive Bayes Classifier\n",
      "F1 Score is  0.9314516129032258\n",
      "Accuracy  Score is  0.9314516129032258\n",
      "Recall Score is  0.9314516129032258\n",
      "Train dataset Gaussian Naive Bayes Classifier\n",
      "[[56  0  4  0]\n",
      " [ 2 50  0  2]\n",
      " [ 4  0 59  0]\n",
      " [ 3  1  1 66]]\n",
      "Result Validation dataset Gaussian Naive Bayes Classifier\n",
      "F1 Score is  0.8055555555555556\n",
      "Accuracy  Score is  0.8055555555555556\n",
      "Recall Score is  0.8055555555555556\n",
      "Validation dataset Gaussian Naive Bayes Classifier\n",
      "[[ 4  0  1  0]\n",
      " [ 1  5  0  3]\n",
      " [ 0  0 13  0]\n",
      " [ 1  1  0  7]]\n"
     ]
    },
    {
     "output_type": "display_data",
     "data": {
      "text/plain": "<Figure size 432x288 with 2 Axes>",
      "image/svg+xml": "<?xml version=\"1.0\" encoding=\"utf-8\" standalone=\"no\"?>\r\n<!DOCTYPE svg PUBLIC \"-//W3C//DTD SVG 1.1//EN\"\r\n  \"http://www.w3.org/Graphics/SVG/1.1/DTD/svg11.dtd\">\r\n<!-- Created with matplotlib (https://matplotlib.org/) -->\r\n<svg height=\"277.314375pt\" version=\"1.1\" viewBox=\"0 0 385.2895 277.314375\" width=\"385.2895pt\" xmlns=\"http://www.w3.org/2000/svg\" xmlns:xlink=\"http://www.w3.org/1999/xlink\">\r\n <metadata>\r\n  <rdf:RDF xmlns:cc=\"http://creativecommons.org/ns#\" xmlns:dc=\"http://purl.org/dc/elements/1.1/\" xmlns:rdf=\"http://www.w3.org/1999/02/22-rdf-syntax-ns#\">\r\n   <cc:Work>\r\n    <dc:type rdf:resource=\"http://purl.org/dc/dcmitype/StillImage\"/>\r\n    <dc:date>2020-12-18T12:52:01.558760</dc:date>\r\n    <dc:format>image/svg+xml</dc:format>\r\n    <dc:creator>\r\n     <cc:Agent>\r\n      <dc:title>Matplotlib v3.3.2, https://matplotlib.org/</dc:title>\r\n     </cc:Agent>\r\n    </dc:creator>\r\n   </cc:Work>\r\n  </rdf:RDF>\r\n </metadata>\r\n <defs>\r\n  <style type=\"text/css\">*{stroke-linecap:butt;stroke-linejoin:round;}</style>\r\n </defs>\r\n <g id=\"figure_1\">\r\n  <g id=\"patch_1\">\r\n   <path d=\"M 0 277.314375 \r\nL 385.2895 277.314375 \r\nL 385.2895 0 \r\nL 0 0 \r\nz\r\n\" style=\"fill:none;\"/>\r\n  </g>\r\n  <g id=\"axes_1\">\r\n   <g id=\"patch_2\">\r\n    <path d=\"M 113.3125 239.758125 \r\nL 330.7525 239.758125 \r\nL 330.7525 22.318125 \r\nL 113.3125 22.318125 \r\nz\r\n\" style=\"fill:#ffffff;\"/>\r\n   </g>\r\n   <g clip-path=\"url(#p9222504c35)\">\r\n    <image height=\"218\" id=\"imagecb3d916204\" transform=\"scale(1 -1)translate(0 -218)\" width=\"218\" x=\"113.3125\" xlink:href=\"data:image/png;base64,\r\niVBORw0KGgoAAAANSUhEUgAAANoAAADaCAYAAADAHVzbAAAC7ElEQVR4nO3VsS2FYRiGYYc/ojiNxBA2sIZOaQDRGYVeYQCFLYwioSERORwzKL77k5PrmuAp3jvv6vVjs93bQYfL/uwJ/NHJ2fXsCcO4RggIDQJCg4DQICA0CAgNAkKDgNAgIDQICA0CQoOA0CAgNAgIDQJCg4DQICA0CAgNAkKDgNAgIDQICA0CQoOA0CAgNAgIDQJCg4DQICA0CAgNAkKDgNAgIDQICA0CQoOA0CAgNAgIDQJCg4DQICA0CAgNAkKDgNAgIDQICA0CQoOA0CAgNAgIDQJCg4DQICA0CAgNAsv3z3b2hiEO9lezJwxzfH43e8IQb8+3sycM46NBQGgQEBoEhAYBoUFAaBAQGgSEBgGhQUBoEBAaBIQGAaFBQGgQEBoEhAYBoUFAaBAQGgSEBgGhQUBoEBAaBIQGAaFBQGgQEBoEhAYBoUFAaBAQGgSEBgGhQUBoEBAaBIQGAaFBQGgQEBoEhAYBoUFAaBAQGgSEBgGhQUBoEBAaBIQGAaFBQGgQEBoEhAYBoUFgOVx2s7XTm6fZE4Z5e7yaPWGIr83P7AnD7GZl8M8IDQJCg4DQICA0CAgNAkKDgNAgIDQICA0CQoOA0CAgNAgIDQJCg4DQICA0CAgNAkKDgNAgIDQICA0CQoOA0CAgNAgIDQJCg4DQICA0CAgNAkKDgNAgIDQICA0CQoOA0CAgNAgIDQJCg4DQICA0CAgNAkKDgNAgIDQICA0CQoOA0CAgNAgIDQJCg4DQICA0CAgNAqv1xf129ogRXh4uZ08Y5v1zM3vCEOujZfaEYXw0CAgNAkKDgNAgIDQICA0CQoOA0CAgNAgIDQJCg4DQICA0CAgNAkKDgNAgIDQICA0CQoOA0CAgNAgIDQJCg4DQICA0CAgNAkKDgNAgIDQICA0CQoOA0CAgNAgIDQJCg4DQICA0CAgNAkKDgNAgIDQICA0CQoOA0CAgNAgIDQJCg4DQICA0CAgNAkKDgNAgIDQI/ALc3Rnn1ePpqgAAAABJRU5ErkJggg==\" y=\"-21.758125\"/>\r\n   </g>\r\n   <g id=\"matplotlib.axis_1\">\r\n    <g id=\"xtick_1\">\r\n     <g id=\"line2d_1\">\r\n      <defs>\r\n       <path d=\"M 0 0 \r\nL 0 3.5 \r\n\" id=\"mef347f82f9\" style=\"stroke:#000000;stroke-width:0.8;\"/>\r\n      </defs>\r\n      <g>\r\n       <use style=\"stroke:#000000;stroke-width:0.8;\" x=\"140.4925\" xlink:href=\"#mef347f82f9\" y=\"239.758125\"/>\r\n      </g>\r\n     </g>\r\n     <g id=\"text_1\">\r\n      <!-- Analytical Report -->\r\n      <g transform=\"translate(97.775313 254.356562)scale(0.1 -0.1)\">\r\n       <defs>\r\n        <path d=\"M 34.1875 63.1875 \r\nL 20.796875 26.90625 \r\nL 47.609375 26.90625 \r\nz\r\nM 28.609375 72.90625 \r\nL 39.796875 72.90625 \r\nL 67.578125 0 \r\nL 57.328125 0 \r\nL 50.6875 18.703125 \r\nL 17.828125 18.703125 \r\nL 11.1875 0 \r\nL 0.78125 0 \r\nz\r\n\" id=\"DejaVuSans-65\"/>\r\n        <path d=\"M 54.890625 33.015625 \r\nL 54.890625 0 \r\nL 45.90625 0 \r\nL 45.90625 32.71875 \r\nQ 45.90625 40.484375 42.875 44.328125 \r\nQ 39.84375 48.1875 33.796875 48.1875 \r\nQ 26.515625 48.1875 22.3125 43.546875 \r\nQ 18.109375 38.921875 18.109375 30.90625 \r\nL 18.109375 0 \r\nL 9.078125 0 \r\nL 9.078125 54.6875 \r\nL 18.109375 54.6875 \r\nL 18.109375 46.1875 \r\nQ 21.34375 51.125 25.703125 53.5625 \r\nQ 30.078125 56 35.796875 56 \r\nQ 45.21875 56 50.046875 50.171875 \r\nQ 54.890625 44.34375 54.890625 33.015625 \r\nz\r\n\" id=\"DejaVuSans-110\"/>\r\n        <path d=\"M 34.28125 27.484375 \r\nQ 23.390625 27.484375 19.1875 25 \r\nQ 14.984375 22.515625 14.984375 16.5 \r\nQ 14.984375 11.71875 18.140625 8.90625 \r\nQ 21.296875 6.109375 26.703125 6.109375 \r\nQ 34.1875 6.109375 38.703125 11.40625 \r\nQ 43.21875 16.703125 43.21875 25.484375 \r\nL 43.21875 27.484375 \r\nz\r\nM 52.203125 31.203125 \r\nL 52.203125 0 \r\nL 43.21875 0 \r\nL 43.21875 8.296875 \r\nQ 40.140625 3.328125 35.546875 0.953125 \r\nQ 30.953125 -1.421875 24.3125 -1.421875 \r\nQ 15.921875 -1.421875 10.953125 3.296875 \r\nQ 6 8.015625 6 15.921875 \r\nQ 6 25.140625 12.171875 29.828125 \r\nQ 18.359375 34.515625 30.609375 34.515625 \r\nL 43.21875 34.515625 \r\nL 43.21875 35.40625 \r\nQ 43.21875 41.609375 39.140625 45 \r\nQ 35.0625 48.390625 27.6875 48.390625 \r\nQ 23 48.390625 18.546875 47.265625 \r\nQ 14.109375 46.140625 10.015625 43.890625 \r\nL 10.015625 52.203125 \r\nQ 14.9375 54.109375 19.578125 55.046875 \r\nQ 24.21875 56 28.609375 56 \r\nQ 40.484375 56 46.34375 49.84375 \r\nQ 52.203125 43.703125 52.203125 31.203125 \r\nz\r\n\" id=\"DejaVuSans-97\"/>\r\n        <path d=\"M 9.421875 75.984375 \r\nL 18.40625 75.984375 \r\nL 18.40625 0 \r\nL 9.421875 0 \r\nz\r\n\" id=\"DejaVuSans-108\"/>\r\n        <path d=\"M 32.171875 -5.078125 \r\nQ 28.375 -14.84375 24.75 -17.8125 \r\nQ 21.140625 -20.796875 15.09375 -20.796875 \r\nL 7.90625 -20.796875 \r\nL 7.90625 -13.28125 \r\nL 13.1875 -13.28125 \r\nQ 16.890625 -13.28125 18.9375 -11.515625 \r\nQ 21 -9.765625 23.484375 -3.21875 \r\nL 25.09375 0.875 \r\nL 2.984375 54.6875 \r\nL 12.5 54.6875 \r\nL 29.59375 11.921875 \r\nL 46.6875 54.6875 \r\nL 56.203125 54.6875 \r\nz\r\n\" id=\"DejaVuSans-121\"/>\r\n        <path d=\"M 18.3125 70.21875 \r\nL 18.3125 54.6875 \r\nL 36.8125 54.6875 \r\nL 36.8125 47.703125 \r\nL 18.3125 47.703125 \r\nL 18.3125 18.015625 \r\nQ 18.3125 11.328125 20.140625 9.421875 \r\nQ 21.96875 7.515625 27.59375 7.515625 \r\nL 36.8125 7.515625 \r\nL 36.8125 0 \r\nL 27.59375 0 \r\nQ 17.1875 0 13.234375 3.875 \r\nQ 9.28125 7.765625 9.28125 18.015625 \r\nL 9.28125 47.703125 \r\nL 2.6875 47.703125 \r\nL 2.6875 54.6875 \r\nL 9.28125 54.6875 \r\nL 9.28125 70.21875 \r\nz\r\n\" id=\"DejaVuSans-116\"/>\r\n        <path d=\"M 9.421875 54.6875 \r\nL 18.40625 54.6875 \r\nL 18.40625 0 \r\nL 9.421875 0 \r\nz\r\nM 9.421875 75.984375 \r\nL 18.40625 75.984375 \r\nL 18.40625 64.59375 \r\nL 9.421875 64.59375 \r\nz\r\n\" id=\"DejaVuSans-105\"/>\r\n        <path d=\"M 48.78125 52.59375 \r\nL 48.78125 44.1875 \r\nQ 44.96875 46.296875 41.140625 47.34375 \r\nQ 37.3125 48.390625 33.40625 48.390625 \r\nQ 24.65625 48.390625 19.8125 42.84375 \r\nQ 14.984375 37.3125 14.984375 27.296875 \r\nQ 14.984375 17.28125 19.8125 11.734375 \r\nQ 24.65625 6.203125 33.40625 6.203125 \r\nQ 37.3125 6.203125 41.140625 7.25 \r\nQ 44.96875 8.296875 48.78125 10.40625 \r\nL 48.78125 2.09375 \r\nQ 45.015625 0.34375 40.984375 -0.53125 \r\nQ 36.96875 -1.421875 32.421875 -1.421875 \r\nQ 20.0625 -1.421875 12.78125 6.34375 \r\nQ 5.515625 14.109375 5.515625 27.296875 \r\nQ 5.515625 40.671875 12.859375 48.328125 \r\nQ 20.21875 56 33.015625 56 \r\nQ 37.15625 56 41.109375 55.140625 \r\nQ 45.0625 54.296875 48.78125 52.59375 \r\nz\r\n\" id=\"DejaVuSans-99\"/>\r\n        <path id=\"DejaVuSans-32\"/>\r\n        <path d=\"M 44.390625 34.1875 \r\nQ 47.5625 33.109375 50.5625 29.59375 \r\nQ 53.5625 26.078125 56.59375 19.921875 \r\nL 66.609375 0 \r\nL 56 0 \r\nL 46.6875 18.703125 \r\nQ 43.0625 26.03125 39.671875 28.421875 \r\nQ 36.28125 30.8125 30.421875 30.8125 \r\nL 19.671875 30.8125 \r\nL 19.671875 0 \r\nL 9.8125 0 \r\nL 9.8125 72.90625 \r\nL 32.078125 72.90625 \r\nQ 44.578125 72.90625 50.734375 67.671875 \r\nQ 56.890625 62.453125 56.890625 51.90625 \r\nQ 56.890625 45.015625 53.6875 40.46875 \r\nQ 50.484375 35.9375 44.390625 34.1875 \r\nz\r\nM 19.671875 64.796875 \r\nL 19.671875 38.921875 \r\nL 32.078125 38.921875 \r\nQ 39.203125 38.921875 42.84375 42.21875 \r\nQ 46.484375 45.515625 46.484375 51.90625 \r\nQ 46.484375 58.296875 42.84375 61.546875 \r\nQ 39.203125 64.796875 32.078125 64.796875 \r\nz\r\n\" id=\"DejaVuSans-82\"/>\r\n        <path d=\"M 56.203125 29.59375 \r\nL 56.203125 25.203125 \r\nL 14.890625 25.203125 \r\nQ 15.484375 15.921875 20.484375 11.0625 \r\nQ 25.484375 6.203125 34.421875 6.203125 \r\nQ 39.59375 6.203125 44.453125 7.46875 \r\nQ 49.3125 8.734375 54.109375 11.28125 \r\nL 54.109375 2.78125 \r\nQ 49.265625 0.734375 44.1875 -0.34375 \r\nQ 39.109375 -1.421875 33.890625 -1.421875 \r\nQ 20.796875 -1.421875 13.15625 6.1875 \r\nQ 5.515625 13.8125 5.515625 26.8125 \r\nQ 5.515625 40.234375 12.765625 48.109375 \r\nQ 20.015625 56 32.328125 56 \r\nQ 43.359375 56 49.78125 48.890625 \r\nQ 56.203125 41.796875 56.203125 29.59375 \r\nz\r\nM 47.21875 32.234375 \r\nQ 47.125 39.59375 43.09375 43.984375 \r\nQ 39.0625 48.390625 32.421875 48.390625 \r\nQ 24.90625 48.390625 20.390625 44.140625 \r\nQ 15.875 39.890625 15.1875 32.171875 \r\nz\r\n\" id=\"DejaVuSans-101\"/>\r\n        <path d=\"M 18.109375 8.203125 \r\nL 18.109375 -20.796875 \r\nL 9.078125 -20.796875 \r\nL 9.078125 54.6875 \r\nL 18.109375 54.6875 \r\nL 18.109375 46.390625 \r\nQ 20.953125 51.265625 25.265625 53.625 \r\nQ 29.59375 56 35.59375 56 \r\nQ 45.5625 56 51.78125 48.09375 \r\nQ 58.015625 40.1875 58.015625 27.296875 \r\nQ 58.015625 14.40625 51.78125 6.484375 \r\nQ 45.5625 -1.421875 35.59375 -1.421875 \r\nQ 29.59375 -1.421875 25.265625 0.953125 \r\nQ 20.953125 3.328125 18.109375 8.203125 \r\nz\r\nM 48.6875 27.296875 \r\nQ 48.6875 37.203125 44.609375 42.84375 \r\nQ 40.53125 48.484375 33.40625 48.484375 \r\nQ 26.265625 48.484375 22.1875 42.84375 \r\nQ 18.109375 37.203125 18.109375 27.296875 \r\nQ 18.109375 17.390625 22.1875 11.75 \r\nQ 26.265625 6.109375 33.40625 6.109375 \r\nQ 40.53125 6.109375 44.609375 11.75 \r\nQ 48.6875 17.390625 48.6875 27.296875 \r\nz\r\n\" id=\"DejaVuSans-112\"/>\r\n        <path d=\"M 30.609375 48.390625 \r\nQ 23.390625 48.390625 19.1875 42.75 \r\nQ 14.984375 37.109375 14.984375 27.296875 \r\nQ 14.984375 17.484375 19.15625 11.84375 \r\nQ 23.34375 6.203125 30.609375 6.203125 \r\nQ 37.796875 6.203125 41.984375 11.859375 \r\nQ 46.1875 17.53125 46.1875 27.296875 \r\nQ 46.1875 37.015625 41.984375 42.703125 \r\nQ 37.796875 48.390625 30.609375 48.390625 \r\nz\r\nM 30.609375 56 \r\nQ 42.328125 56 49.015625 48.375 \r\nQ 55.71875 40.765625 55.71875 27.296875 \r\nQ 55.71875 13.875 49.015625 6.21875 \r\nQ 42.328125 -1.421875 30.609375 -1.421875 \r\nQ 18.84375 -1.421875 12.171875 6.21875 \r\nQ 5.515625 13.875 5.515625 27.296875 \r\nQ 5.515625 40.765625 12.171875 48.375 \r\nQ 18.84375 56 30.609375 56 \r\nz\r\n\" id=\"DejaVuSans-111\"/>\r\n        <path d=\"M 41.109375 46.296875 \r\nQ 39.59375 47.171875 37.8125 47.578125 \r\nQ 36.03125 48 33.890625 48 \r\nQ 26.265625 48 22.1875 43.046875 \r\nQ 18.109375 38.09375 18.109375 28.8125 \r\nL 18.109375 0 \r\nL 9.078125 0 \r\nL 9.078125 54.6875 \r\nL 18.109375 54.6875 \r\nL 18.109375 46.1875 \r\nQ 20.953125 51.171875 25.484375 53.578125 \r\nQ 30.03125 56 36.53125 56 \r\nQ 37.453125 56 38.578125 55.875 \r\nQ 39.703125 55.765625 41.0625 55.515625 \r\nz\r\n\" id=\"DejaVuSans-114\"/>\r\n       </defs>\r\n       <use xlink:href=\"#DejaVuSans-65\"/>\r\n       <use x=\"68.408203\" xlink:href=\"#DejaVuSans-110\"/>\r\n       <use x=\"131.787109\" xlink:href=\"#DejaVuSans-97\"/>\r\n       <use x=\"193.066406\" xlink:href=\"#DejaVuSans-108\"/>\r\n       <use x=\"220.849609\" xlink:href=\"#DejaVuSans-121\"/>\r\n       <use x=\"280.029297\" xlink:href=\"#DejaVuSans-116\"/>\r\n       <use x=\"319.238281\" xlink:href=\"#DejaVuSans-105\"/>\r\n       <use x=\"347.021484\" xlink:href=\"#DejaVuSans-99\"/>\r\n       <use x=\"402.001953\" xlink:href=\"#DejaVuSans-97\"/>\r\n       <use x=\"463.28125\" xlink:href=\"#DejaVuSans-108\"/>\r\n       <use x=\"491.064453\" xlink:href=\"#DejaVuSans-32\"/>\r\n       <use x=\"522.851562\" xlink:href=\"#DejaVuSans-82\"/>\r\n       <use x=\"587.833984\" xlink:href=\"#DejaVuSans-101\"/>\r\n       <use x=\"649.357422\" xlink:href=\"#DejaVuSans-112\"/>\r\n       <use x=\"712.833984\" xlink:href=\"#DejaVuSans-111\"/>\r\n       <use x=\"774.015625\" xlink:href=\"#DejaVuSans-114\"/>\r\n       <use x=\"815.128906\" xlink:href=\"#DejaVuSans-116\"/>\r\n      </g>\r\n     </g>\r\n    </g>\r\n    <g id=\"xtick_2\">\r\n     <g id=\"line2d_2\">\r\n      <g>\r\n       <use style=\"stroke:#000000;stroke-width:0.8;\" x=\"194.8525\" xlink:href=\"#mef347f82f9\" y=\"239.758125\"/>\r\n      </g>\r\n     </g>\r\n     <g id=\"text_2\">\r\n      <!-- Incident Report -->\r\n      <g transform=\"translate(156.526719 254.356562)scale(0.1 -0.1)\">\r\n       <defs>\r\n        <path d=\"M 9.8125 72.90625 \r\nL 19.671875 72.90625 \r\nL 19.671875 0 \r\nL 9.8125 0 \r\nz\r\n\" id=\"DejaVuSans-73\"/>\r\n        <path d=\"M 45.40625 46.390625 \r\nL 45.40625 75.984375 \r\nL 54.390625 75.984375 \r\nL 54.390625 0 \r\nL 45.40625 0 \r\nL 45.40625 8.203125 \r\nQ 42.578125 3.328125 38.25 0.953125 \r\nQ 33.9375 -1.421875 27.875 -1.421875 \r\nQ 17.96875 -1.421875 11.734375 6.484375 \r\nQ 5.515625 14.40625 5.515625 27.296875 \r\nQ 5.515625 40.1875 11.734375 48.09375 \r\nQ 17.96875 56 27.875 56 \r\nQ 33.9375 56 38.25 53.625 \r\nQ 42.578125 51.265625 45.40625 46.390625 \r\nz\r\nM 14.796875 27.296875 \r\nQ 14.796875 17.390625 18.875 11.75 \r\nQ 22.953125 6.109375 30.078125 6.109375 \r\nQ 37.203125 6.109375 41.296875 11.75 \r\nQ 45.40625 17.390625 45.40625 27.296875 \r\nQ 45.40625 37.203125 41.296875 42.84375 \r\nQ 37.203125 48.484375 30.078125 48.484375 \r\nQ 22.953125 48.484375 18.875 42.84375 \r\nQ 14.796875 37.203125 14.796875 27.296875 \r\nz\r\n\" id=\"DejaVuSans-100\"/>\r\n       </defs>\r\n       <use xlink:href=\"#DejaVuSans-73\"/>\r\n       <use x=\"29.492188\" xlink:href=\"#DejaVuSans-110\"/>\r\n       <use x=\"92.871094\" xlink:href=\"#DejaVuSans-99\"/>\r\n       <use x=\"147.851562\" xlink:href=\"#DejaVuSans-105\"/>\r\n       <use x=\"175.634766\" xlink:href=\"#DejaVuSans-100\"/>\r\n       <use x=\"239.111328\" xlink:href=\"#DejaVuSans-101\"/>\r\n       <use x=\"300.634766\" xlink:href=\"#DejaVuSans-110\"/>\r\n       <use x=\"364.013672\" xlink:href=\"#DejaVuSans-116\"/>\r\n       <use x=\"403.222656\" xlink:href=\"#DejaVuSans-32\"/>\r\n       <use x=\"435.009766\" xlink:href=\"#DejaVuSans-82\"/>\r\n       <use x=\"499.992188\" xlink:href=\"#DejaVuSans-101\"/>\r\n       <use x=\"561.515625\" xlink:href=\"#DejaVuSans-112\"/>\r\n       <use x=\"624.992188\" xlink:href=\"#DejaVuSans-111\"/>\r\n       <use x=\"686.173828\" xlink:href=\"#DejaVuSans-114\"/>\r\n       <use x=\"727.287109\" xlink:href=\"#DejaVuSans-116\"/>\r\n      </g>\r\n     </g>\r\n    </g>\r\n    <g id=\"xtick_3\">\r\n     <g id=\"line2d_3\">\r\n      <g>\r\n       <use style=\"stroke:#000000;stroke-width:0.8;\" x=\"249.2125\" xlink:href=\"#mef347f82f9\" y=\"239.758125\"/>\r\n      </g>\r\n     </g>\r\n     <g id=\"text_3\">\r\n      <!-- Profile Report -->\r\n      <g transform=\"translate(215.503906 254.356562)scale(0.1 -0.1)\">\r\n       <defs>\r\n        <path d=\"M 19.671875 64.796875 \r\nL 19.671875 37.40625 \r\nL 32.078125 37.40625 \r\nQ 38.96875 37.40625 42.71875 40.96875 \r\nQ 46.484375 44.53125 46.484375 51.125 \r\nQ 46.484375 57.671875 42.71875 61.234375 \r\nQ 38.96875 64.796875 32.078125 64.796875 \r\nz\r\nM 9.8125 72.90625 \r\nL 32.078125 72.90625 \r\nQ 44.34375 72.90625 50.609375 67.359375 \r\nQ 56.890625 61.8125 56.890625 51.125 \r\nQ 56.890625 40.328125 50.609375 34.8125 \r\nQ 44.34375 29.296875 32.078125 29.296875 \r\nL 19.671875 29.296875 \r\nL 19.671875 0 \r\nL 9.8125 0 \r\nz\r\n\" id=\"DejaVuSans-80\"/>\r\n        <path d=\"M 37.109375 75.984375 \r\nL 37.109375 68.5 \r\nL 28.515625 68.5 \r\nQ 23.6875 68.5 21.796875 66.546875 \r\nQ 19.921875 64.59375 19.921875 59.515625 \r\nL 19.921875 54.6875 \r\nL 34.71875 54.6875 \r\nL 34.71875 47.703125 \r\nL 19.921875 47.703125 \r\nL 19.921875 0 \r\nL 10.890625 0 \r\nL 10.890625 47.703125 \r\nL 2.296875 47.703125 \r\nL 2.296875 54.6875 \r\nL 10.890625 54.6875 \r\nL 10.890625 58.5 \r\nQ 10.890625 67.625 15.140625 71.796875 \r\nQ 19.390625 75.984375 28.609375 75.984375 \r\nz\r\n\" id=\"DejaVuSans-102\"/>\r\n       </defs>\r\n       <use xlink:href=\"#DejaVuSans-80\"/>\r\n       <use x=\"58.552734\" xlink:href=\"#DejaVuSans-114\"/>\r\n       <use x=\"97.416016\" xlink:href=\"#DejaVuSans-111\"/>\r\n       <use x=\"158.597656\" xlink:href=\"#DejaVuSans-102\"/>\r\n       <use x=\"193.802734\" xlink:href=\"#DejaVuSans-105\"/>\r\n       <use x=\"221.585938\" xlink:href=\"#DejaVuSans-108\"/>\r\n       <use x=\"249.369141\" xlink:href=\"#DejaVuSans-101\"/>\r\n       <use x=\"310.892578\" xlink:href=\"#DejaVuSans-32\"/>\r\n       <use x=\"342.679688\" xlink:href=\"#DejaVuSans-82\"/>\r\n       <use x=\"407.662109\" xlink:href=\"#DejaVuSans-101\"/>\r\n       <use x=\"469.185547\" xlink:href=\"#DejaVuSans-112\"/>\r\n       <use x=\"532.662109\" xlink:href=\"#DejaVuSans-111\"/>\r\n       <use x=\"593.84375\" xlink:href=\"#DejaVuSans-114\"/>\r\n       <use x=\"634.957031\" xlink:href=\"#DejaVuSans-116\"/>\r\n      </g>\r\n     </g>\r\n    </g>\r\n    <g id=\"xtick_4\">\r\n     <g id=\"line2d_4\">\r\n      <g>\r\n       <use style=\"stroke:#000000;stroke-width:0.8;\" x=\"303.5725\" xlink:href=\"#mef347f82f9\" y=\"239.758125\"/>\r\n      </g>\r\n     </g>\r\n     <g id=\"text_4\">\r\n      <!-- Situation Report -->\r\n      <g transform=\"translate(263.074844 254.356562)scale(0.1 -0.1)\">\r\n       <defs>\r\n        <path d=\"M 53.515625 70.515625 \r\nL 53.515625 60.890625 \r\nQ 47.90625 63.578125 42.921875 64.890625 \r\nQ 37.9375 66.21875 33.296875 66.21875 \r\nQ 25.25 66.21875 20.875 63.09375 \r\nQ 16.5 59.96875 16.5 54.203125 \r\nQ 16.5 49.359375 19.40625 46.890625 \r\nQ 22.3125 44.4375 30.421875 42.921875 \r\nL 36.375 41.703125 \r\nQ 47.40625 39.59375 52.65625 34.296875 \r\nQ 57.90625 29 57.90625 20.125 \r\nQ 57.90625 9.515625 50.796875 4.046875 \r\nQ 43.703125 -1.421875 29.984375 -1.421875 \r\nQ 24.8125 -1.421875 18.96875 -0.25 \r\nQ 13.140625 0.921875 6.890625 3.21875 \r\nL 6.890625 13.375 \r\nQ 12.890625 10.015625 18.65625 8.296875 \r\nQ 24.421875 6.59375 29.984375 6.59375 \r\nQ 38.421875 6.59375 43.015625 9.90625 \r\nQ 47.609375 13.234375 47.609375 19.390625 \r\nQ 47.609375 24.75 44.3125 27.78125 \r\nQ 41.015625 30.8125 33.5 32.328125 \r\nL 27.484375 33.5 \r\nQ 16.453125 35.6875 11.515625 40.375 \r\nQ 6.59375 45.0625 6.59375 53.421875 \r\nQ 6.59375 63.09375 13.40625 68.65625 \r\nQ 20.21875 74.21875 32.171875 74.21875 \r\nQ 37.3125 74.21875 42.625 73.28125 \r\nQ 47.953125 72.359375 53.515625 70.515625 \r\nz\r\n\" id=\"DejaVuSans-83\"/>\r\n        <path d=\"M 8.5 21.578125 \r\nL 8.5 54.6875 \r\nL 17.484375 54.6875 \r\nL 17.484375 21.921875 \r\nQ 17.484375 14.15625 20.5 10.265625 \r\nQ 23.53125 6.390625 29.59375 6.390625 \r\nQ 36.859375 6.390625 41.078125 11.03125 \r\nQ 45.3125 15.671875 45.3125 23.6875 \r\nL 45.3125 54.6875 \r\nL 54.296875 54.6875 \r\nL 54.296875 0 \r\nL 45.3125 0 \r\nL 45.3125 8.40625 \r\nQ 42.046875 3.421875 37.71875 1 \r\nQ 33.40625 -1.421875 27.6875 -1.421875 \r\nQ 18.265625 -1.421875 13.375 4.4375 \r\nQ 8.5 10.296875 8.5 21.578125 \r\nz\r\nM 31.109375 56 \r\nz\r\n\" id=\"DejaVuSans-117\"/>\r\n       </defs>\r\n       <use xlink:href=\"#DejaVuSans-83\"/>\r\n       <use x=\"63.476562\" xlink:href=\"#DejaVuSans-105\"/>\r\n       <use x=\"91.259766\" xlink:href=\"#DejaVuSans-116\"/>\r\n       <use x=\"130.46875\" xlink:href=\"#DejaVuSans-117\"/>\r\n       <use x=\"193.847656\" xlink:href=\"#DejaVuSans-97\"/>\r\n       <use x=\"255.126953\" xlink:href=\"#DejaVuSans-116\"/>\r\n       <use x=\"294.335938\" xlink:href=\"#DejaVuSans-105\"/>\r\n       <use x=\"322.119141\" xlink:href=\"#DejaVuSans-111\"/>\r\n       <use x=\"383.300781\" xlink:href=\"#DejaVuSans-110\"/>\r\n       <use x=\"446.679688\" xlink:href=\"#DejaVuSans-32\"/>\r\n       <use x=\"478.466797\" xlink:href=\"#DejaVuSans-82\"/>\r\n       <use x=\"543.449219\" xlink:href=\"#DejaVuSans-101\"/>\r\n       <use x=\"604.972656\" xlink:href=\"#DejaVuSans-112\"/>\r\n       <use x=\"668.449219\" xlink:href=\"#DejaVuSans-111\"/>\r\n       <use x=\"729.630859\" xlink:href=\"#DejaVuSans-114\"/>\r\n       <use x=\"770.744141\" xlink:href=\"#DejaVuSans-116\"/>\r\n      </g>\r\n     </g>\r\n    </g>\r\n    <g id=\"text_5\">\r\n     <!-- Predicted label -->\r\n     <g transform=\"translate(184.880156 268.034687)scale(0.1 -0.1)\">\r\n      <defs>\r\n       <path d=\"M 48.6875 27.296875 \r\nQ 48.6875 37.203125 44.609375 42.84375 \r\nQ 40.53125 48.484375 33.40625 48.484375 \r\nQ 26.265625 48.484375 22.1875 42.84375 \r\nQ 18.109375 37.203125 18.109375 27.296875 \r\nQ 18.109375 17.390625 22.1875 11.75 \r\nQ 26.265625 6.109375 33.40625 6.109375 \r\nQ 40.53125 6.109375 44.609375 11.75 \r\nQ 48.6875 17.390625 48.6875 27.296875 \r\nz\r\nM 18.109375 46.390625 \r\nQ 20.953125 51.265625 25.265625 53.625 \r\nQ 29.59375 56 35.59375 56 \r\nQ 45.5625 56 51.78125 48.09375 \r\nQ 58.015625 40.1875 58.015625 27.296875 \r\nQ 58.015625 14.40625 51.78125 6.484375 \r\nQ 45.5625 -1.421875 35.59375 -1.421875 \r\nQ 29.59375 -1.421875 25.265625 0.953125 \r\nQ 20.953125 3.328125 18.109375 8.203125 \r\nL 18.109375 0 \r\nL 9.078125 0 \r\nL 9.078125 75.984375 \r\nL 18.109375 75.984375 \r\nz\r\n\" id=\"DejaVuSans-98\"/>\r\n      </defs>\r\n      <use xlink:href=\"#DejaVuSans-80\"/>\r\n      <use x=\"58.552734\" xlink:href=\"#DejaVuSans-114\"/>\r\n      <use x=\"97.416016\" xlink:href=\"#DejaVuSans-101\"/>\r\n      <use x=\"158.939453\" xlink:href=\"#DejaVuSans-100\"/>\r\n      <use x=\"222.416016\" xlink:href=\"#DejaVuSans-105\"/>\r\n      <use x=\"250.199219\" xlink:href=\"#DejaVuSans-99\"/>\r\n      <use x=\"305.179688\" xlink:href=\"#DejaVuSans-116\"/>\r\n      <use x=\"344.388672\" xlink:href=\"#DejaVuSans-101\"/>\r\n      <use x=\"405.912109\" xlink:href=\"#DejaVuSans-100\"/>\r\n      <use x=\"469.388672\" xlink:href=\"#DejaVuSans-32\"/>\r\n      <use x=\"501.175781\" xlink:href=\"#DejaVuSans-108\"/>\r\n      <use x=\"528.958984\" xlink:href=\"#DejaVuSans-97\"/>\r\n      <use x=\"590.238281\" xlink:href=\"#DejaVuSans-98\"/>\r\n      <use x=\"653.714844\" xlink:href=\"#DejaVuSans-101\"/>\r\n      <use x=\"715.238281\" xlink:href=\"#DejaVuSans-108\"/>\r\n     </g>\r\n    </g>\r\n   </g>\r\n   <g id=\"matplotlib.axis_2\">\r\n    <g id=\"ytick_1\">\r\n     <g id=\"line2d_5\">\r\n      <defs>\r\n       <path d=\"M 0 0 \r\nL -3.5 0 \r\n\" id=\"m32697c3ccb\" style=\"stroke:#000000;stroke-width:0.8;\"/>\r\n      </defs>\r\n      <g>\r\n       <use style=\"stroke:#000000;stroke-width:0.8;\" x=\"113.3125\" xlink:href=\"#m32697c3ccb\" y=\"49.498125\"/>\r\n      </g>\r\n     </g>\r\n     <g id=\"text_6\">\r\n      <!-- Analytical Report -->\r\n      <g transform=\"translate(20.878125 53.297344)scale(0.1 -0.1)\">\r\n       <use xlink:href=\"#DejaVuSans-65\"/>\r\n       <use x=\"68.408203\" xlink:href=\"#DejaVuSans-110\"/>\r\n       <use x=\"131.787109\" xlink:href=\"#DejaVuSans-97\"/>\r\n       <use x=\"193.066406\" xlink:href=\"#DejaVuSans-108\"/>\r\n       <use x=\"220.849609\" xlink:href=\"#DejaVuSans-121\"/>\r\n       <use x=\"280.029297\" xlink:href=\"#DejaVuSans-116\"/>\r\n       <use x=\"319.238281\" xlink:href=\"#DejaVuSans-105\"/>\r\n       <use x=\"347.021484\" xlink:href=\"#DejaVuSans-99\"/>\r\n       <use x=\"402.001953\" xlink:href=\"#DejaVuSans-97\"/>\r\n       <use x=\"463.28125\" xlink:href=\"#DejaVuSans-108\"/>\r\n       <use x=\"491.064453\" xlink:href=\"#DejaVuSans-32\"/>\r\n       <use x=\"522.851562\" xlink:href=\"#DejaVuSans-82\"/>\r\n       <use x=\"587.833984\" xlink:href=\"#DejaVuSans-101\"/>\r\n       <use x=\"649.357422\" xlink:href=\"#DejaVuSans-112\"/>\r\n       <use x=\"712.833984\" xlink:href=\"#DejaVuSans-111\"/>\r\n       <use x=\"774.015625\" xlink:href=\"#DejaVuSans-114\"/>\r\n       <use x=\"815.128906\" xlink:href=\"#DejaVuSans-116\"/>\r\n      </g>\r\n     </g>\r\n    </g>\r\n    <g id=\"ytick_2\">\r\n     <g id=\"line2d_6\">\r\n      <g>\r\n       <use style=\"stroke:#000000;stroke-width:0.8;\" x=\"113.3125\" xlink:href=\"#m32697c3ccb\" y=\"103.858125\"/>\r\n      </g>\r\n     </g>\r\n     <g id=\"text_7\">\r\n      <!-- Incident Report -->\r\n      <g transform=\"translate(29.660938 107.657344)scale(0.1 -0.1)\">\r\n       <use xlink:href=\"#DejaVuSans-73\"/>\r\n       <use x=\"29.492188\" xlink:href=\"#DejaVuSans-110\"/>\r\n       <use x=\"92.871094\" xlink:href=\"#DejaVuSans-99\"/>\r\n       <use x=\"147.851562\" xlink:href=\"#DejaVuSans-105\"/>\r\n       <use x=\"175.634766\" xlink:href=\"#DejaVuSans-100\"/>\r\n       <use x=\"239.111328\" xlink:href=\"#DejaVuSans-101\"/>\r\n       <use x=\"300.634766\" xlink:href=\"#DejaVuSans-110\"/>\r\n       <use x=\"364.013672\" xlink:href=\"#DejaVuSans-116\"/>\r\n       <use x=\"403.222656\" xlink:href=\"#DejaVuSans-32\"/>\r\n       <use x=\"435.009766\" xlink:href=\"#DejaVuSans-82\"/>\r\n       <use x=\"499.992188\" xlink:href=\"#DejaVuSans-101\"/>\r\n       <use x=\"561.515625\" xlink:href=\"#DejaVuSans-112\"/>\r\n       <use x=\"624.992188\" xlink:href=\"#DejaVuSans-111\"/>\r\n       <use x=\"686.173828\" xlink:href=\"#DejaVuSans-114\"/>\r\n       <use x=\"727.287109\" xlink:href=\"#DejaVuSans-116\"/>\r\n      </g>\r\n     </g>\r\n    </g>\r\n    <g id=\"ytick_3\">\r\n     <g id=\"line2d_7\">\r\n      <g>\r\n       <use style=\"stroke:#000000;stroke-width:0.8;\" x=\"113.3125\" xlink:href=\"#m32697c3ccb\" y=\"158.218125\"/>\r\n      </g>\r\n     </g>\r\n     <g id=\"text_8\">\r\n      <!-- Profile Report -->\r\n      <g transform=\"translate(38.895313 162.017344)scale(0.1 -0.1)\">\r\n       <use xlink:href=\"#DejaVuSans-80\"/>\r\n       <use x=\"58.552734\" xlink:href=\"#DejaVuSans-114\"/>\r\n       <use x=\"97.416016\" xlink:href=\"#DejaVuSans-111\"/>\r\n       <use x=\"158.597656\" xlink:href=\"#DejaVuSans-102\"/>\r\n       <use x=\"193.802734\" xlink:href=\"#DejaVuSans-105\"/>\r\n       <use x=\"221.585938\" xlink:href=\"#DejaVuSans-108\"/>\r\n       <use x=\"249.369141\" xlink:href=\"#DejaVuSans-101\"/>\r\n       <use x=\"310.892578\" xlink:href=\"#DejaVuSans-32\"/>\r\n       <use x=\"342.679688\" xlink:href=\"#DejaVuSans-82\"/>\r\n       <use x=\"407.662109\" xlink:href=\"#DejaVuSans-101\"/>\r\n       <use x=\"469.185547\" xlink:href=\"#DejaVuSans-112\"/>\r\n       <use x=\"532.662109\" xlink:href=\"#DejaVuSans-111\"/>\r\n       <use x=\"593.84375\" xlink:href=\"#DejaVuSans-114\"/>\r\n       <use x=\"634.957031\" xlink:href=\"#DejaVuSans-116\"/>\r\n      </g>\r\n     </g>\r\n    </g>\r\n    <g id=\"ytick_4\">\r\n     <g id=\"line2d_8\">\r\n      <g>\r\n       <use style=\"stroke:#000000;stroke-width:0.8;\" x=\"113.3125\" xlink:href=\"#m32697c3ccb\" y=\"212.578125\"/>\r\n      </g>\r\n     </g>\r\n     <g id=\"text_9\">\r\n      <!-- Situation Report -->\r\n      <g transform=\"translate(25.317187 216.377344)scale(0.1 -0.1)\">\r\n       <use xlink:href=\"#DejaVuSans-83\"/>\r\n       <use x=\"63.476562\" xlink:href=\"#DejaVuSans-105\"/>\r\n       <use x=\"91.259766\" xlink:href=\"#DejaVuSans-116\"/>\r\n       <use x=\"130.46875\" xlink:href=\"#DejaVuSans-117\"/>\r\n       <use x=\"193.847656\" xlink:href=\"#DejaVuSans-97\"/>\r\n       <use x=\"255.126953\" xlink:href=\"#DejaVuSans-116\"/>\r\n       <use x=\"294.335938\" xlink:href=\"#DejaVuSans-105\"/>\r\n       <use x=\"322.119141\" xlink:href=\"#DejaVuSans-111\"/>\r\n       <use x=\"383.300781\" xlink:href=\"#DejaVuSans-110\"/>\r\n       <use x=\"446.679688\" xlink:href=\"#DejaVuSans-32\"/>\r\n       <use x=\"478.466797\" xlink:href=\"#DejaVuSans-82\"/>\r\n       <use x=\"543.449219\" xlink:href=\"#DejaVuSans-101\"/>\r\n       <use x=\"604.972656\" xlink:href=\"#DejaVuSans-112\"/>\r\n       <use x=\"668.449219\" xlink:href=\"#DejaVuSans-111\"/>\r\n       <use x=\"729.630859\" xlink:href=\"#DejaVuSans-114\"/>\r\n       <use x=\"770.744141\" xlink:href=\"#DejaVuSans-116\"/>\r\n      </g>\r\n     </g>\r\n    </g>\r\n    <g id=\"text_10\">\r\n     <!-- True label -->\r\n     <g transform=\"translate(14.798437 155.337344)rotate(-90)scale(0.1 -0.1)\">\r\n      <defs>\r\n       <path d=\"M -0.296875 72.90625 \r\nL 61.375 72.90625 \r\nL 61.375 64.59375 \r\nL 35.5 64.59375 \r\nL 35.5 0 \r\nL 25.59375 0 \r\nL 25.59375 64.59375 \r\nL -0.296875 64.59375 \r\nz\r\n\" id=\"DejaVuSans-84\"/>\r\n      </defs>\r\n      <use xlink:href=\"#DejaVuSans-84\"/>\r\n      <use x=\"46.333984\" xlink:href=\"#DejaVuSans-114\"/>\r\n      <use x=\"87.447266\" xlink:href=\"#DejaVuSans-117\"/>\r\n      <use x=\"150.826172\" xlink:href=\"#DejaVuSans-101\"/>\r\n      <use x=\"212.349609\" xlink:href=\"#DejaVuSans-32\"/>\r\n      <use x=\"244.136719\" xlink:href=\"#DejaVuSans-108\"/>\r\n      <use x=\"271.919922\" xlink:href=\"#DejaVuSans-97\"/>\r\n      <use x=\"333.199219\" xlink:href=\"#DejaVuSans-98\"/>\r\n      <use x=\"396.675781\" xlink:href=\"#DejaVuSans-101\"/>\r\n      <use x=\"458.199219\" xlink:href=\"#DejaVuSans-108\"/>\r\n     </g>\r\n    </g>\r\n   </g>\r\n   <g id=\"patch_3\">\r\n    <path d=\"M 113.3125 239.758125 \r\nL 113.3125 22.318125 \r\n\" style=\"fill:none;stroke:#000000;stroke-linecap:square;stroke-linejoin:miter;stroke-width:0.8;\"/>\r\n   </g>\r\n   <g id=\"patch_4\">\r\n    <path d=\"M 330.7525 239.758125 \r\nL 330.7525 22.318125 \r\n\" style=\"fill:none;stroke:#000000;stroke-linecap:square;stroke-linejoin:miter;stroke-width:0.8;\"/>\r\n   </g>\r\n   <g id=\"patch_5\">\r\n    <path d=\"M 113.3125 239.758125 \r\nL 330.7525 239.758125 \r\n\" style=\"fill:none;stroke:#000000;stroke-linecap:square;stroke-linejoin:miter;stroke-width:0.8;\"/>\r\n   </g>\r\n   <g id=\"patch_6\">\r\n    <path d=\"M 113.3125 22.318125 \r\nL 330.7525 22.318125 \r\n\" style=\"fill:none;stroke:#000000;stroke-linecap:square;stroke-linejoin:miter;stroke-width:0.8;\"/>\r\n   </g>\r\n   <g id=\"text_11\">\r\n    <!-- 56 -->\r\n    <g style=\"fill:#f7fbff;\" transform=\"translate(134.13 52.2575)scale(0.1 -0.1)\">\r\n     <defs>\r\n      <path d=\"M 10.796875 72.90625 \r\nL 49.515625 72.90625 \r\nL 49.515625 64.59375 \r\nL 19.828125 64.59375 \r\nL 19.828125 46.734375 \r\nQ 21.96875 47.46875 24.109375 47.828125 \r\nQ 26.265625 48.1875 28.421875 48.1875 \r\nQ 40.625 48.1875 47.75 41.5 \r\nQ 54.890625 34.8125 54.890625 23.390625 \r\nQ 54.890625 11.625 47.5625 5.09375 \r\nQ 40.234375 -1.421875 26.90625 -1.421875 \r\nQ 22.3125 -1.421875 17.546875 -0.640625 \r\nQ 12.796875 0.140625 7.71875 1.703125 \r\nL 7.71875 11.625 \r\nQ 12.109375 9.234375 16.796875 8.0625 \r\nQ 21.484375 6.890625 26.703125 6.890625 \r\nQ 35.15625 6.890625 40.078125 11.328125 \r\nQ 45.015625 15.765625 45.015625 23.390625 \r\nQ 45.015625 31 40.078125 35.4375 \r\nQ 35.15625 39.890625 26.703125 39.890625 \r\nQ 22.75 39.890625 18.8125 39.015625 \r\nQ 14.890625 38.140625 10.796875 36.28125 \r\nz\r\n\" id=\"DejaVuSans-53\"/>\r\n      <path d=\"M 33.015625 40.375 \r\nQ 26.375 40.375 22.484375 35.828125 \r\nQ 18.609375 31.296875 18.609375 23.390625 \r\nQ 18.609375 15.53125 22.484375 10.953125 \r\nQ 26.375 6.390625 33.015625 6.390625 \r\nQ 39.65625 6.390625 43.53125 10.953125 \r\nQ 47.40625 15.53125 47.40625 23.390625 \r\nQ 47.40625 31.296875 43.53125 35.828125 \r\nQ 39.65625 40.375 33.015625 40.375 \r\nz\r\nM 52.59375 71.296875 \r\nL 52.59375 62.3125 \r\nQ 48.875 64.0625 45.09375 64.984375 \r\nQ 41.3125 65.921875 37.59375 65.921875 \r\nQ 27.828125 65.921875 22.671875 59.328125 \r\nQ 17.53125 52.734375 16.796875 39.40625 \r\nQ 19.671875 43.65625 24.015625 45.921875 \r\nQ 28.375 48.1875 33.59375 48.1875 \r\nQ 44.578125 48.1875 50.953125 41.515625 \r\nQ 57.328125 34.859375 57.328125 23.390625 \r\nQ 57.328125 12.15625 50.6875 5.359375 \r\nQ 44.046875 -1.421875 33.015625 -1.421875 \r\nQ 20.359375 -1.421875 13.671875 8.265625 \r\nQ 6.984375 17.96875 6.984375 36.375 \r\nQ 6.984375 53.65625 15.1875 63.9375 \r\nQ 23.390625 74.21875 37.203125 74.21875 \r\nQ 40.921875 74.21875 44.703125 73.484375 \r\nQ 48.484375 72.75 52.59375 71.296875 \r\nz\r\n\" id=\"DejaVuSans-54\"/>\r\n     </defs>\r\n     <use xlink:href=\"#DejaVuSans-53\"/>\r\n     <use x=\"63.623047\" xlink:href=\"#DejaVuSans-54\"/>\r\n    </g>\r\n   </g>\r\n   <g id=\"text_12\">\r\n    <!-- 0 -->\r\n    <g style=\"fill:#08306b;\" transform=\"translate(191.67125 52.2575)scale(0.1 -0.1)\">\r\n     <defs>\r\n      <path d=\"M 31.78125 66.40625 \r\nQ 24.171875 66.40625 20.328125 58.90625 \r\nQ 16.5 51.421875 16.5 36.375 \r\nQ 16.5 21.390625 20.328125 13.890625 \r\nQ 24.171875 6.390625 31.78125 6.390625 \r\nQ 39.453125 6.390625 43.28125 13.890625 \r\nQ 47.125 21.390625 47.125 36.375 \r\nQ 47.125 51.421875 43.28125 58.90625 \r\nQ 39.453125 66.40625 31.78125 66.40625 \r\nz\r\nM 31.78125 74.21875 \r\nQ 44.046875 74.21875 50.515625 64.515625 \r\nQ 56.984375 54.828125 56.984375 36.375 \r\nQ 56.984375 17.96875 50.515625 8.265625 \r\nQ 44.046875 -1.421875 31.78125 -1.421875 \r\nQ 19.53125 -1.421875 13.0625 8.265625 \r\nQ 6.59375 17.96875 6.59375 36.375 \r\nQ 6.59375 54.828125 13.0625 64.515625 \r\nQ 19.53125 74.21875 31.78125 74.21875 \r\nz\r\n\" id=\"DejaVuSans-48\"/>\r\n     </defs>\r\n     <use xlink:href=\"#DejaVuSans-48\"/>\r\n    </g>\r\n   </g>\r\n   <g id=\"text_13\">\r\n    <!-- 4 -->\r\n    <g style=\"fill:#08306b;\" transform=\"translate(246.03125 52.2575)scale(0.1 -0.1)\">\r\n     <defs>\r\n      <path d=\"M 37.796875 64.3125 \r\nL 12.890625 25.390625 \r\nL 37.796875 25.390625 \r\nz\r\nM 35.203125 72.90625 \r\nL 47.609375 72.90625 \r\nL 47.609375 25.390625 \r\nL 58.015625 25.390625 \r\nL 58.015625 17.1875 \r\nL 47.609375 17.1875 \r\nL 47.609375 0 \r\nL 37.796875 0 \r\nL 37.796875 17.1875 \r\nL 4.890625 17.1875 \r\nL 4.890625 26.703125 \r\nz\r\n\" id=\"DejaVuSans-52\"/>\r\n     </defs>\r\n     <use xlink:href=\"#DejaVuSans-52\"/>\r\n    </g>\r\n   </g>\r\n   <g id=\"text_14\">\r\n    <!-- 0 -->\r\n    <g style=\"fill:#08306b;\" transform=\"translate(300.39125 52.2575)scale(0.1 -0.1)\">\r\n     <use xlink:href=\"#DejaVuSans-48\"/>\r\n    </g>\r\n   </g>\r\n   <g id=\"text_15\">\r\n    <!-- 2 -->\r\n    <g style=\"fill:#08306b;\" transform=\"translate(137.31125 106.6175)scale(0.1 -0.1)\">\r\n     <defs>\r\n      <path d=\"M 19.1875 8.296875 \r\nL 53.609375 8.296875 \r\nL 53.609375 0 \r\nL 7.328125 0 \r\nL 7.328125 8.296875 \r\nQ 12.9375 14.109375 22.625 23.890625 \r\nQ 32.328125 33.6875 34.8125 36.53125 \r\nQ 39.546875 41.84375 41.421875 45.53125 \r\nQ 43.3125 49.21875 43.3125 52.78125 \r\nQ 43.3125 58.59375 39.234375 62.25 \r\nQ 35.15625 65.921875 28.609375 65.921875 \r\nQ 23.96875 65.921875 18.8125 64.3125 \r\nQ 13.671875 62.703125 7.8125 59.421875 \r\nL 7.8125 69.390625 \r\nQ 13.765625 71.78125 18.9375 73 \r\nQ 24.125 74.21875 28.421875 74.21875 \r\nQ 39.75 74.21875 46.484375 68.546875 \r\nQ 53.21875 62.890625 53.21875 53.421875 \r\nQ 53.21875 48.921875 51.53125 44.890625 \r\nQ 49.859375 40.875 45.40625 35.40625 \r\nQ 44.1875 33.984375 37.640625 27.21875 \r\nQ 31.109375 20.453125 19.1875 8.296875 \r\nz\r\n\" id=\"DejaVuSans-50\"/>\r\n     </defs>\r\n     <use xlink:href=\"#DejaVuSans-50\"/>\r\n    </g>\r\n   </g>\r\n   <g id=\"text_16\">\r\n    <!-- 50 -->\r\n    <g style=\"fill:#f7fbff;\" transform=\"translate(188.49 106.6175)scale(0.1 -0.1)\">\r\n     <use xlink:href=\"#DejaVuSans-53\"/>\r\n     <use x=\"63.623047\" xlink:href=\"#DejaVuSans-48\"/>\r\n    </g>\r\n   </g>\r\n   <g id=\"text_17\">\r\n    <!-- 0 -->\r\n    <g style=\"fill:#08306b;\" transform=\"translate(246.03125 106.6175)scale(0.1 -0.1)\">\r\n     <use xlink:href=\"#DejaVuSans-48\"/>\r\n    </g>\r\n   </g>\r\n   <g id=\"text_18\">\r\n    <!-- 2 -->\r\n    <g style=\"fill:#08306b;\" transform=\"translate(300.39125 106.6175)scale(0.1 -0.1)\">\r\n     <use xlink:href=\"#DejaVuSans-50\"/>\r\n    </g>\r\n   </g>\r\n   <g id=\"text_19\">\r\n    <!-- 4 -->\r\n    <g style=\"fill:#08306b;\" transform=\"translate(137.31125 160.9775)scale(0.1 -0.1)\">\r\n     <use xlink:href=\"#DejaVuSans-52\"/>\r\n    </g>\r\n   </g>\r\n   <g id=\"text_20\">\r\n    <!-- 0 -->\r\n    <g style=\"fill:#08306b;\" transform=\"translate(191.67125 160.9775)scale(0.1 -0.1)\">\r\n     <use xlink:href=\"#DejaVuSans-48\"/>\r\n    </g>\r\n   </g>\r\n   <g id=\"text_21\">\r\n    <!-- 59 -->\r\n    <g style=\"fill:#f7fbff;\" transform=\"translate(242.85 160.9775)scale(0.1 -0.1)\">\r\n     <defs>\r\n      <path d=\"M 10.984375 1.515625 \r\nL 10.984375 10.5 \r\nQ 14.703125 8.734375 18.5 7.8125 \r\nQ 22.3125 6.890625 25.984375 6.890625 \r\nQ 35.75 6.890625 40.890625 13.453125 \r\nQ 46.046875 20.015625 46.78125 33.40625 \r\nQ 43.953125 29.203125 39.59375 26.953125 \r\nQ 35.25 24.703125 29.984375 24.703125 \r\nQ 19.046875 24.703125 12.671875 31.3125 \r\nQ 6.296875 37.9375 6.296875 49.421875 \r\nQ 6.296875 60.640625 12.9375 67.421875 \r\nQ 19.578125 74.21875 30.609375 74.21875 \r\nQ 43.265625 74.21875 49.921875 64.515625 \r\nQ 56.59375 54.828125 56.59375 36.375 \r\nQ 56.59375 19.140625 48.40625 8.859375 \r\nQ 40.234375 -1.421875 26.421875 -1.421875 \r\nQ 22.703125 -1.421875 18.890625 -0.6875 \r\nQ 15.09375 0.046875 10.984375 1.515625 \r\nz\r\nM 30.609375 32.421875 \r\nQ 37.25 32.421875 41.125 36.953125 \r\nQ 45.015625 41.5 45.015625 49.421875 \r\nQ 45.015625 57.28125 41.125 61.84375 \r\nQ 37.25 66.40625 30.609375 66.40625 \r\nQ 23.96875 66.40625 20.09375 61.84375 \r\nQ 16.21875 57.28125 16.21875 49.421875 \r\nQ 16.21875 41.5 20.09375 36.953125 \r\nQ 23.96875 32.421875 30.609375 32.421875 \r\nz\r\n\" id=\"DejaVuSans-57\"/>\r\n     </defs>\r\n     <use xlink:href=\"#DejaVuSans-53\"/>\r\n     <use x=\"63.623047\" xlink:href=\"#DejaVuSans-57\"/>\r\n    </g>\r\n   </g>\r\n   <g id=\"text_22\">\r\n    <!-- 0 -->\r\n    <g style=\"fill:#08306b;\" transform=\"translate(300.39125 160.9775)scale(0.1 -0.1)\">\r\n     <use xlink:href=\"#DejaVuSans-48\"/>\r\n    </g>\r\n   </g>\r\n   <g id=\"text_23\">\r\n    <!-- 3 -->\r\n    <g style=\"fill:#08306b;\" transform=\"translate(137.31125 215.3375)scale(0.1 -0.1)\">\r\n     <defs>\r\n      <path d=\"M 40.578125 39.3125 \r\nQ 47.65625 37.796875 51.625 33 \r\nQ 55.609375 28.21875 55.609375 21.1875 \r\nQ 55.609375 10.40625 48.1875 4.484375 \r\nQ 40.765625 -1.421875 27.09375 -1.421875 \r\nQ 22.515625 -1.421875 17.65625 -0.515625 \r\nQ 12.796875 0.390625 7.625 2.203125 \r\nL 7.625 11.71875 \r\nQ 11.71875 9.328125 16.59375 8.109375 \r\nQ 21.484375 6.890625 26.8125 6.890625 \r\nQ 36.078125 6.890625 40.9375 10.546875 \r\nQ 45.796875 14.203125 45.796875 21.1875 \r\nQ 45.796875 27.640625 41.28125 31.265625 \r\nQ 36.765625 34.90625 28.71875 34.90625 \r\nL 20.21875 34.90625 \r\nL 20.21875 43.015625 \r\nL 29.109375 43.015625 \r\nQ 36.375 43.015625 40.234375 45.921875 \r\nQ 44.09375 48.828125 44.09375 54.296875 \r\nQ 44.09375 59.90625 40.109375 62.90625 \r\nQ 36.140625 65.921875 28.71875 65.921875 \r\nQ 24.65625 65.921875 20.015625 65.03125 \r\nQ 15.375 64.15625 9.8125 62.3125 \r\nL 9.8125 71.09375 \r\nQ 15.4375 72.65625 20.34375 73.4375 \r\nQ 25.25 74.21875 29.59375 74.21875 \r\nQ 40.828125 74.21875 47.359375 69.109375 \r\nQ 53.90625 64.015625 53.90625 55.328125 \r\nQ 53.90625 49.265625 50.4375 45.09375 \r\nQ 46.96875 40.921875 40.578125 39.3125 \r\nz\r\n\" id=\"DejaVuSans-51\"/>\r\n     </defs>\r\n     <use xlink:href=\"#DejaVuSans-51\"/>\r\n    </g>\r\n   </g>\r\n   <g id=\"text_24\">\r\n    <!-- 1 -->\r\n    <g style=\"fill:#08306b;\" transform=\"translate(191.67125 215.3375)scale(0.1 -0.1)\">\r\n     <defs>\r\n      <path d=\"M 12.40625 8.296875 \r\nL 28.515625 8.296875 \r\nL 28.515625 63.921875 \r\nL 10.984375 60.40625 \r\nL 10.984375 69.390625 \r\nL 28.421875 72.90625 \r\nL 38.28125 72.90625 \r\nL 38.28125 8.296875 \r\nL 54.390625 8.296875 \r\nL 54.390625 0 \r\nL 12.40625 0 \r\nz\r\n\" id=\"DejaVuSans-49\"/>\r\n     </defs>\r\n     <use xlink:href=\"#DejaVuSans-49\"/>\r\n    </g>\r\n   </g>\r\n   <g id=\"text_25\">\r\n    <!-- 1 -->\r\n    <g style=\"fill:#08306b;\" transform=\"translate(246.03125 215.3375)scale(0.1 -0.1)\">\r\n     <use xlink:href=\"#DejaVuSans-49\"/>\r\n    </g>\r\n   </g>\r\n   <g id=\"text_26\">\r\n    <!-- 66 -->\r\n    <g style=\"fill:#f7fbff;\" transform=\"translate(297.21 215.3375)scale(0.1 -0.1)\">\r\n     <use xlink:href=\"#DejaVuSans-54\"/>\r\n     <use x=\"63.623047\" xlink:href=\"#DejaVuSans-54\"/>\r\n    </g>\r\n   </g>\r\n   <g id=\"text_27\">\r\n    <!-- Train dataset Gaussian Naive Bayes Classifier -->\r\n    <g transform=\"translate(85.268125 16.318125)scale(0.12 -0.12)\">\r\n     <defs>\r\n      <path d=\"M 44.28125 53.078125 \r\nL 44.28125 44.578125 \r\nQ 40.484375 46.53125 36.375 47.5 \r\nQ 32.28125 48.484375 27.875 48.484375 \r\nQ 21.1875 48.484375 17.84375 46.4375 \r\nQ 14.5 44.390625 14.5 40.28125 \r\nQ 14.5 37.15625 16.890625 35.375 \r\nQ 19.28125 33.59375 26.515625 31.984375 \r\nL 29.59375 31.296875 \r\nQ 39.15625 29.25 43.1875 25.515625 \r\nQ 47.21875 21.78125 47.21875 15.09375 \r\nQ 47.21875 7.46875 41.1875 3.015625 \r\nQ 35.15625 -1.421875 24.609375 -1.421875 \r\nQ 20.21875 -1.421875 15.453125 -0.5625 \r\nQ 10.6875 0.296875 5.421875 2 \r\nL 5.421875 11.28125 \r\nQ 10.40625 8.6875 15.234375 7.390625 \r\nQ 20.0625 6.109375 24.8125 6.109375 \r\nQ 31.15625 6.109375 34.5625 8.28125 \r\nQ 37.984375 10.453125 37.984375 14.40625 \r\nQ 37.984375 18.0625 35.515625 20.015625 \r\nQ 33.0625 21.96875 24.703125 23.78125 \r\nL 21.578125 24.515625 \r\nQ 13.234375 26.265625 9.515625 29.90625 \r\nQ 5.8125 33.546875 5.8125 39.890625 \r\nQ 5.8125 47.609375 11.28125 51.796875 \r\nQ 16.75 56 26.8125 56 \r\nQ 31.78125 56 36.171875 55.265625 \r\nQ 40.578125 54.546875 44.28125 53.078125 \r\nz\r\n\" id=\"DejaVuSans-115\"/>\r\n      <path d=\"M 59.515625 10.40625 \r\nL 59.515625 29.984375 \r\nL 43.40625 29.984375 \r\nL 43.40625 38.09375 \r\nL 69.28125 38.09375 \r\nL 69.28125 6.78125 \r\nQ 63.578125 2.734375 56.6875 0.65625 \r\nQ 49.8125 -1.421875 42 -1.421875 \r\nQ 24.90625 -1.421875 15.25 8.5625 \r\nQ 5.609375 18.5625 5.609375 36.375 \r\nQ 5.609375 54.25 15.25 64.234375 \r\nQ 24.90625 74.21875 42 74.21875 \r\nQ 49.125 74.21875 55.546875 72.453125 \r\nQ 61.96875 70.703125 67.390625 67.28125 \r\nL 67.390625 56.78125 \r\nQ 61.921875 61.421875 55.765625 63.765625 \r\nQ 49.609375 66.109375 42.828125 66.109375 \r\nQ 29.4375 66.109375 22.71875 58.640625 \r\nQ 16.015625 51.171875 16.015625 36.375 \r\nQ 16.015625 21.625 22.71875 14.15625 \r\nQ 29.4375 6.6875 42.828125 6.6875 \r\nQ 48.046875 6.6875 52.140625 7.59375 \r\nQ 56.25 8.5 59.515625 10.40625 \r\nz\r\n\" id=\"DejaVuSans-71\"/>\r\n      <path d=\"M 9.8125 72.90625 \r\nL 23.09375 72.90625 \r\nL 55.421875 11.921875 \r\nL 55.421875 72.90625 \r\nL 64.984375 72.90625 \r\nL 64.984375 0 \r\nL 51.703125 0 \r\nL 19.390625 60.984375 \r\nL 19.390625 0 \r\nL 9.8125 0 \r\nz\r\n\" id=\"DejaVuSans-78\"/>\r\n      <path d=\"M 2.984375 54.6875 \r\nL 12.5 54.6875 \r\nL 29.59375 8.796875 \r\nL 46.6875 54.6875 \r\nL 56.203125 54.6875 \r\nL 35.6875 0 \r\nL 23.484375 0 \r\nz\r\n\" id=\"DejaVuSans-118\"/>\r\n      <path d=\"M 19.671875 34.8125 \r\nL 19.671875 8.109375 \r\nL 35.5 8.109375 \r\nQ 43.453125 8.109375 47.28125 11.40625 \r\nQ 51.125 14.703125 51.125 21.484375 \r\nQ 51.125 28.328125 47.28125 31.5625 \r\nQ 43.453125 34.8125 35.5 34.8125 \r\nz\r\nM 19.671875 64.796875 \r\nL 19.671875 42.828125 \r\nL 34.28125 42.828125 \r\nQ 41.5 42.828125 45.03125 45.53125 \r\nQ 48.578125 48.25 48.578125 53.8125 \r\nQ 48.578125 59.328125 45.03125 62.0625 \r\nQ 41.5 64.796875 34.28125 64.796875 \r\nz\r\nM 9.8125 72.90625 \r\nL 35.015625 72.90625 \r\nQ 46.296875 72.90625 52.390625 68.21875 \r\nQ 58.5 63.53125 58.5 54.890625 \r\nQ 58.5 48.1875 55.375 44.234375 \r\nQ 52.25 40.28125 46.1875 39.3125 \r\nQ 53.46875 37.75 57.5 32.78125 \r\nQ 61.53125 27.828125 61.53125 20.40625 \r\nQ 61.53125 10.640625 54.890625 5.3125 \r\nQ 48.25 0 35.984375 0 \r\nL 9.8125 0 \r\nz\r\n\" id=\"DejaVuSans-66\"/>\r\n      <path d=\"M 64.40625 67.28125 \r\nL 64.40625 56.890625 \r\nQ 59.421875 61.53125 53.78125 63.8125 \r\nQ 48.140625 66.109375 41.796875 66.109375 \r\nQ 29.296875 66.109375 22.65625 58.46875 \r\nQ 16.015625 50.828125 16.015625 36.375 \r\nQ 16.015625 21.96875 22.65625 14.328125 \r\nQ 29.296875 6.6875 41.796875 6.6875 \r\nQ 48.140625 6.6875 53.78125 8.984375 \r\nQ 59.421875 11.28125 64.40625 15.921875 \r\nL 64.40625 5.609375 \r\nQ 59.234375 2.09375 53.4375 0.328125 \r\nQ 47.65625 -1.421875 41.21875 -1.421875 \r\nQ 24.65625 -1.421875 15.125 8.703125 \r\nQ 5.609375 18.84375 5.609375 36.375 \r\nQ 5.609375 53.953125 15.125 64.078125 \r\nQ 24.65625 74.21875 41.21875 74.21875 \r\nQ 47.75 74.21875 53.53125 72.484375 \r\nQ 59.328125 70.75 64.40625 67.28125 \r\nz\r\n\" id=\"DejaVuSans-67\"/>\r\n     </defs>\r\n     <use xlink:href=\"#DejaVuSans-84\"/>\r\n     <use x=\"46.333984\" xlink:href=\"#DejaVuSans-114\"/>\r\n     <use x=\"87.447266\" xlink:href=\"#DejaVuSans-97\"/>\r\n     <use x=\"148.726562\" xlink:href=\"#DejaVuSans-105\"/>\r\n     <use x=\"176.509766\" xlink:href=\"#DejaVuSans-110\"/>\r\n     <use x=\"239.888672\" xlink:href=\"#DejaVuSans-32\"/>\r\n     <use x=\"271.675781\" xlink:href=\"#DejaVuSans-100\"/>\r\n     <use x=\"335.152344\" xlink:href=\"#DejaVuSans-97\"/>\r\n     <use x=\"396.431641\" xlink:href=\"#DejaVuSans-116\"/>\r\n     <use x=\"435.640625\" xlink:href=\"#DejaVuSans-97\"/>\r\n     <use x=\"496.919922\" xlink:href=\"#DejaVuSans-115\"/>\r\n     <use x=\"549.019531\" xlink:href=\"#DejaVuSans-101\"/>\r\n     <use x=\"610.542969\" xlink:href=\"#DejaVuSans-116\"/>\r\n     <use x=\"649.751953\" xlink:href=\"#DejaVuSans-32\"/>\r\n     <use x=\"681.539062\" xlink:href=\"#DejaVuSans-71\"/>\r\n     <use x=\"759.029297\" xlink:href=\"#DejaVuSans-97\"/>\r\n     <use x=\"820.308594\" xlink:href=\"#DejaVuSans-117\"/>\r\n     <use x=\"883.6875\" xlink:href=\"#DejaVuSans-115\"/>\r\n     <use x=\"935.787109\" xlink:href=\"#DejaVuSans-115\"/>\r\n     <use x=\"987.886719\" xlink:href=\"#DejaVuSans-105\"/>\r\n     <use x=\"1015.669922\" xlink:href=\"#DejaVuSans-97\"/>\r\n     <use x=\"1076.949219\" xlink:href=\"#DejaVuSans-110\"/>\r\n     <use x=\"1140.328125\" xlink:href=\"#DejaVuSans-32\"/>\r\n     <use x=\"1172.115234\" xlink:href=\"#DejaVuSans-78\"/>\r\n     <use x=\"1246.919922\" xlink:href=\"#DejaVuSans-97\"/>\r\n     <use x=\"1308.199219\" xlink:href=\"#DejaVuSans-105\"/>\r\n     <use x=\"1335.982422\" xlink:href=\"#DejaVuSans-118\"/>\r\n     <use x=\"1395.162109\" xlink:href=\"#DejaVuSans-101\"/>\r\n     <use x=\"1456.685547\" xlink:href=\"#DejaVuSans-32\"/>\r\n     <use x=\"1488.472656\" xlink:href=\"#DejaVuSans-66\"/>\r\n     <use x=\"1557.076172\" xlink:href=\"#DejaVuSans-97\"/>\r\n     <use x=\"1618.355469\" xlink:href=\"#DejaVuSans-121\"/>\r\n     <use x=\"1677.535156\" xlink:href=\"#DejaVuSans-101\"/>\r\n     <use x=\"1739.058594\" xlink:href=\"#DejaVuSans-115\"/>\r\n     <use x=\"1791.158203\" xlink:href=\"#DejaVuSans-32\"/>\r\n     <use x=\"1822.945312\" xlink:href=\"#DejaVuSans-67\"/>\r\n     <use x=\"1892.769531\" xlink:href=\"#DejaVuSans-108\"/>\r\n     <use x=\"1920.552734\" xlink:href=\"#DejaVuSans-97\"/>\r\n     <use x=\"1981.832031\" xlink:href=\"#DejaVuSans-115\"/>\r\n     <use x=\"2033.931641\" xlink:href=\"#DejaVuSans-115\"/>\r\n     <use x=\"2086.03125\" xlink:href=\"#DejaVuSans-105\"/>\r\n     <use x=\"2113.814453\" xlink:href=\"#DejaVuSans-102\"/>\r\n     <use x=\"2149.019531\" xlink:href=\"#DejaVuSans-105\"/>\r\n     <use x=\"2176.802734\" xlink:href=\"#DejaVuSans-101\"/>\r\n     <use x=\"2238.326172\" xlink:href=\"#DejaVuSans-114\"/>\r\n    </g>\r\n   </g>\r\n  </g>\r\n  <g id=\"axes_2\">\r\n   <g id=\"patch_7\">\r\n    <path clip-path=\"url(#pe2b0a82656)\" d=\"M 347.4925 239.758125 \r\nL 347.4925 238.90875 \r\nL 347.4925 23.1675 \r\nL 347.4925 22.318125 \r\nL 358.3645 22.318125 \r\nL 358.3645 23.1675 \r\nL 358.3645 238.90875 \r\nL 358.3645 239.758125 \r\nz\r\n\" style=\"fill:#ffffff;stroke:#ffffff;stroke-linejoin:miter;stroke-width:0.01;\"/>\r\n   </g>\r\n   <image height=\"217\" id=\"image0eaa1c251c\" transform=\"scale(1 -1)translate(0 -217)\" width=\"11\" x=\"347\" xlink:href=\"data:image/png;base64,\r\niVBORw0KGgoAAAANSUhEUgAAAAsAAADZCAYAAAD2WsoCAAABHElEQVR4nO2YMQ4CMRADA8r/n0uByIYWukwxyIvuamvl2F4nutvjufc4/OYex9gxz+diMKEBsGMCLORcAH0HLEzpQhyEkwEYZgNwLk26kSEdzAbh7NHQeoPZ3bC+OvZGinRX+H9CI0Q67VWQckBkNzygdsNqDi50wAzOlZHnOh/stqjFuUBGGWezN8Dk5VWBlzrtcYKqQGxR7e5eJM9eP3sOIp0X6ALTwXOsScPLBrQ7osw9ndk9KLaot7AR0nn93DEbaLs9nc2/EKj5I3YwJBvslctoRKgBD2jRCJls2g1oeEHy7O4YpJDtZn8CxWycvxlTODNwht0h2fh/u69sfICh3YhGw8n1sia3VGNF0ECTycJedn+BO9ptTX4DblXiEVeBW/gAAAAASUVORK5CYII=\" y=\"-22\"/>\r\n   <g id=\"matplotlib.axis_3\"/>\r\n   <g id=\"matplotlib.axis_4\">\r\n    <g id=\"ytick_5\">\r\n     <g id=\"line2d_9\">\r\n      <defs>\r\n       <path d=\"M 0 0 \r\nL 3.5 0 \r\n\" id=\"m2d6848cd5d\" style=\"stroke:#000000;stroke-width:0.8;\"/>\r\n      </defs>\r\n      <g>\r\n       <use style=\"stroke:#000000;stroke-width:0.8;\" x=\"358.3645\" xlink:href=\"#m2d6848cd5d\" y=\"239.758125\"/>\r\n      </g>\r\n     </g>\r\n     <g id=\"text_28\">\r\n      <!-- 0 -->\r\n      <g transform=\"translate(365.3645 243.557344)scale(0.1 -0.1)\">\r\n       <use xlink:href=\"#DejaVuSans-48\"/>\r\n      </g>\r\n     </g>\r\n    </g>\r\n    <g id=\"ytick_6\">\r\n     <g id=\"line2d_10\">\r\n      <g>\r\n       <use style=\"stroke:#000000;stroke-width:0.8;\" x=\"358.3645\" xlink:href=\"#m2d6848cd5d\" y=\"206.81267\"/>\r\n      </g>\r\n     </g>\r\n     <g id=\"text_29\">\r\n      <!-- 10 -->\r\n      <g transform=\"translate(365.3645 210.611889)scale(0.1 -0.1)\">\r\n       <use xlink:href=\"#DejaVuSans-49\"/>\r\n       <use x=\"63.623047\" xlink:href=\"#DejaVuSans-48\"/>\r\n      </g>\r\n     </g>\r\n    </g>\r\n    <g id=\"ytick_7\">\r\n     <g id=\"line2d_11\">\r\n      <g>\r\n       <use style=\"stroke:#000000;stroke-width:0.8;\" x=\"358.3645\" xlink:href=\"#m2d6848cd5d\" y=\"173.867216\"/>\r\n      </g>\r\n     </g>\r\n     <g id=\"text_30\">\r\n      <!-- 20 -->\r\n      <g transform=\"translate(365.3645 177.666435)scale(0.1 -0.1)\">\r\n       <use xlink:href=\"#DejaVuSans-50\"/>\r\n       <use x=\"63.623047\" xlink:href=\"#DejaVuSans-48\"/>\r\n      </g>\r\n     </g>\r\n    </g>\r\n    <g id=\"ytick_8\">\r\n     <g id=\"line2d_12\">\r\n      <g>\r\n       <use style=\"stroke:#000000;stroke-width:0.8;\" x=\"358.3645\" xlink:href=\"#m2d6848cd5d\" y=\"140.921761\"/>\r\n      </g>\r\n     </g>\r\n     <g id=\"text_31\">\r\n      <!-- 30 -->\r\n      <g transform=\"translate(365.3645 144.72098)scale(0.1 -0.1)\">\r\n       <use xlink:href=\"#DejaVuSans-51\"/>\r\n       <use x=\"63.623047\" xlink:href=\"#DejaVuSans-48\"/>\r\n      </g>\r\n     </g>\r\n    </g>\r\n    <g id=\"ytick_9\">\r\n     <g id=\"line2d_13\">\r\n      <g>\r\n       <use style=\"stroke:#000000;stroke-width:0.8;\" x=\"358.3645\" xlink:href=\"#m2d6848cd5d\" y=\"107.976307\"/>\r\n      </g>\r\n     </g>\r\n     <g id=\"text_32\">\r\n      <!-- 40 -->\r\n      <g transform=\"translate(365.3645 111.775526)scale(0.1 -0.1)\">\r\n       <use xlink:href=\"#DejaVuSans-52\"/>\r\n       <use x=\"63.623047\" xlink:href=\"#DejaVuSans-48\"/>\r\n      </g>\r\n     </g>\r\n    </g>\r\n    <g id=\"ytick_10\">\r\n     <g id=\"line2d_14\">\r\n      <g>\r\n       <use style=\"stroke:#000000;stroke-width:0.8;\" x=\"358.3645\" xlink:href=\"#m2d6848cd5d\" y=\"75.030852\"/>\r\n      </g>\r\n     </g>\r\n     <g id=\"text_33\">\r\n      <!-- 50 -->\r\n      <g transform=\"translate(365.3645 78.830071)scale(0.1 -0.1)\">\r\n       <use xlink:href=\"#DejaVuSans-53\"/>\r\n       <use x=\"63.623047\" xlink:href=\"#DejaVuSans-48\"/>\r\n      </g>\r\n     </g>\r\n    </g>\r\n    <g id=\"ytick_11\">\r\n     <g id=\"line2d_15\">\r\n      <g>\r\n       <use style=\"stroke:#000000;stroke-width:0.8;\" x=\"358.3645\" xlink:href=\"#m2d6848cd5d\" y=\"42.085398\"/>\r\n      </g>\r\n     </g>\r\n     <g id=\"text_34\">\r\n      <!-- 60 -->\r\n      <g transform=\"translate(365.3645 45.884616)scale(0.1 -0.1)\">\r\n       <use xlink:href=\"#DejaVuSans-54\"/>\r\n       <use x=\"63.623047\" xlink:href=\"#DejaVuSans-48\"/>\r\n      </g>\r\n     </g>\r\n    </g>\r\n   </g>\r\n   <g id=\"patch_8\">\r\n    <path d=\"M 347.4925 239.758125 \r\nL 347.4925 238.90875 \r\nL 347.4925 23.1675 \r\nL 347.4925 22.318125 \r\nL 358.3645 22.318125 \r\nL 358.3645 23.1675 \r\nL 358.3645 238.90875 \r\nL 358.3645 239.758125 \r\nz\r\n\" style=\"fill:none;stroke:#000000;stroke-linejoin:miter;stroke-width:0.8;\"/>\r\n   </g>\r\n  </g>\r\n </g>\r\n <defs>\r\n  <clipPath id=\"p9222504c35\">\r\n   <rect height=\"217.44\" width=\"217.44\" x=\"113.3125\" y=\"22.318125\"/>\r\n  </clipPath>\r\n  <clipPath id=\"pe2b0a82656\">\r\n   <rect height=\"217.44\" width=\"10.872\" x=\"347.4925\" y=\"22.318125\"/>\r\n  </clipPath>\r\n </defs>\r\n</svg>\r\n",
      "image/png": "[encoded data removed]"
     },
     "metadata": {
      "needs_background": "light"
     }
    },
    {
     "output_type": "display_data",
     "data": {
      "text/plain": "<Figure size 432x288 with 2 Axes>",
      "image/svg+xml": "<?xml version=\"1.0\" encoding=\"utf-8\" standalone=\"no\"?>\r\n<!DOCTYPE svg PUBLIC \"-//W3C//DTD SVG 1.1//EN\"\r\n  \"http://www.w3.org/Graphics/SVG/1.1/DTD/svg11.dtd\">\r\n<!-- Created with matplotlib (https://matplotlib.org/) -->\r\n<svg height=\"277.314375pt\" version=\"1.1\" viewBox=\"0 0 385.2895 277.314375\" width=\"385.2895pt\" xmlns=\"http://www.w3.org/2000/svg\" xmlns:xlink=\"http://www.w3.org/1999/xlink\">\r\n <metadata>\r\n  <rdf:RDF xmlns:cc=\"http://creativecommons.org/ns#\" xmlns:dc=\"http://purl.org/dc/elements/1.1/\" xmlns:rdf=\"http://www.w3.org/1999/02/22-rdf-syntax-ns#\">\r\n   <cc:Work>\r\n    <dc:type rdf:resource=\"http://purl.org/dc/dcmitype/StillImage\"/>\r\n    <dc:date>2020-12-18T12:52:01.845414</dc:date>\r\n    <dc:format>image/svg+xml</dc:format>\r\n    <dc:creator>\r\n     <cc:Agent>\r\n      <dc:title>Matplotlib v3.3.2, https://matplotlib.org/</dc:title>\r\n     </cc:Agent>\r\n    </dc:creator>\r\n   </cc:Work>\r\n  </rdf:RDF>\r\n </metadata>\r\n <defs>\r\n  <style type=\"text/css\">*{stroke-linecap:butt;stroke-linejoin:round;}</style>\r\n </defs>\r\n <g id=\"figure_1\">\r\n  <g id=\"patch_1\">\r\n   <path d=\"M 0 277.314375 \r\nL 385.2895 277.314375 \r\nL 385.2895 0 \r\nL 0 0 \r\nz\r\n\" style=\"fill:none;\"/>\r\n  </g>\r\n  <g id=\"axes_1\">\r\n   <g id=\"patch_2\">\r\n    <path d=\"M 113.3125 239.758125 \r\nL 330.7525 239.758125 \r\nL 330.7525 22.318125 \r\nL 113.3125 22.318125 \r\nz\r\n\" style=\"fill:#ffffff;\"/>\r\n   </g>\r\n   <g clip-path=\"url(#p67db63ef3c)\">\r\n    <image height=\"218\" id=\"image0366032529\" transform=\"scale(1 -1)translate(0 -218)\" width=\"218\" x=\"113.3125\" xlink:href=\"data:image/png;base64,\r\niVBORw0KGgoAAAANSUhEUgAAANoAAADaCAYAAADAHVzbAAAC50lEQVR4nO3VoU0DUABFUUqoqWlQrMACTMAwGMbpFEjCFriSMACC1DU1JaGizID494dwzgTP3LzF7vB9vuBPWa+WsycM8fC0nT1hmMvZA+A/EBoEhAYBoUFAaBAQGgSEBgGhQUBoEBAaBIQGAaFBQGgQEBoEhAYBoUFAaBAQGgSEBgGhQUBoEBAaBIQGAaFBQGgQEBoEhAYBoUFAaBAQGgSEBgGhQUBoEBAaBIQGAaFBQGgQEBoEhAYBoUFAaBAQGgSEBgGhQUBoEBAaBIQGAaFBQGgQEBoEhAYBoUFAaBAQGgQWX6fzefYIfuf67nH2hCH2r5vZE4bxaBAQGgSEBgGhQUBoEBAaBIQGAaFBQGgQEBoEhAYBoUFAaBAQGgSEBgGhQUBoEBAaBIQGAaFBQGgQEBoEhAYBoUFAaBAQGgSEBgGhQUBoEBAaBIQGAaFBQGgQEBoEhAYBoUFAaBAQGgSEBgGhQUBoEBAaBIQGAaFBQGgQEBoEhAYBoUFAaBAQGgSEBgGhQUBoELg6HE+zNwzx/P45e8Iw+9fN7AlDbD8OsycM49EgIDQICA0CQoOA0CAgNAgIDQJCg4DQICA0CAgNAkKDgNAgIDQICA0CQoOA0CAgNAgIDQJCg4DQICA0CAgNAkKDgNAgIDQICA0CQoOA0CAgNAgIDQJCg4DQICA0CAgNAkKDgNAgIDQICA0CQoOA0CAgNAgIDQJCg4DQICA0CAgNAkKDgNAgIDQICA0CQoOA0CAgNAgsXt5259kjRri/vZk9YZjD8TR7whDr1XL2hGE8GgSEBgGhQUBoEBAaBIQGAaFBQGgQEBoEhAYBoUFAaBAQGgSEBgGhQUBoEBAaBIQGAaFBQGgQEBoEhAYBoUFAaBAQGgSEBgGhQUBoEBAaBIQGAaFBQGgQEBoEhAYBoUFAaBAQGgSEBgGhQUBoEBAaBIQGAaFBQGgQEBoEhAYBoUFAaBAQGgSEBgGhQUBoEBAaBH4AbgsfqlLTpMkAAAAASUVORK5CYII=\" y=\"-21.758125\"/>\r\n   </g>\r\n   <g id=\"matplotlib.axis_1\">\r\n    <g id=\"xtick_1\">\r\n     <g id=\"line2d_1\">\r\n      <defs>\r\n       <path d=\"M 0 0 \r\nL 0 3.5 \r\n\" id=\"md3cc576450\" style=\"stroke:#000000;stroke-width:0.8;\"/>\r\n      </defs>\r\n      <g>\r\n       <use style=\"stroke:#000000;stroke-width:0.8;\" x=\"140.4925\" xlink:href=\"#md3cc576450\" y=\"239.758125\"/>\r\n      </g>\r\n     </g>\r\n     <g id=\"text_1\">\r\n      <!-- Analytical Report -->\r\n      <g transform=\"translate(97.775313 254.356562)scale(0.1 -0.1)\">\r\n       <defs>\r\n        <path d=\"M 34.1875 63.1875 \r\nL 20.796875 26.90625 \r\nL 47.609375 26.90625 \r\nz\r\nM 28.609375 72.90625 \r\nL 39.796875 72.90625 \r\nL 67.578125 0 \r\nL 57.328125 0 \r\nL 50.6875 18.703125 \r\nL 17.828125 18.703125 \r\nL 11.1875 0 \r\nL 0.78125 0 \r\nz\r\n\" id=\"DejaVuSans-65\"/>\r\n        <path d=\"M 54.890625 33.015625 \r\nL 54.890625 0 \r\nL 45.90625 0 \r\nL 45.90625 32.71875 \r\nQ 45.90625 40.484375 42.875 44.328125 \r\nQ 39.84375 48.1875 33.796875 48.1875 \r\nQ 26.515625 48.1875 22.3125 43.546875 \r\nQ 18.109375 38.921875 18.109375 30.90625 \r\nL 18.109375 0 \r\nL 9.078125 0 \r\nL 9.078125 54.6875 \r\nL 18.109375 54.6875 \r\nL 18.109375 46.1875 \r\nQ 21.34375 51.125 25.703125 53.5625 \r\nQ 30.078125 56 35.796875 56 \r\nQ 45.21875 56 50.046875 50.171875 \r\nQ 54.890625 44.34375 54.890625 33.015625 \r\nz\r\n\" id=\"DejaVuSans-110\"/>\r\n        <path d=\"M 34.28125 27.484375 \r\nQ 23.390625 27.484375 19.1875 25 \r\nQ 14.984375 22.515625 14.984375 16.5 \r\nQ 14.984375 11.71875 18.140625 8.90625 \r\nQ 21.296875 6.109375 26.703125 6.109375 \r\nQ 34.1875 6.109375 38.703125 11.40625 \r\nQ 43.21875 16.703125 43.21875 25.484375 \r\nL 43.21875 27.484375 \r\nz\r\nM 52.203125 31.203125 \r\nL 52.203125 0 \r\nL 43.21875 0 \r\nL 43.21875 8.296875 \r\nQ 40.140625 3.328125 35.546875 0.953125 \r\nQ 30.953125 -1.421875 24.3125 -1.421875 \r\nQ 15.921875 -1.421875 10.953125 3.296875 \r\nQ 6 8.015625 6 15.921875 \r\nQ 6 25.140625 12.171875 29.828125 \r\nQ 18.359375 34.515625 30.609375 34.515625 \r\nL 43.21875 34.515625 \r\nL 43.21875 35.40625 \r\nQ 43.21875 41.609375 39.140625 45 \r\nQ 35.0625 48.390625 27.6875 48.390625 \r\nQ 23 48.390625 18.546875 47.265625 \r\nQ 14.109375 46.140625 10.015625 43.890625 \r\nL 10.015625 52.203125 \r\nQ 14.9375 54.109375 19.578125 55.046875 \r\nQ 24.21875 56 28.609375 56 \r\nQ 40.484375 56 46.34375 49.84375 \r\nQ 52.203125 43.703125 52.203125 31.203125 \r\nz\r\n\" id=\"DejaVuSans-97\"/>\r\n        <path d=\"M 9.421875 75.984375 \r\nL 18.40625 75.984375 \r\nL 18.40625 0 \r\nL 9.421875 0 \r\nz\r\n\" id=\"DejaVuSans-108\"/>\r\n        <path d=\"M 32.171875 -5.078125 \r\nQ 28.375 -14.84375 24.75 -17.8125 \r\nQ 21.140625 -20.796875 15.09375 -20.796875 \r\nL 7.90625 -20.796875 \r\nL 7.90625 -13.28125 \r\nL 13.1875 -13.28125 \r\nQ 16.890625 -13.28125 18.9375 -11.515625 \r\nQ 21 -9.765625 23.484375 -3.21875 \r\nL 25.09375 0.875 \r\nL 2.984375 54.6875 \r\nL 12.5 54.6875 \r\nL 29.59375 11.921875 \r\nL 46.6875 54.6875 \r\nL 56.203125 54.6875 \r\nz\r\n\" id=\"DejaVuSans-121\"/>\r\n        <path d=\"M 18.3125 70.21875 \r\nL 18.3125 54.6875 \r\nL 36.8125 54.6875 \r\nL 36.8125 47.703125 \r\nL 18.3125 47.703125 \r\nL 18.3125 18.015625 \r\nQ 18.3125 11.328125 20.140625 9.421875 \r\nQ 21.96875 7.515625 27.59375 7.515625 \r\nL 36.8125 7.515625 \r\nL 36.8125 0 \r\nL 27.59375 0 \r\nQ 17.1875 0 13.234375 3.875 \r\nQ 9.28125 7.765625 9.28125 18.015625 \r\nL 9.28125 47.703125 \r\nL 2.6875 47.703125 \r\nL 2.6875 54.6875 \r\nL 9.28125 54.6875 \r\nL 9.28125 70.21875 \r\nz\r\n\" id=\"DejaVuSans-116\"/>\r\n        <path d=\"M 9.421875 54.6875 \r\nL 18.40625 54.6875 \r\nL 18.40625 0 \r\nL 9.421875 0 \r\nz\r\nM 9.421875 75.984375 \r\nL 18.40625 75.984375 \r\nL 18.40625 64.59375 \r\nL 9.421875 64.59375 \r\nz\r\n\" id=\"DejaVuSans-105\"/>\r\n        <path d=\"M 48.78125 52.59375 \r\nL 48.78125 44.1875 \r\nQ 44.96875 46.296875 41.140625 47.34375 \r\nQ 37.3125 48.390625 33.40625 48.390625 \r\nQ 24.65625 48.390625 19.8125 42.84375 \r\nQ 14.984375 37.3125 14.984375 27.296875 \r\nQ 14.984375 17.28125 19.8125 11.734375 \r\nQ 24.65625 6.203125 33.40625 6.203125 \r\nQ 37.3125 6.203125 41.140625 7.25 \r\nQ 44.96875 8.296875 48.78125 10.40625 \r\nL 48.78125 2.09375 \r\nQ 45.015625 0.34375 40.984375 -0.53125 \r\nQ 36.96875 -1.421875 32.421875 -1.421875 \r\nQ 20.0625 -1.421875 12.78125 6.34375 \r\nQ 5.515625 14.109375 5.515625 27.296875 \r\nQ 5.515625 40.671875 12.859375 48.328125 \r\nQ 20.21875 56 33.015625 56 \r\nQ 37.15625 56 41.109375 55.140625 \r\nQ 45.0625 54.296875 48.78125 52.59375 \r\nz\r\n\" id=\"DejaVuSans-99\"/>\r\n        <path id=\"DejaVuSans-32\"/>\r\n        <path d=\"M 44.390625 34.1875 \r\nQ 47.5625 33.109375 50.5625 29.59375 \r\nQ 53.5625 26.078125 56.59375 19.921875 \r\nL 66.609375 0 \r\nL 56 0 \r\nL 46.6875 18.703125 \r\nQ 43.0625 26.03125 39.671875 28.421875 \r\nQ 36.28125 30.8125 30.421875 30.8125 \r\nL 19.671875 30.8125 \r\nL 19.671875 0 \r\nL 9.8125 0 \r\nL 9.8125 72.90625 \r\nL 32.078125 72.90625 \r\nQ 44.578125 72.90625 50.734375 67.671875 \r\nQ 56.890625 62.453125 56.890625 51.90625 \r\nQ 56.890625 45.015625 53.6875 40.46875 \r\nQ 50.484375 35.9375 44.390625 34.1875 \r\nz\r\nM 19.671875 64.796875 \r\nL 19.671875 38.921875 \r\nL 32.078125 38.921875 \r\nQ 39.203125 38.921875 42.84375 42.21875 \r\nQ 46.484375 45.515625 46.484375 51.90625 \r\nQ 46.484375 58.296875 42.84375 61.546875 \r\nQ 39.203125 64.796875 32.078125 64.796875 \r\nz\r\n\" id=\"DejaVuSans-82\"/>\r\n        <path d=\"M 56.203125 29.59375 \r\nL 56.203125 25.203125 \r\nL 14.890625 25.203125 \r\nQ 15.484375 15.921875 20.484375 11.0625 \r\nQ 25.484375 6.203125 34.421875 6.203125 \r\nQ 39.59375 6.203125 44.453125 7.46875 \r\nQ 49.3125 8.734375 54.109375 11.28125 \r\nL 54.109375 2.78125 \r\nQ 49.265625 0.734375 44.1875 -0.34375 \r\nQ 39.109375 -1.421875 33.890625 -1.421875 \r\nQ 20.796875 -1.421875 13.15625 6.1875 \r\nQ 5.515625 13.8125 5.515625 26.8125 \r\nQ 5.515625 40.234375 12.765625 48.109375 \r\nQ 20.015625 56 32.328125 56 \r\nQ 43.359375 56 49.78125 48.890625 \r\nQ 56.203125 41.796875 56.203125 29.59375 \r\nz\r\nM 47.21875 32.234375 \r\nQ 47.125 39.59375 43.09375 43.984375 \r\nQ 39.0625 48.390625 32.421875 48.390625 \r\nQ 24.90625 48.390625 20.390625 44.140625 \r\nQ 15.875 39.890625 15.1875 32.171875 \r\nz\r\n\" id=\"DejaVuSans-101\"/>\r\n        <path d=\"M 18.109375 8.203125 \r\nL 18.109375 -20.796875 \r\nL 9.078125 -20.796875 \r\nL 9.078125 54.6875 \r\nL 18.109375 54.6875 \r\nL 18.109375 46.390625 \r\nQ 20.953125 51.265625 25.265625 53.625 \r\nQ 29.59375 56 35.59375 56 \r\nQ 45.5625 56 51.78125 48.09375 \r\nQ 58.015625 40.1875 58.015625 27.296875 \r\nQ 58.015625 14.40625 51.78125 6.484375 \r\nQ 45.5625 -1.421875 35.59375 -1.421875 \r\nQ 29.59375 -1.421875 25.265625 0.953125 \r\nQ 20.953125 3.328125 18.109375 8.203125 \r\nz\r\nM 48.6875 27.296875 \r\nQ 48.6875 37.203125 44.609375 42.84375 \r\nQ 40.53125 48.484375 33.40625 48.484375 \r\nQ 26.265625 48.484375 22.1875 42.84375 \r\nQ 18.109375 37.203125 18.109375 27.296875 \r\nQ 18.109375 17.390625 22.1875 11.75 \r\nQ 26.265625 6.109375 33.40625 6.109375 \r\nQ 40.53125 6.109375 44.609375 11.75 \r\nQ 48.6875 17.390625 48.6875 27.296875 \r\nz\r\n\" id=\"DejaVuSans-112\"/>\r\n        <path d=\"M 30.609375 48.390625 \r\nQ 23.390625 48.390625 19.1875 42.75 \r\nQ 14.984375 37.109375 14.984375 27.296875 \r\nQ 14.984375 17.484375 19.15625 11.84375 \r\nQ 23.34375 6.203125 30.609375 6.203125 \r\nQ 37.796875 6.203125 41.984375 11.859375 \r\nQ 46.1875 17.53125 46.1875 27.296875 \r\nQ 46.1875 37.015625 41.984375 42.703125 \r\nQ 37.796875 48.390625 30.609375 48.390625 \r\nz\r\nM 30.609375 56 \r\nQ 42.328125 56 49.015625 48.375 \r\nQ 55.71875 40.765625 55.71875 27.296875 \r\nQ 55.71875 13.875 49.015625 6.21875 \r\nQ 42.328125 -1.421875 30.609375 -1.421875 \r\nQ 18.84375 -1.421875 12.171875 6.21875 \r\nQ 5.515625 13.875 5.515625 27.296875 \r\nQ 5.515625 40.765625 12.171875 48.375 \r\nQ 18.84375 56 30.609375 56 \r\nz\r\n\" id=\"DejaVuSans-111\"/>\r\n        <path d=\"M 41.109375 46.296875 \r\nQ 39.59375 47.171875 37.8125 47.578125 \r\nQ 36.03125 48 33.890625 48 \r\nQ 26.265625 48 22.1875 43.046875 \r\nQ 18.109375 38.09375 18.109375 28.8125 \r\nL 18.109375 0 \r\nL 9.078125 0 \r\nL 9.078125 54.6875 \r\nL 18.109375 54.6875 \r\nL 18.109375 46.1875 \r\nQ 20.953125 51.171875 25.484375 53.578125 \r\nQ 30.03125 56 36.53125 56 \r\nQ 37.453125 56 38.578125 55.875 \r\nQ 39.703125 55.765625 41.0625 55.515625 \r\nz\r\n\" id=\"DejaVuSans-114\"/>\r\n       </defs>\r\n       <use xlink:href=\"#DejaVuSans-65\"/>\r\n       <use x=\"68.408203\" xlink:href=\"#DejaVuSans-110\"/>\r\n       <use x=\"131.787109\" xlink:href=\"#DejaVuSans-97\"/>\r\n       <use x=\"193.066406\" xlink:href=\"#DejaVuSans-108\"/>\r\n       <use x=\"220.849609\" xlink:href=\"#DejaVuSans-121\"/>\r\n       <use x=\"280.029297\" xlink:href=\"#DejaVuSans-116\"/>\r\n       <use x=\"319.238281\" xlink:href=\"#DejaVuSans-105\"/>\r\n       <use x=\"347.021484\" xlink:href=\"#DejaVuSans-99\"/>\r\n       <use x=\"402.001953\" xlink:href=\"#DejaVuSans-97\"/>\r\n       <use x=\"463.28125\" xlink:href=\"#DejaVuSans-108\"/>\r\n       <use x=\"491.064453\" xlink:href=\"#DejaVuSans-32\"/>\r\n       <use x=\"522.851562\" xlink:href=\"#DejaVuSans-82\"/>\r\n       <use x=\"587.833984\" xlink:href=\"#DejaVuSans-101\"/>\r\n       <use x=\"649.357422\" xlink:href=\"#DejaVuSans-112\"/>\r\n       <use x=\"712.833984\" xlink:href=\"#DejaVuSans-111\"/>\r\n       <use x=\"774.015625\" xlink:href=\"#DejaVuSans-114\"/>\r\n       <use x=\"815.128906\" xlink:href=\"#DejaVuSans-116\"/>\r\n      </g>\r\n     </g>\r\n    </g>\r\n    <g id=\"xtick_2\">\r\n     <g id=\"line2d_2\">\r\n      <g>\r\n       <use style=\"stroke:#000000;stroke-width:0.8;\" x=\"194.8525\" xlink:href=\"#md3cc576450\" y=\"239.758125\"/>\r\n      </g>\r\n     </g>\r\n     <g id=\"text_2\">\r\n      <!-- Incident Report -->\r\n      <g transform=\"translate(156.526719 254.356562)scale(0.1 -0.1)\">\r\n       <defs>\r\n        <path d=\"M 9.8125 72.90625 \r\nL 19.671875 72.90625 \r\nL 19.671875 0 \r\nL 9.8125 0 \r\nz\r\n\" id=\"DejaVuSans-73\"/>\r\n        <path d=\"M 45.40625 46.390625 \r\nL 45.40625 75.984375 \r\nL 54.390625 75.984375 \r\nL 54.390625 0 \r\nL 45.40625 0 \r\nL 45.40625 8.203125 \r\nQ 42.578125 3.328125 38.25 0.953125 \r\nQ 33.9375 -1.421875 27.875 -1.421875 \r\nQ 17.96875 -1.421875 11.734375 6.484375 \r\nQ 5.515625 14.40625 5.515625 27.296875 \r\nQ 5.515625 40.1875 11.734375 48.09375 \r\nQ 17.96875 56 27.875 56 \r\nQ 33.9375 56 38.25 53.625 \r\nQ 42.578125 51.265625 45.40625 46.390625 \r\nz\r\nM 14.796875 27.296875 \r\nQ 14.796875 17.390625 18.875 11.75 \r\nQ 22.953125 6.109375 30.078125 6.109375 \r\nQ 37.203125 6.109375 41.296875 11.75 \r\nQ 45.40625 17.390625 45.40625 27.296875 \r\nQ 45.40625 37.203125 41.296875 42.84375 \r\nQ 37.203125 48.484375 30.078125 48.484375 \r\nQ 22.953125 48.484375 18.875 42.84375 \r\nQ 14.796875 37.203125 14.796875 27.296875 \r\nz\r\n\" id=\"DejaVuSans-100\"/>\r\n       </defs>\r\n       <use xlink:href=\"#DejaVuSans-73\"/>\r\n       <use x=\"29.492188\" xlink:href=\"#DejaVuSans-110\"/>\r\n       <use x=\"92.871094\" xlink:href=\"#DejaVuSans-99\"/>\r\n       <use x=\"147.851562\" xlink:href=\"#DejaVuSans-105\"/>\r\n       <use x=\"175.634766\" xlink:href=\"#DejaVuSans-100\"/>\r\n       <use x=\"239.111328\" xlink:href=\"#DejaVuSans-101\"/>\r\n       <use x=\"300.634766\" xlink:href=\"#DejaVuSans-110\"/>\r\n       <use x=\"364.013672\" xlink:href=\"#DejaVuSans-116\"/>\r\n       <use x=\"403.222656\" xlink:href=\"#DejaVuSans-32\"/>\r\n       <use x=\"435.009766\" xlink:href=\"#DejaVuSans-82\"/>\r\n       <use x=\"499.992188\" xlink:href=\"#DejaVuSans-101\"/>\r\n       <use x=\"561.515625\" xlink:href=\"#DejaVuSans-112\"/>\r\n       <use x=\"624.992188\" xlink:href=\"#DejaVuSans-111\"/>\r\n       <use x=\"686.173828\" xlink:href=\"#DejaVuSans-114\"/>\r\n       <use x=\"727.287109\" xlink:href=\"#DejaVuSans-116\"/>\r\n      </g>\r\n     </g>\r\n    </g>\r\n    <g id=\"xtick_3\">\r\n     <g id=\"line2d_3\">\r\n      <g>\r\n       <use style=\"stroke:#000000;stroke-width:0.8;\" x=\"249.2125\" xlink:href=\"#md3cc576450\" y=\"239.758125\"/>\r\n      </g>\r\n     </g>\r\n     <g id=\"text_3\">\r\n      <!-- Profile Report -->\r\n      <g transform=\"translate(215.503906 254.356562)scale(0.1 -0.1)\">\r\n       <defs>\r\n        <path d=\"M 19.671875 64.796875 \r\nL 19.671875 37.40625 \r\nL 32.078125 37.40625 \r\nQ 38.96875 37.40625 42.71875 40.96875 \r\nQ 46.484375 44.53125 46.484375 51.125 \r\nQ 46.484375 57.671875 42.71875 61.234375 \r\nQ 38.96875 64.796875 32.078125 64.796875 \r\nz\r\nM 9.8125 72.90625 \r\nL 32.078125 72.90625 \r\nQ 44.34375 72.90625 50.609375 67.359375 \r\nQ 56.890625 61.8125 56.890625 51.125 \r\nQ 56.890625 40.328125 50.609375 34.8125 \r\nQ 44.34375 29.296875 32.078125 29.296875 \r\nL 19.671875 29.296875 \r\nL 19.671875 0 \r\nL 9.8125 0 \r\nz\r\n\" id=\"DejaVuSans-80\"/>\r\n        <path d=\"M 37.109375 75.984375 \r\nL 37.109375 68.5 \r\nL 28.515625 68.5 \r\nQ 23.6875 68.5 21.796875 66.546875 \r\nQ 19.921875 64.59375 19.921875 59.515625 \r\nL 19.921875 54.6875 \r\nL 34.71875 54.6875 \r\nL 34.71875 47.703125 \r\nL 19.921875 47.703125 \r\nL 19.921875 0 \r\nL 10.890625 0 \r\nL 10.890625 47.703125 \r\nL 2.296875 47.703125 \r\nL 2.296875 54.6875 \r\nL 10.890625 54.6875 \r\nL 10.890625 58.5 \r\nQ 10.890625 67.625 15.140625 71.796875 \r\nQ 19.390625 75.984375 28.609375 75.984375 \r\nz\r\n\" id=\"DejaVuSans-102\"/>\r\n       </defs>\r\n       <use xlink:href=\"#DejaVuSans-80\"/>\r\n       <use x=\"58.552734\" xlink:href=\"#DejaVuSans-114\"/>\r\n       <use x=\"97.416016\" xlink:href=\"#DejaVuSans-111\"/>\r\n       <use x=\"158.597656\" xlink:href=\"#DejaVuSans-102\"/>\r\n       <use x=\"193.802734\" xlink:href=\"#DejaVuSans-105\"/>\r\n       <use x=\"221.585938\" xlink:href=\"#DejaVuSans-108\"/>\r\n       <use x=\"249.369141\" xlink:href=\"#DejaVuSans-101\"/>\r\n       <use x=\"310.892578\" xlink:href=\"#DejaVuSans-32\"/>\r\n       <use x=\"342.679688\" xlink:href=\"#DejaVuSans-82\"/>\r\n       <use x=\"407.662109\" xlink:href=\"#DejaVuSans-101\"/>\r\n       <use x=\"469.185547\" xlink:href=\"#DejaVuSans-112\"/>\r\n       <use x=\"532.662109\" xlink:href=\"#DejaVuSans-111\"/>\r\n       <use x=\"593.84375\" xlink:href=\"#DejaVuSans-114\"/>\r\n       <use x=\"634.957031\" xlink:href=\"#DejaVuSans-116\"/>\r\n      </g>\r\n     </g>\r\n    </g>\r\n    <g id=\"xtick_4\">\r\n     <g id=\"line2d_4\">\r\n      <g>\r\n       <use style=\"stroke:#000000;stroke-width:0.8;\" x=\"303.5725\" xlink:href=\"#md3cc576450\" y=\"239.758125\"/>\r\n      </g>\r\n     </g>\r\n     <g id=\"text_4\">\r\n      <!-- Situation Report -->\r\n      <g transform=\"translate(263.074844 254.356562)scale(0.1 -0.1)\">\r\n       <defs>\r\n        <path d=\"M 53.515625 70.515625 \r\nL 53.515625 60.890625 \r\nQ 47.90625 63.578125 42.921875 64.890625 \r\nQ 37.9375 66.21875 33.296875 66.21875 \r\nQ 25.25 66.21875 20.875 63.09375 \r\nQ 16.5 59.96875 16.5 54.203125 \r\nQ 16.5 49.359375 19.40625 46.890625 \r\nQ 22.3125 44.4375 30.421875 42.921875 \r\nL 36.375 41.703125 \r\nQ 47.40625 39.59375 52.65625 34.296875 \r\nQ 57.90625 29 57.90625 20.125 \r\nQ 57.90625 9.515625 50.796875 4.046875 \r\nQ 43.703125 -1.421875 29.984375 -1.421875 \r\nQ 24.8125 -1.421875 18.96875 -0.25 \r\nQ 13.140625 0.921875 6.890625 3.21875 \r\nL 6.890625 13.375 \r\nQ 12.890625 10.015625 18.65625 8.296875 \r\nQ 24.421875 6.59375 29.984375 6.59375 \r\nQ 38.421875 6.59375 43.015625 9.90625 \r\nQ 47.609375 13.234375 47.609375 19.390625 \r\nQ 47.609375 24.75 44.3125 27.78125 \r\nQ 41.015625 30.8125 33.5 32.328125 \r\nL 27.484375 33.5 \r\nQ 16.453125 35.6875 11.515625 40.375 \r\nQ 6.59375 45.0625 6.59375 53.421875 \r\nQ 6.59375 63.09375 13.40625 68.65625 \r\nQ 20.21875 74.21875 32.171875 74.21875 \r\nQ 37.3125 74.21875 42.625 73.28125 \r\nQ 47.953125 72.359375 53.515625 70.515625 \r\nz\r\n\" id=\"DejaVuSans-83\"/>\r\n        <path d=\"M 8.5 21.578125 \r\nL 8.5 54.6875 \r\nL 17.484375 54.6875 \r\nL 17.484375 21.921875 \r\nQ 17.484375 14.15625 20.5 10.265625 \r\nQ 23.53125 6.390625 29.59375 6.390625 \r\nQ 36.859375 6.390625 41.078125 11.03125 \r\nQ 45.3125 15.671875 45.3125 23.6875 \r\nL 45.3125 54.6875 \r\nL 54.296875 54.6875 \r\nL 54.296875 0 \r\nL 45.3125 0 \r\nL 45.3125 8.40625 \r\nQ 42.046875 3.421875 37.71875 1 \r\nQ 33.40625 -1.421875 27.6875 -1.421875 \r\nQ 18.265625 -1.421875 13.375 4.4375 \r\nQ 8.5 10.296875 8.5 21.578125 \r\nz\r\nM 31.109375 56 \r\nz\r\n\" id=\"DejaVuSans-117\"/>\r\n       </defs>\r\n       <use xlink:href=\"#DejaVuSans-83\"/>\r\n       <use x=\"63.476562\" xlink:href=\"#DejaVuSans-105\"/>\r\n       <use x=\"91.259766\" xlink:href=\"#DejaVuSans-116\"/>\r\n       <use x=\"130.46875\" xlink:href=\"#DejaVuSans-117\"/>\r\n       <use x=\"193.847656\" xlink:href=\"#DejaVuSans-97\"/>\r\n       <use x=\"255.126953\" xlink:href=\"#DejaVuSans-116\"/>\r\n       <use x=\"294.335938\" xlink:href=\"#DejaVuSans-105\"/>\r\n       <use x=\"322.119141\" xlink:href=\"#DejaVuSans-111\"/>\r\n       <use x=\"383.300781\" xlink:href=\"#DejaVuSans-110\"/>\r\n       <use x=\"446.679688\" xlink:href=\"#DejaVuSans-32\"/>\r\n       <use x=\"478.466797\" xlink:href=\"#DejaVuSans-82\"/>\r\n       <use x=\"543.449219\" xlink:href=\"#DejaVuSans-101\"/>\r\n       <use x=\"604.972656\" xlink:href=\"#DejaVuSans-112\"/>\r\n       <use x=\"668.449219\" xlink:href=\"#DejaVuSans-111\"/>\r\n       <use x=\"729.630859\" xlink:href=\"#DejaVuSans-114\"/>\r\n       <use x=\"770.744141\" xlink:href=\"#DejaVuSans-116\"/>\r\n      </g>\r\n     </g>\r\n    </g>\r\n    <g id=\"text_5\">\r\n     <!-- Predicted label -->\r\n     <g transform=\"translate(184.880156 268.034687)scale(0.1 -0.1)\">\r\n      <defs>\r\n       <path d=\"M 48.6875 27.296875 \r\nQ 48.6875 37.203125 44.609375 42.84375 \r\nQ 40.53125 48.484375 33.40625 48.484375 \r\nQ 26.265625 48.484375 22.1875 42.84375 \r\nQ 18.109375 37.203125 18.109375 27.296875 \r\nQ 18.109375 17.390625 22.1875 11.75 \r\nQ 26.265625 6.109375 33.40625 6.109375 \r\nQ 40.53125 6.109375 44.609375 11.75 \r\nQ 48.6875 17.390625 48.6875 27.296875 \r\nz\r\nM 18.109375 46.390625 \r\nQ 20.953125 51.265625 25.265625 53.625 \r\nQ 29.59375 56 35.59375 56 \r\nQ 45.5625 56 51.78125 48.09375 \r\nQ 58.015625 40.1875 58.015625 27.296875 \r\nQ 58.015625 14.40625 51.78125 6.484375 \r\nQ 45.5625 -1.421875 35.59375 -1.421875 \r\nQ 29.59375 -1.421875 25.265625 0.953125 \r\nQ 20.953125 3.328125 18.109375 8.203125 \r\nL 18.109375 0 \r\nL 9.078125 0 \r\nL 9.078125 75.984375 \r\nL 18.109375 75.984375 \r\nz\r\n\" id=\"DejaVuSans-98\"/>\r\n      </defs>\r\n      <use xlink:href=\"#DejaVuSans-80\"/>\r\n      <use x=\"58.552734\" xlink:href=\"#DejaVuSans-114\"/>\r\n      <use x=\"97.416016\" xlink:href=\"#DejaVuSans-101\"/>\r\n      <use x=\"158.939453\" xlink:href=\"#DejaVuSans-100\"/>\r\n      <use x=\"222.416016\" xlink:href=\"#DejaVuSans-105\"/>\r\n      <use x=\"250.199219\" xlink:href=\"#DejaVuSans-99\"/>\r\n      <use x=\"305.179688\" xlink:href=\"#DejaVuSans-116\"/>\r\n      <use x=\"344.388672\" xlink:href=\"#DejaVuSans-101\"/>\r\n      <use x=\"405.912109\" xlink:href=\"#DejaVuSans-100\"/>\r\n      <use x=\"469.388672\" xlink:href=\"#DejaVuSans-32\"/>\r\n      <use x=\"501.175781\" xlink:href=\"#DejaVuSans-108\"/>\r\n      <use x=\"528.958984\" xlink:href=\"#DejaVuSans-97\"/>\r\n      <use x=\"590.238281\" xlink:href=\"#DejaVuSans-98\"/>\r\n      <use x=\"653.714844\" xlink:href=\"#DejaVuSans-101\"/>\r\n      <use x=\"715.238281\" xlink:href=\"#DejaVuSans-108\"/>\r\n     </g>\r\n    </g>\r\n   </g>\r\n   <g id=\"matplotlib.axis_2\">\r\n    <g id=\"ytick_1\">\r\n     <g id=\"line2d_5\">\r\n      <defs>\r\n       <path d=\"M 0 0 \r\nL -3.5 0 \r\n\" id=\"mec669ffe02\" style=\"stroke:#000000;stroke-width:0.8;\"/>\r\n      </defs>\r\n      <g>\r\n       <use style=\"stroke:#000000;stroke-width:0.8;\" x=\"113.3125\" xlink:href=\"#mec669ffe02\" y=\"49.498125\"/>\r\n      </g>\r\n     </g>\r\n     <g id=\"text_6\">\r\n      <!-- Analytical Report -->\r\n      <g transform=\"translate(20.878125 53.297344)scale(0.1 -0.1)\">\r\n       <use xlink:href=\"#DejaVuSans-65\"/>\r\n       <use x=\"68.408203\" xlink:href=\"#DejaVuSans-110\"/>\r\n       <use x=\"131.787109\" xlink:href=\"#DejaVuSans-97\"/>\r\n       <use x=\"193.066406\" xlink:href=\"#DejaVuSans-108\"/>\r\n       <use x=\"220.849609\" xlink:href=\"#DejaVuSans-121\"/>\r\n       <use x=\"280.029297\" xlink:href=\"#DejaVuSans-116\"/>\r\n       <use x=\"319.238281\" xlink:href=\"#DejaVuSans-105\"/>\r\n       <use x=\"347.021484\" xlink:href=\"#DejaVuSans-99\"/>\r\n       <use x=\"402.001953\" xlink:href=\"#DejaVuSans-97\"/>\r\n       <use x=\"463.28125\" xlink:href=\"#DejaVuSans-108\"/>\r\n       <use x=\"491.064453\" xlink:href=\"#DejaVuSans-32\"/>\r\n       <use x=\"522.851562\" xlink:href=\"#DejaVuSans-82\"/>\r\n       <use x=\"587.833984\" xlink:href=\"#DejaVuSans-101\"/>\r\n       <use x=\"649.357422\" xlink:href=\"#DejaVuSans-112\"/>\r\n       <use x=\"712.833984\" xlink:href=\"#DejaVuSans-111\"/>\r\n       <use x=\"774.015625\" xlink:href=\"#DejaVuSans-114\"/>\r\n       <use x=\"815.128906\" xlink:href=\"#DejaVuSans-116\"/>\r\n      </g>\r\n     </g>\r\n    </g>\r\n    <g id=\"ytick_2\">\r\n     <g id=\"line2d_6\">\r\n      <g>\r\n       <use style=\"stroke:#000000;stroke-width:0.8;\" x=\"113.3125\" xlink:href=\"#mec669ffe02\" y=\"103.858125\"/>\r\n      </g>\r\n     </g>\r\n     <g id=\"text_7\">\r\n      <!-- Incident Report -->\r\n      <g transform=\"translate(29.660938 107.657344)scale(0.1 -0.1)\">\r\n       <use xlink:href=\"#DejaVuSans-73\"/>\r\n       <use x=\"29.492188\" xlink:href=\"#DejaVuSans-110\"/>\r\n       <use x=\"92.871094\" xlink:href=\"#DejaVuSans-99\"/>\r\n       <use x=\"147.851562\" xlink:href=\"#DejaVuSans-105\"/>\r\n       <use x=\"175.634766\" xlink:href=\"#DejaVuSans-100\"/>\r\n       <use x=\"239.111328\" xlink:href=\"#DejaVuSans-101\"/>\r\n       <use x=\"300.634766\" xlink:href=\"#DejaVuSans-110\"/>\r\n       <use x=\"364.013672\" xlink:href=\"#DejaVuSans-116\"/>\r\n       <use x=\"403.222656\" xlink:href=\"#DejaVuSans-32\"/>\r\n       <use x=\"435.009766\" xlink:href=\"#DejaVuSans-82\"/>\r\n       <use x=\"499.992188\" xlink:href=\"#DejaVuSans-101\"/>\r\n       <use x=\"561.515625\" xlink:href=\"#DejaVuSans-112\"/>\r\n       <use x=\"624.992188\" xlink:href=\"#DejaVuSans-111\"/>\r\n       <use x=\"686.173828\" xlink:href=\"#DejaVuSans-114\"/>\r\n       <use x=\"727.287109\" xlink:href=\"#DejaVuSans-116\"/>\r\n      </g>\r\n     </g>\r\n    </g>\r\n    <g id=\"ytick_3\">\r\n     <g id=\"line2d_7\">\r\n      <g>\r\n       <use style=\"stroke:#000000;stroke-width:0.8;\" x=\"113.3125\" xlink:href=\"#mec669ffe02\" y=\"158.218125\"/>\r\n      </g>\r\n     </g>\r\n     <g id=\"text_8\">\r\n      <!-- Profile Report -->\r\n      <g transform=\"translate(38.895313 162.017344)scale(0.1 -0.1)\">\r\n       <use xlink:href=\"#DejaVuSans-80\"/>\r\n       <use x=\"58.552734\" xlink:href=\"#DejaVuSans-114\"/>\r\n       <use x=\"97.416016\" xlink:href=\"#DejaVuSans-111\"/>\r\n       <use x=\"158.597656\" xlink:href=\"#DejaVuSans-102\"/>\r\n       <use x=\"193.802734\" xlink:href=\"#DejaVuSans-105\"/>\r\n       <use x=\"221.585938\" xlink:href=\"#DejaVuSans-108\"/>\r\n       <use x=\"249.369141\" xlink:href=\"#DejaVuSans-101\"/>\r\n       <use x=\"310.892578\" xlink:href=\"#DejaVuSans-32\"/>\r\n       <use x=\"342.679688\" xlink:href=\"#DejaVuSans-82\"/>\r\n       <use x=\"407.662109\" xlink:href=\"#DejaVuSans-101\"/>\r\n       <use x=\"469.185547\" xlink:href=\"#DejaVuSans-112\"/>\r\n       <use x=\"532.662109\" xlink:href=\"#DejaVuSans-111\"/>\r\n       <use x=\"593.84375\" xlink:href=\"#DejaVuSans-114\"/>\r\n       <use x=\"634.957031\" xlink:href=\"#DejaVuSans-116\"/>\r\n      </g>\r\n     </g>\r\n    </g>\r\n    <g id=\"ytick_4\">\r\n     <g id=\"line2d_8\">\r\n      <g>\r\n       <use style=\"stroke:#000000;stroke-width:0.8;\" x=\"113.3125\" xlink:href=\"#mec669ffe02\" y=\"212.578125\"/>\r\n      </g>\r\n     </g>\r\n     <g id=\"text_9\">\r\n      <!-- Situation Report -->\r\n      <g transform=\"translate(25.317187 216.377344)scale(0.1 -0.1)\">\r\n       <use xlink:href=\"#DejaVuSans-83\"/>\r\n       <use x=\"63.476562\" xlink:href=\"#DejaVuSans-105\"/>\r\n       <use x=\"91.259766\" xlink:href=\"#DejaVuSans-116\"/>\r\n       <use x=\"130.46875\" xlink:href=\"#DejaVuSans-117\"/>\r\n       <use x=\"193.847656\" xlink:href=\"#DejaVuSans-97\"/>\r\n       <use x=\"255.126953\" xlink:href=\"#DejaVuSans-116\"/>\r\n       <use x=\"294.335938\" xlink:href=\"#DejaVuSans-105\"/>\r\n       <use x=\"322.119141\" xlink:href=\"#DejaVuSans-111\"/>\r\n       <use x=\"383.300781\" xlink:href=\"#DejaVuSans-110\"/>\r\n       <use x=\"446.679688\" xlink:href=\"#DejaVuSans-32\"/>\r\n       <use x=\"478.466797\" xlink:href=\"#DejaVuSans-82\"/>\r\n       <use x=\"543.449219\" xlink:href=\"#DejaVuSans-101\"/>\r\n       <use x=\"604.972656\" xlink:href=\"#DejaVuSans-112\"/>\r\n       <use x=\"668.449219\" xlink:href=\"#DejaVuSans-111\"/>\r\n       <use x=\"729.630859\" xlink:href=\"#DejaVuSans-114\"/>\r\n       <use x=\"770.744141\" xlink:href=\"#DejaVuSans-116\"/>\r\n      </g>\r\n     </g>\r\n    </g>\r\n    <g id=\"text_10\">\r\n     <!-- True label -->\r\n     <g transform=\"translate(14.798437 155.337344)rotate(-90)scale(0.1 -0.1)\">\r\n      <defs>\r\n       <path d=\"M -0.296875 72.90625 \r\nL 61.375 72.90625 \r\nL 61.375 64.59375 \r\nL 35.5 64.59375 \r\nL 35.5 0 \r\nL 25.59375 0 \r\nL 25.59375 64.59375 \r\nL -0.296875 64.59375 \r\nz\r\n\" id=\"DejaVuSans-84\"/>\r\n      </defs>\r\n      <use xlink:href=\"#DejaVuSans-84\"/>\r\n      <use x=\"46.333984\" xlink:href=\"#DejaVuSans-114\"/>\r\n      <use x=\"87.447266\" xlink:href=\"#DejaVuSans-117\"/>\r\n      <use x=\"150.826172\" xlink:href=\"#DejaVuSans-101\"/>\r\n      <use x=\"212.349609\" xlink:href=\"#DejaVuSans-32\"/>\r\n      <use x=\"244.136719\" xlink:href=\"#DejaVuSans-108\"/>\r\n      <use x=\"271.919922\" xlink:href=\"#DejaVuSans-97\"/>\r\n      <use x=\"333.199219\" xlink:href=\"#DejaVuSans-98\"/>\r\n      <use x=\"396.675781\" xlink:href=\"#DejaVuSans-101\"/>\r\n      <use x=\"458.199219\" xlink:href=\"#DejaVuSans-108\"/>\r\n     </g>\r\n    </g>\r\n   </g>\r\n   <g id=\"patch_3\">\r\n    <path d=\"M 113.3125 239.758125 \r\nL 113.3125 22.318125 \r\n\" style=\"fill:none;stroke:#000000;stroke-linecap:square;stroke-linejoin:miter;stroke-width:0.8;\"/>\r\n   </g>\r\n   <g id=\"patch_4\">\r\n    <path d=\"M 330.7525 239.758125 \r\nL 330.7525 22.318125 \r\n\" style=\"fill:none;stroke:#000000;stroke-linecap:square;stroke-linejoin:miter;stroke-width:0.8;\"/>\r\n   </g>\r\n   <g id=\"patch_5\">\r\n    <path d=\"M 113.3125 239.758125 \r\nL 330.7525 239.758125 \r\n\" style=\"fill:none;stroke:#000000;stroke-linecap:square;stroke-linejoin:miter;stroke-width:0.8;\"/>\r\n   </g>\r\n   <g id=\"patch_6\">\r\n    <path d=\"M 113.3125 22.318125 \r\nL 330.7525 22.318125 \r\n\" style=\"fill:none;stroke:#000000;stroke-linecap:square;stroke-linejoin:miter;stroke-width:0.8;\"/>\r\n   </g>\r\n   <g id=\"text_11\">\r\n    <!-- 4 -->\r\n    <g style=\"fill:#08306b;\" transform=\"translate(137.31125 52.2575)scale(0.1 -0.1)\">\r\n     <defs>\r\n      <path d=\"M 37.796875 64.3125 \r\nL 12.890625 25.390625 \r\nL 37.796875 25.390625 \r\nz\r\nM 35.203125 72.90625 \r\nL 47.609375 72.90625 \r\nL 47.609375 25.390625 \r\nL 58.015625 25.390625 \r\nL 58.015625 17.1875 \r\nL 47.609375 17.1875 \r\nL 47.609375 0 \r\nL 37.796875 0 \r\nL 37.796875 17.1875 \r\nL 4.890625 17.1875 \r\nL 4.890625 26.703125 \r\nz\r\n\" id=\"DejaVuSans-52\"/>\r\n     </defs>\r\n     <use xlink:href=\"#DejaVuSans-52\"/>\r\n    </g>\r\n   </g>\r\n   <g id=\"text_12\">\r\n    <!-- 0 -->\r\n    <g style=\"fill:#08306b;\" transform=\"translate(191.67125 52.2575)scale(0.1 -0.1)\">\r\n     <defs>\r\n      <path d=\"M 31.78125 66.40625 \r\nQ 24.171875 66.40625 20.328125 58.90625 \r\nQ 16.5 51.421875 16.5 36.375 \r\nQ 16.5 21.390625 20.328125 13.890625 \r\nQ 24.171875 6.390625 31.78125 6.390625 \r\nQ 39.453125 6.390625 43.28125 13.890625 \r\nQ 47.125 21.390625 47.125 36.375 \r\nQ 47.125 51.421875 43.28125 58.90625 \r\nQ 39.453125 66.40625 31.78125 66.40625 \r\nz\r\nM 31.78125 74.21875 \r\nQ 44.046875 74.21875 50.515625 64.515625 \r\nQ 56.984375 54.828125 56.984375 36.375 \r\nQ 56.984375 17.96875 50.515625 8.265625 \r\nQ 44.046875 -1.421875 31.78125 -1.421875 \r\nQ 19.53125 -1.421875 13.0625 8.265625 \r\nQ 6.59375 17.96875 6.59375 36.375 \r\nQ 6.59375 54.828125 13.0625 64.515625 \r\nQ 19.53125 74.21875 31.78125 74.21875 \r\nz\r\n\" id=\"DejaVuSans-48\"/>\r\n     </defs>\r\n     <use xlink:href=\"#DejaVuSans-48\"/>\r\n    </g>\r\n   </g>\r\n   <g id=\"text_13\">\r\n    <!-- 1 -->\r\n    <g style=\"fill:#08306b;\" transform=\"translate(246.03125 52.2575)scale(0.1 -0.1)\">\r\n     <defs>\r\n      <path d=\"M 12.40625 8.296875 \r\nL 28.515625 8.296875 \r\nL 28.515625 63.921875 \r\nL 10.984375 60.40625 \r\nL 10.984375 69.390625 \r\nL 28.421875 72.90625 \r\nL 38.28125 72.90625 \r\nL 38.28125 8.296875 \r\nL 54.390625 8.296875 \r\nL 54.390625 0 \r\nL 12.40625 0 \r\nz\r\n\" id=\"DejaVuSans-49\"/>\r\n     </defs>\r\n     <use xlink:href=\"#DejaVuSans-49\"/>\r\n    </g>\r\n   </g>\r\n   <g id=\"text_14\">\r\n    <!-- 0 -->\r\n    <g style=\"fill:#08306b;\" transform=\"translate(300.39125 52.2575)scale(0.1 -0.1)\">\r\n     <use xlink:href=\"#DejaVuSans-48\"/>\r\n    </g>\r\n   </g>\r\n   <g id=\"text_15\">\r\n    <!-- 1 -->\r\n    <g style=\"fill:#08306b;\" transform=\"translate(137.31125 106.6175)scale(0.1 -0.1)\">\r\n     <use xlink:href=\"#DejaVuSans-49\"/>\r\n    </g>\r\n   </g>\r\n   <g id=\"text_16\">\r\n    <!-- 5 -->\r\n    <g style=\"fill:#08306b;\" transform=\"translate(191.67125 106.6175)scale(0.1 -0.1)\">\r\n     <defs>\r\n      <path d=\"M 10.796875 72.90625 \r\nL 49.515625 72.90625 \r\nL 49.515625 64.59375 \r\nL 19.828125 64.59375 \r\nL 19.828125 46.734375 \r\nQ 21.96875 47.46875 24.109375 47.828125 \r\nQ 26.265625 48.1875 28.421875 48.1875 \r\nQ 40.625 48.1875 47.75 41.5 \r\nQ 54.890625 34.8125 54.890625 23.390625 \r\nQ 54.890625 11.625 47.5625 5.09375 \r\nQ 40.234375 -1.421875 26.90625 -1.421875 \r\nQ 22.3125 -1.421875 17.546875 -0.640625 \r\nQ 12.796875 0.140625 7.71875 1.703125 \r\nL 7.71875 11.625 \r\nQ 12.109375 9.234375 16.796875 8.0625 \r\nQ 21.484375 6.890625 26.703125 6.890625 \r\nQ 35.15625 6.890625 40.078125 11.328125 \r\nQ 45.015625 15.765625 45.015625 23.390625 \r\nQ 45.015625 31 40.078125 35.4375 \r\nQ 35.15625 39.890625 26.703125 39.890625 \r\nQ 22.75 39.890625 18.8125 39.015625 \r\nQ 14.890625 38.140625 10.796875 36.28125 \r\nz\r\n\" id=\"DejaVuSans-53\"/>\r\n     </defs>\r\n     <use xlink:href=\"#DejaVuSans-53\"/>\r\n    </g>\r\n   </g>\r\n   <g id=\"text_17\">\r\n    <!-- 0 -->\r\n    <g style=\"fill:#08306b;\" transform=\"translate(246.03125 106.6175)scale(0.1 -0.1)\">\r\n     <use xlink:href=\"#DejaVuSans-48\"/>\r\n    </g>\r\n   </g>\r\n   <g id=\"text_18\">\r\n    <!-- 3 -->\r\n    <g style=\"fill:#08306b;\" transform=\"translate(300.39125 106.6175)scale(0.1 -0.1)\">\r\n     <defs>\r\n      <path d=\"M 40.578125 39.3125 \r\nQ 47.65625 37.796875 51.625 33 \r\nQ 55.609375 28.21875 55.609375 21.1875 \r\nQ 55.609375 10.40625 48.1875 4.484375 \r\nQ 40.765625 -1.421875 27.09375 -1.421875 \r\nQ 22.515625 -1.421875 17.65625 -0.515625 \r\nQ 12.796875 0.390625 7.625 2.203125 \r\nL 7.625 11.71875 \r\nQ 11.71875 9.328125 16.59375 8.109375 \r\nQ 21.484375 6.890625 26.8125 6.890625 \r\nQ 36.078125 6.890625 40.9375 10.546875 \r\nQ 45.796875 14.203125 45.796875 21.1875 \r\nQ 45.796875 27.640625 41.28125 31.265625 \r\nQ 36.765625 34.90625 28.71875 34.90625 \r\nL 20.21875 34.90625 \r\nL 20.21875 43.015625 \r\nL 29.109375 43.015625 \r\nQ 36.375 43.015625 40.234375 45.921875 \r\nQ 44.09375 48.828125 44.09375 54.296875 \r\nQ 44.09375 59.90625 40.109375 62.90625 \r\nQ 36.140625 65.921875 28.71875 65.921875 \r\nQ 24.65625 65.921875 20.015625 65.03125 \r\nQ 15.375 64.15625 9.8125 62.3125 \r\nL 9.8125 71.09375 \r\nQ 15.4375 72.65625 20.34375 73.4375 \r\nQ 25.25 74.21875 29.59375 74.21875 \r\nQ 40.828125 74.21875 47.359375 69.109375 \r\nQ 53.90625 64.015625 53.90625 55.328125 \r\nQ 53.90625 49.265625 50.4375 45.09375 \r\nQ 46.96875 40.921875 40.578125 39.3125 \r\nz\r\n\" id=\"DejaVuSans-51\"/>\r\n     </defs>\r\n     <use xlink:href=\"#DejaVuSans-51\"/>\r\n    </g>\r\n   </g>\r\n   <g id=\"text_19\">\r\n    <!-- 0 -->\r\n    <g style=\"fill:#08306b;\" transform=\"translate(137.31125 160.9775)scale(0.1 -0.1)\">\r\n     <use xlink:href=\"#DejaVuSans-48\"/>\r\n    </g>\r\n   </g>\r\n   <g id=\"text_20\">\r\n    <!-- 0 -->\r\n    <g style=\"fill:#08306b;\" transform=\"translate(191.67125 160.9775)scale(0.1 -0.1)\">\r\n     <use xlink:href=\"#DejaVuSans-48\"/>\r\n    </g>\r\n   </g>\r\n   <g id=\"text_21\">\r\n    <!-- 13 -->\r\n    <g style=\"fill:#f7fbff;\" transform=\"translate(242.85 160.9775)scale(0.1 -0.1)\">\r\n     <use xlink:href=\"#DejaVuSans-49\"/>\r\n     <use x=\"63.623047\" xlink:href=\"#DejaVuSans-51\"/>\r\n    </g>\r\n   </g>\r\n   <g id=\"text_22\">\r\n    <!-- 0 -->\r\n    <g style=\"fill:#08306b;\" transform=\"translate(300.39125 160.9775)scale(0.1 -0.1)\">\r\n     <use xlink:href=\"#DejaVuSans-48\"/>\r\n    </g>\r\n   </g>\r\n   <g id=\"text_23\">\r\n    <!-- 1 -->\r\n    <g style=\"fill:#08306b;\" transform=\"translate(137.31125 215.3375)scale(0.1 -0.1)\">\r\n     <use xlink:href=\"#DejaVuSans-49\"/>\r\n    </g>\r\n   </g>\r\n   <g id=\"text_24\">\r\n    <!-- 1 -->\r\n    <g style=\"fill:#08306b;\" transform=\"translate(191.67125 215.3375)scale(0.1 -0.1)\">\r\n     <use xlink:href=\"#DejaVuSans-49\"/>\r\n    </g>\r\n   </g>\r\n   <g id=\"text_25\">\r\n    <!-- 0 -->\r\n    <g style=\"fill:#08306b;\" transform=\"translate(246.03125 215.3375)scale(0.1 -0.1)\">\r\n     <use xlink:href=\"#DejaVuSans-48\"/>\r\n    </g>\r\n   </g>\r\n   <g id=\"text_26\">\r\n    <!-- 7 -->\r\n    <g style=\"fill:#f7fbff;\" transform=\"translate(300.39125 215.3375)scale(0.1 -0.1)\">\r\n     <defs>\r\n      <path d=\"M 8.203125 72.90625 \r\nL 55.078125 72.90625 \r\nL 55.078125 68.703125 \r\nL 28.609375 0 \r\nL 18.3125 0 \r\nL 43.21875 64.59375 \r\nL 8.203125 64.59375 \r\nz\r\n\" id=\"DejaVuSans-55\"/>\r\n     </defs>\r\n     <use xlink:href=\"#DejaVuSans-55\"/>\r\n    </g>\r\n   </g>\r\n   <g id=\"text_27\">\r\n    <!-- Validation dataset Gaussian Naive Bayes Classifier -->\r\n    <g transform=\"translate(70.031875 16.318125)scale(0.12 -0.12)\">\r\n     <defs>\r\n      <path d=\"M 28.609375 0 \r\nL 0.78125 72.90625 \r\nL 11.078125 72.90625 \r\nL 34.1875 11.53125 \r\nL 57.328125 72.90625 \r\nL 67.578125 72.90625 \r\nL 39.796875 0 \r\nz\r\n\" id=\"DejaVuSans-86\"/>\r\n      <path d=\"M 44.28125 53.078125 \r\nL 44.28125 44.578125 \r\nQ 40.484375 46.53125 36.375 47.5 \r\nQ 32.28125 48.484375 27.875 48.484375 \r\nQ 21.1875 48.484375 17.84375 46.4375 \r\nQ 14.5 44.390625 14.5 40.28125 \r\nQ 14.5 37.15625 16.890625 35.375 \r\nQ 19.28125 33.59375 26.515625 31.984375 \r\nL 29.59375 31.296875 \r\nQ 39.15625 29.25 43.1875 25.515625 \r\nQ 47.21875 21.78125 47.21875 15.09375 \r\nQ 47.21875 7.46875 41.1875 3.015625 \r\nQ 35.15625 -1.421875 24.609375 -1.421875 \r\nQ 20.21875 -1.421875 15.453125 -0.5625 \r\nQ 10.6875 0.296875 5.421875 2 \r\nL 5.421875 11.28125 \r\nQ 10.40625 8.6875 15.234375 7.390625 \r\nQ 20.0625 6.109375 24.8125 6.109375 \r\nQ 31.15625 6.109375 34.5625 8.28125 \r\nQ 37.984375 10.453125 37.984375 14.40625 \r\nQ 37.984375 18.0625 35.515625 20.015625 \r\nQ 33.0625 21.96875 24.703125 23.78125 \r\nL 21.578125 24.515625 \r\nQ 13.234375 26.265625 9.515625 29.90625 \r\nQ 5.8125 33.546875 5.8125 39.890625 \r\nQ 5.8125 47.609375 11.28125 51.796875 \r\nQ 16.75 56 26.8125 56 \r\nQ 31.78125 56 36.171875 55.265625 \r\nQ 40.578125 54.546875 44.28125 53.078125 \r\nz\r\n\" id=\"DejaVuSans-115\"/>\r\n      <path d=\"M 59.515625 10.40625 \r\nL 59.515625 29.984375 \r\nL 43.40625 29.984375 \r\nL 43.40625 38.09375 \r\nL 69.28125 38.09375 \r\nL 69.28125 6.78125 \r\nQ 63.578125 2.734375 56.6875 0.65625 \r\nQ 49.8125 -1.421875 42 -1.421875 \r\nQ 24.90625 -1.421875 15.25 8.5625 \r\nQ 5.609375 18.5625 5.609375 36.375 \r\nQ 5.609375 54.25 15.25 64.234375 \r\nQ 24.90625 74.21875 42 74.21875 \r\nQ 49.125 74.21875 55.546875 72.453125 \r\nQ 61.96875 70.703125 67.390625 67.28125 \r\nL 67.390625 56.78125 \r\nQ 61.921875 61.421875 55.765625 63.765625 \r\nQ 49.609375 66.109375 42.828125 66.109375 \r\nQ 29.4375 66.109375 22.71875 58.640625 \r\nQ 16.015625 51.171875 16.015625 36.375 \r\nQ 16.015625 21.625 22.71875 14.15625 \r\nQ 29.4375 6.6875 42.828125 6.6875 \r\nQ 48.046875 6.6875 52.140625 7.59375 \r\nQ 56.25 8.5 59.515625 10.40625 \r\nz\r\n\" id=\"DejaVuSans-71\"/>\r\n      <path d=\"M 9.8125 72.90625 \r\nL 23.09375 72.90625 \r\nL 55.421875 11.921875 \r\nL 55.421875 72.90625 \r\nL 64.984375 72.90625 \r\nL 64.984375 0 \r\nL 51.703125 0 \r\nL 19.390625 60.984375 \r\nL 19.390625 0 \r\nL 9.8125 0 \r\nz\r\n\" id=\"DejaVuSans-78\"/>\r\n      <path d=\"M 2.984375 54.6875 \r\nL 12.5 54.6875 \r\nL 29.59375 8.796875 \r\nL 46.6875 54.6875 \r\nL 56.203125 54.6875 \r\nL 35.6875 0 \r\nL 23.484375 0 \r\nz\r\n\" id=\"DejaVuSans-118\"/>\r\n      <path d=\"M 19.671875 34.8125 \r\nL 19.671875 8.109375 \r\nL 35.5 8.109375 \r\nQ 43.453125 8.109375 47.28125 11.40625 \r\nQ 51.125 14.703125 51.125 21.484375 \r\nQ 51.125 28.328125 47.28125 31.5625 \r\nQ 43.453125 34.8125 35.5 34.8125 \r\nz\r\nM 19.671875 64.796875 \r\nL 19.671875 42.828125 \r\nL 34.28125 42.828125 \r\nQ 41.5 42.828125 45.03125 45.53125 \r\nQ 48.578125 48.25 48.578125 53.8125 \r\nQ 48.578125 59.328125 45.03125 62.0625 \r\nQ 41.5 64.796875 34.28125 64.796875 \r\nz\r\nM 9.8125 72.90625 \r\nL 35.015625 72.90625 \r\nQ 46.296875 72.90625 52.390625 68.21875 \r\nQ 58.5 63.53125 58.5 54.890625 \r\nQ 58.5 48.1875 55.375 44.234375 \r\nQ 52.25 40.28125 46.1875 39.3125 \r\nQ 53.46875 37.75 57.5 32.78125 \r\nQ 61.53125 27.828125 61.53125 20.40625 \r\nQ 61.53125 10.640625 54.890625 5.3125 \r\nQ 48.25 0 35.984375 0 \r\nL 9.8125 0 \r\nz\r\n\" id=\"DejaVuSans-66\"/>\r\n      <path d=\"M 64.40625 67.28125 \r\nL 64.40625 56.890625 \r\nQ 59.421875 61.53125 53.78125 63.8125 \r\nQ 48.140625 66.109375 41.796875 66.109375 \r\nQ 29.296875 66.109375 22.65625 58.46875 \r\nQ 16.015625 50.828125 16.015625 36.375 \r\nQ 16.015625 21.96875 22.65625 14.328125 \r\nQ 29.296875 6.6875 41.796875 6.6875 \r\nQ 48.140625 6.6875 53.78125 8.984375 \r\nQ 59.421875 11.28125 64.40625 15.921875 \r\nL 64.40625 5.609375 \r\nQ 59.234375 2.09375 53.4375 0.328125 \r\nQ 47.65625 -1.421875 41.21875 -1.421875 \r\nQ 24.65625 -1.421875 15.125 8.703125 \r\nQ 5.609375 18.84375 5.609375 36.375 \r\nQ 5.609375 53.953125 15.125 64.078125 \r\nQ 24.65625 74.21875 41.21875 74.21875 \r\nQ 47.75 74.21875 53.53125 72.484375 \r\nQ 59.328125 70.75 64.40625 67.28125 \r\nz\r\n\" id=\"DejaVuSans-67\"/>\r\n     </defs>\r\n     <use xlink:href=\"#DejaVuSans-86\"/>\r\n     <use x=\"60.658203\" xlink:href=\"#DejaVuSans-97\"/>\r\n     <use x=\"121.9375\" xlink:href=\"#DejaVuSans-108\"/>\r\n     <use x=\"149.720703\" xlink:href=\"#DejaVuSans-105\"/>\r\n     <use x=\"177.503906\" xlink:href=\"#DejaVuSans-100\"/>\r\n     <use x=\"240.980469\" xlink:href=\"#DejaVuSans-97\"/>\r\n     <use x=\"302.259766\" xlink:href=\"#DejaVuSans-116\"/>\r\n     <use x=\"341.46875\" xlink:href=\"#DejaVuSans-105\"/>\r\n     <use x=\"369.251953\" xlink:href=\"#DejaVuSans-111\"/>\r\n     <use x=\"430.433594\" xlink:href=\"#DejaVuSans-110\"/>\r\n     <use x=\"493.8125\" xlink:href=\"#DejaVuSans-32\"/>\r\n     <use x=\"525.599609\" xlink:href=\"#DejaVuSans-100\"/>\r\n     <use x=\"589.076172\" xlink:href=\"#DejaVuSans-97\"/>\r\n     <use x=\"650.355469\" xlink:href=\"#DejaVuSans-116\"/>\r\n     <use x=\"689.564453\" xlink:href=\"#DejaVuSans-97\"/>\r\n     <use x=\"750.84375\" xlink:href=\"#DejaVuSans-115\"/>\r\n     <use x=\"802.943359\" xlink:href=\"#DejaVuSans-101\"/>\r\n     <use x=\"864.466797\" xlink:href=\"#DejaVuSans-116\"/>\r\n     <use x=\"903.675781\" xlink:href=\"#DejaVuSans-32\"/>\r\n     <use x=\"935.462891\" xlink:href=\"#DejaVuSans-71\"/>\r\n     <use x=\"1012.953125\" xlink:href=\"#DejaVuSans-97\"/>\r\n     <use x=\"1074.232422\" xlink:href=\"#DejaVuSans-117\"/>\r\n     <use x=\"1137.611328\" xlink:href=\"#DejaVuSans-115\"/>\r\n     <use x=\"1189.710938\" xlink:href=\"#DejaVuSans-115\"/>\r\n     <use x=\"1241.810547\" xlink:href=\"#DejaVuSans-105\"/>\r\n     <use x=\"1269.59375\" xlink:href=\"#DejaVuSans-97\"/>\r\n     <use x=\"1330.873047\" xlink:href=\"#DejaVuSans-110\"/>\r\n     <use x=\"1394.251953\" xlink:href=\"#DejaVuSans-32\"/>\r\n     <use x=\"1426.039062\" xlink:href=\"#DejaVuSans-78\"/>\r\n     <use x=\"1500.84375\" xlink:href=\"#DejaVuSans-97\"/>\r\n     <use x=\"1562.123047\" xlink:href=\"#DejaVuSans-105\"/>\r\n     <use x=\"1589.90625\" xlink:href=\"#DejaVuSans-118\"/>\r\n     <use x=\"1649.085938\" xlink:href=\"#DejaVuSans-101\"/>\r\n     <use x=\"1710.609375\" xlink:href=\"#DejaVuSans-32\"/>\r\n     <use x=\"1742.396484\" xlink:href=\"#DejaVuSans-66\"/>\r\n     <use x=\"1811\" xlink:href=\"#DejaVuSans-97\"/>\r\n     <use x=\"1872.279297\" xlink:href=\"#DejaVuSans-121\"/>\r\n     <use x=\"1931.458984\" xlink:href=\"#DejaVuSans-101\"/>\r\n     <use x=\"1992.982422\" xlink:href=\"#DejaVuSans-115\"/>\r\n     <use x=\"2045.082031\" xlink:href=\"#DejaVuSans-32\"/>\r\n     <use x=\"2076.869141\" xlink:href=\"#DejaVuSans-67\"/>\r\n     <use x=\"2146.693359\" xlink:href=\"#DejaVuSans-108\"/>\r\n     <use x=\"2174.476562\" xlink:href=\"#DejaVuSans-97\"/>\r\n     <use x=\"2235.755859\" xlink:href=\"#DejaVuSans-115\"/>\r\n     <use x=\"2287.855469\" xlink:href=\"#DejaVuSans-115\"/>\r\n     <use x=\"2339.955078\" xlink:href=\"#DejaVuSans-105\"/>\r\n     <use x=\"2367.738281\" xlink:href=\"#DejaVuSans-102\"/>\r\n     <use x=\"2402.943359\" xlink:href=\"#DejaVuSans-105\"/>\r\n     <use x=\"2430.726562\" xlink:href=\"#DejaVuSans-101\"/>\r\n     <use x=\"2492.25\" xlink:href=\"#DejaVuSans-114\"/>\r\n    </g>\r\n   </g>\r\n  </g>\r\n  <g id=\"axes_2\">\r\n   <g id=\"patch_7\">\r\n    <path clip-path=\"url(#p8034c1a4fc)\" d=\"M 347.4925 239.758125 \r\nL 347.4925 238.90875 \r\nL 347.4925 23.1675 \r\nL 347.4925 22.318125 \r\nL 358.3645 22.318125 \r\nL 358.3645 23.1675 \r\nL 358.3645 238.90875 \r\nL 358.3645 239.758125 \r\nz\r\n\" style=\"fill:#ffffff;stroke:#ffffff;stroke-linejoin:miter;stroke-width:0.01;\"/>\r\n   </g>\r\n   <image height=\"217\" id=\"image6a21da7472\" transform=\"scale(1 -1)translate(0 -217)\" width=\"11\" x=\"347\" xlink:href=\"data:image/png;base64,\r\niVBORw0KGgoAAAANSUhEUgAAAAsAAADZCAYAAAD2WsoCAAABHElEQVR4nO2YMQ4CMRADA8r/n0uByIYWukwxyIvuamvl2F4nutvjufc4/OYex9gxz+diMKEBsGMCLORcAH0HLEzpQhyEkwEYZgNwLk26kSEdzAbh7NHQeoPZ3bC+OvZGinRX+H9CI0Q67VWQckBkNzygdsNqDi50wAzOlZHnOh/stqjFuUBGGWezN8Dk5VWBlzrtcYKqQGxR7e5eJM9eP3sOIp0X6ALTwXOsScPLBrQ7osw9ndk9KLaot7AR0nn93DEbaLs9nc2/EKj5I3YwJBvslctoRKgBD2jRCJls2g1oeEHy7O4YpJDtZn8CxWycvxlTODNwht0h2fh/u69sfICh3YhGw8n1sia3VGNF0ECTycJedn+BO9ptTX4DblXiEVeBW/gAAAAASUVORK5CYII=\" y=\"-22\"/>\r\n   <g id=\"matplotlib.axis_3\"/>\r\n   <g id=\"matplotlib.axis_4\">\r\n    <g id=\"ytick_5\">\r\n     <g id=\"line2d_9\">\r\n      <defs>\r\n       <path d=\"M 0 0 \r\nL 3.5 0 \r\n\" id=\"m48abd0d0f0\" style=\"stroke:#000000;stroke-width:0.8;\"/>\r\n      </defs>\r\n      <g>\r\n       <use style=\"stroke:#000000;stroke-width:0.8;\" x=\"358.3645\" xlink:href=\"#m48abd0d0f0\" y=\"239.758125\"/>\r\n      </g>\r\n     </g>\r\n     <g id=\"text_28\">\r\n      <!-- 0 -->\r\n      <g transform=\"translate(365.3645 243.557344)scale(0.1 -0.1)\">\r\n       <use xlink:href=\"#DejaVuSans-48\"/>\r\n      </g>\r\n     </g>\r\n    </g>\r\n    <g id=\"ytick_6\">\r\n     <g id=\"line2d_10\">\r\n      <g>\r\n       <use style=\"stroke:#000000;stroke-width:0.8;\" x=\"358.3645\" xlink:href=\"#m48abd0d0f0\" y=\"206.305817\"/>\r\n      </g>\r\n     </g>\r\n     <g id=\"text_29\">\r\n      <!-- 2 -->\r\n      <g transform=\"translate(365.3645 210.105036)scale(0.1 -0.1)\">\r\n       <defs>\r\n        <path d=\"M 19.1875 8.296875 \r\nL 53.609375 8.296875 \r\nL 53.609375 0 \r\nL 7.328125 0 \r\nL 7.328125 8.296875 \r\nQ 12.9375 14.109375 22.625 23.890625 \r\nQ 32.328125 33.6875 34.8125 36.53125 \r\nQ 39.546875 41.84375 41.421875 45.53125 \r\nQ 43.3125 49.21875 43.3125 52.78125 \r\nQ 43.3125 58.59375 39.234375 62.25 \r\nQ 35.15625 65.921875 28.609375 65.921875 \r\nQ 23.96875 65.921875 18.8125 64.3125 \r\nQ 13.671875 62.703125 7.8125 59.421875 \r\nL 7.8125 69.390625 \r\nQ 13.765625 71.78125 18.9375 73 \r\nQ 24.125 74.21875 28.421875 74.21875 \r\nQ 39.75 74.21875 46.484375 68.546875 \r\nQ 53.21875 62.890625 53.21875 53.421875 \r\nQ 53.21875 48.921875 51.53125 44.890625 \r\nQ 49.859375 40.875 45.40625 35.40625 \r\nQ 44.1875 33.984375 37.640625 27.21875 \r\nQ 31.109375 20.453125 19.1875 8.296875 \r\nz\r\n\" id=\"DejaVuSans-50\"/>\r\n       </defs>\r\n       <use xlink:href=\"#DejaVuSans-50\"/>\r\n      </g>\r\n     </g>\r\n    </g>\r\n    <g id=\"ytick_7\">\r\n     <g id=\"line2d_11\">\r\n      <g>\r\n       <use style=\"stroke:#000000;stroke-width:0.8;\" x=\"358.3645\" xlink:href=\"#m48abd0d0f0\" y=\"172.85351\"/>\r\n      </g>\r\n     </g>\r\n     <g id=\"text_30\">\r\n      <!-- 4 -->\r\n      <g transform=\"translate(365.3645 176.652728)scale(0.1 -0.1)\">\r\n       <use xlink:href=\"#DejaVuSans-52\"/>\r\n      </g>\r\n     </g>\r\n    </g>\r\n    <g id=\"ytick_8\">\r\n     <g id=\"line2d_12\">\r\n      <g>\r\n       <use style=\"stroke:#000000;stroke-width:0.8;\" x=\"358.3645\" xlink:href=\"#m48abd0d0f0\" y=\"139.401202\"/>\r\n      </g>\r\n     </g>\r\n     <g id=\"text_31\">\r\n      <!-- 6 -->\r\n      <g transform=\"translate(365.3645 143.200421)scale(0.1 -0.1)\">\r\n       <defs>\r\n        <path d=\"M 33.015625 40.375 \r\nQ 26.375 40.375 22.484375 35.828125 \r\nQ 18.609375 31.296875 18.609375 23.390625 \r\nQ 18.609375 15.53125 22.484375 10.953125 \r\nQ 26.375 6.390625 33.015625 6.390625 \r\nQ 39.65625 6.390625 43.53125 10.953125 \r\nQ 47.40625 15.53125 47.40625 23.390625 \r\nQ 47.40625 31.296875 43.53125 35.828125 \r\nQ 39.65625 40.375 33.015625 40.375 \r\nz\r\nM 52.59375 71.296875 \r\nL 52.59375 62.3125 \r\nQ 48.875 64.0625 45.09375 64.984375 \r\nQ 41.3125 65.921875 37.59375 65.921875 \r\nQ 27.828125 65.921875 22.671875 59.328125 \r\nQ 17.53125 52.734375 16.796875 39.40625 \r\nQ 19.671875 43.65625 24.015625 45.921875 \r\nQ 28.375 48.1875 33.59375 48.1875 \r\nQ 44.578125 48.1875 50.953125 41.515625 \r\nQ 57.328125 34.859375 57.328125 23.390625 \r\nQ 57.328125 12.15625 50.6875 5.359375 \r\nQ 44.046875 -1.421875 33.015625 -1.421875 \r\nQ 20.359375 -1.421875 13.671875 8.265625 \r\nQ 6.984375 17.96875 6.984375 36.375 \r\nQ 6.984375 53.65625 15.1875 63.9375 \r\nQ 23.390625 74.21875 37.203125 74.21875 \r\nQ 40.921875 74.21875 44.703125 73.484375 \r\nQ 48.484375 72.75 52.59375 71.296875 \r\nz\r\n\" id=\"DejaVuSans-54\"/>\r\n       </defs>\r\n       <use xlink:href=\"#DejaVuSans-54\"/>\r\n      </g>\r\n     </g>\r\n    </g>\r\n    <g id=\"ytick_9\">\r\n     <g id=\"line2d_13\">\r\n      <g>\r\n       <use style=\"stroke:#000000;stroke-width:0.8;\" x=\"358.3645\" xlink:href=\"#m48abd0d0f0\" y=\"105.948894\"/>\r\n      </g>\r\n     </g>\r\n     <g id=\"text_32\">\r\n      <!-- 8 -->\r\n      <g transform=\"translate(365.3645 109.748113)scale(0.1 -0.1)\">\r\n       <defs>\r\n        <path d=\"M 31.78125 34.625 \r\nQ 24.75 34.625 20.71875 30.859375 \r\nQ 16.703125 27.09375 16.703125 20.515625 \r\nQ 16.703125 13.921875 20.71875 10.15625 \r\nQ 24.75 6.390625 31.78125 6.390625 \r\nQ 38.8125 6.390625 42.859375 10.171875 \r\nQ 46.921875 13.96875 46.921875 20.515625 \r\nQ 46.921875 27.09375 42.890625 30.859375 \r\nQ 38.875 34.625 31.78125 34.625 \r\nz\r\nM 21.921875 38.8125 \r\nQ 15.578125 40.375 12.03125 44.71875 \r\nQ 8.5 49.078125 8.5 55.328125 \r\nQ 8.5 64.0625 14.71875 69.140625 \r\nQ 20.953125 74.21875 31.78125 74.21875 \r\nQ 42.671875 74.21875 48.875 69.140625 \r\nQ 55.078125 64.0625 55.078125 55.328125 \r\nQ 55.078125 49.078125 51.53125 44.71875 \r\nQ 48 40.375 41.703125 38.8125 \r\nQ 48.828125 37.15625 52.796875 32.3125 \r\nQ 56.78125 27.484375 56.78125 20.515625 \r\nQ 56.78125 9.90625 50.3125 4.234375 \r\nQ 43.84375 -1.421875 31.78125 -1.421875 \r\nQ 19.734375 -1.421875 13.25 4.234375 \r\nQ 6.78125 9.90625 6.78125 20.515625 \r\nQ 6.78125 27.484375 10.78125 32.3125 \r\nQ 14.796875 37.15625 21.921875 38.8125 \r\nz\r\nM 18.3125 54.390625 \r\nQ 18.3125 48.734375 21.84375 45.5625 \r\nQ 25.390625 42.390625 31.78125 42.390625 \r\nQ 38.140625 42.390625 41.71875 45.5625 \r\nQ 45.3125 48.734375 45.3125 54.390625 \r\nQ 45.3125 60.0625 41.71875 63.234375 \r\nQ 38.140625 66.40625 31.78125 66.40625 \r\nQ 25.390625 66.40625 21.84375 63.234375 \r\nQ 18.3125 60.0625 18.3125 54.390625 \r\nz\r\n\" id=\"DejaVuSans-56\"/>\r\n       </defs>\r\n       <use xlink:href=\"#DejaVuSans-56\"/>\r\n      </g>\r\n     </g>\r\n    </g>\r\n    <g id=\"ytick_10\">\r\n     <g id=\"line2d_14\">\r\n      <g>\r\n       <use style=\"stroke:#000000;stroke-width:0.8;\" x=\"358.3645\" xlink:href=\"#m48abd0d0f0\" y=\"72.496587\"/>\r\n      </g>\r\n     </g>\r\n     <g id=\"text_33\">\r\n      <!-- 10 -->\r\n      <g transform=\"translate(365.3645 76.295805)scale(0.1 -0.1)\">\r\n       <use xlink:href=\"#DejaVuSans-49\"/>\r\n       <use x=\"63.623047\" xlink:href=\"#DejaVuSans-48\"/>\r\n      </g>\r\n     </g>\r\n    </g>\r\n    <g id=\"ytick_11\">\r\n     <g id=\"line2d_15\">\r\n      <g>\r\n       <use style=\"stroke:#000000;stroke-width:0.8;\" x=\"358.3645\" xlink:href=\"#m48abd0d0f0\" y=\"39.044279\"/>\r\n      </g>\r\n     </g>\r\n     <g id=\"text_34\">\r\n      <!-- 12 -->\r\n      <g transform=\"translate(365.3645 42.843498)scale(0.1 -0.1)\">\r\n       <use xlink:href=\"#DejaVuSans-49\"/>\r\n       <use x=\"63.623047\" xlink:href=\"#DejaVuSans-50\"/>\r\n      </g>\r\n     </g>\r\n    </g>\r\n   </g>\r\n   <g id=\"patch_8\">\r\n    <path d=\"M 347.4925 239.758125 \r\nL 347.4925 238.90875 \r\nL 347.4925 23.1675 \r\nL 347.4925 22.318125 \r\nL 358.3645 22.318125 \r\nL 358.3645 23.1675 \r\nL 358.3645 238.90875 \r\nL 358.3645 239.758125 \r\nz\r\n\" style=\"fill:none;stroke:#000000;stroke-linejoin:miter;stroke-width:0.8;\"/>\r\n   </g>\r\n  </g>\r\n </g>\r\n <defs>\r\n  <clipPath id=\"p67db63ef3c\">\r\n   <rect height=\"217.44\" width=\"217.44\" x=\"113.3125\" y=\"22.318125\"/>\r\n  </clipPath>\r\n  <clipPath id=\"p8034c1a4fc\">\r\n   <rect height=\"217.44\" width=\"10.872\" x=\"347.4925\" y=\"22.318125\"/>\r\n  </clipPath>\r\n </defs>\r\n</svg>\r\n",
      "image/png": "[encoded data removed]"
     },
     "metadata": {
      "needs_background": "light"
     }
    }
   ],
   "source": [
    "# Model with Gaussian Naive Bayes Classifier\n",
    "classifier = GaussianNB()\n",
    "classifier.fit(x_train, y_train)\n",
    "\n",
    "score_calulation(classifier, x_train, y_train, 'Train dataset Gaussian Naive Bayes Classifier')\n",
    "\n",
    "score_calulation(classifier, x_val, y_val, 'Validation dataset Gaussian Naive Bayes Classifier')"
   ]
  },
  {
   "cell_type": "code",
   "execution_count": 38,
   "metadata": {},
   "outputs": [
    {
     "output_type": "stream",
     "name": "stdout",
     "text": [
      "Iteration 1, loss = 12.55382033\n",
      "Iteration 2, loss = 11.00393278\n",
      "Iteration 3, loss = 9.97204742\n",
      "Iteration 4, loss = 8.91015361\n",
      "Iteration 5, loss = 8.12997702\n",
      "Iteration 6, loss = 7.60329608\n",
      "Iteration 7, loss = 6.88876404\n",
      "Iteration 8, loss = 5.95548297\n",
      "Iteration 9, loss = 5.00175032\n",
      "Iteration 10, loss = 3.95678278\n",
      "Iteration 11, loss = 3.00950478\n",
      "Iteration 12, loss = 2.81008224\n",
      "Iteration 13, loss = 3.76713491\n",
      "Iteration 14, loss = 4.52361518\n",
      "Iteration 15, loss = 4.54385140\n",
      "Iteration 16, loss = 4.05019111\n",
      "Iteration 17, loss = 3.20468657\n",
      "Iteration 18, loss = 2.77462094\n",
      "Iteration 19, loss = 2.86325802\n",
      "Iteration 20, loss = 2.34669884\n",
      "Iteration 21, loss = 1.65373863\n",
      "Iteration 22, loss = 1.93179867\n",
      "Iteration 23, loss = 2.00073189\n",
      "Iteration 24, loss = 1.92943997\n",
      "Iteration 25, loss = 1.92604609\n",
      "Iteration 26, loss = 1.83192603\n",
      "Iteration 27, loss = 1.62537611\n",
      "Iteration 28, loss = 1.42435333\n",
      "Iteration 29, loss = 1.46695716\n",
      "Iteration 30, loss = 1.62697627\n",
      "Iteration 31, loss = 1.41523107\n",
      "Iteration 32, loss = 1.38929948\n",
      "Iteration 33, loss = 1.41824435\n",
      "Iteration 34, loss = 1.44932655\n",
      "Iteration 35, loss = 1.45201508\n",
      "Iteration 36, loss = 1.38893670\n",
      "Iteration 37, loss = 1.32067133\n",
      "Iteration 38, loss = 1.29862921\n",
      "Iteration 39, loss = 1.30118452\n",
      "Iteration 40, loss = 1.29407087\n",
      "Iteration 41, loss = 1.25839241\n",
      "Iteration 42, loss = 1.23966276\n",
      "Iteration 43, loss = 1.26006147\n",
      "Iteration 44, loss = 1.26184882\n",
      "Iteration 45, loss = 1.26918968\n",
      "Iteration 46, loss = 1.20799022\n",
      "Iteration 47, loss = 1.20812462\n",
      "Iteration 48, loss = 1.17032402\n",
      "Iteration 49, loss = 1.17694792\n",
      "Iteration 50, loss = 1.20151616\n",
      "Iteration 51, loss = 1.15317519\n",
      "Iteration 52, loss = 1.19689438\n",
      "Iteration 53, loss = 1.16980438\n",
      "Iteration 54, loss = 1.12623860\n",
      "Iteration 55, loss = 1.13878540\n",
      "Iteration 56, loss = 1.12047972\n",
      "Iteration 57, loss = 1.12275518\n",
      "Iteration 58, loss = 1.14480582\n",
      "Iteration 59, loss = 1.10644425\n",
      "Iteration 60, loss = 1.13610359\n",
      "Iteration 61, loss = 1.12668338\n",
      "Iteration 62, loss = 1.09668558\n",
      "Iteration 63, loss = 1.10211814\n",
      "Iteration 64, loss = 1.08796483\n",
      "Iteration 65, loss = 1.09931276\n",
      "Iteration 66, loss = 1.10524776\n",
      "Iteration 67, loss = 1.08675532\n",
      "Iteration 68, loss = 1.06973157\n",
      "Iteration 69, loss = 1.06234456\n",
      "Iteration 70, loss = 1.06745201\n",
      "Iteration 71, loss = 1.04988757\n",
      "Iteration 72, loss = 1.04954162\n",
      "Iteration 73, loss = 1.04098046\n",
      "Iteration 74, loss = 1.05145921\n",
      "Iteration 75, loss = 1.05304324\n",
      "Iteration 76, loss = 1.03287585\n",
      "Iteration 77, loss = 1.04891097\n",
      "Iteration 78, loss = 1.03938711\n",
      "Iteration 79, loss = 1.01770892\n",
      "Iteration 80, loss = 1.05913223\n",
      "Iteration 81, loss = 1.01859779\n",
      "Iteration 82, loss = 1.01712677\n",
      "Iteration 83, loss = 1.00051919\n",
      "Iteration 84, loss = 0.99579787\n",
      "Iteration 85, loss = 0.99561192\n",
      "Iteration 86, loss = 0.99366632\n",
      "Iteration 87, loss = 0.99062618\n",
      "Iteration 88, loss = 0.99054766\n",
      "Iteration 89, loss = 0.98271230\n",
      "Iteration 90, loss = 0.98145832\n",
      "Iteration 91, loss = 0.97547777\n",
      "Iteration 92, loss = 0.99253327\n",
      "Iteration 93, loss = 0.96816026\n",
      "Iteration 94, loss = 0.96417540\n",
      "Iteration 95, loss = 0.96062129\n",
      "Iteration 96, loss = 0.96063151\n",
      "Iteration 97, loss = 0.95485433\n",
      "Iteration 98, loss = 0.95327359\n",
      "Iteration 99, loss = 0.96210139\n",
      "Iteration 100, loss = 0.95714751\n",
      "Iteration 101, loss = 0.98453408\n",
      "Iteration 102, loss = 0.96601764\n",
      "Iteration 103, loss = 0.95410441\n",
      "Iteration 104, loss = 0.94689683\n",
      "Iteration 105, loss = 0.94784959\n",
      "Iteration 106, loss = 0.93298842\n",
      "Iteration 107, loss = 0.96819116\n",
      "Iteration 108, loss = 0.92859237\n",
      "Iteration 109, loss = 0.94116237\n",
      "Iteration 110, loss = 0.93155231\n",
      "Iteration 111, loss = 0.92493497\n",
      "Iteration 112, loss = 0.96090008\n",
      "Iteration 113, loss = 0.93311637\n",
      "Iteration 114, loss = 0.94667913\n",
      "Iteration 115, loss = 0.92712897\n",
      "Iteration 116, loss = 0.90305033\n",
      "Iteration 117, loss = 0.89999164\n",
      "Iteration 118, loss = 0.90543737\n",
      "Iteration 119, loss = 0.90143695\n",
      "Iteration 120, loss = 0.88960033\n",
      "Iteration 121, loss = 0.89191205\n",
      "Iteration 122, loss = 0.88745030\n",
      "Iteration 123, loss = 0.89971871\n",
      "Iteration 124, loss = 0.88853377\n",
      "Iteration 125, loss = 0.88105508\n",
      "Iteration 126, loss = 0.88676155\n",
      "Iteration 127, loss = 0.89128464\n",
      "Iteration 128, loss = 0.87531177\n",
      "Iteration 129, loss = 0.89046761\n",
      "Iteration 130, loss = 0.88667307\n",
      "Iteration 131, loss = 0.89450565\n",
      "Iteration 132, loss = 0.87495013\n",
      "Iteration 133, loss = 0.89249828\n",
      "Iteration 134, loss = 0.87042815\n",
      "Iteration 135, loss = 0.86026464\n",
      "Iteration 136, loss = 0.88383218\n",
      "Iteration 137, loss = 0.86246830\n",
      "Iteration 138, loss = 0.87151248\n",
      "Iteration 139, loss = 0.87408151\n",
      "Iteration 140, loss = 0.84786519\n",
      "Iteration 141, loss = 0.85741864\n",
      "Iteration 142, loss = 0.84469567\n",
      "Iteration 143, loss = 0.85525671\n",
      "Iteration 144, loss = 0.85954541\n",
      "Iteration 145, loss = 0.83655410\n",
      "Iteration 146, loss = 0.85306453\n",
      "Iteration 147, loss = 0.83938099\n",
      "Iteration 148, loss = 0.83882814\n",
      "Iteration 149, loss = 0.82527983\n",
      "Iteration 150, loss = 0.83259251\n",
      "Iteration 151, loss = 0.83054612\n",
      "Iteration 152, loss = 0.83773255\n",
      "Iteration 153, loss = 0.81576154\n",
      "Iteration 154, loss = 0.82452084\n",
      "Iteration 155, loss = 0.81524630\n",
      "Iteration 156, loss = 0.81703036\n",
      "Iteration 157, loss = 0.82997315\n",
      "Iteration 158, loss = 0.86215003\n",
      "Iteration 159, loss = 0.87341423\n",
      "Iteration 160, loss = 0.82719390\n",
      "Iteration 161, loss = 0.86382637\n",
      "Iteration 162, loss = 0.81590235\n",
      "Iteration 163, loss = 0.81519787\n",
      "Iteration 164, loss = 0.79246714\n",
      "Iteration 165, loss = 0.79313202\n",
      "Iteration 166, loss = 0.78909380\n",
      "Iteration 167, loss = 0.78440409\n",
      "Iteration 168, loss = 0.78197738\n",
      "Iteration 169, loss = 0.78179010\n",
      "Iteration 170, loss = 0.77954745\n",
      "Iteration 171, loss = 0.77593240\n",
      "Iteration 172, loss = 0.77535434\n",
      "Iteration 173, loss = 0.78954771\n",
      "Iteration 174, loss = 0.80036991\n",
      "Iteration 175, loss = 0.76394807\n",
      "Iteration 176, loss = 0.84477365\n",
      "Iteration 177, loss = 0.79967900\n",
      "Iteration 178, loss = 0.82296931\n",
      "Iteration 179, loss = 0.77758610\n",
      "Iteration 180, loss = 0.82129430\n",
      "Iteration 181, loss = 0.77433408\n",
      "Iteration 182, loss = 0.80189371\n",
      "Iteration 183, loss = 0.76363523\n",
      "Iteration 184, loss = 0.84231055\n",
      "Iteration 185, loss = 0.75674725\n",
      "Iteration 186, loss = 0.78306777\n",
      "Iteration 187, loss = 0.75729578\n",
      "Iteration 188, loss = 0.76442294\n",
      "Iteration 189, loss = 0.74417842\n",
      "Iteration 190, loss = 0.74441988\n",
      "Iteration 191, loss = 0.77782993\n",
      "Iteration 192, loss = 0.73778062\n",
      "Iteration 193, loss = 0.79769911\n",
      "Iteration 194, loss = 0.74279258\n",
      "Iteration 195, loss = 0.78400474\n",
      "Iteration 196, loss = 0.73591977\n",
      "Iteration 197, loss = 0.84873379\n",
      "Iteration 198, loss = 0.76048956\n",
      "Iteration 199, loss = 0.80712162\n",
      "Iteration 200, loss = 0.77038253\n",
      "Iteration 201, loss = 0.77248304\n",
      "Iteration 202, loss = 0.79135404\n",
      "Iteration 203, loss = 0.73717770\n",
      "Iteration 204, loss = 0.73212699\n",
      "Iteration 205, loss = 0.72401699\n",
      "Iteration 206, loss = 0.71611840\n",
      "Iteration 207, loss = 0.74381150\n",
      "Iteration 208, loss = 0.71696895\n",
      "Iteration 209, loss = 0.73170330\n",
      "Iteration 210, loss = 0.74424058\n",
      "Iteration 211, loss = 0.70753175\n",
      "Iteration 212, loss = 0.79850060\n",
      "Iteration 213, loss = 0.75626644\n",
      "Iteration 214, loss = 0.70963697\n",
      "Iteration 215, loss = 0.79762098\n",
      "Iteration 216, loss = 0.71465381\n",
      "Iteration 217, loss = 0.74168403\n",
      "Iteration 218, loss = 0.71342082\n",
      "Iteration 219, loss = 0.76650654\n",
      "Iteration 220, loss = 0.75981287\n",
      "Iteration 221, loss = 0.72739667\n",
      "Iteration 222, loss = 0.71510528\n",
      "Training loss did not improve more than tol=0.000100 for 10 consecutive epochs. Stopping.\n",
      "Multi-layer Perceptron Classifier with hidden layers (2500, 250)  Learning rate 1e-05 and max iterations 300 F1 Score is 0.7580645161290323\n",
      "Iteration 1, loss = 12.08129942\n",
      "Iteration 2, loss = 6.98246768\n",
      "Iteration 3, loss = 12.49473497\n",
      "Iteration 4, loss = 10.28539591\n",
      "Iteration 5, loss = 4.07759920\n",
      "Iteration 6, loss = 5.86139730\n",
      "Iteration 7, loss = 4.82593275\n",
      "Iteration 8, loss = 3.55159125\n",
      "Iteration 9, loss = 3.86551083\n",
      "Iteration 10, loss = 4.20968211\n",
      "Iteration 11, loss = 2.77413724\n",
      "Iteration 12, loss = 2.76842139\n",
      "Iteration 13, loss = 4.67371395\n",
      "Iteration 14, loss = 2.84600497\n",
      "Iteration 15, loss = 2.28790752\n",
      "Iteration 16, loss = 2.90415954\n",
      "Iteration 17, loss = 2.46598080\n",
      "Iteration 18, loss = 2.13776418\n",
      "Iteration 19, loss = 2.76942117\n",
      "Iteration 20, loss = 2.10238260\n",
      "Iteration 21, loss = 1.74471678\n",
      "Iteration 22, loss = 1.84957164\n",
      "Iteration 23, loss = 1.79339063\n",
      "Iteration 24, loss = 1.38786549\n",
      "Iteration 25, loss = 1.22504156\n",
      "Iteration 26, loss = 1.11785497\n",
      "Iteration 27, loss = 0.99200013\n",
      "Iteration 28, loss = 2.15958544\n",
      "Iteration 29, loss = 1.76009235\n",
      "Iteration 30, loss = 1.71904635\n",
      "Iteration 31, loss = 0.99313483\n",
      "Iteration 32, loss = 1.20000075\n",
      "Iteration 33, loss = 1.05973251\n",
      "Iteration 34, loss = 1.51848292\n",
      "Iteration 35, loss = 1.81979200\n",
      "Iteration 36, loss = 2.62264822\n",
      "Iteration 37, loss = 1.81497087\n",
      "Iteration 38, loss = 1.45437481\n",
      "Training loss did not improve more than tol=0.000100 for 10 consecutive epochs. Stopping.\n",
      "Multi-layer Perceptron Classifier with hidden layers (2500, 250)  Learning rate 0.0001 and max iterations 300 F1 Score is 0.5161290322580645\n",
      "Iteration 1, loss = 12.91826989\n",
      "Iteration 2, loss = 20.43780822\n",
      "Iteration 3, loss = 21.59287493\n",
      "Iteration 4, loss = 20.40216450\n",
      "Iteration 5, loss = 18.15038429\n",
      "Iteration 6, loss = 10.47257286\n",
      "Iteration 7, loss = 7.79142397\n",
      "Iteration 8, loss = 5.15704103\n",
      "Iteration 9, loss = 7.99277409\n",
      "Iteration 10, loss = 8.65932446\n",
      "Iteration 11, loss = 7.04741419\n",
      "Iteration 12, loss = 3.31391251\n",
      "Iteration 13, loss = 2.47904982\n",
      "Iteration 14, loss = 2.40502279\n",
      "Iteration 15, loss = 3.08148834\n",
      "Iteration 16, loss = 3.05553048\n",
      "Iteration 17, loss = 2.63880216\n",
      "Iteration 18, loss = 3.32536997\n",
      "Iteration 19, loss = 1.82729794\n",
      "Iteration 20, loss = 2.59729660\n",
      "Iteration 21, loss = 1.57972465\n",
      "Iteration 22, loss = 1.84816130\n",
      "Iteration 23, loss = 1.56283319\n",
      "Iteration 24, loss = 1.81037800\n",
      "Iteration 25, loss = 1.70641874\n",
      "Iteration 26, loss = 1.83586924\n",
      "Iteration 27, loss = 1.87038213\n",
      "Iteration 28, loss = 2.37726234\n",
      "Iteration 29, loss = 1.52259948\n",
      "Iteration 30, loss = 2.18744004\n",
      "Iteration 31, loss = 2.18457360\n",
      "Iteration 32, loss = 1.31662162\n",
      "Iteration 33, loss = 0.94526415\n",
      "Iteration 34, loss = 1.10798505\n",
      "Iteration 35, loss = 0.78841371\n",
      "Iteration 36, loss = 0.95460665\n",
      "Iteration 37, loss = 0.93403430\n",
      "Iteration 38, loss = 1.59637487\n",
      "Iteration 39, loss = 1.55720171\n",
      "Iteration 40, loss = 1.56698496\n",
      "Iteration 41, loss = 1.13955589\n",
      "Iteration 42, loss = 1.96490434\n",
      "Iteration 43, loss = 1.41936097\n",
      "Iteration 44, loss = 0.98145763\n",
      "Iteration 45, loss = 0.95992734\n",
      "Iteration 46, loss = 1.14162414\n",
      "Training loss did not improve more than tol=0.000100 for 10 consecutive epochs. Stopping.\n",
      "Multi-layer Perceptron Classifier with hidden layers (2500, 250)  Learning rate 0.001 and max iterations 300 F1 Score is 0.7379032258064516\n",
      "Iteration 1, loss = 15.43330004\n",
      "Iteration 2, loss = 25.31298636\n",
      "Iteration 3, loss = 26.20634102\n",
      "Iteration 4, loss = 13.23908837\n",
      "Iteration 5, loss = 3.62929682\n",
      "Iteration 6, loss = 1.32390816\n",
      "Iteration 7, loss = 1.33432809\n",
      "Iteration 8, loss = 1.30763647\n",
      "Iteration 9, loss = 1.24389282\n",
      "Iteration 10, loss = 1.25915405\n",
      "Iteration 11, loss = 1.19444412\n",
      "Iteration 12, loss = 1.16775279\n",
      "Iteration 13, loss = 1.17080676\n",
      "Iteration 14, loss = 1.11576036\n",
      "Iteration 15, loss = 1.10159742\n",
      "Iteration 16, loss = 1.07716913\n",
      "Iteration 17, loss = 1.04766656\n",
      "Iteration 18, loss = 1.02767963\n",
      "Iteration 19, loss = 0.99617269\n",
      "Iteration 20, loss = 1.03019770\n",
      "Iteration 21, loss = 1.02767016\n",
      "Iteration 22, loss = 1.04071831\n",
      "Iteration 23, loss = 1.00732202\n",
      "Iteration 24, loss = 0.95959446\n",
      "Iteration 25, loss = 1.03254251\n",
      "Iteration 26, loss = 0.96416929\n",
      "Iteration 27, loss = 0.94160586\n",
      "Iteration 28, loss = 1.02644026\n",
      "Iteration 29, loss = 0.96195899\n",
      "Iteration 30, loss = 0.92466476\n",
      "Iteration 31, loss = 0.91434167\n",
      "Iteration 32, loss = 1.16168387\n",
      "Iteration 33, loss = 0.92512746\n",
      "Iteration 34, loss = 0.88626018\n",
      "Iteration 35, loss = 0.87280453\n",
      "Iteration 36, loss = 1.06703915\n",
      "Iteration 37, loss = 1.10145291\n",
      "Iteration 38, loss = 0.79265207\n",
      "Iteration 39, loss = 1.11730400\n",
      "Iteration 40, loss = 0.82920726\n",
      "Iteration 41, loss = 0.88578352\n",
      "Iteration 42, loss = 0.83015319\n",
      "Iteration 43, loss = 1.78336519\n",
      "Iteration 44, loss = 1.26330164\n",
      "Iteration 45, loss = 1.70645774\n",
      "Iteration 46, loss = 1.02330443\n",
      "Iteration 47, loss = 1.09234233\n",
      "Iteration 48, loss = 0.70697399\n",
      "Iteration 49, loss = 1.02349647\n",
      "Iteration 50, loss = 2.08397163\n",
      "Iteration 51, loss = 2.63887523\n",
      "Iteration 52, loss = 7.25417387\n",
      "Iteration 53, loss = 3.19577109\n",
      "Iteration 54, loss = 5.24442220\n",
      "Iteration 55, loss = 4.94124198\n",
      "Iteration 56, loss = 3.18867902\n",
      "Iteration 57, loss = 12.32953075\n",
      "Iteration 58, loss = 10.18630749\n",
      "Iteration 59, loss = 8.31867900\n",
      "Training loss did not improve more than tol=0.000100 for 10 consecutive epochs. Stopping.\n",
      "Multi-layer Perceptron Classifier with hidden layers (2500, 250)  Learning rate 0.01 and max iterations 300 F1 Score is 0.35080645161290325\n",
      "Iteration 1, loss = 15.45077857\n",
      "Iteration 2, loss = 26.60389656\n",
      "Iteration 3, loss = 14.18082196\n",
      "Iteration 4, loss = 1.94820461\n",
      "Iteration 5, loss = 1.49871951\n",
      "Iteration 6, loss = 1.46045444\n",
      "Iteration 7, loss = 3.03027286\n",
      "Iteration 8, loss = 13.70938765\n",
      "Iteration 9, loss = 25.49360931\n",
      "Iteration 10, loss = 23.27015015\n",
      "Iteration 11, loss = 2.02559051\n",
      "Iteration 12, loss = 1.68841683\n",
      "Iteration 13, loss = 1.55945510\n",
      "Iteration 14, loss = 1.56325175\n",
      "Iteration 15, loss = 1.61143132\n",
      "Iteration 16, loss = 1.61119735\n",
      "Iteration 17, loss = 1.57721100\n",
      "Training loss did not improve more than tol=0.000100 for 10 consecutive epochs. Stopping.\n",
      "Multi-layer Perceptron Classifier with hidden layers (2500, 250)  Learning rate 0.1 and max iterations 300 F1 Score is 0.2862903225806452\n",
      "Iteration 1, loss = 6.63040975\n",
      "Iteration 2, loss = 4.03431675\n",
      "Iteration 3, loss = 4.65922851\n",
      "Iteration 4, loss = 3.40463401\n",
      "Iteration 5, loss = 3.18744534\n",
      "Iteration 6, loss = 3.52580918\n",
      "Iteration 7, loss = 3.29555827\n",
      "Iteration 8, loss = 3.19016422\n",
      "Iteration 9, loss = 2.40368941\n",
      "Iteration 10, loss = 1.71032335\n",
      "Iteration 11, loss = 2.40391670\n",
      "Iteration 12, loss = 2.07207108\n",
      "Iteration 13, loss = 1.96672633\n",
      "Iteration 14, loss = 1.84715267\n",
      "Iteration 15, loss = 1.57651765\n",
      "Iteration 16, loss = 1.42847478\n",
      "Iteration 17, loss = 1.66527137\n",
      "Iteration 18, loss = 2.02729386\n",
      "Iteration 19, loss = 1.72344452\n",
      "Iteration 20, loss = 1.31915556\n",
      "Iteration 21, loss = 1.55283991\n",
      "Iteration 22, loss = 1.54041506\n",
      "Iteration 23, loss = 1.39235942\n",
      "Iteration 24, loss = 1.40216662\n",
      "Iteration 25, loss = 1.35048858\n",
      "Iteration 26, loss = 1.77045666\n",
      "Iteration 27, loss = 1.54573331\n",
      "Iteration 28, loss = 1.61092036\n",
      "Iteration 29, loss = 1.41659589\n",
      "Iteration 30, loss = 1.38039659\n",
      "Iteration 31, loss = 1.18654386\n",
      "Iteration 32, loss = 1.35424783\n",
      "Iteration 33, loss = 1.19638594\n",
      "Iteration 34, loss = 1.12812214\n",
      "Iteration 35, loss = 1.09603825\n",
      "Iteration 36, loss = 1.24670743\n",
      "Iteration 37, loss = 1.34221258\n",
      "Iteration 38, loss = 1.26533625\n",
      "Iteration 39, loss = 1.14456096\n",
      "Iteration 40, loss = 1.51422038\n",
      "Iteration 41, loss = 1.29712602\n",
      "Iteration 42, loss = 1.38801724\n",
      "Iteration 43, loss = 1.08512152\n",
      "Iteration 44, loss = 1.33017718\n",
      "Iteration 45, loss = 1.18837994\n",
      "Iteration 46, loss = 1.13742739\n",
      "Iteration 47, loss = 1.16858995\n",
      "Iteration 48, loss = 1.13070701\n",
      "Iteration 49, loss = 1.19146747\n",
      "Iteration 50, loss = 1.30578955\n",
      "Iteration 51, loss = 1.18824873\n",
      "Iteration 52, loss = 1.21910824\n",
      "Iteration 53, loss = 1.49653924\n",
      "Iteration 54, loss = 1.17146871\n",
      "Training loss did not improve more than tol=0.000100 for 10 consecutive epochs. Stopping.\n",
      "Multi-layer Perceptron Classifier with hidden layers (5000, 2500, 100)  Learning rate 1e-05 and max iterations 300 F1 Score is 0.46774193548387094\n",
      "Iteration 1, loss = 6.76848011\n",
      "Iteration 2, loss = 17.50272838\n",
      "Iteration 3, loss = 17.12854151\n",
      "Iteration 4, loss = 14.51223576\n",
      "Iteration 5, loss = 6.71216235\n",
      "Iteration 6, loss = 7.93597240\n",
      "Iteration 7, loss = 4.54278605\n",
      "Iteration 8, loss = 3.86812651\n",
      "Iteration 9, loss = 4.59275578\n",
      "Iteration 10, loss = 4.87148555\n",
      "Iteration 11, loss = 4.72926632\n",
      "Iteration 12, loss = 6.42852641\n",
      "Iteration 13, loss = 6.19934885\n",
      "Iteration 14, loss = 5.29824281\n",
      "Iteration 15, loss = 3.99322125\n",
      "Iteration 16, loss = 4.36975471\n",
      "Iteration 17, loss = 4.16960919\n",
      "Iteration 18, loss = 3.05170500\n",
      "Iteration 19, loss = 3.53318346\n",
      "Iteration 20, loss = 4.41513026\n",
      "Iteration 21, loss = 4.95831787\n",
      "Iteration 22, loss = 2.25710466\n",
      "Iteration 23, loss = 3.45020646\n",
      "Iteration 24, loss = 3.71864717\n",
      "Iteration 25, loss = 3.28897375\n",
      "Iteration 26, loss = 2.46769472\n",
      "Iteration 27, loss = 2.67991856\n",
      "Iteration 28, loss = 2.96218810\n",
      "Iteration 29, loss = 1.83243488\n",
      "Iteration 30, loss = 1.99757197\n",
      "Iteration 31, loss = 3.19568136\n",
      "Iteration 32, loss = 2.68333646\n",
      "Iteration 33, loss = 1.73047163\n",
      "Iteration 34, loss = 2.77080747\n",
      "Iteration 35, loss = 3.25818746\n",
      "Iteration 36, loss = 3.35108985\n",
      "Iteration 37, loss = 2.04575440\n",
      "Iteration 38, loss = 2.95056373\n",
      "Iteration 39, loss = 2.91748732\n",
      "Iteration 40, loss = 2.32162635\n",
      "Iteration 41, loss = 2.60575666\n",
      "Iteration 42, loss = 3.42760129\n",
      "Iteration 43, loss = 1.95428375\n",
      "Iteration 44, loss = 2.67183287\n",
      "Training loss did not improve more than tol=0.000100 for 10 consecutive epochs. Stopping.\n",
      "Multi-layer Perceptron Classifier with hidden layers (5000, 2500, 100)  Learning rate 0.0001 and max iterations 300 F1 Score is 0.5120967741935484\n",
      "Iteration 1, loss = 9.22331774\n",
      "Iteration 2, loss = 26.80721048\n",
      "Iteration 3, loss = 26.96933160\n",
      "Iteration 4, loss = 20.68960374\n",
      "Iteration 5, loss = 20.65394791\n",
      "Iteration 6, loss = 14.32120583\n",
      "Iteration 7, loss = 13.97799872\n",
      "Iteration 8, loss = 13.43105093\n",
      "Iteration 9, loss = 6.82610090\n",
      "Iteration 10, loss = 8.51167952\n",
      "Iteration 11, loss = 8.77579018\n",
      "Iteration 12, loss = 8.71118372\n",
      "Iteration 13, loss = 10.94130732\n",
      "Iteration 14, loss = 6.17441559\n",
      "Iteration 15, loss = 5.86607464\n",
      "Iteration 16, loss = 3.78184906\n",
      "Iteration 17, loss = 3.73903155\n",
      "Iteration 18, loss = 3.54942866\n",
      "Iteration 19, loss = 2.79945783\n",
      "Iteration 20, loss = 2.44383701\n",
      "Iteration 21, loss = 2.23640682\n",
      "Iteration 22, loss = 1.84508107\n",
      "Iteration 23, loss = 1.84116491\n",
      "Iteration 24, loss = 1.76317066\n",
      "Iteration 25, loss = 1.28514283\n",
      "Iteration 26, loss = 1.65024228\n",
      "Iteration 27, loss = 1.26731186\n",
      "Iteration 28, loss = 1.72855281\n",
      "Iteration 29, loss = 2.02940787\n",
      "Iteration 30, loss = 1.63284461\n",
      "Iteration 31, loss = 1.43326553\n",
      "Iteration 32, loss = 1.68417307\n",
      "Iteration 33, loss = 1.61616628\n",
      "Iteration 34, loss = 1.25621088\n",
      "Iteration 35, loss = 1.76278129\n",
      "Iteration 36, loss = 1.15570492\n",
      "Iteration 37, loss = 1.21095857\n",
      "Iteration 38, loss = 1.30199233\n",
      "Iteration 39, loss = 1.13317595\n",
      "Iteration 40, loss = 1.28260840\n",
      "Iteration 41, loss = 0.96880947\n",
      "Iteration 42, loss = 1.11532379\n",
      "Iteration 43, loss = 1.03568659\n",
      "Iteration 44, loss = 0.98810749\n",
      "Iteration 45, loss = 0.99245514\n",
      "Iteration 46, loss = 0.98807822\n",
      "Iteration 47, loss = 0.92374614\n",
      "Iteration 48, loss = 1.12848554\n",
      "Iteration 49, loss = 1.06974287\n",
      "Iteration 50, loss = 1.18711205\n",
      "Iteration 51, loss = 1.24164155\n",
      "Iteration 52, loss = 1.47066569\n",
      "Iteration 53, loss = 1.47284204\n",
      "Iteration 54, loss = 1.16085318\n",
      "Iteration 55, loss = 0.86402723\n",
      "Iteration 56, loss = 1.40383202\n",
      "Iteration 57, loss = 1.03245881\n",
      "Iteration 58, loss = 0.85395719\n",
      "Iteration 59, loss = 1.12006095\n",
      "Iteration 60, loss = 1.35178181\n",
      "Iteration 61, loss = 1.11736181\n",
      "Iteration 62, loss = 0.99386311\n",
      "Iteration 63, loss = 0.90584197\n",
      "Iteration 64, loss = 0.84619863\n",
      "Iteration 65, loss = 0.87270231\n",
      "Iteration 66, loss = 0.84399535\n",
      "Iteration 67, loss = 1.00831044\n",
      "Iteration 68, loss = 0.73294820\n",
      "Iteration 69, loss = 0.95918973\n",
      "Iteration 70, loss = 0.74056791\n",
      "Iteration 71, loss = 0.79074781\n",
      "Iteration 72, loss = 0.73910114\n",
      "Iteration 73, loss = 0.73448696\n",
      "Iteration 74, loss = 0.68569075\n",
      "Iteration 75, loss = 0.66723350\n",
      "Iteration 76, loss = 0.69990862\n",
      "Iteration 77, loss = 0.62922345\n",
      "Iteration 78, loss = 0.63053887\n",
      "Iteration 79, loss = 0.58925049\n",
      "Iteration 80, loss = 0.50386793\n",
      "Iteration 81, loss = 0.60193458\n",
      "Iteration 82, loss = 0.51203192\n",
      "Iteration 83, loss = 0.47706287\n",
      "Iteration 84, loss = 0.45074560\n",
      "Iteration 85, loss = 0.46196454\n",
      "Iteration 86, loss = 0.50664314\n",
      "Iteration 87, loss = 0.46721920\n",
      "Iteration 88, loss = 0.47768015\n",
      "Iteration 89, loss = 0.55763481\n",
      "Iteration 90, loss = 0.44510103\n",
      "Iteration 91, loss = 0.34379396\n",
      "Iteration 92, loss = 0.40869304\n",
      "Iteration 93, loss = 0.31667606\n",
      "Iteration 94, loss = 0.33996462\n",
      "Iteration 95, loss = 0.33862922\n",
      "Iteration 96, loss = 0.38169388\n",
      "Iteration 97, loss = 0.32950110\n",
      "Iteration 98, loss = 0.27764348\n",
      "Iteration 99, loss = 0.30359362\n",
      "Iteration 100, loss = 0.31276292\n",
      "Iteration 101, loss = 0.31152164\n",
      "Iteration 102, loss = 0.37255747\n",
      "Iteration 103, loss = 0.34437975\n",
      "Iteration 104, loss = 0.24613576\n",
      "Iteration 105, loss = 0.42594336\n",
      "Iteration 106, loss = 0.31203962\n",
      "Iteration 107, loss = 0.26729475\n",
      "Iteration 108, loss = 0.32610862\n",
      "Iteration 109, loss = 0.41445189\n",
      "Iteration 110, loss = 0.52040099\n",
      "Iteration 111, loss = 0.51939246\n",
      "Iteration 112, loss = 0.45464013\n",
      "Iteration 113, loss = 0.25748149\n",
      "Iteration 114, loss = 0.29996916\n",
      "Iteration 115, loss = 0.31614486\n",
      "Training loss did not improve more than tol=0.000100 for 10 consecutive epochs. Stopping.\n",
      "Multi-layer Perceptron Classifier with hidden layers (5000, 2500, 100)  Learning rate 0.001 and max iterations 300 F1 Score is 0.907258064516129\n",
      "Iteration 1, loss = 10.73145773\n",
      "Iteration 2, loss = 26.88793690\n",
      "Iteration 3, loss = 26.57895550\n",
      "Iteration 4, loss = 26.88841959\n",
      "Iteration 5, loss = 24.03910144\n",
      "Iteration 6, loss = 12.74863317\n",
      "Iteration 7, loss = 7.03524558\n",
      "Iteration 8, loss = 3.99962232\n",
      "Iteration 9, loss = 5.32748465\n",
      "Iteration 10, loss = 4.79108708\n",
      "Iteration 11, loss = 2.57974724\n",
      "Iteration 12, loss = 2.73802317\n",
      "Iteration 13, loss = 2.35481933\n",
      "Iteration 14, loss = 2.33015091\n",
      "Iteration 15, loss = 1.96834030\n",
      "Iteration 16, loss = 1.46235857\n",
      "Iteration 17, loss = 1.32298711\n",
      "Iteration 18, loss = 1.38026987\n",
      "Iteration 19, loss = 1.40778465\n",
      "Iteration 20, loss = 1.30356694\n",
      "Iteration 21, loss = 1.26960090\n",
      "Iteration 22, loss = 1.26005100\n",
      "Iteration 23, loss = 1.17717079\n",
      "Iteration 24, loss = 1.16680427\n",
      "Iteration 25, loss = 1.12067701\n",
      "Iteration 26, loss = 1.46845848\n",
      "Iteration 27, loss = 1.40051301\n",
      "Iteration 28, loss = 1.37350126\n",
      "Iteration 29, loss = 1.27790440\n",
      "Iteration 30, loss = 1.12218066\n",
      "Iteration 31, loss = 1.15962345\n",
      "Iteration 32, loss = 1.07582765\n",
      "Iteration 33, loss = 1.26491010\n",
      "Iteration 34, loss = 1.26860991\n",
      "Iteration 35, loss = 1.24361994\n",
      "Iteration 36, loss = 1.50534282\n",
      "Iteration 37, loss = 1.26263675\n",
      "Iteration 38, loss = 1.28306612\n",
      "Iteration 39, loss = 1.20194172\n",
      "Iteration 40, loss = 1.12987002\n",
      "Iteration 41, loss = 0.96656961\n",
      "Iteration 42, loss = 0.94784531\n",
      "Iteration 43, loss = 1.33273392\n",
      "Iteration 44, loss = 1.13516163\n",
      "Iteration 45, loss = 0.89237452\n",
      "Iteration 46, loss = 0.96217839\n",
      "Iteration 47, loss = 1.07348363\n",
      "Iteration 48, loss = 1.36995959\n",
      "Iteration 49, loss = 1.57123506\n",
      "Iteration 50, loss = 1.45805582\n",
      "Iteration 51, loss = 1.34099998\n",
      "Iteration 52, loss = 1.92513381\n",
      "Iteration 53, loss = 1.59804417\n",
      "Iteration 54, loss = 3.60878430\n",
      "Iteration 55, loss = 2.21646745\n",
      "Iteration 56, loss = 4.05299573\n",
      "Training loss did not improve more than tol=0.000100 for 10 consecutive epochs. Stopping.\n",
      "Multi-layer Perceptron Classifier with hidden layers (5000, 2500, 100)  Learning rate 0.01 and max iterations 300 F1 Score is 0.3467741935483871\n",
      "Iteration 1, loss = 10.73448096\n",
      "Iteration 2, loss = 26.90557824\n",
      "Iteration 3, loss = 27.94371737\n",
      "Iteration 4, loss = 27.38617152\n",
      "Iteration 5, loss = 28.28149616\n",
      "Iteration 6, loss = 26.39029870\n",
      "Iteration 7, loss = 26.22375802\n",
      "Iteration 8, loss = 28.32048586\n",
      "Iteration 9, loss = 26.30548702\n",
      "Iteration 10, loss = 10.80306772\n",
      "Iteration 11, loss = 1.59366308\n",
      "Iteration 12, loss = 1.61949226\n",
      "Iteration 13, loss = 1.64218395\n",
      "Iteration 14, loss = 1.65953444\n",
      "Iteration 15, loss = 1.67136440\n",
      "Iteration 16, loss = 1.67804377\n",
      "Iteration 17, loss = 1.68128003\n",
      "Iteration 18, loss = 1.68037183\n",
      "Iteration 19, loss = 1.67851731\n",
      "Iteration 20, loss = 1.67623021\n",
      "Iteration 21, loss = 1.67227693\n",
      "Iteration 22, loss = 1.67070854\n",
      "Training loss did not improve more than tol=0.000100 for 10 consecutive epochs. Stopping.\n",
      "Multi-layer Perceptron Classifier with hidden layers (5000, 2500, 100)  Learning rate 0.1 and max iterations 300 F1 Score is 0.2862903225806452\n",
      "Iteration 1, loss = 9.83672141\n",
      "Iteration 2, loss = 3.33103820\n",
      "Iteration 3, loss = 4.95852197\n",
      "Iteration 4, loss = 4.72885705\n",
      "Iteration 5, loss = 3.97942374\n",
      "Iteration 6, loss = 2.89293069\n",
      "Iteration 7, loss = 1.57174365\n",
      "Iteration 8, loss = 2.58748404\n",
      "Iteration 9, loss = 2.21986234\n",
      "Iteration 10, loss = 1.46643242\n",
      "Iteration 11, loss = 1.74168595\n",
      "Iteration 12, loss = 1.65179434\n",
      "Iteration 13, loss = 1.45447917\n",
      "Iteration 14, loss = 1.55777675\n",
      "Iteration 15, loss = 1.49418355\n",
      "Iteration 16, loss = 1.30716156\n",
      "Iteration 17, loss = 1.34274604\n",
      "Iteration 18, loss = 1.29993906\n",
      "Iteration 19, loss = 1.32227100\n",
      "Iteration 20, loss = 1.21839442\n",
      "Iteration 21, loss = 1.18244739\n",
      "Iteration 22, loss = 1.26628126\n",
      "Iteration 23, loss = 1.26575758\n",
      "Iteration 24, loss = 1.17630378\n",
      "Iteration 25, loss = 1.43750196\n",
      "Iteration 26, loss = 1.33890713\n",
      "Iteration 27, loss = 1.49844943\n",
      "Iteration 28, loss = 1.20566647\n",
      "Iteration 29, loss = 1.47485874\n",
      "Iteration 30, loss = 1.31448457\n",
      "Iteration 31, loss = 1.29582172\n",
      "Iteration 32, loss = 1.35496597\n",
      "Iteration 33, loss = 1.17529905\n",
      "Iteration 34, loss = 1.11625256\n",
      "Iteration 35, loss = 1.13049743\n",
      "Iteration 36, loss = 1.12420908\n",
      "Iteration 37, loss = 1.15883209\n",
      "Iteration 38, loss = 1.05961866\n",
      "Iteration 39, loss = 1.12336530\n",
      "Iteration 40, loss = 1.05444778\n",
      "Iteration 41, loss = 1.13767386\n",
      "Iteration 42, loss = 1.10371792\n",
      "Iteration 43, loss = 1.21378463\n",
      "Iteration 44, loss = 1.07154378\n",
      "Iteration 45, loss = 1.38243249\n",
      "Iteration 46, loss = 1.32637892\n",
      "Iteration 47, loss = 1.13957441\n",
      "Iteration 48, loss = 1.29215764\n",
      "Iteration 49, loss = 1.07609090\n",
      "Iteration 50, loss = 1.18226651\n",
      "Iteration 51, loss = 1.21117935\n",
      "Training loss did not improve more than tol=0.000100 for 10 consecutive epochs. Stopping.\n",
      "Multi-layer Perceptron Classifier with hidden layers (4000, 2000, 500, 100)  Learning rate 1e-05 and max iterations 300 F1 Score is 0.5\n",
      "Iteration 1, loss = 10.93457724\n",
      "Iteration 2, loss = 18.30190460\n",
      "Iteration 3, loss = 13.13093929\n",
      "Iteration 4, loss = 10.63600520\n",
      "Iteration 5, loss = 6.57915251\n",
      "Iteration 6, loss = 5.44477441\n",
      "Iteration 7, loss = 6.93033296\n",
      "Iteration 8, loss = 5.24600957\n",
      "Iteration 9, loss = 5.79893465\n",
      "Iteration 10, loss = 3.79827592\n",
      "Iteration 11, loss = 3.59571171\n",
      "Iteration 12, loss = 4.43913301\n",
      "Iteration 13, loss = 2.49734514\n",
      "Iteration 14, loss = 3.24565960\n",
      "Iteration 15, loss = 3.40729072\n",
      "Iteration 16, loss = 2.75834101\n",
      "Iteration 17, loss = 2.69380225\n",
      "Iteration 18, loss = 4.20437124\n",
      "Iteration 19, loss = 3.13997707\n",
      "Iteration 20, loss = 3.06936328\n",
      "Iteration 21, loss = 4.41557703\n",
      "Iteration 22, loss = 3.81393765\n",
      "Iteration 23, loss = 3.00109420\n",
      "Iteration 24, loss = 2.65007907\n",
      "Training loss did not improve more than tol=0.000100 for 10 consecutive epochs. Stopping.\n",
      "Multi-layer Perceptron Classifier with hidden layers (4000, 2000, 500, 100)  Learning rate 0.0001 and max iterations 300 F1 Score is 0.3346774193548387\n",
      "Iteration 1, loss = 12.17064959\n",
      "Iteration 2, loss = 27.32374711\n",
      "Iteration 3, loss = 26.01800959\n",
      "Iteration 4, loss = 15.64773030\n",
      "Iteration 5, loss = 17.19107381\n",
      "Iteration 6, loss = 21.89778671\n",
      "Iteration 7, loss = 21.38764865\n",
      "Iteration 8, loss = 18.10127304\n",
      "Iteration 9, loss = 13.38103494\n",
      "Iteration 10, loss = 5.50708055\n",
      "Iteration 11, loss = 9.85570302\n",
      "Iteration 12, loss = 7.11907494\n",
      "Iteration 13, loss = 4.69768329\n",
      "Iteration 14, loss = 5.02768624\n",
      "Iteration 15, loss = 3.03297116\n",
      "Iteration 16, loss = 7.04953652\n",
      "Iteration 17, loss = 5.94334899\n",
      "Iteration 18, loss = 3.47438706\n",
      "Iteration 19, loss = 4.03349829\n",
      "Iteration 20, loss = 3.58391100\n",
      "Iteration 21, loss = 3.84771790\n",
      "Iteration 22, loss = 1.96306730\n",
      "Iteration 23, loss = 3.10421767\n",
      "Iteration 24, loss = 2.05888291\n",
      "Iteration 25, loss = 2.36680181\n",
      "Iteration 26, loss = 2.27876974\n",
      "Iteration 27, loss = 1.69613331\n",
      "Iteration 28, loss = 2.23718605\n",
      "Iteration 29, loss = 2.67426887\n",
      "Iteration 30, loss = 1.41563128\n",
      "Iteration 31, loss = 1.76864982\n",
      "Iteration 32, loss = 1.69958432\n",
      "Iteration 33, loss = 1.47505325\n",
      "Iteration 34, loss = 1.25938593\n",
      "Iteration 35, loss = 1.40447892\n",
      "Iteration 36, loss = 1.15978059\n",
      "Iteration 37, loss = 1.20927603\n",
      "Iteration 38, loss = 1.29848596\n",
      "Iteration 39, loss = 1.09793966\n",
      "Iteration 40, loss = 1.17314209\n",
      "Iteration 41, loss = 1.24109445\n",
      "Iteration 42, loss = 1.41555531\n",
      "Iteration 43, loss = 1.23833217\n",
      "Iteration 44, loss = 1.26367508\n",
      "Iteration 45, loss = 1.08604451\n",
      "Iteration 46, loss = 0.96539514\n",
      "Iteration 47, loss = 0.95138174\n",
      "Iteration 48, loss = 1.01567239\n",
      "Iteration 49, loss = 0.94251293\n",
      "Iteration 50, loss = 0.95541761\n",
      "Iteration 51, loss = 1.15068541\n",
      "Iteration 52, loss = 0.89179589\n",
      "Iteration 53, loss = 0.95942131\n",
      "Iteration 54, loss = 1.02400994\n",
      "Iteration 55, loss = 0.86293413\n",
      "Iteration 56, loss = 0.89601822\n",
      "Iteration 57, loss = 1.08637461\n",
      "Iteration 58, loss = 0.94637783\n",
      "Iteration 59, loss = 0.84597549\n",
      "Iteration 60, loss = 0.75398143\n",
      "Iteration 61, loss = 0.71119017\n",
      "Iteration 62, loss = 0.71583034\n",
      "Iteration 63, loss = 0.66077260\n",
      "Iteration 64, loss = 0.76356192\n",
      "Iteration 65, loss = 0.65343658\n",
      "Iteration 66, loss = 0.66062910\n",
      "Iteration 67, loss = 0.74017337\n",
      "Iteration 68, loss = 0.60960603\n",
      "Iteration 69, loss = 0.63299163\n",
      "Iteration 70, loss = 0.56370534\n",
      "Iteration 71, loss = 0.53574222\n",
      "Iteration 72, loss = 0.71834242\n",
      "Iteration 73, loss = 0.60897853\n",
      "Iteration 74, loss = 0.50145669\n",
      "Iteration 75, loss = 0.53001823\n",
      "Iteration 76, loss = 0.58974981\n",
      "Iteration 77, loss = 0.59233628\n",
      "Iteration 78, loss = 0.53831908\n",
      "Iteration 79, loss = 0.95829617\n",
      "Iteration 80, loss = 0.87217618\n",
      "Iteration 81, loss = 1.12508468\n",
      "Iteration 82, loss = 1.43089004\n",
      "Iteration 83, loss = 1.08048348\n",
      "Iteration 84, loss = 0.76216071\n",
      "Iteration 85, loss = 0.82055805\n",
      "Training loss did not improve more than tol=0.000100 for 10 consecutive epochs. Stopping.\n",
      "Multi-layer Perceptron Classifier with hidden layers (4000, 2000, 500, 100)  Learning rate 0.001 and max iterations 300 F1 Score is 0.8104838709677419\n",
      "Iteration 1, loss = 13.37168889\n",
      "Iteration 2, loss = 27.32388698\n",
      "Iteration 3, loss = 17.60253376\n",
      "Iteration 4, loss = 10.92034890\n",
      "Iteration 5, loss = 15.55773553\n",
      "Iteration 6, loss = 12.33220984\n",
      "Iteration 7, loss = 6.86525596\n",
      "Iteration 8, loss = 4.48184374\n",
      "Iteration 9, loss = 2.88124433\n",
      "Iteration 10, loss = 2.12365954\n",
      "Iteration 11, loss = 1.46876667\n",
      "Iteration 12, loss = 1.46299669\n",
      "Iteration 13, loss = 1.40981757\n",
      "Iteration 14, loss = 1.35608997\n",
      "Iteration 15, loss = 1.32304453\n",
      "Iteration 16, loss = 1.30845178\n",
      "Iteration 17, loss = 1.30314936\n",
      "Iteration 18, loss = 1.29781040\n",
      "Iteration 19, loss = 1.29589931\n",
      "Iteration 20, loss = 1.26848708\n",
      "Iteration 21, loss = 1.22896431\n",
      "Iteration 22, loss = 1.21480481\n",
      "Iteration 23, loss = 1.29476318\n",
      "Iteration 24, loss = 1.22665344\n",
      "Iteration 25, loss = 1.14140412\n",
      "Iteration 26, loss = 1.12995016\n",
      "Iteration 27, loss = 1.09833171\n",
      "Iteration 28, loss = 1.06686475\n",
      "Iteration 29, loss = 1.08239925\n",
      "Iteration 30, loss = 1.15331797\n",
      "Iteration 31, loss = 1.21061796\n",
      "Iteration 32, loss = 1.09083585\n",
      "Iteration 33, loss = 1.03810420\n",
      "Iteration 34, loss = 0.99968591\n",
      "Iteration 35, loss = 1.00858640\n",
      "Iteration 36, loss = 3.11592393\n",
      "Iteration 37, loss = 1.92909011\n",
      "Iteration 38, loss = 2.45908496\n",
      "Iteration 39, loss = 3.24690282\n",
      "Iteration 40, loss = 1.82980985\n",
      "Iteration 41, loss = 1.38582797\n",
      "Iteration 42, loss = 1.46826762\n",
      "Iteration 43, loss = 1.38658084\n",
      "Iteration 44, loss = 1.36796232\n",
      "Iteration 45, loss = 1.35828374\n",
      "Training loss did not improve more than tol=0.000100 for 10 consecutive epochs. Stopping.\n",
      "Multi-layer Perceptron Classifier with hidden layers (4000, 2000, 500, 100)  Learning rate 0.01 and max iterations 300 F1 Score is 0.32661290322580644\n",
      "Iteration 1, loss = 13.37412843\n",
      "Iteration 2, loss = 27.33715116\n",
      "Iteration 3, loss = 26.19030204\n",
      "Iteration 4, loss = 26.56011008\n",
      "Iteration 5, loss = 25.06658671\n",
      "Iteration 6, loss = 16.64166374\n",
      "Iteration 7, loss = 24.61957927\n",
      "Iteration 8, loss = 25.19350868\n",
      "Iteration 9, loss = 26.71548710\n",
      "Iteration 10, loss = 18.63383020\n",
      "Iteration 11, loss = 16.47685842\n",
      "Iteration 12, loss = 14.22482042\n",
      "Training loss did not improve more than tol=0.000100 for 10 consecutive epochs. Stopping.\n",
      "Multi-layer Perceptron Classifier with hidden layers (4000, 2000, 500, 100)  Learning rate 0.1 and max iterations 300 F1 Score is 0.24193548387096775\n"
     ]
    }
   ],
   "source": [
    "# Model with Multi-layer Perceptron Classifier\n",
    "hidden_layer_sizes_val = [(2500, 250, ), (5000, 2500, 100, ), (4000, 2000, 500, 100, ) ] #, (4000, 3000, 2000, 1000, 500, 250, 100, )\n",
    "max_iter_val = [300] #[50, 100, 200, 300, 400, 500]\n",
    "learning_rate = [ 0.00001, 0.0001, 0.001]\n",
    "\n",
    "for i in range(len(hidden_layer_sizes_val)):\n",
    "    for j in range(len(max_iter_val)):\n",
    "        for t in range(len(learning_rate)):\n",
    "            classifier = MLPClassifier(hidden_layer_sizes=hidden_layer_sizes_val[i], learning_rate_init=learning_rate[t], max_iter=max_iter_val[j], activation = 'relu', solver='adam', alpha=0.00001,random_state=1, verbose=True)\n",
    "            classifier.fit(x_train, y_train)\n",
    "            y_pred = classifier.predict(x_train)\n",
    "            f1_score_t = f1_score(y_train, y_pred, average='micro')\n",
    "            print_out = 'Multi-layer Perceptron Classifier with hidden layers ' +  str(hidden_layer_sizes_val[i]) +  '  Learning rate ' + str(learning_rate[t]) + ' and max iterations ' + str(max_iter_val[j]) + ' F1 Score is ' + str(f1_score_t)\n",
    "            print(print_out)"
   ]
  },
  {
   "cell_type": "code",
   "execution_count": 39,
   "metadata": {},
   "outputs": [
    {
     "output_type": "stream",
     "name": "stdout",
     "text": [
      "Iteration 1, loss = 9.26434352\n",
      "Iteration 2, loss = 26.82746599\n",
      "Iteration 3, loss = 26.94926942\n",
      "Iteration 4, loss = 20.88829881\n",
      "Iteration 5, loss = 20.15840485\n",
      "Iteration 6, loss = 13.55443258\n",
      "Iteration 7, loss = 14.42962912\n",
      "Iteration 8, loss = 15.10240753\n",
      "Iteration 9, loss = 8.04330663\n",
      "Iteration 10, loss = 7.74215998\n",
      "Iteration 11, loss = 5.73495820\n",
      "Iteration 12, loss = 5.43979062\n",
      "Iteration 13, loss = 3.68439491\n",
      "Iteration 14, loss = 3.83691464\n",
      "Iteration 15, loss = 3.67232778\n",
      "Iteration 16, loss = 3.30449914\n",
      "Iteration 17, loss = 2.75314204\n",
      "Iteration 18, loss = 2.81151083\n",
      "Iteration 19, loss = 2.45117872\n",
      "Iteration 20, loss = 2.56618626\n",
      "Iteration 21, loss = 2.28885595\n",
      "Iteration 22, loss = 2.26935683\n",
      "Iteration 23, loss = 1.90852984\n",
      "Iteration 24, loss = 1.86502204\n",
      "Iteration 25, loss = 1.92247921\n",
      "Iteration 26, loss = 2.95861637\n",
      "Iteration 27, loss = 2.13218810\n",
      "Iteration 28, loss = 2.15608506\n",
      "Iteration 29, loss = 2.55220354\n",
      "Iteration 30, loss = 1.63184276\n",
      "Iteration 31, loss = 1.80008180\n",
      "Iteration 32, loss = 1.87678231\n",
      "Iteration 33, loss = 1.68692559\n",
      "Iteration 34, loss = 1.66705482\n",
      "Iteration 35, loss = 1.74689202\n",
      "Iteration 36, loss = 1.41798773\n",
      "Iteration 37, loss = 1.11565980\n",
      "Iteration 38, loss = 1.55615321\n",
      "Iteration 39, loss = 1.60617697\n",
      "Iteration 40, loss = 1.32186333\n",
      "Iteration 41, loss = 1.59197416\n",
      "Iteration 42, loss = 1.08268823\n",
      "Iteration 43, loss = 1.33619750\n",
      "Iteration 44, loss = 1.04842873\n",
      "Iteration 45, loss = 1.32917362\n",
      "Iteration 46, loss = 1.16655993\n",
      "Iteration 47, loss = 0.95021109\n",
      "Iteration 48, loss = 1.85700269\n",
      "Iteration 49, loss = 1.46265460\n",
      "Iteration 50, loss = 1.97681176\n",
      "Iteration 51, loss = 1.62662181\n",
      "Iteration 52, loss = 0.79662236\n",
      "Iteration 53, loss = 1.17202306\n",
      "Iteration 54, loss = 1.08399138\n",
      "Iteration 55, loss = 1.08921411\n",
      "Iteration 56, loss = 1.11713133\n",
      "Iteration 57, loss = 1.01348507\n",
      "Iteration 58, loss = 0.80258451\n",
      "Iteration 59, loss = 0.83607542\n",
      "Iteration 60, loss = 1.10112858\n",
      "Iteration 61, loss = 0.95653427\n",
      "Iteration 62, loss = 1.44060494\n",
      "Iteration 63, loss = 1.25556105\n",
      "Training loss did not improve more than tol=0.000100 for 10 consecutive epochs. Stopping.\n",
      "Result Train dataset Multi-layer Perceptron Classifier\n",
      "F1 Score is  0.8145161290322581\n",
      "Accuracy  Score is  0.8145161290322581\n",
      "Recall Score is  0.8145161290322581\n",
      "Train dataset Multi-layer Perceptron Classifier\n",
      "[[44  2 10  4]\n",
      " [ 3 46  4  1]\n",
      " [ 7  0 56  0]\n",
      " [ 7  2  6 56]]\n",
      "Result Validation dataset Multi-layer Perceptron  Classifier\n",
      "F1 Score is  0.8888888888888888\n",
      "Accuracy  Score is  0.8888888888888888\n",
      "Recall Score is  0.8888888888888888\n",
      "Validation dataset Multi-layer Perceptron  Classifier\n",
      "[[ 4  0  1  0]\n",
      " [ 0  8  1  0]\n",
      " [ 0  1 12  0]\n",
      " [ 0  0  1  8]]\n"
     ]
    },
    {
     "output_type": "display_data",
     "data": {
      "text/plain": "<Figure size 432x288 with 2 Axes>",
      "image/svg+xml": "<?xml version=\"1.0\" encoding=\"utf-8\" standalone=\"no\"?>\r\n<!DOCTYPE svg PUBLIC \"-//W3C//DTD SVG 1.1//EN\"\r\n  \"http://www.w3.org/Graphics/SVG/1.1/DTD/svg11.dtd\">\r\n<!-- Created with matplotlib (https://matplotlib.org/) -->\r\n<svg height=\"277.314375pt\" version=\"1.1\" viewBox=\"0 0 385.2895 277.314375\" width=\"385.2895pt\" xmlns=\"http://www.w3.org/2000/svg\" xmlns:xlink=\"http://www.w3.org/1999/xlink\">\r\n <metadata>\r\n  <rdf:RDF xmlns:cc=\"http://creativecommons.org/ns#\" xmlns:dc=\"http://purl.org/dc/elements/1.1/\" xmlns:rdf=\"http://www.w3.org/1999/02/22-rdf-syntax-ns#\">\r\n   <cc:Work>\r\n    <dc:type rdf:resource=\"http://purl.org/dc/dcmitype/StillImage\"/>\r\n    <dc:date>2020-12-18T15:54:49.572728</dc:date>\r\n    <dc:format>image/svg+xml</dc:format>\r\n    <dc:creator>\r\n     <cc:Agent>\r\n      <dc:title>Matplotlib v3.3.2, https://matplotlib.org/</dc:title>\r\n     </cc:Agent>\r\n    </dc:creator>\r\n   </cc:Work>\r\n  </rdf:RDF>\r\n </metadata>\r\n <defs>\r\n  <style type=\"text/css\">*{stroke-linecap:butt;stroke-linejoin:round;}</style>\r\n </defs>\r\n <g id=\"figure_1\">\r\n  <g id=\"patch_1\">\r\n   <path d=\"M 0 277.314375 \r\nL 385.2895 277.314375 \r\nL 385.2895 0 \r\nL 0 0 \r\nz\r\n\" style=\"fill:none;\"/>\r\n  </g>\r\n  <g id=\"axes_1\">\r\n   <g id=\"patch_2\">\r\n    <path d=\"M 113.3125 239.758125 \r\nL 330.7525 239.758125 \r\nL 330.7525 22.318125 \r\nL 113.3125 22.318125 \r\nz\r\n\" style=\"fill:#ffffff;\"/>\r\n   </g>\r\n   <g clip-path=\"url(#p4c22fcc1a5)\">\r\n    <image height=\"218\" id=\"image44f5f177d9\" transform=\"scale(1 -1)translate(0 -218)\" width=\"218\" x=\"113.3125\" xlink:href=\"data:image/png;base64,\r\niVBORw0KGgoAAAANSUhEUgAAANoAAADaCAYAAADAHVzbAAAC80lEQVR4nO3Vuy0GYACFYZffJSKR6MQAKgto7WABAygMolHYQG8DtRkkGo2CREHzu0zxvV/C80xwmjdn9fHl42flD9rf3Zw9YZj3z+XsCUMcnV7OnjDM2uwB8B8IDQJCg4DQICA0CAgNAkKDgNAgIDQICA0CQoOA0CAgNAgIDQJCg4DQICA0CAgNAkKDgNAgIDQICA0CQoOA0CAgNAgIDQJCg4DQICA0CAgNAkKDgNAgIDQICA0CQoOA0CAgNAgIDQJCg4DQICA0CAgNAkKDgNAgIDQICA0CQoOA0CAgNAgIDQJCg4DQICA0CAgNAovZA0bZ3lifPWGYg5OL2ROGeHu4nj1hGI8GAaFBQGgQEBoEhAYBoUFAaBAQGgSEBgGhQUBoEBAaBIQGAaFBQGgQEBoEhAYBoUFAaBAQGgSEBgGhQUBoEBAaBIQGAaFBQGgQEBoEhAYBoUFAaBAQGgSEBgGhQUBoEBAaBIQGAaFBQGgQEBoEhAYBoUFAaBAQGgSEBgGhQUBoEBAaBIQGAaFBQGgQEBoEhAaBxd7OxuwNQxye386eMMzT/dXsCUMsv75nTxjGo0FAaBAQGgSEBgGhQUBoEBAaBIQGAaFBQGgQEBoEhAYBoUFAaBAQGgSEBgGhQUBoEBAaBIQGAaFBQGgQEBoEhAYBoUFAaBAQGgSEBgGhQUBoEBAaBIQGAaFBQGgQEBoEhAYBoUFAaBAQGgSEBgGhQUBoEBAaBIQGAaFBQGgQEBoEhAYBoUFAaBAQGgSEBgGhQUBoEFgcX97N3jDE483Z7AnDPL9+zp4wyNbsAcN4NAgIDQJCg4DQICA0CAgNAkKDgNAgIDQICA0CQoOA0CAgNAgIDQJCg4DQICA0CAgNAkKDgNAgIDQICA0CQoOA0CAgNAgIDQJCg4DQICA0CAgNAkKDgNAgIDQICA0CQoOA0CAgNAgIDQJCg4DQICA0CAgNAkKDgNAgIDQICA0CQoOA0CAgNAgIDQJCg4DQICA0CPwCiuIY1CcNDgQAAAAASUVORK5CYII=\" y=\"-21.758125\"/>\r\n   </g>\r\n   <g id=\"matplotlib.axis_1\">\r\n    <g id=\"xtick_1\">\r\n     <g id=\"line2d_1\">\r\n      <defs>\r\n       <path d=\"M 0 0 \r\nL 0 3.5 \r\n\" id=\"m5aee83c106\" style=\"stroke:#000000;stroke-width:0.8;\"/>\r\n      </defs>\r\n      <g>\r\n       <use style=\"stroke:#000000;stroke-width:0.8;\" x=\"140.4925\" xlink:href=\"#m5aee83c106\" y=\"239.758125\"/>\r\n      </g>\r\n     </g>\r\n     <g id=\"text_1\">\r\n      <!-- Analytical Report -->\r\n      <g transform=\"translate(97.775313 254.356562)scale(0.1 -0.1)\">\r\n       <defs>\r\n        <path d=\"M 34.1875 63.1875 \r\nL 20.796875 26.90625 \r\nL 47.609375 26.90625 \r\nz\r\nM 28.609375 72.90625 \r\nL 39.796875 72.90625 \r\nL 67.578125 0 \r\nL 57.328125 0 \r\nL 50.6875 18.703125 \r\nL 17.828125 18.703125 \r\nL 11.1875 0 \r\nL 0.78125 0 \r\nz\r\n\" id=\"DejaVuSans-65\"/>\r\n        <path d=\"M 54.890625 33.015625 \r\nL 54.890625 0 \r\nL 45.90625 0 \r\nL 45.90625 32.71875 \r\nQ 45.90625 40.484375 42.875 44.328125 \r\nQ 39.84375 48.1875 33.796875 48.1875 \r\nQ 26.515625 48.1875 22.3125 43.546875 \r\nQ 18.109375 38.921875 18.109375 30.90625 \r\nL 18.109375 0 \r\nL 9.078125 0 \r\nL 9.078125 54.6875 \r\nL 18.109375 54.6875 \r\nL 18.109375 46.1875 \r\nQ 21.34375 51.125 25.703125 53.5625 \r\nQ 30.078125 56 35.796875 56 \r\nQ 45.21875 56 50.046875 50.171875 \r\nQ 54.890625 44.34375 54.890625 33.015625 \r\nz\r\n\" id=\"DejaVuSans-110\"/>\r\n        <path d=\"M 34.28125 27.484375 \r\nQ 23.390625 27.484375 19.1875 25 \r\nQ 14.984375 22.515625 14.984375 16.5 \r\nQ 14.984375 11.71875 18.140625 8.90625 \r\nQ 21.296875 6.109375 26.703125 6.109375 \r\nQ 34.1875 6.109375 38.703125 11.40625 \r\nQ 43.21875 16.703125 43.21875 25.484375 \r\nL 43.21875 27.484375 \r\nz\r\nM 52.203125 31.203125 \r\nL 52.203125 0 \r\nL 43.21875 0 \r\nL 43.21875 8.296875 \r\nQ 40.140625 3.328125 35.546875 0.953125 \r\nQ 30.953125 -1.421875 24.3125 -1.421875 \r\nQ 15.921875 -1.421875 10.953125 3.296875 \r\nQ 6 8.015625 6 15.921875 \r\nQ 6 25.140625 12.171875 29.828125 \r\nQ 18.359375 34.515625 30.609375 34.515625 \r\nL 43.21875 34.515625 \r\nL 43.21875 35.40625 \r\nQ 43.21875 41.609375 39.140625 45 \r\nQ 35.0625 48.390625 27.6875 48.390625 \r\nQ 23 48.390625 18.546875 47.265625 \r\nQ 14.109375 46.140625 10.015625 43.890625 \r\nL 10.015625 52.203125 \r\nQ 14.9375 54.109375 19.578125 55.046875 \r\nQ 24.21875 56 28.609375 56 \r\nQ 40.484375 56 46.34375 49.84375 \r\nQ 52.203125 43.703125 52.203125 31.203125 \r\nz\r\n\" id=\"DejaVuSans-97\"/>\r\n        <path d=\"M 9.421875 75.984375 \r\nL 18.40625 75.984375 \r\nL 18.40625 0 \r\nL 9.421875 0 \r\nz\r\n\" id=\"DejaVuSans-108\"/>\r\n        <path d=\"M 32.171875 -5.078125 \r\nQ 28.375 -14.84375 24.75 -17.8125 \r\nQ 21.140625 -20.796875 15.09375 -20.796875 \r\nL 7.90625 -20.796875 \r\nL 7.90625 -13.28125 \r\nL 13.1875 -13.28125 \r\nQ 16.890625 -13.28125 18.9375 -11.515625 \r\nQ 21 -9.765625 23.484375 -3.21875 \r\nL 25.09375 0.875 \r\nL 2.984375 54.6875 \r\nL 12.5 54.6875 \r\nL 29.59375 11.921875 \r\nL 46.6875 54.6875 \r\nL 56.203125 54.6875 \r\nz\r\n\" id=\"DejaVuSans-121\"/>\r\n        <path d=\"M 18.3125 70.21875 \r\nL 18.3125 54.6875 \r\nL 36.8125 54.6875 \r\nL 36.8125 47.703125 \r\nL 18.3125 47.703125 \r\nL 18.3125 18.015625 \r\nQ 18.3125 11.328125 20.140625 9.421875 \r\nQ 21.96875 7.515625 27.59375 7.515625 \r\nL 36.8125 7.515625 \r\nL 36.8125 0 \r\nL 27.59375 0 \r\nQ 17.1875 0 13.234375 3.875 \r\nQ 9.28125 7.765625 9.28125 18.015625 \r\nL 9.28125 47.703125 \r\nL 2.6875 47.703125 \r\nL 2.6875 54.6875 \r\nL 9.28125 54.6875 \r\nL 9.28125 70.21875 \r\nz\r\n\" id=\"DejaVuSans-116\"/>\r\n        <path d=\"M 9.421875 54.6875 \r\nL 18.40625 54.6875 \r\nL 18.40625 0 \r\nL 9.421875 0 \r\nz\r\nM 9.421875 75.984375 \r\nL 18.40625 75.984375 \r\nL 18.40625 64.59375 \r\nL 9.421875 64.59375 \r\nz\r\n\" id=\"DejaVuSans-105\"/>\r\n        <path d=\"M 48.78125 52.59375 \r\nL 48.78125 44.1875 \r\nQ 44.96875 46.296875 41.140625 47.34375 \r\nQ 37.3125 48.390625 33.40625 48.390625 \r\nQ 24.65625 48.390625 19.8125 42.84375 \r\nQ 14.984375 37.3125 14.984375 27.296875 \r\nQ 14.984375 17.28125 19.8125 11.734375 \r\nQ 24.65625 6.203125 33.40625 6.203125 \r\nQ 37.3125 6.203125 41.140625 7.25 \r\nQ 44.96875 8.296875 48.78125 10.40625 \r\nL 48.78125 2.09375 \r\nQ 45.015625 0.34375 40.984375 -0.53125 \r\nQ 36.96875 -1.421875 32.421875 -1.421875 \r\nQ 20.0625 -1.421875 12.78125 6.34375 \r\nQ 5.515625 14.109375 5.515625 27.296875 \r\nQ 5.515625 40.671875 12.859375 48.328125 \r\nQ 20.21875 56 33.015625 56 \r\nQ 37.15625 56 41.109375 55.140625 \r\nQ 45.0625 54.296875 48.78125 52.59375 \r\nz\r\n\" id=\"DejaVuSans-99\"/>\r\n        <path id=\"DejaVuSans-32\"/>\r\n        <path d=\"M 44.390625 34.1875 \r\nQ 47.5625 33.109375 50.5625 29.59375 \r\nQ 53.5625 26.078125 56.59375 19.921875 \r\nL 66.609375 0 \r\nL 56 0 \r\nL 46.6875 18.703125 \r\nQ 43.0625 26.03125 39.671875 28.421875 \r\nQ 36.28125 30.8125 30.421875 30.8125 \r\nL 19.671875 30.8125 \r\nL 19.671875 0 \r\nL 9.8125 0 \r\nL 9.8125 72.90625 \r\nL 32.078125 72.90625 \r\nQ 44.578125 72.90625 50.734375 67.671875 \r\nQ 56.890625 62.453125 56.890625 51.90625 \r\nQ 56.890625 45.015625 53.6875 40.46875 \r\nQ 50.484375 35.9375 44.390625 34.1875 \r\nz\r\nM 19.671875 64.796875 \r\nL 19.671875 38.921875 \r\nL 32.078125 38.921875 \r\nQ 39.203125 38.921875 42.84375 42.21875 \r\nQ 46.484375 45.515625 46.484375 51.90625 \r\nQ 46.484375 58.296875 42.84375 61.546875 \r\nQ 39.203125 64.796875 32.078125 64.796875 \r\nz\r\n\" id=\"DejaVuSans-82\"/>\r\n        <path d=\"M 56.203125 29.59375 \r\nL 56.203125 25.203125 \r\nL 14.890625 25.203125 \r\nQ 15.484375 15.921875 20.484375 11.0625 \r\nQ 25.484375 6.203125 34.421875 6.203125 \r\nQ 39.59375 6.203125 44.453125 7.46875 \r\nQ 49.3125 8.734375 54.109375 11.28125 \r\nL 54.109375 2.78125 \r\nQ 49.265625 0.734375 44.1875 -0.34375 \r\nQ 39.109375 -1.421875 33.890625 -1.421875 \r\nQ 20.796875 -1.421875 13.15625 6.1875 \r\nQ 5.515625 13.8125 5.515625 26.8125 \r\nQ 5.515625 40.234375 12.765625 48.109375 \r\nQ 20.015625 56 32.328125 56 \r\nQ 43.359375 56 49.78125 48.890625 \r\nQ 56.203125 41.796875 56.203125 29.59375 \r\nz\r\nM 47.21875 32.234375 \r\nQ 47.125 39.59375 43.09375 43.984375 \r\nQ 39.0625 48.390625 32.421875 48.390625 \r\nQ 24.90625 48.390625 20.390625 44.140625 \r\nQ 15.875 39.890625 15.1875 32.171875 \r\nz\r\n\" id=\"DejaVuSans-101\"/>\r\n        <path d=\"M 18.109375 8.203125 \r\nL 18.109375 -20.796875 \r\nL 9.078125 -20.796875 \r\nL 9.078125 54.6875 \r\nL 18.109375 54.6875 \r\nL 18.109375 46.390625 \r\nQ 20.953125 51.265625 25.265625 53.625 \r\nQ 29.59375 56 35.59375 56 \r\nQ 45.5625 56 51.78125 48.09375 \r\nQ 58.015625 40.1875 58.015625 27.296875 \r\nQ 58.015625 14.40625 51.78125 6.484375 \r\nQ 45.5625 -1.421875 35.59375 -1.421875 \r\nQ 29.59375 -1.421875 25.265625 0.953125 \r\nQ 20.953125 3.328125 18.109375 8.203125 \r\nz\r\nM 48.6875 27.296875 \r\nQ 48.6875 37.203125 44.609375 42.84375 \r\nQ 40.53125 48.484375 33.40625 48.484375 \r\nQ 26.265625 48.484375 22.1875 42.84375 \r\nQ 18.109375 37.203125 18.109375 27.296875 \r\nQ 18.109375 17.390625 22.1875 11.75 \r\nQ 26.265625 6.109375 33.40625 6.109375 \r\nQ 40.53125 6.109375 44.609375 11.75 \r\nQ 48.6875 17.390625 48.6875 27.296875 \r\nz\r\n\" id=\"DejaVuSans-112\"/>\r\n        <path d=\"M 30.609375 48.390625 \r\nQ 23.390625 48.390625 19.1875 42.75 \r\nQ 14.984375 37.109375 14.984375 27.296875 \r\nQ 14.984375 17.484375 19.15625 11.84375 \r\nQ 23.34375 6.203125 30.609375 6.203125 \r\nQ 37.796875 6.203125 41.984375 11.859375 \r\nQ 46.1875 17.53125 46.1875 27.296875 \r\nQ 46.1875 37.015625 41.984375 42.703125 \r\nQ 37.796875 48.390625 30.609375 48.390625 \r\nz\r\nM 30.609375 56 \r\nQ 42.328125 56 49.015625 48.375 \r\nQ 55.71875 40.765625 55.71875 27.296875 \r\nQ 55.71875 13.875 49.015625 6.21875 \r\nQ 42.328125 -1.421875 30.609375 -1.421875 \r\nQ 18.84375 -1.421875 12.171875 6.21875 \r\nQ 5.515625 13.875 5.515625 27.296875 \r\nQ 5.515625 40.765625 12.171875 48.375 \r\nQ 18.84375 56 30.609375 56 \r\nz\r\n\" id=\"DejaVuSans-111\"/>\r\n        <path d=\"M 41.109375 46.296875 \r\nQ 39.59375 47.171875 37.8125 47.578125 \r\nQ 36.03125 48 33.890625 48 \r\nQ 26.265625 48 22.1875 43.046875 \r\nQ 18.109375 38.09375 18.109375 28.8125 \r\nL 18.109375 0 \r\nL 9.078125 0 \r\nL 9.078125 54.6875 \r\nL 18.109375 54.6875 \r\nL 18.109375 46.1875 \r\nQ 20.953125 51.171875 25.484375 53.578125 \r\nQ 30.03125 56 36.53125 56 \r\nQ 37.453125 56 38.578125 55.875 \r\nQ 39.703125 55.765625 41.0625 55.515625 \r\nz\r\n\" id=\"DejaVuSans-114\"/>\r\n       </defs>\r\n       <use xlink:href=\"#DejaVuSans-65\"/>\r\n       <use x=\"68.408203\" xlink:href=\"#DejaVuSans-110\"/>\r\n       <use x=\"131.787109\" xlink:href=\"#DejaVuSans-97\"/>\r\n       <use x=\"193.066406\" xlink:href=\"#DejaVuSans-108\"/>\r\n       <use x=\"220.849609\" xlink:href=\"#DejaVuSans-121\"/>\r\n       <use x=\"280.029297\" xlink:href=\"#DejaVuSans-116\"/>\r\n       <use x=\"319.238281\" xlink:href=\"#DejaVuSans-105\"/>\r\n       <use x=\"347.021484\" xlink:href=\"#DejaVuSans-99\"/>\r\n       <use x=\"402.001953\" xlink:href=\"#DejaVuSans-97\"/>\r\n       <use x=\"463.28125\" xlink:href=\"#DejaVuSans-108\"/>\r\n       <use x=\"491.064453\" xlink:href=\"#DejaVuSans-32\"/>\r\n       <use x=\"522.851562\" xlink:href=\"#DejaVuSans-82\"/>\r\n       <use x=\"587.833984\" xlink:href=\"#DejaVuSans-101\"/>\r\n       <use x=\"649.357422\" xlink:href=\"#DejaVuSans-112\"/>\r\n       <use x=\"712.833984\" xlink:href=\"#DejaVuSans-111\"/>\r\n       <use x=\"774.015625\" xlink:href=\"#DejaVuSans-114\"/>\r\n       <use x=\"815.128906\" xlink:href=\"#DejaVuSans-116\"/>\r\n      </g>\r\n     </g>\r\n    </g>\r\n    <g id=\"xtick_2\">\r\n     <g id=\"line2d_2\">\r\n      <g>\r\n       <use style=\"stroke:#000000;stroke-width:0.8;\" x=\"194.8525\" xlink:href=\"#m5aee83c106\" y=\"239.758125\"/>\r\n      </g>\r\n     </g>\r\n     <g id=\"text_2\">\r\n      <!-- Incident Report -->\r\n      <g transform=\"translate(156.526719 254.356562)scale(0.1 -0.1)\">\r\n       <defs>\r\n        <path d=\"M 9.8125 72.90625 \r\nL 19.671875 72.90625 \r\nL 19.671875 0 \r\nL 9.8125 0 \r\nz\r\n\" id=\"DejaVuSans-73\"/>\r\n        <path d=\"M 45.40625 46.390625 \r\nL 45.40625 75.984375 \r\nL 54.390625 75.984375 \r\nL 54.390625 0 \r\nL 45.40625 0 \r\nL 45.40625 8.203125 \r\nQ 42.578125 3.328125 38.25 0.953125 \r\nQ 33.9375 -1.421875 27.875 -1.421875 \r\nQ 17.96875 -1.421875 11.734375 6.484375 \r\nQ 5.515625 14.40625 5.515625 27.296875 \r\nQ 5.515625 40.1875 11.734375 48.09375 \r\nQ 17.96875 56 27.875 56 \r\nQ 33.9375 56 38.25 53.625 \r\nQ 42.578125 51.265625 45.40625 46.390625 \r\nz\r\nM 14.796875 27.296875 \r\nQ 14.796875 17.390625 18.875 11.75 \r\nQ 22.953125 6.109375 30.078125 6.109375 \r\nQ 37.203125 6.109375 41.296875 11.75 \r\nQ 45.40625 17.390625 45.40625 27.296875 \r\nQ 45.40625 37.203125 41.296875 42.84375 \r\nQ 37.203125 48.484375 30.078125 48.484375 \r\nQ 22.953125 48.484375 18.875 42.84375 \r\nQ 14.796875 37.203125 14.796875 27.296875 \r\nz\r\n\" id=\"DejaVuSans-100\"/>\r\n       </defs>\r\n       <use xlink:href=\"#DejaVuSans-73\"/>\r\n       <use x=\"29.492188\" xlink:href=\"#DejaVuSans-110\"/>\r\n       <use x=\"92.871094\" xlink:href=\"#DejaVuSans-99\"/>\r\n       <use x=\"147.851562\" xlink:href=\"#DejaVuSans-105\"/>\r\n       <use x=\"175.634766\" xlink:href=\"#DejaVuSans-100\"/>\r\n       <use x=\"239.111328\" xlink:href=\"#DejaVuSans-101\"/>\r\n       <use x=\"300.634766\" xlink:href=\"#DejaVuSans-110\"/>\r\n       <use x=\"364.013672\" xlink:href=\"#DejaVuSans-116\"/>\r\n       <use x=\"403.222656\" xlink:href=\"#DejaVuSans-32\"/>\r\n       <use x=\"435.009766\" xlink:href=\"#DejaVuSans-82\"/>\r\n       <use x=\"499.992188\" xlink:href=\"#DejaVuSans-101\"/>\r\n       <use x=\"561.515625\" xlink:href=\"#DejaVuSans-112\"/>\r\n       <use x=\"624.992188\" xlink:href=\"#DejaVuSans-111\"/>\r\n       <use x=\"686.173828\" xlink:href=\"#DejaVuSans-114\"/>\r\n       <use x=\"727.287109\" xlink:href=\"#DejaVuSans-116\"/>\r\n      </g>\r\n     </g>\r\n    </g>\r\n    <g id=\"xtick_3\">\r\n     <g id=\"line2d_3\">\r\n      <g>\r\n       <use style=\"stroke:#000000;stroke-width:0.8;\" x=\"249.2125\" xlink:href=\"#m5aee83c106\" y=\"239.758125\"/>\r\n      </g>\r\n     </g>\r\n     <g id=\"text_3\">\r\n      <!-- Profile Report -->\r\n      <g transform=\"translate(215.503906 254.356562)scale(0.1 -0.1)\">\r\n       <defs>\r\n        <path d=\"M 19.671875 64.796875 \r\nL 19.671875 37.40625 \r\nL 32.078125 37.40625 \r\nQ 38.96875 37.40625 42.71875 40.96875 \r\nQ 46.484375 44.53125 46.484375 51.125 \r\nQ 46.484375 57.671875 42.71875 61.234375 \r\nQ 38.96875 64.796875 32.078125 64.796875 \r\nz\r\nM 9.8125 72.90625 \r\nL 32.078125 72.90625 \r\nQ 44.34375 72.90625 50.609375 67.359375 \r\nQ 56.890625 61.8125 56.890625 51.125 \r\nQ 56.890625 40.328125 50.609375 34.8125 \r\nQ 44.34375 29.296875 32.078125 29.296875 \r\nL 19.671875 29.296875 \r\nL 19.671875 0 \r\nL 9.8125 0 \r\nz\r\n\" id=\"DejaVuSans-80\"/>\r\n        <path d=\"M 37.109375 75.984375 \r\nL 37.109375 68.5 \r\nL 28.515625 68.5 \r\nQ 23.6875 68.5 21.796875 66.546875 \r\nQ 19.921875 64.59375 19.921875 59.515625 \r\nL 19.921875 54.6875 \r\nL 34.71875 54.6875 \r\nL 34.71875 47.703125 \r\nL 19.921875 47.703125 \r\nL 19.921875 0 \r\nL 10.890625 0 \r\nL 10.890625 47.703125 \r\nL 2.296875 47.703125 \r\nL 2.296875 54.6875 \r\nL 10.890625 54.6875 \r\nL 10.890625 58.5 \r\nQ 10.890625 67.625 15.140625 71.796875 \r\nQ 19.390625 75.984375 28.609375 75.984375 \r\nz\r\n\" id=\"DejaVuSans-102\"/>\r\n       </defs>\r\n       <use xlink:href=\"#DejaVuSans-80\"/>\r\n       <use x=\"58.552734\" xlink:href=\"#DejaVuSans-114\"/>\r\n       <use x=\"97.416016\" xlink:href=\"#DejaVuSans-111\"/>\r\n       <use x=\"158.597656\" xlink:href=\"#DejaVuSans-102\"/>\r\n       <use x=\"193.802734\" xlink:href=\"#DejaVuSans-105\"/>\r\n       <use x=\"221.585938\" xlink:href=\"#DejaVuSans-108\"/>\r\n       <use x=\"249.369141\" xlink:href=\"#DejaVuSans-101\"/>\r\n       <use x=\"310.892578\" xlink:href=\"#DejaVuSans-32\"/>\r\n       <use x=\"342.679688\" xlink:href=\"#DejaVuSans-82\"/>\r\n       <use x=\"407.662109\" xlink:href=\"#DejaVuSans-101\"/>\r\n       <use x=\"469.185547\" xlink:href=\"#DejaVuSans-112\"/>\r\n       <use x=\"532.662109\" xlink:href=\"#DejaVuSans-111\"/>\r\n       <use x=\"593.84375\" xlink:href=\"#DejaVuSans-114\"/>\r\n       <use x=\"634.957031\" xlink:href=\"#DejaVuSans-116\"/>\r\n      </g>\r\n     </g>\r\n    </g>\r\n    <g id=\"xtick_4\">\r\n     <g id=\"line2d_4\">\r\n      <g>\r\n       <use style=\"stroke:#000000;stroke-width:0.8;\" x=\"303.5725\" xlink:href=\"#m5aee83c106\" y=\"239.758125\"/>\r\n      </g>\r\n     </g>\r\n     <g id=\"text_4\">\r\n      <!-- Situation Report -->\r\n      <g transform=\"translate(263.074844 254.356562)scale(0.1 -0.1)\">\r\n       <defs>\r\n        <path d=\"M 53.515625 70.515625 \r\nL 53.515625 60.890625 \r\nQ 47.90625 63.578125 42.921875 64.890625 \r\nQ 37.9375 66.21875 33.296875 66.21875 \r\nQ 25.25 66.21875 20.875 63.09375 \r\nQ 16.5 59.96875 16.5 54.203125 \r\nQ 16.5 49.359375 19.40625 46.890625 \r\nQ 22.3125 44.4375 30.421875 42.921875 \r\nL 36.375 41.703125 \r\nQ 47.40625 39.59375 52.65625 34.296875 \r\nQ 57.90625 29 57.90625 20.125 \r\nQ 57.90625 9.515625 50.796875 4.046875 \r\nQ 43.703125 -1.421875 29.984375 -1.421875 \r\nQ 24.8125 -1.421875 18.96875 -0.25 \r\nQ 13.140625 0.921875 6.890625 3.21875 \r\nL 6.890625 13.375 \r\nQ 12.890625 10.015625 18.65625 8.296875 \r\nQ 24.421875 6.59375 29.984375 6.59375 \r\nQ 38.421875 6.59375 43.015625 9.90625 \r\nQ 47.609375 13.234375 47.609375 19.390625 \r\nQ 47.609375 24.75 44.3125 27.78125 \r\nQ 41.015625 30.8125 33.5 32.328125 \r\nL 27.484375 33.5 \r\nQ 16.453125 35.6875 11.515625 40.375 \r\nQ 6.59375 45.0625 6.59375 53.421875 \r\nQ 6.59375 63.09375 13.40625 68.65625 \r\nQ 20.21875 74.21875 32.171875 74.21875 \r\nQ 37.3125 74.21875 42.625 73.28125 \r\nQ 47.953125 72.359375 53.515625 70.515625 \r\nz\r\n\" id=\"DejaVuSans-83\"/>\r\n        <path d=\"M 8.5 21.578125 \r\nL 8.5 54.6875 \r\nL 17.484375 54.6875 \r\nL 17.484375 21.921875 \r\nQ 17.484375 14.15625 20.5 10.265625 \r\nQ 23.53125 6.390625 29.59375 6.390625 \r\nQ 36.859375 6.390625 41.078125 11.03125 \r\nQ 45.3125 15.671875 45.3125 23.6875 \r\nL 45.3125 54.6875 \r\nL 54.296875 54.6875 \r\nL 54.296875 0 \r\nL 45.3125 0 \r\nL 45.3125 8.40625 \r\nQ 42.046875 3.421875 37.71875 1 \r\nQ 33.40625 -1.421875 27.6875 -1.421875 \r\nQ 18.265625 -1.421875 13.375 4.4375 \r\nQ 8.5 10.296875 8.5 21.578125 \r\nz\r\nM 31.109375 56 \r\nz\r\n\" id=\"DejaVuSans-117\"/>\r\n       </defs>\r\n       <use xlink:href=\"#DejaVuSans-83\"/>\r\n       <use x=\"63.476562\" xlink:href=\"#DejaVuSans-105\"/>\r\n       <use x=\"91.259766\" xlink:href=\"#DejaVuSans-116\"/>\r\n       <use x=\"130.46875\" xlink:href=\"#DejaVuSans-117\"/>\r\n       <use x=\"193.847656\" xlink:href=\"#DejaVuSans-97\"/>\r\n       <use x=\"255.126953\" xlink:href=\"#DejaVuSans-116\"/>\r\n       <use x=\"294.335938\" xlink:href=\"#DejaVuSans-105\"/>\r\n       <use x=\"322.119141\" xlink:href=\"#DejaVuSans-111\"/>\r\n       <use x=\"383.300781\" xlink:href=\"#DejaVuSans-110\"/>\r\n       <use x=\"446.679688\" xlink:href=\"#DejaVuSans-32\"/>\r\n       <use x=\"478.466797\" xlink:href=\"#DejaVuSans-82\"/>\r\n       <use x=\"543.449219\" xlink:href=\"#DejaVuSans-101\"/>\r\n       <use x=\"604.972656\" xlink:href=\"#DejaVuSans-112\"/>\r\n       <use x=\"668.449219\" xlink:href=\"#DejaVuSans-111\"/>\r\n       <use x=\"729.630859\" xlink:href=\"#DejaVuSans-114\"/>\r\n       <use x=\"770.744141\" xlink:href=\"#DejaVuSans-116\"/>\r\n      </g>\r\n     </g>\r\n    </g>\r\n    <g id=\"text_5\">\r\n     <!-- Predicted label -->\r\n     <g transform=\"translate(184.880156 268.034687)scale(0.1 -0.1)\">\r\n      <defs>\r\n       <path d=\"M 48.6875 27.296875 \r\nQ 48.6875 37.203125 44.609375 42.84375 \r\nQ 40.53125 48.484375 33.40625 48.484375 \r\nQ 26.265625 48.484375 22.1875 42.84375 \r\nQ 18.109375 37.203125 18.109375 27.296875 \r\nQ 18.109375 17.390625 22.1875 11.75 \r\nQ 26.265625 6.109375 33.40625 6.109375 \r\nQ 40.53125 6.109375 44.609375 11.75 \r\nQ 48.6875 17.390625 48.6875 27.296875 \r\nz\r\nM 18.109375 46.390625 \r\nQ 20.953125 51.265625 25.265625 53.625 \r\nQ 29.59375 56 35.59375 56 \r\nQ 45.5625 56 51.78125 48.09375 \r\nQ 58.015625 40.1875 58.015625 27.296875 \r\nQ 58.015625 14.40625 51.78125 6.484375 \r\nQ 45.5625 -1.421875 35.59375 -1.421875 \r\nQ 29.59375 -1.421875 25.265625 0.953125 \r\nQ 20.953125 3.328125 18.109375 8.203125 \r\nL 18.109375 0 \r\nL 9.078125 0 \r\nL 9.078125 75.984375 \r\nL 18.109375 75.984375 \r\nz\r\n\" id=\"DejaVuSans-98\"/>\r\n      </defs>\r\n      <use xlink:href=\"#DejaVuSans-80\"/>\r\n      <use x=\"58.552734\" xlink:href=\"#DejaVuSans-114\"/>\r\n      <use x=\"97.416016\" xlink:href=\"#DejaVuSans-101\"/>\r\n      <use x=\"158.939453\" xlink:href=\"#DejaVuSans-100\"/>\r\n      <use x=\"222.416016\" xlink:href=\"#DejaVuSans-105\"/>\r\n      <use x=\"250.199219\" xlink:href=\"#DejaVuSans-99\"/>\r\n      <use x=\"305.179688\" xlink:href=\"#DejaVuSans-116\"/>\r\n      <use x=\"344.388672\" xlink:href=\"#DejaVuSans-101\"/>\r\n      <use x=\"405.912109\" xlink:href=\"#DejaVuSans-100\"/>\r\n      <use x=\"469.388672\" xlink:href=\"#DejaVuSans-32\"/>\r\n      <use x=\"501.175781\" xlink:href=\"#DejaVuSans-108\"/>\r\n      <use x=\"528.958984\" xlink:href=\"#DejaVuSans-97\"/>\r\n      <use x=\"590.238281\" xlink:href=\"#DejaVuSans-98\"/>\r\n      <use x=\"653.714844\" xlink:href=\"#DejaVuSans-101\"/>\r\n      <use x=\"715.238281\" xlink:href=\"#DejaVuSans-108\"/>\r\n     </g>\r\n    </g>\r\n   </g>\r\n   <g id=\"matplotlib.axis_2\">\r\n    <g id=\"ytick_1\">\r\n     <g id=\"line2d_5\">\r\n      <defs>\r\n       <path d=\"M 0 0 \r\nL -3.5 0 \r\n\" id=\"m7085661fdc\" style=\"stroke:#000000;stroke-width:0.8;\"/>\r\n      </defs>\r\n      <g>\r\n       <use style=\"stroke:#000000;stroke-width:0.8;\" x=\"113.3125\" xlink:href=\"#m7085661fdc\" y=\"49.498125\"/>\r\n      </g>\r\n     </g>\r\n     <g id=\"text_6\">\r\n      <!-- Analytical Report -->\r\n      <g transform=\"translate(20.878125 53.297344)scale(0.1 -0.1)\">\r\n       <use xlink:href=\"#DejaVuSans-65\"/>\r\n       <use x=\"68.408203\" xlink:href=\"#DejaVuSans-110\"/>\r\n       <use x=\"131.787109\" xlink:href=\"#DejaVuSans-97\"/>\r\n       <use x=\"193.066406\" xlink:href=\"#DejaVuSans-108\"/>\r\n       <use x=\"220.849609\" xlink:href=\"#DejaVuSans-121\"/>\r\n       <use x=\"280.029297\" xlink:href=\"#DejaVuSans-116\"/>\r\n       <use x=\"319.238281\" xlink:href=\"#DejaVuSans-105\"/>\r\n       <use x=\"347.021484\" xlink:href=\"#DejaVuSans-99\"/>\r\n       <use x=\"402.001953\" xlink:href=\"#DejaVuSans-97\"/>\r\n       <use x=\"463.28125\" xlink:href=\"#DejaVuSans-108\"/>\r\n       <use x=\"491.064453\" xlink:href=\"#DejaVuSans-32\"/>\r\n       <use x=\"522.851562\" xlink:href=\"#DejaVuSans-82\"/>\r\n       <use x=\"587.833984\" xlink:href=\"#DejaVuSans-101\"/>\r\n       <use x=\"649.357422\" xlink:href=\"#DejaVuSans-112\"/>\r\n       <use x=\"712.833984\" xlink:href=\"#DejaVuSans-111\"/>\r\n       <use x=\"774.015625\" xlink:href=\"#DejaVuSans-114\"/>\r\n       <use x=\"815.128906\" xlink:href=\"#DejaVuSans-116\"/>\r\n      </g>\r\n     </g>\r\n    </g>\r\n    <g id=\"ytick_2\">\r\n     <g id=\"line2d_6\">\r\n      <g>\r\n       <use style=\"stroke:#000000;stroke-width:0.8;\" x=\"113.3125\" xlink:href=\"#m7085661fdc\" y=\"103.858125\"/>\r\n      </g>\r\n     </g>\r\n     <g id=\"text_7\">\r\n      <!-- Incident Report -->\r\n      <g transform=\"translate(29.660938 107.657344)scale(0.1 -0.1)\">\r\n       <use xlink:href=\"#DejaVuSans-73\"/>\r\n       <use x=\"29.492188\" xlink:href=\"#DejaVuSans-110\"/>\r\n       <use x=\"92.871094\" xlink:href=\"#DejaVuSans-99\"/>\r\n       <use x=\"147.851562\" xlink:href=\"#DejaVuSans-105\"/>\r\n       <use x=\"175.634766\" xlink:href=\"#DejaVuSans-100\"/>\r\n       <use x=\"239.111328\" xlink:href=\"#DejaVuSans-101\"/>\r\n       <use x=\"300.634766\" xlink:href=\"#DejaVuSans-110\"/>\r\n       <use x=\"364.013672\" xlink:href=\"#DejaVuSans-116\"/>\r\n       <use x=\"403.222656\" xlink:href=\"#DejaVuSans-32\"/>\r\n       <use x=\"435.009766\" xlink:href=\"#DejaVuSans-82\"/>\r\n       <use x=\"499.992188\" xlink:href=\"#DejaVuSans-101\"/>\r\n       <use x=\"561.515625\" xlink:href=\"#DejaVuSans-112\"/>\r\n       <use x=\"624.992188\" xlink:href=\"#DejaVuSans-111\"/>\r\n       <use x=\"686.173828\" xlink:href=\"#DejaVuSans-114\"/>\r\n       <use x=\"727.287109\" xlink:href=\"#DejaVuSans-116\"/>\r\n      </g>\r\n     </g>\r\n    </g>\r\n    <g id=\"ytick_3\">\r\n     <g id=\"line2d_7\">\r\n      <g>\r\n       <use style=\"stroke:#000000;stroke-width:0.8;\" x=\"113.3125\" xlink:href=\"#m7085661fdc\" y=\"158.218125\"/>\r\n      </g>\r\n     </g>\r\n     <g id=\"text_8\">\r\n      <!-- Profile Report -->\r\n      <g transform=\"translate(38.895313 162.017344)scale(0.1 -0.1)\">\r\n       <use xlink:href=\"#DejaVuSans-80\"/>\r\n       <use x=\"58.552734\" xlink:href=\"#DejaVuSans-114\"/>\r\n       <use x=\"97.416016\" xlink:href=\"#DejaVuSans-111\"/>\r\n       <use x=\"158.597656\" xlink:href=\"#DejaVuSans-102\"/>\r\n       <use x=\"193.802734\" xlink:href=\"#DejaVuSans-105\"/>\r\n       <use x=\"221.585938\" xlink:href=\"#DejaVuSans-108\"/>\r\n       <use x=\"249.369141\" xlink:href=\"#DejaVuSans-101\"/>\r\n       <use x=\"310.892578\" xlink:href=\"#DejaVuSans-32\"/>\r\n       <use x=\"342.679688\" xlink:href=\"#DejaVuSans-82\"/>\r\n       <use x=\"407.662109\" xlink:href=\"#DejaVuSans-101\"/>\r\n       <use x=\"469.185547\" xlink:href=\"#DejaVuSans-112\"/>\r\n       <use x=\"532.662109\" xlink:href=\"#DejaVuSans-111\"/>\r\n       <use x=\"593.84375\" xlink:href=\"#DejaVuSans-114\"/>\r\n       <use x=\"634.957031\" xlink:href=\"#DejaVuSans-116\"/>\r\n      </g>\r\n     </g>\r\n    </g>\r\n    <g id=\"ytick_4\">\r\n     <g id=\"line2d_8\">\r\n      <g>\r\n       <use style=\"stroke:#000000;stroke-width:0.8;\" x=\"113.3125\" xlink:href=\"#m7085661fdc\" y=\"212.578125\"/>\r\n      </g>\r\n     </g>\r\n     <g id=\"text_9\">\r\n      <!-- Situation Report -->\r\n      <g transform=\"translate(25.317187 216.377344)scale(0.1 -0.1)\">\r\n       <use xlink:href=\"#DejaVuSans-83\"/>\r\n       <use x=\"63.476562\" xlink:href=\"#DejaVuSans-105\"/>\r\n       <use x=\"91.259766\" xlink:href=\"#DejaVuSans-116\"/>\r\n       <use x=\"130.46875\" xlink:href=\"#DejaVuSans-117\"/>\r\n       <use x=\"193.847656\" xlink:href=\"#DejaVuSans-97\"/>\r\n       <use x=\"255.126953\" xlink:href=\"#DejaVuSans-116\"/>\r\n       <use x=\"294.335938\" xlink:href=\"#DejaVuSans-105\"/>\r\n       <use x=\"322.119141\" xlink:href=\"#DejaVuSans-111\"/>\r\n       <use x=\"383.300781\" xlink:href=\"#DejaVuSans-110\"/>\r\n       <use x=\"446.679688\" xlink:href=\"#DejaVuSans-32\"/>\r\n       <use x=\"478.466797\" xlink:href=\"#DejaVuSans-82\"/>\r\n       <use x=\"543.449219\" xlink:href=\"#DejaVuSans-101\"/>\r\n       <use x=\"604.972656\" xlink:href=\"#DejaVuSans-112\"/>\r\n       <use x=\"668.449219\" xlink:href=\"#DejaVuSans-111\"/>\r\n       <use x=\"729.630859\" xlink:href=\"#DejaVuSans-114\"/>\r\n       <use x=\"770.744141\" xlink:href=\"#DejaVuSans-116\"/>\r\n      </g>\r\n     </g>\r\n    </g>\r\n    <g id=\"text_10\">\r\n     <!-- True label -->\r\n     <g transform=\"translate(14.798437 155.337344)rotate(-90)scale(0.1 -0.1)\">\r\n      <defs>\r\n       <path d=\"M -0.296875 72.90625 \r\nL 61.375 72.90625 \r\nL 61.375 64.59375 \r\nL 35.5 64.59375 \r\nL 35.5 0 \r\nL 25.59375 0 \r\nL 25.59375 64.59375 \r\nL -0.296875 64.59375 \r\nz\r\n\" id=\"DejaVuSans-84\"/>\r\n      </defs>\r\n      <use xlink:href=\"#DejaVuSans-84\"/>\r\n      <use x=\"46.333984\" xlink:href=\"#DejaVuSans-114\"/>\r\n      <use x=\"87.447266\" xlink:href=\"#DejaVuSans-117\"/>\r\n      <use x=\"150.826172\" xlink:href=\"#DejaVuSans-101\"/>\r\n      <use x=\"212.349609\" xlink:href=\"#DejaVuSans-32\"/>\r\n      <use x=\"244.136719\" xlink:href=\"#DejaVuSans-108\"/>\r\n      <use x=\"271.919922\" xlink:href=\"#DejaVuSans-97\"/>\r\n      <use x=\"333.199219\" xlink:href=\"#DejaVuSans-98\"/>\r\n      <use x=\"396.675781\" xlink:href=\"#DejaVuSans-101\"/>\r\n      <use x=\"458.199219\" xlink:href=\"#DejaVuSans-108\"/>\r\n     </g>\r\n    </g>\r\n   </g>\r\n   <g id=\"patch_3\">\r\n    <path d=\"M 113.3125 239.758125 \r\nL 113.3125 22.318125 \r\n\" style=\"fill:none;stroke:#000000;stroke-linecap:square;stroke-linejoin:miter;stroke-width:0.8;\"/>\r\n   </g>\r\n   <g id=\"patch_4\">\r\n    <path d=\"M 330.7525 239.758125 \r\nL 330.7525 22.318125 \r\n\" style=\"fill:none;stroke:#000000;stroke-linecap:square;stroke-linejoin:miter;stroke-width:0.8;\"/>\r\n   </g>\r\n   <g id=\"patch_5\">\r\n    <path d=\"M 113.3125 239.758125 \r\nL 330.7525 239.758125 \r\n\" style=\"fill:none;stroke:#000000;stroke-linecap:square;stroke-linejoin:miter;stroke-width:0.8;\"/>\r\n   </g>\r\n   <g id=\"patch_6\">\r\n    <path d=\"M 113.3125 22.318125 \r\nL 330.7525 22.318125 \r\n\" style=\"fill:none;stroke:#000000;stroke-linecap:square;stroke-linejoin:miter;stroke-width:0.8;\"/>\r\n   </g>\r\n   <g id=\"text_11\">\r\n    <!-- 44 -->\r\n    <g style=\"fill:#f7fbff;\" transform=\"translate(134.13 52.2575)scale(0.1 -0.1)\">\r\n     <defs>\r\n      <path d=\"M 37.796875 64.3125 \r\nL 12.890625 25.390625 \r\nL 37.796875 25.390625 \r\nz\r\nM 35.203125 72.90625 \r\nL 47.609375 72.90625 \r\nL 47.609375 25.390625 \r\nL 58.015625 25.390625 \r\nL 58.015625 17.1875 \r\nL 47.609375 17.1875 \r\nL 47.609375 0 \r\nL 37.796875 0 \r\nL 37.796875 17.1875 \r\nL 4.890625 17.1875 \r\nL 4.890625 26.703125 \r\nz\r\n\" id=\"DejaVuSans-52\"/>\r\n     </defs>\r\n     <use xlink:href=\"#DejaVuSans-52\"/>\r\n     <use x=\"63.623047\" xlink:href=\"#DejaVuSans-52\"/>\r\n    </g>\r\n   </g>\r\n   <g id=\"text_12\">\r\n    <!-- 2 -->\r\n    <g style=\"fill:#08306b;\" transform=\"translate(191.67125 52.2575)scale(0.1 -0.1)\">\r\n     <defs>\r\n      <path d=\"M 19.1875 8.296875 \r\nL 53.609375 8.296875 \r\nL 53.609375 0 \r\nL 7.328125 0 \r\nL 7.328125 8.296875 \r\nQ 12.9375 14.109375 22.625 23.890625 \r\nQ 32.328125 33.6875 34.8125 36.53125 \r\nQ 39.546875 41.84375 41.421875 45.53125 \r\nQ 43.3125 49.21875 43.3125 52.78125 \r\nQ 43.3125 58.59375 39.234375 62.25 \r\nQ 35.15625 65.921875 28.609375 65.921875 \r\nQ 23.96875 65.921875 18.8125 64.3125 \r\nQ 13.671875 62.703125 7.8125 59.421875 \r\nL 7.8125 69.390625 \r\nQ 13.765625 71.78125 18.9375 73 \r\nQ 24.125 74.21875 28.421875 74.21875 \r\nQ 39.75 74.21875 46.484375 68.546875 \r\nQ 53.21875 62.890625 53.21875 53.421875 \r\nQ 53.21875 48.921875 51.53125 44.890625 \r\nQ 49.859375 40.875 45.40625 35.40625 \r\nQ 44.1875 33.984375 37.640625 27.21875 \r\nQ 31.109375 20.453125 19.1875 8.296875 \r\nz\r\n\" id=\"DejaVuSans-50\"/>\r\n     </defs>\r\n     <use xlink:href=\"#DejaVuSans-50\"/>\r\n    </g>\r\n   </g>\r\n   <g id=\"text_13\">\r\n    <!-- 10 -->\r\n    <g style=\"fill:#08306b;\" transform=\"translate(242.85 52.2575)scale(0.1 -0.1)\">\r\n     <defs>\r\n      <path d=\"M 12.40625 8.296875 \r\nL 28.515625 8.296875 \r\nL 28.515625 63.921875 \r\nL 10.984375 60.40625 \r\nL 10.984375 69.390625 \r\nL 28.421875 72.90625 \r\nL 38.28125 72.90625 \r\nL 38.28125 8.296875 \r\nL 54.390625 8.296875 \r\nL 54.390625 0 \r\nL 12.40625 0 \r\nz\r\n\" id=\"DejaVuSans-49\"/>\r\n      <path d=\"M 31.78125 66.40625 \r\nQ 24.171875 66.40625 20.328125 58.90625 \r\nQ 16.5 51.421875 16.5 36.375 \r\nQ 16.5 21.390625 20.328125 13.890625 \r\nQ 24.171875 6.390625 31.78125 6.390625 \r\nQ 39.453125 6.390625 43.28125 13.890625 \r\nQ 47.125 21.390625 47.125 36.375 \r\nQ 47.125 51.421875 43.28125 58.90625 \r\nQ 39.453125 66.40625 31.78125 66.40625 \r\nz\r\nM 31.78125 74.21875 \r\nQ 44.046875 74.21875 50.515625 64.515625 \r\nQ 56.984375 54.828125 56.984375 36.375 \r\nQ 56.984375 17.96875 50.515625 8.265625 \r\nQ 44.046875 -1.421875 31.78125 -1.421875 \r\nQ 19.53125 -1.421875 13.0625 8.265625 \r\nQ 6.59375 17.96875 6.59375 36.375 \r\nQ 6.59375 54.828125 13.0625 64.515625 \r\nQ 19.53125 74.21875 31.78125 74.21875 \r\nz\r\n\" id=\"DejaVuSans-48\"/>\r\n     </defs>\r\n     <use xlink:href=\"#DejaVuSans-49\"/>\r\n     <use x=\"63.623047\" xlink:href=\"#DejaVuSans-48\"/>\r\n    </g>\r\n   </g>\r\n   <g id=\"text_14\">\r\n    <!-- 4 -->\r\n    <g style=\"fill:#08306b;\" transform=\"translate(300.39125 52.2575)scale(0.1 -0.1)\">\r\n     <use xlink:href=\"#DejaVuSans-52\"/>\r\n    </g>\r\n   </g>\r\n   <g id=\"text_15\">\r\n    <!-- 3 -->\r\n    <g style=\"fill:#08306b;\" transform=\"translate(137.31125 106.6175)scale(0.1 -0.1)\">\r\n     <defs>\r\n      <path d=\"M 40.578125 39.3125 \r\nQ 47.65625 37.796875 51.625 33 \r\nQ 55.609375 28.21875 55.609375 21.1875 \r\nQ 55.609375 10.40625 48.1875 4.484375 \r\nQ 40.765625 -1.421875 27.09375 -1.421875 \r\nQ 22.515625 -1.421875 17.65625 -0.515625 \r\nQ 12.796875 0.390625 7.625 2.203125 \r\nL 7.625 11.71875 \r\nQ 11.71875 9.328125 16.59375 8.109375 \r\nQ 21.484375 6.890625 26.8125 6.890625 \r\nQ 36.078125 6.890625 40.9375 10.546875 \r\nQ 45.796875 14.203125 45.796875 21.1875 \r\nQ 45.796875 27.640625 41.28125 31.265625 \r\nQ 36.765625 34.90625 28.71875 34.90625 \r\nL 20.21875 34.90625 \r\nL 20.21875 43.015625 \r\nL 29.109375 43.015625 \r\nQ 36.375 43.015625 40.234375 45.921875 \r\nQ 44.09375 48.828125 44.09375 54.296875 \r\nQ 44.09375 59.90625 40.109375 62.90625 \r\nQ 36.140625 65.921875 28.71875 65.921875 \r\nQ 24.65625 65.921875 20.015625 65.03125 \r\nQ 15.375 64.15625 9.8125 62.3125 \r\nL 9.8125 71.09375 \r\nQ 15.4375 72.65625 20.34375 73.4375 \r\nQ 25.25 74.21875 29.59375 74.21875 \r\nQ 40.828125 74.21875 47.359375 69.109375 \r\nQ 53.90625 64.015625 53.90625 55.328125 \r\nQ 53.90625 49.265625 50.4375 45.09375 \r\nQ 46.96875 40.921875 40.578125 39.3125 \r\nz\r\n\" id=\"DejaVuSans-51\"/>\r\n     </defs>\r\n     <use xlink:href=\"#DejaVuSans-51\"/>\r\n    </g>\r\n   </g>\r\n   <g id=\"text_16\">\r\n    <!-- 46 -->\r\n    <g style=\"fill:#f7fbff;\" transform=\"translate(188.49 106.6175)scale(0.1 -0.1)\">\r\n     <defs>\r\n      <path d=\"M 33.015625 40.375 \r\nQ 26.375 40.375 22.484375 35.828125 \r\nQ 18.609375 31.296875 18.609375 23.390625 \r\nQ 18.609375 15.53125 22.484375 10.953125 \r\nQ 26.375 6.390625 33.015625 6.390625 \r\nQ 39.65625 6.390625 43.53125 10.953125 \r\nQ 47.40625 15.53125 47.40625 23.390625 \r\nQ 47.40625 31.296875 43.53125 35.828125 \r\nQ 39.65625 40.375 33.015625 40.375 \r\nz\r\nM 52.59375 71.296875 \r\nL 52.59375 62.3125 \r\nQ 48.875 64.0625 45.09375 64.984375 \r\nQ 41.3125 65.921875 37.59375 65.921875 \r\nQ 27.828125 65.921875 22.671875 59.328125 \r\nQ 17.53125 52.734375 16.796875 39.40625 \r\nQ 19.671875 43.65625 24.015625 45.921875 \r\nQ 28.375 48.1875 33.59375 48.1875 \r\nQ 44.578125 48.1875 50.953125 41.515625 \r\nQ 57.328125 34.859375 57.328125 23.390625 \r\nQ 57.328125 12.15625 50.6875 5.359375 \r\nQ 44.046875 -1.421875 33.015625 -1.421875 \r\nQ 20.359375 -1.421875 13.671875 8.265625 \r\nQ 6.984375 17.96875 6.984375 36.375 \r\nQ 6.984375 53.65625 15.1875 63.9375 \r\nQ 23.390625 74.21875 37.203125 74.21875 \r\nQ 40.921875 74.21875 44.703125 73.484375 \r\nQ 48.484375 72.75 52.59375 71.296875 \r\nz\r\n\" id=\"DejaVuSans-54\"/>\r\n     </defs>\r\n     <use xlink:href=\"#DejaVuSans-52\"/>\r\n     <use x=\"63.623047\" xlink:href=\"#DejaVuSans-54\"/>\r\n    </g>\r\n   </g>\r\n   <g id=\"text_17\">\r\n    <!-- 4 -->\r\n    <g style=\"fill:#08306b;\" transform=\"translate(246.03125 106.6175)scale(0.1 -0.1)\">\r\n     <use xlink:href=\"#DejaVuSans-52\"/>\r\n    </g>\r\n   </g>\r\n   <g id=\"text_18\">\r\n    <!-- 1 -->\r\n    <g style=\"fill:#08306b;\" transform=\"translate(300.39125 106.6175)scale(0.1 -0.1)\">\r\n     <use xlink:href=\"#DejaVuSans-49\"/>\r\n    </g>\r\n   </g>\r\n   <g id=\"text_19\">\r\n    <!-- 7 -->\r\n    <g style=\"fill:#08306b;\" transform=\"translate(137.31125 160.9775)scale(0.1 -0.1)\">\r\n     <defs>\r\n      <path d=\"M 8.203125 72.90625 \r\nL 55.078125 72.90625 \r\nL 55.078125 68.703125 \r\nL 28.609375 0 \r\nL 18.3125 0 \r\nL 43.21875 64.59375 \r\nL 8.203125 64.59375 \r\nz\r\n\" id=\"DejaVuSans-55\"/>\r\n     </defs>\r\n     <use xlink:href=\"#DejaVuSans-55\"/>\r\n    </g>\r\n   </g>\r\n   <g id=\"text_20\">\r\n    <!-- 0 -->\r\n    <g style=\"fill:#08306b;\" transform=\"translate(191.67125 160.9775)scale(0.1 -0.1)\">\r\n     <use xlink:href=\"#DejaVuSans-48\"/>\r\n    </g>\r\n   </g>\r\n   <g id=\"text_21\">\r\n    <!-- 56 -->\r\n    <g style=\"fill:#f7fbff;\" transform=\"translate(242.85 160.9775)scale(0.1 -0.1)\">\r\n     <defs>\r\n      <path d=\"M 10.796875 72.90625 \r\nL 49.515625 72.90625 \r\nL 49.515625 64.59375 \r\nL 19.828125 64.59375 \r\nL 19.828125 46.734375 \r\nQ 21.96875 47.46875 24.109375 47.828125 \r\nQ 26.265625 48.1875 28.421875 48.1875 \r\nQ 40.625 48.1875 47.75 41.5 \r\nQ 54.890625 34.8125 54.890625 23.390625 \r\nQ 54.890625 11.625 47.5625 5.09375 \r\nQ 40.234375 -1.421875 26.90625 -1.421875 \r\nQ 22.3125 -1.421875 17.546875 -0.640625 \r\nQ 12.796875 0.140625 7.71875 1.703125 \r\nL 7.71875 11.625 \r\nQ 12.109375 9.234375 16.796875 8.0625 \r\nQ 21.484375 6.890625 26.703125 6.890625 \r\nQ 35.15625 6.890625 40.078125 11.328125 \r\nQ 45.015625 15.765625 45.015625 23.390625 \r\nQ 45.015625 31 40.078125 35.4375 \r\nQ 35.15625 39.890625 26.703125 39.890625 \r\nQ 22.75 39.890625 18.8125 39.015625 \r\nQ 14.890625 38.140625 10.796875 36.28125 \r\nz\r\n\" id=\"DejaVuSans-53\"/>\r\n     </defs>\r\n     <use xlink:href=\"#DejaVuSans-53\"/>\r\n     <use x=\"63.623047\" xlink:href=\"#DejaVuSans-54\"/>\r\n    </g>\r\n   </g>\r\n   <g id=\"text_22\">\r\n    <!-- 0 -->\r\n    <g style=\"fill:#08306b;\" transform=\"translate(300.39125 160.9775)scale(0.1 -0.1)\">\r\n     <use xlink:href=\"#DejaVuSans-48\"/>\r\n    </g>\r\n   </g>\r\n   <g id=\"text_23\">\r\n    <!-- 7 -->\r\n    <g style=\"fill:#08306b;\" transform=\"translate(137.31125 215.3375)scale(0.1 -0.1)\">\r\n     <use xlink:href=\"#DejaVuSans-55\"/>\r\n    </g>\r\n   </g>\r\n   <g id=\"text_24\">\r\n    <!-- 2 -->\r\n    <g style=\"fill:#08306b;\" transform=\"translate(191.67125 215.3375)scale(0.1 -0.1)\">\r\n     <use xlink:href=\"#DejaVuSans-50\"/>\r\n    </g>\r\n   </g>\r\n   <g id=\"text_25\">\r\n    <!-- 6 -->\r\n    <g style=\"fill:#08306b;\" transform=\"translate(246.03125 215.3375)scale(0.1 -0.1)\">\r\n     <use xlink:href=\"#DejaVuSans-54\"/>\r\n    </g>\r\n   </g>\r\n   <g id=\"text_26\">\r\n    <!-- 56 -->\r\n    <g style=\"fill:#f7fbff;\" transform=\"translate(297.21 215.3375)scale(0.1 -0.1)\">\r\n     <use xlink:href=\"#DejaVuSans-53\"/>\r\n     <use x=\"63.623047\" xlink:href=\"#DejaVuSans-54\"/>\r\n    </g>\r\n   </g>\r\n   <g id=\"text_27\">\r\n    <!-- Train dataset Multi-layer Perceptron Classifier -->\r\n    <g transform=\"translate(85.674062 16.318125)scale(0.12 -0.12)\">\r\n     <defs>\r\n      <path d=\"M 44.28125 53.078125 \r\nL 44.28125 44.578125 \r\nQ 40.484375 46.53125 36.375 47.5 \r\nQ 32.28125 48.484375 27.875 48.484375 \r\nQ 21.1875 48.484375 17.84375 46.4375 \r\nQ 14.5 44.390625 14.5 40.28125 \r\nQ 14.5 37.15625 16.890625 35.375 \r\nQ 19.28125 33.59375 26.515625 31.984375 \r\nL 29.59375 31.296875 \r\nQ 39.15625 29.25 43.1875 25.515625 \r\nQ 47.21875 21.78125 47.21875 15.09375 \r\nQ 47.21875 7.46875 41.1875 3.015625 \r\nQ 35.15625 -1.421875 24.609375 -1.421875 \r\nQ 20.21875 -1.421875 15.453125 -0.5625 \r\nQ 10.6875 0.296875 5.421875 2 \r\nL 5.421875 11.28125 \r\nQ 10.40625 8.6875 15.234375 7.390625 \r\nQ 20.0625 6.109375 24.8125 6.109375 \r\nQ 31.15625 6.109375 34.5625 8.28125 \r\nQ 37.984375 10.453125 37.984375 14.40625 \r\nQ 37.984375 18.0625 35.515625 20.015625 \r\nQ 33.0625 21.96875 24.703125 23.78125 \r\nL 21.578125 24.515625 \r\nQ 13.234375 26.265625 9.515625 29.90625 \r\nQ 5.8125 33.546875 5.8125 39.890625 \r\nQ 5.8125 47.609375 11.28125 51.796875 \r\nQ 16.75 56 26.8125 56 \r\nQ 31.78125 56 36.171875 55.265625 \r\nQ 40.578125 54.546875 44.28125 53.078125 \r\nz\r\n\" id=\"DejaVuSans-115\"/>\r\n      <path d=\"M 9.8125 72.90625 \r\nL 24.515625 72.90625 \r\nL 43.109375 23.296875 \r\nL 61.8125 72.90625 \r\nL 76.515625 72.90625 \r\nL 76.515625 0 \r\nL 66.890625 0 \r\nL 66.890625 64.015625 \r\nL 48.09375 14.015625 \r\nL 38.1875 14.015625 \r\nL 19.390625 64.015625 \r\nL 19.390625 0 \r\nL 9.8125 0 \r\nz\r\n\" id=\"DejaVuSans-77\"/>\r\n      <path d=\"M 4.890625 31.390625 \r\nL 31.203125 31.390625 \r\nL 31.203125 23.390625 \r\nL 4.890625 23.390625 \r\nz\r\n\" id=\"DejaVuSans-45\"/>\r\n      <path d=\"M 64.40625 67.28125 \r\nL 64.40625 56.890625 \r\nQ 59.421875 61.53125 53.78125 63.8125 \r\nQ 48.140625 66.109375 41.796875 66.109375 \r\nQ 29.296875 66.109375 22.65625 58.46875 \r\nQ 16.015625 50.828125 16.015625 36.375 \r\nQ 16.015625 21.96875 22.65625 14.328125 \r\nQ 29.296875 6.6875 41.796875 6.6875 \r\nQ 48.140625 6.6875 53.78125 8.984375 \r\nQ 59.421875 11.28125 64.40625 15.921875 \r\nL 64.40625 5.609375 \r\nQ 59.234375 2.09375 53.4375 0.328125 \r\nQ 47.65625 -1.421875 41.21875 -1.421875 \r\nQ 24.65625 -1.421875 15.125 8.703125 \r\nQ 5.609375 18.84375 5.609375 36.375 \r\nQ 5.609375 53.953125 15.125 64.078125 \r\nQ 24.65625 74.21875 41.21875 74.21875 \r\nQ 47.75 74.21875 53.53125 72.484375 \r\nQ 59.328125 70.75 64.40625 67.28125 \r\nz\r\n\" id=\"DejaVuSans-67\"/>\r\n     </defs>\r\n     <use xlink:href=\"#DejaVuSans-84\"/>\r\n     <use x=\"46.333984\" xlink:href=\"#DejaVuSans-114\"/>\r\n     <use x=\"87.447266\" xlink:href=\"#DejaVuSans-97\"/>\r\n     <use x=\"148.726562\" xlink:href=\"#DejaVuSans-105\"/>\r\n     <use x=\"176.509766\" xlink:href=\"#DejaVuSans-110\"/>\r\n     <use x=\"239.888672\" xlink:href=\"#DejaVuSans-32\"/>\r\n     <use x=\"271.675781\" xlink:href=\"#DejaVuSans-100\"/>\r\n     <use x=\"335.152344\" xlink:href=\"#DejaVuSans-97\"/>\r\n     <use x=\"396.431641\" xlink:href=\"#DejaVuSans-116\"/>\r\n     <use x=\"435.640625\" xlink:href=\"#DejaVuSans-97\"/>\r\n     <use x=\"496.919922\" xlink:href=\"#DejaVuSans-115\"/>\r\n     <use x=\"549.019531\" xlink:href=\"#DejaVuSans-101\"/>\r\n     <use x=\"610.542969\" xlink:href=\"#DejaVuSans-116\"/>\r\n     <use x=\"649.751953\" xlink:href=\"#DejaVuSans-32\"/>\r\n     <use x=\"681.539062\" xlink:href=\"#DejaVuSans-77\"/>\r\n     <use x=\"767.818359\" xlink:href=\"#DejaVuSans-117\"/>\r\n     <use x=\"831.197266\" xlink:href=\"#DejaVuSans-108\"/>\r\n     <use x=\"858.980469\" xlink:href=\"#DejaVuSans-116\"/>\r\n     <use x=\"898.189453\" xlink:href=\"#DejaVuSans-105\"/>\r\n     <use x=\"925.972656\" xlink:href=\"#DejaVuSans-45\"/>\r\n     <use x=\"962.056641\" xlink:href=\"#DejaVuSans-108\"/>\r\n     <use x=\"989.839844\" xlink:href=\"#DejaVuSans-97\"/>\r\n     <use x=\"1051.119141\" xlink:href=\"#DejaVuSans-121\"/>\r\n     <use x=\"1110.298828\" xlink:href=\"#DejaVuSans-101\"/>\r\n     <use x=\"1171.822266\" xlink:href=\"#DejaVuSans-114\"/>\r\n     <use x=\"1212.935547\" xlink:href=\"#DejaVuSans-32\"/>\r\n     <use x=\"1244.722656\" xlink:href=\"#DejaVuSans-80\"/>\r\n     <use x=\"1301.400391\" xlink:href=\"#DejaVuSans-101\"/>\r\n     <use x=\"1362.923828\" xlink:href=\"#DejaVuSans-114\"/>\r\n     <use x=\"1401.787109\" xlink:href=\"#DejaVuSans-99\"/>\r\n     <use x=\"1456.767578\" xlink:href=\"#DejaVuSans-101\"/>\r\n     <use x=\"1518.291016\" xlink:href=\"#DejaVuSans-112\"/>\r\n     <use x=\"1581.767578\" xlink:href=\"#DejaVuSans-116\"/>\r\n     <use x=\"1620.976562\" xlink:href=\"#DejaVuSans-114\"/>\r\n     <use x=\"1659.839844\" xlink:href=\"#DejaVuSans-111\"/>\r\n     <use x=\"1721.021484\" xlink:href=\"#DejaVuSans-110\"/>\r\n     <use x=\"1784.400391\" xlink:href=\"#DejaVuSans-32\"/>\r\n     <use x=\"1816.1875\" xlink:href=\"#DejaVuSans-67\"/>\r\n     <use x=\"1886.011719\" xlink:href=\"#DejaVuSans-108\"/>\r\n     <use x=\"1913.794922\" xlink:href=\"#DejaVuSans-97\"/>\r\n     <use x=\"1975.074219\" xlink:href=\"#DejaVuSans-115\"/>\r\n     <use x=\"2027.173828\" xlink:href=\"#DejaVuSans-115\"/>\r\n     <use x=\"2079.273438\" xlink:href=\"#DejaVuSans-105\"/>\r\n     <use x=\"2107.056641\" xlink:href=\"#DejaVuSans-102\"/>\r\n     <use x=\"2142.261719\" xlink:href=\"#DejaVuSans-105\"/>\r\n     <use x=\"2170.044922\" xlink:href=\"#DejaVuSans-101\"/>\r\n     <use x=\"2231.568359\" xlink:href=\"#DejaVuSans-114\"/>\r\n    </g>\r\n   </g>\r\n  </g>\r\n  <g id=\"axes_2\">\r\n   <g id=\"patch_7\">\r\n    <path clip-path=\"url(#p672e58746e)\" d=\"M 347.4925 239.758125 \r\nL 347.4925 238.90875 \r\nL 347.4925 23.1675 \r\nL 347.4925 22.318125 \r\nL 358.3645 22.318125 \r\nL 358.3645 23.1675 \r\nL 358.3645 238.90875 \r\nL 358.3645 239.758125 \r\nz\r\n\" style=\"fill:#ffffff;stroke:#ffffff;stroke-linejoin:miter;stroke-width:0.01;\"/>\r\n   </g>\r\n   <image height=\"217\" id=\"imagefc70975334\" transform=\"scale(1 -1)translate(0 -217)\" width=\"11\" x=\"347\" xlink:href=\"data:image/png;base64,\r\niVBORw0KGgoAAAANSUhEUgAAAAsAAADZCAYAAAD2WsoCAAABHElEQVR4nO2YMQ4CMRADA8r/n0uByIYWukwxyIvuamvl2F4nutvjufc4/OYex9gxz+diMKEBsGMCLORcAH0HLEzpQhyEkwEYZgNwLk26kSEdzAbh7NHQeoPZ3bC+OvZGinRX+H9CI0Q67VWQckBkNzygdsNqDi50wAzOlZHnOh/stqjFuUBGGWezN8Dk5VWBlzrtcYKqQGxR7e5eJM9eP3sOIp0X6ALTwXOsScPLBrQ7osw9ndk9KLaot7AR0nn93DEbaLs9nc2/EKj5I3YwJBvslctoRKgBD2jRCJls2g1oeEHy7O4YpJDtZn8CxWycvxlTODNwht0h2fh/u69sfICh3YhGw8n1sia3VGNF0ECTycJedn+BO9ptTX4DblXiEVeBW/gAAAAASUVORK5CYII=\" y=\"-22\"/>\r\n   <g id=\"matplotlib.axis_3\"/>\r\n   <g id=\"matplotlib.axis_4\">\r\n    <g id=\"ytick_5\">\r\n     <g id=\"line2d_9\">\r\n      <defs>\r\n       <path d=\"M 0 0 \r\nL 3.5 0 \r\n\" id=\"m5336762000\" style=\"stroke:#000000;stroke-width:0.8;\"/>\r\n      </defs>\r\n      <g>\r\n       <use style=\"stroke:#000000;stroke-width:0.8;\" x=\"358.3645\" xlink:href=\"#m5336762000\" y=\"239.758125\"/>\r\n      </g>\r\n     </g>\r\n     <g id=\"text_28\">\r\n      <!-- 0 -->\r\n      <g transform=\"translate(365.3645 243.557344)scale(0.1 -0.1)\">\r\n       <use xlink:href=\"#DejaVuSans-48\"/>\r\n      </g>\r\n     </g>\r\n    </g>\r\n    <g id=\"ytick_6\">\r\n     <g id=\"line2d_10\">\r\n      <g>\r\n       <use style=\"stroke:#000000;stroke-width:0.8;\" x=\"358.3645\" xlink:href=\"#m5336762000\" y=\"200.929554\"/>\r\n      </g>\r\n     </g>\r\n     <g id=\"text_29\">\r\n      <!-- 10 -->\r\n      <g transform=\"translate(365.3645 204.728772)scale(0.1 -0.1)\">\r\n       <use xlink:href=\"#DejaVuSans-49\"/>\r\n       <use x=\"63.623047\" xlink:href=\"#DejaVuSans-48\"/>\r\n      </g>\r\n     </g>\r\n    </g>\r\n    <g id=\"ytick_7\">\r\n     <g id=\"line2d_11\">\r\n      <g>\r\n       <use style=\"stroke:#000000;stroke-width:0.8;\" x=\"358.3645\" xlink:href=\"#m5336762000\" y=\"162.100982\"/>\r\n      </g>\r\n     </g>\r\n     <g id=\"text_30\">\r\n      <!-- 20 -->\r\n      <g transform=\"translate(365.3645 165.900201)scale(0.1 -0.1)\">\r\n       <use xlink:href=\"#DejaVuSans-50\"/>\r\n       <use x=\"63.623047\" xlink:href=\"#DejaVuSans-48\"/>\r\n      </g>\r\n     </g>\r\n    </g>\r\n    <g id=\"ytick_8\">\r\n     <g id=\"line2d_12\">\r\n      <g>\r\n       <use style=\"stroke:#000000;stroke-width:0.8;\" x=\"358.3645\" xlink:href=\"#m5336762000\" y=\"123.272411\"/>\r\n      </g>\r\n     </g>\r\n     <g id=\"text_31\">\r\n      <!-- 30 -->\r\n      <g transform=\"translate(365.3645 127.071629)scale(0.1 -0.1)\">\r\n       <use xlink:href=\"#DejaVuSans-51\"/>\r\n       <use x=\"63.623047\" xlink:href=\"#DejaVuSans-48\"/>\r\n      </g>\r\n     </g>\r\n    </g>\r\n    <g id=\"ytick_9\">\r\n     <g id=\"line2d_13\">\r\n      <g>\r\n       <use style=\"stroke:#000000;stroke-width:0.8;\" x=\"358.3645\" xlink:href=\"#m5336762000\" y=\"84.443839\"/>\r\n      </g>\r\n     </g>\r\n     <g id=\"text_32\">\r\n      <!-- 40 -->\r\n      <g transform=\"translate(365.3645 88.243058)scale(0.1 -0.1)\">\r\n       <use xlink:href=\"#DejaVuSans-52\"/>\r\n       <use x=\"63.623047\" xlink:href=\"#DejaVuSans-48\"/>\r\n      </g>\r\n     </g>\r\n    </g>\r\n    <g id=\"ytick_10\">\r\n     <g id=\"line2d_14\">\r\n      <g>\r\n       <use style=\"stroke:#000000;stroke-width:0.8;\" x=\"358.3645\" xlink:href=\"#m5336762000\" y=\"45.615268\"/>\r\n      </g>\r\n     </g>\r\n     <g id=\"text_33\">\r\n      <!-- 50 -->\r\n      <g transform=\"translate(365.3645 49.414487)scale(0.1 -0.1)\">\r\n       <use xlink:href=\"#DejaVuSans-53\"/>\r\n       <use x=\"63.623047\" xlink:href=\"#DejaVuSans-48\"/>\r\n      </g>\r\n     </g>\r\n    </g>\r\n   </g>\r\n   <g id=\"patch_8\">\r\n    <path d=\"M 347.4925 239.758125 \r\nL 347.4925 238.90875 \r\nL 347.4925 23.1675 \r\nL 347.4925 22.318125 \r\nL 358.3645 22.318125 \r\nL 358.3645 23.1675 \r\nL 358.3645 238.90875 \r\nL 358.3645 239.758125 \r\nz\r\n\" style=\"fill:none;stroke:#000000;stroke-linejoin:miter;stroke-width:0.8;\"/>\r\n   </g>\r\n  </g>\r\n </g>\r\n <defs>\r\n  <clipPath id=\"p4c22fcc1a5\">\r\n   <rect height=\"217.44\" width=\"217.44\" x=\"113.3125\" y=\"22.318125\"/>\r\n  </clipPath>\r\n  <clipPath id=\"p672e58746e\">\r\n   <rect height=\"217.44\" width=\"10.872\" x=\"347.4925\" y=\"22.318125\"/>\r\n  </clipPath>\r\n </defs>\r\n</svg>\r\n",
      "image/png": "[encoded data removed]"
     },
     "metadata": {
      "needs_background": "light"
     }
    },
    {
     "output_type": "display_data",
     "data": {
      "text/plain": "<Figure size 432x288 with 2 Axes>",
      "image/svg+xml": "<?xml version=\"1.0\" encoding=\"utf-8\" standalone=\"no\"?>\r\n<!DOCTYPE svg PUBLIC \"-//W3C//DTD SVG 1.1//EN\"\r\n  \"http://www.w3.org/Graphics/SVG/1.1/DTD/svg11.dtd\">\r\n<!-- Created with matplotlib (https://matplotlib.org/) -->\r\n<svg height=\"277.314375pt\" version=\"1.1\" viewBox=\"0 0 385.2895 277.314375\" width=\"385.2895pt\" xmlns=\"http://www.w3.org/2000/svg\" xmlns:xlink=\"http://www.w3.org/1999/xlink\">\r\n <metadata>\r\n  <rdf:RDF xmlns:cc=\"http://creativecommons.org/ns#\" xmlns:dc=\"http://purl.org/dc/elements/1.1/\" xmlns:rdf=\"http://www.w3.org/1999/02/22-rdf-syntax-ns#\">\r\n   <cc:Work>\r\n    <dc:type rdf:resource=\"http://purl.org/dc/dcmitype/StillImage\"/>\r\n    <dc:date>2020-12-18T15:54:49.869766</dc:date>\r\n    <dc:format>image/svg+xml</dc:format>\r\n    <dc:creator>\r\n     <cc:Agent>\r\n      <dc:title>Matplotlib v3.3.2, https://matplotlib.org/</dc:title>\r\n     </cc:Agent>\r\n    </dc:creator>\r\n   </cc:Work>\r\n  </rdf:RDF>\r\n </metadata>\r\n <defs>\r\n  <style type=\"text/css\">*{stroke-linecap:butt;stroke-linejoin:round;}</style>\r\n </defs>\r\n <g id=\"figure_1\">\r\n  <g id=\"patch_1\">\r\n   <path d=\"M 0 277.314375 \r\nL 385.2895 277.314375 \r\nL 385.2895 0 \r\nL 0 0 \r\nz\r\n\" style=\"fill:none;\"/>\r\n  </g>\r\n  <g id=\"axes_1\">\r\n   <g id=\"patch_2\">\r\n    <path d=\"M 113.3125 239.758125 \r\nL 330.7525 239.758125 \r\nL 330.7525 22.318125 \r\nL 113.3125 22.318125 \r\nz\r\n\" style=\"fill:#ffffff;\"/>\r\n   </g>\r\n   <g clip-path=\"url(#pff5cb14108)\">\r\n    <image height=\"218\" id=\"imaged8c5f1bad4\" transform=\"scale(1 -1)translate(0 -218)\" width=\"218\" x=\"113.3125\" xlink:href=\"data:image/png;base64,\r\niVBORw0KGgoAAAANSUhEUgAAANoAAADaCAYAAADAHVzbAAAC4ElEQVR4nO3VoU1DYQBFYUoaDAqLRDMEA2C6CoOgmnQIlsBVINgAh36qIXmIMgPiP38I3zfBNSd38/V9Pl/wpyyndfaEIXaH4+wJw1zOHgD/gdAgIDQICA0CQoOA0CAgNAgIDQJCg4DQICA0CAgNAkKDgNAgIDQICA0CQoOA0CAgNAgIDQJCg4DQICA0CAgNAkKDgNAgIDQICA0CQoOA0CAgNAgIDQJCg4DQICA0CAgNAkKDgNAgIDQICA0CQoOA0CAgNAgIDQJCg4DQICA0CAgNAkKDgNAgIDQICA0CQoOA0CCwnT1glOW0zp4wzN3D0+wJQyxv+9kThvFoEBAaBIQGAaFBQGgQEBoEhAYBoUFAaBAQGgSEBgGhQUBoEBAaBIQGAaFBQGgQEBoEhAYBoUFAaBAQGgSEBgGhQUBoEBAaBIQGAaFBQGgQEBoEhAYBoUFAaBAQGgSEBgGhQUBoEBAaBIQGAaFBQGgQEBoEhAYBoUFAaBAQGgSEBgGhQUBoEBAaBIQGAaFBQGgQ2M4eMMrucJw9YZiP1+fZE/gljwYBoUFAaBAQGgSEBgGhQUBoEBAaBIQGAaFBQGgQEBoEhAYBoUFAaBAQGgSEBgGhQUBoEBAaBIQGAaFBQGgQEBoEhAYBoUFAaBAQGgSEBgGhQUBoEBAaBIQGAaFBQGgQEBoEhAYBoUFAaBAQGgSEBgGhQUBoEBAaBIQGAaFBQGgQEBoEhAYBoUFAaBAQGgSEBgGhQWDz8v55nj1ihMf729kThllO6+wJQ9xcX82eMIxHg4DQICA0CAgNAkKDgNAgIDQICA0CQoOA0CAgNAgIDQJCg4DQICA0CAgNAkKDgNAgIDQICA0CQoOA0CAgNAgIDQJCg4DQICA0CAgNAkKDgNAgIDQICA0CQoOA0CAgNAgIDQJCg4DQICA0CAgNAkKDgNAgIDQICA0CQoOA0CAgNAgIDQJCg4DQICA0CAgNAkKDwA+hVxr/tAedhAAAAABJRU5ErkJggg==\" y=\"-21.758125\"/>\r\n   </g>\r\n   <g id=\"matplotlib.axis_1\">\r\n    <g id=\"xtick_1\">\r\n     <g id=\"line2d_1\">\r\n      <defs>\r\n       <path d=\"M 0 0 \r\nL 0 3.5 \r\n\" id=\"mf6244f79d4\" style=\"stroke:#000000;stroke-width:0.8;\"/>\r\n      </defs>\r\n      <g>\r\n       <use style=\"stroke:#000000;stroke-width:0.8;\" x=\"140.4925\" xlink:href=\"#mf6244f79d4\" y=\"239.758125\"/>\r\n      </g>\r\n     </g>\r\n     <g id=\"text_1\">\r\n      <!-- Analytical Report -->\r\n      <g transform=\"translate(97.775313 254.356562)scale(0.1 -0.1)\">\r\n       <defs>\r\n        <path d=\"M 34.1875 63.1875 \r\nL 20.796875 26.90625 \r\nL 47.609375 26.90625 \r\nz\r\nM 28.609375 72.90625 \r\nL 39.796875 72.90625 \r\nL 67.578125 0 \r\nL 57.328125 0 \r\nL 50.6875 18.703125 \r\nL 17.828125 18.703125 \r\nL 11.1875 0 \r\nL 0.78125 0 \r\nz\r\n\" id=\"DejaVuSans-65\"/>\r\n        <path d=\"M 54.890625 33.015625 \r\nL 54.890625 0 \r\nL 45.90625 0 \r\nL 45.90625 32.71875 \r\nQ 45.90625 40.484375 42.875 44.328125 \r\nQ 39.84375 48.1875 33.796875 48.1875 \r\nQ 26.515625 48.1875 22.3125 43.546875 \r\nQ 18.109375 38.921875 18.109375 30.90625 \r\nL 18.109375 0 \r\nL 9.078125 0 \r\nL 9.078125 54.6875 \r\nL 18.109375 54.6875 \r\nL 18.109375 46.1875 \r\nQ 21.34375 51.125 25.703125 53.5625 \r\nQ 30.078125 56 35.796875 56 \r\nQ 45.21875 56 50.046875 50.171875 \r\nQ 54.890625 44.34375 54.890625 33.015625 \r\nz\r\n\" id=\"DejaVuSans-110\"/>\r\n        <path d=\"M 34.28125 27.484375 \r\nQ 23.390625 27.484375 19.1875 25 \r\nQ 14.984375 22.515625 14.984375 16.5 \r\nQ 14.984375 11.71875 18.140625 8.90625 \r\nQ 21.296875 6.109375 26.703125 6.109375 \r\nQ 34.1875 6.109375 38.703125 11.40625 \r\nQ 43.21875 16.703125 43.21875 25.484375 \r\nL 43.21875 27.484375 \r\nz\r\nM 52.203125 31.203125 \r\nL 52.203125 0 \r\nL 43.21875 0 \r\nL 43.21875 8.296875 \r\nQ 40.140625 3.328125 35.546875 0.953125 \r\nQ 30.953125 -1.421875 24.3125 -1.421875 \r\nQ 15.921875 -1.421875 10.953125 3.296875 \r\nQ 6 8.015625 6 15.921875 \r\nQ 6 25.140625 12.171875 29.828125 \r\nQ 18.359375 34.515625 30.609375 34.515625 \r\nL 43.21875 34.515625 \r\nL 43.21875 35.40625 \r\nQ 43.21875 41.609375 39.140625 45 \r\nQ 35.0625 48.390625 27.6875 48.390625 \r\nQ 23 48.390625 18.546875 47.265625 \r\nQ 14.109375 46.140625 10.015625 43.890625 \r\nL 10.015625 52.203125 \r\nQ 14.9375 54.109375 19.578125 55.046875 \r\nQ 24.21875 56 28.609375 56 \r\nQ 40.484375 56 46.34375 49.84375 \r\nQ 52.203125 43.703125 52.203125 31.203125 \r\nz\r\n\" id=\"DejaVuSans-97\"/>\r\n        <path d=\"M 9.421875 75.984375 \r\nL 18.40625 75.984375 \r\nL 18.40625 0 \r\nL 9.421875 0 \r\nz\r\n\" id=\"DejaVuSans-108\"/>\r\n        <path d=\"M 32.171875 -5.078125 \r\nQ 28.375 -14.84375 24.75 -17.8125 \r\nQ 21.140625 -20.796875 15.09375 -20.796875 \r\nL 7.90625 -20.796875 \r\nL 7.90625 -13.28125 \r\nL 13.1875 -13.28125 \r\nQ 16.890625 -13.28125 18.9375 -11.515625 \r\nQ 21 -9.765625 23.484375 -3.21875 \r\nL 25.09375 0.875 \r\nL 2.984375 54.6875 \r\nL 12.5 54.6875 \r\nL 29.59375 11.921875 \r\nL 46.6875 54.6875 \r\nL 56.203125 54.6875 \r\nz\r\n\" id=\"DejaVuSans-121\"/>\r\n        <path d=\"M 18.3125 70.21875 \r\nL 18.3125 54.6875 \r\nL 36.8125 54.6875 \r\nL 36.8125 47.703125 \r\nL 18.3125 47.703125 \r\nL 18.3125 18.015625 \r\nQ 18.3125 11.328125 20.140625 9.421875 \r\nQ 21.96875 7.515625 27.59375 7.515625 \r\nL 36.8125 7.515625 \r\nL 36.8125 0 \r\nL 27.59375 0 \r\nQ 17.1875 0 13.234375 3.875 \r\nQ 9.28125 7.765625 9.28125 18.015625 \r\nL 9.28125 47.703125 \r\nL 2.6875 47.703125 \r\nL 2.6875 54.6875 \r\nL 9.28125 54.6875 \r\nL 9.28125 70.21875 \r\nz\r\n\" id=\"DejaVuSans-116\"/>\r\n        <path d=\"M 9.421875 54.6875 \r\nL 18.40625 54.6875 \r\nL 18.40625 0 \r\nL 9.421875 0 \r\nz\r\nM 9.421875 75.984375 \r\nL 18.40625 75.984375 \r\nL 18.40625 64.59375 \r\nL 9.421875 64.59375 \r\nz\r\n\" id=\"DejaVuSans-105\"/>\r\n        <path d=\"M 48.78125 52.59375 \r\nL 48.78125 44.1875 \r\nQ 44.96875 46.296875 41.140625 47.34375 \r\nQ 37.3125 48.390625 33.40625 48.390625 \r\nQ 24.65625 48.390625 19.8125 42.84375 \r\nQ 14.984375 37.3125 14.984375 27.296875 \r\nQ 14.984375 17.28125 19.8125 11.734375 \r\nQ 24.65625 6.203125 33.40625 6.203125 \r\nQ 37.3125 6.203125 41.140625 7.25 \r\nQ 44.96875 8.296875 48.78125 10.40625 \r\nL 48.78125 2.09375 \r\nQ 45.015625 0.34375 40.984375 -0.53125 \r\nQ 36.96875 -1.421875 32.421875 -1.421875 \r\nQ 20.0625 -1.421875 12.78125 6.34375 \r\nQ 5.515625 14.109375 5.515625 27.296875 \r\nQ 5.515625 40.671875 12.859375 48.328125 \r\nQ 20.21875 56 33.015625 56 \r\nQ 37.15625 56 41.109375 55.140625 \r\nQ 45.0625 54.296875 48.78125 52.59375 \r\nz\r\n\" id=\"DejaVuSans-99\"/>\r\n        <path id=\"DejaVuSans-32\"/>\r\n        <path d=\"M 44.390625 34.1875 \r\nQ 47.5625 33.109375 50.5625 29.59375 \r\nQ 53.5625 26.078125 56.59375 19.921875 \r\nL 66.609375 0 \r\nL 56 0 \r\nL 46.6875 18.703125 \r\nQ 43.0625 26.03125 39.671875 28.421875 \r\nQ 36.28125 30.8125 30.421875 30.8125 \r\nL 19.671875 30.8125 \r\nL 19.671875 0 \r\nL 9.8125 0 \r\nL 9.8125 72.90625 \r\nL 32.078125 72.90625 \r\nQ 44.578125 72.90625 50.734375 67.671875 \r\nQ 56.890625 62.453125 56.890625 51.90625 \r\nQ 56.890625 45.015625 53.6875 40.46875 \r\nQ 50.484375 35.9375 44.390625 34.1875 \r\nz\r\nM 19.671875 64.796875 \r\nL 19.671875 38.921875 \r\nL 32.078125 38.921875 \r\nQ 39.203125 38.921875 42.84375 42.21875 \r\nQ 46.484375 45.515625 46.484375 51.90625 \r\nQ 46.484375 58.296875 42.84375 61.546875 \r\nQ 39.203125 64.796875 32.078125 64.796875 \r\nz\r\n\" id=\"DejaVuSans-82\"/>\r\n        <path d=\"M 56.203125 29.59375 \r\nL 56.203125 25.203125 \r\nL 14.890625 25.203125 \r\nQ 15.484375 15.921875 20.484375 11.0625 \r\nQ 25.484375 6.203125 34.421875 6.203125 \r\nQ 39.59375 6.203125 44.453125 7.46875 \r\nQ 49.3125 8.734375 54.109375 11.28125 \r\nL 54.109375 2.78125 \r\nQ 49.265625 0.734375 44.1875 -0.34375 \r\nQ 39.109375 -1.421875 33.890625 -1.421875 \r\nQ 20.796875 -1.421875 13.15625 6.1875 \r\nQ 5.515625 13.8125 5.515625 26.8125 \r\nQ 5.515625 40.234375 12.765625 48.109375 \r\nQ 20.015625 56 32.328125 56 \r\nQ 43.359375 56 49.78125 48.890625 \r\nQ 56.203125 41.796875 56.203125 29.59375 \r\nz\r\nM 47.21875 32.234375 \r\nQ 47.125 39.59375 43.09375 43.984375 \r\nQ 39.0625 48.390625 32.421875 48.390625 \r\nQ 24.90625 48.390625 20.390625 44.140625 \r\nQ 15.875 39.890625 15.1875 32.171875 \r\nz\r\n\" id=\"DejaVuSans-101\"/>\r\n        <path d=\"M 18.109375 8.203125 \r\nL 18.109375 -20.796875 \r\nL 9.078125 -20.796875 \r\nL 9.078125 54.6875 \r\nL 18.109375 54.6875 \r\nL 18.109375 46.390625 \r\nQ 20.953125 51.265625 25.265625 53.625 \r\nQ 29.59375 56 35.59375 56 \r\nQ 45.5625 56 51.78125 48.09375 \r\nQ 58.015625 40.1875 58.015625 27.296875 \r\nQ 58.015625 14.40625 51.78125 6.484375 \r\nQ 45.5625 -1.421875 35.59375 -1.421875 \r\nQ 29.59375 -1.421875 25.265625 0.953125 \r\nQ 20.953125 3.328125 18.109375 8.203125 \r\nz\r\nM 48.6875 27.296875 \r\nQ 48.6875 37.203125 44.609375 42.84375 \r\nQ 40.53125 48.484375 33.40625 48.484375 \r\nQ 26.265625 48.484375 22.1875 42.84375 \r\nQ 18.109375 37.203125 18.109375 27.296875 \r\nQ 18.109375 17.390625 22.1875 11.75 \r\nQ 26.265625 6.109375 33.40625 6.109375 \r\nQ 40.53125 6.109375 44.609375 11.75 \r\nQ 48.6875 17.390625 48.6875 27.296875 \r\nz\r\n\" id=\"DejaVuSans-112\"/>\r\n        <path d=\"M 30.609375 48.390625 \r\nQ 23.390625 48.390625 19.1875 42.75 \r\nQ 14.984375 37.109375 14.984375 27.296875 \r\nQ 14.984375 17.484375 19.15625 11.84375 \r\nQ 23.34375 6.203125 30.609375 6.203125 \r\nQ 37.796875 6.203125 41.984375 11.859375 \r\nQ 46.1875 17.53125 46.1875 27.296875 \r\nQ 46.1875 37.015625 41.984375 42.703125 \r\nQ 37.796875 48.390625 30.609375 48.390625 \r\nz\r\nM 30.609375 56 \r\nQ 42.328125 56 49.015625 48.375 \r\nQ 55.71875 40.765625 55.71875 27.296875 \r\nQ 55.71875 13.875 49.015625 6.21875 \r\nQ 42.328125 -1.421875 30.609375 -1.421875 \r\nQ 18.84375 -1.421875 12.171875 6.21875 \r\nQ 5.515625 13.875 5.515625 27.296875 \r\nQ 5.515625 40.765625 12.171875 48.375 \r\nQ 18.84375 56 30.609375 56 \r\nz\r\n\" id=\"DejaVuSans-111\"/>\r\n        <path d=\"M 41.109375 46.296875 \r\nQ 39.59375 47.171875 37.8125 47.578125 \r\nQ 36.03125 48 33.890625 48 \r\nQ 26.265625 48 22.1875 43.046875 \r\nQ 18.109375 38.09375 18.109375 28.8125 \r\nL 18.109375 0 \r\nL 9.078125 0 \r\nL 9.078125 54.6875 \r\nL 18.109375 54.6875 \r\nL 18.109375 46.1875 \r\nQ 20.953125 51.171875 25.484375 53.578125 \r\nQ 30.03125 56 36.53125 56 \r\nQ 37.453125 56 38.578125 55.875 \r\nQ 39.703125 55.765625 41.0625 55.515625 \r\nz\r\n\" id=\"DejaVuSans-114\"/>\r\n       </defs>\r\n       <use xlink:href=\"#DejaVuSans-65\"/>\r\n       <use x=\"68.408203\" xlink:href=\"#DejaVuSans-110\"/>\r\n       <use x=\"131.787109\" xlink:href=\"#DejaVuSans-97\"/>\r\n       <use x=\"193.066406\" xlink:href=\"#DejaVuSans-108\"/>\r\n       <use x=\"220.849609\" xlink:href=\"#DejaVuSans-121\"/>\r\n       <use x=\"280.029297\" xlink:href=\"#DejaVuSans-116\"/>\r\n       <use x=\"319.238281\" xlink:href=\"#DejaVuSans-105\"/>\r\n       <use x=\"347.021484\" xlink:href=\"#DejaVuSans-99\"/>\r\n       <use x=\"402.001953\" xlink:href=\"#DejaVuSans-97\"/>\r\n       <use x=\"463.28125\" xlink:href=\"#DejaVuSans-108\"/>\r\n       <use x=\"491.064453\" xlink:href=\"#DejaVuSans-32\"/>\r\n       <use x=\"522.851562\" xlink:href=\"#DejaVuSans-82\"/>\r\n       <use x=\"587.833984\" xlink:href=\"#DejaVuSans-101\"/>\r\n       <use x=\"649.357422\" xlink:href=\"#DejaVuSans-112\"/>\r\n       <use x=\"712.833984\" xlink:href=\"#DejaVuSans-111\"/>\r\n       <use x=\"774.015625\" xlink:href=\"#DejaVuSans-114\"/>\r\n       <use x=\"815.128906\" xlink:href=\"#DejaVuSans-116\"/>\r\n      </g>\r\n     </g>\r\n    </g>\r\n    <g id=\"xtick_2\">\r\n     <g id=\"line2d_2\">\r\n      <g>\r\n       <use style=\"stroke:#000000;stroke-width:0.8;\" x=\"194.8525\" xlink:href=\"#mf6244f79d4\" y=\"239.758125\"/>\r\n      </g>\r\n     </g>\r\n     <g id=\"text_2\">\r\n      <!-- Incident Report -->\r\n      <g transform=\"translate(156.526719 254.356562)scale(0.1 -0.1)\">\r\n       <defs>\r\n        <path d=\"M 9.8125 72.90625 \r\nL 19.671875 72.90625 \r\nL 19.671875 0 \r\nL 9.8125 0 \r\nz\r\n\" id=\"DejaVuSans-73\"/>\r\n        <path d=\"M 45.40625 46.390625 \r\nL 45.40625 75.984375 \r\nL 54.390625 75.984375 \r\nL 54.390625 0 \r\nL 45.40625 0 \r\nL 45.40625 8.203125 \r\nQ 42.578125 3.328125 38.25 0.953125 \r\nQ 33.9375 -1.421875 27.875 -1.421875 \r\nQ 17.96875 -1.421875 11.734375 6.484375 \r\nQ 5.515625 14.40625 5.515625 27.296875 \r\nQ 5.515625 40.1875 11.734375 48.09375 \r\nQ 17.96875 56 27.875 56 \r\nQ 33.9375 56 38.25 53.625 \r\nQ 42.578125 51.265625 45.40625 46.390625 \r\nz\r\nM 14.796875 27.296875 \r\nQ 14.796875 17.390625 18.875 11.75 \r\nQ 22.953125 6.109375 30.078125 6.109375 \r\nQ 37.203125 6.109375 41.296875 11.75 \r\nQ 45.40625 17.390625 45.40625 27.296875 \r\nQ 45.40625 37.203125 41.296875 42.84375 \r\nQ 37.203125 48.484375 30.078125 48.484375 \r\nQ 22.953125 48.484375 18.875 42.84375 \r\nQ 14.796875 37.203125 14.796875 27.296875 \r\nz\r\n\" id=\"DejaVuSans-100\"/>\r\n       </defs>\r\n       <use xlink:href=\"#DejaVuSans-73\"/>\r\n       <use x=\"29.492188\" xlink:href=\"#DejaVuSans-110\"/>\r\n       <use x=\"92.871094\" xlink:href=\"#DejaVuSans-99\"/>\r\n       <use x=\"147.851562\" xlink:href=\"#DejaVuSans-105\"/>\r\n       <use x=\"175.634766\" xlink:href=\"#DejaVuSans-100\"/>\r\n       <use x=\"239.111328\" xlink:href=\"#DejaVuSans-101\"/>\r\n       <use x=\"300.634766\" xlink:href=\"#DejaVuSans-110\"/>\r\n       <use x=\"364.013672\" xlink:href=\"#DejaVuSans-116\"/>\r\n       <use x=\"403.222656\" xlink:href=\"#DejaVuSans-32\"/>\r\n       <use x=\"435.009766\" xlink:href=\"#DejaVuSans-82\"/>\r\n       <use x=\"499.992188\" xlink:href=\"#DejaVuSans-101\"/>\r\n       <use x=\"561.515625\" xlink:href=\"#DejaVuSans-112\"/>\r\n       <use x=\"624.992188\" xlink:href=\"#DejaVuSans-111\"/>\r\n       <use x=\"686.173828\" xlink:href=\"#DejaVuSans-114\"/>\r\n       <use x=\"727.287109\" xlink:href=\"#DejaVuSans-116\"/>\r\n      </g>\r\n     </g>\r\n    </g>\r\n    <g id=\"xtick_3\">\r\n     <g id=\"line2d_3\">\r\n      <g>\r\n       <use style=\"stroke:#000000;stroke-width:0.8;\" x=\"249.2125\" xlink:href=\"#mf6244f79d4\" y=\"239.758125\"/>\r\n      </g>\r\n     </g>\r\n     <g id=\"text_3\">\r\n      <!-- Profile Report -->\r\n      <g transform=\"translate(215.503906 254.356562)scale(0.1 -0.1)\">\r\n       <defs>\r\n        <path d=\"M 19.671875 64.796875 \r\nL 19.671875 37.40625 \r\nL 32.078125 37.40625 \r\nQ 38.96875 37.40625 42.71875 40.96875 \r\nQ 46.484375 44.53125 46.484375 51.125 \r\nQ 46.484375 57.671875 42.71875 61.234375 \r\nQ 38.96875 64.796875 32.078125 64.796875 \r\nz\r\nM 9.8125 72.90625 \r\nL 32.078125 72.90625 \r\nQ 44.34375 72.90625 50.609375 67.359375 \r\nQ 56.890625 61.8125 56.890625 51.125 \r\nQ 56.890625 40.328125 50.609375 34.8125 \r\nQ 44.34375 29.296875 32.078125 29.296875 \r\nL 19.671875 29.296875 \r\nL 19.671875 0 \r\nL 9.8125 0 \r\nz\r\n\" id=\"DejaVuSans-80\"/>\r\n        <path d=\"M 37.109375 75.984375 \r\nL 37.109375 68.5 \r\nL 28.515625 68.5 \r\nQ 23.6875 68.5 21.796875 66.546875 \r\nQ 19.921875 64.59375 19.921875 59.515625 \r\nL 19.921875 54.6875 \r\nL 34.71875 54.6875 \r\nL 34.71875 47.703125 \r\nL 19.921875 47.703125 \r\nL 19.921875 0 \r\nL 10.890625 0 \r\nL 10.890625 47.703125 \r\nL 2.296875 47.703125 \r\nL 2.296875 54.6875 \r\nL 10.890625 54.6875 \r\nL 10.890625 58.5 \r\nQ 10.890625 67.625 15.140625 71.796875 \r\nQ 19.390625 75.984375 28.609375 75.984375 \r\nz\r\n\" id=\"DejaVuSans-102\"/>\r\n       </defs>\r\n       <use xlink:href=\"#DejaVuSans-80\"/>\r\n       <use x=\"58.552734\" xlink:href=\"#DejaVuSans-114\"/>\r\n       <use x=\"97.416016\" xlink:href=\"#DejaVuSans-111\"/>\r\n       <use x=\"158.597656\" xlink:href=\"#DejaVuSans-102\"/>\r\n       <use x=\"193.802734\" xlink:href=\"#DejaVuSans-105\"/>\r\n       <use x=\"221.585938\" xlink:href=\"#DejaVuSans-108\"/>\r\n       <use x=\"249.369141\" xlink:href=\"#DejaVuSans-101\"/>\r\n       <use x=\"310.892578\" xlink:href=\"#DejaVuSans-32\"/>\r\n       <use x=\"342.679688\" xlink:href=\"#DejaVuSans-82\"/>\r\n       <use x=\"407.662109\" xlink:href=\"#DejaVuSans-101\"/>\r\n       <use x=\"469.185547\" xlink:href=\"#DejaVuSans-112\"/>\r\n       <use x=\"532.662109\" xlink:href=\"#DejaVuSans-111\"/>\r\n       <use x=\"593.84375\" xlink:href=\"#DejaVuSans-114\"/>\r\n       <use x=\"634.957031\" xlink:href=\"#DejaVuSans-116\"/>\r\n      </g>\r\n     </g>\r\n    </g>\r\n    <g id=\"xtick_4\">\r\n     <g id=\"line2d_4\">\r\n      <g>\r\n       <use style=\"stroke:#000000;stroke-width:0.8;\" x=\"303.5725\" xlink:href=\"#mf6244f79d4\" y=\"239.758125\"/>\r\n      </g>\r\n     </g>\r\n     <g id=\"text_4\">\r\n      <!-- Situation Report -->\r\n      <g transform=\"translate(263.074844 254.356562)scale(0.1 -0.1)\">\r\n       <defs>\r\n        <path d=\"M 53.515625 70.515625 \r\nL 53.515625 60.890625 \r\nQ 47.90625 63.578125 42.921875 64.890625 \r\nQ 37.9375 66.21875 33.296875 66.21875 \r\nQ 25.25 66.21875 20.875 63.09375 \r\nQ 16.5 59.96875 16.5 54.203125 \r\nQ 16.5 49.359375 19.40625 46.890625 \r\nQ 22.3125 44.4375 30.421875 42.921875 \r\nL 36.375 41.703125 \r\nQ 47.40625 39.59375 52.65625 34.296875 \r\nQ 57.90625 29 57.90625 20.125 \r\nQ 57.90625 9.515625 50.796875 4.046875 \r\nQ 43.703125 -1.421875 29.984375 -1.421875 \r\nQ 24.8125 -1.421875 18.96875 -0.25 \r\nQ 13.140625 0.921875 6.890625 3.21875 \r\nL 6.890625 13.375 \r\nQ 12.890625 10.015625 18.65625 8.296875 \r\nQ 24.421875 6.59375 29.984375 6.59375 \r\nQ 38.421875 6.59375 43.015625 9.90625 \r\nQ 47.609375 13.234375 47.609375 19.390625 \r\nQ 47.609375 24.75 44.3125 27.78125 \r\nQ 41.015625 30.8125 33.5 32.328125 \r\nL 27.484375 33.5 \r\nQ 16.453125 35.6875 11.515625 40.375 \r\nQ 6.59375 45.0625 6.59375 53.421875 \r\nQ 6.59375 63.09375 13.40625 68.65625 \r\nQ 20.21875 74.21875 32.171875 74.21875 \r\nQ 37.3125 74.21875 42.625 73.28125 \r\nQ 47.953125 72.359375 53.515625 70.515625 \r\nz\r\n\" id=\"DejaVuSans-83\"/>\r\n        <path d=\"M 8.5 21.578125 \r\nL 8.5 54.6875 \r\nL 17.484375 54.6875 \r\nL 17.484375 21.921875 \r\nQ 17.484375 14.15625 20.5 10.265625 \r\nQ 23.53125 6.390625 29.59375 6.390625 \r\nQ 36.859375 6.390625 41.078125 11.03125 \r\nQ 45.3125 15.671875 45.3125 23.6875 \r\nL 45.3125 54.6875 \r\nL 54.296875 54.6875 \r\nL 54.296875 0 \r\nL 45.3125 0 \r\nL 45.3125 8.40625 \r\nQ 42.046875 3.421875 37.71875 1 \r\nQ 33.40625 -1.421875 27.6875 -1.421875 \r\nQ 18.265625 -1.421875 13.375 4.4375 \r\nQ 8.5 10.296875 8.5 21.578125 \r\nz\r\nM 31.109375 56 \r\nz\r\n\" id=\"DejaVuSans-117\"/>\r\n       </defs>\r\n       <use xlink:href=\"#DejaVuSans-83\"/>\r\n       <use x=\"63.476562\" xlink:href=\"#DejaVuSans-105\"/>\r\n       <use x=\"91.259766\" xlink:href=\"#DejaVuSans-116\"/>\r\n       <use x=\"130.46875\" xlink:href=\"#DejaVuSans-117\"/>\r\n       <use x=\"193.847656\" xlink:href=\"#DejaVuSans-97\"/>\r\n       <use x=\"255.126953\" xlink:href=\"#DejaVuSans-116\"/>\r\n       <use x=\"294.335938\" xlink:href=\"#DejaVuSans-105\"/>\r\n       <use x=\"322.119141\" xlink:href=\"#DejaVuSans-111\"/>\r\n       <use x=\"383.300781\" xlink:href=\"#DejaVuSans-110\"/>\r\n       <use x=\"446.679688\" xlink:href=\"#DejaVuSans-32\"/>\r\n       <use x=\"478.466797\" xlink:href=\"#DejaVuSans-82\"/>\r\n       <use x=\"543.449219\" xlink:href=\"#DejaVuSans-101\"/>\r\n       <use x=\"604.972656\" xlink:href=\"#DejaVuSans-112\"/>\r\n       <use x=\"668.449219\" xlink:href=\"#DejaVuSans-111\"/>\r\n       <use x=\"729.630859\" xlink:href=\"#DejaVuSans-114\"/>\r\n       <use x=\"770.744141\" xlink:href=\"#DejaVuSans-116\"/>\r\n      </g>\r\n     </g>\r\n    </g>\r\n    <g id=\"text_5\">\r\n     <!-- Predicted label -->\r\n     <g transform=\"translate(184.880156 268.034687)scale(0.1 -0.1)\">\r\n      <defs>\r\n       <path d=\"M 48.6875 27.296875 \r\nQ 48.6875 37.203125 44.609375 42.84375 \r\nQ 40.53125 48.484375 33.40625 48.484375 \r\nQ 26.265625 48.484375 22.1875 42.84375 \r\nQ 18.109375 37.203125 18.109375 27.296875 \r\nQ 18.109375 17.390625 22.1875 11.75 \r\nQ 26.265625 6.109375 33.40625 6.109375 \r\nQ 40.53125 6.109375 44.609375 11.75 \r\nQ 48.6875 17.390625 48.6875 27.296875 \r\nz\r\nM 18.109375 46.390625 \r\nQ 20.953125 51.265625 25.265625 53.625 \r\nQ 29.59375 56 35.59375 56 \r\nQ 45.5625 56 51.78125 48.09375 \r\nQ 58.015625 40.1875 58.015625 27.296875 \r\nQ 58.015625 14.40625 51.78125 6.484375 \r\nQ 45.5625 -1.421875 35.59375 -1.421875 \r\nQ 29.59375 -1.421875 25.265625 0.953125 \r\nQ 20.953125 3.328125 18.109375 8.203125 \r\nL 18.109375 0 \r\nL 9.078125 0 \r\nL 9.078125 75.984375 \r\nL 18.109375 75.984375 \r\nz\r\n\" id=\"DejaVuSans-98\"/>\r\n      </defs>\r\n      <use xlink:href=\"#DejaVuSans-80\"/>\r\n      <use x=\"58.552734\" xlink:href=\"#DejaVuSans-114\"/>\r\n      <use x=\"97.416016\" xlink:href=\"#DejaVuSans-101\"/>\r\n      <use x=\"158.939453\" xlink:href=\"#DejaVuSans-100\"/>\r\n      <use x=\"222.416016\" xlink:href=\"#DejaVuSans-105\"/>\r\n      <use x=\"250.199219\" xlink:href=\"#DejaVuSans-99\"/>\r\n      <use x=\"305.179688\" xlink:href=\"#DejaVuSans-116\"/>\r\n      <use x=\"344.388672\" xlink:href=\"#DejaVuSans-101\"/>\r\n      <use x=\"405.912109\" xlink:href=\"#DejaVuSans-100\"/>\r\n      <use x=\"469.388672\" xlink:href=\"#DejaVuSans-32\"/>\r\n      <use x=\"501.175781\" xlink:href=\"#DejaVuSans-108\"/>\r\n      <use x=\"528.958984\" xlink:href=\"#DejaVuSans-97\"/>\r\n      <use x=\"590.238281\" xlink:href=\"#DejaVuSans-98\"/>\r\n      <use x=\"653.714844\" xlink:href=\"#DejaVuSans-101\"/>\r\n      <use x=\"715.238281\" xlink:href=\"#DejaVuSans-108\"/>\r\n     </g>\r\n    </g>\r\n   </g>\r\n   <g id=\"matplotlib.axis_2\">\r\n    <g id=\"ytick_1\">\r\n     <g id=\"line2d_5\">\r\n      <defs>\r\n       <path d=\"M 0 0 \r\nL -3.5 0 \r\n\" id=\"m30f16203b5\" style=\"stroke:#000000;stroke-width:0.8;\"/>\r\n      </defs>\r\n      <g>\r\n       <use style=\"stroke:#000000;stroke-width:0.8;\" x=\"113.3125\" xlink:href=\"#m30f16203b5\" y=\"49.498125\"/>\r\n      </g>\r\n     </g>\r\n     <g id=\"text_6\">\r\n      <!-- Analytical Report -->\r\n      <g transform=\"translate(20.878125 53.297344)scale(0.1 -0.1)\">\r\n       <use xlink:href=\"#DejaVuSans-65\"/>\r\n       <use x=\"68.408203\" xlink:href=\"#DejaVuSans-110\"/>\r\n       <use x=\"131.787109\" xlink:href=\"#DejaVuSans-97\"/>\r\n       <use x=\"193.066406\" xlink:href=\"#DejaVuSans-108\"/>\r\n       <use x=\"220.849609\" xlink:href=\"#DejaVuSans-121\"/>\r\n       <use x=\"280.029297\" xlink:href=\"#DejaVuSans-116\"/>\r\n       <use x=\"319.238281\" xlink:href=\"#DejaVuSans-105\"/>\r\n       <use x=\"347.021484\" xlink:href=\"#DejaVuSans-99\"/>\r\n       <use x=\"402.001953\" xlink:href=\"#DejaVuSans-97\"/>\r\n       <use x=\"463.28125\" xlink:href=\"#DejaVuSans-108\"/>\r\n       <use x=\"491.064453\" xlink:href=\"#DejaVuSans-32\"/>\r\n       <use x=\"522.851562\" xlink:href=\"#DejaVuSans-82\"/>\r\n       <use x=\"587.833984\" xlink:href=\"#DejaVuSans-101\"/>\r\n       <use x=\"649.357422\" xlink:href=\"#DejaVuSans-112\"/>\r\n       <use x=\"712.833984\" xlink:href=\"#DejaVuSans-111\"/>\r\n       <use x=\"774.015625\" xlink:href=\"#DejaVuSans-114\"/>\r\n       <use x=\"815.128906\" xlink:href=\"#DejaVuSans-116\"/>\r\n      </g>\r\n     </g>\r\n    </g>\r\n    <g id=\"ytick_2\">\r\n     <g id=\"line2d_6\">\r\n      <g>\r\n       <use style=\"stroke:#000000;stroke-width:0.8;\" x=\"113.3125\" xlink:href=\"#m30f16203b5\" y=\"103.858125\"/>\r\n      </g>\r\n     </g>\r\n     <g id=\"text_7\">\r\n      <!-- Incident Report -->\r\n      <g transform=\"translate(29.660938 107.657344)scale(0.1 -0.1)\">\r\n       <use xlink:href=\"#DejaVuSans-73\"/>\r\n       <use x=\"29.492188\" xlink:href=\"#DejaVuSans-110\"/>\r\n       <use x=\"92.871094\" xlink:href=\"#DejaVuSans-99\"/>\r\n       <use x=\"147.851562\" xlink:href=\"#DejaVuSans-105\"/>\r\n       <use x=\"175.634766\" xlink:href=\"#DejaVuSans-100\"/>\r\n       <use x=\"239.111328\" xlink:href=\"#DejaVuSans-101\"/>\r\n       <use x=\"300.634766\" xlink:href=\"#DejaVuSans-110\"/>\r\n       <use x=\"364.013672\" xlink:href=\"#DejaVuSans-116\"/>\r\n       <use x=\"403.222656\" xlink:href=\"#DejaVuSans-32\"/>\r\n       <use x=\"435.009766\" xlink:href=\"#DejaVuSans-82\"/>\r\n       <use x=\"499.992188\" xlink:href=\"#DejaVuSans-101\"/>\r\n       <use x=\"561.515625\" xlink:href=\"#DejaVuSans-112\"/>\r\n       <use x=\"624.992188\" xlink:href=\"#DejaVuSans-111\"/>\r\n       <use x=\"686.173828\" xlink:href=\"#DejaVuSans-114\"/>\r\n       <use x=\"727.287109\" xlink:href=\"#DejaVuSans-116\"/>\r\n      </g>\r\n     </g>\r\n    </g>\r\n    <g id=\"ytick_3\">\r\n     <g id=\"line2d_7\">\r\n      <g>\r\n       <use style=\"stroke:#000000;stroke-width:0.8;\" x=\"113.3125\" xlink:href=\"#m30f16203b5\" y=\"158.218125\"/>\r\n      </g>\r\n     </g>\r\n     <g id=\"text_8\">\r\n      <!-- Profile Report -->\r\n      <g transform=\"translate(38.895313 162.017344)scale(0.1 -0.1)\">\r\n       <use xlink:href=\"#DejaVuSans-80\"/>\r\n       <use x=\"58.552734\" xlink:href=\"#DejaVuSans-114\"/>\r\n       <use x=\"97.416016\" xlink:href=\"#DejaVuSans-111\"/>\r\n       <use x=\"158.597656\" xlink:href=\"#DejaVuSans-102\"/>\r\n       <use x=\"193.802734\" xlink:href=\"#DejaVuSans-105\"/>\r\n       <use x=\"221.585938\" xlink:href=\"#DejaVuSans-108\"/>\r\n       <use x=\"249.369141\" xlink:href=\"#DejaVuSans-101\"/>\r\n       <use x=\"310.892578\" xlink:href=\"#DejaVuSans-32\"/>\r\n       <use x=\"342.679688\" xlink:href=\"#DejaVuSans-82\"/>\r\n       <use x=\"407.662109\" xlink:href=\"#DejaVuSans-101\"/>\r\n       <use x=\"469.185547\" xlink:href=\"#DejaVuSans-112\"/>\r\n       <use x=\"532.662109\" xlink:href=\"#DejaVuSans-111\"/>\r\n       <use x=\"593.84375\" xlink:href=\"#DejaVuSans-114\"/>\r\n       <use x=\"634.957031\" xlink:href=\"#DejaVuSans-116\"/>\r\n      </g>\r\n     </g>\r\n    </g>\r\n    <g id=\"ytick_4\">\r\n     <g id=\"line2d_8\">\r\n      <g>\r\n       <use style=\"stroke:#000000;stroke-width:0.8;\" x=\"113.3125\" xlink:href=\"#m30f16203b5\" y=\"212.578125\"/>\r\n      </g>\r\n     </g>\r\n     <g id=\"text_9\">\r\n      <!-- Situation Report -->\r\n      <g transform=\"translate(25.317187 216.377344)scale(0.1 -0.1)\">\r\n       <use xlink:href=\"#DejaVuSans-83\"/>\r\n       <use x=\"63.476562\" xlink:href=\"#DejaVuSans-105\"/>\r\n       <use x=\"91.259766\" xlink:href=\"#DejaVuSans-116\"/>\r\n       <use x=\"130.46875\" xlink:href=\"#DejaVuSans-117\"/>\r\n       <use x=\"193.847656\" xlink:href=\"#DejaVuSans-97\"/>\r\n       <use x=\"255.126953\" xlink:href=\"#DejaVuSans-116\"/>\r\n       <use x=\"294.335938\" xlink:href=\"#DejaVuSans-105\"/>\r\n       <use x=\"322.119141\" xlink:href=\"#DejaVuSans-111\"/>\r\n       <use x=\"383.300781\" xlink:href=\"#DejaVuSans-110\"/>\r\n       <use x=\"446.679688\" xlink:href=\"#DejaVuSans-32\"/>\r\n       <use x=\"478.466797\" xlink:href=\"#DejaVuSans-82\"/>\r\n       <use x=\"543.449219\" xlink:href=\"#DejaVuSans-101\"/>\r\n       <use x=\"604.972656\" xlink:href=\"#DejaVuSans-112\"/>\r\n       <use x=\"668.449219\" xlink:href=\"#DejaVuSans-111\"/>\r\n       <use x=\"729.630859\" xlink:href=\"#DejaVuSans-114\"/>\r\n       <use x=\"770.744141\" xlink:href=\"#DejaVuSans-116\"/>\r\n      </g>\r\n     </g>\r\n    </g>\r\n    <g id=\"text_10\">\r\n     <!-- True label -->\r\n     <g transform=\"translate(14.798437 155.337344)rotate(-90)scale(0.1 -0.1)\">\r\n      <defs>\r\n       <path d=\"M -0.296875 72.90625 \r\nL 61.375 72.90625 \r\nL 61.375 64.59375 \r\nL 35.5 64.59375 \r\nL 35.5 0 \r\nL 25.59375 0 \r\nL 25.59375 64.59375 \r\nL -0.296875 64.59375 \r\nz\r\n\" id=\"DejaVuSans-84\"/>\r\n      </defs>\r\n      <use xlink:href=\"#DejaVuSans-84\"/>\r\n      <use x=\"46.333984\" xlink:href=\"#DejaVuSans-114\"/>\r\n      <use x=\"87.447266\" xlink:href=\"#DejaVuSans-117\"/>\r\n      <use x=\"150.826172\" xlink:href=\"#DejaVuSans-101\"/>\r\n      <use x=\"212.349609\" xlink:href=\"#DejaVuSans-32\"/>\r\n      <use x=\"244.136719\" xlink:href=\"#DejaVuSans-108\"/>\r\n      <use x=\"271.919922\" xlink:href=\"#DejaVuSans-97\"/>\r\n      <use x=\"333.199219\" xlink:href=\"#DejaVuSans-98\"/>\r\n      <use x=\"396.675781\" xlink:href=\"#DejaVuSans-101\"/>\r\n      <use x=\"458.199219\" xlink:href=\"#DejaVuSans-108\"/>\r\n     </g>\r\n    </g>\r\n   </g>\r\n   <g id=\"patch_3\">\r\n    <path d=\"M 113.3125 239.758125 \r\nL 113.3125 22.318125 \r\n\" style=\"fill:none;stroke:#000000;stroke-linecap:square;stroke-linejoin:miter;stroke-width:0.8;\"/>\r\n   </g>\r\n   <g id=\"patch_4\">\r\n    <path d=\"M 330.7525 239.758125 \r\nL 330.7525 22.318125 \r\n\" style=\"fill:none;stroke:#000000;stroke-linecap:square;stroke-linejoin:miter;stroke-width:0.8;\"/>\r\n   </g>\r\n   <g id=\"patch_5\">\r\n    <path d=\"M 113.3125 239.758125 \r\nL 330.7525 239.758125 \r\n\" style=\"fill:none;stroke:#000000;stroke-linecap:square;stroke-linejoin:miter;stroke-width:0.8;\"/>\r\n   </g>\r\n   <g id=\"patch_6\">\r\n    <path d=\"M 113.3125 22.318125 \r\nL 330.7525 22.318125 \r\n\" style=\"fill:none;stroke:#000000;stroke-linecap:square;stroke-linejoin:miter;stroke-width:0.8;\"/>\r\n   </g>\r\n   <g id=\"text_11\">\r\n    <!-- 4 -->\r\n    <g style=\"fill:#08306b;\" transform=\"translate(137.31125 52.2575)scale(0.1 -0.1)\">\r\n     <defs>\r\n      <path d=\"M 37.796875 64.3125 \r\nL 12.890625 25.390625 \r\nL 37.796875 25.390625 \r\nz\r\nM 35.203125 72.90625 \r\nL 47.609375 72.90625 \r\nL 47.609375 25.390625 \r\nL 58.015625 25.390625 \r\nL 58.015625 17.1875 \r\nL 47.609375 17.1875 \r\nL 47.609375 0 \r\nL 37.796875 0 \r\nL 37.796875 17.1875 \r\nL 4.890625 17.1875 \r\nL 4.890625 26.703125 \r\nz\r\n\" id=\"DejaVuSans-52\"/>\r\n     </defs>\r\n     <use xlink:href=\"#DejaVuSans-52\"/>\r\n    </g>\r\n   </g>\r\n   <g id=\"text_12\">\r\n    <!-- 0 -->\r\n    <g style=\"fill:#08306b;\" transform=\"translate(191.67125 52.2575)scale(0.1 -0.1)\">\r\n     <defs>\r\n      <path d=\"M 31.78125 66.40625 \r\nQ 24.171875 66.40625 20.328125 58.90625 \r\nQ 16.5 51.421875 16.5 36.375 \r\nQ 16.5 21.390625 20.328125 13.890625 \r\nQ 24.171875 6.390625 31.78125 6.390625 \r\nQ 39.453125 6.390625 43.28125 13.890625 \r\nQ 47.125 21.390625 47.125 36.375 \r\nQ 47.125 51.421875 43.28125 58.90625 \r\nQ 39.453125 66.40625 31.78125 66.40625 \r\nz\r\nM 31.78125 74.21875 \r\nQ 44.046875 74.21875 50.515625 64.515625 \r\nQ 56.984375 54.828125 56.984375 36.375 \r\nQ 56.984375 17.96875 50.515625 8.265625 \r\nQ 44.046875 -1.421875 31.78125 -1.421875 \r\nQ 19.53125 -1.421875 13.0625 8.265625 \r\nQ 6.59375 17.96875 6.59375 36.375 \r\nQ 6.59375 54.828125 13.0625 64.515625 \r\nQ 19.53125 74.21875 31.78125 74.21875 \r\nz\r\n\" id=\"DejaVuSans-48\"/>\r\n     </defs>\r\n     <use xlink:href=\"#DejaVuSans-48\"/>\r\n    </g>\r\n   </g>\r\n   <g id=\"text_13\">\r\n    <!-- 1 -->\r\n    <g style=\"fill:#08306b;\" transform=\"translate(246.03125 52.2575)scale(0.1 -0.1)\">\r\n     <defs>\r\n      <path d=\"M 12.40625 8.296875 \r\nL 28.515625 8.296875 \r\nL 28.515625 63.921875 \r\nL 10.984375 60.40625 \r\nL 10.984375 69.390625 \r\nL 28.421875 72.90625 \r\nL 38.28125 72.90625 \r\nL 38.28125 8.296875 \r\nL 54.390625 8.296875 \r\nL 54.390625 0 \r\nL 12.40625 0 \r\nz\r\n\" id=\"DejaVuSans-49\"/>\r\n     </defs>\r\n     <use xlink:href=\"#DejaVuSans-49\"/>\r\n    </g>\r\n   </g>\r\n   <g id=\"text_14\">\r\n    <!-- 0 -->\r\n    <g style=\"fill:#08306b;\" transform=\"translate(300.39125 52.2575)scale(0.1 -0.1)\">\r\n     <use xlink:href=\"#DejaVuSans-48\"/>\r\n    </g>\r\n   </g>\r\n   <g id=\"text_15\">\r\n    <!-- 0 -->\r\n    <g style=\"fill:#08306b;\" transform=\"translate(137.31125 106.6175)scale(0.1 -0.1)\">\r\n     <use xlink:href=\"#DejaVuSans-48\"/>\r\n    </g>\r\n   </g>\r\n   <g id=\"text_16\">\r\n    <!-- 8 -->\r\n    <g style=\"fill:#f7fbff;\" transform=\"translate(191.67125 106.6175)scale(0.1 -0.1)\">\r\n     <defs>\r\n      <path d=\"M 31.78125 34.625 \r\nQ 24.75 34.625 20.71875 30.859375 \r\nQ 16.703125 27.09375 16.703125 20.515625 \r\nQ 16.703125 13.921875 20.71875 10.15625 \r\nQ 24.75 6.390625 31.78125 6.390625 \r\nQ 38.8125 6.390625 42.859375 10.171875 \r\nQ 46.921875 13.96875 46.921875 20.515625 \r\nQ 46.921875 27.09375 42.890625 30.859375 \r\nQ 38.875 34.625 31.78125 34.625 \r\nz\r\nM 21.921875 38.8125 \r\nQ 15.578125 40.375 12.03125 44.71875 \r\nQ 8.5 49.078125 8.5 55.328125 \r\nQ 8.5 64.0625 14.71875 69.140625 \r\nQ 20.953125 74.21875 31.78125 74.21875 \r\nQ 42.671875 74.21875 48.875 69.140625 \r\nQ 55.078125 64.0625 55.078125 55.328125 \r\nQ 55.078125 49.078125 51.53125 44.71875 \r\nQ 48 40.375 41.703125 38.8125 \r\nQ 48.828125 37.15625 52.796875 32.3125 \r\nQ 56.78125 27.484375 56.78125 20.515625 \r\nQ 56.78125 9.90625 50.3125 4.234375 \r\nQ 43.84375 -1.421875 31.78125 -1.421875 \r\nQ 19.734375 -1.421875 13.25 4.234375 \r\nQ 6.78125 9.90625 6.78125 20.515625 \r\nQ 6.78125 27.484375 10.78125 32.3125 \r\nQ 14.796875 37.15625 21.921875 38.8125 \r\nz\r\nM 18.3125 54.390625 \r\nQ 18.3125 48.734375 21.84375 45.5625 \r\nQ 25.390625 42.390625 31.78125 42.390625 \r\nQ 38.140625 42.390625 41.71875 45.5625 \r\nQ 45.3125 48.734375 45.3125 54.390625 \r\nQ 45.3125 60.0625 41.71875 63.234375 \r\nQ 38.140625 66.40625 31.78125 66.40625 \r\nQ 25.390625 66.40625 21.84375 63.234375 \r\nQ 18.3125 60.0625 18.3125 54.390625 \r\nz\r\n\" id=\"DejaVuSans-56\"/>\r\n     </defs>\r\n     <use xlink:href=\"#DejaVuSans-56\"/>\r\n    </g>\r\n   </g>\r\n   <g id=\"text_17\">\r\n    <!-- 1 -->\r\n    <g style=\"fill:#08306b;\" transform=\"translate(246.03125 106.6175)scale(0.1 -0.1)\">\r\n     <use xlink:href=\"#DejaVuSans-49\"/>\r\n    </g>\r\n   </g>\r\n   <g id=\"text_18\">\r\n    <!-- 0 -->\r\n    <g style=\"fill:#08306b;\" transform=\"translate(300.39125 106.6175)scale(0.1 -0.1)\">\r\n     <use xlink:href=\"#DejaVuSans-48\"/>\r\n    </g>\r\n   </g>\r\n   <g id=\"text_19\">\r\n    <!-- 0 -->\r\n    <g style=\"fill:#08306b;\" transform=\"translate(137.31125 160.9775)scale(0.1 -0.1)\">\r\n     <use xlink:href=\"#DejaVuSans-48\"/>\r\n    </g>\r\n   </g>\r\n   <g id=\"text_20\">\r\n    <!-- 1 -->\r\n    <g style=\"fill:#08306b;\" transform=\"translate(191.67125 160.9775)scale(0.1 -0.1)\">\r\n     <use xlink:href=\"#DejaVuSans-49\"/>\r\n    </g>\r\n   </g>\r\n   <g id=\"text_21\">\r\n    <!-- 12 -->\r\n    <g style=\"fill:#f7fbff;\" transform=\"translate(242.85 160.9775)scale(0.1 -0.1)\">\r\n     <defs>\r\n      <path d=\"M 19.1875 8.296875 \r\nL 53.609375 8.296875 \r\nL 53.609375 0 \r\nL 7.328125 0 \r\nL 7.328125 8.296875 \r\nQ 12.9375 14.109375 22.625 23.890625 \r\nQ 32.328125 33.6875 34.8125 36.53125 \r\nQ 39.546875 41.84375 41.421875 45.53125 \r\nQ 43.3125 49.21875 43.3125 52.78125 \r\nQ 43.3125 58.59375 39.234375 62.25 \r\nQ 35.15625 65.921875 28.609375 65.921875 \r\nQ 23.96875 65.921875 18.8125 64.3125 \r\nQ 13.671875 62.703125 7.8125 59.421875 \r\nL 7.8125 69.390625 \r\nQ 13.765625 71.78125 18.9375 73 \r\nQ 24.125 74.21875 28.421875 74.21875 \r\nQ 39.75 74.21875 46.484375 68.546875 \r\nQ 53.21875 62.890625 53.21875 53.421875 \r\nQ 53.21875 48.921875 51.53125 44.890625 \r\nQ 49.859375 40.875 45.40625 35.40625 \r\nQ 44.1875 33.984375 37.640625 27.21875 \r\nQ 31.109375 20.453125 19.1875 8.296875 \r\nz\r\n\" id=\"DejaVuSans-50\"/>\r\n     </defs>\r\n     <use xlink:href=\"#DejaVuSans-49\"/>\r\n     <use x=\"63.623047\" xlink:href=\"#DejaVuSans-50\"/>\r\n    </g>\r\n   </g>\r\n   <g id=\"text_22\">\r\n    <!-- 0 -->\r\n    <g style=\"fill:#08306b;\" transform=\"translate(300.39125 160.9775)scale(0.1 -0.1)\">\r\n     <use xlink:href=\"#DejaVuSans-48\"/>\r\n    </g>\r\n   </g>\r\n   <g id=\"text_23\">\r\n    <!-- 0 -->\r\n    <g style=\"fill:#08306b;\" transform=\"translate(137.31125 215.3375)scale(0.1 -0.1)\">\r\n     <use xlink:href=\"#DejaVuSans-48\"/>\r\n    </g>\r\n   </g>\r\n   <g id=\"text_24\">\r\n    <!-- 0 -->\r\n    <g style=\"fill:#08306b;\" transform=\"translate(191.67125 215.3375)scale(0.1 -0.1)\">\r\n     <use xlink:href=\"#DejaVuSans-48\"/>\r\n    </g>\r\n   </g>\r\n   <g id=\"text_25\">\r\n    <!-- 1 -->\r\n    <g style=\"fill:#08306b;\" transform=\"translate(246.03125 215.3375)scale(0.1 -0.1)\">\r\n     <use xlink:href=\"#DejaVuSans-49\"/>\r\n    </g>\r\n   </g>\r\n   <g id=\"text_26\">\r\n    <!-- 8 -->\r\n    <g style=\"fill:#f7fbff;\" transform=\"translate(300.39125 215.3375)scale(0.1 -0.1)\">\r\n     <use xlink:href=\"#DejaVuSans-56\"/>\r\n    </g>\r\n   </g>\r\n   <g id=\"text_27\">\r\n    <!-- Validation dataset Multi-layer Perceptron  Classifier -->\r\n    <g transform=\"translate(68.530937 16.318125)scale(0.12 -0.12)\">\r\n     <defs>\r\n      <path d=\"M 28.609375 0 \r\nL 0.78125 72.90625 \r\nL 11.078125 72.90625 \r\nL 34.1875 11.53125 \r\nL 57.328125 72.90625 \r\nL 67.578125 72.90625 \r\nL 39.796875 0 \r\nz\r\n\" id=\"DejaVuSans-86\"/>\r\n      <path d=\"M 44.28125 53.078125 \r\nL 44.28125 44.578125 \r\nQ 40.484375 46.53125 36.375 47.5 \r\nQ 32.28125 48.484375 27.875 48.484375 \r\nQ 21.1875 48.484375 17.84375 46.4375 \r\nQ 14.5 44.390625 14.5 40.28125 \r\nQ 14.5 37.15625 16.890625 35.375 \r\nQ 19.28125 33.59375 26.515625 31.984375 \r\nL 29.59375 31.296875 \r\nQ 39.15625 29.25 43.1875 25.515625 \r\nQ 47.21875 21.78125 47.21875 15.09375 \r\nQ 47.21875 7.46875 41.1875 3.015625 \r\nQ 35.15625 -1.421875 24.609375 -1.421875 \r\nQ 20.21875 -1.421875 15.453125 -0.5625 \r\nQ 10.6875 0.296875 5.421875 2 \r\nL 5.421875 11.28125 \r\nQ 10.40625 8.6875 15.234375 7.390625 \r\nQ 20.0625 6.109375 24.8125 6.109375 \r\nQ 31.15625 6.109375 34.5625 8.28125 \r\nQ 37.984375 10.453125 37.984375 14.40625 \r\nQ 37.984375 18.0625 35.515625 20.015625 \r\nQ 33.0625 21.96875 24.703125 23.78125 \r\nL 21.578125 24.515625 \r\nQ 13.234375 26.265625 9.515625 29.90625 \r\nQ 5.8125 33.546875 5.8125 39.890625 \r\nQ 5.8125 47.609375 11.28125 51.796875 \r\nQ 16.75 56 26.8125 56 \r\nQ 31.78125 56 36.171875 55.265625 \r\nQ 40.578125 54.546875 44.28125 53.078125 \r\nz\r\n\" id=\"DejaVuSans-115\"/>\r\n      <path d=\"M 9.8125 72.90625 \r\nL 24.515625 72.90625 \r\nL 43.109375 23.296875 \r\nL 61.8125 72.90625 \r\nL 76.515625 72.90625 \r\nL 76.515625 0 \r\nL 66.890625 0 \r\nL 66.890625 64.015625 \r\nL 48.09375 14.015625 \r\nL 38.1875 14.015625 \r\nL 19.390625 64.015625 \r\nL 19.390625 0 \r\nL 9.8125 0 \r\nz\r\n\" id=\"DejaVuSans-77\"/>\r\n      <path d=\"M 4.890625 31.390625 \r\nL 31.203125 31.390625 \r\nL 31.203125 23.390625 \r\nL 4.890625 23.390625 \r\nz\r\n\" id=\"DejaVuSans-45\"/>\r\n      <path d=\"M 64.40625 67.28125 \r\nL 64.40625 56.890625 \r\nQ 59.421875 61.53125 53.78125 63.8125 \r\nQ 48.140625 66.109375 41.796875 66.109375 \r\nQ 29.296875 66.109375 22.65625 58.46875 \r\nQ 16.015625 50.828125 16.015625 36.375 \r\nQ 16.015625 21.96875 22.65625 14.328125 \r\nQ 29.296875 6.6875 41.796875 6.6875 \r\nQ 48.140625 6.6875 53.78125 8.984375 \r\nQ 59.421875 11.28125 64.40625 15.921875 \r\nL 64.40625 5.609375 \r\nQ 59.234375 2.09375 53.4375 0.328125 \r\nQ 47.65625 -1.421875 41.21875 -1.421875 \r\nQ 24.65625 -1.421875 15.125 8.703125 \r\nQ 5.609375 18.84375 5.609375 36.375 \r\nQ 5.609375 53.953125 15.125 64.078125 \r\nQ 24.65625 74.21875 41.21875 74.21875 \r\nQ 47.75 74.21875 53.53125 72.484375 \r\nQ 59.328125 70.75 64.40625 67.28125 \r\nz\r\n\" id=\"DejaVuSans-67\"/>\r\n     </defs>\r\n     <use xlink:href=\"#DejaVuSans-86\"/>\r\n     <use x=\"60.658203\" xlink:href=\"#DejaVuSans-97\"/>\r\n     <use x=\"121.9375\" xlink:href=\"#DejaVuSans-108\"/>\r\n     <use x=\"149.720703\" xlink:href=\"#DejaVuSans-105\"/>\r\n     <use x=\"177.503906\" xlink:href=\"#DejaVuSans-100\"/>\r\n     <use x=\"240.980469\" xlink:href=\"#DejaVuSans-97\"/>\r\n     <use x=\"302.259766\" xlink:href=\"#DejaVuSans-116\"/>\r\n     <use x=\"341.46875\" xlink:href=\"#DejaVuSans-105\"/>\r\n     <use x=\"369.251953\" xlink:href=\"#DejaVuSans-111\"/>\r\n     <use x=\"430.433594\" xlink:href=\"#DejaVuSans-110\"/>\r\n     <use x=\"493.8125\" xlink:href=\"#DejaVuSans-32\"/>\r\n     <use x=\"525.599609\" xlink:href=\"#DejaVuSans-100\"/>\r\n     <use x=\"589.076172\" xlink:href=\"#DejaVuSans-97\"/>\r\n     <use x=\"650.355469\" xlink:href=\"#DejaVuSans-116\"/>\r\n     <use x=\"689.564453\" xlink:href=\"#DejaVuSans-97\"/>\r\n     <use x=\"750.84375\" xlink:href=\"#DejaVuSans-115\"/>\r\n     <use x=\"802.943359\" xlink:href=\"#DejaVuSans-101\"/>\r\n     <use x=\"864.466797\" xlink:href=\"#DejaVuSans-116\"/>\r\n     <use x=\"903.675781\" xlink:href=\"#DejaVuSans-32\"/>\r\n     <use x=\"935.462891\" xlink:href=\"#DejaVuSans-77\"/>\r\n     <use x=\"1021.742188\" xlink:href=\"#DejaVuSans-117\"/>\r\n     <use x=\"1085.121094\" xlink:href=\"#DejaVuSans-108\"/>\r\n     <use x=\"1112.904297\" xlink:href=\"#DejaVuSans-116\"/>\r\n     <use x=\"1152.113281\" xlink:href=\"#DejaVuSans-105\"/>\r\n     <use x=\"1179.896484\" xlink:href=\"#DejaVuSans-45\"/>\r\n     <use x=\"1215.980469\" xlink:href=\"#DejaVuSans-108\"/>\r\n     <use x=\"1243.763672\" xlink:href=\"#DejaVuSans-97\"/>\r\n     <use x=\"1305.042969\" xlink:href=\"#DejaVuSans-121\"/>\r\n     <use x=\"1364.222656\" xlink:href=\"#DejaVuSans-101\"/>\r\n     <use x=\"1425.746094\" xlink:href=\"#DejaVuSans-114\"/>\r\n     <use x=\"1466.859375\" xlink:href=\"#DejaVuSans-32\"/>\r\n     <use x=\"1498.646484\" xlink:href=\"#DejaVuSans-80\"/>\r\n     <use x=\"1555.324219\" xlink:href=\"#DejaVuSans-101\"/>\r\n     <use x=\"1616.847656\" xlink:href=\"#DejaVuSans-114\"/>\r\n     <use x=\"1655.710938\" xlink:href=\"#DejaVuSans-99\"/>\r\n     <use x=\"1710.691406\" xlink:href=\"#DejaVuSans-101\"/>\r\n     <use x=\"1772.214844\" xlink:href=\"#DejaVuSans-112\"/>\r\n     <use x=\"1835.691406\" xlink:href=\"#DejaVuSans-116\"/>\r\n     <use x=\"1874.900391\" xlink:href=\"#DejaVuSans-114\"/>\r\n     <use x=\"1913.763672\" xlink:href=\"#DejaVuSans-111\"/>\r\n     <use x=\"1974.945312\" xlink:href=\"#DejaVuSans-110\"/>\r\n     <use x=\"2038.324219\" xlink:href=\"#DejaVuSans-32\"/>\r\n     <use x=\"2070.111328\" xlink:href=\"#DejaVuSans-32\"/>\r\n     <use x=\"2101.898438\" xlink:href=\"#DejaVuSans-67\"/>\r\n     <use x=\"2171.722656\" xlink:href=\"#DejaVuSans-108\"/>\r\n     <use x=\"2199.505859\" xlink:href=\"#DejaVuSans-97\"/>\r\n     <use x=\"2260.785156\" xlink:href=\"#DejaVuSans-115\"/>\r\n     <use x=\"2312.884766\" xlink:href=\"#DejaVuSans-115\"/>\r\n     <use x=\"2364.984375\" xlink:href=\"#DejaVuSans-105\"/>\r\n     <use x=\"2392.767578\" xlink:href=\"#DejaVuSans-102\"/>\r\n     <use x=\"2427.972656\" xlink:href=\"#DejaVuSans-105\"/>\r\n     <use x=\"2455.755859\" xlink:href=\"#DejaVuSans-101\"/>\r\n     <use x=\"2517.279297\" xlink:href=\"#DejaVuSans-114\"/>\r\n    </g>\r\n   </g>\r\n  </g>\r\n  <g id=\"axes_2\">\r\n   <g id=\"patch_7\">\r\n    <path clip-path=\"url(#p7997503f2d)\" d=\"M 347.4925 239.758125 \r\nL 347.4925 238.90875 \r\nL 347.4925 23.1675 \r\nL 347.4925 22.318125 \r\nL 358.3645 22.318125 \r\nL 358.3645 23.1675 \r\nL 358.3645 238.90875 \r\nL 358.3645 239.758125 \r\nz\r\n\" style=\"fill:#ffffff;stroke:#ffffff;stroke-linejoin:miter;stroke-width:0.01;\"/>\r\n   </g>\r\n   <image height=\"217\" id=\"imagececbe48bac\" transform=\"scale(1 -1)translate(0 -217)\" width=\"11\" x=\"347\" xlink:href=\"data:image/png;base64,\r\niVBORw0KGgoAAAANSUhEUgAAAAsAAADZCAYAAAD2WsoCAAABHElEQVR4nO2YMQ4CMRADA8r/n0uByIYWukwxyIvuamvl2F4nutvjufc4/OYex9gxz+diMKEBsGMCLORcAH0HLEzpQhyEkwEYZgNwLk26kSEdzAbh7NHQeoPZ3bC+OvZGinRX+H9CI0Q67VWQckBkNzygdsNqDi50wAzOlZHnOh/stqjFuUBGGWezN8Dk5VWBlzrtcYKqQGxR7e5eJM9eP3sOIp0X6ALTwXOsScPLBrQ7osw9ndk9KLaot7AR0nn93DEbaLs9nc2/EKj5I3YwJBvslctoRKgBD2jRCJls2g1oeEHy7O4YpJDtZn8CxWycvxlTODNwht0h2fh/u69sfICh3YhGw8n1sia3VGNF0ECTycJedn+BO9ptTX4DblXiEVeBW/gAAAAASUVORK5CYII=\" y=\"-22\"/>\r\n   <g id=\"matplotlib.axis_3\"/>\r\n   <g id=\"matplotlib.axis_4\">\r\n    <g id=\"ytick_5\">\r\n     <g id=\"line2d_9\">\r\n      <defs>\r\n       <path d=\"M 0 0 \r\nL 3.5 0 \r\n\" id=\"m49bc5ea985\" style=\"stroke:#000000;stroke-width:0.8;\"/>\r\n      </defs>\r\n      <g>\r\n       <use style=\"stroke:#000000;stroke-width:0.8;\" x=\"358.3645\" xlink:href=\"#m49bc5ea985\" y=\"239.758125\"/>\r\n      </g>\r\n     </g>\r\n     <g id=\"text_28\">\r\n      <!-- 0 -->\r\n      <g transform=\"translate(365.3645 243.557344)scale(0.1 -0.1)\">\r\n       <use xlink:href=\"#DejaVuSans-48\"/>\r\n      </g>\r\n     </g>\r\n    </g>\r\n    <g id=\"ytick_6\">\r\n     <g id=\"line2d_10\">\r\n      <g>\r\n       <use style=\"stroke:#000000;stroke-width:0.8;\" x=\"358.3645\" xlink:href=\"#m49bc5ea985\" y=\"203.518125\"/>\r\n      </g>\r\n     </g>\r\n     <g id=\"text_29\">\r\n      <!-- 2 -->\r\n      <g transform=\"translate(365.3645 207.317344)scale(0.1 -0.1)\">\r\n       <use xlink:href=\"#DejaVuSans-50\"/>\r\n      </g>\r\n     </g>\r\n    </g>\r\n    <g id=\"ytick_7\">\r\n     <g id=\"line2d_11\">\r\n      <g>\r\n       <use style=\"stroke:#000000;stroke-width:0.8;\" x=\"358.3645\" xlink:href=\"#m49bc5ea985\" y=\"167.278125\"/>\r\n      </g>\r\n     </g>\r\n     <g id=\"text_30\">\r\n      <!-- 4 -->\r\n      <g transform=\"translate(365.3645 171.077344)scale(0.1 -0.1)\">\r\n       <use xlink:href=\"#DejaVuSans-52\"/>\r\n      </g>\r\n     </g>\r\n    </g>\r\n    <g id=\"ytick_8\">\r\n     <g id=\"line2d_12\">\r\n      <g>\r\n       <use style=\"stroke:#000000;stroke-width:0.8;\" x=\"358.3645\" xlink:href=\"#m49bc5ea985\" y=\"131.038125\"/>\r\n      </g>\r\n     </g>\r\n     <g id=\"text_31\">\r\n      <!-- 6 -->\r\n      <g transform=\"translate(365.3645 134.837344)scale(0.1 -0.1)\">\r\n       <defs>\r\n        <path d=\"M 33.015625 40.375 \r\nQ 26.375 40.375 22.484375 35.828125 \r\nQ 18.609375 31.296875 18.609375 23.390625 \r\nQ 18.609375 15.53125 22.484375 10.953125 \r\nQ 26.375 6.390625 33.015625 6.390625 \r\nQ 39.65625 6.390625 43.53125 10.953125 \r\nQ 47.40625 15.53125 47.40625 23.390625 \r\nQ 47.40625 31.296875 43.53125 35.828125 \r\nQ 39.65625 40.375 33.015625 40.375 \r\nz\r\nM 52.59375 71.296875 \r\nL 52.59375 62.3125 \r\nQ 48.875 64.0625 45.09375 64.984375 \r\nQ 41.3125 65.921875 37.59375 65.921875 \r\nQ 27.828125 65.921875 22.671875 59.328125 \r\nQ 17.53125 52.734375 16.796875 39.40625 \r\nQ 19.671875 43.65625 24.015625 45.921875 \r\nQ 28.375 48.1875 33.59375 48.1875 \r\nQ 44.578125 48.1875 50.953125 41.515625 \r\nQ 57.328125 34.859375 57.328125 23.390625 \r\nQ 57.328125 12.15625 50.6875 5.359375 \r\nQ 44.046875 -1.421875 33.015625 -1.421875 \r\nQ 20.359375 -1.421875 13.671875 8.265625 \r\nQ 6.984375 17.96875 6.984375 36.375 \r\nQ 6.984375 53.65625 15.1875 63.9375 \r\nQ 23.390625 74.21875 37.203125 74.21875 \r\nQ 40.921875 74.21875 44.703125 73.484375 \r\nQ 48.484375 72.75 52.59375 71.296875 \r\nz\r\n\" id=\"DejaVuSans-54\"/>\r\n       </defs>\r\n       <use xlink:href=\"#DejaVuSans-54\"/>\r\n      </g>\r\n     </g>\r\n    </g>\r\n    <g id=\"ytick_9\">\r\n     <g id=\"line2d_13\">\r\n      <g>\r\n       <use style=\"stroke:#000000;stroke-width:0.8;\" x=\"358.3645\" xlink:href=\"#m49bc5ea985\" y=\"94.798125\"/>\r\n      </g>\r\n     </g>\r\n     <g id=\"text_32\">\r\n      <!-- 8 -->\r\n      <g transform=\"translate(365.3645 98.597344)scale(0.1 -0.1)\">\r\n       <use xlink:href=\"#DejaVuSans-56\"/>\r\n      </g>\r\n     </g>\r\n    </g>\r\n    <g id=\"ytick_10\">\r\n     <g id=\"line2d_14\">\r\n      <g>\r\n       <use style=\"stroke:#000000;stroke-width:0.8;\" x=\"358.3645\" xlink:href=\"#m49bc5ea985\" y=\"58.558125\"/>\r\n      </g>\r\n     </g>\r\n     <g id=\"text_33\">\r\n      <!-- 10 -->\r\n      <g transform=\"translate(365.3645 62.357344)scale(0.1 -0.1)\">\r\n       <use xlink:href=\"#DejaVuSans-49\"/>\r\n       <use x=\"63.623047\" xlink:href=\"#DejaVuSans-48\"/>\r\n      </g>\r\n     </g>\r\n    </g>\r\n    <g id=\"ytick_11\">\r\n     <g id=\"line2d_15\">\r\n      <g>\r\n       <use style=\"stroke:#000000;stroke-width:0.8;\" x=\"358.3645\" xlink:href=\"#m49bc5ea985\" y=\"22.318125\"/>\r\n      </g>\r\n     </g>\r\n     <g id=\"text_34\">\r\n      <!-- 12 -->\r\n      <g transform=\"translate(365.3645 26.117344)scale(0.1 -0.1)\">\r\n       <use xlink:href=\"#DejaVuSans-49\"/>\r\n       <use x=\"63.623047\" xlink:href=\"#DejaVuSans-50\"/>\r\n      </g>\r\n     </g>\r\n    </g>\r\n   </g>\r\n   <g id=\"patch_8\">\r\n    <path d=\"M 347.4925 239.758125 \r\nL 347.4925 238.90875 \r\nL 347.4925 23.1675 \r\nL 347.4925 22.318125 \r\nL 358.3645 22.318125 \r\nL 358.3645 23.1675 \r\nL 358.3645 238.90875 \r\nL 358.3645 239.758125 \r\nz\r\n\" style=\"fill:none;stroke:#000000;stroke-linejoin:miter;stroke-width:0.8;\"/>\r\n   </g>\r\n  </g>\r\n </g>\r\n <defs>\r\n  <clipPath id=\"pff5cb14108\">\r\n   <rect height=\"217.44\" width=\"217.44\" x=\"113.3125\" y=\"22.318125\"/>\r\n  </clipPath>\r\n  <clipPath id=\"p7997503f2d\">\r\n   <rect height=\"217.44\" width=\"10.872\" x=\"347.4925\" y=\"22.318125\"/>\r\n  </clipPath>\r\n </defs>\r\n</svg>\r\n",
      "image/png": "[encoded data removed]"
     },
     "metadata": {
      "needs_background": "light"
     }
    }
   ],
   "source": [
    "classifier = MLPClassifier(hidden_layer_sizes=(5000, 2500, 100,), learning_rate_init=0.001, max_iter=300, activation = 'relu', solver='adam', alpha=0.001,random_state=1, verbose=True)\n",
    "classifier.fit(x_train, y_train)\n",
    "\n",
    "score_calulation(classifier, x_train, y_train, 'Train dataset Multi-layer Perceptron Classifier')\n",
    "\n",
    "score_calulation(classifier, x_val, y_val, 'Validation dataset Multi-layer Perceptron  Classifier')"
   ]
  },
  {
   "cell_type": "code",
   "execution_count": null,
   "metadata": {},
   "outputs": [],
   "source": [
    "# Ensembles of the models\n"
   ]
  },
  {
   "source": [
    "Pre trained BERT models\n",
    "\n",
    "https://pypi.org/project/pytorch-pretrained-bert/\n",
    "\n",
    "https://pytorch.org/hub/huggingface_pytorch-transformers/\n",
    "\n",
    "https://medium.com/@aniruddha.choudhury94/part-2-bert-fine-tuning-tutorial-with-pytorch-for-text-classification-on-the-corpus-of-linguistic-18057ce330e1\n",
    "\n",
    "\n",
    "Spacy linguistic features\n",
    "https://spacy.io/usage/linguistic-features\n",
    "\n",
    "TF-IDF https://towardsdatascience.com/tf-idf-for-document-ranking-from-scratch-in-python-on-real-world-dataset-796d339a4089\n",
    "\n"
   ],
   "cell_type": "markdown",
   "metadata": {}
  }
 ]
}