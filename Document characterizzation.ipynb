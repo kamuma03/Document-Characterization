{
 "metadata": {
  "language_info": {
   "codemirror_mode": {
    "name": "ipython",
    "version": 3
   },
   "file_extension": ".py",
   "mimetype": "text/x-python",
   "name": "python",
   "nbconvert_exporter": "python",
   "pygments_lexer": "ipython3",
   "version": "3.8.6-final"
  },
  "orig_nbformat": 2,
  "kernelspec": {
   "name": "python3",
   "display_name": "Python 3",
   "language": "python"
  }
 },
 "nbformat": 4,
 "nbformat_minor": 2,
 "cells": [
  {
   "source": [
    "# Document Chracterizzation\n"
   ],
   "cell_type": "markdown",
   "metadata": {}
  },
  {
   "source": [
    "## Import of relevant libraries "
   ],
   "cell_type": "markdown",
   "metadata": {}
  },
  {
   "cell_type": "code",
   "execution_count": 59,
   "metadata": {},
   "outputs": [],
   "source": [
    "# Import of all the libraries used for the project\n",
    "import os\n",
    "import shutil\n",
    "import numpy as np\n",
    "import pandas as pd\n",
    "import requests\n",
    "from bs4 import BeautifulSoup\n",
    "import re\n",
    "from operator import itemgetter\n",
    "import plotly.graph_objects as go\n",
    "import spacy\n",
    "from nltk.corpus import stopwords\n",
    "from nltk.corpus import wordnet\n",
    "from nltk.stem import WordNetLemmatizer \n",
    "from sklearn.feature_extraction.text import TfidfVectorizer\n"
   ]
  },
  {
   "source": [
    "## Dataset import"
   ],
   "cell_type": "markdown",
   "metadata": {}
  },
  {
   "cell_type": "code",
   "execution_count": 2,
   "metadata": {},
   "outputs": [],
   "source": [
    "# Defined a simple scraper  to go through all the link, visit the page and copy all the txt in the paragraph tag of the HTML file\n",
    "\n",
    "def scraper(input):\n",
    "    # create an empty array\n",
    "    content = []\n",
    "\n",
    "    # for loop on all the links in the dataframe\n",
    "    for i in range(len(input[\"URL\"])):\n",
    "        url = input[\"URL\"][i]\n",
    "        # text = url\n",
    "        text = ' '\n",
    "\n",
    "        # check if actually the url is correct orr not\n",
    "        if not (url.startswith('https://') or url.startswith('http://')):\n",
    "            text += ' Link not good'\n",
    "            content.append(text) \n",
    "            continue\n",
    "        \n",
    "        # Request the url and copy of the HTMl \n",
    "        page = requests.get(url)\n",
    "        \n",
    "        # Check if the response is positive or not, if not set that page was not found \n",
    "        if page.status_code != 200:\n",
    "            text += ' Page not able to find'\n",
    "\n",
    "        # Else take the text from all the p tag of the HTML content  \n",
    "        else:\n",
    "            soup = BeautifulSoup(page.content, 'html.parser')\n",
    "            for p in soup.find_all('p'):\n",
    "                text = text + ' ' + p.text\n",
    "        \n",
    "        content.append(text) \n",
    "    return content"
   ]
  },
  {
   "cell_type": "code",
   "execution_count": 3,
   "metadata": {},
   "outputs": [
    {
     "output_type": "execute_result",
     "data": {
      "text/plain": [
       "                                                   URL              Class  \\\n",
       "0    https://issafrica.org/iss-today/time-to-tackle...  Analytical Report   \n",
       "1    http://www.understandingwar.org/backgrounder/r...  Analytical Report   \n",
       "2    http://www.understandingwar.org/backgrounder/r...  Analytical Report   \n",
       "3    http://www.understandingwar.org/backgrounder/w...  Analytical Report   \n",
       "4    http://www.understandingwar.org/backgrounder/r...  Analytical Report   \n",
       "..                                                 ...                ...   \n",
       "232  https://www.journalism.org/2019/03/26/for-loca...  Analytical Report   \n",
       "233  https://www.journalism.org/2017/10/02/covering...  Analytical Report   \n",
       "234  https://ctc.usma.edu/afghanistans-future-emira...  Analytical Report   \n",
       "235  https://ctc.usma.edu/back-into-the-shadows-the...  Analytical Report   \n",
       "236  https://ctc.usma.edu/stepping-out-from-the-sha...  Analytical Report   \n",
       "\n",
       "                                               Content  \n",
       "0      2020-11-25 On 26 September, hundreds of Mali...  \n",
       "1      By George Barros November 16, 2020 The Kreml...  \n",
       "2      By Ezgi Yazici November 13, 2020 Key Takeawa...  \n",
       "3      By Katherine Lawlor with Brandon Wallace Key...  \n",
       "4      By Isabel Ivanescu and Ezgi Yazici Key Takea...  \n",
       "..                                                 ...  \n",
       "232    Numbers, Facts and Trends Shaping Your World...  \n",
       "233    Numbers, Facts and Trends Shaping Your World...  \n",
       "234    Main Menu Seth G. Jones \\nShare via:\\n\\n\\n\\n...  \n",
       "235    Main Menu Michael Knights \\nShare via:\\n\\n\\n...  \n",
       "236    Main Menu Daniel Milton, Muhammad al-`Ubaydi...  \n",
       "\n",
       "[237 rows x 3 columns]"
      ],
      "text/html": "<div>\n<style scoped>\n    .dataframe tbody tr th:only-of-type {\n        vertical-align: middle;\n    }\n\n    .dataframe tbody tr th {\n        vertical-align: top;\n    }\n\n    .dataframe thead th {\n        text-align: right;\n    }\n</style>\n<table border=\"1\" class=\"dataframe\">\n  <thead>\n    <tr style=\"text-align: right;\">\n      <th></th>\n      <th>URL</th>\n      <th>Class</th>\n      <th>Content</th>\n    </tr>\n  </thead>\n  <tbody>\n    <tr>\n      <th>0</th>\n      <td>https://issafrica.org/iss-today/time-to-tackle...</td>\n      <td>Analytical Report</td>\n      <td>2020-11-25 On 26 September, hundreds of Mali...</td>\n    </tr>\n    <tr>\n      <th>1</th>\n      <td>http://www.understandingwar.org/backgrounder/r...</td>\n      <td>Analytical Report</td>\n      <td>By George Barros November 16, 2020 The Kreml...</td>\n    </tr>\n    <tr>\n      <th>2</th>\n      <td>http://www.understandingwar.org/backgrounder/r...</td>\n      <td>Analytical Report</td>\n      <td>By Ezgi Yazici November 13, 2020 Key Takeawa...</td>\n    </tr>\n    <tr>\n      <th>3</th>\n      <td>http://www.understandingwar.org/backgrounder/w...</td>\n      <td>Analytical Report</td>\n      <td>By Katherine Lawlor with Brandon Wallace Key...</td>\n    </tr>\n    <tr>\n      <th>4</th>\n      <td>http://www.understandingwar.org/backgrounder/r...</td>\n      <td>Analytical Report</td>\n      <td>By Isabel Ivanescu and Ezgi Yazici Key Takea...</td>\n    </tr>\n    <tr>\n      <th>...</th>\n      <td>...</td>\n      <td>...</td>\n      <td>...</td>\n    </tr>\n    <tr>\n      <th>232</th>\n      <td>https://www.journalism.org/2019/03/26/for-loca...</td>\n      <td>Analytical Report</td>\n      <td>Numbers, Facts and Trends Shaping Your World...</td>\n    </tr>\n    <tr>\n      <th>233</th>\n      <td>https://www.journalism.org/2017/10/02/covering...</td>\n      <td>Analytical Report</td>\n      <td>Numbers, Facts and Trends Shaping Your World...</td>\n    </tr>\n    <tr>\n      <th>234</th>\n      <td>https://ctc.usma.edu/afghanistans-future-emira...</td>\n      <td>Analytical Report</td>\n      <td>Main Menu Seth G. Jones \\nShare via:\\n\\n\\n\\n...</td>\n    </tr>\n    <tr>\n      <th>235</th>\n      <td>https://ctc.usma.edu/back-into-the-shadows-the...</td>\n      <td>Analytical Report</td>\n      <td>Main Menu Michael Knights \\nShare via:\\n\\n\\n...</td>\n    </tr>\n    <tr>\n      <th>236</th>\n      <td>https://ctc.usma.edu/stepping-out-from-the-sha...</td>\n      <td>Analytical Report</td>\n      <td>Main Menu Daniel Milton, Muhammad al-`Ubaydi...</td>\n    </tr>\n  </tbody>\n</table>\n<p>237 rows × 3 columns</p>\n</div>"
     },
     "metadata": {},
     "execution_count": 3
    }
   ],
   "source": [
    "## import the CSV file with the labels\n",
    "\n",
    "data_scraper = pd.read_csv('Document Characterisation Data.csv', sep=',')\n",
    "#print(len(data_scraper[\"URL\"]))\n",
    "\n",
    "# Calling the scraper function\n",
    "data = scraper(data_scraper)\n",
    "\n",
    "# Adding the scraped data into the Dataframe  \n",
    "data_scraper['Content'] = data\n",
    "data_scraper"
   ]
  },
  {
   "cell_type": "code",
   "execution_count": 4,
   "metadata": {},
   "outputs": [],
   "source": [
    "# Function to load the files from local drive into Pandas data frame\n",
    "\n",
    "def readFiles (src, fileClass):\n",
    "    src_files = os.listdir(src)\n",
    "    fileType = []\n",
    "    content = []\n",
    "    for i in range(len(src_files)):\n",
    "        fileType.append(fileClass)\n",
    "        glove_file = open(src + src_files[i], \"r\", encoding=\"utf8\")\n",
    "        glove_vectors_list = [word_and_vector.strip() for word_and_vector in glove_file.readlines()]\n",
    "        content.append(\" \".join(glove_vectors_list))\n",
    "    \n",
    "    columns = [\"URL\", \"Class\", \"Content\"]\n",
    "    df = pd.DataFrame(columns=columns)\n",
    "\n",
    "    df[\"URL\"] = src_files\n",
    "    df[\"Class\"] = fileType\n",
    "    df[\"Content\"] = content\n",
    "\n",
    "    return df\n"
   ]
  },
  {
   "cell_type": "code",
   "execution_count": 5,
   "metadata": {},
   "outputs": [
    {
     "output_type": "stream",
     "name": "stdout",
     "text": [
      "5725\n5725\n"
     ]
    },
    {
     "output_type": "execute_result",
     "data": {
      "text/plain": [
       "                                                   URL              Class  \\\n",
       "0    https://issafrica.org/iss-today/time-to-tackle...  Analytical Report   \n",
       "1    http://www.understandingwar.org/backgrounder/r...  Analytical Report   \n",
       "2    http://www.understandingwar.org/backgrounder/r...  Analytical Report   \n",
       "3    http://www.understandingwar.org/backgrounder/w...  Analytical Report   \n",
       "4    http://www.understandingwar.org/backgrounder/r...  Analytical Report   \n",
       "..                                                 ...                ...   \n",
       "413                                 int-rep-o-18-e.txt   Situation Report   \n",
       "414                                 int-rep-o-18-f.txt   Situation Report   \n",
       "415                                 int-rep-o-18-g.txt   Situation Report   \n",
       "416                                 int-rep-o-18-h.txt   Situation Report   \n",
       "417  Summary of Russian press for Wednesday 29 July...   Situation Report   \n",
       "\n",
       "                                               Content  \n",
       "0      2020-11-25 On 26 September, hundreds of Mali...  \n",
       "1      By George Barros November 16, 2020 The Kreml...  \n",
       "2      By Ezgi Yazici November 13, 2020 Key Takeawa...  \n",
       "3      By Katherine Lawlor with Brandon Wallace Key...  \n",
       "4      By Isabel Ivanescu and Ezgi Yazici Key Takea...  \n",
       "..                                                 ...  \n",
       "413  Deputies are investigating after an explosive ...  \n",
       "414  Residents at a Springfield apartment complex w...  \n",
       "415  Several handheld explosive devices were found ...  \n",
       "416  Boulder police taped off the U.S. Bank at Broa...  \n",
       "417  By BBC Monitoring  Khabarovsk protests  Newspa...  \n",
       "\n",
       "[418 rows x 3 columns]"
      ],
      "text/html": "<div>\n<style scoped>\n    .dataframe tbody tr th:only-of-type {\n        vertical-align: middle;\n    }\n\n    .dataframe tbody tr th {\n        vertical-align: top;\n    }\n\n    .dataframe thead th {\n        text-align: right;\n    }\n</style>\n<table border=\"1\" class=\"dataframe\">\n  <thead>\n    <tr style=\"text-align: right;\">\n      <th></th>\n      <th>URL</th>\n      <th>Class</th>\n      <th>Content</th>\n    </tr>\n  </thead>\n  <tbody>\n    <tr>\n      <th>0</th>\n      <td>https://issafrica.org/iss-today/time-to-tackle...</td>\n      <td>Analytical Report</td>\n      <td>2020-11-25 On 26 September, hundreds of Mali...</td>\n    </tr>\n    <tr>\n      <th>1</th>\n      <td>http://www.understandingwar.org/backgrounder/r...</td>\n      <td>Analytical Report</td>\n      <td>By George Barros November 16, 2020 The Kreml...</td>\n    </tr>\n    <tr>\n      <th>2</th>\n      <td>http://www.understandingwar.org/backgrounder/r...</td>\n      <td>Analytical Report</td>\n      <td>By Ezgi Yazici November 13, 2020 Key Takeawa...</td>\n    </tr>\n    <tr>\n      <th>3</th>\n      <td>http://www.understandingwar.org/backgrounder/w...</td>\n      <td>Analytical Report</td>\n      <td>By Katherine Lawlor with Brandon Wallace Key...</td>\n    </tr>\n    <tr>\n      <th>4</th>\n      <td>http://www.understandingwar.org/backgrounder/r...</td>\n      <td>Analytical Report</td>\n      <td>By Isabel Ivanescu and Ezgi Yazici Key Takea...</td>\n    </tr>\n    <tr>\n      <th>...</th>\n      <td>...</td>\n      <td>...</td>\n      <td>...</td>\n    </tr>\n    <tr>\n      <th>413</th>\n      <td>int-rep-o-18-e.txt</td>\n      <td>Situation Report</td>\n      <td>Deputies are investigating after an explosive ...</td>\n    </tr>\n    <tr>\n      <th>414</th>\n      <td>int-rep-o-18-f.txt</td>\n      <td>Situation Report</td>\n      <td>Residents at a Springfield apartment complex w...</td>\n    </tr>\n    <tr>\n      <th>415</th>\n      <td>int-rep-o-18-g.txt</td>\n      <td>Situation Report</td>\n      <td>Several handheld explosive devices were found ...</td>\n    </tr>\n    <tr>\n      <th>416</th>\n      <td>int-rep-o-18-h.txt</td>\n      <td>Situation Report</td>\n      <td>Boulder police taped off the U.S. Bank at Broa...</td>\n    </tr>\n    <tr>\n      <th>417</th>\n      <td>Summary of Russian press for Wednesday 29 July...</td>\n      <td>Situation Report</td>\n      <td>By BBC Monitoring  Khabarovsk protests  Newspa...</td>\n    </tr>\n  </tbody>\n</table>\n<p>418 rows × 3 columns</p>\n</div>"
     },
     "metadata": {},
     "execution_count": 5
    }
   ],
   "source": [
    "src = \"./Data/Analytical Report/\"\n",
    "df_Analytical_Report = readFiles(src, \"Analytical Report\")\n",
    "\n",
    "print(len(df_Analytical_Report['Content'][0]))\n",
    "\n",
    "src = \"./Data/Analytical Report2/\"\n",
    "df_Analytical_Report2 = readFiles(src, \"Analytical Report\")\n",
    "\n",
    "print(len(df_Analytical_Report2['Content'][0]))\n",
    "\n",
    "src = \"./Data/Incident Report/\"\n",
    "df_Incident_Report = readFiles(src, \"Incident Report\")\n",
    "\n",
    "src = \"./Data/Situation Report/\"\n",
    "df_Situation_Report = readFiles(src, \"Situation Report\")\n",
    "\n",
    "toConcat = [data_scraper, df_Analytical_Report, df_Analytical_Report2, df_Incident_Report, df_Situation_Report]\n",
    "\n",
    "data_input = pd.concat(toConcat, ignore_index=True)\n",
    "data_input"
   ]
  },
  {
   "source": [
    "## Experimental Data Analysis "
   ],
   "cell_type": "markdown",
   "metadata": {}
  },
  {
   "source": [
    "### Data frame informations and duplicates Duplicates"
   ],
   "cell_type": "markdown",
   "metadata": {}
  },
  {
   "cell_type": "code",
   "execution_count": 6,
   "metadata": {},
   "outputs": [
    {
     "output_type": "stream",
     "name": "stdout",
     "text": [
      "<class 'pandas.core.frame.DataFrame'>\nRangeIndex: 418 entries, 0 to 417\nData columns (total 3 columns):\n #   Column   Non-Null Count  Dtype \n---  ------   --------------  ----- \n 0   URL      418 non-null    object\n 1   Class    418 non-null    object\n 2   Content  418 non-null    object\ndtypes: object(3)\nmemory usage: 9.9+ KB\n"
     ]
    }
   ],
   "source": [
    "data_input.info()"
   ]
  },
  {
   "cell_type": "code",
   "execution_count": 7,
   "metadata": {},
   "outputs": [
    {
     "output_type": "stream",
     "name": "stdout",
     "text": [
      "Number of Analytical Report  131\nNumber of Situation Report  99\nNumber of Incident Report  88\nNumber of Profile Report  100\n"
     ]
    }
   ],
   "source": [
    "# Number of items per class\n",
    "print(\"Number of Analytical Report \", len(data_input[data_input['Class'] == 'Analytical Report']))\n",
    "print(\"Number of Situation Report \", len(data_input[data_input['Class'] == 'Situation Report']))\n",
    "print(\"Number of Incident Report \", len(data_input[data_input['Class'] == 'Incident Report']))\n",
    "print(\"Number of Profile Report \", len(data_input[data_input['Class'] == 'Profile Report']))\n"
   ]
  },
  {
   "cell_type": "code",
   "execution_count": 8,
   "metadata": {},
   "outputs": [],
   "source": [
    "# Dropping the duplicate items \n",
    "\n",
    "data_input_dropped= data_input.drop_duplicates(keep=\"first\").reset_index(drop=True)"
   ]
  },
  {
   "cell_type": "code",
   "execution_count": 9,
   "metadata": {},
   "outputs": [
    {
     "output_type": "stream",
     "name": "stdout",
     "text": [
      "Number of Analytical Report  92\nNumber of Situation Report  98\nNumber of Incident Report  88\nNumber of Profile Report  98\n"
     ]
    }
   ],
   "source": [
    "# Number of items per class after dropping the duplicates\n",
    "print(\"Number of Analytical Report \", len(data_input_dropped[data_input_dropped['Class'] == 'Analytical Report']))\n",
    "print(\"Number of Situation Report \", len(data_input_dropped[data_input_dropped['Class'] == 'Situation Report']))\n",
    "print(\"Number of Incident Report \", len(data_input_dropped[data_input_dropped['Class'] == 'Incident Report']))\n",
    "print(\"Number of Profile Report \", len(data_input_dropped[data_input_dropped['Class'] == 'Profile Report']))\n"
   ]
  },
  {
   "cell_type": "code",
   "execution_count": 10,
   "metadata": {},
   "outputs": [
    {
     "output_type": "stream",
     "name": "stdout",
     "text": [
      "<class 'pandas.core.frame.DataFrame'>\nRangeIndex: 376 entries, 0 to 375\nData columns (total 3 columns):\n #   Column   Non-Null Count  Dtype \n---  ------   --------------  ----- \n 0   URL      376 non-null    object\n 1   Class    376 non-null    object\n 2   Content  376 non-null    object\ndtypes: object(3)\nmemory usage: 8.9+ KB\n"
     ]
    }
   ],
   "source": [
    "data_input_dropped.info()"
   ]
  },
  {
   "source": [
    "### Pre Processing the data"
   ],
   "cell_type": "markdown",
   "metadata": {}
  },
  {
   "cell_type": "code",
   "execution_count": 11,
   "metadata": {},
   "outputs": [],
   "source": [
    "# tockenizzation of the corpus \n",
    "def tokenize(corpus):\n",
    "\n",
    "    # The backslash is an escape character to let the interpreter know we mean to use it as a string literal (- or ') \n",
    "    re_punctuation_string = '[\\s,/.?\\-\\'`’]'  # split on spaces (\\s),  commas (,), slash (/), fullstop (.), question marks (?), hyphens (-), and apostrophe (').\n",
    "    tokenized = re.split(re_punctuation_string, corpus) # in python's regex, [...] is an alternative to writing .|.|.\n",
    "    tokenized = list(filter(None, tokenized)) # remove empty strings from list \n",
    "    tokenized = [token.lower() for token in tokenized] # Lowercasing everything\n",
    "    tokenized = ['<Number>' if token.isdigit() else token for token in tokenized ]  # converting all the numbers to <Number>\n",
    "\n",
    "\n",
    "    return tokenized    \n",
    "\n"
   ]
  },
  {
   "cell_type": "code",
   "execution_count": 12,
   "metadata": {},
   "outputs": [],
   "source": [
    "# function to count the tockenization\n",
    "def distinct_tokens_count(tokenized_corpus):\n",
    "\n",
    "    distinct_tokens_count = {}\n",
    "    for t_review in tokenized_corpus:\n",
    "\n",
    "        if t_review not in distinct_tokens_count.keys():\n",
    "            distinct_tokens_count[t_review] = 1\n",
    "        else:\n",
    "            distinct_tokens_count[t_review] += 1\n",
    "\n",
    "    # Sort the key value to greter to smaller\n",
    "    distinct_tokens_count = sorted(distinct_tokens_count.items(), key=itemgetter(1), reverse=True) \n",
    "\n",
    "    #for token, count in distinct_tokens_count:\n",
    "        #print(\"{:<14s} {:<10d}\".format(token, count))\n",
    "    return distinct_tokens_count\n",
    "\n"
   ]
  },
  {
   "cell_type": "code",
   "execution_count": 13,
   "metadata": {},
   "outputs": [],
   "source": [
    "# function to pre process the text and count the number of words\n",
    "def process(dataframe):\n",
    "\n",
    "    tokenized = []\n",
    "    tokens_count = []\n",
    "    class_type = []\n",
    "    for i in range(dataframe.shape[0]):\n",
    "        #print(dataframe['Content'][i])\n",
    "        #print(i)\n",
    "        \n",
    "        # tokenizing the corpus\n",
    "        token = tokenize(dataframe['Content'][i])\n",
    "        tokenized.append(token)\n",
    "        # counting the tokens\n",
    "        tokens_count.append(distinct_tokens_count(token))\n",
    "\n",
    "        if dataframe['Class'][i] == 'Analytical Report':\n",
    "            class_type.append(0)\n",
    "\n",
    "        elif dataframe['Class'][i] == 'Incident Report':\n",
    "            class_type.append(1)\n",
    "\n",
    "        elif dataframe['Class'][i] == 'Profile Report':\n",
    "            class_type.append(2)\n",
    "\n",
    "        elif dataframe['Class'][i] == 'Situation Report':\n",
    "            class_type.append(3)\n",
    "\n",
    "\n",
    "    dataframe['Tokenized'] = tokenized\n",
    "    dataframe['Tokens Count'] = tokens_count\n",
    "    dataframe['Class Type'] = class_type\n",
    "\n",
    "    return dataframe"
   ]
  },
  {
   "cell_type": "code",
   "execution_count": 14,
   "metadata": {},
   "outputs": [
    {
     "output_type": "execute_result",
     "data": {
      "text/plain": [
       "                                                   URL              Class  \\\n",
       "0    https://issafrica.org/iss-today/time-to-tackle...  Analytical Report   \n",
       "1    http://www.understandingwar.org/backgrounder/r...  Analytical Report   \n",
       "2    http://www.understandingwar.org/backgrounder/r...  Analytical Report   \n",
       "3    http://www.understandingwar.org/backgrounder/w...  Analytical Report   \n",
       "4    http://www.understandingwar.org/backgrounder/r...  Analytical Report   \n",
       "..                                                 ...                ...   \n",
       "371                                 int-rep-o-18-e.txt   Situation Report   \n",
       "372                                 int-rep-o-18-f.txt   Situation Report   \n",
       "373                                 int-rep-o-18-g.txt   Situation Report   \n",
       "374                                 int-rep-o-18-h.txt   Situation Report   \n",
       "375  Summary of Russian press for Wednesday 29 July...   Situation Report   \n",
       "\n",
       "                                               Content  \\\n",
       "0      2020-11-25 On 26 September, hundreds of Mali...   \n",
       "1      By George Barros November 16, 2020 The Kreml...   \n",
       "2      By Ezgi Yazici November 13, 2020 Key Takeawa...   \n",
       "3      By Katherine Lawlor with Brandon Wallace Key...   \n",
       "4      By Isabel Ivanescu and Ezgi Yazici Key Takea...   \n",
       "..                                                 ...   \n",
       "371  Deputies are investigating after an explosive ...   \n",
       "372  Residents at a Springfield apartment complex w...   \n",
       "373  Several handheld explosive devices were found ...   \n",
       "374  Boulder police taped off the U.S. Bank at Broa...   \n",
       "375  By BBC Monitoring  Khabarovsk protests  Newspa...   \n",
       "\n",
       "                                             Tokenized  \\\n",
       "0    [<Number>, <Number>, <Number>, on, <Number>, s...   \n",
       "1    [by, george, barros, november, <Number>, <Numb...   \n",
       "2    [by, ezgi, yazici, november, <Number>, <Number...   \n",
       "3    [by, katherine, lawlor, with, brandon, wallace...   \n",
       "4    [by, isabel, ivanescu, and, ezgi, yazici, key,...   \n",
       "..                                                 ...   \n",
       "371  [deputies, are, investigating, after, an, expl...   \n",
       "372  [residents, at, a, springfield, apartment, com...   \n",
       "373  [several, handheld, explosive, devices, were, ...   \n",
       "374  [boulder, police, taped, off, the, u, s, bank,...   \n",
       "375  [by, bbc, monitoring, khabarovsk, protests, ne...   \n",
       "\n",
       "                                          Tokens Count  Class Type  \n",
       "0    [(the, 127), (and, 83), (women, 82), (to, 70),...           0  \n",
       "1    [(the, 67), (<Number>, 50), (to, 44), (csto, 3...           0  \n",
       "2    [(the, 41), (in, 25), (to, 24), (s, 22), (and,...           0  \n",
       "3    [(s, 131), (the, 121), (to, 120), (<Number>, 1...           0  \n",
       "4    [(in, 42), (the, 37), (and, 34), (a, 23), (to,...           0  \n",
       "..                                                 ...         ...  \n",
       "371  [(the, 52), (a, 43), (was, 35), (to, 25), (dev...           3  \n",
       "372  [(the, 64), (a, 47), (was, 27), (in, 22), (bom...           3  \n",
       "373  [(the, 82), (a, 67), (bomb, 30), (to, 27), (wa...           3  \n",
       "374  [(the, 83), (a, 77), (was, 42), (to, 36), (bom...           3  \n",
       "375  [(the, 103), (<Number>, 49), (of, 48), (that, ...           3  \n",
       "\n",
       "[376 rows x 6 columns]"
      ],
      "text/html": "<div>\n<style scoped>\n    .dataframe tbody tr th:only-of-type {\n        vertical-align: middle;\n    }\n\n    .dataframe tbody tr th {\n        vertical-align: top;\n    }\n\n    .dataframe thead th {\n        text-align: right;\n    }\n</style>\n<table border=\"1\" class=\"dataframe\">\n  <thead>\n    <tr style=\"text-align: right;\">\n      <th></th>\n      <th>URL</th>\n      <th>Class</th>\n      <th>Content</th>\n      <th>Tokenized</th>\n      <th>Tokens Count</th>\n      <th>Class Type</th>\n    </tr>\n  </thead>\n  <tbody>\n    <tr>\n      <th>0</th>\n      <td>https://issafrica.org/iss-today/time-to-tackle...</td>\n      <td>Analytical Report</td>\n      <td>2020-11-25 On 26 September, hundreds of Mali...</td>\n      <td>[&lt;Number&gt;, &lt;Number&gt;, &lt;Number&gt;, on, &lt;Number&gt;, s...</td>\n      <td>[(the, 127), (and, 83), (women, 82), (to, 70),...</td>\n      <td>0</td>\n    </tr>\n    <tr>\n      <th>1</th>\n      <td>http://www.understandingwar.org/backgrounder/r...</td>\n      <td>Analytical Report</td>\n      <td>By George Barros November 16, 2020 The Kreml...</td>\n      <td>[by, george, barros, november, &lt;Number&gt;, &lt;Numb...</td>\n      <td>[(the, 67), (&lt;Number&gt;, 50), (to, 44), (csto, 3...</td>\n      <td>0</td>\n    </tr>\n    <tr>\n      <th>2</th>\n      <td>http://www.understandingwar.org/backgrounder/r...</td>\n      <td>Analytical Report</td>\n      <td>By Ezgi Yazici November 13, 2020 Key Takeawa...</td>\n      <td>[by, ezgi, yazici, november, &lt;Number&gt;, &lt;Number...</td>\n      <td>[(the, 41), (in, 25), (to, 24), (s, 22), (and,...</td>\n      <td>0</td>\n    </tr>\n    <tr>\n      <th>3</th>\n      <td>http://www.understandingwar.org/backgrounder/w...</td>\n      <td>Analytical Report</td>\n      <td>By Katherine Lawlor with Brandon Wallace Key...</td>\n      <td>[by, katherine, lawlor, with, brandon, wallace...</td>\n      <td>[(s, 131), (the, 121), (to, 120), (&lt;Number&gt;, 1...</td>\n      <td>0</td>\n    </tr>\n    <tr>\n      <th>4</th>\n      <td>http://www.understandingwar.org/backgrounder/r...</td>\n      <td>Analytical Report</td>\n      <td>By Isabel Ivanescu and Ezgi Yazici Key Takea...</td>\n      <td>[by, isabel, ivanescu, and, ezgi, yazici, key,...</td>\n      <td>[(in, 42), (the, 37), (and, 34), (a, 23), (to,...</td>\n      <td>0</td>\n    </tr>\n    <tr>\n      <th>...</th>\n      <td>...</td>\n      <td>...</td>\n      <td>...</td>\n      <td>...</td>\n      <td>...</td>\n      <td>...</td>\n    </tr>\n    <tr>\n      <th>371</th>\n      <td>int-rep-o-18-e.txt</td>\n      <td>Situation Report</td>\n      <td>Deputies are investigating after an explosive ...</td>\n      <td>[deputies, are, investigating, after, an, expl...</td>\n      <td>[(the, 52), (a, 43), (was, 35), (to, 25), (dev...</td>\n      <td>3</td>\n    </tr>\n    <tr>\n      <th>372</th>\n      <td>int-rep-o-18-f.txt</td>\n      <td>Situation Report</td>\n      <td>Residents at a Springfield apartment complex w...</td>\n      <td>[residents, at, a, springfield, apartment, com...</td>\n      <td>[(the, 64), (a, 47), (was, 27), (in, 22), (bom...</td>\n      <td>3</td>\n    </tr>\n    <tr>\n      <th>373</th>\n      <td>int-rep-o-18-g.txt</td>\n      <td>Situation Report</td>\n      <td>Several handheld explosive devices were found ...</td>\n      <td>[several, handheld, explosive, devices, were, ...</td>\n      <td>[(the, 82), (a, 67), (bomb, 30), (to, 27), (wa...</td>\n      <td>3</td>\n    </tr>\n    <tr>\n      <th>374</th>\n      <td>int-rep-o-18-h.txt</td>\n      <td>Situation Report</td>\n      <td>Boulder police taped off the U.S. Bank at Broa...</td>\n      <td>[boulder, police, taped, off, the, u, s, bank,...</td>\n      <td>[(the, 83), (a, 77), (was, 42), (to, 36), (bom...</td>\n      <td>3</td>\n    </tr>\n    <tr>\n      <th>375</th>\n      <td>Summary of Russian press for Wednesday 29 July...</td>\n      <td>Situation Report</td>\n      <td>By BBC Monitoring  Khabarovsk protests  Newspa...</td>\n      <td>[by, bbc, monitoring, khabarovsk, protests, ne...</td>\n      <td>[(the, 103), (&lt;Number&gt;, 49), (of, 48), (that, ...</td>\n      <td>3</td>\n    </tr>\n  </tbody>\n</table>\n<p>376 rows × 6 columns</p>\n</div>"
     },
     "metadata": {},
     "execution_count": 14
    }
   ],
   "source": [
    "data_processed = process(data_input_dropped)      \n",
    "\n",
    "data_processed"
   ]
  },
  {
   "source": [
    "### Feature extraction"
   ],
   "cell_type": "markdown",
   "metadata": {}
  },
  {
   "cell_type": "code",
   "execution_count": 15,
   "metadata": {},
   "outputs": [],
   "source": [
    "def adding_features(dataframe):\n",
    "    length = []\n",
    "    unique_tokens = []\n",
    "    tokens_percentage = []\n",
    "    \n",
    "    for i in range(dataframe.shape[0]):\n",
    "        leng = len(data_processed['Tokenized'][i])\n",
    "        length.append(leng)\n",
    "        unique_tokens.append(len(data_processed['Tokens Count'][i]))\n",
    "\n",
    "        distinct_tokens_percentage = {}\n",
    "        for token, count in data_processed['Tokens Count'][i]:\n",
    "            distinct_tokens_percentage[token] = (count * 100) / leng\n",
    "        \n",
    "        distinct_tokens_percentage = sorted(distinct_tokens_percentage.items(), key=itemgetter(1), reverse=True)\n",
    "        tokens_percentage.append(distinct_tokens_percentage)\n",
    "    \n",
    "    \n",
    "    dataframe['Length'] = length\n",
    "    dataframe['Unique Tokens'] = unique_tokens\n",
    "    dataframe['Tokens Percentage'] = tokens_percentage\n",
    "    # tahen out all the page not accessible with message \"Page not found\"\n",
    "    dataframe = dataframe[dataframe['Length'] > 10].reset_index(drop=True)\n",
    "\n",
    "    return dataframe"
   ]
  },
  {
   "cell_type": "code",
   "execution_count": 16,
   "metadata": {},
   "outputs": [
    {
     "output_type": "execute_result",
     "data": {
      "text/plain": [
       "                                                   URL              Class  \\\n",
       "0    https://issafrica.org/iss-today/time-to-tackle...  Analytical Report   \n",
       "1    http://www.understandingwar.org/backgrounder/r...  Analytical Report   \n",
       "2    http://www.understandingwar.org/backgrounder/r...  Analytical Report   \n",
       "3    http://www.understandingwar.org/backgrounder/w...  Analytical Report   \n",
       "4    http://www.understandingwar.org/backgrounder/r...  Analytical Report   \n",
       "..                                                 ...                ...   \n",
       "350                                 int-rep-o-18-e.txt   Situation Report   \n",
       "351                                 int-rep-o-18-f.txt   Situation Report   \n",
       "352                                 int-rep-o-18-g.txt   Situation Report   \n",
       "353                                 int-rep-o-18-h.txt   Situation Report   \n",
       "354  Summary of Russian press for Wednesday 29 July...   Situation Report   \n",
       "\n",
       "                                               Content  \\\n",
       "0      2020-11-25 On 26 September, hundreds of Mali...   \n",
       "1      By George Barros November 16, 2020 The Kreml...   \n",
       "2      By Ezgi Yazici November 13, 2020 Key Takeawa...   \n",
       "3      By Katherine Lawlor with Brandon Wallace Key...   \n",
       "4      By Isabel Ivanescu and Ezgi Yazici Key Takea...   \n",
       "..                                                 ...   \n",
       "350  Deputies are investigating after an explosive ...   \n",
       "351  Residents at a Springfield apartment complex w...   \n",
       "352  Several handheld explosive devices were found ...   \n",
       "353  Boulder police taped off the U.S. Bank at Broa...   \n",
       "354  By BBC Monitoring  Khabarovsk protests  Newspa...   \n",
       "\n",
       "                                             Tokenized  \\\n",
       "0    [<Number>, <Number>, <Number>, on, <Number>, s...   \n",
       "1    [by, george, barros, november, <Number>, <Numb...   \n",
       "2    [by, ezgi, yazici, november, <Number>, <Number...   \n",
       "3    [by, katherine, lawlor, with, brandon, wallace...   \n",
       "4    [by, isabel, ivanescu, and, ezgi, yazici, key,...   \n",
       "..                                                 ...   \n",
       "350  [deputies, are, investigating, after, an, expl...   \n",
       "351  [residents, at, a, springfield, apartment, com...   \n",
       "352  [several, handheld, explosive, devices, were, ...   \n",
       "353  [boulder, police, taped, off, the, u, s, bank,...   \n",
       "354  [by, bbc, monitoring, khabarovsk, protests, ne...   \n",
       "\n",
       "                                          Tokens Count  Class Type  Length  \\\n",
       "0    [(the, 127), (and, 83), (women, 82), (to, 70),...           0    2313   \n",
       "1    [(the, 67), (<Number>, 50), (to, 44), (csto, 3...           0    1393   \n",
       "2    [(the, 41), (in, 25), (to, 24), (s, 22), (and,...           0     824   \n",
       "3    [(s, 131), (the, 121), (to, 120), (<Number>, 1...           0    3528   \n",
       "4    [(in, 42), (the, 37), (and, 34), (a, 23), (to,...           0     878   \n",
       "..                                                 ...         ...     ...   \n",
       "350  [(the, 52), (a, 43), (was, 35), (to, 25), (dev...           3     784   \n",
       "351  [(the, 64), (a, 47), (was, 27), (in, 22), (bom...           3     791   \n",
       "352  [(the, 82), (a, 67), (bomb, 30), (to, 27), (wa...           3     941   \n",
       "353  [(the, 83), (a, 77), (was, 42), (to, 36), (bom...           3    1355   \n",
       "354  [(the, 103), (<Number>, 49), (of, 48), (that, ...           3    1797   \n",
       "\n",
       "     Unique Tokens                                  Tokens Percentage  \n",
       "0              521  [(the, 5.490704712494596), (and, 3.58841331603...  \n",
       "1              533  [(the, 4.809763101220388), (<Number>, 3.589375...  \n",
       "2              366  [(the, 4.975728155339806), (in, 3.033980582524...  \n",
       "3              985  [(s, 3.7131519274376417), (the, 3.429705215419...  \n",
       "4              390  [(in, 4.783599088838269), (the, 4.214123006833...  \n",
       "..             ...                                                ...  \n",
       "350            313  [(the, 6.63265306122449), (a, 5.48469387755102...  \n",
       "351            331  [(the, 8.09102402022756), (a, 5.94184576485461...  \n",
       "352            367  [(the, 8.71413390010627), (a, 7.12008501594048...  \n",
       "353            488  [(the, 6.125461254612546), (a, 5.6826568265682...  \n",
       "354            811  [(the, 5.7317751808569835), (<Number>, 2.72676...  \n",
       "\n",
       "[355 rows x 9 columns]"
      ],
      "text/html": "<div>\n<style scoped>\n    .dataframe tbody tr th:only-of-type {\n        vertical-align: middle;\n    }\n\n    .dataframe tbody tr th {\n        vertical-align: top;\n    }\n\n    .dataframe thead th {\n        text-align: right;\n    }\n</style>\n<table border=\"1\" class=\"dataframe\">\n  <thead>\n    <tr style=\"text-align: right;\">\n      <th></th>\n      <th>URL</th>\n      <th>Class</th>\n      <th>Content</th>\n      <th>Tokenized</th>\n      <th>Tokens Count</th>\n      <th>Class Type</th>\n      <th>Length</th>\n      <th>Unique Tokens</th>\n      <th>Tokens Percentage</th>\n    </tr>\n  </thead>\n  <tbody>\n    <tr>\n      <th>0</th>\n      <td>https://issafrica.org/iss-today/time-to-tackle...</td>\n      <td>Analytical Report</td>\n      <td>2020-11-25 On 26 September, hundreds of Mali...</td>\n      <td>[&lt;Number&gt;, &lt;Number&gt;, &lt;Number&gt;, on, &lt;Number&gt;, s...</td>\n      <td>[(the, 127), (and, 83), (women, 82), (to, 70),...</td>\n      <td>0</td>\n      <td>2313</td>\n      <td>521</td>\n      <td>[(the, 5.490704712494596), (and, 3.58841331603...</td>\n    </tr>\n    <tr>\n      <th>1</th>\n      <td>http://www.understandingwar.org/backgrounder/r...</td>\n      <td>Analytical Report</td>\n      <td>By George Barros November 16, 2020 The Kreml...</td>\n      <td>[by, george, barros, november, &lt;Number&gt;, &lt;Numb...</td>\n      <td>[(the, 67), (&lt;Number&gt;, 50), (to, 44), (csto, 3...</td>\n      <td>0</td>\n      <td>1393</td>\n      <td>533</td>\n      <td>[(the, 4.809763101220388), (&lt;Number&gt;, 3.589375...</td>\n    </tr>\n    <tr>\n      <th>2</th>\n      <td>http://www.understandingwar.org/backgrounder/r...</td>\n      <td>Analytical Report</td>\n      <td>By Ezgi Yazici November 13, 2020 Key Takeawa...</td>\n      <td>[by, ezgi, yazici, november, &lt;Number&gt;, &lt;Number...</td>\n      <td>[(the, 41), (in, 25), (to, 24), (s, 22), (and,...</td>\n      <td>0</td>\n      <td>824</td>\n      <td>366</td>\n      <td>[(the, 4.975728155339806), (in, 3.033980582524...</td>\n    </tr>\n    <tr>\n      <th>3</th>\n      <td>http://www.understandingwar.org/backgrounder/w...</td>\n      <td>Analytical Report</td>\n      <td>By Katherine Lawlor with Brandon Wallace Key...</td>\n      <td>[by, katherine, lawlor, with, brandon, wallace...</td>\n      <td>[(s, 131), (the, 121), (to, 120), (&lt;Number&gt;, 1...</td>\n      <td>0</td>\n      <td>3528</td>\n      <td>985</td>\n      <td>[(s, 3.7131519274376417), (the, 3.429705215419...</td>\n    </tr>\n    <tr>\n      <th>4</th>\n      <td>http://www.understandingwar.org/backgrounder/r...</td>\n      <td>Analytical Report</td>\n      <td>By Isabel Ivanescu and Ezgi Yazici Key Takea...</td>\n      <td>[by, isabel, ivanescu, and, ezgi, yazici, key,...</td>\n      <td>[(in, 42), (the, 37), (and, 34), (a, 23), (to,...</td>\n      <td>0</td>\n      <td>878</td>\n      <td>390</td>\n      <td>[(in, 4.783599088838269), (the, 4.214123006833...</td>\n    </tr>\n    <tr>\n      <th>...</th>\n      <td>...</td>\n      <td>...</td>\n      <td>...</td>\n      <td>...</td>\n      <td>...</td>\n      <td>...</td>\n      <td>...</td>\n      <td>...</td>\n      <td>...</td>\n    </tr>\n    <tr>\n      <th>350</th>\n      <td>int-rep-o-18-e.txt</td>\n      <td>Situation Report</td>\n      <td>Deputies are investigating after an explosive ...</td>\n      <td>[deputies, are, investigating, after, an, expl...</td>\n      <td>[(the, 52), (a, 43), (was, 35), (to, 25), (dev...</td>\n      <td>3</td>\n      <td>784</td>\n      <td>313</td>\n      <td>[(the, 6.63265306122449), (a, 5.48469387755102...</td>\n    </tr>\n    <tr>\n      <th>351</th>\n      <td>int-rep-o-18-f.txt</td>\n      <td>Situation Report</td>\n      <td>Residents at a Springfield apartment complex w...</td>\n      <td>[residents, at, a, springfield, apartment, com...</td>\n      <td>[(the, 64), (a, 47), (was, 27), (in, 22), (bom...</td>\n      <td>3</td>\n      <td>791</td>\n      <td>331</td>\n      <td>[(the, 8.09102402022756), (a, 5.94184576485461...</td>\n    </tr>\n    <tr>\n      <th>352</th>\n      <td>int-rep-o-18-g.txt</td>\n      <td>Situation Report</td>\n      <td>Several handheld explosive devices were found ...</td>\n      <td>[several, handheld, explosive, devices, were, ...</td>\n      <td>[(the, 82), (a, 67), (bomb, 30), (to, 27), (wa...</td>\n      <td>3</td>\n      <td>941</td>\n      <td>367</td>\n      <td>[(the, 8.71413390010627), (a, 7.12008501594048...</td>\n    </tr>\n    <tr>\n      <th>353</th>\n      <td>int-rep-o-18-h.txt</td>\n      <td>Situation Report</td>\n      <td>Boulder police taped off the U.S. Bank at Broa...</td>\n      <td>[boulder, police, taped, off, the, u, s, bank,...</td>\n      <td>[(the, 83), (a, 77), (was, 42), (to, 36), (bom...</td>\n      <td>3</td>\n      <td>1355</td>\n      <td>488</td>\n      <td>[(the, 6.125461254612546), (a, 5.6826568265682...</td>\n    </tr>\n    <tr>\n      <th>354</th>\n      <td>Summary of Russian press for Wednesday 29 July...</td>\n      <td>Situation Report</td>\n      <td>By BBC Monitoring  Khabarovsk protests  Newspa...</td>\n      <td>[by, bbc, monitoring, khabarovsk, protests, ne...</td>\n      <td>[(the, 103), (&lt;Number&gt;, 49), (of, 48), (that, ...</td>\n      <td>3</td>\n      <td>1797</td>\n      <td>811</td>\n      <td>[(the, 5.7317751808569835), (&lt;Number&gt;, 2.72676...</td>\n    </tr>\n  </tbody>\n</table>\n<p>355 rows × 9 columns</p>\n</div>"
     },
     "metadata": {},
     "execution_count": 16
    }
   ],
   "source": [
    "data_add_features = adding_features(data_processed)\n",
    "\n",
    "data_Analytical = data_add_features[data_add_features['Class'] == 'Analytical Report']\n",
    "data_Incident = data_add_features[data_add_features['Class'] == 'Incident Report']\n",
    "data_Profile = data_add_features[data_add_features['Class'] == 'Profile Report']\n",
    "data_Situation = data_add_features[data_add_features['Class'] == 'Situation Report']\n",
    "\n",
    "data_add_features"
   ]
  },
  {
   "cell_type": "code",
   "execution_count": 17,
   "metadata": {},
   "outputs": [],
   "source": [
    "# Function to plot the violin plot for the dataframe   \n",
    "def plot_violin(df, to_be_plot):\n",
    "\n",
    "    fig = go.Figure()\n",
    "\n",
    "    reports = ['Analytical Report', 'Incident Report', 'Profile Report', 'Situation Report']\n",
    "\n",
    "    for report in reports:\n",
    "        fig.add_trace(go.Violin(x=df['Class'][df['Class'] == report],\n",
    "                                y=df[to_be_plot][df['Class'] == report],\n",
    "                                name=report,\n",
    "                                box_visible=True,\n",
    "                                meanline_visible=True))\n",
    "    \n",
    "    fig.update_layout(\n",
    "    title=\"Violin plot of the \" + to_be_plot + \" for type of reports\",\n",
    "    yaxis_range=[0, 5000],\n",
    "    )\n",
    "    fig.show()\n",
    "\n",
    "    return\n"
   ]
  },
  {
   "cell_type": "code",
   "execution_count": 18,
   "metadata": {},
   "outputs": [
    {
     "output_type": "display_data",
     "data": {
      "application/vnd.plotly.v1+json": {
       "config": {
        "plotlyServerURL": "https://plot.ly"
       },
       "data": [
        {
         "box": {
          "visible": true
         },
         "meanline": {
          "visible": true
         },
         "name": "Analytical Report",
         "type": "violin",
         "x": [
          "Analytical Report",
          "Analytical Report",
          "Analytical Report",
          "Analytical Report",
          "Analytical Report",
          "Analytical Report",
          "Analytical Report",
          "Analytical Report",
          "Analytical Report",
          "Analytical Report",
          "Analytical Report",
          "Analytical Report",
          "Analytical Report",
          "Analytical Report",
          "Analytical Report",
          "Analytical Report",
          "Analytical Report",
          "Analytical Report",
          "Analytical Report",
          "Analytical Report",
          "Analytical Report",
          "Analytical Report",
          "Analytical Report",
          "Analytical Report",
          "Analytical Report",
          "Analytical Report",
          "Analytical Report",
          "Analytical Report",
          "Analytical Report",
          "Analytical Report",
          "Analytical Report",
          "Analytical Report",
          "Analytical Report",
          "Analytical Report",
          "Analytical Report",
          "Analytical Report",
          "Analytical Report",
          "Analytical Report",
          "Analytical Report",
          "Analytical Report",
          "Analytical Report",
          "Analytical Report",
          "Analytical Report",
          "Analytical Report",
          "Analytical Report",
          "Analytical Report",
          "Analytical Report",
          "Analytical Report",
          "Analytical Report",
          "Analytical Report",
          "Analytical Report",
          "Analytical Report",
          "Analytical Report",
          "Analytical Report",
          "Analytical Report",
          "Analytical Report",
          "Analytical Report",
          "Analytical Report",
          "Analytical Report",
          "Analytical Report",
          "Analytical Report",
          "Analytical Report",
          "Analytical Report",
          "Analytical Report",
          "Analytical Report",
          "Analytical Report",
          "Analytical Report",
          "Analytical Report",
          "Analytical Report",
          "Analytical Report",
          "Analytical Report",
          "Analytical Report",
          "Analytical Report",
          "Analytical Report",
          "Analytical Report",
          "Analytical Report",
          "Analytical Report",
          "Analytical Report",
          "Analytical Report",
          "Analytical Report",
          "Analytical Report",
          "Analytical Report",
          "Analytical Report",
          "Analytical Report",
          "Analytical Report"
         ],
         "y": [
          2313,
          1393,
          824,
          3528,
          878,
          1348,
          1443,
          930,
          14342,
          5840,
          891,
          686,
          465,
          3573,
          3194,
          1503,
          26373,
          10904,
          1534,
          937,
          452,
          1375,
          1891,
          1536,
          1390,
          1860,
          1681,
          1701,
          878,
          789,
          1015,
          679,
          1260,
          853,
          1268,
          2845,
          3057,
          5021,
          13607,
          605,
          607,
          1041,
          671,
          1169,
          1093,
          1152,
          1063,
          1563,
          1032,
          914,
          1241,
          316,
          1703,
          3933,
          748,
          2627,
          1046,
          1991,
          1656,
          2716,
          14620,
          981,
          4064,
          1509,
          2105,
          1771,
          1738,
          1080,
          1028,
          618,
          832,
          421,
          954,
          864,
          2622,
          1257,
          1125,
          1269,
          1068,
          1185,
          1921,
          1194,
          853,
          1166,
          1884
         ]
        },
        {
         "box": {
          "visible": true
         },
         "meanline": {
          "visible": true
         },
         "name": "Incident Report",
         "type": "violin",
         "x": [
          "Incident Report",
          "Incident Report",
          "Incident Report",
          "Incident Report",
          "Incident Report",
          "Incident Report",
          "Incident Report",
          "Incident Report",
          "Incident Report",
          "Incident Report",
          "Incident Report",
          "Incident Report",
          "Incident Report",
          "Incident Report",
          "Incident Report",
          "Incident Report",
          "Incident Report",
          "Incident Report",
          "Incident Report",
          "Incident Report",
          "Incident Report",
          "Incident Report",
          "Incident Report",
          "Incident Report",
          "Incident Report",
          "Incident Report",
          "Incident Report",
          "Incident Report",
          "Incident Report",
          "Incident Report",
          "Incident Report",
          "Incident Report",
          "Incident Report",
          "Incident Report",
          "Incident Report",
          "Incident Report",
          "Incident Report",
          "Incident Report",
          "Incident Report",
          "Incident Report",
          "Incident Report",
          "Incident Report",
          "Incident Report",
          "Incident Report",
          "Incident Report",
          "Incident Report",
          "Incident Report",
          "Incident Report",
          "Incident Report",
          "Incident Report",
          "Incident Report",
          "Incident Report",
          "Incident Report",
          "Incident Report",
          "Incident Report",
          "Incident Report",
          "Incident Report",
          "Incident Report",
          "Incident Report",
          "Incident Report",
          "Incident Report",
          "Incident Report",
          "Incident Report",
          "Incident Report",
          "Incident Report",
          "Incident Report",
          "Incident Report",
          "Incident Report",
          "Incident Report",
          "Incident Report",
          "Incident Report",
          "Incident Report",
          "Incident Report",
          "Incident Report",
          "Incident Report"
         ],
         "y": [
          659,
          217,
          597,
          383,
          1316,
          915,
          212,
          256,
          578,
          739,
          1184,
          2357,
          282,
          905,
          255,
          267,
          215,
          335,
          238,
          598,
          142,
          138,
          431,
          604,
          264,
          174,
          408,
          277,
          405,
          182,
          644,
          358,
          206,
          203,
          119,
          381,
          202,
          176,
          791,
          376,
          331,
          43,
          176,
          409,
          262,
          788,
          331,
          141,
          87,
          349,
          254,
          638,
          449,
          184,
          372,
          129,
          248,
          434,
          207,
          123,
          194,
          204,
          157,
          152,
          111,
          942,
          130,
          325,
          400,
          419,
          229,
          122,
          111,
          152,
          119
         ]
        },
        {
         "box": {
          "visible": true
         },
         "meanline": {
          "visible": true
         },
         "name": "Profile Report",
         "type": "violin",
         "x": [
          "Profile Report",
          "Profile Report",
          "Profile Report",
          "Profile Report",
          "Profile Report",
          "Profile Report",
          "Profile Report",
          "Profile Report",
          "Profile Report",
          "Profile Report",
          "Profile Report",
          "Profile Report",
          "Profile Report",
          "Profile Report",
          "Profile Report",
          "Profile Report",
          "Profile Report",
          "Profile Report",
          "Profile Report",
          "Profile Report",
          "Profile Report",
          "Profile Report",
          "Profile Report",
          "Profile Report",
          "Profile Report",
          "Profile Report",
          "Profile Report",
          "Profile Report",
          "Profile Report",
          "Profile Report",
          "Profile Report",
          "Profile Report",
          "Profile Report",
          "Profile Report",
          "Profile Report",
          "Profile Report",
          "Profile Report",
          "Profile Report",
          "Profile Report",
          "Profile Report",
          "Profile Report",
          "Profile Report",
          "Profile Report",
          "Profile Report",
          "Profile Report",
          "Profile Report",
          "Profile Report",
          "Profile Report",
          "Profile Report",
          "Profile Report",
          "Profile Report",
          "Profile Report",
          "Profile Report",
          "Profile Report",
          "Profile Report",
          "Profile Report",
          "Profile Report",
          "Profile Report",
          "Profile Report",
          "Profile Report",
          "Profile Report",
          "Profile Report",
          "Profile Report",
          "Profile Report",
          "Profile Report",
          "Profile Report",
          "Profile Report",
          "Profile Report",
          "Profile Report",
          "Profile Report",
          "Profile Report",
          "Profile Report",
          "Profile Report",
          "Profile Report",
          "Profile Report",
          "Profile Report",
          "Profile Report",
          "Profile Report",
          "Profile Report",
          "Profile Report",
          "Profile Report",
          "Profile Report",
          "Profile Report",
          "Profile Report",
          "Profile Report",
          "Profile Report",
          "Profile Report",
          "Profile Report",
          "Profile Report",
          "Profile Report",
          "Profile Report",
          "Profile Report",
          "Profile Report",
          "Profile Report",
          "Profile Report",
          "Profile Report",
          "Profile Report",
          "Profile Report"
         ],
         "y": [
          11030,
          14562,
          1472,
          1834,
          4761,
          2871,
          4170,
          3767,
          6453,
          1590,
          1241,
          1556,
          3690,
          1475,
          863,
          600,
          868,
          1465,
          1009,
          1096,
          743,
          2388,
          572,
          1611,
          539,
          1883,
          483,
          1748,
          821,
          770,
          939,
          843,
          799,
          853,
          727,
          789,
          1209,
          926,
          780,
          869,
          896,
          848,
          785,
          696,
          182,
          219,
          475,
          116,
          239,
          99,
          254,
          292,
          213,
          105,
          300,
          288,
          131,
          160,
          271,
          195,
          133,
          228,
          456,
          192,
          288,
          297,
          222,
          309,
          341,
          317,
          147,
          340,
          314,
          417,
          409,
          321,
          179,
          520,
          272,
          328,
          263,
          344,
          335,
          210,
          850,
          413,
          348,
          458,
          830,
          887,
          1207,
          864,
          733,
          449,
          395,
          302,
          248,
          334
         ]
        },
        {
         "box": {
          "visible": true
         },
         "meanline": {
          "visible": true
         },
         "name": "Situation Report",
         "type": "violin",
         "x": [
          "Situation Report",
          "Situation Report",
          "Situation Report",
          "Situation Report",
          "Situation Report",
          "Situation Report",
          "Situation Report",
          "Situation Report",
          "Situation Report",
          "Situation Report",
          "Situation Report",
          "Situation Report",
          "Situation Report",
          "Situation Report",
          "Situation Report",
          "Situation Report",
          "Situation Report",
          "Situation Report",
          "Situation Report",
          "Situation Report",
          "Situation Report",
          "Situation Report",
          "Situation Report",
          "Situation Report",
          "Situation Report",
          "Situation Report",
          "Situation Report",
          "Situation Report",
          "Situation Report",
          "Situation Report",
          "Situation Report",
          "Situation Report",
          "Situation Report",
          "Situation Report",
          "Situation Report",
          "Situation Report",
          "Situation Report",
          "Situation Report",
          "Situation Report",
          "Situation Report",
          "Situation Report",
          "Situation Report",
          "Situation Report",
          "Situation Report",
          "Situation Report",
          "Situation Report",
          "Situation Report",
          "Situation Report",
          "Situation Report",
          "Situation Report",
          "Situation Report",
          "Situation Report",
          "Situation Report",
          "Situation Report",
          "Situation Report",
          "Situation Report",
          "Situation Report",
          "Situation Report",
          "Situation Report",
          "Situation Report",
          "Situation Report",
          "Situation Report",
          "Situation Report",
          "Situation Report",
          "Situation Report",
          "Situation Report",
          "Situation Report",
          "Situation Report",
          "Situation Report",
          "Situation Report",
          "Situation Report",
          "Situation Report",
          "Situation Report",
          "Situation Report",
          "Situation Report",
          "Situation Report",
          "Situation Report",
          "Situation Report",
          "Situation Report",
          "Situation Report",
          "Situation Report",
          "Situation Report",
          "Situation Report",
          "Situation Report",
          "Situation Report",
          "Situation Report",
          "Situation Report",
          "Situation Report",
          "Situation Report",
          "Situation Report",
          "Situation Report",
          "Situation Report",
          "Situation Report",
          "Situation Report",
          "Situation Report",
          "Situation Report",
          "Situation Report"
         ],
         "y": [
          15679,
          1288,
          1319,
          1152,
          968,
          1307,
          1655,
          1802,
          1449,
          1144,
          1270,
          896,
          990,
          1244,
          921,
          957,
          423,
          1062,
          940,
          962,
          988,
          940,
          1395,
          1121,
          796,
          1180,
          865,
          1239,
          792,
          961,
          1826,
          2160,
          219,
          847,
          1567,
          602,
          1085,
          1190,
          871,
          858,
          567,
          750,
          439,
          720,
          730,
          620,
          694,
          736,
          693,
          771,
          781,
          472,
          724,
          513,
          473,
          723,
          626,
          724,
          825,
          578,
          644,
          964,
          571,
          743,
          738,
          709,
          793,
          686,
          702,
          747,
          564,
          732,
          367,
          644,
          531,
          493,
          716,
          837,
          708,
          525,
          709,
          680,
          630,
          702,
          766,
          651,
          417,
          667,
          861,
          859,
          737,
          670,
          784,
          791,
          941,
          1355,
          1797
         ]
        }
       ],
       "layout": {
        "template": {
         "data": {
          "bar": [
           {
            "error_x": {
             "color": "#2a3f5f"
            },
            "error_y": {
             "color": "#2a3f5f"
            },
            "marker": {
             "line": {
              "color": "#E5ECF6",
              "width": 0.5
             }
            },
            "type": "bar"
           }
          ],
          "barpolar": [
           {
            "marker": {
             "line": {
              "color": "#E5ECF6",
              "width": 0.5
             }
            },
            "type": "barpolar"
           }
          ],
          "carpet": [
           {
            "aaxis": {
             "endlinecolor": "#2a3f5f",
             "gridcolor": "white",
             "linecolor": "white",
             "minorgridcolor": "white",
             "startlinecolor": "#2a3f5f"
            },
            "baxis": {
             "endlinecolor": "#2a3f5f",
             "gridcolor": "white",
             "linecolor": "white",
             "minorgridcolor": "white",
             "startlinecolor": "#2a3f5f"
            },
            "type": "carpet"
           }
          ],
          "choropleth": [
           {
            "colorbar": {
             "outlinewidth": 0,
             "ticks": ""
            },
            "type": "choropleth"
           }
          ],
          "contour": [
           {
            "colorbar": {
             "outlinewidth": 0,
             "ticks": ""
            },
            "colorscale": [
             [
              0,
              "#0d0887"
             ],
             [
              0.1111111111111111,
              "#46039f"
             ],
             [
              0.2222222222222222,
              "#7201a8"
             ],
             [
              0.3333333333333333,
              "#9c179e"
             ],
             [
              0.4444444444444444,
              "#bd3786"
             ],
             [
              0.5555555555555556,
              "#d8576b"
             ],
             [
              0.6666666666666666,
              "#ed7953"
             ],
             [
              0.7777777777777778,
              "#fb9f3a"
             ],
             [
              0.8888888888888888,
              "#fdca26"
             ],
             [
              1,
              "#f0f921"
             ]
            ],
            "type": "contour"
           }
          ],
          "contourcarpet": [
           {
            "colorbar": {
             "outlinewidth": 0,
             "ticks": ""
            },
            "type": "contourcarpet"
           }
          ],
          "heatmap": [
           {
            "colorbar": {
             "outlinewidth": 0,
             "ticks": ""
            },
            "colorscale": [
             [
              0,
              "#0d0887"
             ],
             [
              0.1111111111111111,
              "#46039f"
             ],
             [
              0.2222222222222222,
              "#7201a8"
             ],
             [
              0.3333333333333333,
              "#9c179e"
             ],
             [
              0.4444444444444444,
              "#bd3786"
             ],
             [
              0.5555555555555556,
              "#d8576b"
             ],
             [
              0.6666666666666666,
              "#ed7953"
             ],
             [
              0.7777777777777778,
              "#fb9f3a"
             ],
             [
              0.8888888888888888,
              "#fdca26"
             ],
             [
              1,
              "#f0f921"
             ]
            ],
            "type": "heatmap"
           }
          ],
          "heatmapgl": [
           {
            "colorbar": {
             "outlinewidth": 0,
             "ticks": ""
            },
            "colorscale": [
             [
              0,
              "#0d0887"
             ],
             [
              0.1111111111111111,
              "#46039f"
             ],
             [
              0.2222222222222222,
              "#7201a8"
             ],
             [
              0.3333333333333333,
              "#9c179e"
             ],
             [
              0.4444444444444444,
              "#bd3786"
             ],
             [
              0.5555555555555556,
              "#d8576b"
             ],
             [
              0.6666666666666666,
              "#ed7953"
             ],
             [
              0.7777777777777778,
              "#fb9f3a"
             ],
             [
              0.8888888888888888,
              "#fdca26"
             ],
             [
              1,
              "#f0f921"
             ]
            ],
            "type": "heatmapgl"
           }
          ],
          "histogram": [
           {
            "marker": {
             "colorbar": {
              "outlinewidth": 0,
              "ticks": ""
             }
            },
            "type": "histogram"
           }
          ],
          "histogram2d": [
           {
            "colorbar": {
             "outlinewidth": 0,
             "ticks": ""
            },
            "colorscale": [
             [
              0,
              "#0d0887"
             ],
             [
              0.1111111111111111,
              "#46039f"
             ],
             [
              0.2222222222222222,
              "#7201a8"
             ],
             [
              0.3333333333333333,
              "#9c179e"
             ],
             [
              0.4444444444444444,
              "#bd3786"
             ],
             [
              0.5555555555555556,
              "#d8576b"
             ],
             [
              0.6666666666666666,
              "#ed7953"
             ],
             [
              0.7777777777777778,
              "#fb9f3a"
             ],
             [
              0.8888888888888888,
              "#fdca26"
             ],
             [
              1,
              "#f0f921"
             ]
            ],
            "type": "histogram2d"
           }
          ],
          "histogram2dcontour": [
           {
            "colorbar": {
             "outlinewidth": 0,
             "ticks": ""
            },
            "colorscale": [
             [
              0,
              "#0d0887"
             ],
             [
              0.1111111111111111,
              "#46039f"
             ],
             [
              0.2222222222222222,
              "#7201a8"
             ],
             [
              0.3333333333333333,
              "#9c179e"
             ],
             [
              0.4444444444444444,
              "#bd3786"
             ],
             [
              0.5555555555555556,
              "#d8576b"
             ],
             [
              0.6666666666666666,
              "#ed7953"
             ],
             [
              0.7777777777777778,
              "#fb9f3a"
             ],
             [
              0.8888888888888888,
              "#fdca26"
             ],
             [
              1,
              "#f0f921"
             ]
            ],
            "type": "histogram2dcontour"
           }
          ],
          "mesh3d": [
           {
            "colorbar": {
             "outlinewidth": 0,
             "ticks": ""
            },
            "type": "mesh3d"
           }
          ],
          "parcoords": [
           {
            "line": {
             "colorbar": {
              "outlinewidth": 0,
              "ticks": ""
             }
            },
            "type": "parcoords"
           }
          ],
          "pie": [
           {
            "automargin": true,
            "type": "pie"
           }
          ],
          "scatter": [
           {
            "marker": {
             "colorbar": {
              "outlinewidth": 0,
              "ticks": ""
             }
            },
            "type": "scatter"
           }
          ],
          "scatter3d": [
           {
            "line": {
             "colorbar": {
              "outlinewidth": 0,
              "ticks": ""
             }
            },
            "marker": {
             "colorbar": {
              "outlinewidth": 0,
              "ticks": ""
             }
            },
            "type": "scatter3d"
           }
          ],
          "scattercarpet": [
           {
            "marker": {
             "colorbar": {
              "outlinewidth": 0,
              "ticks": ""
             }
            },
            "type": "scattercarpet"
           }
          ],
          "scattergeo": [
           {
            "marker": {
             "colorbar": {
              "outlinewidth": 0,
              "ticks": ""
             }
            },
            "type": "scattergeo"
           }
          ],
          "scattergl": [
           {
            "marker": {
             "colorbar": {
              "outlinewidth": 0,
              "ticks": ""
             }
            },
            "type": "scattergl"
           }
          ],
          "scattermapbox": [
           {
            "marker": {
             "colorbar": {
              "outlinewidth": 0,
              "ticks": ""
             }
            },
            "type": "scattermapbox"
           }
          ],
          "scatterpolar": [
           {
            "marker": {
             "colorbar": {
              "outlinewidth": 0,
              "ticks": ""
             }
            },
            "type": "scatterpolar"
           }
          ],
          "scatterpolargl": [
           {
            "marker": {
             "colorbar": {
              "outlinewidth": 0,
              "ticks": ""
             }
            },
            "type": "scatterpolargl"
           }
          ],
          "scatterternary": [
           {
            "marker": {
             "colorbar": {
              "outlinewidth": 0,
              "ticks": ""
             }
            },
            "type": "scatterternary"
           }
          ],
          "surface": [
           {
            "colorbar": {
             "outlinewidth": 0,
             "ticks": ""
            },
            "colorscale": [
             [
              0,
              "#0d0887"
             ],
             [
              0.1111111111111111,
              "#46039f"
             ],
             [
              0.2222222222222222,
              "#7201a8"
             ],
             [
              0.3333333333333333,
              "#9c179e"
             ],
             [
              0.4444444444444444,
              "#bd3786"
             ],
             [
              0.5555555555555556,
              "#d8576b"
             ],
             [
              0.6666666666666666,
              "#ed7953"
             ],
             [
              0.7777777777777778,
              "#fb9f3a"
             ],
             [
              0.8888888888888888,
              "#fdca26"
             ],
             [
              1,
              "#f0f921"
             ]
            ],
            "type": "surface"
           }
          ],
          "table": [
           {
            "cells": {
             "fill": {
              "color": "#EBF0F8"
             },
             "line": {
              "color": "white"
             }
            },
            "header": {
             "fill": {
              "color": "#C8D4E3"
             },
             "line": {
              "color": "white"
             }
            },
            "type": "table"
           }
          ]
         },
         "layout": {
          "annotationdefaults": {
           "arrowcolor": "#2a3f5f",
           "arrowhead": 0,
           "arrowwidth": 1
          },
          "coloraxis": {
           "colorbar": {
            "outlinewidth": 0,
            "ticks": ""
           }
          },
          "colorscale": {
           "diverging": [
            [
             0,
             "#8e0152"
            ],
            [
             0.1,
             "#c51b7d"
            ],
            [
             0.2,
             "#de77ae"
            ],
            [
             0.3,
             "#f1b6da"
            ],
            [
             0.4,
             "#fde0ef"
            ],
            [
             0.5,
             "#f7f7f7"
            ],
            [
             0.6,
             "#e6f5d0"
            ],
            [
             0.7,
             "#b8e186"
            ],
            [
             0.8,
             "#7fbc41"
            ],
            [
             0.9,
             "#4d9221"
            ],
            [
             1,
             "#276419"
            ]
           ],
           "sequential": [
            [
             0,
             "#0d0887"
            ],
            [
             0.1111111111111111,
             "#46039f"
            ],
            [
             0.2222222222222222,
             "#7201a8"
            ],
            [
             0.3333333333333333,
             "#9c179e"
            ],
            [
             0.4444444444444444,
             "#bd3786"
            ],
            [
             0.5555555555555556,
             "#d8576b"
            ],
            [
             0.6666666666666666,
             "#ed7953"
            ],
            [
             0.7777777777777778,
             "#fb9f3a"
            ],
            [
             0.8888888888888888,
             "#fdca26"
            ],
            [
             1,
             "#f0f921"
            ]
           ],
           "sequentialminus": [
            [
             0,
             "#0d0887"
            ],
            [
             0.1111111111111111,
             "#46039f"
            ],
            [
             0.2222222222222222,
             "#7201a8"
            ],
            [
             0.3333333333333333,
             "#9c179e"
            ],
            [
             0.4444444444444444,
             "#bd3786"
            ],
            [
             0.5555555555555556,
             "#d8576b"
            ],
            [
             0.6666666666666666,
             "#ed7953"
            ],
            [
             0.7777777777777778,
             "#fb9f3a"
            ],
            [
             0.8888888888888888,
             "#fdca26"
            ],
            [
             1,
             "#f0f921"
            ]
           ]
          },
          "colorway": [
           "#636efa",
           "#EF553B",
           "#00cc96",
           "#ab63fa",
           "#FFA15A",
           "#19d3f3",
           "#FF6692",
           "#B6E880",
           "#FF97FF",
           "#FECB52"
          ],
          "font": {
           "color": "#2a3f5f"
          },
          "geo": {
           "bgcolor": "white",
           "lakecolor": "white",
           "landcolor": "#E5ECF6",
           "showlakes": true,
           "showland": true,
           "subunitcolor": "white"
          },
          "hoverlabel": {
           "align": "left"
          },
          "hovermode": "closest",
          "mapbox": {
           "style": "light"
          },
          "paper_bgcolor": "white",
          "plot_bgcolor": "#E5ECF6",
          "polar": {
           "angularaxis": {
            "gridcolor": "white",
            "linecolor": "white",
            "ticks": ""
           },
           "bgcolor": "#E5ECF6",
           "radialaxis": {
            "gridcolor": "white",
            "linecolor": "white",
            "ticks": ""
           }
          },
          "scene": {
           "xaxis": {
            "backgroundcolor": "#E5ECF6",
            "gridcolor": "white",
            "gridwidth": 2,
            "linecolor": "white",
            "showbackground": true,
            "ticks": "",
            "zerolinecolor": "white"
           },
           "yaxis": {
            "backgroundcolor": "#E5ECF6",
            "gridcolor": "white",
            "gridwidth": 2,
            "linecolor": "white",
            "showbackground": true,
            "ticks": "",
            "zerolinecolor": "white"
           },
           "zaxis": {
            "backgroundcolor": "#E5ECF6",
            "gridcolor": "white",
            "gridwidth": 2,
            "linecolor": "white",
            "showbackground": true,
            "ticks": "",
            "zerolinecolor": "white"
           }
          },
          "shapedefaults": {
           "line": {
            "color": "#2a3f5f"
           }
          },
          "ternary": {
           "aaxis": {
            "gridcolor": "white",
            "linecolor": "white",
            "ticks": ""
           },
           "baxis": {
            "gridcolor": "white",
            "linecolor": "white",
            "ticks": ""
           },
           "bgcolor": "#E5ECF6",
           "caxis": {
            "gridcolor": "white",
            "linecolor": "white",
            "ticks": ""
           }
          },
          "title": {
           "x": 0.05
          },
          "xaxis": {
           "automargin": true,
           "gridcolor": "white",
           "linecolor": "white",
           "ticks": "",
           "title": {
            "standoff": 15
           },
           "zerolinecolor": "white",
           "zerolinewidth": 2
          },
          "yaxis": {
           "automargin": true,
           "gridcolor": "white",
           "linecolor": "white",
           "ticks": "",
           "title": {
            "standoff": 15
           },
           "zerolinecolor": "white",
           "zerolinewidth": 2
          }
         }
        },
        "title": {
         "text": "Violin plot of the Length for type of reports"
        },
        "yaxis": {
         "range": [
          0,
          5000
         ]
        }
       }
      }
     },
     "metadata": {}
    },
    {
     "output_type": "display_data",
     "data": {
      "application/vnd.plotly.v1+json": {
       "config": {
        "plotlyServerURL": "https://plot.ly"
       },
       "data": [
        {
         "box": {
          "visible": true
         },
         "meanline": {
          "visible": true
         },
         "name": "Analytical Report",
         "type": "violin",
         "x": [
          "Analytical Report",
          "Analytical Report",
          "Analytical Report",
          "Analytical Report",
          "Analytical Report",
          "Analytical Report",
          "Analytical Report",
          "Analytical Report",
          "Analytical Report",
          "Analytical Report",
          "Analytical Report",
          "Analytical Report",
          "Analytical Report",
          "Analytical Report",
          "Analytical Report",
          "Analytical Report",
          "Analytical Report",
          "Analytical Report",
          "Analytical Report",
          "Analytical Report",
          "Analytical Report",
          "Analytical Report",
          "Analytical Report",
          "Analytical Report",
          "Analytical Report",
          "Analytical Report",
          "Analytical Report",
          "Analytical Report",
          "Analytical Report",
          "Analytical Report",
          "Analytical Report",
          "Analytical Report",
          "Analytical Report",
          "Analytical Report",
          "Analytical Report",
          "Analytical Report",
          "Analytical Report",
          "Analytical Report",
          "Analytical Report",
          "Analytical Report",
          "Analytical Report",
          "Analytical Report",
          "Analytical Report",
          "Analytical Report",
          "Analytical Report",
          "Analytical Report",
          "Analytical Report",
          "Analytical Report",
          "Analytical Report",
          "Analytical Report",
          "Analytical Report",
          "Analytical Report",
          "Analytical Report",
          "Analytical Report",
          "Analytical Report",
          "Analytical Report",
          "Analytical Report",
          "Analytical Report",
          "Analytical Report",
          "Analytical Report",
          "Analytical Report",
          "Analytical Report",
          "Analytical Report",
          "Analytical Report",
          "Analytical Report",
          "Analytical Report",
          "Analytical Report",
          "Analytical Report",
          "Analytical Report",
          "Analytical Report",
          "Analytical Report",
          "Analytical Report",
          "Analytical Report",
          "Analytical Report",
          "Analytical Report",
          "Analytical Report",
          "Analytical Report",
          "Analytical Report",
          "Analytical Report",
          "Analytical Report",
          "Analytical Report",
          "Analytical Report",
          "Analytical Report",
          "Analytical Report",
          "Analytical Report"
         ],
         "y": [
          521,
          533,
          366,
          985,
          390,
          538,
          571,
          473,
          3162,
          1604,
          425,
          250,
          251,
          1127,
          994,
          660,
          4813,
          2719,
          723,
          464,
          251,
          338,
          436,
          652,
          592,
          846,
          629,
          628,
          391,
          363,
          483,
          314,
          565,
          368,
          546,
          1060,
          843,
          1253,
          2378,
          325,
          321,
          462,
          360,
          529,
          455,
          489,
          458,
          609,
          399,
          388,
          573,
          173,
          739,
          1370,
          346,
          940,
          383,
          530,
          596,
          735,
          2736,
          375,
          1032,
          677,
          749,
          622,
          664,
          409,
          338,
          271,
          374,
          205,
          418,
          459,
          992,
          545,
          478,
          516,
          507,
          607,
          732,
          535,
          349,
          511,
          739
         ]
        },
        {
         "box": {
          "visible": true
         },
         "meanline": {
          "visible": true
         },
         "name": "Incident Report",
         "type": "violin",
         "x": [
          "Incident Report",
          "Incident Report",
          "Incident Report",
          "Incident Report",
          "Incident Report",
          "Incident Report",
          "Incident Report",
          "Incident Report",
          "Incident Report",
          "Incident Report",
          "Incident Report",
          "Incident Report",
          "Incident Report",
          "Incident Report",
          "Incident Report",
          "Incident Report",
          "Incident Report",
          "Incident Report",
          "Incident Report",
          "Incident Report",
          "Incident Report",
          "Incident Report",
          "Incident Report",
          "Incident Report",
          "Incident Report",
          "Incident Report",
          "Incident Report",
          "Incident Report",
          "Incident Report",
          "Incident Report",
          "Incident Report",
          "Incident Report",
          "Incident Report",
          "Incident Report",
          "Incident Report",
          "Incident Report",
          "Incident Report",
          "Incident Report",
          "Incident Report",
          "Incident Report",
          "Incident Report",
          "Incident Report",
          "Incident Report",
          "Incident Report",
          "Incident Report",
          "Incident Report",
          "Incident Report",
          "Incident Report",
          "Incident Report",
          "Incident Report",
          "Incident Report",
          "Incident Report",
          "Incident Report",
          "Incident Report",
          "Incident Report",
          "Incident Report",
          "Incident Report",
          "Incident Report",
          "Incident Report",
          "Incident Report",
          "Incident Report",
          "Incident Report",
          "Incident Report",
          "Incident Report",
          "Incident Report",
          "Incident Report",
          "Incident Report",
          "Incident Report",
          "Incident Report",
          "Incident Report",
          "Incident Report",
          "Incident Report",
          "Incident Report",
          "Incident Report",
          "Incident Report"
         ],
         "y": [
          370,
          114,
          352,
          177,
          627,
          494,
          97,
          149,
          316,
          345,
          575,
          780,
          139,
          242,
          168,
          149,
          130,
          190,
          146,
          300,
          93,
          101,
          202,
          289,
          90,
          88,
          218,
          165,
          207,
          110,
          308,
          179,
          110,
          121,
          92,
          228,
          129,
          101,
          380,
          203,
          181,
          37,
          110,
          240,
          166,
          313,
          188,
          78,
          61,
          172,
          148,
          331,
          212,
          108,
          208,
          73,
          121,
          228,
          118,
          86,
          94,
          128,
          106,
          105,
          86,
          410,
          82,
          186,
          204,
          192,
          143,
          85,
          86,
          105,
          92
         ]
        },
        {
         "box": {
          "visible": true
         },
         "meanline": {
          "visible": true
         },
         "name": "Profile Report",
         "type": "violin",
         "x": [
          "Profile Report",
          "Profile Report",
          "Profile Report",
          "Profile Report",
          "Profile Report",
          "Profile Report",
          "Profile Report",
          "Profile Report",
          "Profile Report",
          "Profile Report",
          "Profile Report",
          "Profile Report",
          "Profile Report",
          "Profile Report",
          "Profile Report",
          "Profile Report",
          "Profile Report",
          "Profile Report",
          "Profile Report",
          "Profile Report",
          "Profile Report",
          "Profile Report",
          "Profile Report",
          "Profile Report",
          "Profile Report",
          "Profile Report",
          "Profile Report",
          "Profile Report",
          "Profile Report",
          "Profile Report",
          "Profile Report",
          "Profile Report",
          "Profile Report",
          "Profile Report",
          "Profile Report",
          "Profile Report",
          "Profile Report",
          "Profile Report",
          "Profile Report",
          "Profile Report",
          "Profile Report",
          "Profile Report",
          "Profile Report",
          "Profile Report",
          "Profile Report",
          "Profile Report",
          "Profile Report",
          "Profile Report",
          "Profile Report",
          "Profile Report",
          "Profile Report",
          "Profile Report",
          "Profile Report",
          "Profile Report",
          "Profile Report",
          "Profile Report",
          "Profile Report",
          "Profile Report",
          "Profile Report",
          "Profile Report",
          "Profile Report",
          "Profile Report",
          "Profile Report",
          "Profile Report",
          "Profile Report",
          "Profile Report",
          "Profile Report",
          "Profile Report",
          "Profile Report",
          "Profile Report",
          "Profile Report",
          "Profile Report",
          "Profile Report",
          "Profile Report",
          "Profile Report",
          "Profile Report",
          "Profile Report",
          "Profile Report",
          "Profile Report",
          "Profile Report",
          "Profile Report",
          "Profile Report",
          "Profile Report",
          "Profile Report",
          "Profile Report",
          "Profile Report",
          "Profile Report",
          "Profile Report",
          "Profile Report",
          "Profile Report",
          "Profile Report",
          "Profile Report",
          "Profile Report",
          "Profile Report",
          "Profile Report",
          "Profile Report",
          "Profile Report",
          "Profile Report"
         ],
         "y": [
          2579,
          3628,
          679,
          820,
          1458,
          1050,
          1340,
          1258,
          1603,
          621,
          598,
          683,
          1357,
          608,
          388,
          320,
          372,
          638,
          455,
          428,
          339,
          826,
          282,
          654,
          285,
          720,
          261,
          659,
          396,
          365,
          439,
          405,
          371,
          423,
          349,
          376,
          418,
          451,
          393,
          420,
          418,
          397,
          396,
          339,
          115,
          131,
          258,
          79,
          127,
          70,
          149,
          169,
          131,
          72,
          158,
          171,
          89,
          107,
          170,
          134,
          92,
          119,
          209,
          117,
          159,
          170,
          137,
          182,
          197,
          188,
          98,
          187,
          181,
          217,
          215,
          183,
          109,
          273,
          149,
          183,
          145,
          190,
          187,
          142,
          409,
          240,
          198,
          222,
          397,
          429,
          449,
          424,
          369,
          223,
          189,
          173,
          139,
          167
         ]
        },
        {
         "box": {
          "visible": true
         },
         "meanline": {
          "visible": true
         },
         "name": "Situation Report",
         "type": "violin",
         "x": [
          "Situation Report",
          "Situation Report",
          "Situation Report",
          "Situation Report",
          "Situation Report",
          "Situation Report",
          "Situation Report",
          "Situation Report",
          "Situation Report",
          "Situation Report",
          "Situation Report",
          "Situation Report",
          "Situation Report",
          "Situation Report",
          "Situation Report",
          "Situation Report",
          "Situation Report",
          "Situation Report",
          "Situation Report",
          "Situation Report",
          "Situation Report",
          "Situation Report",
          "Situation Report",
          "Situation Report",
          "Situation Report",
          "Situation Report",
          "Situation Report",
          "Situation Report",
          "Situation Report",
          "Situation Report",
          "Situation Report",
          "Situation Report",
          "Situation Report",
          "Situation Report",
          "Situation Report",
          "Situation Report",
          "Situation Report",
          "Situation Report",
          "Situation Report",
          "Situation Report",
          "Situation Report",
          "Situation Report",
          "Situation Report",
          "Situation Report",
          "Situation Report",
          "Situation Report",
          "Situation Report",
          "Situation Report",
          "Situation Report",
          "Situation Report",
          "Situation Report",
          "Situation Report",
          "Situation Report",
          "Situation Report",
          "Situation Report",
          "Situation Report",
          "Situation Report",
          "Situation Report",
          "Situation Report",
          "Situation Report",
          "Situation Report",
          "Situation Report",
          "Situation Report",
          "Situation Report",
          "Situation Report",
          "Situation Report",
          "Situation Report",
          "Situation Report",
          "Situation Report",
          "Situation Report",
          "Situation Report",
          "Situation Report",
          "Situation Report",
          "Situation Report",
          "Situation Report",
          "Situation Report",
          "Situation Report",
          "Situation Report",
          "Situation Report",
          "Situation Report",
          "Situation Report",
          "Situation Report",
          "Situation Report",
          "Situation Report",
          "Situation Report",
          "Situation Report",
          "Situation Report",
          "Situation Report",
          "Situation Report",
          "Situation Report",
          "Situation Report",
          "Situation Report",
          "Situation Report",
          "Situation Report",
          "Situation Report",
          "Situation Report",
          "Situation Report"
         ],
         "y": [
          2596,
          354,
          395,
          371,
          313,
          387,
          450,
          715,
          499,
          478,
          566,
          449,
          405,
          507,
          286,
          339,
          187,
          327,
          273,
          332,
          326,
          339,
          429,
          371,
          307,
          365,
          341,
          559,
          399,
          415,
          670,
          879,
          73,
          431,
          658,
          294,
          433,
          560,
          419,
          413,
          292,
          335,
          255,
          313,
          308,
          284,
          315,
          319,
          298,
          322,
          301,
          174,
          321,
          246,
          247,
          334,
          317,
          336,
          403,
          283,
          311,
          381,
          296,
          350,
          380,
          315,
          365,
          327,
          335,
          341,
          216,
          346,
          190,
          272,
          219,
          272,
          281,
          334,
          298,
          289,
          351,
          332,
          263,
          291,
          269,
          221,
          196,
          332,
          359,
          335,
          323,
          322,
          313,
          331,
          367,
          488,
          811
         ]
        }
       ],
       "layout": {
        "template": {
         "data": {
          "bar": [
           {
            "error_x": {
             "color": "#2a3f5f"
            },
            "error_y": {
             "color": "#2a3f5f"
            },
            "marker": {
             "line": {
              "color": "#E5ECF6",
              "width": 0.5
             }
            },
            "type": "bar"
           }
          ],
          "barpolar": [
           {
            "marker": {
             "line": {
              "color": "#E5ECF6",
              "width": 0.5
             }
            },
            "type": "barpolar"
           }
          ],
          "carpet": [
           {
            "aaxis": {
             "endlinecolor": "#2a3f5f",
             "gridcolor": "white",
             "linecolor": "white",
             "minorgridcolor": "white",
             "startlinecolor": "#2a3f5f"
            },
            "baxis": {
             "endlinecolor": "#2a3f5f",
             "gridcolor": "white",
             "linecolor": "white",
             "minorgridcolor": "white",
             "startlinecolor": "#2a3f5f"
            },
            "type": "carpet"
           }
          ],
          "choropleth": [
           {
            "colorbar": {
             "outlinewidth": 0,
             "ticks": ""
            },
            "type": "choropleth"
           }
          ],
          "contour": [
           {
            "colorbar": {
             "outlinewidth": 0,
             "ticks": ""
            },
            "colorscale": [
             [
              0,
              "#0d0887"
             ],
             [
              0.1111111111111111,
              "#46039f"
             ],
             [
              0.2222222222222222,
              "#7201a8"
             ],
             [
              0.3333333333333333,
              "#9c179e"
             ],
             [
              0.4444444444444444,
              "#bd3786"
             ],
             [
              0.5555555555555556,
              "#d8576b"
             ],
             [
              0.6666666666666666,
              "#ed7953"
             ],
             [
              0.7777777777777778,
              "#fb9f3a"
             ],
             [
              0.8888888888888888,
              "#fdca26"
             ],
             [
              1,
              "#f0f921"
             ]
            ],
            "type": "contour"
           }
          ],
          "contourcarpet": [
           {
            "colorbar": {
             "outlinewidth": 0,
             "ticks": ""
            },
            "type": "contourcarpet"
           }
          ],
          "heatmap": [
           {
            "colorbar": {
             "outlinewidth": 0,
             "ticks": ""
            },
            "colorscale": [
             [
              0,
              "#0d0887"
             ],
             [
              0.1111111111111111,
              "#46039f"
             ],
             [
              0.2222222222222222,
              "#7201a8"
             ],
             [
              0.3333333333333333,
              "#9c179e"
             ],
             [
              0.4444444444444444,
              "#bd3786"
             ],
             [
              0.5555555555555556,
              "#d8576b"
             ],
             [
              0.6666666666666666,
              "#ed7953"
             ],
             [
              0.7777777777777778,
              "#fb9f3a"
             ],
             [
              0.8888888888888888,
              "#fdca26"
             ],
             [
              1,
              "#f0f921"
             ]
            ],
            "type": "heatmap"
           }
          ],
          "heatmapgl": [
           {
            "colorbar": {
             "outlinewidth": 0,
             "ticks": ""
            },
            "colorscale": [
             [
              0,
              "#0d0887"
             ],
             [
              0.1111111111111111,
              "#46039f"
             ],
             [
              0.2222222222222222,
              "#7201a8"
             ],
             [
              0.3333333333333333,
              "#9c179e"
             ],
             [
              0.4444444444444444,
              "#bd3786"
             ],
             [
              0.5555555555555556,
              "#d8576b"
             ],
             [
              0.6666666666666666,
              "#ed7953"
             ],
             [
              0.7777777777777778,
              "#fb9f3a"
             ],
             [
              0.8888888888888888,
              "#fdca26"
             ],
             [
              1,
              "#f0f921"
             ]
            ],
            "type": "heatmapgl"
           }
          ],
          "histogram": [
           {
            "marker": {
             "colorbar": {
              "outlinewidth": 0,
              "ticks": ""
             }
            },
            "type": "histogram"
           }
          ],
          "histogram2d": [
           {
            "colorbar": {
             "outlinewidth": 0,
             "ticks": ""
            },
            "colorscale": [
             [
              0,
              "#0d0887"
             ],
             [
              0.1111111111111111,
              "#46039f"
             ],
             [
              0.2222222222222222,
              "#7201a8"
             ],
             [
              0.3333333333333333,
              "#9c179e"
             ],
             [
              0.4444444444444444,
              "#bd3786"
             ],
             [
              0.5555555555555556,
              "#d8576b"
             ],
             [
              0.6666666666666666,
              "#ed7953"
             ],
             [
              0.7777777777777778,
              "#fb9f3a"
             ],
             [
              0.8888888888888888,
              "#fdca26"
             ],
             [
              1,
              "#f0f921"
             ]
            ],
            "type": "histogram2d"
           }
          ],
          "histogram2dcontour": [
           {
            "colorbar": {
             "outlinewidth": 0,
             "ticks": ""
            },
            "colorscale": [
             [
              0,
              "#0d0887"
             ],
             [
              0.1111111111111111,
              "#46039f"
             ],
             [
              0.2222222222222222,
              "#7201a8"
             ],
             [
              0.3333333333333333,
              "#9c179e"
             ],
             [
              0.4444444444444444,
              "#bd3786"
             ],
             [
              0.5555555555555556,
              "#d8576b"
             ],
             [
              0.6666666666666666,
              "#ed7953"
             ],
             [
              0.7777777777777778,
              "#fb9f3a"
             ],
             [
              0.8888888888888888,
              "#fdca26"
             ],
             [
              1,
              "#f0f921"
             ]
            ],
            "type": "histogram2dcontour"
           }
          ],
          "mesh3d": [
           {
            "colorbar": {
             "outlinewidth": 0,
             "ticks": ""
            },
            "type": "mesh3d"
           }
          ],
          "parcoords": [
           {
            "line": {
             "colorbar": {
              "outlinewidth": 0,
              "ticks": ""
             }
            },
            "type": "parcoords"
           }
          ],
          "pie": [
           {
            "automargin": true,
            "type": "pie"
           }
          ],
          "scatter": [
           {
            "marker": {
             "colorbar": {
              "outlinewidth": 0,
              "ticks": ""
             }
            },
            "type": "scatter"
           }
          ],
          "scatter3d": [
           {
            "line": {
             "colorbar": {
              "outlinewidth": 0,
              "ticks": ""
             }
            },
            "marker": {
             "colorbar": {
              "outlinewidth": 0,
              "ticks": ""
             }
            },
            "type": "scatter3d"
           }
          ],
          "scattercarpet": [
           {
            "marker": {
             "colorbar": {
              "outlinewidth": 0,
              "ticks": ""
             }
            },
            "type": "scattercarpet"
           }
          ],
          "scattergeo": [
           {
            "marker": {
             "colorbar": {
              "outlinewidth": 0,
              "ticks": ""
             }
            },
            "type": "scattergeo"
           }
          ],
          "scattergl": [
           {
            "marker": {
             "colorbar": {
              "outlinewidth": 0,
              "ticks": ""
             }
            },
            "type": "scattergl"
           }
          ],
          "scattermapbox": [
           {
            "marker": {
             "colorbar": {
              "outlinewidth": 0,
              "ticks": ""
             }
            },
            "type": "scattermapbox"
           }
          ],
          "scatterpolar": [
           {
            "marker": {
             "colorbar": {
              "outlinewidth": 0,
              "ticks": ""
             }
            },
            "type": "scatterpolar"
           }
          ],
          "scatterpolargl": [
           {
            "marker": {
             "colorbar": {
              "outlinewidth": 0,
              "ticks": ""
             }
            },
            "type": "scatterpolargl"
           }
          ],
          "scatterternary": [
           {
            "marker": {
             "colorbar": {
              "outlinewidth": 0,
              "ticks": ""
             }
            },
            "type": "scatterternary"
           }
          ],
          "surface": [
           {
            "colorbar": {
             "outlinewidth": 0,
             "ticks": ""
            },
            "colorscale": [
             [
              0,
              "#0d0887"
             ],
             [
              0.1111111111111111,
              "#46039f"
             ],
             [
              0.2222222222222222,
              "#7201a8"
             ],
             [
              0.3333333333333333,
              "#9c179e"
             ],
             [
              0.4444444444444444,
              "#bd3786"
             ],
             [
              0.5555555555555556,
              "#d8576b"
             ],
             [
              0.6666666666666666,
              "#ed7953"
             ],
             [
              0.7777777777777778,
              "#fb9f3a"
             ],
             [
              0.8888888888888888,
              "#fdca26"
             ],
             [
              1,
              "#f0f921"
             ]
            ],
            "type": "surface"
           }
          ],
          "table": [
           {
            "cells": {
             "fill": {
              "color": "#EBF0F8"
             },
             "line": {
              "color": "white"
             }
            },
            "header": {
             "fill": {
              "color": "#C8D4E3"
             },
             "line": {
              "color": "white"
             }
            },
            "type": "table"
           }
          ]
         },
         "layout": {
          "annotationdefaults": {
           "arrowcolor": "#2a3f5f",
           "arrowhead": 0,
           "arrowwidth": 1
          },
          "coloraxis": {
           "colorbar": {
            "outlinewidth": 0,
            "ticks": ""
           }
          },
          "colorscale": {
           "diverging": [
            [
             0,
             "#8e0152"
            ],
            [
             0.1,
             "#c51b7d"
            ],
            [
             0.2,
             "#de77ae"
            ],
            [
             0.3,
             "#f1b6da"
            ],
            [
             0.4,
             "#fde0ef"
            ],
            [
             0.5,
             "#f7f7f7"
            ],
            [
             0.6,
             "#e6f5d0"
            ],
            [
             0.7,
             "#b8e186"
            ],
            [
             0.8,
             "#7fbc41"
            ],
            [
             0.9,
             "#4d9221"
            ],
            [
             1,
             "#276419"
            ]
           ],
           "sequential": [
            [
             0,
             "#0d0887"
            ],
            [
             0.1111111111111111,
             "#46039f"
            ],
            [
             0.2222222222222222,
             "#7201a8"
            ],
            [
             0.3333333333333333,
             "#9c179e"
            ],
            [
             0.4444444444444444,
             "#bd3786"
            ],
            [
             0.5555555555555556,
             "#d8576b"
            ],
            [
             0.6666666666666666,
             "#ed7953"
            ],
            [
             0.7777777777777778,
             "#fb9f3a"
            ],
            [
             0.8888888888888888,
             "#fdca26"
            ],
            [
             1,
             "#f0f921"
            ]
           ],
           "sequentialminus": [
            [
             0,
             "#0d0887"
            ],
            [
             0.1111111111111111,
             "#46039f"
            ],
            [
             0.2222222222222222,
             "#7201a8"
            ],
            [
             0.3333333333333333,
             "#9c179e"
            ],
            [
             0.4444444444444444,
             "#bd3786"
            ],
            [
             0.5555555555555556,
             "#d8576b"
            ],
            [
             0.6666666666666666,
             "#ed7953"
            ],
            [
             0.7777777777777778,
             "#fb9f3a"
            ],
            [
             0.8888888888888888,
             "#fdca26"
            ],
            [
             1,
             "#f0f921"
            ]
           ]
          },
          "colorway": [
           "#636efa",
           "#EF553B",
           "#00cc96",
           "#ab63fa",
           "#FFA15A",
           "#19d3f3",
           "#FF6692",
           "#B6E880",
           "#FF97FF",
           "#FECB52"
          ],
          "font": {
           "color": "#2a3f5f"
          },
          "geo": {
           "bgcolor": "white",
           "lakecolor": "white",
           "landcolor": "#E5ECF6",
           "showlakes": true,
           "showland": true,
           "subunitcolor": "white"
          },
          "hoverlabel": {
           "align": "left"
          },
          "hovermode": "closest",
          "mapbox": {
           "style": "light"
          },
          "paper_bgcolor": "white",
          "plot_bgcolor": "#E5ECF6",
          "polar": {
           "angularaxis": {
            "gridcolor": "white",
            "linecolor": "white",
            "ticks": ""
           },
           "bgcolor": "#E5ECF6",
           "radialaxis": {
            "gridcolor": "white",
            "linecolor": "white",
            "ticks": ""
           }
          },
          "scene": {
           "xaxis": {
            "backgroundcolor": "#E5ECF6",
            "gridcolor": "white",
            "gridwidth": 2,
            "linecolor": "white",
            "showbackground": true,
            "ticks": "",
            "zerolinecolor": "white"
           },
           "yaxis": {
            "backgroundcolor": "#E5ECF6",
            "gridcolor": "white",
            "gridwidth": 2,
            "linecolor": "white",
            "showbackground": true,
            "ticks": "",
            "zerolinecolor": "white"
           },
           "zaxis": {
            "backgroundcolor": "#E5ECF6",
            "gridcolor": "white",
            "gridwidth": 2,
            "linecolor": "white",
            "showbackground": true,
            "ticks": "",
            "zerolinecolor": "white"
           }
          },
          "shapedefaults": {
           "line": {
            "color": "#2a3f5f"
           }
          },
          "ternary": {
           "aaxis": {
            "gridcolor": "white",
            "linecolor": "white",
            "ticks": ""
           },
           "baxis": {
            "gridcolor": "white",
            "linecolor": "white",
            "ticks": ""
           },
           "bgcolor": "#E5ECF6",
           "caxis": {
            "gridcolor": "white",
            "linecolor": "white",
            "ticks": ""
           }
          },
          "title": {
           "x": 0.05
          },
          "xaxis": {
           "automargin": true,
           "gridcolor": "white",
           "linecolor": "white",
           "ticks": "",
           "title": {
            "standoff": 15
           },
           "zerolinecolor": "white",
           "zerolinewidth": 2
          },
          "yaxis": {
           "automargin": true,
           "gridcolor": "white",
           "linecolor": "white",
           "ticks": "",
           "title": {
            "standoff": 15
           },
           "zerolinecolor": "white",
           "zerolinewidth": 2
          }
         }
        },
        "title": {
         "text": "Violin plot of the Unique Tokens for type of reports"
        },
        "yaxis": {
         "range": [
          0,
          5000
         ]
        }
       }
      }
     },
     "metadata": {}
    }
   ],
   "source": [
    "plot_violin(data_add_features, \"Length\")\n",
    "plot_violin(data_add_features, \"Unique Tokens\")"
   ]
  },
  {
   "cell_type": "code",
   "execution_count": 19,
   "metadata": {},
   "outputs": [],
   "source": [
    "# function to tag the part of speech using the pre trained model from Spacy\n",
    "\n",
    "def part_Speech_tagging(data_in):\n",
    "    nlp = spacy.load(\"en_core_web_sm\")\n",
    "    doc = nlp(data_in)\n",
    "\n",
    "    columns_tok = [\"token_text\", \"token_lemma\", \"token_pos\", \"token_dep\"]\n",
    "    df_tok = pd.DataFrame(columns=columns_tok)\n",
    "    text = []\n",
    "    lemma = []\n",
    "    pos = []\n",
    "    dep =[]\n",
    "    for token in doc:\n",
    "        text.append(token.text)\n",
    "        lemma.append(token.lemma_)\n",
    "        pos.append(token.pos_)\n",
    "        dep.append(token.dep_)\n",
    "\n",
    "    df_tok[\"token_text\"] = text\n",
    "    df_tok[\"token_lemma\"] = lemma\n",
    "    df_tok[\"token_pos\"] = pos\n",
    "    df_tok[\"token_dep\"] = dep\n",
    "\n",
    "    return df_tok\n"
   ]
  },
  {
   "cell_type": "code",
   "execution_count": 20,
   "metadata": {},
   "outputs": [
    {
     "output_type": "execute_result",
     "data": {
      "text/plain": [
       "                                                   URL              Class  \\\n",
       "0    https://issafrica.org/iss-today/time-to-tackle...  Analytical Report   \n",
       "1    http://www.understandingwar.org/backgrounder/r...  Analytical Report   \n",
       "2    http://www.understandingwar.org/backgrounder/r...  Analytical Report   \n",
       "3    http://www.understandingwar.org/backgrounder/w...  Analytical Report   \n",
       "4    http://www.understandingwar.org/backgrounder/r...  Analytical Report   \n",
       "..                                                 ...                ...   \n",
       "350                                 int-rep-o-18-e.txt   Situation Report   \n",
       "351                                 int-rep-o-18-f.txt   Situation Report   \n",
       "352                                 int-rep-o-18-g.txt   Situation Report   \n",
       "353                                 int-rep-o-18-h.txt   Situation Report   \n",
       "354  Summary of Russian press for Wednesday 29 July...   Situation Report   \n",
       "\n",
       "                                               Content  \\\n",
       "0      2020-11-25 On 26 September, hundreds of Mali...   \n",
       "1      By George Barros November 16, 2020 The Kreml...   \n",
       "2      By Ezgi Yazici November 13, 2020 Key Takeawa...   \n",
       "3      By Katherine Lawlor with Brandon Wallace Key...   \n",
       "4      By Isabel Ivanescu and Ezgi Yazici Key Takea...   \n",
       "..                                                 ...   \n",
       "350  Deputies are investigating after an explosive ...   \n",
       "351  Residents at a Springfield apartment complex w...   \n",
       "352  Several handheld explosive devices were found ...   \n",
       "353  Boulder police taped off the U.S. Bank at Broa...   \n",
       "354  By BBC Monitoring  Khabarovsk protests  Newspa...   \n",
       "\n",
       "                                             Tokenized  \\\n",
       "0    [<Number>, <Number>, <Number>, on, <Number>, s...   \n",
       "1    [by, george, barros, november, <Number>, <Numb...   \n",
       "2    [by, ezgi, yazici, november, <Number>, <Number...   \n",
       "3    [by, katherine, lawlor, with, brandon, wallace...   \n",
       "4    [by, isabel, ivanescu, and, ezgi, yazici, key,...   \n",
       "..                                                 ...   \n",
       "350  [deputies, are, investigating, after, an, expl...   \n",
       "351  [residents, at, a, springfield, apartment, com...   \n",
       "352  [several, handheld, explosive, devices, were, ...   \n",
       "353  [boulder, police, taped, off, the, u, s, bank,...   \n",
       "354  [by, bbc, monitoring, khabarovsk, protests, ne...   \n",
       "\n",
       "                                          Tokens Count  Class Type  Length  \\\n",
       "0    [(the, 127), (and, 83), (women, 82), (to, 70),...           0    2313   \n",
       "1    [(the, 67), (<Number>, 50), (to, 44), (csto, 3...           0    1393   \n",
       "2    [(the, 41), (in, 25), (to, 24), (s, 22), (and,...           0     824   \n",
       "3    [(s, 131), (the, 121), (to, 120), (<Number>, 1...           0    3528   \n",
       "4    [(in, 42), (the, 37), (and, 34), (a, 23), (to,...           0     878   \n",
       "..                                                 ...         ...     ...   \n",
       "350  [(the, 52), (a, 43), (was, 35), (to, 25), (dev...           3     784   \n",
       "351  [(the, 64), (a, 47), (was, 27), (in, 22), (bom...           3     791   \n",
       "352  [(the, 82), (a, 67), (bomb, 30), (to, 27), (wa...           3     941   \n",
       "353  [(the, 83), (a, 77), (was, 42), (to, 36), (bom...           3    1355   \n",
       "354  [(the, 103), (<Number>, 49), (of, 48), (that, ...           3    1797   \n",
       "\n",
       "     Unique Tokens                                  Tokens Percentage  \\\n",
       "0              521  [(the, 5.490704712494596), (and, 3.58841331603...   \n",
       "1              533  [(the, 4.809763101220388), (<Number>, 3.589375...   \n",
       "2              366  [(the, 4.975728155339806), (in, 3.033980582524...   \n",
       "3              985  [(s, 3.7131519274376417), (the, 3.429705215419...   \n",
       "4              390  [(in, 4.783599088838269), (the, 4.214123006833...   \n",
       "..             ...                                                ...   \n",
       "350            313  [(the, 6.63265306122449), (a, 5.48469387755102...   \n",
       "351            331  [(the, 8.09102402022756), (a, 5.94184576485461...   \n",
       "352            367  [(the, 8.71413390010627), (a, 7.12008501594048...   \n",
       "353            488  [(the, 6.125461254612546), (a, 5.6826568265682...   \n",
       "354            811  [(the, 5.7317751808569835), (<Number>, 2.72676...   \n",
       "\n",
       "     Root_verb  Root_noun  Root_aux  Root_propn        Adj       Adv  \\\n",
       "0     4.020752   0.172936  0.907912    0.172936  10.722006  3.112840   \n",
       "1     2.153625   0.789663  0.143575    0.287150   7.753051  2.153625   \n",
       "2     2.669903   0.364078  0.606796    0.364078  10.800971  3.276699   \n",
       "3     2.097506   0.255102  0.793651    0.623583   9.325397  3.032880   \n",
       "4     2.847380   0.227790  0.683371    0.113895   9.794989  2.847380   \n",
       "..         ...        ...       ...         ...        ...       ...   \n",
       "350   4.846939   0.382653  0.510204    0.000000   5.484694  1.913265   \n",
       "351   5.689001   0.000000  0.505689    0.000000   5.941846  1.011378   \n",
       "352   5.951116   0.212540  0.425080    0.000000   5.738576  1.062699   \n",
       "353   5.461255   0.000000  0.442804    0.000000   5.018450  2.583026   \n",
       "354   2.615470   0.779076  0.222593    2.003339   7.846411  2.003339   \n",
       "\n",
       "          Noun       Num      Pron      Propn       Verb  \n",
       "0    27.842629  2.204929  1.080847   6.009511  13.186338  \n",
       "1    20.459440  3.445800  0.430725  18.808327  10.050251  \n",
       "2    18.689320  1.699029  1.092233  16.626214  10.679612  \n",
       "3    15.731293  3.713152  0.963719  18.764172   8.928571  \n",
       "4    17.539863  2.050114  0.113895  15.034169  11.389522  \n",
       "..         ...       ...       ...        ...        ...  \n",
       "350  23.341837  1.020408  2.806122  11.096939  13.520408  \n",
       "351  26.295828  0.379267  2.022756   8.975980  13.653603  \n",
       "352  26.248672  0.318810  1.275239  11.902232  12.964931  \n",
       "353  23.690037  0.738007  3.025830  11.734317  14.169742  \n",
       "354  21.869783  2.726767  1.780746  19.476906  11.296605  \n",
       "\n",
       "[355 rows x 20 columns]"
      ],
      "text/html": "<div>\n<style scoped>\n    .dataframe tbody tr th:only-of-type {\n        vertical-align: middle;\n    }\n\n    .dataframe tbody tr th {\n        vertical-align: top;\n    }\n\n    .dataframe thead th {\n        text-align: right;\n    }\n</style>\n<table border=\"1\" class=\"dataframe\">\n  <thead>\n    <tr style=\"text-align: right;\">\n      <th></th>\n      <th>URL</th>\n      <th>Class</th>\n      <th>Content</th>\n      <th>Tokenized</th>\n      <th>Tokens Count</th>\n      <th>Class Type</th>\n      <th>Length</th>\n      <th>Unique Tokens</th>\n      <th>Tokens Percentage</th>\n      <th>Root_verb</th>\n      <th>Root_noun</th>\n      <th>Root_aux</th>\n      <th>Root_propn</th>\n      <th>Adj</th>\n      <th>Adv</th>\n      <th>Noun</th>\n      <th>Num</th>\n      <th>Pron</th>\n      <th>Propn</th>\n      <th>Verb</th>\n    </tr>\n  </thead>\n  <tbody>\n    <tr>\n      <th>0</th>\n      <td>https://issafrica.org/iss-today/time-to-tackle...</td>\n      <td>Analytical Report</td>\n      <td>2020-11-25 On 26 September, hundreds of Mali...</td>\n      <td>[&lt;Number&gt;, &lt;Number&gt;, &lt;Number&gt;, on, &lt;Number&gt;, s...</td>\n      <td>[(the, 127), (and, 83), (women, 82), (to, 70),...</td>\n      <td>0</td>\n      <td>2313</td>\n      <td>521</td>\n      <td>[(the, 5.490704712494596), (and, 3.58841331603...</td>\n      <td>4.020752</td>\n      <td>0.172936</td>\n      <td>0.907912</td>\n      <td>0.172936</td>\n      <td>10.722006</td>\n      <td>3.112840</td>\n      <td>27.842629</td>\n      <td>2.204929</td>\n      <td>1.080847</td>\n      <td>6.009511</td>\n      <td>13.186338</td>\n    </tr>\n    <tr>\n      <th>1</th>\n      <td>http://www.understandingwar.org/backgrounder/r...</td>\n      <td>Analytical Report</td>\n      <td>By George Barros November 16, 2020 The Kreml...</td>\n      <td>[by, george, barros, november, &lt;Number&gt;, &lt;Numb...</td>\n      <td>[(the, 67), (&lt;Number&gt;, 50), (to, 44), (csto, 3...</td>\n      <td>0</td>\n      <td>1393</td>\n      <td>533</td>\n      <td>[(the, 4.809763101220388), (&lt;Number&gt;, 3.589375...</td>\n      <td>2.153625</td>\n      <td>0.789663</td>\n      <td>0.143575</td>\n      <td>0.287150</td>\n      <td>7.753051</td>\n      <td>2.153625</td>\n      <td>20.459440</td>\n      <td>3.445800</td>\n      <td>0.430725</td>\n      <td>18.808327</td>\n      <td>10.050251</td>\n    </tr>\n    <tr>\n      <th>2</th>\n      <td>http://www.understandingwar.org/backgrounder/r...</td>\n      <td>Analytical Report</td>\n      <td>By Ezgi Yazici November 13, 2020 Key Takeawa...</td>\n      <td>[by, ezgi, yazici, november, &lt;Number&gt;, &lt;Number...</td>\n      <td>[(the, 41), (in, 25), (to, 24), (s, 22), (and,...</td>\n      <td>0</td>\n      <td>824</td>\n      <td>366</td>\n      <td>[(the, 4.975728155339806), (in, 3.033980582524...</td>\n      <td>2.669903</td>\n      <td>0.364078</td>\n      <td>0.606796</td>\n      <td>0.364078</td>\n      <td>10.800971</td>\n      <td>3.276699</td>\n      <td>18.689320</td>\n      <td>1.699029</td>\n      <td>1.092233</td>\n      <td>16.626214</td>\n      <td>10.679612</td>\n    </tr>\n    <tr>\n      <th>3</th>\n      <td>http://www.understandingwar.org/backgrounder/w...</td>\n      <td>Analytical Report</td>\n      <td>By Katherine Lawlor with Brandon Wallace Key...</td>\n      <td>[by, katherine, lawlor, with, brandon, wallace...</td>\n      <td>[(s, 131), (the, 121), (to, 120), (&lt;Number&gt;, 1...</td>\n      <td>0</td>\n      <td>3528</td>\n      <td>985</td>\n      <td>[(s, 3.7131519274376417), (the, 3.429705215419...</td>\n      <td>2.097506</td>\n      <td>0.255102</td>\n      <td>0.793651</td>\n      <td>0.623583</td>\n      <td>9.325397</td>\n      <td>3.032880</td>\n      <td>15.731293</td>\n      <td>3.713152</td>\n      <td>0.963719</td>\n      <td>18.764172</td>\n      <td>8.928571</td>\n    </tr>\n    <tr>\n      <th>4</th>\n      <td>http://www.understandingwar.org/backgrounder/r...</td>\n      <td>Analytical Report</td>\n      <td>By Isabel Ivanescu and Ezgi Yazici Key Takea...</td>\n      <td>[by, isabel, ivanescu, and, ezgi, yazici, key,...</td>\n      <td>[(in, 42), (the, 37), (and, 34), (a, 23), (to,...</td>\n      <td>0</td>\n      <td>878</td>\n      <td>390</td>\n      <td>[(in, 4.783599088838269), (the, 4.214123006833...</td>\n      <td>2.847380</td>\n      <td>0.227790</td>\n      <td>0.683371</td>\n      <td>0.113895</td>\n      <td>9.794989</td>\n      <td>2.847380</td>\n      <td>17.539863</td>\n      <td>2.050114</td>\n      <td>0.113895</td>\n      <td>15.034169</td>\n      <td>11.389522</td>\n    </tr>\n    <tr>\n      <th>...</th>\n      <td>...</td>\n      <td>...</td>\n      <td>...</td>\n      <td>...</td>\n      <td>...</td>\n      <td>...</td>\n      <td>...</td>\n      <td>...</td>\n      <td>...</td>\n      <td>...</td>\n      <td>...</td>\n      <td>...</td>\n      <td>...</td>\n      <td>...</td>\n      <td>...</td>\n      <td>...</td>\n      <td>...</td>\n      <td>...</td>\n      <td>...</td>\n      <td>...</td>\n    </tr>\n    <tr>\n      <th>350</th>\n      <td>int-rep-o-18-e.txt</td>\n      <td>Situation Report</td>\n      <td>Deputies are investigating after an explosive ...</td>\n      <td>[deputies, are, investigating, after, an, expl...</td>\n      <td>[(the, 52), (a, 43), (was, 35), (to, 25), (dev...</td>\n      <td>3</td>\n      <td>784</td>\n      <td>313</td>\n      <td>[(the, 6.63265306122449), (a, 5.48469387755102...</td>\n      <td>4.846939</td>\n      <td>0.382653</td>\n      <td>0.510204</td>\n      <td>0.000000</td>\n      <td>5.484694</td>\n      <td>1.913265</td>\n      <td>23.341837</td>\n      <td>1.020408</td>\n      <td>2.806122</td>\n      <td>11.096939</td>\n      <td>13.520408</td>\n    </tr>\n    <tr>\n      <th>351</th>\n      <td>int-rep-o-18-f.txt</td>\n      <td>Situation Report</td>\n      <td>Residents at a Springfield apartment complex w...</td>\n      <td>[residents, at, a, springfield, apartment, com...</td>\n      <td>[(the, 64), (a, 47), (was, 27), (in, 22), (bom...</td>\n      <td>3</td>\n      <td>791</td>\n      <td>331</td>\n      <td>[(the, 8.09102402022756), (a, 5.94184576485461...</td>\n      <td>5.689001</td>\n      <td>0.000000</td>\n      <td>0.505689</td>\n      <td>0.000000</td>\n      <td>5.941846</td>\n      <td>1.011378</td>\n      <td>26.295828</td>\n      <td>0.379267</td>\n      <td>2.022756</td>\n      <td>8.975980</td>\n      <td>13.653603</td>\n    </tr>\n    <tr>\n      <th>352</th>\n      <td>int-rep-o-18-g.txt</td>\n      <td>Situation Report</td>\n      <td>Several handheld explosive devices were found ...</td>\n      <td>[several, handheld, explosive, devices, were, ...</td>\n      <td>[(the, 82), (a, 67), (bomb, 30), (to, 27), (wa...</td>\n      <td>3</td>\n      <td>941</td>\n      <td>367</td>\n      <td>[(the, 8.71413390010627), (a, 7.12008501594048...</td>\n      <td>5.951116</td>\n      <td>0.212540</td>\n      <td>0.425080</td>\n      <td>0.000000</td>\n      <td>5.738576</td>\n      <td>1.062699</td>\n      <td>26.248672</td>\n      <td>0.318810</td>\n      <td>1.275239</td>\n      <td>11.902232</td>\n      <td>12.964931</td>\n    </tr>\n    <tr>\n      <th>353</th>\n      <td>int-rep-o-18-h.txt</td>\n      <td>Situation Report</td>\n      <td>Boulder police taped off the U.S. Bank at Broa...</td>\n      <td>[boulder, police, taped, off, the, u, s, bank,...</td>\n      <td>[(the, 83), (a, 77), (was, 42), (to, 36), (bom...</td>\n      <td>3</td>\n      <td>1355</td>\n      <td>488</td>\n      <td>[(the, 6.125461254612546), (a, 5.6826568265682...</td>\n      <td>5.461255</td>\n      <td>0.000000</td>\n      <td>0.442804</td>\n      <td>0.000000</td>\n      <td>5.018450</td>\n      <td>2.583026</td>\n      <td>23.690037</td>\n      <td>0.738007</td>\n      <td>3.025830</td>\n      <td>11.734317</td>\n      <td>14.169742</td>\n    </tr>\n    <tr>\n      <th>354</th>\n      <td>Summary of Russian press for Wednesday 29 July...</td>\n      <td>Situation Report</td>\n      <td>By BBC Monitoring  Khabarovsk protests  Newspa...</td>\n      <td>[by, bbc, monitoring, khabarovsk, protests, ne...</td>\n      <td>[(the, 103), (&lt;Number&gt;, 49), (of, 48), (that, ...</td>\n      <td>3</td>\n      <td>1797</td>\n      <td>811</td>\n      <td>[(the, 5.7317751808569835), (&lt;Number&gt;, 2.72676...</td>\n      <td>2.615470</td>\n      <td>0.779076</td>\n      <td>0.222593</td>\n      <td>2.003339</td>\n      <td>7.846411</td>\n      <td>2.003339</td>\n      <td>21.869783</td>\n      <td>2.726767</td>\n      <td>1.780746</td>\n      <td>19.476906</td>\n      <td>11.296605</td>\n    </tr>\n  </tbody>\n</table>\n<p>355 rows × 20 columns</p>\n</div>"
     },
     "metadata": {},
     "execution_count": 20
    }
   ],
   "source": [
    "# Function to add feature based on the part to speech tagging\n",
    "\n",
    "def feature_add_speech(data):\n",
    "    # counting the root of a phrase by different type might give me better some understanding of different type of the documentes\n",
    "    root_verb = []\n",
    "    root_noun = []\n",
    "    root_propn = []\n",
    "    root_aux = []\n",
    "    # also the counting the type of tags used in the phrases of the document can give some insights of the type of document\n",
    "    adj = []\n",
    "    adv =[]\n",
    "    noun = []\n",
    "    num = []\n",
    "    pron = []\n",
    "    propn = []\n",
    "    verb = []\n",
    "    \n",
    "    for i in range(data.shape[0]):\n",
    "        #print(i)\n",
    "        length = data['Length'][i]\n",
    "        df_tagged = part_Speech_tagging(data['Content'][i])\n",
    "\n",
    "        a = df_tagged[df_tagged[\"token_dep\"] == 'ROOT']\n",
    "        if 'VERB' in a['token_pos'].value_counts():\n",
    "            root_verb.append(a['token_pos'].value_counts()['VERB'] * 100 / length)\n",
    "        else:\n",
    "            root_verb.append(0)\n",
    "        \n",
    "        if 'NOUN' in a['token_pos'].value_counts():\n",
    "            root_noun.append(a['token_pos'].value_counts()['NOUN'] * 100 / length)\n",
    "        else:\n",
    "            root_noun.append(0)\n",
    "\n",
    "        if 'AUX' in a['token_pos'].value_counts():\n",
    "            root_aux.append(a['token_pos'].value_counts()['AUX'] * 100 / length)\n",
    "        else:\n",
    "            root_aux.append(0)\n",
    "\n",
    "        if 'PROPN' in a['token_pos'].value_counts():\n",
    "            root_propn.append(a['token_pos'].value_counts()['PROPN'] * 100 / length)\n",
    "        else:\n",
    "            root_propn.append(0)\n",
    "        \n",
    "\n",
    "        b = df_tagged['token_pos'].value_counts()\n",
    "\n",
    "        if 'ADJ' in b:\n",
    "            adj.append(b['ADJ'] * 100 / length)\n",
    "        else:\n",
    "            adj.append(0)\n",
    "        \n",
    "        if 'ADV' in b:\n",
    "            adv.append(b['ADV'] * 100 / length)\n",
    "        else:\n",
    "            adv.append(0)\n",
    "\n",
    "        if 'NOUN' in b:\n",
    "            noun.append(b['NOUN'] * 100 / length)\n",
    "        else:\n",
    "            noun.append(0)\n",
    "\n",
    "        if 'NUM' in b:\n",
    "            num.append(b['NUM'] * 100 / length)\n",
    "        else:\n",
    "            num.append(0)\n",
    "\n",
    "        if 'PRON' in b:\n",
    "            pron.append(b['PRON'] * 100 / length)\n",
    "        else:\n",
    "            pron.append(0)\n",
    "\n",
    "        if 'PROPN' in b:\n",
    "            propn.append(b['PROPN'] * 100 / length)\n",
    "        else:\n",
    "            propn.append(0)\n",
    "\n",
    "        if 'VERB' in b:\n",
    "            verb.append(b['VERB'] * 100 / length)\n",
    "        else:\n",
    "            verb.append(0)\n",
    "        \n",
    "\n",
    "    \n",
    "    data['Root_verb'] = root_verb\n",
    "    data['Root_noun'] = root_noun\n",
    "    data['Root_aux'] = root_aux\n",
    "    data['Root_propn'] = root_propn\n",
    "\n",
    "    data['Adj'] = adj\n",
    "    data['Adv'] = adv\n",
    "    data['Noun'] = noun\n",
    "    data['Num'] = num\n",
    "    data['Pron'] = pron\n",
    "    data['Propn'] = propn\n",
    "    data['Verb'] = verb\n",
    "\n",
    "    return data\n",
    "\n",
    "\n",
    "\n",
    "data_add_speech_tag = feature_add_speech(data_add_features)\n",
    "data_add_speech_tag"
   ]
  },
  {
   "cell_type": "code",
   "execution_count": 112,
   "metadata": {},
   "outputs": [],
   "source": [
    "# Function to remove the stopwords and symbols from the\n",
    "def remove_stopwords(corpus):\n",
    "    stopword = stopwords.words('english')\n",
    "    symbols = \"!\\\"#$%&()'*+-–./:;<=>?@[\\]^_`{|}~\\n\"\n",
    "    copy_corpus = []\n",
    "    for token in corpus:\n",
    "        if token in stopword:\n",
    "             copy_corpus.append(\"\")\n",
    "        elif token in symbols:\n",
    "             copy_corpus.append(\"\")\n",
    "        else:\n",
    "            copy_corpus.append(token)\n",
    "    return copy_corpus\n",
    "\n",
    "# function to get right tag for the lemmatizzation \n",
    "def get_wordnet_pos(word):\n",
    "    \"\"\"Map POS tag to first character lemmatize() accepts\"\"\"\n",
    "    tag = nltk.pos_tag([word])[0][1][0].upper()\n",
    "    tag_dict = {\"J\": wordnet.ADJ,\n",
    "                \"N\": wordnet.NOUN,\n",
    "                \"V\": wordnet.VERB,\n",
    "                \"R\": wordnet.ADV}\n",
    "\n",
    "    return tag_dict.get(tag, wordnet.NOUN)\n",
    "\n",
    "# Function to lemmatize the articles\n",
    "def lemmatizzation(corpus):\n",
    "    lemmatizer = WordNetLemmatizer()\n",
    "    \n",
    "    lemmatized_list = []\n",
    "\n",
    "    for token in corpus:\n",
    "        lemmatized = lemmatizer.lemmatize(token, get_wordnet_pos(token))\n",
    "\n",
    "        lemmatized_list.append(lemmatized)\n",
    "\n",
    "    return lemmatized_list\n",
    "\n",
    "# pre processing before the feature extraction with TF-IDF \n",
    "def pre_extraction_TFIDF(in_data):\n",
    "    out = []\n",
    "    for i in range(in_data.shape[0]):\n",
    "        corpus = in_data['Content'][i]\n",
    "        # The backslash is an escape character to let the interpreter know we mean to use it as a string literal (- or ') \n",
    "        re_punctuation_string = '[\\s,/.?\\-\\'`’]'  # split on spaces (\\s),  commas (,), slash (/), fullstop (.), question marks (?), hyphens (-), and apostrophe (').\n",
    "        tokenized = re.split(re_punctuation_string, corpus) # in python's regex, [...] is an alternative to writing .|.|.\n",
    "        tokenized = [token.lower() for token in tokenized] # Lowercasing everything\n",
    "        tokenized = remove_stopwords(tokenized) # remove all the stop words and the symbols \n",
    "        tokenized = list(filter(None, tokenized)) # remove empty strings from list \n",
    "\n",
    "        tokenized = ['<Number>' if token.isdigit() else token for token in tokenized ]  # converting all the numbers to <Number>\n",
    "\n",
    "        lemmatized = lemmatizzation(tokenized)\n",
    "\n",
    "        out.append(lemmatized)\n",
    "    \n",
    "    in_data['Pre TFIDF'] = out\n",
    "\n",
    "    return in_data"
   ]
  },
  {
   "cell_type": "code",
   "execution_count": 113,
   "metadata": {},
   "outputs": [],
   "source": [
    "# feature extraction with TF-IDF\n",
    "\n",
    "def feature_extraction_TFIDF(in_data):\n",
    "\n",
    "    out_data = pre_extraction_TFIDF(in_data)\n",
    "    vectorizer = TfidfVectorizer(min_df=0.01)\n",
    "    out_data['Pre TFIDF'] = [\" \".join(doc) for doc in out_data['Pre TFIDF'].values]\n",
    "    vectors = vectorizer.fit_transform(out_data['Pre TFIDF'])\n",
    "\n",
    "    feature_names = vectorizer.get_feature_names()\n",
    "    dense = vectors.todense()\n",
    "    denselist = dense.tolist()\n",
    "\n",
    "    df = pd.DataFrame(denselist, columns=feature_names)\n",
    "\n",
    "    return df"
   ]
  },
  {
   "cell_type": "code",
   "execution_count": 121,
   "metadata": {},
   "outputs": [],
   "source": [
    "# function to extract all the features from the dataset\n",
    "def data_features(df_in):\n",
    "    features_TFIDF = feature_extraction_TFIDF(df_in)\n",
    "    print(features_TFIDF.shape)\n",
    "\n",
    "    feature_columns = [ 'Class Type','Length', 'Unique Tokens',  'Root_verb',\n",
    "       'Root_noun', 'Root_aux', 'Root_propn', 'Adj', 'Adv', 'Noun', 'Num',\n",
    "       'Pron', 'Propn', 'Verb']\n",
    "    \n",
    "    original_features = df_in[feature_columns]\n",
    "    #print(original_features.shape)\n",
    "\n",
    "    feature_df = pd.concat([original_features, features_TFIDF], axis=1)\n",
    "    #print(feature_df.shape)\n",
    "\n",
    "    return feature_df\n"
   ]
  },
  {
   "cell_type": "code",
   "execution_count": 122,
   "metadata": {},
   "outputs": [
    {
     "output_type": "stream",
     "name": "stdout",
     "text": [
      "(355, 5310)\n(355, 14)\n(355, 5324)\n"
     ]
    },
    {
     "output_type": "execute_result",
     "data": {
      "text/plain": [
       "     Class Type  Length  Unique Tokens  Root_verb  Root_noun  Root_aux  \\\n",
       "0             0    2313            521   4.020752   0.172936  0.907912   \n",
       "1             0    1393            533   2.153625   0.789663  0.143575   \n",
       "2             0     824            366   2.669903   0.364078  0.606796   \n",
       "3             0    3528            985   2.097506   0.255102  0.793651   \n",
       "4             0     878            390   2.847380   0.227790  0.683371   \n",
       "..          ...     ...            ...        ...        ...       ...   \n",
       "350           3     784            313   4.846939   0.382653  0.510204   \n",
       "351           3     791            331   5.689001   0.000000  0.505689   \n",
       "352           3     941            367   5.951116   0.212540  0.425080   \n",
       "353           3    1355            488   5.461255   0.000000  0.442804   \n",
       "354           3    1797            811   2.615470   0.779076  0.222593   \n",
       "\n",
       "     Root_propn        Adj       Adv       Noun  ...  youth   youtube  \\\n",
       "0      0.172936  10.722006  3.112840  27.842629  ...    0.0  0.000000   \n",
       "1      0.287150   7.753051  2.153625  20.459440  ...    0.0  0.018055   \n",
       "2      0.364078  10.800971  3.276699  18.689320  ...    0.0  0.000000   \n",
       "3      0.623583   9.325397  3.032880  15.731293  ...    0.0  0.000000   \n",
       "4      0.113895   9.794989  2.847380  17.539863  ...    0.0  0.000000   \n",
       "..          ...        ...       ...        ...  ...    ...       ...   \n",
       "350    0.000000   5.484694  1.913265  23.341837  ...    0.0  0.000000   \n",
       "351    0.000000   5.941846  1.011378  26.295828  ...    0.0  0.000000   \n",
       "352    0.000000   5.738576  1.062699  26.248672  ...    0.0  0.000000   \n",
       "353    0.000000   5.018450  2.583026  23.690037  ...    0.0  0.000000   \n",
       "354    2.003339   7.846411  2.003339  21.869783  ...    0.0  0.046904   \n",
       "\n",
       "     zachary  zakir  zawahiri  zealand  zero  zionist      zone  zubair  \n",
       "0        0.0    0.0       0.0      0.0   0.0      0.0  0.000000     0.0  \n",
       "1        0.0    0.0       0.0      0.0   0.0      0.0  0.000000     0.0  \n",
       "2        0.0    0.0       0.0      0.0   0.0      0.0  0.016871     0.0  \n",
       "3        0.0    0.0       0.0      0.0   0.0      0.0  0.000000     0.0  \n",
       "4        0.0    0.0       0.0      0.0   0.0      0.0  0.000000     0.0  \n",
       "..       ...    ...       ...      ...   ...      ...       ...     ...  \n",
       "350      0.0    0.0       0.0      0.0   0.0      0.0  0.000000     0.0  \n",
       "351      0.0    0.0       0.0      0.0   0.0      0.0  0.000000     0.0  \n",
       "352      0.0    0.0       0.0      0.0   0.0      0.0  0.000000     0.0  \n",
       "353      0.0    0.0       0.0      0.0   0.0      0.0  0.000000     0.0  \n",
       "354      0.0    0.0       0.0      0.0   0.0      0.0  0.000000     0.0  \n",
       "\n",
       "[355 rows x 5324 columns]"
      ],
      "text/html": "<div>\n<style scoped>\n    .dataframe tbody tr th:only-of-type {\n        vertical-align: middle;\n    }\n\n    .dataframe tbody tr th {\n        vertical-align: top;\n    }\n\n    .dataframe thead th {\n        text-align: right;\n    }\n</style>\n<table border=\"1\" class=\"dataframe\">\n  <thead>\n    <tr style=\"text-align: right;\">\n      <th></th>\n      <th>Class Type</th>\n      <th>Length</th>\n      <th>Unique Tokens</th>\n      <th>Root_verb</th>\n      <th>Root_noun</th>\n      <th>Root_aux</th>\n      <th>Root_propn</th>\n      <th>Adj</th>\n      <th>Adv</th>\n      <th>Noun</th>\n      <th>...</th>\n      <th>youth</th>\n      <th>youtube</th>\n      <th>zachary</th>\n      <th>zakir</th>\n      <th>zawahiri</th>\n      <th>zealand</th>\n      <th>zero</th>\n      <th>zionist</th>\n      <th>zone</th>\n      <th>zubair</th>\n    </tr>\n  </thead>\n  <tbody>\n    <tr>\n      <th>0</th>\n      <td>0</td>\n      <td>2313</td>\n      <td>521</td>\n      <td>4.020752</td>\n      <td>0.172936</td>\n      <td>0.907912</td>\n      <td>0.172936</td>\n      <td>10.722006</td>\n      <td>3.112840</td>\n      <td>27.842629</td>\n      <td>...</td>\n      <td>0.0</td>\n      <td>0.000000</td>\n      <td>0.0</td>\n      <td>0.0</td>\n      <td>0.0</td>\n      <td>0.0</td>\n      <td>0.0</td>\n      <td>0.0</td>\n      <td>0.000000</td>\n      <td>0.0</td>\n    </tr>\n    <tr>\n      <th>1</th>\n      <td>0</td>\n      <td>1393</td>\n      <td>533</td>\n      <td>2.153625</td>\n      <td>0.789663</td>\n      <td>0.143575</td>\n      <td>0.287150</td>\n      <td>7.753051</td>\n      <td>2.153625</td>\n      <td>20.459440</td>\n      <td>...</td>\n      <td>0.0</td>\n      <td>0.018055</td>\n      <td>0.0</td>\n      <td>0.0</td>\n      <td>0.0</td>\n      <td>0.0</td>\n      <td>0.0</td>\n      <td>0.0</td>\n      <td>0.000000</td>\n      <td>0.0</td>\n    </tr>\n    <tr>\n      <th>2</th>\n      <td>0</td>\n      <td>824</td>\n      <td>366</td>\n      <td>2.669903</td>\n      <td>0.364078</td>\n      <td>0.606796</td>\n      <td>0.364078</td>\n      <td>10.800971</td>\n      <td>3.276699</td>\n      <td>18.689320</td>\n      <td>...</td>\n      <td>0.0</td>\n      <td>0.000000</td>\n      <td>0.0</td>\n      <td>0.0</td>\n      <td>0.0</td>\n      <td>0.0</td>\n      <td>0.0</td>\n      <td>0.0</td>\n      <td>0.016871</td>\n      <td>0.0</td>\n    </tr>\n    <tr>\n      <th>3</th>\n      <td>0</td>\n      <td>3528</td>\n      <td>985</td>\n      <td>2.097506</td>\n      <td>0.255102</td>\n      <td>0.793651</td>\n      <td>0.623583</td>\n      <td>9.325397</td>\n      <td>3.032880</td>\n      <td>15.731293</td>\n      <td>...</td>\n      <td>0.0</td>\n      <td>0.000000</td>\n      <td>0.0</td>\n      <td>0.0</td>\n      <td>0.0</td>\n      <td>0.0</td>\n      <td>0.0</td>\n      <td>0.0</td>\n      <td>0.000000</td>\n      <td>0.0</td>\n    </tr>\n    <tr>\n      <th>4</th>\n      <td>0</td>\n      <td>878</td>\n      <td>390</td>\n      <td>2.847380</td>\n      <td>0.227790</td>\n      <td>0.683371</td>\n      <td>0.113895</td>\n      <td>9.794989</td>\n      <td>2.847380</td>\n      <td>17.539863</td>\n      <td>...</td>\n      <td>0.0</td>\n      <td>0.000000</td>\n      <td>0.0</td>\n      <td>0.0</td>\n      <td>0.0</td>\n      <td>0.0</td>\n      <td>0.0</td>\n      <td>0.0</td>\n      <td>0.000000</td>\n      <td>0.0</td>\n    </tr>\n    <tr>\n      <th>...</th>\n      <td>...</td>\n      <td>...</td>\n      <td>...</td>\n      <td>...</td>\n      <td>...</td>\n      <td>...</td>\n      <td>...</td>\n      <td>...</td>\n      <td>...</td>\n      <td>...</td>\n      <td>...</td>\n      <td>...</td>\n      <td>...</td>\n      <td>...</td>\n      <td>...</td>\n      <td>...</td>\n      <td>...</td>\n      <td>...</td>\n      <td>...</td>\n      <td>...</td>\n      <td>...</td>\n    </tr>\n    <tr>\n      <th>350</th>\n      <td>3</td>\n      <td>784</td>\n      <td>313</td>\n      <td>4.846939</td>\n      <td>0.382653</td>\n      <td>0.510204</td>\n      <td>0.000000</td>\n      <td>5.484694</td>\n      <td>1.913265</td>\n      <td>23.341837</td>\n      <td>...</td>\n      <td>0.0</td>\n      <td>0.000000</td>\n      <td>0.0</td>\n      <td>0.0</td>\n      <td>0.0</td>\n      <td>0.0</td>\n      <td>0.0</td>\n      <td>0.0</td>\n      <td>0.000000</td>\n      <td>0.0</td>\n    </tr>\n    <tr>\n      <th>351</th>\n      <td>3</td>\n      <td>791</td>\n      <td>331</td>\n      <td>5.689001</td>\n      <td>0.000000</td>\n      <td>0.505689</td>\n      <td>0.000000</td>\n      <td>5.941846</td>\n      <td>1.011378</td>\n      <td>26.295828</td>\n      <td>...</td>\n      <td>0.0</td>\n      <td>0.000000</td>\n      <td>0.0</td>\n      <td>0.0</td>\n      <td>0.0</td>\n      <td>0.0</td>\n      <td>0.0</td>\n      <td>0.0</td>\n      <td>0.000000</td>\n      <td>0.0</td>\n    </tr>\n    <tr>\n      <th>352</th>\n      <td>3</td>\n      <td>941</td>\n      <td>367</td>\n      <td>5.951116</td>\n      <td>0.212540</td>\n      <td>0.425080</td>\n      <td>0.000000</td>\n      <td>5.738576</td>\n      <td>1.062699</td>\n      <td>26.248672</td>\n      <td>...</td>\n      <td>0.0</td>\n      <td>0.000000</td>\n      <td>0.0</td>\n      <td>0.0</td>\n      <td>0.0</td>\n      <td>0.0</td>\n      <td>0.0</td>\n      <td>0.0</td>\n      <td>0.000000</td>\n      <td>0.0</td>\n    </tr>\n    <tr>\n      <th>353</th>\n      <td>3</td>\n      <td>1355</td>\n      <td>488</td>\n      <td>5.461255</td>\n      <td>0.000000</td>\n      <td>0.442804</td>\n      <td>0.000000</td>\n      <td>5.018450</td>\n      <td>2.583026</td>\n      <td>23.690037</td>\n      <td>...</td>\n      <td>0.0</td>\n      <td>0.000000</td>\n      <td>0.0</td>\n      <td>0.0</td>\n      <td>0.0</td>\n      <td>0.0</td>\n      <td>0.0</td>\n      <td>0.0</td>\n      <td>0.000000</td>\n      <td>0.0</td>\n    </tr>\n    <tr>\n      <th>354</th>\n      <td>3</td>\n      <td>1797</td>\n      <td>811</td>\n      <td>2.615470</td>\n      <td>0.779076</td>\n      <td>0.222593</td>\n      <td>2.003339</td>\n      <td>7.846411</td>\n      <td>2.003339</td>\n      <td>21.869783</td>\n      <td>...</td>\n      <td>0.0</td>\n      <td>0.046904</td>\n      <td>0.0</td>\n      <td>0.0</td>\n      <td>0.0</td>\n      <td>0.0</td>\n      <td>0.0</td>\n      <td>0.0</td>\n      <td>0.000000</td>\n      <td>0.0</td>\n    </tr>\n  </tbody>\n</table>\n<p>355 rows × 5324 columns</p>\n</div>"
     },
     "metadata": {},
     "execution_count": 122
    }
   ],
   "source": [
    "df_features = data_features(data_add_speech_tag)\n",
    "df_features"
   ]
  },
  {
   "source": [
    "Pre trained BERT models\n",
    "\n",
    "https://pypi.org/project/pytorch-pretrained-bert/\n",
    "\n",
    "https://pytorch.org/hub/huggingface_pytorch-transformers/\n",
    "\n",
    "https://medium.com/@aniruddha.choudhury94/part-2-bert-fine-tuning-tutorial-with-pytorch-for-text-classification-on-the-corpus-of-linguistic-18057ce330e1\n",
    "\n",
    "\n",
    "Spacy linguistic features\n",
    "https://spacy.io/usage/linguistic-features\n",
    "\n",
    "TF-IDF https://towardsdatascience.com/tf-idf-for-document-ranking-from-scratch-in-python-on-real-world-dataset-796d339a4089\n",
    "\n"
   ],
   "cell_type": "markdown",
   "metadata": {}
  }
 ]
}