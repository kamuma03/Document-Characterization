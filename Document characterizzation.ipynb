{
 "metadata": {
  "language_info": {
   "codemirror_mode": {
    "name": "ipython",
    "version": 3
   },
   "file_extension": ".py",
   "mimetype": "text/x-python",
   "name": "python",
   "nbconvert_exporter": "python",
   "pygments_lexer": "ipython3",
   "version": "3.8.6-final"
  },
  "orig_nbformat": 2,
  "kernelspec": {
   "name": "python3",
   "display_name": "Python 3"
  }
 },
 "nbformat": 4,
 "nbformat_minor": 2,
 "cells": [
  {
   "source": [
    "# Document Chracterizzation\n"
   ],
   "cell_type": "markdown",
   "metadata": {}
  },
  {
   "source": [
    "## Import of relevant libraries "
   ],
   "cell_type": "markdown",
   "metadata": {}
  },
  {
   "cell_type": "code",
   "execution_count": 1,
   "metadata": {},
   "outputs": [],
   "source": [
    "import os\n",
    "import shutil\n",
    "import numpy as np\n",
    "import pandas as pd\n",
    "import requests\n",
    "from bs4 import BeautifulSoup"
   ]
  },
  {
   "source": [
    "## Dataset import"
   ],
   "cell_type": "markdown",
   "metadata": {}
  },
  {
   "cell_type": "code",
   "execution_count": 2,
   "metadata": {},
   "outputs": [
    {
     "output_type": "stream",
     "name": "stdout",
     "text": [
      "129\n"
     ]
    },
    {
     "output_type": "execute_result",
     "data": {
      "text/plain": [
       "                                                   URL              CLASS\n",
       "0    https://issafrica.org/iss-today/time-to-tackle...  Analytical Report\n",
       "1    http://www.understandingwar.org/backgrounder/r...  Analytical Report\n",
       "2    http://www.understandingwar.org/backgrounder/r...  Analytical Report\n",
       "3    http://www.understandingwar.org/backgrounder/w...  Analytical Report\n",
       "4    http://www.understandingwar.org/backgrounder/r...  Analytical Report\n",
       "..                                                 ...                ...\n",
       "124  https://rewardsforjustice.net/english/muhammad...     Profile Report\n",
       "125  https://rewardsforjustice.net/english/abdelkar...     Profile Report\n",
       "126  https://rewardsforjustice.net/english/muhammad...     Profile Report\n",
       "127  https://rewardsforjustice.net/english/jamal_ra...     Profile Report\n",
       "128  https://rewardsforjustice.net/english/ramadan_...     Profile Report\n",
       "\n",
       "[129 rows x 2 columns]"
      ],
      "text/html": "<div>\n<style scoped>\n    .dataframe tbody tr th:only-of-type {\n        vertical-align: middle;\n    }\n\n    .dataframe tbody tr th {\n        vertical-align: top;\n    }\n\n    .dataframe thead th {\n        text-align: right;\n    }\n</style>\n<table border=\"1\" class=\"dataframe\">\n  <thead>\n    <tr style=\"text-align: right;\">\n      <th></th>\n      <th>URL</th>\n      <th>CLASS</th>\n    </tr>\n  </thead>\n  <tbody>\n    <tr>\n      <th>0</th>\n      <td>https://issafrica.org/iss-today/time-to-tackle...</td>\n      <td>Analytical Report</td>\n    </tr>\n    <tr>\n      <th>1</th>\n      <td>http://www.understandingwar.org/backgrounder/r...</td>\n      <td>Analytical Report</td>\n    </tr>\n    <tr>\n      <th>2</th>\n      <td>http://www.understandingwar.org/backgrounder/r...</td>\n      <td>Analytical Report</td>\n    </tr>\n    <tr>\n      <th>3</th>\n      <td>http://www.understandingwar.org/backgrounder/w...</td>\n      <td>Analytical Report</td>\n    </tr>\n    <tr>\n      <th>4</th>\n      <td>http://www.understandingwar.org/backgrounder/r...</td>\n      <td>Analytical Report</td>\n    </tr>\n    <tr>\n      <th>...</th>\n      <td>...</td>\n      <td>...</td>\n    </tr>\n    <tr>\n      <th>124</th>\n      <td>https://rewardsforjustice.net/english/muhammad...</td>\n      <td>Profile Report</td>\n    </tr>\n    <tr>\n      <th>125</th>\n      <td>https://rewardsforjustice.net/english/abdelkar...</td>\n      <td>Profile Report</td>\n    </tr>\n    <tr>\n      <th>126</th>\n      <td>https://rewardsforjustice.net/english/muhammad...</td>\n      <td>Profile Report</td>\n    </tr>\n    <tr>\n      <th>127</th>\n      <td>https://rewardsforjustice.net/english/jamal_ra...</td>\n      <td>Profile Report</td>\n    </tr>\n    <tr>\n      <th>128</th>\n      <td>https://rewardsforjustice.net/english/ramadan_...</td>\n      <td>Profile Report</td>\n    </tr>\n  </tbody>\n</table>\n<p>129 rows × 2 columns</p>\n</div>"
     },
     "metadata": {},
     "execution_count": 2
    }
   ],
   "source": [
    "## import the CSV file with the labels\n",
    "\n",
    "data_input = pd.read_csv('Document Characterisation Data Dump.csv', sep=',')\n",
    "print(len(data_input[\"URL\"]))\n",
    "data_input\n"
   ]
  },
  {
   "cell_type": "code",
   "execution_count": 8,
   "metadata": {},
   "outputs": [],
   "source": [
    "def scraper(input):\n",
    "    content = []\n",
    "    for i in range(len(input[\"URL\"])):\n",
    "        url = input[\"URL\"][i]\n",
    "        text = url\n",
    "\n",
    "        if not (text.startswith('https://') or text.startswith('http://')):\n",
    "            text += ' Link not good'\n",
    "            content.append(text) \n",
    "            continue\n",
    "        \n",
    "        page = requests.get(url)\n",
    "        \n",
    "        if page.status_code != 200:\n",
    "            text += ' Page not able to find'\n",
    "\n",
    "        else:\n",
    "            soup = BeautifulSoup(page.content, 'html.parser')\n",
    "            for p in soup.find_all('p'):\n",
    "                text = text + ' ' + p.text\n",
    "        \n",
    "        content.append(text) \n",
    "\n",
    "\n",
    "    return content"
   ]
  },
  {
   "cell_type": "code",
   "execution_count": 19,
   "metadata": {},
   "outputs": [
    {
     "output_type": "execute_result",
     "data": {
      "text/plain": [
       "                                                   URL              CLASS  \\\n",
       "0    https://issafrica.org/iss-today/time-to-tackle...  Analytical Report   \n",
       "1    http://www.understandingwar.org/backgrounder/r...  Analytical Report   \n",
       "2    http://www.understandingwar.org/backgrounder/r...  Analytical Report   \n",
       "3    http://www.understandingwar.org/backgrounder/w...  Analytical Report   \n",
       "4    http://www.understandingwar.org/backgrounder/r...  Analytical Report   \n",
       "..                                                 ...                ...   \n",
       "124  https://rewardsforjustice.net/english/muhammad...     Profile Report   \n",
       "125  https://rewardsforjustice.net/english/abdelkar...     Profile Report   \n",
       "126  https://rewardsforjustice.net/english/muhammad...     Profile Report   \n",
       "127  https://rewardsforjustice.net/english/jamal_ra...     Profile Report   \n",
       "128  https://rewardsforjustice.net/english/ramadan_...     Profile Report   \n",
       "\n",
       "                                               Content  \n",
       "0    https://issafrica.org/iss-today/time-to-tackle...  \n",
       "1    http://www.understandingwar.org/backgrounder/r...  \n",
       "2    http://www.understandingwar.org/backgrounder/r...  \n",
       "3    http://www.understandingwar.org/backgrounder/w...  \n",
       "4    http://www.understandingwar.org/backgrounder/r...  \n",
       "..                                                 ...  \n",
       "124  https://rewardsforjustice.net/english/muhammad...  \n",
       "125  https://rewardsforjustice.net/english/abdelkar...  \n",
       "126  https://rewardsforjustice.net/english/muhammad...  \n",
       "127  https://rewardsforjustice.net/english/jamal_ra...  \n",
       "128  https://rewardsforjustice.net/english/ramadan_...  \n",
       "\n",
       "[129 rows x 3 columns]"
      ],
      "text/html": "<div>\n<style scoped>\n    .dataframe tbody tr th:only-of-type {\n        vertical-align: middle;\n    }\n\n    .dataframe tbody tr th {\n        vertical-align: top;\n    }\n\n    .dataframe thead th {\n        text-align: right;\n    }\n</style>\n<table border=\"1\" class=\"dataframe\">\n  <thead>\n    <tr style=\"text-align: right;\">\n      <th></th>\n      <th>URL</th>\n      <th>CLASS</th>\n      <th>Content</th>\n    </tr>\n  </thead>\n  <tbody>\n    <tr>\n      <th>0</th>\n      <td>https://issafrica.org/iss-today/time-to-tackle...</td>\n      <td>Analytical Report</td>\n      <td>https://issafrica.org/iss-today/time-to-tackle...</td>\n    </tr>\n    <tr>\n      <th>1</th>\n      <td>http://www.understandingwar.org/backgrounder/r...</td>\n      <td>Analytical Report</td>\n      <td>http://www.understandingwar.org/backgrounder/r...</td>\n    </tr>\n    <tr>\n      <th>2</th>\n      <td>http://www.understandingwar.org/backgrounder/r...</td>\n      <td>Analytical Report</td>\n      <td>http://www.understandingwar.org/backgrounder/r...</td>\n    </tr>\n    <tr>\n      <th>3</th>\n      <td>http://www.understandingwar.org/backgrounder/w...</td>\n      <td>Analytical Report</td>\n      <td>http://www.understandingwar.org/backgrounder/w...</td>\n    </tr>\n    <tr>\n      <th>4</th>\n      <td>http://www.understandingwar.org/backgrounder/r...</td>\n      <td>Analytical Report</td>\n      <td>http://www.understandingwar.org/backgrounder/r...</td>\n    </tr>\n    <tr>\n      <th>...</th>\n      <td>...</td>\n      <td>...</td>\n      <td>...</td>\n    </tr>\n    <tr>\n      <th>124</th>\n      <td>https://rewardsforjustice.net/english/muhammad...</td>\n      <td>Profile Report</td>\n      <td>https://rewardsforjustice.net/english/muhammad...</td>\n    </tr>\n    <tr>\n      <th>125</th>\n      <td>https://rewardsforjustice.net/english/abdelkar...</td>\n      <td>Profile Report</td>\n      <td>https://rewardsforjustice.net/english/abdelkar...</td>\n    </tr>\n    <tr>\n      <th>126</th>\n      <td>https://rewardsforjustice.net/english/muhammad...</td>\n      <td>Profile Report</td>\n      <td>https://rewardsforjustice.net/english/muhammad...</td>\n    </tr>\n    <tr>\n      <th>127</th>\n      <td>https://rewardsforjustice.net/english/jamal_ra...</td>\n      <td>Profile Report</td>\n      <td>https://rewardsforjustice.net/english/jamal_ra...</td>\n    </tr>\n    <tr>\n      <th>128</th>\n      <td>https://rewardsforjustice.net/english/ramadan_...</td>\n      <td>Profile Report</td>\n      <td>https://rewardsforjustice.net/english/ramadan_...</td>\n    </tr>\n  </tbody>\n</table>\n<p>129 rows × 3 columns</p>\n</div>"
     },
     "metadata": {},
     "execution_count": 19
    }
   ],
   "source": [
    "data = scraper(data_input)\n",
    "data_input['Content'] = data\n",
    "data_input"
   ]
  },
  {
   "source": [
    "## Experimental Data Analysis "
   ],
   "cell_type": "markdown",
   "metadata": {}
  },
  {
   "cell_type": "code",
   "execution_count": null,
   "metadata": {},
   "outputs": [],
   "source": []
  },
  {
   "source": [
    "Pre trained BERT models\n",
    "\n",
    "https://pypi.org/project/pytorch-pretrained-bert/\n",
    "\n",
    "https://pytorch.org/hub/huggingface_pytorch-transformers/\n",
    "\n",
    "https://medium.com/@aniruddha.choudhury94/part-2-bert-fine-tuning-tutorial-with-pytorch-for-text-classification-on-the-corpus-of-linguistic-18057ce330e1\n"
   ],
   "cell_type": "markdown",
   "metadata": {}
  }
 ]
}