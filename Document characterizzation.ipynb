{
 "metadata": {
  "language_info": {
   "codemirror_mode": {
    "name": "ipython",
    "version": 3
   },
   "file_extension": ".py",
   "mimetype": "text/x-python",
   "name": "python",
   "nbconvert_exporter": "python",
   "pygments_lexer": "ipython3",
   "version": "3.8.6-final"
  },
  "orig_nbformat": 2,
  "kernelspec": {
   "name": "python3",
   "display_name": "Python 3"
  }
 },
 "nbformat": 4,
 "nbformat_minor": 2,
 "cells": [
  {
   "source": [
    "# Document Chracterizzation\n"
   ],
   "cell_type": "markdown",
   "metadata": {}
  },
  {
   "source": [
    "## Import of relevant libraries "
   ],
   "cell_type": "markdown",
   "metadata": {}
  },
  {
   "cell_type": "code",
   "execution_count": 16,
   "metadata": {},
   "outputs": [],
   "source": [
    "import os\n",
    "import shutil\n",
    "import numpy as np\n",
    "import pandas as pd"
   ]
  },
  {
   "source": [
    "## Dataset import"
   ],
   "cell_type": "markdown",
   "metadata": {}
  },
  {
   "cell_type": "code",
   "execution_count": 8,
   "metadata": {},
   "outputs": [],
   "source": [
    "## Read the all the file names from the folder  \n",
    "\n",
    "src = \"./Data\"\n",
    "src_files = os.listdir(src)\n",
    "#src_files"
   ]
  },
  {
   "cell_type": "code",
   "execution_count": 19,
   "metadata": {},
   "outputs": [],
   "source": [
    "## import the CSV file with the labels\n",
    "\n",
    "my_data = pd.read_csv('document_characterisation_aicore_initial.csv', sep=',')\n",
    "#my_data\n"
   ]
  },
  {
   "cell_type": "code",
   "execution_count": 3,
   "metadata": {},
   "outputs": [
    {
     "output_type": "execute_result",
     "data": {
      "text/plain": [
       "['Attack on Beachside Somalia Hotel Kills at Least 16',\n",
       " 'The extremist group Al Shabab has escalated assaults in recent months, even as the country confronts a host of other challenges, including containing the coronavirus.',\n",
       " '',\n",
       " '',\n",
       " 'Medical workers helping a civilian who was wounded during an attack on the Elite Hotel in Mogadishu, Somalia, on Sunday.',\n",
       " 'Medical workers helping a civilian who was wounded during an attack on the Elite Hotel in Mogadishu, Somalia, on Sunday.Credit...Farah Abdi Warsameh/Associated Press',\n",
       " 'By Hussein Mohamed and Abdi Latif Dahir',\n",
       " 'Aug. 17, 2020',\n",
       " '',\n",
       " 'MOGADISHU, Somalia — A terrorist attack on a popular hotel in the Somali capital that left at least 16 people dead, including five assailants, ended with the dramatic rescue of more than 200 people on Sunday after a raging gun battle.',\n",
       " '',\n",
       " 'The attack was the latest in a series of deadly onslaughts carried out across the Horn of Africa by Al Shabab, a militant group linked to Al Qaeda, as the group seeks to stoke chaos and undermine Somalia’s government.',\n",
       " '',\n",
       " 'The Shabab attacks have increased in recent months even as Somalia has struggled to contain the coronavirus pandemic, experienced flash floods that have displaced tens of thousands of people and been swarmed by desert locusts that threaten the food supply.',\n",
       " '',\n",
       " 'The attack on the Elite Hotel in Mogadishu began Sunday afternoon after a car bomb exploded at the gates of the hotel, which is on Lido Beach, a popular destination on the Indian Ocean and a symbol of the country’s resurgence from civil war.',\n",
       " '',\n",
       " '',\n",
       " '',\n",
       " 'Shabab militants then ran into the hotel’s compound, engaging in a four-hour gun battle with security officials.',\n",
       " '',\n",
       " 'Somali special forces stormed the grounds and rescued more than 200 people from inside the hotel, according to Ismael Mukhtar Omar, the spokesman for the Somali Information Ministry. Among those saved were senior government officials and the owner of the hotel, Abdullahi Mohamed Nor, a former finance minister who is also a member of parliament. The dead included a senior Information Ministry official, Somali National Television reported. At least 18 people were injured, according to government officials.',\n",
       " '',\n",
       " 'Unlock more free articles.',\n",
       " 'Create an account or log in',\n",
       " 'President Mohamed Abdullahi Mohamed condemned the attack and called on citizens to support those who had been harmed.',\n",
       " '',\n",
       " '“The main reason terrorists carry out these surprise attacks is to frustrate the Somali people who are recovering from difficult circumstances,” Mr. Mohamed said in a Facebook post. “It is true that their plan is to hurt every Somali person by using some of the Somali youth who have been misled.”',\n",
       " '',\n",
       " '',\n",
       " '',\n",
       " 'ImageSecurity forces inspecting the wreckage outside the Elite Hotel in Mogadishu on Monday.',\n",
       " 'Security forces inspecting the wreckage outside the Elite Hotel in Mogadishu on Monday.Credit...Farah Abdi Warsameh/Associated Press',\n",
       " 'Somalia’s federal government is in a fragile position, as Parliament voted last month to oust Prime Minister Hassan Ali Khaire. Mr. Mohamed accepted the lawmakers’ decision and is expected to appoint a new prime minister soon.',\n",
       " '',\n",
       " '',\n",
       " '',\n",
       " 'The government is also engaged in a standoff with regional states after parliamentary and presidential elections were postponed. While the government cited security and logistical challenges, critics condemned the move, with opposition parties accusing the electoral commission of colluding with the current administration to extend its term.',\n",
       " '',\n",
       " 'Seeking to capitalize on the political instability, the Shabab have continued to carry deadly attacks. Last week, 19 guards and inmates at the central prison in Mogadishu were killed after Shabab militants, attempting to escape the prison managed to secure weapons and then engaged security forces in a shootout.',\n",
       " '',\n",
       " 'In July, the group carried out attacks on security forces in two of Somalia’s biggest cities. And in June, the Shabab, whose tactics have grown more sophisticated despite facing defections and airstrikes by the United States, attacked a major Turkish military base in Mogadishu.',\n",
       " '',\n",
       " 'In January, the extremist group also overran a Kenyan military base that housed United States troops, just days after it was suspected of conducting the attack that killed 82 people in Mogadishu — the country’s deadliest in years.',\n",
       " '',\n",
       " 'One frequent target for the Shabab has been establishments along Lido Beach.',\n",
       " '',\n",
       " 'Before the fall of President Mohammed Siad Barre in 1991 and the decades of civil war and bloodshed that have come to define Mogadishu, Lido Beach was a pleasure ground of clubs and cafes. With the longest coastline in mainland Africa, Somalia and its capital city were widely known as the “pearl of the Indian Ocean.”',\n",
       " '',\n",
       " 'To return to the beach in peace, for many in Somalia, signifies a return to a better life.',\n",
       " '',\n",
       " 'In a Twitter post on Monday morning, Mr. Nor, the hotel’s owner, condemned the attack and said he was resolute in continuing to invest in Somalia and create more jobs.',\n",
       " '',\n",
       " '“I believe it was right thing to do, and I will never give up due to such heinous terrorist attacks,” he said.',\n",
       " '',\n",
       " 'Hussein Mohamed reported from Mogadishu and Abdi Latif Dahir from Nairobi, Kenya.']"
      ]
     },
     "metadata": {},
     "execution_count": 3
    }
   ],
   "source": [
    "\n",
    "glove_file = open(\"./Data/001elite-hotel-somalia-mogadishu-attack.txt\", \"r\", encoding=\"utf8\")\n",
    "glove_vectors_list = [word_and_vector.strip() for word_and_vector in glove_file.readlines()]\n",
    "glove_vectors_list"
   ]
  },
  {
   "cell_type": "code",
   "execution_count": null,
   "metadata": {},
   "outputs": [],
   "source": []
  },
  {
   "cell_type": "code",
   "execution_count": null,
   "metadata": {},
   "outputs": [],
   "source": []
  },
  {
   "source": [
    "Pre trained BERT models\n",
    "\n",
    "https://pypi.org/project/pytorch-pretrained-bert/\n",
    "\n",
    "https://pytorch.org/hub/huggingface_pytorch-transformers/\n",
    "\n",
    "https://medium.com/@aniruddha.choudhury94/part-2-bert-fine-tuning-tutorial-with-pytorch-for-text-classification-on-the-corpus-of-linguistic-18057ce330e1\n"
   ],
   "cell_type": "markdown",
   "metadata": {}
  }
 ]
}