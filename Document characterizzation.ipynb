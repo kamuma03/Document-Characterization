{
 "metadata": {
  "language_info": {
   "codemirror_mode": {
    "name": "ipython",
    "version": 3
   },
   "file_extension": ".py",
   "mimetype": "text/x-python",
   "name": "python",
   "nbconvert_exporter": "python",
   "pygments_lexer": "ipython3",
   "version": "3.8.6-final"
  },
  "orig_nbformat": 2,
  "kernelspec": {
   "name": "python3",
   "display_name": "Python 3"
  }
 },
 "nbformat": 4,
 "nbformat_minor": 2,
 "cells": [
  {
   "source": [
    "# Document Chracterizzation\n"
   ],
   "cell_type": "markdown",
   "metadata": {}
  },
  {
   "source": [
    "## Import of relevant libraries "
   ],
   "cell_type": "markdown",
   "metadata": {}
  },
  {
   "cell_type": "code",
   "execution_count": 1,
   "metadata": {},
   "outputs": [],
   "source": [
    "# Import of all the libraries used for the project\n",
    "import os\n",
    "import shutil\n",
    "import numpy as np\n",
    "import pandas as pd\n",
    "import requests\n",
    "from bs4 import BeautifulSoup\n",
    "import re\n",
    "from operator import itemgetter"
   ]
  },
  {
   "source": [
    "## Dataset import"
   ],
   "cell_type": "markdown",
   "metadata": {}
  },
  {
   "cell_type": "code",
   "execution_count": 2,
   "metadata": {},
   "outputs": [],
   "source": [
    "# Defined a simple scraper  to go through all the link, visit the page and copy all the txt in the paragraph tag of the HTML file\n",
    "\n",
    "def scraper(input):\n",
    "    # create an empty array\n",
    "    content = []\n",
    "\n",
    "    # for loop on all the links in the dataframe\n",
    "    for i in range(len(input[\"URL\"])):\n",
    "        url = input[\"URL\"][i]\n",
    "        # text = url\n",
    "        text = ' '\n",
    "\n",
    "        # check if actually the url is correct orr not\n",
    "        if not (url.startswith('https://') or url.startswith('http://')):\n",
    "            text += ' Link not good'\n",
    "            content.append(text) \n",
    "            continue\n",
    "        \n",
    "        # Request the url and copy of the HTMl \n",
    "        page = requests.get(url)\n",
    "        \n",
    "        # Check if the response is positive or not, if not set that page was not found \n",
    "        if page.status_code != 200:\n",
    "            text += ' Page not able to find'\n",
    "\n",
    "        # Else take the text from all the p tag of the HTML content  \n",
    "        else:\n",
    "            soup = BeautifulSoup(page.content, 'html.parser')\n",
    "            for p in soup.find_all('p'):\n",
    "                text = text + ' ' + p.text\n",
    "        \n",
    "        content.append(text) \n",
    "    return content"
   ]
  },
  {
   "cell_type": "code",
   "execution_count": 4,
   "metadata": {},
   "outputs": [
    {
     "output_type": "execute_result",
     "data": {
      "text/plain": [
       "                                                   URL              CLASS  \\\n",
       "0    https://issafrica.org/iss-today/time-to-tackle...  Analytical Report   \n",
       "1    http://www.understandingwar.org/backgrounder/r...  Analytical Report   \n",
       "2    http://www.understandingwar.org/backgrounder/r...  Analytical Report   \n",
       "3    http://www.understandingwar.org/backgrounder/w...  Analytical Report   \n",
       "4    http://www.understandingwar.org/backgrounder/r...  Analytical Report   \n",
       "..                                                 ...                ...   \n",
       "232  https://www.journalism.org/2019/03/26/for-loca...  Analytical Report   \n",
       "233  https://www.journalism.org/2017/10/02/covering...  Analytical Report   \n",
       "234  https://ctc.usma.edu/afghanistans-future-emira...  Analytical Report   \n",
       "235  https://ctc.usma.edu/back-into-the-shadows-the...  Analytical Report   \n",
       "236  https://ctc.usma.edu/stepping-out-from-the-sha...  Analytical Report   \n",
       "\n",
       "                                               CONTENT  \n",
       "0      2020-11-25 On 26 September, hundreds of Mali...  \n",
       "1      By George Barros November 16, 2020 The Kreml...  \n",
       "2      By Ezgi Yazici November 13, 2020 Key Takeawa...  \n",
       "3      By Katherine Lawlor with Brandon Wallace Key...  \n",
       "4      By Isabel Ivanescu and Ezgi Yazici Key Takea...  \n",
       "..                                                 ...  \n",
       "232    Numbers, Facts and Trends Shaping Your World...  \n",
       "233    Numbers, Facts and Trends Shaping Your World...  \n",
       "234    Main Menu Seth G. Jones \\nShare via:\\n\\n\\n\\n...  \n",
       "235    Main Menu Michael Knights \\nShare via:\\n\\n\\n...  \n",
       "236    Main Menu Daniel Milton, Muhammad al-`Ubaydi...  \n",
       "\n",
       "[237 rows x 3 columns]"
      ],
      "text/html": "<div>\n<style scoped>\n    .dataframe tbody tr th:only-of-type {\n        vertical-align: middle;\n    }\n\n    .dataframe tbody tr th {\n        vertical-align: top;\n    }\n\n    .dataframe thead th {\n        text-align: right;\n    }\n</style>\n<table border=\"1\" class=\"dataframe\">\n  <thead>\n    <tr style=\"text-align: right;\">\n      <th></th>\n      <th>URL</th>\n      <th>CLASS</th>\n      <th>CONTENT</th>\n    </tr>\n  </thead>\n  <tbody>\n    <tr>\n      <th>0</th>\n      <td>https://issafrica.org/iss-today/time-to-tackle...</td>\n      <td>Analytical Report</td>\n      <td>2020-11-25 On 26 September, hundreds of Mali...</td>\n    </tr>\n    <tr>\n      <th>1</th>\n      <td>http://www.understandingwar.org/backgrounder/r...</td>\n      <td>Analytical Report</td>\n      <td>By George Barros November 16, 2020 The Kreml...</td>\n    </tr>\n    <tr>\n      <th>2</th>\n      <td>http://www.understandingwar.org/backgrounder/r...</td>\n      <td>Analytical Report</td>\n      <td>By Ezgi Yazici November 13, 2020 Key Takeawa...</td>\n    </tr>\n    <tr>\n      <th>3</th>\n      <td>http://www.understandingwar.org/backgrounder/w...</td>\n      <td>Analytical Report</td>\n      <td>By Katherine Lawlor with Brandon Wallace Key...</td>\n    </tr>\n    <tr>\n      <th>4</th>\n      <td>http://www.understandingwar.org/backgrounder/r...</td>\n      <td>Analytical Report</td>\n      <td>By Isabel Ivanescu and Ezgi Yazici Key Takea...</td>\n    </tr>\n    <tr>\n      <th>...</th>\n      <td>...</td>\n      <td>...</td>\n      <td>...</td>\n    </tr>\n    <tr>\n      <th>232</th>\n      <td>https://www.journalism.org/2019/03/26/for-loca...</td>\n      <td>Analytical Report</td>\n      <td>Numbers, Facts and Trends Shaping Your World...</td>\n    </tr>\n    <tr>\n      <th>233</th>\n      <td>https://www.journalism.org/2017/10/02/covering...</td>\n      <td>Analytical Report</td>\n      <td>Numbers, Facts and Trends Shaping Your World...</td>\n    </tr>\n    <tr>\n      <th>234</th>\n      <td>https://ctc.usma.edu/afghanistans-future-emira...</td>\n      <td>Analytical Report</td>\n      <td>Main Menu Seth G. Jones \\nShare via:\\n\\n\\n\\n...</td>\n    </tr>\n    <tr>\n      <th>235</th>\n      <td>https://ctc.usma.edu/back-into-the-shadows-the...</td>\n      <td>Analytical Report</td>\n      <td>Main Menu Michael Knights \\nShare via:\\n\\n\\n...</td>\n    </tr>\n    <tr>\n      <th>236</th>\n      <td>https://ctc.usma.edu/stepping-out-from-the-sha...</td>\n      <td>Analytical Report</td>\n      <td>Main Menu Daniel Milton, Muhammad al-`Ubaydi...</td>\n    </tr>\n  </tbody>\n</table>\n<p>237 rows × 3 columns</p>\n</div>"
     },
     "metadata": {},
     "execution_count": 4
    }
   ],
   "source": [
    "## import the CSV file with the labels\n",
    "\n",
    "data_scraper = pd.read_csv('Document Characterisation Data.csv', sep=',')\n",
    "#print(len(data_scraper[\"URL\"]))\n",
    "\n",
    "# Calling the scraper function\n",
    "data = scraper(data_scraper)\n",
    "\n",
    "# Adding the scraped data into the Dataframe  \n",
    "data_scraper['CONTENT'] = data\n",
    "data_scraper"
   ]
  },
  {
   "cell_type": "code",
   "execution_count": 5,
   "metadata": {},
   "outputs": [],
   "source": [
    "# Function to load the files from local drive into Pandas data frame\n",
    "\n",
    "def readFiles (src, fileClass):\n",
    "    src_files = os.listdir(src)\n",
    "    fileType = []\n",
    "    content = []\n",
    "    for i in range(len(src_files)):\n",
    "        fileType.append(fileClass)\n",
    "        glove_file = open(src + src_files[i], \"r\", encoding=\"utf8\")\n",
    "        glove_vectors_list = [word_and_vector.strip() for word_and_vector in glove_file.readlines()]\n",
    "        content.append(\" \".join(glove_vectors_list))\n",
    "    \n",
    "    columns = [\"URL\", \"CLASS\", \"CONTENT\"]\n",
    "    df = pd.DataFrame(columns=columns)\n",
    "\n",
    "    df[\"URL\"] = src_files\n",
    "    df[\"CLASS\"] = fileType\n",
    "    df[\"CONTENT\"] = content\n",
    "\n",
    "    return df\n"
   ]
  },
  {
   "cell_type": "code",
   "execution_count": 8,
   "metadata": {},
   "outputs": [
    {
     "output_type": "execute_result",
     "data": {
      "text/plain": [
       "                                                  URL              CLASS  \\\n",
       "0   https://issafrica.org/iss-today/time-to-tackle...  Analytical Report   \n",
       "1   http://www.understandingwar.org/backgrounder/r...  Analytical Report   \n",
       "2   http://www.understandingwar.org/backgrounder/r...  Analytical Report   \n",
       "3   http://www.understandingwar.org/backgrounder/w...  Analytical Report   \n",
       "4   http://www.understandingwar.org/backgrounder/r...  Analytical Report   \n",
       "..                                                ...                ...   \n",
       "65                                 int-rep-o-18-e.txt   Situation Report   \n",
       "66                                 int-rep-o-18-f.txt   Situation Report   \n",
       "67                                 int-rep-o-18-g.txt   Situation Report   \n",
       "68                                 int-rep-o-18-h.txt   Situation Report   \n",
       "69  Summary of Russian press for Wednesday 29 July...   Situation Report   \n",
       "\n",
       "                                              CONTENT  \n",
       "0     2020-11-25 On 26 September, hundreds of Mali...  \n",
       "1     By George Barros November 16, 2020 The Kreml...  \n",
       "2     By Ezgi Yazici November 13, 2020 Key Takeawa...  \n",
       "3     By Katherine Lawlor with Brandon Wallace Key...  \n",
       "4     By Isabel Ivanescu and Ezgi Yazici Key Takea...  \n",
       "..                                                ...  \n",
       "65  Deputies are investigating after an explosive ...  \n",
       "66  Residents at a Springfield apartment complex w...  \n",
       "67  Several handheld explosive devices were found ...  \n",
       "68  Boulder police taped off the U.S. Bank at Broa...  \n",
       "69  By BBC Monitoring  Khabarovsk protests  Newspa...  \n",
       "\n",
       "[418 rows x 3 columns]"
      ],
      "text/html": "<div>\n<style scoped>\n    .dataframe tbody tr th:only-of-type {\n        vertical-align: middle;\n    }\n\n    .dataframe tbody tr th {\n        vertical-align: top;\n    }\n\n    .dataframe thead th {\n        text-align: right;\n    }\n</style>\n<table border=\"1\" class=\"dataframe\">\n  <thead>\n    <tr style=\"text-align: right;\">\n      <th></th>\n      <th>URL</th>\n      <th>CLASS</th>\n      <th>CONTENT</th>\n    </tr>\n  </thead>\n  <tbody>\n    <tr>\n      <th>0</th>\n      <td>https://issafrica.org/iss-today/time-to-tackle...</td>\n      <td>Analytical Report</td>\n      <td>2020-11-25 On 26 September, hundreds of Mali...</td>\n    </tr>\n    <tr>\n      <th>1</th>\n      <td>http://www.understandingwar.org/backgrounder/r...</td>\n      <td>Analytical Report</td>\n      <td>By George Barros November 16, 2020 The Kreml...</td>\n    </tr>\n    <tr>\n      <th>2</th>\n      <td>http://www.understandingwar.org/backgrounder/r...</td>\n      <td>Analytical Report</td>\n      <td>By Ezgi Yazici November 13, 2020 Key Takeawa...</td>\n    </tr>\n    <tr>\n      <th>3</th>\n      <td>http://www.understandingwar.org/backgrounder/w...</td>\n      <td>Analytical Report</td>\n      <td>By Katherine Lawlor with Brandon Wallace Key...</td>\n    </tr>\n    <tr>\n      <th>4</th>\n      <td>http://www.understandingwar.org/backgrounder/r...</td>\n      <td>Analytical Report</td>\n      <td>By Isabel Ivanescu and Ezgi Yazici Key Takea...</td>\n    </tr>\n    <tr>\n      <th>...</th>\n      <td>...</td>\n      <td>...</td>\n      <td>...</td>\n    </tr>\n    <tr>\n      <th>65</th>\n      <td>int-rep-o-18-e.txt</td>\n      <td>Situation Report</td>\n      <td>Deputies are investigating after an explosive ...</td>\n    </tr>\n    <tr>\n      <th>66</th>\n      <td>int-rep-o-18-f.txt</td>\n      <td>Situation Report</td>\n      <td>Residents at a Springfield apartment complex w...</td>\n    </tr>\n    <tr>\n      <th>67</th>\n      <td>int-rep-o-18-g.txt</td>\n      <td>Situation Report</td>\n      <td>Several handheld explosive devices were found ...</td>\n    </tr>\n    <tr>\n      <th>68</th>\n      <td>int-rep-o-18-h.txt</td>\n      <td>Situation Report</td>\n      <td>Boulder police taped off the U.S. Bank at Broa...</td>\n    </tr>\n    <tr>\n      <th>69</th>\n      <td>Summary of Russian press for Wednesday 29 July...</td>\n      <td>Situation Report</td>\n      <td>By BBC Monitoring  Khabarovsk protests  Newspa...</td>\n    </tr>\n  </tbody>\n</table>\n<p>418 rows × 3 columns</p>\n</div>"
     },
     "metadata": {},
     "execution_count": 8
    }
   ],
   "source": [
    "src = \"./Data/Analytical Report/\"\n",
    "df_Analytical_Report = readFiles(src, \"Analytical Report\")\n",
    "\n",
    "src = \"./Data/Analytical Report2/\"\n",
    "df_Analytical_Report2 = readFiles(src, \"Analytical Report\")\n",
    "\n",
    "src = \"./Data/Incident Report/\"\n",
    "df_Incident_Report = readFiles(src, \"Incident Report\")\n",
    "\n",
    "src = \"./Data/Situation Report/\"\n",
    "df_Situation_Report = readFiles(src, \"Situation Report\")\n",
    "\n",
    "toConcat = [data_scraper, df_Analytical_Report, df_Analytical_Report2, df_Incident_Report, df_Situation_Report]\n",
    "\n",
    "data_input = pd.concat(toConcat)\n",
    "data_input"
   ]
  },
  {
   "source": [
    "## Experimental Data Analysis "
   ],
   "cell_type": "markdown",
   "metadata": {}
  },
  {
   "source": [
    "### Data frame informations and duplicates Duplicates"
   ],
   "cell_type": "markdown",
   "metadata": {}
  },
  {
   "cell_type": "code",
   "execution_count": 9,
   "metadata": {},
   "outputs": [
    {
     "output_type": "stream",
     "name": "stdout",
     "text": [
      "<class 'pandas.core.frame.DataFrame'>\nInt64Index: 418 entries, 0 to 69\nData columns (total 3 columns):\n #   Column   Non-Null Count  Dtype \n---  ------   --------------  ----- \n 0   URL      418 non-null    object\n 1   CLASS    418 non-null    object\n 2   CONTENT  418 non-null    object\ndtypes: object(3)\nmemory usage: 13.1+ KB\n"
     ]
    }
   ],
   "source": [
    "data_input.info()"
   ]
  },
  {
   "cell_type": "code",
   "execution_count": 14,
   "metadata": {},
   "outputs": [
    {
     "output_type": "stream",
     "name": "stdout",
     "text": [
      "Number of Analytical Report  131\nNumber of Situation Report  99\nNumber of Incident Report  88\nNumber of Profile Report  100\n"
     ]
    }
   ],
   "source": [
    "# Number of items per class\n",
    "print(\"Number of Analytical Report \", len(data_input[data_input['CLASS'] == 'Analytical Report']))\n",
    "print(\"Number of Situation Report \", len(data_input[data_input['CLASS'] == 'Situation Report']))\n",
    "print(\"Number of Incident Report \", len(data_input[data_input['CLASS'] == 'Incident Report']))\n",
    "print(\"Number of Profile Report \", len(data_input[data_input['CLASS'] == 'Profile Report']))\n"
   ]
  },
  {
   "cell_type": "code",
   "execution_count": 25,
   "metadata": {},
   "outputs": [],
   "source": [
    "# Dropping the duplicate items \n",
    "data_input.drop_duplicates( inplace=True)\n"
   ]
  },
  {
   "cell_type": "code",
   "execution_count": 26,
   "metadata": {},
   "outputs": [
    {
     "output_type": "stream",
     "name": "stdout",
     "text": [
      "Number of Analytical Report  92\nNumber of Situation Report  98\nNumber of Incident Report  88\nNumber of Profile Report  98\n"
     ]
    }
   ],
   "source": [
    "# Number of items per class after dropping the duplicates\n",
    "print(\"Number of Analytical Report \", len(data_input[data_input['CLASS'] == 'Analytical Report']))\n",
    "print(\"Number of Situation Report \", len(data_input[data_input['CLASS'] == 'Situation Report']))\n",
    "print(\"Number of Incident Report \", len(data_input[data_input['CLASS'] == 'Incident Report']))\n",
    "print(\"Number of Profile Report \", len(data_input[data_input['CLASS'] == 'Profile Report']))\n"
   ]
  },
  {
   "cell_type": "code",
   "execution_count": 27,
   "metadata": {},
   "outputs": [
    {
     "output_type": "stream",
     "name": "stdout",
     "text": [
      "<class 'pandas.core.frame.DataFrame'>\nInt64Index: 376 entries, 0 to 69\nData columns (total 3 columns):\n #   Column   Non-Null Count  Dtype \n---  ------   --------------  ----- \n 0   URL      376 non-null    object\n 1   CLASS    376 non-null    object\n 2   CONTENT  376 non-null    object\ndtypes: object(3)\nmemory usage: 11.8+ KB\n"
     ]
    }
   ],
   "source": [
    "data_input.info()"
   ]
  },
  {
   "source": [
    "### Pre Processing the data"
   ],
   "cell_type": "markdown",
   "metadata": {}
  },
  {
   "cell_type": "code",
   "execution_count": 76,
   "metadata": {},
   "outputs": [
    {
     "output_type": "stream",
     "name": "stdout",
     "text": [
      "['<Number>', '<Number>', '<Number>', 'on', '<Number>', 'september', 'hundreds', 'of', 'malian', 'women', 'and', 'some', 'men', 'rallied', 'in', 'bamako', 'to', 'protest', 'against', 'the', 'trivialisation', 'of', 'violence', 'against', 'women', 'this', 'was', 'prompted', 'by', 'the', 'revelation', 'on', 'social', 'media', 'of', 'alleged', 'intimate', 'partner', 'abuse', 'involving', 'a', 'famous', 'malian', 'artist', 'the', 'story', 'broke', 'just', 'two', 'months', 'before', 'the', '<Number>', 'november', 'annual', 'international', 'day', 'for', 'the', 'elimination', 'of', 'violence', 'against', 'women', 'the', 'case', 'now', 'pending', 'in', 'court', 'sheds', 'light', 'on', 'a', 'society', 'wide', 'problem', 'that', 's', 'often', 'silenced', 'by', 'deeply', 'entrenched', 'social', 'norms', 'and', 'religious', 'discourse', 'fear', 'on', 'the', 'part', 'of', 'the', 'political', 'elite', 'to', 'confront', 'the', 'divisive', 'issue', 'makes', 'matters', 'worse', 'official', 'figures', 'on', 'violence', 'against', 'women', 'are', 'hard', 'to', 'find', 'in', 'mali', '–', 'even', 'more', 'so', 'specific', 'numbers', 'on', 'domestic', 'and', 'intimate', 'partner', 'violence', 'the', 'country', 's', 'statistical', 'capacities', 'are', 'generally', 'weak', 'but', 'this', 'also', 'indicates', 'the', 'low', 'priority', 'given', 'to', 'issues', 'affecting', 'women', 'especially', 'gender', 'based', 'violence', 'the', 'little', 'data', 'that', 'is', 'available', 'including', 'through', 'humanitarian', 'protection', 'monitoring', 'mechanisms', 'emphasises', 'conflict', 'related', 'sexual', 'and', 'gender', 'based', 'violence', 'this', 'should', 'be', 'tracked', 'and', 'addressed', 'as', 'mali', 'struggles', 'with', 'a', 'multidimensional', 'crisis', 'in', 'its', 'central', 'and', 'northern', 'regions', 'but', 'violence', 'against', 'women', 'goes', 'beyond', 'this', 'conflict', 'despite', 'repeated', 'appeals', 'for', 'reform', 'there', 's', 'been', 'little', 'progress', 'on', 'improving', 'women', 's', 'lives', 'and', 'rights', 'in', 'a', '<Number>', 'interview', 'then', 'chair', 'of', 'the', 'national', 'chapter', 'of', 'women', 'in', 'law', 'and', 'development', 'in', 'africa', 'bouaré', 'bintou', 'founé', 'samaké', 'said', '85%', 'of', 'the', 'violence', 'against', 'women', 'cases', 'the', 'organisation', 'documented', 'occurred', 'in', 'family', 'settings', 'samaké', 'now', 'heads', 'the', 'ministry', 'in', 'charge', 'of', 'women', 's', 'affairs', 'in', 'the', 'transitional', 'government', 'which', 'opens', 'new', 'possibilities', 'for', 'action', 'a', '<Number>', 'national', 'institute', 'of', 'statistics', 'demographic', 'and', 'health', 'survey', 'showed', 'that', 'one', 'in', 'two', 'malian', 'women', 'aged', '<Number>', 'to', '<Number>', 'had', 'suffered', 'acts', 'of', 'physical', 'or', 'sexual', 'violence', 'the', 'same', 'proportion', 'faces', 'emotional', 'physical', 'and', 'or', 'sexual', 'abuse', 'in', 'the', 'context', 'of', 'relationship', 'break', 'ups', 'the', 'survey', 'also', 'found', 'that', '79%', 'of', 'women', 'and', '47%', 'of', 'men', 'considered', 'physical', 'violence', 'by', 'a', 'man', 'against', 'his', 'female', 'partner', 'to', 'be', 'normal', 'and', 'justifiable', 'women', 's', 'organisations', 'have', 'been', 'vocal', 'about', 'the', 'widespread', 'nature', 'of', 'violence', 'against', 'women', 'but', 'despite', 'their', 'repeated', 'appeals', 'for', 'reforms', 'there', 's', 'been', 'little', 'progress', 'towards', 'improving', 'the', 'country', 's', 'framework', 'to', 'protect', 'women', 's', 'lives', 'and', 'rights', 'a', '<Number>', 'draft', 'law', 'opposing', 'violence', 'against', 'women', 'proposed', 'by', 'women', 's', 'and', 'other', 'civil', 'society', 'organisations', 'wasn', 't', 'adopted', 'partly', 'due', 'to', 'pressure', 'by', 'powerful', 'religious', 'groups', 'to', 'many', 'this', 'felt', 'like', 'déjà', 'vu:', 'in', '<Number>', 'the', 'national', 'assembly', 'of', 'mali', 'had', 'passed', 'a', 'family', 'law', 'that', 'leaned', 'towards', 'improving', 'women', 's', 'rights', 'and', 'advancing', 'gender', 'equality', 'but', 'this', 'law', 'was', 'never', 'enacted', 'by', 'the', 'executive', 'pressure', 'from', 'religious', 'groups', 'led', 'the', 'administration', 'of', 'then', 'president', 'amadou', 'toumani', 'touré', 'to', 'send', 'the', 'text', 'back', 'to', 'parliament', 'the', 'version', 'signed', 'by', 'the', 'executive', 'two', 'years', 'later', 'removed', 'all', 'progressive', 'dispositions', 'for', 'women', 's', 'rights', 'a', '<Number>', 'draft', 'law', 'on', 'violence', 'against', 'women', 'wasn', 't', 'adopted', 'partly', 'due', 'to', 'pressure', 'by', 'religious', 'groups', 'the', 'september', '<Number>', 'protest', 'revived', 'an', 'old', 'conversation', 'on', 'societal', 'factors', 'excusing', 'violence', 'against', 'women', 'and', 'the', 'legal', 'vacuum', 'protecting', 'perpetrators', 'this', 'created', 'an', 'opportunity', 'for', 'transition', 'authorities', 'to', 'do', 'the', 'right', 'thing', 'on', '<Number>', 'october', 'the', 'transition', 'charter', 'was', 'released', 'setting', 'out', 'the', 'steps', 'and', 'priorities', 'of', 'the', '<Number>', 'month', 'transition', 'following', 'the', 'august', 'coup', 'given', 'the', 'complexity', 'of', 'the', 'crisis', 'and', 'the', 'limited', 'timeframe', 'choices', 'had', 'to', 'be', 'made', 'and', 'gender', 'inequality', 'wasn', 't', 'included', 'in', 'the', 'roadmap', 's', 'six', 'priority', 'areas', 'nonetheless', 'by', 'enacting', 'long', 'overdue', 'policies', 'and', 'laws', 'that', 'improve', 'the', 'safety', 'of', 'millions', 'of', 'women', 'and', 'girls', 'reform', 'can', 'be', 'achieved', 'during', 'the', 'transition', 'political', 'courage', 'will', 'be', 'needed', 'to', 'carry', 'an', 'agenda', 'of', 'social', 'justice', 'and', 'women', 's', 'rights', 'in', 'a', 'country', 'where', 'this', 'routinely', 'triggers', 'resistance', 'by', 'powerful', 'conservative', 'forces', 'in', 'october', 'the', 'appointment', 'of', 'an', '84%', 'male', 'transitional', 'government', 'by', 'an', 'all', 'male', 'leadership', 'was', 'met', 'with', 'criticism', 'it', 'fell', 'short', 'of', 'the', 'obligation', 'in', 'a', '<Number>', 'law', 'to', 'include', 'at', 'least', '30%', 'of', 'each', 'sex', 'in', 'any', 'nominations', 'for', 'public', 'office', 'the', 'backlash', 'led', 'to', 'the', 'transitional', 'government', 'making', 'the', 'inclusion', 'of', 'women', 'a', 'requirement', 'for', 'all', 'groups', 'to', 'be', 'represented', 'in', 'the', 'national', 'transitional', 'council', 'the', 'council', 'will', 'probably', 'involve', 'a', 'higher', 'proportion', 'of', 'women', 'than', 'any', 'previous', 'legislature', 'in', 'mali', 's', 'history', 'this', 'creates', 'a', 'unique', 'opportunity', 'to', 'raise', 'issues', 'affecting', 'women', 'on', 'the', 'national', 'agenda', 'a', 'social', 'justice', 'and', 'women', 's', 'rights', 'agenda', 'triggers', 'resistance', 'by', 'powerful', 'conservative', 'forces', 'however', 'more', 'women', 'in', 'the', 'legislature', 'won', 't', 'necessarily', 'translate', 'into', 'greater', 'gender', 'equality', 'in', 'the', 'country', 's', 'laws', 'these', 'women', 'will', 'need', 'to', 'drive', 'a', 'violence', 'against', 'women', 'agenda', 'which', 'calls', 'for', 'a', 'clear', 'sense', 'of', 'purpose', 'determination', 'and', 'support', 'from', 'women', 's', 'organisations', 'and', 'male', 'allies', 'in', 'and', 'outside', 'government', 'without', 'a', 'specific', 'law', 'on', 'violence', 'against', 'women', 'victims', 'have', 'few', 'options', 'to', 'seek', 'justice', 'especially', 'as', 'society', 'stigmatises', 'those', 'who', 'speak', 'up', 'there', 'is', 'also', 'nothing', 'to', 'deter', 'perpetrators', 'passing', 'a', 'law', 'would', 'help', 'fight', 'impunity', 'but', 'it', 'won', 't', 'be', 'enough', 'effective', 'implementation', 'must', 'follow', 'including', 'in', 'often', 'overlooked', 'rural', 'areas', 'women', 'will', 'need', 'to', 'be', 'made', 'aware', 'of', 'their', 'rights', 'and', 'political', 'leadership', 'and', 'drive', 'will', 'be', 'essential', 'to', 'getting', 'justice', 'and', 'security', 'personnel', 'on', 'board', 'this', 'will', 'take', 'profound', 'mindset', 'changes', 'in', 'institutional', 'cultures', 'that', 'have', 'minimised', 'violence', 'against', 'women', 'as', 'a', '‘private', 'issue', 'such', 'shifts', 'are', 'only', 'possible', 'if', 'political', 'commitment', 'to', 'improve', 'the', 'safety', 'status', 'and', 'overall', 'conditions', 'of', 'women', 'remains', 'high', 'the', 'transition', 'period', 'could', 'set', 'the', 'tone', 'and', 'create', 'a', 'new', 'norm', 'for', 'subsequent', 'governments', 'to', 'live', 'by', 'transitional', 'authorities', 'should', 'champion', 'the', 'agenda', 'for', 'better', 'representation', 'of', 'women', 'in', 'all', 'areas', 'of', 'public', 'service', 'this', 'means', 'observing', 'the', '30%', 'minimum', 'requirement', 'in', 'appointments', 'during', 'the', 'transition', 'and', 'paving', 'the', 'way', 'for', 'it', 'to', 'be', 'mandatory', 'in', 'the', 'revised', 'electoral', 'framework', 'it', 'means', 'reviewing', 'public', 'administration', 'recruitment', 'practices', 'to', 'increase', 'the', 'presence', 'of', 'women', 'and', 'offer', 'them', 'better', 'career', 'prospects', 'measures', 'are', 'also', 'needed', 'to', 'improve', 'girls', 'access', 'to', 'advanced', 'education', 'that', 'prepares', 'them', 'for', 'leadership', 'positions', 'addressing', 'violence', 'against', 'women', 'in', 'mali', 'will', 'require', 'more', 'than', 'a', 'law', 'society', 's', 'views', 'on', 'women', 'need', 'to', 'change', 'and', 'the', 'structural', 'power', 'imbalances', 'between', 'women', 'and', 'men', 'must', 'be', 'rectified', 'to', 'achieve', 'this', 'girls', 'need', 'better', 'access', 'to', 'education', 'and', 'women', 'need', 'income', 'generating', 'opportunities', 'and', 'representation', 'in', 'all', 'areas', 'of', 'public', 'and', 'private', 'sectors', 'including', 'leadership', 'ornella', 'moderan', 'head', 'sahel', 'programme', 'iss', 'bamako', 'this', 'article', 'was', 'produced', 'with', 'support', 'from', 'the', 'uk', 'conflict', 'stability', 'and', 'security', 'fund', 'and', 'the', 'hanns', 'seidel', 'foundation', 'in', 'south', 'africa', 'daily', 'maverick', 'has', 'exclusive', 'rights', 'to', 're', 'publish', 'iss', 'today', 'articles', 'for', 'media', 'based', 'outside', 'south', 'africa', 'and', 'queries', 'about', 'our', 're', 'publishing', 'policy', 'email', 'us', 'photo:', 'minusma', 'harandane', 'dicko', 'on', '<Number>', 'september', 'hundreds', 'of', 'malian', 'women', 'and', 'some', 'men', 'rallied', 'in', 'bamako', 'to', 'protest', 'against', 'the', 'trivialisation', 'of', 'violence', 'against', 'women', 'this', 'was', 'prompted', 'by', 'the', 'revelation', 'on', 'social', 'media', 'of', 'alleged', 'intimate', 'partner', 'abuse', 'involving', 'a', 'famous', 'malian', 'artist', 'the', 'story', 'broke', 'just', 'two', 'months', 'before', 'the', '<Number>', 'november', 'annual', 'international', 'day', 'for', 'the', 'elimination', 'of', 'violence', 'against', 'women', 'the', 'case', 'now', 'pending', 'in', 'court', 'sheds', 'light', 'on', 'a', 'society', 'wide', 'problem', 'that', 's', 'often', 'silenced', 'by', 'deeply', 'entrenched', 'social', 'norms', 'and', 'religious', 'discourse', 'fear', 'on', 'the', 'part', 'of', 'the', 'political', 'elite', 'to', 'confront', 'the', 'divisive', 'issue', 'makes', 'matters', 'worse', 'official', 'figures', 'on', 'violence', 'against', 'women', 'are', 'hard', 'to', 'find', 'in', 'mali', '–', 'even', 'more', 'so', 'specific', 'numbers', 'on', 'domestic', 'and', 'intimate', 'partner', 'violence', 'the', 'country', 's', 'statistical', 'capacities', 'are', 'generally', 'weak', 'but', 'this', 'also', 'indicates', 'the', 'low', 'priority', 'given', 'to', 'issues', 'affecting', 'women', 'especially', 'gender', 'based', 'violence', 'the', 'little', 'data', 'that', 'is', 'available', 'including', 'through', 'humanitarian', 'protection', 'monitoring', 'mechanisms', 'emphasises', 'conflict', 'related', 'sexual', 'and', 'gender', 'based', 'violence', 'this', 'should', 'be', 'tracked', 'and', 'addressed', 'as', 'mali', 'struggles', 'with', 'a', 'multidimensional', 'crisis', 'in', 'its', 'central', 'and', 'northern', 'regions', 'but', 'violence', 'against', 'women', 'goes', 'beyond', 'this', 'conflict', 'despite', 'repeated', 'appeals', 'for', 'reform', 'there', 's', 'been', 'little', 'progress', 'on', 'improving', 'women', 's', 'lives', 'and', 'rights', 'in', 'a', '<Number>', 'interview', 'then', 'chair', 'of', 'the', 'national', 'chapter', 'of', 'women', 'in', 'law', 'and', 'development', 'in', 'africa', 'bouaré', 'bintou', 'founé', 'samaké', 'said', '85%', 'of', 'the', 'violence', 'against', 'women', 'cases', 'the', 'organisation', 'documented', 'occurred', 'in', 'family', 'settings', 'samaké', 'now', 'heads', 'the', 'ministry', 'in', 'charge', 'of', 'women', 's', 'affairs', 'in', 'the', 'transitional', 'government', 'which', 'opens', 'new', 'possibilities', 'for', 'action', 'a', '<Number>', 'national', 'institute', 'of', 'statistics', 'demographic', 'and', 'health', 'survey', 'showed', 'that', 'one', 'in', 'two', 'malian', 'women', 'aged', '<Number>', 'to', '<Number>', 'had', 'suffered', 'acts', 'of', 'physical', 'or', 'sexual', 'violence', 'the', 'same', 'proportion', 'faces', 'emotional', 'physical', 'and', 'or', 'sexual', 'abuse', 'in', 'the', 'context', 'of', 'relationship', 'break', 'ups', 'the', 'survey', 'also', 'found', 'that', '79%', 'of', 'women', 'and', '47%', 'of', 'men', 'considered', 'physical', 'violence', 'by', 'a', 'man', 'against', 'his', 'female', 'partner', 'to', 'be', 'normal', 'and', 'justifiable', 'women', 's', 'organisations', 'have', 'been', 'vocal', 'about', 'the', 'widespread', 'nature', 'of', 'violence', 'against', 'women', 'but', 'despite', 'their', 'repeated', 'appeals', 'for', 'reforms', 'there', 's', 'been', 'little', 'progress', 'towards', 'improving', 'the', 'country', 's', 'framework', 'to', 'protect', 'women', 's', 'lives', 'and', 'rights', 'a', '<Number>', 'draft', 'law', 'opposing', 'violence', 'against', 'women', 'proposed', 'by', 'women', 's', 'and', 'other', 'civil', 'society', 'organisations', 'wasn', 't', 'adopted', 'partly', 'due', 'to', 'pressure', 'by', 'powerful', 'religious', 'groups', 'to', 'many', 'this', 'felt', 'like', 'déjà', 'vu:', 'in', '<Number>', 'the', 'national', 'assembly', 'of', 'mali', 'had', 'passed', 'a', 'family', 'law', 'that', 'leaned', 'towards', 'improving', 'women', 's', 'rights', 'and', 'advancing', 'gender', 'equality', 'but', 'this', 'law', 'was', 'never', 'enacted', 'by', 'the', 'executive', 'pressure', 'from', 'religious', 'groups', 'led', 'the', 'administration', 'of', 'then', 'president', 'amadou', 'toumani', 'touré', 'to', 'send', 'the', 'text', 'back', 'to', 'parliament', 'the', 'version', 'signed', 'by', 'the', 'executive', 'two', 'years', 'later', 'removed', 'all', 'progressive', 'dispositions', 'for', 'women', 's', 'rights', 'a', '<Number>', 'draft', 'law', 'on', 'violence', 'against', 'women', 'wasn', 't', 'adopted', 'partly', 'due', 'to', 'pressure', 'by', 'religious', 'groups', 'the', 'september', '<Number>', 'protest', 'revived', 'an', 'old', 'conversation', 'on', 'societal', 'factors', 'excusing', 'violence', 'against', 'women', 'and', 'the', 'legal', 'vacuum', 'protecting', 'perpetrators', 'this', 'created', 'an', 'opportunity', 'for', 'transition', 'authorities', 'to', 'do', 'the', 'right', 'thing', 'on', '<Number>', 'october', 'the', 'transition', 'charter', 'was', 'released', 'setting', 'out', 'the', 'steps', 'and', 'priorities', 'of', 'the', '<Number>', 'month', 'transition', 'following', 'the', 'august', 'coup', 'given', 'the', 'complexity', 'of', 'the', 'crisis', 'and', 'the', 'limited', 'timeframe', 'choices', 'had', 'to', 'be', 'made', 'and', 'gender', 'inequality', 'wasn', 't', 'included', 'in', 'the', 'roadmap', 's', 'six', 'priority', 'areas', 'nonetheless', 'by', 'enacting', 'long', 'overdue', 'policies', 'and', 'laws', 'that', 'improve', 'the', 'safety', 'of', 'millions', 'of', 'women', 'and', 'girls', 'reform', 'can', 'be', 'achieved', 'during', 'the', 'transition', 'political', 'courage', 'will', 'be', 'needed', 'to', 'carry', 'an', 'agenda', 'of', 'social', 'justice', 'and', 'women', 's', 'rights', 'in', 'a', 'country', 'where', 'this', 'routinely', 'triggers', 'resistance', 'by', 'powerful', 'conservative', 'forces', 'in', 'october', 'the', 'appointment', 'of', 'an', '84%', 'male', 'transitional', 'government', 'by', 'an', 'all', 'male', 'leadership', 'was', 'met', 'with', 'criticism', 'it', 'fell', 'short', 'of', 'the', 'obligation', 'in', 'a', '<Number>', 'law', 'to', 'include', 'at', 'least', '30%', 'of', 'each', 'sex', 'in', 'any', 'nominations', 'for', 'public', 'office', 'the', 'backlash', 'led', 'to', 'the', 'transitional', 'government', 'making', 'the', 'inclusion', 'of', 'women', 'a', 'requirement', 'for', 'all', 'groups', 'to', 'be', 'represented', 'in', 'the', 'national', 'transitional', 'council', 'the', 'council', 'will', 'probably', 'involve', 'a', 'higher', 'proportion', 'of', 'women', 'than', 'any', 'previous', 'legislature', 'in', 'mali', 's', 'history', 'this', 'creates', 'a', 'unique', 'opportunity', 'to', 'raise', 'issues', 'affecting', 'women', 'on', 'the', 'national', 'agenda', 'a', 'social', 'justice', 'and', 'women', 's', 'rights', 'agenda', 'triggers', 'resistance', 'by', 'powerful', 'conservative', 'forces', 'however', 'more', 'women', 'in', 'the', 'legislature', 'won', 't', 'necessarily', 'translate', 'into', 'greater', 'gender', 'equality', 'in', 'the', 'country', 's', 'laws', 'these', 'women', 'will', 'need', 'to', 'drive', 'a', 'violence', 'against', 'women', 'agenda', 'which', 'calls', 'for', 'a', 'clear', 'sense', 'of', 'purpose', 'determination', 'and', 'support', 'from', 'women', 's', 'organisations', 'and', 'male', 'allies', 'in', 'and', 'outside', 'government', 'without', 'a', 'specific', 'law', 'on', 'violence', 'against', 'women', 'victims', 'have', 'few', 'options', 'to', 'seek', 'justice', 'especially', 'as', 'society', 'stigmatises', 'those', 'who', 'speak', 'up', 'there', 'is', 'also', 'nothing', 'to', 'deter', 'perpetrators', 'passing', 'a', 'law', 'would', 'help', 'fight', 'impunity', 'but', 'it', 'won', 't', 'be', 'enough', 'effective', 'implementation', 'must', 'follow', 'including', 'in', 'often', 'overlooked', 'rural', 'areas', 'women', 'will', 'need', 'to', 'be', 'made', 'aware', 'of', 'their', 'rights', 'and', 'political', 'leadership', 'and', 'drive', 'will', 'be', 'essential', 'to', 'getting', 'justice', 'and', 'security', 'personnel', 'on', 'board', 'this', 'will', 'take', 'profound', 'mindset', 'changes', 'in', 'institutional', 'cultures', 'that', 'have', 'minimised', 'violence', 'against', 'women', 'as', 'a', '‘private', 'issue', 'such', 'shifts', 'are', 'only', 'possible', 'if', 'political', 'commitment', 'to', 'improve', 'the', 'safety', 'status', 'and', 'overall', 'conditions', 'of', 'women', 'remains', 'high', 'the', 'transition', 'period', 'could', 'set', 'the', 'tone', 'and', 'create', 'a', 'new', 'norm', 'for', 'subsequent', 'governments', 'to', 'live', 'by', 'transitional', 'authorities', 'should', 'champion', 'the', 'agenda', 'for', 'better', 'representation', 'of', 'women', 'in', 'all', 'areas', 'of', 'public', 'service', 'this', 'means', 'observing', 'the', '30%', 'minimum', 'requirement', 'in', 'appointments', 'during', 'the', 'transition', 'and', 'paving', 'the', 'way', 'for', 'it', 'to', 'be', 'mandatory', 'in', 'the', 'revised', 'electoral', 'framework', 'it', 'means', 'reviewing', 'public', 'administration', 'recruitment', 'practices', 'to', 'increase', 'the', 'presence', 'of', 'women', 'and', 'offer', 'them', 'better', 'career', 'prospects', 'measures', 'are', 'also', 'needed', 'to', 'improve', 'girls', 'access', 'to', 'advanced', 'education', 'that', 'prepares', 'them', 'for', 'leadership', 'positions', 'addressing', 'violence', 'against', 'women', 'in', 'mali', 'will', 'require', 'more', 'than', 'a', 'law', 'society', 's', 'views', 'on', 'women', 'need', 'to', 'change', 'and', 'the', 'structural', 'power', 'imbalances', 'between', 'women', 'and', 'men', 'must', 'be', 'rectified', 'to', 'achieve', 'this', 'girls', 'need', 'better', 'access', 'to', 'education', 'and', 'women', 'need', 'income', 'generating', 'opportunities', 'and', 'representation', 'in', 'all', 'areas', 'of', 'public', 'and', 'private', 'sectors', 'including', 'leadership', 'ornella', 'moderan', 'head', 'sahel', 'programme', 'iss', 'bamako', 'this', 'article', 'was', 'produced', 'with', 'support', 'from', 'the', 'uk', 'conflict', 'stability', 'and', 'security', 'fund', 'and', 'the', 'hanns', 'seidel', 'foundation', 'in', 'south', 'africa', 'daily', 'maverick', 'has', 'exclusive', 'rights', 'to', 're', 'publish', 'iss', 'today', 'articles', 'for', 'media', 'based', 'outside', 'south', 'africa', 'and', 'queries', 'about', 'our', 're', 'publishing', 'policy', 'email', 'us', 'photo:', 'minusma', 'harandane', 'dicko', 'you', 'can', 'also', 'subscribe', 'to', 'events', 'media', 'releases', 'iss', 'today', 'and', 'specific', 'topics', 'get', 'the', 'iss', 'weekly', 'to', 'stay', 'ahead', 'of', 'africa', 's', 'human', 'security', 'challenges']\n"
     ]
    }
   ],
   "source": [
    "# tockenizzation of the corpus \n",
    "def tokenize(corpus):\n",
    "\n",
    "    # The backslash is an escape character to let the interpreter know we mean to use it as a string literal (- or ') \n",
    "    re_punctuation_string = '[\\s,/.?\\-\\'`’]'  # split on spaces (\\s),  commas (,), slash (/), fullstop (.), question marks (?), hyphens (-), and apostrophe (').\n",
    "    tokenized = re.split(re_punctuation_string, corpus) # in python's regex, [...] is an alternative to writing .|.|.\n",
    "    tokenized = list(filter(None, tokenized)) # remove empty strings from list \n",
    "    tokenized = [token.lower() for token in tokenized] # Lowercasing everything\n",
    "    tokenized = ['<Number>' if token.isdigit() else token for token in tokenized ]  # converting all the numbers to <Number>\n",
    "\n",
    "\n",
    "    return tokenized    \n",
    "\n",
    "corpus = data_input['Content'][0]        \n",
    "tokenized_corpus = tokenize(corpus)\n",
    "print(tokenized_corpus)"
   ]
  },
  {
   "cell_type": "code",
   "execution_count": 77,
   "metadata": {},
   "outputs": [
    {
     "output_type": "stream",
     "name": "stdout",
     "text": [
      "the            127       \nand            83        \nwomen          82        \nto             70        \nof             69        \nin             62        \na              44        \ns              39        \nviolence       36        \nagainst        30        \n<Number>       29        \non             28        \nfor            28        \nthis           26        \nby             26        \nbe             22        \nlaw            18        \nthat           16        \nrights         16        \nwill           14        \ntransition     12        \nwas            10        \nmali           10        \nbut            10        \ngender         10        \nnational       10        \ntransitional   10        \nt              10        \nall            10        \nan             10        \nagenda         10        \nneed           10        \nalso           9         \nsocial         8         \nsociety        8         \nreligious      8         \npolitical      8         \nare            8         \ncountry        8         \ngovernment     8         \ngroups         8         \nareas          8         \njustice        8         \nleadership     8         \nit             8         \npublic         8         \nafrica         7         \nmalian         6         \nmen            6         \npartner        6         \ntwo            6         \nmore           6         \nbased          6         \nlittle         6         \nincluding      6         \nconflict       6         \nsexual         6         \nas             6         \nwith           6         \nthere          6         \nbeen           6         \nimproving      6         \nhad            6         \nphysical       6         \norganisations  6         \nhave           6         \nwasn           6         \npressure       6         \npowerful       6         \nfrom           6         \nimprove        6         \ngirls          6         \nmale           6         \nbetter         6         \niss            6         \nmedia          5         \nspecific       5         \nsecurity       5         \nseptember      4         \nbamako         4         \nprotest        4         \nintimate       4         \nabuse          4         \nnow            4         \noften          4         \nissue          4         \npriority       4         \ngiven          4         \nissues         4         \naffecting      4         \nespecially     4         \nis             4         \nshould         4         \ncrisis         4         \ndespite        4         \nrepeated       4         \nappeals        4         \nreform         4         \nprogress       4         \nlives          4         \nthen           4         \nsamaké         4         \nfamily         4         \nwhich          4         \nnew            4         \nsurvey         4         \nor             4         \nproportion     4         \nabout          4         \ntheir          4         \ntowards        4         \nframework      4         \ndraft          4         \nadopted        4         \npartly         4         \ndue            4         \nequality       4         \nexecutive      4         \nled            4         \nadministration 4         \nperpetrators   4         \nopportunity    4         \nauthorities    4         \noctober        4         \nmade           4         \nlaws           4         \nsafety         4         \nduring         4         \nneeded         4         \ntriggers       4         \nresistance     4         \nconservative   4         \nforces         4         \n30%            4         \nany            4         \nrequirement    4         \ncouncil        4         \nthan           4         \nlegislature    4         \nwon            4         \ndrive          4         \nsupport        4         \noutside        4         \nmust           4         \nrepresentation 4         \nmeans          4         \nthem           4         \naccess         4         \neducation      4         \nsouth          4         \nre             4         \ncan            3         \ntoday          3         \nhundreds       2         \nsome           2         \nrallied        2         \ntrivialisation 2         \nprompted       2         \nrevelation     2         \nalleged        2         \ninvolving      2         \nfamous         2         \nartist         2         \nstory          2         \nbroke          2         \njust           2         \nmonths         2         \nbefore         2         \nnovember       2         \nannual         2         \ninternational  2         \nday            2         \nelimination    2         \ncase           2         \npending        2         \ncourt          2         \nsheds          2         \nlight          2         \nwide           2         \nproblem        2         \nsilenced       2         \ndeeply         2         \nentrenched     2         \nnorms          2         \ndiscourse      2         \nfear           2         \npart           2         \nelite          2         \nconfront       2         \ndivisive       2         \nmakes          2         \nmatters        2         \nworse          2         \nofficial       2         \nfigures        2         \nhard           2         \nfind           2         \n–              2         \neven           2         \nso             2         \nnumbers        2         \ndomestic       2         \nstatistical    2         \ncapacities     2         \ngenerally      2         \nweak           2         \nindicates      2         \nlow            2         \ndata           2         \navailable      2         \nthrough        2         \nhumanitarian   2         \nprotection     2         \nmonitoring     2         \nmechanisms     2         \nemphasises     2         \nrelated        2         \ntracked        2         \naddressed      2         \nstruggles      2         \nmultidimensional 2         \nits            2         \ncentral        2         \nnorthern       2         \nregions        2         \ngoes           2         \nbeyond         2         \ninterview      2         \nchair          2         \nchapter        2         \ndevelopment    2         \nbouaré         2         \nbintou         2         \nfouné          2         \nsaid           2         \n85%            2         \ncases          2         \norganisation   2         \ndocumented     2         \noccurred       2         \nsettings       2         \nheads          2         \nministry       2         \ncharge         2         \naffairs        2         \nopens          2         \npossibilities  2         \naction         2         \ninstitute      2         \nstatistics     2         \ndemographic    2         \nhealth         2         \nshowed         2         \none            2         \naged           2         \nsuffered       2         \nacts           2         \nsame           2         \nfaces          2         \nemotional      2         \ncontext        2         \nrelationship   2         \nbreak          2         \nups            2         \nfound          2         \n79%            2         \n47%            2         \nconsidered     2         \nman            2         \nhis            2         \nfemale         2         \nnormal         2         \njustifiable    2         \nvocal          2         \nwidespread     2         \nnature         2         \nreforms        2         \nprotect        2         \nopposing       2         \nproposed       2         \nother          2         \ncivil          2         \nmany           2         \nfelt           2         \nlike           2         \ndéjà           2         \nvu:            2         \nassembly       2         \npassed         2         \nleaned         2         \nadvancing      2         \nnever          2         \nenacted        2         \npresident      2         \namadou         2         \ntoumani        2         \ntouré          2         \nsend           2         \ntext           2         \nback           2         \nparliament     2         \nversion        2         \nsigned         2         \nyears          2         \nlater          2         \nremoved        2         \nprogressive    2         \ndispositions   2         \nrevived        2         \nold            2         \nconversation   2         \nsocietal       2         \nfactors        2         \nexcusing       2         \nlegal          2         \nvacuum         2         \nprotecting     2         \ncreated        2         \ndo             2         \nright          2         \nthing          2         \ncharter        2         \nreleased       2         \nsetting        2         \nout            2         \nsteps          2         \npriorities     2         \nmonth          2         \nfollowing      2         \naugust         2         \ncoup           2         \ncomplexity     2         \nlimited        2         \ntimeframe      2         \nchoices        2         \ninequality     2         \nincluded       2         \nroadmap        2         \nsix            2         \nnonetheless    2         \nenacting       2         \nlong           2         \noverdue        2         \npolicies       2         \nmillions       2         \nachieved       2         \ncourage        2         \ncarry          2         \nwhere          2         \nroutinely      2         \nappointment    2         \n84%            2         \nmet            2         \ncriticism      2         \nfell           2         \nshort          2         \nobligation     2         \ninclude        2         \nat             2         \nleast          2         \neach           2         \nsex            2         \nnominations    2         \noffice         2         \nbacklash       2         \nmaking         2         \ninclusion      2         \nrepresented    2         \nprobably       2         \ninvolve        2         \nhigher         2         \nprevious       2         \nhistory        2         \ncreates        2         \nunique         2         \nraise          2         \nhowever        2         \nnecessarily    2         \ntranslate      2         \ninto           2         \ngreater        2         \nthese          2         \ncalls          2         \nclear          2         \nsense          2         \npurpose        2         \ndetermination  2         \nallies         2         \nwithout        2         \nvictims        2         \nfew            2         \noptions        2         \nseek           2         \nstigmatises    2         \nthose          2         \nwho            2         \nspeak          2         \nup             2         \nnothing        2         \ndeter          2         \npassing        2         \nwould          2         \nhelp           2         \nfight          2         \nimpunity       2         \nenough         2         \neffective      2         \nimplementation 2         \nfollow         2         \noverlooked     2         \nrural          2         \naware          2         \nessential      2         \ngetting        2         \npersonnel      2         \nboard          2         \ntake           2         \nprofound       2         \nmindset        2         \nchanges        2         \ninstitutional  2         \ncultures       2         \nminimised      2         \n‘private       2         \nsuch           2         \nshifts         2         \nonly           2         \npossible       2         \nif             2         \ncommitment     2         \nstatus         2         \noverall        2         \nconditions     2         \nremains        2         \nhigh           2         \nperiod         2         \ncould          2         \nset            2         \ntone           2         \ncreate         2         \nnorm           2         \nsubsequent     2         \ngovernments    2         \nlive           2         \nchampion       2         \nservice        2         \nobserving      2         \nminimum        2         \nappointments   2         \npaving         2         \nway            2         \nmandatory      2         \nrevised        2         \nelectoral      2         \nreviewing      2         \nrecruitment    2         \npractices      2         \nincrease       2         \npresence       2         \noffer          2         \ncareer         2         \nprospects      2         \nmeasures       2         \nadvanced       2         \nprepares       2         \npositions      2         \naddressing     2         \nrequire        2         \nviews          2         \nchange         2         \nstructural     2         \npower          2         \nimbalances     2         \nbetween        2         \nrectified      2         \nachieve        2         \nincome         2         \ngenerating     2         \nopportunities  2         \nprivate        2         \nsectors        2         \nornella        2         \nmoderan        2         \nhead           2         \nsahel          2         \nprogramme      2         \narticle        2         \nproduced       2         \nuk             2         \nstability      2         \nfund           2         \nhanns          2         \nseidel         2         \nfoundation     2         \ndaily          2         \nmaverick       2         \nhas            2         \nexclusive      2         \npublish        2         \narticles       2         \nqueries        2         \nour            2         \npublishing     2         \npolicy         2         \nemail          2         \nus             2         \nphoto:         2         \nminusma        2         \nharandane      2         \ndicko          2         \nyou            1         \nsubscribe      1         \nevents         1         \nreleases       1         \ntopics         1         \nget            1         \nweekly         1         \nstay           1         \nahead          1         \nhuman          1         \nchallenges     1         \n"
     ]
    }
   ],
   "source": [
    "# function to count the tockenization\n",
    "def distinct_tokens_count(tokenized_corpus):\n",
    "\n",
    "    distinct_tokens_count = {}\n",
    "    for t_review in tokenized_corpus:\n",
    "\n",
    "        if t_review not in distinct_tokens_count.keys():\n",
    "            distinct_tokens_count[t_review] = 1\n",
    "        else:\n",
    "            distinct_tokens_count[t_review] += 1\n",
    "\n",
    "    # Sort the key value to greter to smaller\n",
    "    distinct_tokens_count = sorted(distinct_tokens_count.items(), key=itemgetter(1), reverse=True) \n",
    "\n",
    "    for token, count in distinct_tokens_count:\n",
    "        print(\"{:<14s} {:<10d}\".format(token, count))\n",
    "    return distinct_tokens_count\n",
    "\n",
    "a = distinct_tokens_count(tokenized_corpus)"
   ]
  },
  {
   "cell_type": "code",
   "execution_count": null,
   "metadata": {},
   "outputs": [],
   "source": []
  },
  {
   "cell_type": "code",
   "execution_count": 55,
   "metadata": {},
   "outputs": [
    {
     "output_type": "stream",
     "name": "stdout",
     "text": [
      "{'one': 5, 'three': 2, 'five': 1, 'two': 10, 'four': 8}\n[('two', 10), ('four', 8), ('one', 5), ('three', 2), ('five', 1)]\n"
     ]
    }
   ],
   "source": []
  },
  {
   "source": [
    "Pre trained BERT models\n",
    "\n",
    "https://pypi.org/project/pytorch-pretrained-bert/\n",
    "\n",
    "https://pytorch.org/hub/huggingface_pytorch-transformers/\n",
    "\n",
    "https://medium.com/@aniruddha.choudhury94/part-2-bert-fine-tuning-tutorial-with-pytorch-for-text-classification-on-the-corpus-of-linguistic-18057ce330e1\n"
   ],
   "cell_type": "markdown",
   "metadata": {}
  }
 ]
}