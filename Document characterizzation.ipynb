{
 "metadata": {
  "language_info": {
   "codemirror_mode": {
    "name": "ipython",
    "version": 3
   },
   "file_extension": ".py",
   "mimetype": "text/x-python",
   "name": "python",
   "nbconvert_exporter": "python",
   "pygments_lexer": "ipython3",
   "version": "3.8.6-final"
  },
  "orig_nbformat": 2,
  "kernelspec": {
   "name": "python3",
   "display_name": "Python 3"
  }
 },
 "nbformat": 4,
 "nbformat_minor": 2,
 "cells": [
  {
   "source": [
    "# Document Chracterizzation\n"
   ],
   "cell_type": "markdown",
   "metadata": {}
  },
  {
   "source": [
    "## Import of relevant libraries "
   ],
   "cell_type": "markdown",
   "metadata": {}
  },
  {
   "cell_type": "code",
   "execution_count": 1,
   "metadata": {},
   "outputs": [],
   "source": [
    "# Import of all the libraries used for the project\n",
    "import os\n",
    "import shutil\n",
    "import numpy as np\n",
    "import pandas as pd\n",
    "import requests\n",
    "from bs4 import BeautifulSoup\n",
    "import re\n",
    "from operator import itemgetter"
   ]
  },
  {
   "source": [
    "## Dataset import"
   ],
   "cell_type": "markdown",
   "metadata": {}
  },
  {
   "cell_type": "code",
   "execution_count": 2,
   "metadata": {},
   "outputs": [],
   "source": [
    "# Defined a simple scraper  to go through all the link, visit the page and copy all the txt in the paragraph tag of the HTML file\n",
    "\n",
    "def scraper(input):\n",
    "    # create an empty array\n",
    "    content = []\n",
    "\n",
    "    # for loop on all the links in the dataframe\n",
    "    for i in range(len(input[\"URL\"])):\n",
    "        url = input[\"URL\"][i]\n",
    "        # text = url\n",
    "        text = ' '\n",
    "\n",
    "        # check if actually the url is correct orr not\n",
    "        if not (url.startswith('https://') or url.startswith('http://')):\n",
    "            text += ' Link not good'\n",
    "            content.append(text) \n",
    "            continue\n",
    "        \n",
    "        # Request the url and copy of the HTMl \n",
    "        page = requests.get(url)\n",
    "        \n",
    "        # Check if the response is positive or not, if not set that page was not found \n",
    "        if page.status_code != 200:\n",
    "            text += ' Page not able to find'\n",
    "\n",
    "        # Else take the text from all the p tag of the HTML content  \n",
    "        else:\n",
    "            soup = BeautifulSoup(page.content, 'html.parser')\n",
    "            for p in soup.find_all('p'):\n",
    "                text = text + ' ' + p.text\n",
    "        \n",
    "        content.append(text) \n",
    "    return content"
   ]
  },
  {
   "cell_type": "code",
   "execution_count": 3,
   "metadata": {},
   "outputs": [
    {
     "output_type": "execute_result",
     "data": {
      "text/plain": [
       "                                                   URL              Class  \\\n",
       "0    https://issafrica.org/iss-today/time-to-tackle...  Analytical Report   \n",
       "1    http://www.understandingwar.org/backgrounder/r...  Analytical Report   \n",
       "2    http://www.understandingwar.org/backgrounder/r...  Analytical Report   \n",
       "3    http://www.understandingwar.org/backgrounder/w...  Analytical Report   \n",
       "4    http://www.understandingwar.org/backgrounder/r...  Analytical Report   \n",
       "..                                                 ...                ...   \n",
       "232  https://www.journalism.org/2019/03/26/for-loca...  Analytical Report   \n",
       "233  https://www.journalism.org/2017/10/02/covering...  Analytical Report   \n",
       "234  https://ctc.usma.edu/afghanistans-future-emira...  Analytical Report   \n",
       "235  https://ctc.usma.edu/back-into-the-shadows-the...  Analytical Report   \n",
       "236  https://ctc.usma.edu/stepping-out-from-the-sha...  Analytical Report   \n",
       "\n",
       "                                               Content  \n",
       "0      2020-11-25 On 26 September, hundreds of Mali...  \n",
       "1      By George Barros November 16, 2020 The Kreml...  \n",
       "2      By Ezgi Yazici November 13, 2020 Key Takeawa...  \n",
       "3      By Katherine Lawlor with Brandon Wallace Key...  \n",
       "4      By Isabel Ivanescu and Ezgi Yazici Key Takea...  \n",
       "..                                                 ...  \n",
       "232    Numbers, Facts and Trends Shaping Your World...  \n",
       "233    Numbers, Facts and Trends Shaping Your World...  \n",
       "234    Main Menu Seth G. Jones \\nShare via:\\n\\n\\n\\n...  \n",
       "235    Main Menu Michael Knights \\nShare via:\\n\\n\\n...  \n",
       "236    Main Menu Daniel Milton, Muhammad al-`Ubaydi...  \n",
       "\n",
       "[237 rows x 3 columns]"
      ],
      "text/html": "<div>\n<style scoped>\n    .dataframe tbody tr th:only-of-type {\n        vertical-align: middle;\n    }\n\n    .dataframe tbody tr th {\n        vertical-align: top;\n    }\n\n    .dataframe thead th {\n        text-align: right;\n    }\n</style>\n<table border=\"1\" class=\"dataframe\">\n  <thead>\n    <tr style=\"text-align: right;\">\n      <th></th>\n      <th>URL</th>\n      <th>Class</th>\n      <th>Content</th>\n    </tr>\n  </thead>\n  <tbody>\n    <tr>\n      <th>0</th>\n      <td>https://issafrica.org/iss-today/time-to-tackle...</td>\n      <td>Analytical Report</td>\n      <td>2020-11-25 On 26 September, hundreds of Mali...</td>\n    </tr>\n    <tr>\n      <th>1</th>\n      <td>http://www.understandingwar.org/backgrounder/r...</td>\n      <td>Analytical Report</td>\n      <td>By George Barros November 16, 2020 The Kreml...</td>\n    </tr>\n    <tr>\n      <th>2</th>\n      <td>http://www.understandingwar.org/backgrounder/r...</td>\n      <td>Analytical Report</td>\n      <td>By Ezgi Yazici November 13, 2020 Key Takeawa...</td>\n    </tr>\n    <tr>\n      <th>3</th>\n      <td>http://www.understandingwar.org/backgrounder/w...</td>\n      <td>Analytical Report</td>\n      <td>By Katherine Lawlor with Brandon Wallace Key...</td>\n    </tr>\n    <tr>\n      <th>4</th>\n      <td>http://www.understandingwar.org/backgrounder/r...</td>\n      <td>Analytical Report</td>\n      <td>By Isabel Ivanescu and Ezgi Yazici Key Takea...</td>\n    </tr>\n    <tr>\n      <th>...</th>\n      <td>...</td>\n      <td>...</td>\n      <td>...</td>\n    </tr>\n    <tr>\n      <th>232</th>\n      <td>https://www.journalism.org/2019/03/26/for-loca...</td>\n      <td>Analytical Report</td>\n      <td>Numbers, Facts and Trends Shaping Your World...</td>\n    </tr>\n    <tr>\n      <th>233</th>\n      <td>https://www.journalism.org/2017/10/02/covering...</td>\n      <td>Analytical Report</td>\n      <td>Numbers, Facts and Trends Shaping Your World...</td>\n    </tr>\n    <tr>\n      <th>234</th>\n      <td>https://ctc.usma.edu/afghanistans-future-emira...</td>\n      <td>Analytical Report</td>\n      <td>Main Menu Seth G. Jones \\nShare via:\\n\\n\\n\\n...</td>\n    </tr>\n    <tr>\n      <th>235</th>\n      <td>https://ctc.usma.edu/back-into-the-shadows-the...</td>\n      <td>Analytical Report</td>\n      <td>Main Menu Michael Knights \\nShare via:\\n\\n\\n...</td>\n    </tr>\n    <tr>\n      <th>236</th>\n      <td>https://ctc.usma.edu/stepping-out-from-the-sha...</td>\n      <td>Analytical Report</td>\n      <td>Main Menu Daniel Milton, Muhammad al-`Ubaydi...</td>\n    </tr>\n  </tbody>\n</table>\n<p>237 rows × 3 columns</p>\n</div>"
     },
     "metadata": {},
     "execution_count": 3
    }
   ],
   "source": [
    "## import the CSV file with the labels\n",
    "\n",
    "data_scraper = pd.read_csv('Document Characterisation Data.csv', sep=',')\n",
    "#print(len(data_scraper[\"URL\"]))\n",
    "\n",
    "# Calling the scraper function\n",
    "data = scraper(data_scraper)\n",
    "\n",
    "# Adding the scraped data into the Dataframe  \n",
    "data_scraper['Content'] = data\n",
    "data_scraper"
   ]
  },
  {
   "cell_type": "code",
   "execution_count": 4,
   "metadata": {},
   "outputs": [],
   "source": [
    "# Function to load the files from local drive into Pandas data frame\n",
    "\n",
    "def readFiles (src, fileClass):\n",
    "    src_files = os.listdir(src)\n",
    "    fileType = []\n",
    "    content = []\n",
    "    for i in range(len(src_files)):\n",
    "        fileType.append(fileClass)\n",
    "        glove_file = open(src + src_files[i], \"r\", encoding=\"utf8\")\n",
    "        glove_vectors_list = [word_and_vector.strip() for word_and_vector in glove_file.readlines()]\n",
    "        content.append(\" \".join(glove_vectors_list))\n",
    "    \n",
    "    columns = [\"URL\", \"Class\", \"Content\"]\n",
    "    df = pd.DataFrame(columns=columns)\n",
    "\n",
    "    df[\"URL\"] = src_files\n",
    "    df[\"Class\"] = fileType\n",
    "    df[\"Content\"] = content\n",
    "\n",
    "    return df\n"
   ]
  },
  {
   "cell_type": "code",
   "execution_count": 14,
   "metadata": {},
   "outputs": [
    {
     "output_type": "stream",
     "name": "stdout",
     "text": [
      "5725\n5725\n"
     ]
    },
    {
     "output_type": "execute_result",
     "data": {
      "text/plain": [
       "                                                   URL              Class  \\\n",
       "0    https://issafrica.org/iss-today/time-to-tackle...  Analytical Report   \n",
       "1    http://www.understandingwar.org/backgrounder/r...  Analytical Report   \n",
       "2    http://www.understandingwar.org/backgrounder/r...  Analytical Report   \n",
       "3    http://www.understandingwar.org/backgrounder/w...  Analytical Report   \n",
       "4    http://www.understandingwar.org/backgrounder/r...  Analytical Report   \n",
       "..                                                 ...                ...   \n",
       "413                                 int-rep-o-18-e.txt   Situation Report   \n",
       "414                                 int-rep-o-18-f.txt   Situation Report   \n",
       "415                                 int-rep-o-18-g.txt   Situation Report   \n",
       "416                                 int-rep-o-18-h.txt   Situation Report   \n",
       "417  Summary of Russian press for Wednesday 29 July...   Situation Report   \n",
       "\n",
       "                                               Content  \n",
       "0      2020-11-25 On 26 September, hundreds of Mali...  \n",
       "1      By George Barros November 16, 2020 The Kreml...  \n",
       "2      By Ezgi Yazici November 13, 2020 Key Takeawa...  \n",
       "3      By Katherine Lawlor with Brandon Wallace Key...  \n",
       "4      By Isabel Ivanescu and Ezgi Yazici Key Takea...  \n",
       "..                                                 ...  \n",
       "413  Deputies are investigating after an explosive ...  \n",
       "414  Residents at a Springfield apartment complex w...  \n",
       "415  Several handheld explosive devices were found ...  \n",
       "416  Boulder police taped off the U.S. Bank at Broa...  \n",
       "417  By BBC Monitoring  Khabarovsk protests  Newspa...  \n",
       "\n",
       "[418 rows x 3 columns]"
      ],
      "text/html": "<div>\n<style scoped>\n    .dataframe tbody tr th:only-of-type {\n        vertical-align: middle;\n    }\n\n    .dataframe tbody tr th {\n        vertical-align: top;\n    }\n\n    .dataframe thead th {\n        text-align: right;\n    }\n</style>\n<table border=\"1\" class=\"dataframe\">\n  <thead>\n    <tr style=\"text-align: right;\">\n      <th></th>\n      <th>URL</th>\n      <th>Class</th>\n      <th>Content</th>\n    </tr>\n  </thead>\n  <tbody>\n    <tr>\n      <th>0</th>\n      <td>https://issafrica.org/iss-today/time-to-tackle...</td>\n      <td>Analytical Report</td>\n      <td>2020-11-25 On 26 September, hundreds of Mali...</td>\n    </tr>\n    <tr>\n      <th>1</th>\n      <td>http://www.understandingwar.org/backgrounder/r...</td>\n      <td>Analytical Report</td>\n      <td>By George Barros November 16, 2020 The Kreml...</td>\n    </tr>\n    <tr>\n      <th>2</th>\n      <td>http://www.understandingwar.org/backgrounder/r...</td>\n      <td>Analytical Report</td>\n      <td>By Ezgi Yazici November 13, 2020 Key Takeawa...</td>\n    </tr>\n    <tr>\n      <th>3</th>\n      <td>http://www.understandingwar.org/backgrounder/w...</td>\n      <td>Analytical Report</td>\n      <td>By Katherine Lawlor with Brandon Wallace Key...</td>\n    </tr>\n    <tr>\n      <th>4</th>\n      <td>http://www.understandingwar.org/backgrounder/r...</td>\n      <td>Analytical Report</td>\n      <td>By Isabel Ivanescu and Ezgi Yazici Key Takea...</td>\n    </tr>\n    <tr>\n      <th>...</th>\n      <td>...</td>\n      <td>...</td>\n      <td>...</td>\n    </tr>\n    <tr>\n      <th>413</th>\n      <td>int-rep-o-18-e.txt</td>\n      <td>Situation Report</td>\n      <td>Deputies are investigating after an explosive ...</td>\n    </tr>\n    <tr>\n      <th>414</th>\n      <td>int-rep-o-18-f.txt</td>\n      <td>Situation Report</td>\n      <td>Residents at a Springfield apartment complex w...</td>\n    </tr>\n    <tr>\n      <th>415</th>\n      <td>int-rep-o-18-g.txt</td>\n      <td>Situation Report</td>\n      <td>Several handheld explosive devices were found ...</td>\n    </tr>\n    <tr>\n      <th>416</th>\n      <td>int-rep-o-18-h.txt</td>\n      <td>Situation Report</td>\n      <td>Boulder police taped off the U.S. Bank at Broa...</td>\n    </tr>\n    <tr>\n      <th>417</th>\n      <td>Summary of Russian press for Wednesday 29 July...</td>\n      <td>Situation Report</td>\n      <td>By BBC Monitoring  Khabarovsk protests  Newspa...</td>\n    </tr>\n  </tbody>\n</table>\n<p>418 rows × 3 columns</p>\n</div>"
     },
     "metadata": {},
     "execution_count": 14
    }
   ],
   "source": [
    "src = \"./Data/Analytical Report/\"\n",
    "df_Analytical_Report = readFiles(src, \"Analytical Report\")\n",
    "\n",
    "print(len(df_Analytical_Report['Content'][0]))\n",
    "\n",
    "src = \"./Data/Analytical Report2/\"\n",
    "df_Analytical_Report2 = readFiles(src, \"Analytical Report\")\n",
    "\n",
    "print(len(df_Analytical_Report2['Content'][0]))\n",
    "\n",
    "src = \"./Data/Incident Report/\"\n",
    "df_Incident_Report = readFiles(src, \"Incident Report\")\n",
    "\n",
    "src = \"./Data/Situation Report/\"\n",
    "df_Situation_Report = readFiles(src, \"Situation Report\")\n",
    "\n",
    "toConcat = [data_scraper, df_Analytical_Report, df_Analytical_Report2, df_Incident_Report, df_Situation_Report]\n",
    "\n",
    "data_input = pd.concat(toConcat, ignore_index=True)\n",
    "data_input"
   ]
  },
  {
   "source": [
    "## Experimental Data Analysis "
   ],
   "cell_type": "markdown",
   "metadata": {}
  },
  {
   "source": [
    "### Data frame informations and duplicates Duplicates"
   ],
   "cell_type": "markdown",
   "metadata": {}
  },
  {
   "cell_type": "code",
   "execution_count": 15,
   "metadata": {},
   "outputs": [
    {
     "output_type": "stream",
     "name": "stdout",
     "text": [
      "<class 'pandas.core.frame.DataFrame'>\nRangeIndex: 418 entries, 0 to 417\nData columns (total 3 columns):\n #   Column   Non-Null Count  Dtype \n---  ------   --------------  ----- \n 0   URL      418 non-null    object\n 1   Class    418 non-null    object\n 2   Content  418 non-null    object\ndtypes: object(3)\nmemory usage: 9.9+ KB\n"
     ]
    }
   ],
   "source": [
    "data_input.info()"
   ]
  },
  {
   "cell_type": "code",
   "execution_count": 16,
   "metadata": {},
   "outputs": [
    {
     "output_type": "stream",
     "name": "stdout",
     "text": [
      "Number of Analytical Report  131\nNumber of Situation Report  99\nNumber of Incident Report  88\nNumber of Profile Report  100\n"
     ]
    }
   ],
   "source": [
    "# Number of items per class\n",
    "print(\"Number of Analytical Report \", len(data_input[data_input['Class'] == 'Analytical Report']))\n",
    "print(\"Number of Situation Report \", len(data_input[data_input['Class'] == 'Situation Report']))\n",
    "print(\"Number of Incident Report \", len(data_input[data_input['Class'] == 'Incident Report']))\n",
    "print(\"Number of Profile Report \", len(data_input[data_input['Class'] == 'Profile Report']))\n"
   ]
  },
  {
   "cell_type": "code",
   "execution_count": 17,
   "metadata": {},
   "outputs": [],
   "source": [
    "# Dropping the duplicate items \n",
    "data_input_dropped = data_input.drop_duplicates(keep=\"first\").reset_index(drop=True)"
   ]
  },
  {
   "cell_type": "code",
   "execution_count": 18,
   "metadata": {},
   "outputs": [
    {
     "output_type": "stream",
     "name": "stdout",
     "text": [
      "Number of Analytical Report  92\nNumber of Situation Report  98\nNumber of Incident Report  88\nNumber of Profile Report  98\n"
     ]
    }
   ],
   "source": [
    "# Number of items per class after dropping the duplicates\n",
    "print(\"Number of Analytical Report \", len(data_input_dropped[data_input_dropped['Class'] == 'Analytical Report']))\n",
    "print(\"Number of Situation Report \", len(data_input_dropped[data_input_dropped['Class'] == 'Situation Report']))\n",
    "print(\"Number of Incident Report \", len(data_input_dropped[data_input_dropped['Class'] == 'Incident Report']))\n",
    "print(\"Number of Profile Report \", len(data_input_dropped[data_input_dropped['Class'] == 'Profile Report']))\n"
   ]
  },
  {
   "cell_type": "code",
   "execution_count": 19,
   "metadata": {},
   "outputs": [
    {
     "output_type": "stream",
     "name": "stdout",
     "text": [
      "<class 'pandas.core.frame.DataFrame'>\nRangeIndex: 376 entries, 0 to 375\nData columns (total 3 columns):\n #   Column   Non-Null Count  Dtype \n---  ------   --------------  ----- \n 0   URL      376 non-null    object\n 1   Class    376 non-null    object\n 2   Content  376 non-null    object\ndtypes: object(3)\nmemory usage: 8.9+ KB\n"
     ]
    }
   ],
   "source": [
    "data_input_dropped.info()"
   ]
  },
  {
   "source": [
    "### Pre Processing the data"
   ],
   "cell_type": "markdown",
   "metadata": {}
  },
  {
   "cell_type": "code",
   "execution_count": 20,
   "metadata": {},
   "outputs": [],
   "source": [
    "# tockenizzation of the corpus \n",
    "def tokenize(corpus):\n",
    "\n",
    "    # The backslash is an escape character to let the interpreter know we mean to use it as a string literal (- or ') \n",
    "    re_punctuation_string = '[\\s,/.?\\-\\'`’]'  # split on spaces (\\s),  commas (,), slash (/), fullstop (.), question marks (?), hyphens (-), and apostrophe (').\n",
    "    tokenized = re.split(re_punctuation_string, corpus) # in python's regex, [...] is an alternative to writing .|.|.\n",
    "    tokenized = list(filter(None, tokenized)) # remove empty strings from list \n",
    "    tokenized = [token.lower() for token in tokenized] # Lowercasing everything\n",
    "    tokenized = ['<Number>' if token.isdigit() else token for token in tokenized ]  # converting all the numbers to <Number>\n",
    "\n",
    "\n",
    "    return tokenized    \n",
    "\n"
   ]
  },
  {
   "cell_type": "code",
   "execution_count": 21,
   "metadata": {},
   "outputs": [],
   "source": [
    "# function to count the tockenization\n",
    "def distinct_tokens_count(tokenized_corpus):\n",
    "\n",
    "    distinct_tokens_count = {}\n",
    "    for t_review in tokenized_corpus:\n",
    "\n",
    "        if t_review not in distinct_tokens_count.keys():\n",
    "            distinct_tokens_count[t_review] = 1\n",
    "        else:\n",
    "            distinct_tokens_count[t_review] += 1\n",
    "\n",
    "    # Sort the key value to greter to smaller\n",
    "    distinct_tokens_count = sorted(distinct_tokens_count.items(), key=itemgetter(1), reverse=True) \n",
    "\n",
    "    #for token, count in distinct_tokens_count:\n",
    "        #print(\"{:<14s} {:<10d}\".format(token, count))\n",
    "    return distinct_tokens_count\n",
    "\n"
   ]
  },
  {
   "cell_type": "code",
   "execution_count": 22,
   "metadata": {},
   "outputs": [],
   "source": [
    "# function to pre process the text and count the number of words\n",
    "def process(dataframe):\n",
    "\n",
    "    tokenized = []\n",
    "    tokens_count = []\n",
    "    for i in range(dataframe.shape[0]):\n",
    "        #print(dataframe['Content'][i])\n",
    "        #print(i)\n",
    "\n",
    "        token = tokenize(dataframe['Content'][i])\n",
    "        tokenized.append(token)\n",
    "\n",
    "        tokens_count.append(distinct_tokens_count(token))\n",
    "\n",
    "    \n",
    "    dataframe['Tokenized'] = tokenized\n",
    "    dataframe['Tokens Count'] = tokens_count\n",
    "\n",
    "    return dataframe"
   ]
  },
  {
   "cell_type": "code",
   "execution_count": 23,
   "metadata": {},
   "outputs": [
    {
     "output_type": "execute_result",
     "data": {
      "text/plain": [
       "                                                   URL              Class  \\\n",
       "0    https://issafrica.org/iss-today/time-to-tackle...  Analytical Report   \n",
       "1    http://www.understandingwar.org/backgrounder/r...  Analytical Report   \n",
       "2    http://www.understandingwar.org/backgrounder/r...  Analytical Report   \n",
       "3    http://www.understandingwar.org/backgrounder/w...  Analytical Report   \n",
       "4    http://www.understandingwar.org/backgrounder/r...  Analytical Report   \n",
       "..                                                 ...                ...   \n",
       "371                                 int-rep-o-18-e.txt   Situation Report   \n",
       "372                                 int-rep-o-18-f.txt   Situation Report   \n",
       "373                                 int-rep-o-18-g.txt   Situation Report   \n",
       "374                                 int-rep-o-18-h.txt   Situation Report   \n",
       "375  Summary of Russian press for Wednesday 29 July...   Situation Report   \n",
       "\n",
       "                                               Content  \\\n",
       "0      2020-11-25 On 26 September, hundreds of Mali...   \n",
       "1      By George Barros November 16, 2020 The Kreml...   \n",
       "2      By Ezgi Yazici November 13, 2020 Key Takeawa...   \n",
       "3      By Katherine Lawlor with Brandon Wallace Key...   \n",
       "4      By Isabel Ivanescu and Ezgi Yazici Key Takea...   \n",
       "..                                                 ...   \n",
       "371  Deputies are investigating after an explosive ...   \n",
       "372  Residents at a Springfield apartment complex w...   \n",
       "373  Several handheld explosive devices were found ...   \n",
       "374  Boulder police taped off the U.S. Bank at Broa...   \n",
       "375  By BBC Monitoring  Khabarovsk protests  Newspa...   \n",
       "\n",
       "                                             Tokenized  \\\n",
       "0    [<Number>, <Number>, <Number>, on, <Number>, s...   \n",
       "1    [by, george, barros, november, <Number>, <Numb...   \n",
       "2    [by, ezgi, yazici, november, <Number>, <Number...   \n",
       "3    [by, katherine, lawlor, with, brandon, wallace...   \n",
       "4    [by, isabel, ivanescu, and, ezgi, yazici, key,...   \n",
       "..                                                 ...   \n",
       "371  [deputies, are, investigating, after, an, expl...   \n",
       "372  [residents, at, a, springfield, apartment, com...   \n",
       "373  [several, handheld, explosive, devices, were, ...   \n",
       "374  [boulder, police, taped, off, the, u, s, bank,...   \n",
       "375  [by, bbc, monitoring, khabarovsk, protests, ne...   \n",
       "\n",
       "                                          Tokens Count  \n",
       "0    [(the, 127), (and, 83), (women, 82), (to, 70),...  \n",
       "1    [(the, 67), (<Number>, 50), (to, 44), (csto, 3...  \n",
       "2    [(the, 41), (in, 25), (to, 24), (s, 22), (and,...  \n",
       "3    [(s, 131), (the, 121), (to, 120), (<Number>, 1...  \n",
       "4    [(in, 42), (the, 37), (and, 34), (a, 23), (to,...  \n",
       "..                                                 ...  \n",
       "371  [(the, 52), (a, 43), (was, 35), (to, 25), (dev...  \n",
       "372  [(the, 64), (a, 47), (was, 27), (in, 22), (bom...  \n",
       "373  [(the, 82), (a, 67), (bomb, 30), (to, 27), (wa...  \n",
       "374  [(the, 83), (a, 77), (was, 42), (to, 36), (bom...  \n",
       "375  [(the, 103), (<Number>, 49), (of, 48), (that, ...  \n",
       "\n",
       "[376 rows x 5 columns]"
      ],
      "text/html": "<div>\n<style scoped>\n    .dataframe tbody tr th:only-of-type {\n        vertical-align: middle;\n    }\n\n    .dataframe tbody tr th {\n        vertical-align: top;\n    }\n\n    .dataframe thead th {\n        text-align: right;\n    }\n</style>\n<table border=\"1\" class=\"dataframe\">\n  <thead>\n    <tr style=\"text-align: right;\">\n      <th></th>\n      <th>URL</th>\n      <th>Class</th>\n      <th>Content</th>\n      <th>Tokenized</th>\n      <th>Tokens Count</th>\n    </tr>\n  </thead>\n  <tbody>\n    <tr>\n      <th>0</th>\n      <td>https://issafrica.org/iss-today/time-to-tackle...</td>\n      <td>Analytical Report</td>\n      <td>2020-11-25 On 26 September, hundreds of Mali...</td>\n      <td>[&lt;Number&gt;, &lt;Number&gt;, &lt;Number&gt;, on, &lt;Number&gt;, s...</td>\n      <td>[(the, 127), (and, 83), (women, 82), (to, 70),...</td>\n    </tr>\n    <tr>\n      <th>1</th>\n      <td>http://www.understandingwar.org/backgrounder/r...</td>\n      <td>Analytical Report</td>\n      <td>By George Barros November 16, 2020 The Kreml...</td>\n      <td>[by, george, barros, november, &lt;Number&gt;, &lt;Numb...</td>\n      <td>[(the, 67), (&lt;Number&gt;, 50), (to, 44), (csto, 3...</td>\n    </tr>\n    <tr>\n      <th>2</th>\n      <td>http://www.understandingwar.org/backgrounder/r...</td>\n      <td>Analytical Report</td>\n      <td>By Ezgi Yazici November 13, 2020 Key Takeawa...</td>\n      <td>[by, ezgi, yazici, november, &lt;Number&gt;, &lt;Number...</td>\n      <td>[(the, 41), (in, 25), (to, 24), (s, 22), (and,...</td>\n    </tr>\n    <tr>\n      <th>3</th>\n      <td>http://www.understandingwar.org/backgrounder/w...</td>\n      <td>Analytical Report</td>\n      <td>By Katherine Lawlor with Brandon Wallace Key...</td>\n      <td>[by, katherine, lawlor, with, brandon, wallace...</td>\n      <td>[(s, 131), (the, 121), (to, 120), (&lt;Number&gt;, 1...</td>\n    </tr>\n    <tr>\n      <th>4</th>\n      <td>http://www.understandingwar.org/backgrounder/r...</td>\n      <td>Analytical Report</td>\n      <td>By Isabel Ivanescu and Ezgi Yazici Key Takea...</td>\n      <td>[by, isabel, ivanescu, and, ezgi, yazici, key,...</td>\n      <td>[(in, 42), (the, 37), (and, 34), (a, 23), (to,...</td>\n    </tr>\n    <tr>\n      <th>...</th>\n      <td>...</td>\n      <td>...</td>\n      <td>...</td>\n      <td>...</td>\n      <td>...</td>\n    </tr>\n    <tr>\n      <th>371</th>\n      <td>int-rep-o-18-e.txt</td>\n      <td>Situation Report</td>\n      <td>Deputies are investigating after an explosive ...</td>\n      <td>[deputies, are, investigating, after, an, expl...</td>\n      <td>[(the, 52), (a, 43), (was, 35), (to, 25), (dev...</td>\n    </tr>\n    <tr>\n      <th>372</th>\n      <td>int-rep-o-18-f.txt</td>\n      <td>Situation Report</td>\n      <td>Residents at a Springfield apartment complex w...</td>\n      <td>[residents, at, a, springfield, apartment, com...</td>\n      <td>[(the, 64), (a, 47), (was, 27), (in, 22), (bom...</td>\n    </tr>\n    <tr>\n      <th>373</th>\n      <td>int-rep-o-18-g.txt</td>\n      <td>Situation Report</td>\n      <td>Several handheld explosive devices were found ...</td>\n      <td>[several, handheld, explosive, devices, were, ...</td>\n      <td>[(the, 82), (a, 67), (bomb, 30), (to, 27), (wa...</td>\n    </tr>\n    <tr>\n      <th>374</th>\n      <td>int-rep-o-18-h.txt</td>\n      <td>Situation Report</td>\n      <td>Boulder police taped off the U.S. Bank at Broa...</td>\n      <td>[boulder, police, taped, off, the, u, s, bank,...</td>\n      <td>[(the, 83), (a, 77), (was, 42), (to, 36), (bom...</td>\n    </tr>\n    <tr>\n      <th>375</th>\n      <td>Summary of Russian press for Wednesday 29 July...</td>\n      <td>Situation Report</td>\n      <td>By BBC Monitoring  Khabarovsk protests  Newspa...</td>\n      <td>[by, bbc, monitoring, khabarovsk, protests, ne...</td>\n      <td>[(the, 103), (&lt;Number&gt;, 49), (of, 48), (that, ...</td>\n    </tr>\n  </tbody>\n</table>\n<p>376 rows × 5 columns</p>\n</div>"
     },
     "metadata": {},
     "execution_count": 23
    }
   ],
   "source": [
    "data_processed = process(data_input_dropped)      \n",
    "\n",
    "data_processed"
   ]
  },
  {
   "cell_type": "code",
   "execution_count": null,
   "metadata": {},
   "outputs": [],
   "source": []
  },
  {
   "cell_type": "code",
   "execution_count": 55,
   "metadata": {},
   "outputs": [
    {
     "output_type": "stream",
     "name": "stdout",
     "text": [
      "{'one': 5, 'three': 2, 'five': 1, 'two': 10, 'four': 8}\n[('two', 10), ('four', 8), ('one', 5), ('three', 2), ('five', 1)]\n"
     ]
    }
   ],
   "source": []
  },
  {
   "source": [
    "Pre trained BERT models\n",
    "\n",
    "https://pypi.org/project/pytorch-pretrained-bert/\n",
    "\n",
    "https://pytorch.org/hub/huggingface_pytorch-transformers/\n",
    "\n",
    "https://medium.com/@aniruddha.choudhury94/part-2-bert-fine-tuning-tutorial-with-pytorch-for-text-classification-on-the-corpus-of-linguistic-18057ce330e1\n"
   ],
   "cell_type": "markdown",
   "metadata": {}
  }
 ]
}